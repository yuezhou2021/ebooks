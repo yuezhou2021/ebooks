{
 "cells": [
  {
   "cell_type": "markdown",
   "id": "9034f8b4",
   "metadata": {},
   "source": [
    "# 第09章 方差估计与回归分析"
   ]
  },
  {
   "cell_type": "markdown",
   "id": "e555eaef",
   "metadata": {},
   "source": [
    "---"
   ]
  },
  {
   "cell_type": "markdown",
   "id": "4cf0448a",
   "metadata": {},
   "source": [
    "## 序言"
   ]
  },
  {
   "cell_type": "markdown",
   "id": "9e1b5ddf",
   "metadata": {},
   "source": [
    "### 1.内容介绍\n",
    "\n",
    "&emsp;&emsp;本章详细介绍了单因素试验的方差分析、双因素试验的方差分析、一元线性回归与多元线性回归之间的关系等定义，并对其原理与例题进行了一一阐述\n",
    "\n",
    "### 2.理论目标\n",
    "\n",
    "- 掌握单因素试验中平方和的分解及其对应统计特性\n",
    "- 掌握假设检验问题的拒绝域与未知参数的估计\n",
    "- 掌握双因素等重复试验的方差分析\n",
    "- 掌握双因素无重复试验的方差分析\n",
    "- 掌握一元线性回归系数的最大似然估计、方差的估计、线性假设的显著性检验与置信区间的估计\n",
    "- 掌握多元线性回归方程组的求解\n",
    "\n",
    "### 3.实践目标\n",
    "\n",
    "- 无\n",
    "\n",
    "### 4.实践案例\n",
    "\n",
    "- 无\n",
    "\n",
    "### 5.内容目录\n",
    "\n",
    "- 1.单因素试验的方差分析\n",
    "- 2.双因素试验的方差分析\n",
    "- 3.一元线性回归\n",
    "- 4.多元线性回归"
   ]
  },
  {
   "cell_type": "markdown",
   "id": "4f41d8ba",
   "metadata": {},
   "source": [
    "---"
   ]
  },
  {
   "cell_type": "markdown",
   "id": "eeacf598",
   "metadata": {},
   "source": [
    "&emsp;&emsp;在科学试验和生产实践中，影响一事物的因素往往是很多的，例如在化工生产中，有原料成分、原料剂量、催化剂、反应温度、压力、溶液浓度、反应时间、机器设备及操作人员的水平等因素. 每一因素的改变都有可能影响产品的数量和质量，为了使生产过程得以稳定，保证优质、高产，就有必要找出对产品质量有显著影响的那些因素，**方差分析** 就是根据试验的结果进行分析，鉴别各个有关因素对试验结果影响的有效方法"
   ]
  },
  {
   "cell_type": "markdown",
   "id": "5f575733",
   "metadata": {},
   "source": [
    "## 第01节 单因素试验的方差分析"
   ]
  },
  {
   "cell_type": "markdown",
   "id": "893cc4fc",
   "metadata": {},
   "source": [
    "### 1.1 单因素试验"
   ]
  },
  {
   "cell_type": "markdown",
   "id": "d2d0a88c",
   "metadata": {},
   "source": [
    "&emsp;&emsp;在试验中，将要考察的指标称为 **试验指标**，影响试验指标的条件称为 **因素**，因素分为可以控制的可控因素和不能控制的，例如反应温度、原料剂量、溶液浓度等是可以控制的，而测量误差、气象条件等一般是难以控制的，因素所处的状态，称为该因素的 **水平**，如果在一项试验的过程中只有一个因素在改变称为 **单因素试验**，如果多于一个因素在改变称为 **多因素试验**"
   ]
  },
  {
   "cell_type": "markdown",
   "id": "2124caba",
   "metadata": {},
   "source": [
    "- **例1** 设有三台机器，用来生产规格相同的铝合金薄板，取样测量薄板的厚度精确至千分之一厘米，得结果如下表所示\n",
    "\n",
    "<table border=0 cellpadding=0 cellspacing=0 width=990 style='border-collapse:\n",
    " collapse;table-layout:auto;'>\n",
    " <col span=3>\n",
    " <tr height=18>\n",
    "  <td style='text-align: center;'><strong>机器 $\\mathrm{I}$</strong></td>\n",
    "  <td style='text-align: center;'><strong>机器 $\\mathrm{II}$</strong></td>\n",
    "  <td style='text-align: center;'><strong>机器 $\\mathrm{III}$</strong></td>\n",
    " </tr>\n",
    " <tr height=18>\n",
    "  <td style='text-align: center;'>$0.236$</td>\n",
    "  <td style='text-align: center;'>$0.257$</td>\n",
    "  <td style='text-align: center;'>$0.258$</td>\n",
    " </tr>\n",
    " <tr height=18>\n",
    "  <td style='text-align: center;'>$0.238$</td>\n",
    "  <td style='text-align: center;'>$0.253$</td>\n",
    "  <td style='text-align: center;'>$0.264$</td>\n",
    " </tr>\n",
    " <tr height=18>\n",
    "  <td style='text-align: center;'>$0.248$</td>\n",
    "  <td style='text-align: center;'>$0.255$</td>\n",
    "  <td style='text-align: center;'>$0.259$</td>\n",
    " </tr>\n",
    " <tr height=18>\n",
    "  <td style='text-align: center;'>$0.245$</td>\n",
    "  <td style='text-align: center;'>$0.254$</td>\n",
    "  <td style='text-align: center;'>$0.267$</td>\n",
    " </tr>\n",
    " <tr height=18>\n",
    "  <td style='text-align: center;'>$0.243$</td>\n",
    "  <td style='text-align: center;'>$0.261$</td>\n",
    "  <td style='text-align: center;'>$0.262$</td>\n",
    " </tr>\n",
    "</table>\n",
    "\n",
    "> 这里试验的指标是薄板的厚度，机器为因累，不同的三台机器就是这个因素的三个不同的水平. 假定除机器这一因素外，材料的规格、操作人员的水平等其他条件都相同，即 **单因素试验**，试验的目的是为了考察各台机器所生产的薄板的厚度有无显著的差异，即考察机器这一因素对厚度有无显著的影响：如果厚度有显著差异，就表明机器这一因素对厚度的影响是显著的"
   ]
  },
  {
   "cell_type": "markdown",
   "id": "6665741f",
   "metadata": {},
   "source": [
    "&emsp;&emsp;**例1** 中在因素的每一个水平下进行独立试验，其结果是一个样本，表中数据可看成来自三个不同总体的样本值，将各个总体的均值依次记为 $\\mu_1,\\mu_2,\\mu_3$，按题意需检验假设 <br><br>\n",
    "<center>$H_0:\\mu_1=\\mu_2=\\mu_3,\\quad H_1:\\mu_1\\ne\\mu_2\\ne\\mu_3$</center><br>\n",
    "\n",
    "进而假设各总体均为正态变量，且各总体的方差相等，但参数均未知，那么这是一个检验同方差的多个正态总体均值是否相等的问题，**方差分析法** 就是解决这类问题的一种统计方法 <br><br>\n",
    "<center>$\\downarrow$</center>"
   ]
  },
  {
   "cell_type": "markdown",
   "id": "83642210",
   "metadata": {},
   "source": [
    "&emsp;&emsp;设因素 $A$ 有 $s$ 个水平 $A_1,A_2,\\dots,A_s$，在水平 $A_j\\;(j=1,2,\\dots,s)$ 下，进行 $n_j\\;(n_j\\ge2)$ 次独立试验，可得到下表结果\n",
    "\n",
    "<table border=0 cellpadding=0 cellspacing=0 width=990 style='border-collapse:\n",
    " collapse;table-layout:auto;'>\n",
    " <col span=5>\n",
    " <tr height=18>\n",
    "  <td style='text-align: center;'><strong>水平</strong></td>\n",
    "  <td style='text-align: center;'><strong>$A_1$</strong></td>\n",
    "  <td style='text-align: center;'><strong>$A_2$</strong></td>\n",
    "  <td style='text-align: center;'><strong>$\\dots$</strong></td>\n",
    "  <td style='text-align: center;'><strong>$A_s$</strong></td>\n",
    " </tr>\n",
    " <tr height=18>\n",
    "  <td rowspan=4 style='text-align: center;'><strong>观测结果</strong></td>\n",
    "  <td style='text-align: center;'>$X_{11}$</td>\n",
    "  <td style='text-align: center;'>$X_{12}$</td>\n",
    "  <td style='text-align: center;'>$\\dots$</td>\n",
    "  <td style='text-align: center;'>$X_{1s}$</td>\n",
    " </tr>\n",
    " <tr height=18>\n",
    "  <td style='text-align: center;'>$X_{21}$</td>\n",
    "  <td style='text-align: center;'>$X_{22}$</td>\n",
    "  <td style='text-align: center;'>$\\dots$</td>\n",
    "  <td style='text-align: center;'>$X_{2s}$</td>\n",
    " </tr>\n",
    " <tr height=18>\n",
    "  <td style='text-align: center;'>$\\vdots$</td>\n",
    "  <td style='text-align: center;'>$\\vdots$</td>\n",
    "  <td style='text-align: center;'></td>\n",
    "  <td style='text-align: center;'>$\\vdots$</td>\n",
    " </tr>\n",
    " <tr height=18>\n",
    "  <td style='text-align: center;'>$X_{n_11}$</td>\n",
    "  <td style='text-align: center;'>$X_{n_22}$</td>\n",
    "  <td style='text-align: center;'>$\\dots$</td>\n",
    "  <td style='text-align: center;'>$X_{n_ss}$</td>\n",
    " </tr>\n",
    " <tr height=18>\n",
    "  <td style='text-align: center;'><strong>样本总和</strong></td>\n",
    "  <td style='text-align: center;'>$T_{.1}$</td>\n",
    "  <td style='text-align: center;'>$T_{.1}$</td>\n",
    "  <td style='text-align: center;'>$\\dots$</td>\n",
    "  <td style='text-align: center;'>$T_{.1}$</td>\n",
    " </tr>\n",
    " <tr height=18>\n",
    "  <td style='text-align: center;'><strong>样本均值</strong></td>\n",
    "  <td style='text-align: center;'>$\\bar{X}_{.1}$</td>\n",
    "  <td style='text-align: center;'>$\\bar{X}_{.2}$</td>\n",
    "  <td style='text-align: center;'>$\\dots$</td>\n",
    "  <td style='text-align: center;'>$\\bar{X}_{.s}$</td>\n",
    " </tr>\n",
    " <tr height=18>\n",
    "  <td style='text-align: center;'><strong>总体均值</strong></td>\n",
    "  <td style='text-align: center;'>$\\mu_1$</td>\n",
    "  <td style='text-align: center;'>$\\mu_2$</td>\n",
    "  <td style='text-align: center;'>$\\dots$</td>\n",
    "  <td style='text-align: center;'>$\\mu_s$</td>\n",
    " </tr>\n",
    "</table>"
   ]
  },
  {
   "cell_type": "markdown",
   "id": "ddf461d6",
   "metadata": {},
   "source": [
    "&emsp;&emsp;假定各个水平 $A_j\\;(j=1,2,\\dots,s)$ 下的样本 $X_{1j},X_{2j},\\dots,X_{n_jj}$ 来自具有相同方差 $\\sigma^2$，均值分别为 $\\mu_j\\;(j=1,2,\\dots,s)$ 的正态分布 $N(\\mu_j,\\sigma^2)$，$\\mu_j$ 与 $\\sigma^2$ 未知且设不同水平 $A_j$ 下的样本之间相互独立，由于 $X_{ij}\\backsim N(\\mu_j,\\sigma^2)$，即有 $X_{ij}-\\mu_j\\backsim N(0,\\sigma^2)$，故 $X_{ij}-\\mu_j$ 可看成是 **随机误差**，记 $(X_{ij}-\\mu_j)=\\epsilon_{ij}$，则 $X_{ij}$ 可写成 <br><br>\n",
    "<center>$X_{ij}=\\mu_j+\\epsilon_{ij}$</center><br>\n",
    "<center>$\\epsilon_{ij}\\backsim N(0,\\sigma^2)$，各 $\\epsilon_{ij}$ 独立</center><br>\n",
    "<center>$i=1,2,\\dots,n_j\\quad j=1,2,\\dots,s$</center><br>\n",
    "\n",
    "&emsp;&emsp;其中 $\\mu_j$ 与 $\\sigma^2$ 均为未知参数，上式被称为 **单因素试验方差分析的数学模型**，其分析任务包括\n",
    "- 检验 $s$ 个总体 $N(\\mu_1,\\sigma^2),\\dots,N(\\mu_s,\\sigma^2)$ 的均值是否相等\n",
    "- 估计未知参数 $\\mu_1,\\mu_2,\\dots,\\mu_s,\\sigma^2$ 的值\n",
    "\n",
    "&emsp;&emsp;将 $\\mu_1,\\mu_2,\\dots,\\mu_s$ 的加权平均值 $\\dfrac{1}{n}\\sum\\limits^{s}_{j=1}n_j\\mu_j$ 记为 $\\mu$，即 $\\mu=\\dfrac{1}{n}\\sum\\limits^{s}_{j=1}n_j\\mu_j$，其中 $n=\\sum\\limits^{s}_{j=1}n_j$，$\\mu$ 称为 **总平均**，再引入 <br><br>\n",
    "<center>$\\delta_j=\\mu_j-\\mu,\\quad j=1,2,\\dots,s$</center>\n",
    "\n",
    "> 此时有 $n_1\\delta_1+n_2\\delta_2+\\dots+n_s\\delta_s=0$，$\\delta_j$ 表示水平 $A_j$ 下的总体平均值与总平均的差异，习惯上将 $\\delta_j$ 称为水平 $A_j$ 的 **效应**\n",
    "\n",
    "&emsp;&emsp;利用这些记号，方差分析的数学模型可改写成 <br><br>\n",
    "<center>$X_{ij}=\\mu+\\delta_j+\\epsilon_{ij}$</center><br>\n",
    "<center>$\\epsilon_{ij}\\backsim N(0,\\sigma^2)$，各 $\\epsilon_{ij}$ 独立</center><br>\n",
    "<center>$i=1,2,\\dots,n_j\\quad j=1,2,\\dots,s$</center><br>\n",
    "<center>$\\sum\\limits^{s}_{j=1}n_j\\delta_j=0$</center><br>\n",
    "&emsp;&emsp;原假设 $H_0:\\mu_1=\\mu_2=\\mu_3$，$H_1:\\mu_1\\ne\\mu_2\\ne\\mu_3$ 也等价于假设 <br><br>\n",
    "<center>$H_0:\\delta_1=\\delta_2=\\dots=\\delta_s=0,\\quad H_1:\\delta_1\\ne\\delta_2\\dots\\ne\\delta_s$</center><br>"
   ]
  },
  {
   "cell_type": "markdown",
   "id": "f6a077fd",
   "metadata": {},
   "source": [
    "### 1.2 平方和的分解"
   ]
  },
  {
   "cell_type": "markdown",
   "id": "9ed055d8",
   "metadata": {},
   "source": [
    "&emsp;&emsp;引入 **总偏差平方和** $S_T=\\sum\\limits^{s}_{j=1}\\sum\\limits^{n_j}_{i=1}(X_{ij}-\\bar{X})^2$，其中 $\\bar{X}=\\dfrac{1}{n}\\sum\\limits^{s}_{j=1}\\sum\\limits^{n_j}_{i=1}X_{ij}$ 是数据的总平均，$S_T$ 能反映全部试验数据之间的差异，因此 $S_T$ 又称为总变差，又记水平 $A_j$ 下的样本平均值为 $\\bar{X}\\_{.j}$，即 $\\bar{X}_{.j}=\\dfrac{1}{n_j}\\sum\\limits^{1}_{n_j}X_{ij}$，将 $S_T$ 写成 <br><br>\n",
    "<center>$S_T=\\sum\\limits^{s}_{j=1}\\sum\\limits^{n_j}_{i=1}[(X_{ij}-\\bar{X}_{.j})+(\\bar{X}_{.j}-\\bar{X})]^2$</center><br>\n",
    "<center>$=\\sum\\limits^{s}_{j=1}\\sum\\limits^{n_j}_{i=1}(X_{ij}-\\bar{X}_{.j})^2+\\sum\\limits^{s}_{j=1}\\sum\\limits^{n_j}_{i=1}(\\bar{X}_{.j}-\\bar{X})^2+2\\sum\\limits^{s}_{j=1}\\sum\\limits^{n_j}_{i=1}(X_{ij}-\\bar{X}_{.j})(\\bar{X}_{.j}-\\bar{X})$</center><br>\n",
    "\n",
    "&emsp;&emsp;因为上式中的交叉项 $2\\sum\\limits^{s}_{j=1}\\sum\\limits^{n_j}_{i=1}(X_{ij}-\\bar{X}_{.j})(\\bar{X}_{.j}-\\bar{X})=2\\sum\\limits^{s}_{j=1}(\\bar{X}_{.j}-\\bar{X})[\\sum\\limits^{n_j}_{i=1}(X_{ij}-\\bar{X}_{.j})]=2\\sum\\limits^{s}_{j=1}(\\bar{X}_{.j}-\\bar{X})(\\sum\\limits^{n_j}_{i=1}X_{ij}-n_j\\bar{X}_{.j})=0$，于是可以把 $S_T$ 分解为 <br><br>\n",
    "<center>$S_T=S_E+S_A$</center><br>\n",
    "<center>$S_E=\\sum\\limits^{s}_{j=1}\\sum\\limits^{n_j}_{i=1}(X_{ij}-\\bar{X}_{.j})^2$</center><br>\n",
    "<center>$S_A=\\sum\\limits^{s}_{j=1}\\sum\\limits^{n_j}_{i=1}(\\bar{X}_{.j}-\\bar{X})^2=\\sum\\limits^{s}_{j=1}n_j(\\bar{X^2}_{.j}-\\bar{X^2})^2$</center><br>\n",
    "\n",
    "- $S_E$ 的各项 $(X_{ij}-\\bar{X}_{.j})^2$ 表示在水平 $A_j$ 下，样本观察值与样本均值的差异，这是由随机误差所引起的，所以 $S_E$ 叫做 **误差平方和**\n",
    "\n",
    "- $S_A$ 的各项 $n_j(\\bar{X^2}_{.j}-\\bar{X^2})^2$ 表示在水平 $A_j$ 下，样本平均值与数据总平均的差异，这是由水平 $A_j$ 的效应的差异以及随机误差引起的，所以 $S_A$ 叫做因素 $A$ 的 **效应平方和**"
   ]
  },
  {
   "cell_type": "markdown",
   "id": "c020c4bd",
   "metadata": {},
   "source": [
    "### 1.3 $S_E$ 与 $S_A$ 的统计特性"
   ]
  },
  {
   "cell_type": "markdown",
   "id": "3b7a3ecc",
   "metadata": {},
   "source": [
    "#### 1.3.1 $S_E$ 的统计特性"
   ]
  },
  {
   "cell_type": "markdown",
   "id": "006a9f12",
   "metadata": {},
   "source": [
    "&emsp;&emsp;为了得到检验问题 $H_0:\\delta_1=\\delta_2=\\dots=\\delta_s=0$，$H_1:\\delta_1\\ne\\delta_2\\dots\\ne\\delta_s$ 的检验统计量，先将 $S_E$ 改写成 <br><br> \n",
    "<center>$S_E=\\sum\\limits^{n_1}_{i=1}(X_{i1}-\\bar{X}_{.1})^2+\\dots+\\sum\\limits^{n_s}_{i=1}(X_{is}-\\bar{X}_{.s})^2$</center><br>\n",
    "注意到 $\\sum\\limits^{n_j}_{i=1}(X_{ij}-\\bar{X}_{.j})^2$ 是总体 $N(\\mu,\\sigma^2)$ 的样本方差的 $n_j-1$ 倍，于是有 $\\dfrac{\\sum\\limits^{n_j}_{i=1}(X_{ij}-\\bar{X}_{.j})^2}{\\sigma^2}\\backsim\\chi^2(n_j-1)$，因各 $X_{ij}$ 相互独立，$S_E$ 的展开式中各平方和相互独立，由 $\\chi^2$ 分布的可加性可知 <br><br>\n",
    "<center>$\\dfrac{S_E}{\\sigma^2}\\backsim\\chi^2\\big(\\sum\\limits^{s}_{j=1}(n_j-1)\\big)\\quad\\to\\quad\\dfrac{S_E}{\\sigma^2}\\backsim\\chi^2(n-s)$</center><br>\n",
    "\n",
    "> 这里 $n=\\sum\\limits^{s}_{j=1}n_j$，$S_E$ 的自由度为 $n-s$ 且有 $E(S_E)=(n-s)\\sigma^2$"
   ]
  },
  {
   "cell_type": "markdown",
   "id": "3a35e95b",
   "metadata": {},
   "source": [
    "#### 1.3.2 $S_A$ 的统计特性"
   ]
  },
  {
   "cell_type": "markdown",
   "id": "06692e9a",
   "metadata": {},
   "source": [
    "&emsp;&emsp;对于 $S_A$ 的统计特性，由于 $S_A$ 是 $s$ 个变量 $\\sqrt{n_j}(\\bar{X}._j-\\bar{X})\\;(j=1,2,\\dots,s)$ 的平方和，它们之间仅有一个 **线性约束条件** <br><br>\n",
    "<center>$\\sum\\limits^{s}_{j=1}\\sqrt{n_j}[\\sqrt{n_j}(\\bar{X}._j-\\bar{X})]=\\sum\\limits^{s}_{j=1}n_j(\\bar{X}._j-\\bar{X})=\\sum\\limits^{s}_{j=1}\\sum\\limits^{n_j}_{i=1}X_{ij}-n\\bar{X}=0$</center><br>\n",
    "故知 $S_A$ 的自由度是 $s-1$，再由 $X_{ij}$ 的独立性可知 $\\bar{X}\\backsim N(\\mu,\\dfrac{\\sigma^2}{n})$，即得 <br><br>\n",
    "<center>$E(S_A)=E[\\sum\\limits^{s}_{j=1}n_j\\bar{X^2}._j-n\\bar{X^2}]=\\sum\\limits^{s}_{j=1}n_jE(\\bar{X^2}._j)-nE(\\bar{X^2})$</center><br>\n",
    "<center>$=\\sum\\limits^{s}_{j=1}n_j[\\dfrac{\\sigma^2}{n_j}+(\\mu+\\delta_j)^2]-n(\\dfrac{\\sigma^2}{n}+\\mu^2)$</center><br>\n",
    "<center>$=(s-1)\\sigma^2+2\\mu\\sum\\limits^{s}_{j=1}n_j\\delta_j+n\\mu^2+\\sum\\limits^{s}_{j=1}n_j\\delta^2_j-n\\mu^2$</center><br>\n",
    "&emsp;&emsp;由式 $\\sum\\limits^{s}_{j=1}n_j\\delta_j=0$ 可知 <br><br>\n",
    "<center>$E(S_A)=(s-1)\\delta^2+\\sum\\limits^{s}_{j=1}n_j\\delta^2_j$</center><br>\n",
    "\n",
    "> 进一步还可以证明 $S_A$ 与 $S_E$ 独立，且当 $H_0$ 为真时 $\\dfrac{S_A}{\\sigma^2}\\backsim\\chi^2(s-1)$"
   ]
  },
  {
   "cell_type": "markdown",
   "id": "d2d4cfa6",
   "metadata": {},
   "source": [
    "### 1.4 假设检验问题的拒绝域"
   ]
  },
  {
   "cell_type": "markdown",
   "id": "98a31a3c",
   "metadata": {},
   "source": [
    "&emsp;&emsp;当 $H_0$ 为真时，$E(\\dfrac{S_A}{s-1})=\\sigma^2$，即 $\\dfrac{S_A}{s-1}$ 是 $\\sigma^2$ 的 **无偏估计**，而当 $H_1$ 为真时，$\\sum\\limits^{s}_{j=1}n_j\\delta^2_j>0$，此时 <br><br>\n",
    "<center>$E(\\dfrac{S_A}{s-1})=\\sigma^2+\\dfrac{1}{s-1}\\sum\\limits^{s}_{j=1}n_j\\delta^2_j>\\sigma^2$</center><br>\n",
    "\n",
    "由 $S_E$ 的自由度可知 $E(\\dfrac{S_E}{n-s})=\\sigma^2$，即不管 $H_0$ 是否为真，$\\dfrac{S_E}{n-s}$ 都是 $\\sigma^2$ 的无偏估计，分式 $F=\\dfrac{S_A/(s-1)}{S_E/(n-s)}$ 的分子与分母独立，分母 $\\dfrac{S_E}{n-s}$ 不论 $H_0$ 是否为真，其数学期望 **总是** $\\sigma^2$：当 $H_0$ 为真时，分子的数学期望为 $\\sigma^2$，当 $H_0$ 不真时，分子的取值有偏大的趋势，故原始检验的拒绝域具有形式 <br><br>\n",
    "<center>$F=\\dfrac{S_A/(s-1)}{S_E/(n-s)}\\ge k$</center><br>\n",
    "\n",
    "其中 $k$ 由预先给定的显著性水平 $a$ 确定，由 $S_E$ 与 $S_A$ 的 **独立性** 可知当 $H_0$ 为真时 <br><br>\n",
    "<center>$\\dfrac{S_A/(s-1)}{S_E/(n-s)}=\\dfrac{S_A/\\sigma^2}{s-1}\\big/\\dfrac{S_E/\\sigma^2}{n-s}\\backsim F(s-1,n-s)$</center><br>\n",
    "由此得检验问题 $H_0:\\delta_1=\\delta_2=\\dots=\\delta_s=0$，$H_1:\\delta_1\\ne\\delta_2\\dots\\ne\\delta_s$ 的拒绝域为 <br><br>\n",
    "<center>$F=\\dfrac{S_A/(s-1)}{S_E/(n-s)}\\ge F_a(s-1,n-s)$</center>"
   ]
  },
  {
   "cell_type": "markdown",
   "id": "0a559cd4",
   "metadata": {},
   "source": [
    "&emsp;&emsp;结合上述所得的分析结果可排成表的形式，称为单因素试验 **方差分析表**\n",
    "\n",
    "<table border=0 cellpadding=0 cellspacing=0 width=990 style='border-collapse:\n",
    " collapse;table-layout:auto;'>\n",
    " <col span=5>\n",
    " <tr height=18>\n",
    "  <td style='text-align: center;'><strong>方差来源</strong></td>\n",
    "  <td style='text-align: center;'><strong>平方和</strong></td>\n",
    "  <td style='text-align: center;'><strong>自由度</strong></td>\n",
    "  <td style='text-align: center;'><strong>均方</strong></td>\n",
    "  <td style='text-align: center;'><strong>$F$ 比</strong></td>\n",
    " </tr>\n",
    " <tr height=18>\n",
    "  <td style='text-align: center;'><strong>因素 $A$</strong></td>\n",
    "  <td style='text-align: center;'>$S_A$</td>\n",
    "  <td style='text-align: center;'>$s-1$</td>\n",
    "  <td style='text-align: center;'>$\\bar{S}_A=\\dfrac{S_A}{s-1}$</td>\n",
    "  <td style='text-align: center;'>$F=\\dfrac{\\bar{S}_A}{\\bar{S}_E}$</td>\n",
    " </tr>\n",
    " <tr height=18>\n",
    "  <td style='text-align: center;'><strong>误差</strong></td>\n",
    "  <td style='text-align: center;'>$S_E$</td>\n",
    "  <td style='text-align: center;'>$n-s$</td>\n",
    "  <td style='text-align: center;'>$\\bar{S}_E=\\dfrac{S_E}{n-s}$</td>\n",
    " </tr>\n",
    " <tr height=18>\n",
    "  <td style='text-align: center;'><strong>总和</strong></td>\n",
    "  <td style='text-align: center;'>$S_T$</td>\n",
    "  <td style='text-align: center;'>$n-1$</td>\n",
    " </tr>\n",
    "</table>\n",
    "\n",
    "> 表中 $\\bar{S}_A=\\dfrac{S_A}{s-1}$，$\\bar{S}_E=\\dfrac{S_E}{n-s}$ 分别称为 $S_A$，$S_E$ 的 **均方**，另外因在 $S_T$ 中 $n$ 个变量 $X_{ij}-\\bar{X}$ 之间仅满足一个约束条件，故 $S_T$ 的自由度为 $n-1$"
   ]
  },
  {
   "cell_type": "markdown",
   "id": "9392347d",
   "metadata": {},
   "source": [
    "<div class=\"alert alert-danger\" role=\"alert\"><span class=\"label label-warning\">例题</span> 设例 $1$ 符合方差分析数学模型的条件，在 $a=0.05$ 的显著性水平下，检验假设 $H_0:\\mu_1=\\mu_2=\\mu_3$，$H_1:\\mu_1\\ne\\mu_2\\ne\\mu_3$</div>\n",
    "\n",
    "&emsp;&emsp;现有 $s=3,n_1=n_2=n_3=5,n=15$，可知 <br><br>\n",
    "<center>$S_T=\\sum\\limits^{3}_{j=1}\\sum\\limits^{5}_{i=1}X^2_{ij}-\\dfrac{T^2..}{15}=0.963912-\\dfrac{3.8^2}{15}=0.001245{15}$</center><br>\n",
    "<center>$S_A=\\sum\\limits^{3}_{j=1}\\dfrac{T^2_{.j}}{n_j}-\\dfrac{T^2_{..}}{n}=\\dfrac{1}{5}(1.21^2+1.28^2+1.31^2)-3.8^2/15=0.001053$</center><br>\n",
    "<center>$S_E=S_T-S_A=0.000192$</center>\n",
    "\n",
    "<table border=0 cellpadding=0 cellspacing=0 width=990 style='border-collapse:\n",
    " collapse;table-layout:auto;'>\n",
    " <col span=5>\n",
    " <tr height=18>\n",
    "  <td style='text-align: center;'><strong>方差来源</strong></td>\n",
    "  <td style='text-align: center;'><strong>平方和</strong></td>\n",
    "  <td style='text-align: center;'><strong>自由度</strong></td>\n",
    "  <td style='text-align: center;'><strong>均方</strong></td>\n",
    "  <td style='text-align: center;'><strong>$F$ 比</strong></td>\n",
    " </tr>\n",
    " <tr height=18>\n",
    "  <td style='text-align: center;'><strong>因素 $A$</strong></td>\n",
    "  <td style='text-align: center;'>$0.001053$</td>\n",
    "  <td style='text-align: center;'>$2$</td>\n",
    "  <td style='text-align: center;'>$0.000526$</td>\n",
    "  <td style='text-align: center;'>$32.92$</td>\n",
    " </tr>\n",
    " <tr height=18>\n",
    "  <td style='text-align: center;'><strong>误差</strong></td>\n",
    "  <td style='text-align: center;'>$0.000192$</td>\n",
    "  <td style='text-align: center;'>$12$</td>\n",
    "  <td style='text-align: center;'>$0.000016$</td>\n",
    " </tr>\n",
    " <tr height=18>\n",
    "  <td style='text-align: center;'><strong>总和</strong></td>\n",
    "  <td style='text-align: center;'>$0.001245$</td>\n",
    "  <td style='text-align: center;'>$14$</td>\n",
    " </tr>\n",
    "</table>\n",
    "\n",
    "&emsp;&emsp;因 $F_{0.05}(2,12)=3.89<32.92$，故在显著性水平 $0.05$ 下拒绝 $H_0$，认为各台机器生产的薄板厚度有显著的差异"
   ]
  },
  {
   "cell_type": "markdown",
   "id": "8e8183f7",
   "metadata": {},
   "source": [
    "### 1.5 未知参数的估计 "
   ]
  },
  {
   "cell_type": "markdown",
   "id": "059d4790",
   "metadata": {},
   "source": [
    "&emsp;&emsp;已知不管 $H_0$ 是否为真，$\\hat{\\sigma^2}=\\dfrac{S_E}{n-s}$ 是 $\\sigma^2$ 的无偏估计，又知 $E(\\bar{X})=\\mu$，$E(\\bar{X}_{ij})=\\dfrac{1}{n_j}\\sum\\limits^{n_j}_{i=1}E(X_{ij})=\\mu_j$，$j=1,2,\\dots,s$，故 $\\hat{\\mu}=\\bar{X}$，$\\hat{\\mu}_j=\\bar{X}_{.j}$ 分别是 $\\mu$，$\\mu_j$ 的无偏估计\n",
    "\n",
    "&emsp;&emsp;若拒绝 $H_0$，意味着效应 $\\delta_1,\\delta_2,\\dots,\\delta_s$ 不全为 $0$，由于 $\\delta_j=\\mu_j-\\mu$，$j=1,2,\\dots,s$，可知 $\\hat{\\delta}_j=\\bar{X}_{.j}-\\bar{X}$ 是 $\\delta_j$ 的无偏估计，另外可得到关系式 $\\sum\\limits^{s}_{j=1}n_j\\hat{\\delta}_j=\\sum\\limits^{s}_{j=1}n_j\\bar{X}_{.j}-n\\bar{X}$，同时在拒绝 $H_0$ 时还需作出两总体 $N(\\mu_j,\\sigma^2)$ 和 $N(\\mu_k,\\sigma^2)$，$j\\ne k$ 的均值差 $\\mu_j-\\mu_k=\\delta_j-\\delta_k$ 的 **区间估计**，由于 $E(\\bar{X}_{.j})=\\mu_j-\\mu_k$，$D(\\bar{X}_{.j}-\\bar{X}_{.k})=\\sigma^2(\\dfrac{1}{n_j}+\\dfrac{1}{n_k})$，且 $\\bar{X}_{.j}-\\bar{X}_{.k}$ 与 $\\hat{\\sigma}^2$ 相互独立，于是有 <br><br>\n",
    "<center>$\\dfrac{(\\bar{X}_{.j}-\\bar{X}_{.k})-(\\mu_j-\\mu_k)}{\\sqrt{\\bar{S}_E(\\dfrac{1}{n_j}+\\dfrac{1}{n_k})}}=\\dfrac{(\\bar{X}_{.j}-\\bar{X}_{.k})-(\\mu_j-\\mu_k)}{\\sigma\\sqrt{\\dfrac{1}{n_j}+\\dfrac{1}{n_k}}}\\bigg/\\sqrt{\\dfrac{S_E}{\\sigma^2}\\big/(n-s)}\\;\\backsim\\; t(n-s)$</center>\n",
    "\n"
   ]
  },
  {
   "cell_type": "markdown",
   "id": "f98e3678",
   "metadata": {},
   "source": [
    "<center>$\\downarrow$</center><br>\n",
    "\n",
    "&emsp;&emsp;据此可得均值差 $\\mu_j-\\mu_k=\\delta_j-\\delta_k$ 的置信水平为 $1-a$ 的置信区间为 <br><br>\n",
    "<center>$\\bigg(\\bar{X}_{.j}-\\bar{X}_{.k}\\pm t_{\\tfrac{a}{2}}(n-s)\\sqrt{\\bar{S}_E(\\dfrac{1}{n_j}+\\dfrac{1}{n_k})}\\bigg)$</center>"
   ]
  },
  {
   "cell_type": "markdown",
   "id": "1c541961",
   "metadata": {},
   "source": [
    "<div class=\"alert alert-danger\" role=\"alert\"><span class=\"label label-warning\">例题</span> 求例 $1$ 中的未知参数 $\\sigma^2$，$\\mu_j$，$\\delta_j\\;(j=1,2,3)$ 的点估计及均值差的置信水平为 $0.95$ 的置信区间</div>\n",
    "\n",
    "&emsp;&emsp;现有 $s=3,n_1=n_2=n_3=5,n=15$，可知 <br><br>\n",
    "<center>$\\hat{\\sigma}^2=\\dfrac{S_E}{n-s}=0.000016$</center><br>\n",
    "<center>$\\hat{\\mu}_1=\\bar{x}_{.1}=0.242$，$\\hat{\\mu}_2=\\bar{x}_{.2}=0.256$，$\\hat{\\mu}_3=\\bar{x}_{.3}=0.262$，$\\hat{\\mu}=\\bar{x}=0.253$</center><br>\n",
    "<center>$\\hat{\\delta}_1=\\bar{x}_{.1}-\\bar{x}=-0.011$，$\\hat{\\delta}_2=\\bar{x}_{.2}-\\bar{x}=0.003$，$\\hat{\\delta}_3=\\bar{x}_{.3}-\\bar{x}=-0.009$</center><br>\n",
    "\n",
    "&emsp;&emsp;由 $t_{0.025}(n-s)=t_{0.025}(12)=2.1788$ 可知 $t_{0.025}(12)\\sqrt{\\bar{S}_E(\\dfrac{1}{n_j}+\\dfrac{1}{n_k}}=2.1788\\sqrt{16\\times10^{-6}\\times\\dfrac{2}{5}}=0.006$，故 $\\mu_1-\\mu_2$，$\\mu_1-\\mu_3$，$\\mu_2-\\mu_3$ 的置信水平为 $0.95$ 的置信区间分别为 <br><br>\n",
    "<center>$(0.242-0.256\\pm0.006)=(-0.020,-0.008)$</center><br>\n",
    "<center>$(0.242-0.262\\pm0.006)=(-0.026,-0.014)$</center><br>\n",
    "<center>$(0.256-0.262\\pm0.006)=(-0.012,0)$</center><br>"
   ]
  },
  {
   "cell_type": "markdown",
   "id": "ac379b03",
   "metadata": {},
   "source": [
    "---"
   ]
  },
  {
   "cell_type": "markdown",
   "id": "7badba6c",
   "metadata": {},
   "source": [
    "## 第02节 双因素试验的方差分析"
   ]
  },
  {
   "cell_type": "markdown",
   "id": "cda83742",
   "metadata": {},
   "source": [
    "### 2.1 双因素等重复试验的方差分析"
   ]
  },
  {
   "cell_type": "markdown",
   "id": "f015edee",
   "metadata": {},
   "source": [
    "- **例2** 火箭使用四种燃料，三种推进器作射程试验，每种燃料与每种推进器的组合各发射火箭两次得射程如下表所示\n",
    "\n",
    "<table border=0 cellpadding=0 cellspacing=0 width=990 style='border-collapse:\n",
    " collapse;table-layout:auto;'>\n",
    " <col span=5>\n",
    " <tr height=18>\n",
    "  <td colspan=2 style='text-align: center;'><strong>推进器 $B$</strong></td>\n",
    "  <td style='text-align: center;'><strong>$B_1$</strong></td>\n",
    "  <td style='text-align: center;'><strong>$B_2$</strong></td>\n",
    "  <td style='text-align: center;'><strong>$B_3$</strong></td>\n",
    " </tr>\n",
    " <tr height=18>\n",
    "  <td rowspan=8 style='text-align: center;'><strong>燃料 $A$</strong></td>\n",
    "  <td rowspan=2 style='text-align: center;'><strong>$A_1$</strong></td>\n",
    "  <td style='text-align: center;'>$58.2$</td>\n",
    "  <td style='text-align: center;'>$56.2$</td>\n",
    "  <td style='text-align: center;'>$65.3$</td>\n",
    " </tr>\n",
    " <tr height=18>\n",
    "  <td style='text-align: center;'>$52.6$</td>\n",
    "  <td style='text-align: center;'>$41.2$</td>\n",
    "  <td style='text-align: center;'>$60.8$</td>\n",
    " </tr>\n",
    " <tr height=18>\n",
    "  <td rowspan=2 style='text-align: center;'><strong>$A_2$</strong></td>\n",
    "  <td style='text-align: center;'>$49.1$</td>\n",
    "  <td style='text-align: center;'>$54.1$</td>\n",
    "  <td style='text-align: center;'>$51.6$</td>\n",
    " </tr>\n",
    " <tr height=18>\n",
    "  <td style='text-align: center;'>$42.8$</td>\n",
    "  <td style='text-align: center;'>$50.5$</td>\n",
    "  <td style='text-align: center;'>$48.4$</td>\n",
    " </tr>\n",
    " <tr height=18>\n",
    "  <td rowspan=2 style='text-align: center;'><strong>$A_3$</strong></td>\n",
    "  <td style='text-align: center;'>$60.1$</td>\n",
    "  <td style='text-align: center;'>$70.9$</td>\n",
    "  <td style='text-align: center;'>$39.2$</td>\n",
    " </tr>\n",
    " <tr height=18>\n",
    "  <td style='text-align: center;'>$58.3$</td>\n",
    "  <td style='text-align: center;'>$73.2$</td>\n",
    "  <td style='text-align: center;'>$40.7$</td>\n",
    " </tr>\n",
    "  <tr height=18>\n",
    "  <td rowspan=2 style='text-align: center;'><strong>$A_4$</strong></td>\n",
    "  <td style='text-align: center;'>$75.8$</td>\n",
    "  <td style='text-align: center;'>$58.2$</td>\n",
    "  <td style='text-align: center;'>$48.7$</td>\n",
    " </tr>\n",
    " <tr height=18>\n",
    "  <td style='text-align: center;'>$71.5$</td>\n",
    "  <td style='text-align: center;'>$51.0$</td>\n",
    "  <td style='text-align: center;'>$41.4$</td>\n",
    " </tr>\n",
    "</table>\n",
    "\n",
    "> 这里试验指标是射程，推进器和燃料是因素，它们分别有 $3$ 个与 $4$ 个水平，这是一个 **双因素的试验**，试验的目的在于考察在各种因素的各个水平下射程有无显著的差异，即考察推进器和燃料这两个因素对射程是否有显著的影响"
   ]
  },
  {
   "cell_type": "markdown",
   "id": "201a7e36",
   "metadata": {},
   "source": [
    "&emsp;&emsp;设有两个因素 $A，B$ 作用于试验的指标，因素 $A$ 有 $r$ 个水平 $A_1,A_2,\\dots,A_r$，因素 $B$ 有 $s$ 个水平 $B_1,B_2,\\dots,B_s$，现对因素 $A,B$ 的水平的 **每对组合** $(A_i,B_j)$，$i=1,2,\\dots,r)$，$j=1,2,\\dots,s)$ 进行 $t\\;(t\\ge2)$ 次 **等重复试验**，可得到下表结果\n",
    "\n",
    "<table border=0 cellpadding=0 cellspacing=0 width=990 style='border-collapse:\n",
    " collapse;table-layout:auto;'>\n",
    " <col span=5>\n",
    " <tr height=18>\n",
    "  <td style='text-align: center;'></td>\n",
    "  <td style='text-align: center;'><strong>$B_1$</strong></td>\n",
    "  <td style='text-align: center;'><strong>$B_2$</strong></td>\n",
    "  <td style='text-align: center;'><strong>$\\dots$</strong></td>\n",
    "  <td style='text-align: center;'><strong>$B_s$</strong></td>\n",
    " </tr>\n",
    " <tr height=18>\n",
    "  <td style='text-align: center;'><strong>$A_1$</strong></td>\n",
    "  <td style='text-align: center;'>$X_{111},X_{112},\\dots,X_{11t}$</td>\n",
    "  <td style='text-align: center;'>$X_{121},X_{122},\\dots,X_{12t}$</td>\n",
    "  <td style='text-align: center;'>$\\dots$</td>\n",
    "  <td style='text-align: center;'>$X_{1s1},X_{1s2},\\dots,X_{1st}$</td>\n",
    " </tr>\n",
    " <tr height=18>\n",
    "  <td style='text-align: center;'><strong>$A_2$</strong></td>\n",
    "  <td style='text-align: center;'>$X_{211},X_{212},\\dots,X_{21t}$</td>\n",
    "  <td style='text-align: center;'>$X_{221},X_{222},\\dots,X_{22t}$</td>\n",
    "  <td style='text-align: center;'>$\\dots$</td>\n",
    "  <td style='text-align: center;'>$X_{2s1},X_{2s2},\\dots,X_{2st}$</td>\n",
    " </tr>\n",
    " <tr height=18>\n",
    "  <td style='text-align: center;'>$\\vdots$</td>\n",
    "  <td style='text-align: center;'>$\\vdots$</td>\n",
    "  <td style='text-align: center;'>$\\vdots$</td>\n",
    "  <td style='text-align: center;'></td>\n",
    "  <td style='text-align: center;'>$\\vdots$</td>\n",
    " </tr>\n",
    " <tr height=18>\n",
    "  <td style='text-align: center;'><strong>$A_r$</strong></td>\n",
    "  <td style='text-align: center;'>$X_{r11},X_{r12},\\dots,X_{r1t}$</td>\n",
    "  <td style='text-align: center;'>$X_{r21},X_{r22},\\dots,X_{r2t}$</td>\n",
    "  <td style='text-align: center;'>$\\dots$</td>\n",
    "  <td style='text-align: center;'>$X_{rs1},X_{rs2},\\dots,X_{rst}$</td>\n",
    " </tr>\n",
    "</table>"
   ]
  },
  {
   "cell_type": "markdown",
   "id": "2ed96c94",
   "metadata": {},
   "source": [
    "&emsp;&emsp;假设 $X_{ijk}\\backsim N(\\mu_{ij},\\sigma^2)$，$i=1,2,\\dots,r$，$j=1,2,\\dots,s$，$k=1,2,\\dots,t$，且各 $X_{ijk}$ 独立，$\\mu_{ij}$ 与 $\\sigma^2$ 均为未知参数，可写作 <br><br>\n",
    "<center>$X_{ijk}=\\mu_{ij}+\\epsilon_{ijk}$</center><br>\n",
    "<center>$\\epsilon_{ijk}\\backsim N(0,\\sigma^2)$，各 $\\epsilon_{ijk}$ 独立</center><br>\n",
    "<center>$i=1,2,\\dots,r\\quad j=1,2,\\dots,s,\\quad k=1,2,\\dots,n$</center><br>\n",
    "\n",
    "&emsp;&emsp;引入记号 $\\mu=\\dfrac{1}{rs}\\sum\\limits^{r}_{i=1}\\sum\\limits^{s}_{j=1}\\mu_{ij}$，可知 <br><br>\n",
    "<center>$\\mu_{i.}=\\dfrac{1}{s}\\sum\\limits^{s}_{j=1}\\mu_{ij}\\quad\\mu_{.j}=\\dfrac{1}{r}\\sum\\limits^{r}_{i=1}\\mu_{ij}$</center><br>\n",
    "<center>$a_i=\\mu_{i.}-\\mu\\quad\\beta_j=\\mu_{.j}-\\mu$</center><br>\n",
    "<center>$\\downarrow$</center><br>\n",
    "<center>$\\sum\\limits^{r}_{i=1}a_i=0\\quad\\sum\\limits^{s}_{j=1}\\beta_j=0$</center><br>\n",
    "\n",
    "> 称 $\\mu$ 为 **总平均**，称 $a_i$ 为水平 $A_i$ 的 **效应**，称 $\\beta_j$ 为水平 $B_j$ 的 **效应**\n",
    "\n",
    "&emsp;&emsp;这样就可以将 $\\mu_{ij}$ 表示为 $\\mu_{ij}=\\mu+a_i+\\beta_j+\\gamma_{ij}$，$\\gamma_{ij}=\\mu_{ij}-\\mu_{i.}-\\mu_{.j}+\\mu$，$i=1,2,\\dots,r$，$j=1,2,\\dots,s$，此时 $\\gamma_{ij}$ 称为水平 $A_i$ 和水平 $B_j$ 的 **交互效应**，这是由 $A_i,B_j$ 搭配起来联合起作用而引起的，易见 $\\sum\\limits^{r}_{i=1}\\gamma_{ij}=0$，$\\sum\\limits^{s}_{j=1}\\gamma_{ij}=0$，利用这些记号，双因素方差分析的数学模型可改写成 <br><br>\n",
    "<center>$X_{ijk}=\\mu+a_i+\\beta_j+\\gamma_{ij}+\\epsilon_{ijk}$</center><br>\n",
    "<center>$\\epsilon_{ijk}\\backsim N(0,\\sigma^2)$，各 $\\epsilon_{ijk}$ 独立</center><br>\n",
    "<center>$i=1,2,\\dots,r\\quad j=1,2,\\dots,s\\quad k=1,2,\\dots,t$</center><br>\n",
    "<center>$\\sum\\limits^{r}_{i=1}a_i=0$，$\\sum\\limits^{s}_{j=1}\\beta_j=0$，$\\sum\\limits^{r}_{i=1}\\gamma_{ij}=0$，$\\sum\\limits^{s}_{j=1}\\gamma_{ij}=0$</center><br>\n",
    "&emsp;&emsp;对于上述的双因素试验方差分析的数学模型，需要分别检验以下三个假设 <br><br>\n",
    "<center>$H_{01}:a_1=a_2=\\dots=a_r=0,\\quad H_{11}:a_1,a_2,\\dots,a_r$ 不全为 $0$</center><br>\n",
    "<center>$H_{02}:\\beta_1=\\beta_2=\\dots=\\beta_s=0,\\quad H_{12}:\\beta_1,\\beta_2,\\dots,\\beta_s$ 不全为 $0$</center><br>\n",
    "<center>$H_{03}:\\gamma_{11}=\\gamma_{12}=\\dots=\\gamma_{rs}=0,\\quad H_{13}:\\gamma_{11},\\gamma_{21},\\dots,\\gamma_{rs}$ 不全为 $0$</center><br>"
   ]
  },
  {
   "cell_type": "markdown",
   "id": "ff2b98c4",
   "metadata": {},
   "source": [
    "&emsp;&emsp;与单因素情况类似，对这些问题的检验方法也是建立在平方和的 **分解**，先引入以下的记号 <br><br>\n",
    "<center>$\\bar{X}=\\dfrac{1}{rst}\\sum\\limits^{r}_{i=1}\\sum\\limits^{s}_{j=1}\\sum\\limits^{t}_{k=1}X_{ijk}$</center><br>\n",
    "<center>$\\bar{X}_{ij.}=\\sum\\limits^{t}_{k=1}X_{ijk}$，$\\bar{X}_{i..}=\\dfrac{1}{st}\\sum\\limits^{s}_{j=1}\\sum\\limits^{t}_{k=1}X_{ijk}$，$\\bar{X}_{.j.}=\\dfrac{1}{rt}\\sum\\limits^{r}_{i=1}\\sum\\limits^{t}_{k=1}X_{ijk}$</center><br>\n",
    "\n",
    "再引入总偏差平方和，即 **总变差** $S_T=\\sum\\limits^{r}_{i=1}\\sum\\limits^{s}_{j=1}\\sum\\limits^{t}_{k=1}(X_{ijk}-\\bar{X})^2$，可将 $S_T$ 写成 <br><br>\n",
    "<center>$S_T=\\sum\\limits^{r}_{i=1}\\sum\\limits^{s}_{j=1}\\sum\\limits^{t}_{k=1}[(X_{ijk}-\\bar{X}_{ij.})+(\\bar{X}_{i..}-\\bar{X})+(\\bar{X}_{.j.}-\\bar{X})+(\\bar{X}_{ij.}-\\bar{X}_{i..}-\\bar{X}_{.j.}+\\bar{X})^2]$</center><br>\n",
    "<center>$=\\sum\\limits^{r}_{i=1}\\sum\\limits^{s}_{j=1}\\sum\\limits^{t}_{k=1}(X_{ijk}-\\bar{X}_{ij.})^2+st\\sum\\limits^{r}_{i=1}(\\bar{X}_{i..}-\\bar{X})^2+rt\\sum\\limits^{s}_{j=1}(\\bar{X}_{.j.}-\\bar{X})^2+t\\sum\\limits^{r}_{i=1}\\sum\\limits^{s}_{j=1}(\\bar{X}_{ij.}-\\bar{X}_{i..}-\\bar{X}_{.j.}+\\bar{X})^2$</center><br>\n",
    "<center>$\\downarrow$</center><br>\n",
    "<center>$S_T=S_E+S_A+S_B+S_{A\\times B}$</center>\n",
    "\n",
    "- **误差平方和** <br>\n",
    "$S_E=\\sum\\limits^{r}_{i=1}\\sum\\limits^{s}_{j=1}\\sum\\limits^{t}_{k=1}(X_{ijk}-\\bar{X}_{ij.})^2$ 自由度为 $rs(t-1)$ \n",
    "\n",
    "\n",
    "- **因素 $A$ 效应平方和** <br>\n",
    "$S_A=st\\sum\\limits^{r}_{i=1}(\\bar{X}_{i..}-\\bar{X})^2$ 自由度为 $r-1$ \n",
    "\n",
    "\n",
    "- **因素 $B$ 效应平方和** <br>\n",
    "$S_B=rt\\sum\\limits^{s}_{j=1}(\\bar{X}_{.j.}-\\bar{X})^2$ 自由度为 $s-1$ \n",
    "\n",
    "\n",
    "- **交互效应平方和** <br>\n",
    "$S_{A\\times B}t\\sum\\limits^{r}_{i=1}\\sum\\limits^{s}_{j=1}(\\bar{X}_{ij.}-\\bar{X}_{i..}-\\bar{X}_{.j.}+\\bar{X})^2$ 自由度为 $(r-1)(s-1)$ "
   ]
  },
  {
   "cell_type": "markdown",
   "id": "0a37f817",
   "metadata": {},
   "source": [
    "&emsp;&emsp;当 $H_{01}:a_1=a_2=\\dots=a_r=0$ 为真时，可以证明 $F_A=\\dfrac{S_A/(r-1)}{S_E/(rs(t-1))}\\backsim F(r-1,rs(t-1))$，取显著性水平为 $a$，得假设检验 $H_{01}$ 的拒绝域为 <br><br>\n",
    "<center>$F_A=\\dfrac{S_A/(r-1)}{S_E/(rs(t-1))}\\ge F_a(r-1,rs(t-1))$</center><br>\n",
    "&emsp;&emsp;在显著性水平 $a$ 下，假设 $H_{02}$ 的拒绝域为 <br><br>\n",
    "<center>$F_B=\\dfrac{S_B/(s-1)}{S_E/(rs(t-1))}\\ge F_a(s-1,rs(t-1))$</center><br>\n",
    "&emsp;&emsp;在显著性水平 $a$ 下，假设 $H_{03}$ 的拒绝域为 <br><br>\n",
    "<center>$F_{A\\times B}=\\dfrac{S_{A\\times B}/((r-1)(s-1))}{S_E/(rs(t-1))}\\ge F_a((r-1)(s-1),rs(t-1))$</center><br>"
   ]
  },
  {
   "cell_type": "markdown",
   "id": "c5e25df3",
   "metadata": {},
   "source": [
    "&emsp;&emsp;结合上述所得的分析结果可排成表的形式，称为双因素试验 **方差分析表**\n",
    "\n",
    "<table border=0 cellpadding=0 cellspacing=0 width=990 style='border-collapse:\n",
    " collapse;table-layout:auto;'>\n",
    " <col span=5>\n",
    " <tr height=18>\n",
    "  <td style='text-align: center;'><strong>方差来源</strong></td>\n",
    "  <td style='text-align: center;'><strong>平方和</strong></td>\n",
    "  <td style='text-align: center;'><strong>自由度</strong></td>\n",
    "  <td style='text-align: center;'><strong>均方</strong></td>\n",
    "  <td style='text-align: center;'><strong>$F$ 比</strong></td>\n",
    " </tr>\n",
    " <tr height=18>\n",
    "  <td style='text-align: center;'><strong>因素 $A$</strong></td>\n",
    "  <td style='text-align: center;'>$S_A$</td>\n",
    "  <td style='text-align: center;'>$r-1$</td>\n",
    "  <td style='text-align: center;'>$\\bar{S}_A=\\dfrac{S_A}{r-1}$</td>\n",
    "  <td style='text-align: center;'>$F_A=\\dfrac{\\bar{S}_A}{\\bar{S}_E}$</td>\n",
    " </tr>\n",
    " <tr height=18>\n",
    "  <td style='text-align: center;'><strong>因素 $B$</strong></td>\n",
    "  <td style='text-align: center;'>$S_B$</td>\n",
    "  <td style='text-align: center;'>$s-1$</td>\n",
    "  <td style='text-align: center;'>$\\bar{S}_B=\\dfrac{S_B}{s-1}$</td>\n",
    "  <td style='text-align: center;'>$F_B=\\dfrac{\\bar{S}_B}{\\bar{S}_E}$</td>\n",
    " </tr>\n",
    " <tr height=18>\n",
    "  <td style='text-align: center;'><strong>交互作用</strong></td>\n",
    "  <td style='text-align: center;'>$S_{A\\times B}$</td>\n",
    "  <td style='text-align: center;'>$(r-1)(s-1)$</td>\n",
    "  <td style='text-align: center;'>$\\bar{S}_{A\\times B}=\\dfrac{S_{A\\times B}}{(r-1)(s-1)}$</td>\n",
    "  <td style='text-align: center;'>$F_{{A\\times B}}=\\dfrac{\\bar{S}_{{A\\times B}}}{\\bar{S}_E}$</td>\n",
    " </tr>\n",
    " <tr height=18>\n",
    "  <td style='text-align: center;'><strong>误差</strong></td>\n",
    "  <td style='text-align: center;'>$S_E$</td>\n",
    "  <td style='text-align: center;'>$rs(t-1)$</td>\n",
    "  <td style='text-align: center;'>$\\bar{S}_E=\\dfrac{S_E}{rs(t-1)}$</td>\n",
    " </tr>\n",
    " <tr height=18>\n",
    "  <td style='text-align: center;'><strong>总和</strong></td>\n",
    "  <td style='text-align: center;'>$S_T$</td>\n",
    "  <td style='text-align: center;'>$rst-1$</td>\n",
    " </tr>\n",
    "</table>"
   ]
  },
  {
   "cell_type": "markdown",
   "id": "fcb792c6",
   "metadata": {},
   "source": [
    "<div class=\"alert alert-danger\" role=\"alert\"><span class=\"label label-warning\">例题</span> 假设例 $2$ 符合双因素方差分析模型所需的条件，试在显著性水平 $0.05$ 下，检验不同燃料、不同推进器下的射程是否有显著差异？交互作用是否显著？</div>\n",
    "\n",
    "&emsp;&emsp;现有 $r=4,s=3,t=2$，故有 <br><br>\n",
    "<center>$S_T=(58.2^2+52.6^2+\\dots+41.4^2)-\\dfrac{1319.8^2}{24}=2638.298$</center><br>\n",
    "<center>$S_A=\\dfrac{1}{6}(334.3^2+296.5^2+342.4^2+346.6^2)-\\dfrac{1319.8^2}{24}=261.675$</center><br>\n",
    "<center>$S_B=\\dfrac{1}{8}(468.4^2+455.3^2+396.1^2)-\\dfrac{1319.8^2}{24}=370.981$</center><br>\n",
    "<center>$S_{A\\times}=\\dfrac{1}{2}(110.8^2+91.9^2+\\dots+90.1^2)-\\dfrac{1319.8^2}{24}-S_A-S_B=1768.693$</center><br>\n",
    "<center>$S_E=S_E-S_A-S_B-S_{A\\times B}=236.950$</center><br>\n",
    "\n",
    "- 由于 $F_{0.05}(3,12)=3.49<F_A=4.42$，$F_{0.05}(2,12)=3.89<F_B=9.39$，所以在显著性水平 $a=0.05$ 下拒绝假设 $H_{01},H_{02}$，即认为不同燃料或不同推进器下的射程有显著差异，也就是说燃料和推进器这两个因素对射程的影响都是显著的 \n",
    "- 由于 $F_{0.001}(6,12)=8.38<F_{A\\times B}=14.9$，故交互作用效应是髙度显著的"
   ]
  },
  {
   "cell_type": "markdown",
   "id": "db039ec0",
   "metadata": {},
   "source": [
    "### 2.2 双因素无重复试验的方差分析"
   ]
  },
  {
   "cell_type": "markdown",
   "id": "4409551f",
   "metadata": {},
   "source": [
    "&emsp;&emsp;在以上的讨论中考虑到双因素试验中两个因素的交互作用，为要检验交互作用的效应是否显著，对于两个因素的每一组合 **至少要做 $2$ 次** 试验，这是因为若 $k=l$，$\\gamma_{ij}+\\epsilon_{ijk}$ 总以结合在一起的形式出现，这样就不能将交互作用与误差分离开来，如果在处理实际问题时，已经知道不存在交互作用，或已知交互作用对试验的指标影响很小，则可以不考虑交互作用\n",
    "\n",
    "&emsp;&emsp;设有两个因素 $A，B$ 作用于试验的指标，因素 $A$ 有 $r$ 个水平 $A_1,A_2,\\dots,A_r$，因素 $B$ 有 $s$ 个水平 $B_1,B_2,\\dots,B_s$，现对因素 $A,B$ 的水平的 **每对组合** $(A_i,B_j)$，$i=1,2,\\dots,r)$，$j=1,2,\\dots,s)$ 进行 $1$ 次 **无重复试验**，可得到下表结果\n",
    "\n",
    "<table border=0 cellpadding=0 cellspacing=0 width=990 style='border-collapse:\n",
    " collapse;table-layout:auto;'>\n",
    " <col span=5>\n",
    " <tr height=18>\n",
    "  <td style='text-align: center;'></td>\n",
    "  <td style='text-align: center;'><strong>$B_1$</strong></td>\n",
    "  <td style='text-align: center;'><strong>$B_2$</strong></td>\n",
    "  <td style='text-align: center;'><strong>$\\dots$</strong></td>\n",
    "  <td style='text-align: center;'><strong>$B_s$</strong></td>\n",
    " </tr>\n",
    " <tr height=18>\n",
    "  <td style='text-align: center;'><strong>$A_1$</strong></td>\n",
    "  <td style='text-align: center;'>$X_{11}$</td>\n",
    "  <td style='text-align: center;'>$X_{12}$</td>\n",
    "  <td style='text-align: center;'>$\\dots$</td>\n",
    "  <td style='text-align: center;'>$X_{1s}$</td>\n",
    " </tr>\n",
    " <tr height=18>\n",
    "  <td style='text-align: center;'><strong>$A_2$</strong></td>\n",
    "  <td style='text-align: center;'>$X_{21}$</td>\n",
    "  <td style='text-align: center;'>$X_{22}$</td>\n",
    "  <td style='text-align: center;'>$\\dots$</td>\n",
    "  <td style='text-align: center;'>$X_{2s}$</td>\n",
    " </tr>\n",
    " <tr height=18>\n",
    "  <td style='text-align: center;'>$\\vdots$</td>\n",
    "  <td style='text-align: center;'>$\\vdots$</td>\n",
    "  <td style='text-align: center;'>$\\vdots$</td>\n",
    "  <td style='text-align: center;'></td>\n",
    "  <td style='text-align: center;'>$\\vdots$</td>\n",
    " </tr>\n",
    " <tr height=18>\n",
    "  <td style='text-align: center;'><strong>$A_r$</strong></td>\n",
    "  <td style='text-align: center;'>$X_{r1}$</td>\n",
    "  <td style='text-align: center;'>$X_{r2}$</td>\n",
    "  <td style='text-align: center;'>$\\dots$</td>\n",
    "  <td style='text-align: center;'>$X_{rs}$</td>\n",
    " </tr>\n",
    "</table>"
   ]
  },
  {
   "cell_type": "markdown",
   "id": "2ce3e6bd",
   "metadata": {},
   "source": [
    "&emsp;&emsp;假设 $X_{ij}\\backsim N(\\mu_{ij},\\sigma^2)$，$i=1,2,\\dots,r$，$j=1,2,\\dots,s$，且各 $X_{ij}$ 独立，$\\mu_{ij}$ 与 $\\sigma^2$ 均为未知参数，可写作 <br><br>\n",
    "<center>$X_{ij}=\\mu_{ij}+\\epsilon_{ij}$</center><br>\n",
    "<center>$\\epsilon_{ij}\\backsim N(0,\\sigma^2)$，各 $\\epsilon_{ij}$ 独立</center><br>\n",
    "<center>$i=1,2,\\dots,r\\quad j=1,2,\\dots,s$</center><br>\n",
    "\n",
    "&emsp;&emsp;沿用之前的记号，注意到假设不存在交互作用，此时 $\\gamma_{ij}=0$，$i=1,2,\\dots,r\\quad j=1,2,\\dots,s$，由于 $\\mu_{ij}=\\mu+a_i+\\beta_{j}$，数学模型可改写为 <br><br>\n",
    "<center>$X_{ij}=\\mu+a_i+\\beta_{j}+\\gamma_{ij}+\\epsilon_{ij}$</center><br>\n",
    "<center>$\\epsilon_{ijk}\\backsim N(0,\\sigma^2)$，各 $\\epsilon_{ijk}$ 独立</center><br>\n",
    "<center>$i=1,2,\\dots,r\\quad j=1,2,\\dots,s\\quad k=1,2,\\dots,t$</center><br>\n",
    "<center>$\\sum\\limits^{r}_{i=1}a_i=0$，$\\sum\\limits^{s}_{j=1}\\beta_j=0$</center><br>\n",
    "\n",
    "&emsp;&emsp;对于上述的双因素单次试验方差分析的数学模型，需要分别检验以下两个假设 <br><br>\n",
    "<center>$H_{01}:a_1=a_2=\\dots=a_r=0,\\quad H_{11}:a_1,a_2,\\dots,a_r$ 不全为 $0$</center><br>\n",
    "<center>$H_{02}:\\beta_1=\\beta_2=\\dots=\\beta_s=0,\\quad H_{12}:\\beta_1,\\beta_2,\\dots,\\beta_s$ 不全为 $0$</center><br>"
   ]
  },
  {
   "cell_type": "markdown",
   "id": "bf671593",
   "metadata": {},
   "source": [
    "&emsp;&emsp;结合上述所得的分析结果可排成表的形式，称为双因素单次试验 **方差分析表**\n",
    "\n",
    "<table border=0 cellpadding=0 cellspacing=0 width=990 style='border-collapse:\n",
    " collapse;table-layout:auto;'>\n",
    " <col span=5>\n",
    " <tr height=18>\n",
    "  <td style='text-align: center;'><strong>方差来源</strong></td>\n",
    "  <td style='text-align: center;'><strong>平方和</strong></td>\n",
    "  <td style='text-align: center;'><strong>自由度</strong></td>\n",
    "  <td style='text-align: center;'><strong>均方</strong></td>\n",
    "  <td style='text-align: center;'><strong>$F$ 比</strong></td>\n",
    " </tr>\n",
    " <tr height=18>\n",
    "  <td style='text-align: center;'><strong>因素 $A$</strong></td>\n",
    "  <td style='text-align: center;'>$S_A$</td>\n",
    "  <td style='text-align: center;'>$r-1$</td>\n",
    "  <td style='text-align: center;'>$\\bar{S}_A=\\dfrac{S_A}{r-1}$</td>\n",
    "  <td style='text-align: center;'>$F_A=\\dfrac{\\bar{S}_A}{\\bar{S}_E}$</td>\n",
    " </tr>\n",
    " <tr height=18>\n",
    "  <td style='text-align: center;'><strong>因素 $B$</strong></td>\n",
    "  <td style='text-align: center;'>$S_B$</td>\n",
    "  <td style='text-align: center;'>$s-1$</td>\n",
    "  <td style='text-align: center;'>$\\bar{S}_B=\\dfrac{S_B}{s-1}$</td>\n",
    "  <td style='text-align: center;'>$F_B=\\dfrac{\\bar{S}_B}{\\bar{S}_E}$</td>\n",
    " </tr>\n",
    " <tr height=18>\n",
    "  <td style='text-align: center;'><strong>误差</strong></td>\n",
    "  <td style='text-align: center;'>$S_E$</td>\n",
    "  <td style='text-align: center;'>$(r-1)(s-1)$</td>\n",
    "  <td style='text-align: center;'>$\\bar{S}_E=\\dfrac{S_E}{(r_1)(s-1))}$</td>\n",
    " </tr>\n",
    " <tr height=18>\n",
    "  <td style='text-align: center;'><strong>总和</strong></td>\n",
    "  <td style='text-align: center;'>$S_T$</td>\n",
    "  <td style='text-align: center;'>$rs-1$</td>\n",
    " </tr>\n",
    "</table>\n",
    "\n",
    "&emsp;&emsp;在显著性水平 $a$ 下，假设 $H_{01}$ 的拒绝域为 <br><br>\n",
    "<center>$F_A=\\dfrac{\\bar{S}_A}{\\bar{S}_E}\\ge F_a(r-1,(r-1)(s-1))$</center><br>\n",
    "&emsp;&emsp;在显著性水平 $a$ 下，假设 $H_{02}$ 的拒绝域为 <br><br>\n",
    "<center>$F_B=\\dfrac{\\bar{S}_B}{\\bar{S}_E}\\ge F_a(s-1,(r-1)(s-1))$</center><br>"
   ]
  },
  {
   "cell_type": "markdown",
   "id": "a9379728",
   "metadata": {},
   "source": [
    "---"
   ]
  },
  {
   "cell_type": "markdown",
   "id": "f4cd27a1",
   "metadata": {},
   "source": [
    "## 第03节 一元线性回归"
   ]
  },
  {
   "cell_type": "markdown",
   "id": "4f51b710",
   "metadata": {},
   "source": [
    "&emsp;&emsp;在客观世界中普遍存在着变量之间的关系，一般来说可分为 **确定性** 的与 **非确定性** 的两种\n",
    "- 确定性关系是指变量之间的关系可以用函数关系来表达\n",
    "- 非确定性的关系即所谓 **相关关系**，通常使用 **回归分析** 从一个变量取得的值去估计另一变量所取的值\n",
    "\n",
    "&emsp;&emsp;一般地由一个或一组非随机变量来估计或预测某一个随机变量的观测值时，所建立的数学模型及所进行的统计分析，称为 **回归分析(Regression analysis)**，如果这个数学模型是线性的就称为 **线性回归分析**"
   ]
  },
  {
   "cell_type": "markdown",
   "id": "6744080a",
   "metadata": {},
   "source": [
    "### 3.1 一元线性回归"
   ]
  },
  {
   "cell_type": "markdown",
   "id": "97bdb092",
   "metadata": {},
   "source": [
    "&emsp;&emsp;设有两个变量 $x$ 和 $Y$，其中 $x$ 是可以精确测量或控制的非随机变量，而 $Y$ 是随机变量，$x$ 的变化引起 $Y$ 的变化，但它们之间的变化又不是确定的，如果 $x$ 取任意一个值时，$Y$ 相应地服从某一个分布，则变量 $x$ 与随机变量 $Y$ 之间存在相关关系\n",
    "\n",
    "> 如果处理的是两个变量之间的相关关系，而这种关系又是线性的，这种回归分析就称为 **一元线性回归分析**\n",
    "\n",
    "&emsp;&emsp;用 $F(y|x)$ 表示当 $x$ 取确定的 $x$ 值时所对应的 $Y$ 的分布函数，如果掌握了 $F(y|x)$ 随着 $x$ 的取值而变化的规律，那么就能完全掌握 $Y$ 与 $x$ 之间的关系了，然而这样做往往比较复杂，所以作为一种近似，转而去考察 $Y$ 的 **数学期望**：若 $Y$ 的数学期望 $E(Y)$ 存在，则其值随 $x$ 的取值而定，将这一函数记为 $\\mu_{Y|x}$ 或 $\\mu(x)$，称为 $Y$ 关于 $x$ 的 **回归函数**，这样就将讨论 $Y$ 与 $x$ 的相关关系的问题转换为 <br><br>\n",
    "<center><strong>$E(Y)=\\mu(x)$ 与 $x$ 的函数关系</strong></center>\n",
    "\n",
    "&emsp;&emsp;对于 $x$ 取一组不完全相同的值 $x_1,x_2,\\dots,x_n$，设 $Y_1,Y_2,\\dots,Y_n$ 分别是在 $x_1,x_2,\\dots,x_n$ 处对 $Y$ 的独立观察结果，称 $(x_1,Y_1),(x_2,Y_2),\\dots,(x_n,Y_n)$ 是一个样本，对应的样本观察值记为 $(x_1,y_1),(x_2,y_2),\\dots,(x_n,y_n)$，首先要解决的问题是如何利用样本来估计 $Y$ 关于 $x$ 的回归函数 $E(Y)=\\mu(x)$，为此首先需要推测 $\\mu(x)$ 的形式，可以根据观察值 $(x_i,y_i)$ 在直角坐标系中描出它的相应的点，这种图称为 **散点图 (Scatter diagram)**，其可以帮助我们粗略地看出 $\\mu$ 的形式"
   ]
  },
  {
   "cell_type": "markdown",
   "id": "dbd0b5c3",
   "metadata": {},
   "source": [
    "&emsp;&emsp;回归分析的基本思想和方法以及回归名词的由来，要归功于英国统计学家高尔顿和他的学生，现代统计学的奠基者之一皮尔逊在研究父母身高与其子女身高的遗传关系时，观察了 $1078$ 对夫妇，以每对夫妇的平均身高作为 $X$，而取他们的一个成年儿子的身高作为 $y$，将这些数据画成散点图后发现趋势近似一条直线 <br><br> \n",
    "<center>$\\hat{y} = 33.73+0.516x$</center><br>\n",
    "\n",
    "- 父母平均身高 $x$ 每增加 $1$ 个单位时，其成年儿子的身高 $y$ 也平均增加 $0.516$ 个单位\n",
    "- —群高个子父辈的儿子们的平均身高要低于他们父辈的平均身高，比如 $x=80,y=75.01$\n",
    "- 低个子父辈的儿子们虽然仍为低个子，但是平均身高却比他们的父辈增加一些，比如 $x=80,y=75.01$\n",
    "\n",
    "&emsp;&emsp;正是因为子代的身髙有回归到父辈平均身高的这种趋势，才使人类的身高在一定时期内 **相对稳定**，这个例子生动地说明了生物学中种的稳定性，正是为了描述这种有趣的现象，高尔顿引进了 **回归** 这个名词来描述父辈身高 $x$ 与子代身高 $y$ 的关系"
   ]
  },
  {
   "cell_type": "markdown",
   "id": "2d4a5a7c",
   "metadata": {},
   "source": [
    "<div class=\"alert alert-danger\" role=\"alert\"><span class=\"label label-warning\">例题</span> 为研究某一个化学反应过程温度 $x$ 对产品的得率 $Y(\\%)$的影响，测得数据见下表</div>\n",
    "\n",
    "<table border=0 cellpadding=0 cellspacing=0 width=990 style='border-collapse:\n",
    " collapse;table-layout:auto;'>\n",
    " <col span=11>\n",
    " <tr height=18>\n",
    "  <td style='text-align: center;'><strong>温度 $x$</strong></td>\n",
    "  <td style='text-align: center;'>$100$</td>\n",
    "  <td style='text-align: center;'>$110$</td>\n",
    "  <td style='text-align: center;'>$120$</td>\n",
    "  <td style='text-align: center;'>$130$</td>\n",
    "  <td style='text-align: center;'>$140$</td>\n",
    "  <td style='text-align: center;'>$150$</td>\n",
    "  <td style='text-align: center;'>$160$</td>\n",
    "  <td style='text-align: center;'>$170$</td>\n",
    "  <td style='text-align: center;'>$180$</td>\n",
    "  <td style='text-align: center;'>$190$</td>\n",
    " </tr>\n",
    " <tr height=18>\n",
    "  <td style='text-align: center;'><strong>得率 $Y$</strong></td>\n",
    "  <td style='text-align: center;'>$45\\%$</td>\n",
    "  <td style='text-align: center;'>$51\\%$</td>\n",
    "  <td style='text-align: center;'>$54\\%$</td>\n",
    "  <td style='text-align: center;'>$61\\%$</td>\n",
    "  <td style='text-align: center;'>$66\\%$</td>\n",
    "  <td style='text-align: center;'>$70\\%$</td>\n",
    "  <td style='text-align: center;'>$74\\%$</td>\n",
    "  <td style='text-align: center;'>$78\\%$</td>\n",
    "  <td style='text-align: center;'>$85\\%$</td>\n",
    "  <td style='text-align: center;'>$89\\%$</td>\n",
    " </tr>\n",
    "</table>\n",
    "\n",
    "&emsp;&emsp;这里自变量 $x$ 是普通变量，$Y$ 是随机变量，根据数据画出的散点图如下图所示，从图中大致可以看出 $\\mu(x)$ 具有线性函数 $a+bx$ 的形式\n",
    "\n",
    "![scatter](https://s2.loli.net/2022/07/13/tSjgxsdnmieoFlH.png)"
   ]
  },
  {
   "cell_type": "markdown",
   "id": "745156dc",
   "metadata": {},
   "source": [
    "### 3.2 回归系数的最大似然估计"
   ]
  },
  {
   "cell_type": "markdown",
   "id": "48c0f15a",
   "metadata": {},
   "source": [
    "&emsp;&emsp;假设对于 $x$ 在某个区间内的每一个值有 $Y\\backsim N(a+bx,\\sigma^2)$，其中 $a,b,\\sigma^2$ 都是不依赖于 $x$ 的未知参数，记 $\\epsilon=Y-(a+bx)$，对 $Y$ 作这样的正态假设相当于假设 <br><br>\n",
    "<center>$Y=a+bx+\\epsilon,\\quad\\epsilon\\backsim N(0,\\sigma^2)$</center><br>\n",
    "\n",
    "> 上式被称为 **一元线性回归模型**，其中 $b$ 称为 **回归系数**\n",
    "\n",
    "&emsp;&emsp;则样本 $(x_1,Y_1),(x_2,Y_2),\\dots,(x_n,Y_n)\\backsim N(a+bx_i,\\sigma^2)$，$i=1,2,\\dots,n$，由 $Y_1,Y_2,\\dots,Y_n$ 的独立性可知 $Y_1,Y_2,\\dots,Y_n$ 的联合密度为 <br><br>\n",
    "<center>$L=\\prod\\limits^{n}_{i=1}\\dfrac{1}{\\sigma\\sqrt{2\\pi}}\\exp\\big[-\\dfrac{1}{2\\sigma^2}(y_i-a-bx_i)^2\\big]=\\big(\\dfrac{1}{\\sigma\\sqrt{2\\pi}}\\big)^n\\exp\\big[-\\dfrac{1}{2\\sigma^2}\\sum\\limits^{n}_{i=1}(y_i-a-bx_i)^2\\big]$</center><br>\n",
    "\n",
    "&emsp;&emsp;现用 **最大似然估计法** 来估计未知参数 $a,b$，对于任意一组观察值 $y_1,y_2,\\dots,y_n$ 就是样本的似然函数，显然要 $L$ 取最大值只要上式中 **平方和部分为最小**，即只需函数 $Q(a,b)=\\sum\\limits^{n}_{i=1}(y_i-a-bx_i)^2$ 取最小值\n",
    "\n",
    "> 如果 $Y$ 不是正态变量，则直接估计 $a,b$ 使 $Y$ 的观察值 $y_i$ 与偏差的平方和 $Q(a,b)$ 为最小，这种方法叫 **最小二乘法** 是求经验公式的一种常用方法，若 $Y$ 是正态变量，则最小二乘法与最大似然估计法给出相同的结果"
   ]
  },
  {
   "cell_type": "markdown",
   "id": "6991d964",
   "metadata": {},
   "source": [
    "&emsp;&emsp;取 $Q$ 分别关于 $a,b$ 的偏导数，并令它们等于 $0$ 后 $\\dfrac{\\partial Q}{\\partial a}=-2\\sum\\limits^{n}_{i=1}(y_i-a-bx_i)=0$，$\\dfrac{\\partial Q}{\\partial b}=-2\\sum\\limits^{n}_{i=1}(y_i-a-bx_i)x_i=0$ 可得方程组 <br><br>\n",
    "<center>$\\begin{cases}na+\\big(\\sum\\limits^{n}_{i=1}x_i\\big)b=\\sum\\limits^{n}_{i=1}y_i\\\\\\big(\\sum\\limits^{n}_{i=1}x_i\\big)a+\\big(\\sum\\limits^{n}_{i=1}x^2_i\\big)b=\\sum\\limits^{n}_{i=1}x_iy_i\\end{cases}$</center><br>\n",
    "\n",
    "&emsp;&emsp;称为 **正规方程组**，由于 $x_1,x_2,\\dots,x_n$ 不完全相同，此方程组的系数行列式 <br><br>\n",
    "<center>$\\begin{vmatrix}n&\\sum\\limits^{n}_{i=1}x_i\\\\\\sum\\limits^{n}_{i=1}x_i&\\sum\\limits^{n}_{i=1}x^2_i\\end{vmatrix}=n\\sum\\limits^{n}_{i=1}x^2_i-\\big(\\sum\\limits^{n}_{i=1}x_i\\big)^2=n\\sum\\limits^{n}_{i=1}(x_i-\\bar{x})^2\\ne0$</center><br>\n",
    "\n",
    "&emsp;&emsp;故正规方程组有唯一解，解得 $a,b$ 的最大似然估计值为 <br><br>\n",
    "<center>$\\begin{cases}\\hat{b}=\\dfrac{n\\sum\\limits^{n}_{i=1}x_iy_i-\\big(\\sum\\limits^{n}_{i=1}x_i\\big)\\big(\\sum\\limits^{n}_{i=1}y_i\\big)}{n\\sum\\limits^{n}_{i=1}x^2_i-\\big(\\sum\\limits^{n}_{i=1}x_i\\big)^2}=\\dfrac{\\sum\\limits^{n}_{i=1}(x_i-\\bar{x})(y_i-\\bar{y})}{\\sum\\limits^{n}_{i=1}(x_i-\\bar{x})^2}\\\\\\\\\\hat{a}=\\dfrac{1}{n}\\sum\\limits^{n}_{i=1}y_i-\\dfrac{\\hat{b}}{n}\\sum\\limits^{n}_{i=1}x_i=\\bar{y}-\\bar{x}\\hat{b}\\end{cases}\\quad \\bar{x}=\\dfrac{1}{n}\\sum\\limits^{n}_{i=1}x_i,\\bar{y}=\\dfrac{1}{n}\\sum\\limits^{n}_{i=1}y_i$</center>"
   ]
  },
  {
   "cell_type": "markdown",
   "id": "c2554b22",
   "metadata": {},
   "source": [
    "&emsp;&emsp;在得到 $a$ 和 $b$ 的估计值 $\\hat{a},\\hat{b}$ 后，对于给定的 $x$ 取 $\\hat{a} + \\hat{b}x$ 作为回归函数 $\\mu(x)=a+bx$ 的估计，即 $\\hat{\\mu}(x)=\\hat{a}+\\hat{b}x$ 称为 $Y$ 关于 $x$ 的 **经验回归函数**，记 $\\hat{y}=\\hat{a}+\\hat{b}x$ 称为 $Y$ 关于 $x$ 的 **经验回归方程**，简称 **回归方程**，其图形称为 **回归直线**\n",
    "\n",
    "&emsp;&emsp;为了以后计算方便引入下述记号 <br><br>\n",
    "<center>$\\begin{cases}S_{xx}=\\sum\\limits^{n}_{i=1}(x_i-\\bar{x})^2=\\sum\\limits^{n}_{i=1}x^2_i-\\dfrac{1}{n}\\big(\\sum\\limits^{n}_{i=1}x_i\\big)^2\\\\S_{yy}=\\sum\\limits^{n}_{i=1}(y_i-\\bar{y})^2=\\sum\\limits^{n}_{i=1}y^2_i-\\dfrac{1}{n}\\big(\\sum\\limits^{n}_{i=1}y_i\\big)^2\\\\S_{xy}=\\sum\\limits^{n}_{i=1}(x_i-\\bar{x})(y_i-\\bar{y})=\\sum\\limits^{n}_{i=1}x_iy_i-\\dfrac{1}{n}\\big(\\sum\\limits^{n}_{i=1}x_i\\big)\\big(\\sum\\limits^{n}_{i=1}y_i\\big)\\end{cases}$</center><br>\n",
    "\n",
    "&emsp;&emsp;这样 $a,b$ 的估计值可以写成 <br><br>\n",
    "<center>$\\hat{b}=\\dfrac{S_{xy}}{S_{xx}},\\quad\\hat{a}=\\bar{y}-\\bar{x}\\hat{b}$</center>"
   ]
  },
  {
   "cell_type": "markdown",
   "id": "f702799b",
   "metadata": {},
   "source": [
    "<div class=\"alert alert-danger\" role=\"alert\"><span class=\"label label-warning\">例题</span> 设在上例中的随机变量 $Y$ 符合一元线性回归模型所述的条件，求 $Y$ 关于 $x$ 的线性回归方程</div>\n",
    "\n",
    "<table border=0 cellpadding=0 cellspacing=0 width=990 style='border-collapse:\n",
    " collapse;table-layout:auto;'>\n",
    " <col span=5>\n",
    " <tr height=18>\n",
    "  <td style='text-align: center;'>$x$</td>\n",
    "  <td style='text-align: center;'>$y$</td>\n",
    "  <td style='text-align: center;'>$x^2$</td>\n",
    "  <td style='text-align: center;'>$y^2$</td>\n",
    "  <td style='text-align: center;'>$xy$</td>\n",
    " </tr>\n",
    " <tr height=18>\n",
    "  <td style='text-align: center;'>$100$</td>\n",
    "  <td style='text-align: center;'>$45$</td>\n",
    "  <td style='text-align: center;'>$10000$</td>\n",
    "  <td style='text-align: center;'>$2025$</td>\n",
    "  <td style='text-align: center;'>$4500$</td>\n",
    " </tr>\n",
    " <tr height=18>\n",
    "  <td style='text-align: center;'>$110$</td>\n",
    "  <td style='text-align: center;'>$51$</td>\n",
    "  <td style='text-align: center;'>$12100$</td>\n",
    "  <td style='text-align: center;'>$2601$</td>\n",
    "  <td style='text-align: center;'>$5610$</td>\n",
    " </tr>\n",
    " <tr height=18>\n",
    "  <td style='text-align: center;'>$120$</td>\n",
    "  <td style='text-align: center;'>$54$</td>\n",
    "  <td style='text-align: center;'>$14400$</td>\n",
    "  <td style='text-align: center;'>$2916$</td>\n",
    "  <td style='text-align: center;'>$6480$</td>\n",
    " </tr>\n",
    " <tr height=18>\n",
    "  <td style='text-align: center;'>$130$</td>\n",
    "  <td style='text-align: center;'>$61$</td>\n",
    "  <td style='text-align: center;'>$16900$</td>\n",
    "  <td style='text-align: center;'>$3721$</td>\n",
    "  <td style='text-align: center;'>$7930$</td>\n",
    " </tr>\n",
    " <tr height=18>\n",
    "  <td style='text-align: center;'>$140$</td>\n",
    "  <td style='text-align: center;'>$66$</td>\n",
    "  <td style='text-align: center;'>$19600$</td>\n",
    "  <td style='text-align: center;'>$4356$</td>\n",
    "  <td style='text-align: center;'>$9240$</td>\n",
    " </tr>\n",
    " <tr height=18>\n",
    "  <td style='text-align: center;'>$150$</td>\n",
    "  <td style='text-align: center;'>$70$</td>\n",
    "  <td style='text-align: center;'>$22500$</td>\n",
    "  <td style='text-align: center;'>$4900$</td>\n",
    "  <td style='text-align: center;'>$10500$</td>\n",
    " </tr>\n",
    " <tr height=18>\n",
    "  <td style='text-align: center;'>$160$</td>\n",
    "  <td style='text-align: center;'>$74$</td>\n",
    "  <td style='text-align: center;'>$25600$</td>\n",
    "  <td style='text-align: center;'>$5476$</td>\n",
    "  <td style='text-align: center;'>$11840$</td>\n",
    " </tr>\n",
    " <tr height=18>\n",
    "  <td style='text-align: center;'>$170$</td>\n",
    "  <td style='text-align: center;'>$78$</td>\n",
    "  <td style='text-align: center;'>$28900$</td>\n",
    "  <td style='text-align: center;'>$6084$</td>\n",
    "  <td style='text-align: center;'>$13260$</td>\n",
    " </tr>\n",
    " <tr height=18>\n",
    "  <td style='text-align: center;'>$180$</td>\n",
    "  <td style='text-align: center;'>$85$</td>\n",
    "  <td style='text-align: center;'>$32600$</td>\n",
    "  <td style='text-align: center;'>$7225$</td>\n",
    "  <td style='text-align: center;'>$15300$</td>\n",
    " </tr>\n",
    " <tr height=18>\n",
    "  <td style='text-align: center;'>$190$</td>\n",
    "  <td style='text-align: center;'>$89$</td>\n",
    "  <td style='text-align: center;'>$36100$</td>\n",
    "  <td style='text-align: center;'>$7921$</td>\n",
    "  <td style='text-align: center;'>$16910$</td>\n",
    " </tr>\n",
    " <tr height=18>\n",
    "  <td style='text-align: center;'>$\\sum1450$</td>\n",
    "  <td style='text-align: center;'>$673$</td>\n",
    "  <td style='text-align: center;'>$218500$</td>\n",
    "  <td style='text-align: center;'>$47225$</td>\n",
    "  <td style='text-align: center;'>$101570$</td>\n",
    " </tr>\n",
    "</table>\n",
    "\n",
    "&emsp;&emsp;$S_{xx}=218500-\\dfrac{1}{10}\\times1450^2=8250$，$S_{xy}=101570-\\dfrac{1}{10}\\times1450\\times673=3985$，$\\hat{b}=\\dfrac{S_{xx}}{S_{xy}}=0.48303$，$\\hat{a}=\\bar{y}-\\bar{x}\\hat{b}=-2.73935$，可得线性回归方程 <br><br>\n",
    "<center>$\\hat{y}=\\hat{a}+\\hat{b}x=-2.73935+0.48303x$</center>"
   ]
  },
  {
   "cell_type": "markdown",
   "id": "41fc6da0",
   "metadata": {},
   "source": [
    "### 3.3 方差的估计"
   ]
  },
  {
   "cell_type": "markdown",
   "id": "c47865a1",
   "metadata": {},
   "source": [
    "&emsp;&emsp;记 $\\hat{y}_i=\\hat{y}\\;\\big|_{x=x_i}=\\hat{a}+\\hat{b}x_i$，称 $y_i-\\hat{y}_i$ 为 $x_i$ 处的 **残差**，平方和 $Q_e=\\sum\\limits^{n}_{i=1}(y_i-\\hat{y}_i)^2=\\sum\\limits^{n}_{i=1}(y_i-\\hat{a}-\\hat{b}x_i)^2$ 称为 **残差平方和**，它是经验回归函数在 $x_i$ 处的函数值 $\\hat{\\mu}(x_i)=\\hat{a}+\\hat{b}x_i$ 与 $x_i$ 处的观察值 $y_i$ 的偏差的平方和，将 $Q_e$ 作如下分解可得 <br><br>\n",
    "<center>$Q_e=\\sum\\limits^{n}_{i=1}(y_i-\\hat{y}_i)^2=\\sum\\limits^{n}_{i=1}[y_i-\\bar{y}-\\hat{b}(x_i-\\bar{x})]^2$</center><br>\n",
    "<center>$=\\sum\\limits^{n}_{i=1}(y_i-\\bar{y})^2-2\\hat{b}\\sum\\limits^{n}_{i=1}(x_i-\\bar{x})(y_i-\\bar{y})+(\\hat{b})^2\\sum\\limits^{n}_{i=1}(x_i-\\bar{x})^2$</center><br>\n",
    "<center>$=S_{yy}-2\\hat{b}S_{xy}+(\\hat{b})^2S_{xx}$</center><br>\n",
    "&emsp;&emsp;由 $\\hat{b}=\\dfrac{S_{xy}}{S_{xx}}$ 可得 $Q_e=S_{yy}-\\hat{b}S_{xy}$，将 $y_i$ 改为 $Y_i$ 即 $S_{YY}=\\sum\\limits^{n}_{i=1}(Y_i-\\bar{Y})^2$，$S_{xY}=\\sum\\limits^{n}_{i=1}(x_i-\\bar{x})(Y_i-\\bar{Y})$，则残差平方和 $Q_e$ 的相应的统计量为 <br><br>\n",
    "<center>$Q_e=S_{YY}-\\hat{b}S_{xY}$</center><br>\n",
    "残差平方和 $Q_e$ 服从分布 $\\dfrac{Q_e}{\\sigma^2}\\backsim\\chi^2(n-2)$，于是 $E(\\dfrac{Q_e}{\\sigma^2})=n-2$，这样就得到了 $\\sigma^2$ 的无偏估计量 <br><br>\n",
    "<center>$\\hat{\\sigma}^2=\\dfrac{Q_e}{n-2}=\\dfrac{1}{n-2}(S_{YY}-\\hat{b}S_{xY})$</center>"
   ]
  },
  {
   "cell_type": "markdown",
   "id": "5aa5be5a",
   "metadata": {},
   "source": [
    "<div class=\"alert alert-danger\" role=\"alert\"><span class=\"label label-warning\">例题</span> 求上例中 $\\sigma^2$ 的无偏估计</div>\n",
    "\n",
    "&emsp;&emsp;$S_{yy}=47225-\\dfrac{1}{10}\\times673^2=1932.1$，$S_{xy}=101570-\\dfrac{1}{10}\\times1450\\times673=3985$，$\\hat{b}=\\dfrac{S_{xx}}{S_{xy}}=0.48303$，可得残差平方和与方差的无偏估计为 <br><br>\n",
    "<center>$Q_e=S_{yy}-\\hat{b}S_{xy}=7.23$</center><br>\n",
    "<center>$\\sigma^2=\\dfrac{Q_e}{n-2}=\\dfrac{7.23}{8}=0.90$</center>"
   ]
  },
  {
   "cell_type": "markdown",
   "id": "76d18f8e",
   "metadata": {},
   "source": [
    "### 3.4 线性假设的显著性检验"
   ]
  },
  {
   "cell_type": "markdown",
   "id": "71e6ddfd",
   "metadata": {},
   "source": [
    "&emsp;&emsp;前面用最大似然估计法给出了回归系数的估计，并由此给出了回归方程，但回归方程并没有事先假定 $\\hat{y}$ 与 $x$ **一定存在** 线性关系，对于变量 $x$ 与 $Y$ 的任意一组观测数据 $(x_i,y_i)$ 都可以求出一条回归直线方程 $\\hat{y}=\\hat{a}+\\hat{b}x$，但这两个变量之间是否真的存在线性关系？一般来说需要经过假设检验才能确定，若线性假设符合实际，则回归系数 $b$ 不应为零，因为若 $b=0$，则 $E(Y)=\\mu(x)$ 就不依赖于 $x$，因此需要检验假设 <br><br>\n",
    "<center>$H_0:b=0,\\quad H_1:b\\ne0$</center>"
   ]
  },
  {
   "cell_type": "markdown",
   "id": "7b74bb57",
   "metadata": {},
   "source": [
    "&emsp;&emsp;使用 $t$ 检验法来进行检验可知 $\\hat{b}\\backsim N(b,\\sigma^2/S_{xx})$，代入 $\\sigma^2$ 的无偏估计可得 <br><br>\n",
    "<center>$\\dfrac{(n-2)\\hat{\\sigma}^2}{\\sigma^2}=\\dfrac{Q_e}{\\sigma^2}\\backsim\\chi^2(n-2)$</center><br>\n",
    "<center>$\\hat{b}$ 与 $Q_e$ 独立 $\\quad\\rightarrow\\quad\\dfrac{\\hat{b}-b}{\\hat{\\sigma}}\\sqrt{S_{xx}}\\backsim t(n-2)$</center><br>\n",
    "\n",
    "&emsp;&emsp;当 $H_0$ 为真时 $b=0$，此时 $t=\\dfrac{\\hat{b}}{\\hat{a}}\\sqrt{S_{xx}}\\backsim t(n-2)$，且 $E(\\hat{b})=b=0$，即得 $H_0$ 的拒绝域为 <br><br>\n",
    "<center>$|t|=\\dfrac{|\\hat{b}|}{\\hat{\\sigma}}\\sqrt{S_{xx}}\\ge t_{\\tfrac{a}{2}}(n-2)$</center><br>\n",
    "\n",
    "&emsp;&emsp;当假设 $H_0$ 被拒绝时认为回归效果是显著的，反之就认为回归效果不显著，其原因可能有如下几种\n",
    "- 影响 $Y$ 取值的，除 $x$ 及随机误差外还有其他不可忽略的因素\n",
    "- $E(Y)$ 与 $x$ 的关系不是线性的，而存在着其他的关系\n",
    "- $Y$ 与 $x$ 不存在关系"
   ]
  },
  {
   "cell_type": "markdown",
   "id": "bee16ff7",
   "metadata": {},
   "source": [
    "<div class=\"alert alert-danger\" role=\"alert\"><span class=\"label label-warning\">例题</span> 求上例中回归效果是否显著，取 $a=0.05$</div>\n",
    "\n",
    "&emsp;&emsp;$S_{xx}=8250$，$\\hat{b}=\\dfrac{S_{xx}}{S_{xy}}=0.48303$，$\\hat{\\sigma}^2=0.90$，查表可知 $t_{\\tfrac{a}{2}}(8)=2.306$ <br><br>\n",
    "<center>$|t|=\\dfrac{0.48303}{\\sqrt{0.9}}\\times\\sqrt{8250}=46.25>2.306$</center><br>\n",
    "&emsp;&emsp;故拒绝 $H_0$，认为回归效果是显著的 "
   ]
  },
  {
   "cell_type": "markdown",
   "id": "d5698d21",
   "metadata": {},
   "source": [
    "---"
   ]
  },
  {
   "cell_type": "markdown",
   "id": "b9d38b98",
   "metadata": {},
   "source": [
    "## 第04节 多元线性回归"
   ]
  },
  {
   "cell_type": "markdown",
   "id": "36825c45",
   "metadata": {},
   "source": [
    "### 4.1 多元回归方程"
   ]
  },
  {
   "cell_type": "markdown",
   "id": "fcc58748",
   "metadata": {},
   "source": [
    "&emsp;&emsp;在实际问题中，随机变量 $Y$ 往往与多个普通变量 $x_1,x_2,\\dots,x_p$ 有关，对于自变量 $x_1,x_2,\\dots,x_p$ 的一组确定的值，$Y$ 有它的分布，若 $Y$ 的数学期望存在，则其是 $x_1,x_2,\\dots,x_p$ 的函数，记为 $\\mu_Y|x_1,x_2,\\dots,x_p$ 或 $\\mu(x_1,x_2,\\dots,x_p)$ 是 $Y$ 关于 $x$ 的回归函数，在此仅研究下述多元线性回归模型 <br><br>\n",
    "<center>$Y=b_0+b_1x_1+\\dots+b_px_p+\\epsilon\\quad\\epsilon\\backsim N(0,\\sigma^2)$</center><br>\n",
    "其中 $b_0,b_1,\\dots,b_p,\\sigma^2$ 都是与 $x_1,x_2,\\dots,x_p$ 无关的未知参数，设 $(x_{11},x_{12},\\dots,x_{1p},y_{1}),\\dots,(x_{n1},x_{n2},\\dots,x_{np},y_{n})$ 是一个样本，同样可以使用最大似然估计来估计参数，即取 $\\hat{b}_0,\\hat{b}_1,\\dots,\\hat{b}_p$ 使当 $b_0=\\hat{b}_0,b_1=\\hat{b}_1,\\dots,b_p=\\hat{b}_p$ 时 $Q=\\sum\\limits^{n}_{i=1}(y_i=b_0-b_1x_{i1}-\\dots-b_px_{ip})^2$ 达到最小"
   ]
  },
  {
   "cell_type": "markdown",
   "id": "8dc6e4c6",
   "metadata": {},
   "source": [
    "&emsp;&emsp;求 $Q$ 分别关于 $b_0,b_1,\\dots,b_p$ 的偏导数，并令它们等于 $0$ 可得 <br><br>\n",
    "<center>$\\begin{cases}\\dfrac{\\partial Q}{\\partial b_0}=-2\\sum\\limits^{n}_{i=1}(y_i-b_0-b_1x_{i1}-\\dots-b_px_{ip})=0\\\\\\\\\\dfrac{\\partial Q}{\\partial b_j}=-2\\sum\\limits^{n}_{i=1}(y_i-b_0-b_1x_{i1}-\\dots-b_px_{ip})x_{ij}=0\\end{cases}$</center><br>\n",
    "<center>$\\downarrow$</center><br>\n",
    "<center>$\\begin{cases}b_0n+b_1\\sum\\limits^n_{i=1}x_{i1}+b_2\\sum\\limits^n_{i=1}x_{i2}+\\dots+b_p\\sum\\limits^n_{i=1}x_{ip}=\\sum\\limits^n_{i=1}y_i\\\\\\\\b_0\\sum\\limits^n_{i=1}x_{i1}+b_1\\sum\\limits^n_{i=1}x^2_{i1}++b_2\\sum\\limits^n_{i=1}x_{i1}x_{i2}+\\dots+b_p\\sum\\limits^n_{i=1}x_{i1}x_{ip}=\\sum\\limits^n_{i=1}x_{i1}y_i\\\\\\\\\\qquad\\qquad\\vdots\\\\\\\\b_0\\sum\\limits^n_{i=1}x_{ip}+b_1\\sum\\limits^n_{i=1}x_{ip}x_{i1}++b_2\\sum\\limits^n_{i=1}x_{ip}x_{i2}+\\dots+b_p\\sum\\limits^n_{i=1}x^2_{ip}=\\sum\\limits^n_{i=1}x_{ip}y_i\\end{cases}$</center><br>\n",
    "\n",
    "&emsp;&emsp;上式即为 **多元正规方程组**，为了求解的方便可将其写成矩阵的形式，为此引入矩阵 <br><br>\n",
    "<center>$X=\\begin{vmatrix}1&x_{11}&x_{12}&\\dots&x_{1p}\\\\1&x_{21}&x_{22}&\\dots&x_{2p}\\\\\\vdots&\\vdots&\\vdots&&\\vdots\\\\1&x_{n1}&x_{n2}&\\dots&x_{np}\\end{vmatrix}$，$Y=\\begin{vmatrix}y_1\\\\y_2\\\\\\vdots\\\\y_n\\end{vmatrix}$，$B=\\begin{vmatrix}b_0\\\\b_1\\\\\\vdots\\\\b_p\\end{vmatrix}$</center><br>\n",
    "<center>$\\downarrow$</center><br>\n",
    "<center>$X^TX=\\begin{vmatrix}1&1&\\dots&1\\\\x_{11}&x_{21}&\\dots&x_{n1}\\\\\\vdots&\\vdots&&\\vdots\\\\x_{1p}&x_{2p}&\\dots&x_{np}\\end{vmatrix}\\begin{vmatrix}1&x_{11}&x_{12}&\\dots&x_{1p}\\\\1&x_{21}&x_{22}&\\dots&x_{2p}\\\\\\vdots&\\vdots&\\vdots&&\\vdots\\\\1&x_{n1}&x_{n2}&\\dots&x_{np}\\end{vmatrix}=\\begin{vmatrix}n&\\sum\\limits^{n}_{i=1}x_{i1}&\\dots&\\sum\\limits^{n}_{i=1}x_{ip}\\\\\\sum\\limits^{n}_{i=1}x_{i1}&\\sum\\limits^{n}_{i=1}x^2_{i1}&\\dots&\\sum\\limits^{n}_{i=1}x_{i1}x_{ip}\\\\\\vdots&\\vdots&&\\vdots\\\\\\sum\\limits^{n}_{i=1}x_{ip}&\\sum\\limits^{n}_{i=1}x_{ip}x_{i1}&\\dots&\\sum\\limits^{n}_{i=1}x^2_{ip}\\end{vmatrix}$</center><br>\n",
    "<center>$X^TY=\\begin{vmatrix}1&1&\\dots&1\\\\x_{11}&x_{21}&\\dots&x_{n1}\\\\\\vdots&\\vdots&&\\vdots\\\\x_{1p}&x_{2p}&\\dots&x_{np}\\end{vmatrix}\\begin{vmatrix}y_1\\\\y_2\\\\\\vdots\\\\y_n\\end{vmatrix}=\\begin{vmatrix}\\sum\\limits^{n}_{i=1}y_i\\\\\\sum\\limits^{n}_{i=1}x_{i1}y_i\\\\\\vdots\\\\\\sum\\limits^{n}_{i=1}x_{ip}y_i\\\\\\end{vmatrix}$</center><br>\n",
    "\n",
    "&emsp;&emsp;于是上式可写成 $X^TXB=X^TY$，即正规方程组的矩阵形式，且需要求的 $(b_0,b_1,\\dots,b_p)^T$ 的最大似然估计可以通过取 $X^TX$ 的 **逆矩阵** 得到 <br><br>\n",
    "<center>$\\hat{B}=\\begin{vmatrix}\\hat{b}_0\\\\\\hat{b}_1\\\\\\vdots\\\\\\hat{b}_p\\end{vmatrix}=(X^TX)^{-1}X^TY$</center>\n",
    "\n",
    "&emsp;&emsp;取 $\\hat{b}_0+\\hat{b}_1x_1+\\dots+\\hat{b}_px_p$ 记成 $\\hat{y}$ 作为 $\\mu(x_1,x_2,\\dots,x_p)=b_0+b_1x_1+\\dots+b_px_p$ 的估计，方程 $\\hat{y}=\\hat{b}_0+\\hat{b}_1x_1+\\dots+\\hat{b}_px_p$ 称为 **$p$ 元经验线性回归方程**，简称 **回归方程**"
   ]
  },
  {
   "cell_type": "markdown",
   "id": "c18b56f9",
   "metadata": {},
   "source": [
    "<div class=\"alert alert-danger\" role=\"alert\"><span class=\"label label-warning\">例题</span> 下面给出了某种产品每件平均单价 $Y$ (元）与批量$x$ (件) 之间的关系的一组数据，求拟合的多元回归方程</div>\n",
    "\n",
    "<table border=0 cellpadding=0 cellspacing=0 width=990 style='border-collapse:\n",
    " collapse;table-layout:auto;'>\n",
    " <col span=13>\n",
    " <tr height=18>\n",
    "  <td style='text-align: center;'><strong>$x$ 件</strong></td>\n",
    "  <td style='text-align: center;'>$20$</td>\n",
    "  <td style='text-align: center;'>$25$</td>\n",
    "  <td style='text-align: center;'>$30$</td>\n",
    "  <td style='text-align: center;'>$35$</td>\n",
    "  <td style='text-align: center;'>$40$</td>\n",
    "  <td style='text-align: center;'>$50$</td>\n",
    "  <td style='text-align: center;'>$60$</td>\n",
    "  <td style='text-align: center;'>$65$</td>\n",
    "  <td style='text-align: center;'>$70$</td>\n",
    "  <td style='text-align: center;'>$75$</td>\n",
    "  <td style='text-align: center;'>$80$</td>\n",
    "  <td style='text-align: center;'>$90$</td>\n",
    " </tr>\n",
    " <tr height=18>\n",
    "  <td style='text-align: center;'><strong>$Y$ 元</strong></td>\n",
    "  <td style='text-align: center;'>$1.81$</td>\n",
    "  <td style='text-align: center;'>$1.70$</td>\n",
    "  <td style='text-align: center;'>$1.65$</td>\n",
    "  <td style='text-align: center;'>$1.55$</td>\n",
    "  <td style='text-align: center;'>$1.48$</td>\n",
    "  <td style='text-align: center;'>$1.40$</td>\n",
    "  <td style='text-align: center;'>$1.30$</td>\n",
    "  <td style='text-align: center;'>$1.26$</td>\n",
    "  <td style='text-align: center;'>$1.24$</td>\n",
    "  <td style='text-align: center;'>$1.21$</td>\n",
    "  <td style='text-align: center;'>$1.20$</td>\n",
    "  <td style='text-align: center;'>$1.18$</td>\n",
    " </tr>\n",
    "</table>\n",
    "\n",
    "![multi_d](https://s2.loli.net/2022/07/14/RL1JbOPjK7D3ipH.png)\n",
    "\n",
    "&emsp;&emsp;通过观察散点图，可选取模型 $Y=b_0+b_1x_1+\\dots+b_px_p+\\epsilon$，$\\epsilon\\backsim N(0,\\sigma^2)$ 拟合原始数据，令 $x_1=x,x_2=x^2$ 则上式可写成 <br><br> \n",
    "<center>$Y=b_0+b_1x+b_2x^2+\\epsilon\\quad\\epsilon\\backsim N(0,\\sigma^2)$</center><br>\n",
    "<center>$X=\\begin{vmatrix}1&20&400\\\\1&25&625\\\\1&30&900\\\\&\\vdots\\\\1&90&8100\\end{vmatrix}$，$Y=\\begin{vmatrix}1.81\\\\1.70\\\\1.65\\\\&\\vdots\\\\1.18\\end{vmatrix}$，$B=\\begin{vmatrix}b_0\\\\b_1\\\\b_2\\end{vmatrix}$</center><br>\n",
    "<center>$X^TX=\\begin{vmatrix}12&640&40100\\\\640&40100&2779000\\\\40100&2779000&204702500\\end{vmatrix}$，$\\Delta=1.41918\\times10^{11}$</center><br>\n",
    "<center>$\\downarrow$</center><br>\n",
    "<center>$\\hat{B}=\\begin{vmatrix}b_0\\\\b_1\\\\b_2\\end{vmatrix}=(X^TX)^{-1}X^TY=(X^TX)^{-1}\\begin{vmatrix}16.98\\\\851.3\\\\51162\\end{vmatrix}=\\begin{vmatrix}2.198266\\\\-0.022522\\\\0.000125\\end{vmatrix}$</center><br>\n",
    "&emsp;&emsp;于是得到回归方程为 $\\hat{y}=0.000125x^2-0.022522x+2.198266$"
   ]
  },
  {
   "cell_type": "markdown",
   "id": "b8fee6f9",
   "metadata": {},
   "source": [
    "### 4.2 多元回归假设的显著性检验"
   ]
  },
  {
   "cell_type": "markdown",
   "id": "2fdfd5d0",
   "metadata": {},
   "source": [
    "&emsp;&emsp;与一元线性间归一样，多元回归数学模型往往也是一种假定，为了考察这一假定是否符合实际观察结果还需进行以下的假设检验 <br><br>\n",
    "<center>$H_0:b_1=b_2=\\dots=b_p=0\\quad H_1:b_i$ 不全为零</center><br>\n",
    "&emsp;&emsp;若在显著性水平 $a$ 下拒绝 $H_0$ 就认为回归效果是显著的，另外也与一元线性回归一样，多元线性回归方程的一个重要应用是确定给定点 $x_{01},x_{02},\\dots,x_{0p}$ 处对应的 $Y$ 的观察值的预测区间"
   ]
  },
  {
   "cell_type": "markdown",
   "id": "d4129226",
   "metadata": {},
   "source": [
    "&emsp;&emsp;在实际问题中，与 $Y$ 有关的因素往往很多，如果将它们都取作自变量必然会导致所得到的回归方程很庞大，实际上有些自变量对 $Y$ 的影响很小，如果将这些自变量剔除，不但能使回归方程较为简洁便于应用，且能明确哪些因素的改变对 $Y$ 有显著的影响，从而使人们对事物有进一步的认识，但求解一个多元线性回归的问题，计算工作量是相当大的，这就需要借助于计算机来进行计算"
   ]
  }
 ],
 "metadata": {
  "kernelspec": {
   "display_name": "Python 3",
   "language": "python",
   "name": "python3"
  },
  "language_info": {
   "codemirror_mode": {
    "name": "ipython",
    "version": 3
   },
   "file_extension": ".py",
   "mimetype": "text/x-python",
   "name": "python",
   "nbconvert_exporter": "python",
   "pygments_lexer": "ipython3",
   "version": "3.8.8"
  }
 },
 "nbformat": 4,
 "nbformat_minor": 5
}

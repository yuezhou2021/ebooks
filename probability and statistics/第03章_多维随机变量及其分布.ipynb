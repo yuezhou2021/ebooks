{
 "cells": [
  {
   "cell_type": "markdown",
   "id": "36f5ae6e",
   "metadata": {},
   "source": [
    "# 第03章 多维随机变量及其分布"
   ]
  },
  {
   "cell_type": "markdown",
   "id": "4ddaa38c",
   "metadata": {},
   "source": [
    "---"
   ]
  },
  {
   "cell_type": "markdown",
   "id": "700544f4",
   "metadata": {},
   "source": [
    "## 序言"
   ]
  },
  {
   "cell_type": "markdown",
   "id": "33fcaf5a",
   "metadata": {},
   "source": [
    "### 1.内容介绍\n",
    "\n",
    "&emsp;&emsp;本章详细介绍了二维随机变量、边缘分布、条件分布、相互独立的随机变量、两个随机变量的函数的分布等定义，对其原理与例题进行了一一阐述\n",
    "\n",
    "### 2.理论目标\n",
    "\n",
    "- 掌握二维随机变量的定义\n",
    "- 掌握联合分布函数、联合分布律、联合概率密度函数\n",
    "- 掌握边缘分布律与边缘概率密度函数\n",
    "- 掌握二维均匀分布与二维正态分布\n",
    "- 掌握条件分布律与条件概率密度函数\n",
    "- 掌握相互独立的随机变量\n",
    "- 掌握二维随机变量函数的分布\n",
    "\n",
    "### 3.实践目标\n",
    "\n",
    "- 无\n",
    "\n",
    "### 4.实践案例\n",
    "\n",
    "- 无\n",
    "\n",
    "### 5.内容目录\n",
    "\n",
    "- 1.二维随机变量\n",
    "- 2.边缘分布\n",
    "- 3.条件分布\n",
    "- 4.相互独立的随机变量\n",
    "- 5.两个随机变量的函数的分布"
   ]
  },
  {
   "cell_type": "markdown",
   "id": "efad772a",
   "metadata": {},
   "source": [
    "---"
   ]
  },
  {
   "cell_type": "markdown",
   "id": "d600604f",
   "metadata": {},
   "source": [
    "## 第01节 二维随机变量"
   ]
  },
  {
   "cell_type": "markdown",
   "id": "f28387fe",
   "metadata": {},
   "source": [
    "### 1.1 二维随机变量定义"
   ]
  },
  {
   "cell_type": "markdown",
   "id": "ce78d738",
   "metadata": {},
   "source": [
    "&emsp;&emsp;在实际问题中，有些随机试验的结果往往需用两个或两个以上的随机变量来表示，例如 <br><br> \n",
    "&emsp;&emsp;\"为了分析某厂的月生产情况，既要考察某 **月产量**，又要考察其 **合格率** ，这是两个随机变量\" <br>\n",
    "&emsp;&emsp;\"在研究地震时，要记录地震发生的位置，即 **经度、纬度、深度以及裂度**，就需要同时研究四个随机变量\" <br>\n",
    "&emsp;&emsp;$\\dots$ <br><br>\n",
    "&emsp;&emsp;要研究这些随机变量之间的关系，就应同时考虑若干个随机变量的取值及其取值的规律, 即多维随机变量的分布，本章探讨由两个随机变量组成的 **二维随机变量及其分布**，相关结论可以推广到多于二维的情况"
   ]
  },
  {
   "cell_type": "markdown",
   "id": "da82dbcc",
   "metadata": {},
   "source": [
    "<div class=\"alert alert-info\" role=\"alert\"><span class=\"label label-success\">定义 $3.1$</span> 设随机试验 $E$ 的样本空间为 $\\Omega$, 对 $\\Omega$ 中的每一个样本点都有一对有序实数 $(X,Y)$ 与它对应，则称 $X,Y$ 是定义在上的随机变量，则由它们构成的一个向量 $(X，Y)$ 称为 <strong>二维随机变量</strong> 或 <strong>二维随机向量</strong></div>\n",
    "\n",
    "> 从几何图形看，一维随机变量可以看成是直线上的随机点，二维随机变量可以看成是平面上的随机点 <br><br>\n",
    "二维随机变量 $(X，Y)$ 的性质不仅与 $X$ 及 $Y$ 有关，而且还依赖于这两个随机变量的相互关系，因此逐个来研究 $X$ 与 $Y$ 的性质是不够的，还需要将 $(X，Y)$ 作为一个整体来进行研究"
   ]
  },
  {
   "cell_type": "markdown",
   "id": "3e40b0d6",
   "metadata": {},
   "source": [
    "### 1.2 联合分布函数"
   ]
  },
  {
   "cell_type": "markdown",
   "id": "c1509d0e",
   "metadata": {},
   "source": [
    "<div class=\"alert alert-info\" role=\"alert\"><span class=\"label label-success\">定义 $3.2$</span> 设 $(X,Y)$ 是二维随机变量，对于任意实数 $x,y$，称二元函数 <br><br>\n",
    "$\\qquad\\qquad\\qquad\\qquad\\qquad\\qquad\\qquad\\qquad$$F(x,y) = P((X\\le x)\\cap (Y \\le y)) = P(X\\le x, Y\\le y)$ <br><br>\n",
    "为二维随机变量 $(X,Y)$ 的 <strong>联合分布函数 (Unity distribution function)</strong></div>\n",
    "\n",
    "&emsp;&emsp;如果把二维随机变量 $(X,Y)$ 看作平面上具有随机坐标 $(X,Y)$ 的点，那么分布函数 $F(x,y)$ 在 $(X,Y)$ 处的函数值就是随机点 $(X,Y)$ 落在以点 $(X,Y)$ 为顶点而位于该点左下方的无穷矩形域内的概率"
   ]
  },
  {
   "cell_type": "markdown",
   "id": "dbf04364",
   "metadata": {},
   "source": [
    "&emsp;&emsp;联合分布函数 $F(x,y)$ 具有以下性质 \n",
    "- **非负性** 与 **归一性**: 对任意实数 $x,y$，有 $0\\le F(x,y) \\le 1$ <br><br>\n",
    "$\\qquad\\qquad\\qquad\\qquad\\qquad\\qquad$$\\begin{aligned}F(-\\infty,y) = \\lim_{x\\to -\\infty}F(x,y)=0, \\quad &F(x,-\\infty) = \\lim_{y\\to -\\infty}F(x,y)=0 \\\\ F(-\\infty,-\\infty) = \\lim_{x\\to -\\infty\\atop y\\to-\\infty}F(x,y)=0, \\quad &F(+\\infty,+\\infty) = \\lim_{x\\to +\\infty\\atop y\\to+\\infty}F(x,y)=1 \\end{aligned}$ <br><br>\n",
    "\n",
    "- **单调性**: $F(x,y)$ 对变量 $x$ 和 $y$ 均是单调不减函数 <br><br>\n",
    "$\\qquad\\qquad\\qquad\\qquad\\qquad\\qquad\\qquad\\qquad\\qquad$$\\begin{cases}F(x_2,y) \\ge F(x_1,y) &x_2 > x_1 \\\\ F(x,y_2) \\ge F(x,y_1) &y_2 > y_1\\end{cases}$ <br><br>\n",
    "\n",
    "- **右连续性**: $F(x,y)$ 关于变量 $x$ 和 $y$ 均是右连续的 <br><br>\n",
    "$\\qquad\\qquad\\qquad\\qquad\\qquad\\qquad\\qquad\\qquad$$F(x+0,y) = F(x,y), \\quad F(x,y+0)=F(x,y)$ <br><br>\n",
    "\n",
    "- **分解性**: 对任意实数 $x_1 < x_2, y_1 < y_2$，有 <br><br>\n",
    "$\\qquad\\qquad\\qquad\\qquad\\qquad$$P(x_1<X\\le x_2,\\;y_1<Y \\le y_2) = F(x_2,y_2) - F(x_1,y_2) - F(x_2,y_1) + F(x_1,y_1) \\ge 0$"
   ]
  },
  {
   "cell_type": "markdown",
   "id": "3867be71",
   "metadata": {},
   "source": [
    "<div class=\"alert alert-danger\" role=\"alert\"><span class=\"label label-warning\">例题</span> 设二维随机变量 $(X,Y)$ 的联合分布函数为 <br><br> $\\qquad\\qquad\\qquad\\qquad\\qquad\\qquad$$F(x,y) = \\dfrac{1}{\\pi^2}(A + \\arctan \\dfrac{x}{2})(B + \\arctan \\dfrac{y}{3}) \\quad x\\in(-\\infty,+\\infty),\\; y\\in(-\\infty,+\\infty)$ <br><br> 试求$(1)$ 常数 $A,B$; $\\;\\; (2)$ $P(X\\le 2,Y\\le 3)$;</div>\n",
    "\n",
    "&emsp;&emsp;$(1)$ 由分布函数 $F(x,y)$ 的性质，得 <br><br>\n",
    "$\\qquad\\qquad\\qquad\\qquad\\qquad\\qquad\\qquad\\qquad$$\\begin{aligned} F(-\\infty,y) &= \\lim_{x\\to -\\infty}\\dfrac{1}{\\pi^2}(A + \\arctan \\dfrac{x}{2})(B + \\arctan \\dfrac{y}{3}) \\\\ &=\\dfrac{1}{\\pi^2}(A -\\dfrac{\\pi}{2})(B + \\arctan \\dfrac{y}{3}) = 0 \\\\\\\\ F(x,-\\infty) &= \\lim_{y\\to -\\infty}\\dfrac{1}{\\pi^2}(A + \\arctan \\dfrac{x}{2})(B + \\arctan \\dfrac{y}{3}) \\\\ &=\\dfrac{1}{\\pi^2}(A + \\arctan \\dfrac{x}{2})(B - \\dfrac{\\pi}{2}) = 0 \\\\\\\\ A &= \\dfrac{\\pi}{2},\\;B = \\dfrac{\\pi}{2}\\end{aligned}$ <br><br>\n",
    "\n",
    "&emsp;&emsp;$(2)$ $P(X\\le 2,Y\\le 3) = F(2,3) = \\dfrac{1}{\\pi^2}(\\dfrac{\\pi}{2} + \\arctan 1)(\\dfrac{\\pi}{2} + \\arctan 1) = \\dfrac{9}{16}$"
   ]
  },
  {
   "cell_type": "markdown",
   "id": "4decfa60",
   "metadata": {},
   "source": [
    "### 1.3 联合分布律 "
   ]
  },
  {
   "cell_type": "markdown",
   "id": "4653307d",
   "metadata": {},
   "source": [
    "<div class=\"alert alert-info\" role=\"alert\"><span class=\"label label-success\">定义 $3.3$</span> 设二维离散型随机变量 $(X,Y)$ 所有可能的取值为 $（x_i,y_i)(i,j=1,2,\\dots)$，则称 <br><br>\n",
    "$\\qquad\\qquad\\qquad\\qquad\\qquad\\qquad\\qquad\\qquad\\qquad$$p_{ij}=P(X=x_i,Y=y_j) \\quad (i,j=1,2,\\dots)$ <br><br>\n",
    "为二维离散型随机变量 $(X,Y)$ 的 <strong>概率分布</strong> 或 <strong>分布律</strong>，也称为 $X$ 和 $Y$ 的 <strong>联合分布律 (Unity distribution law)</strong> </div>\n",
    "\n",
    "&emsp;&emsp;二维离散型随机变量 $(X,Y)$ 的联合分布律也可用如下表格表示 \n",
    "\n",
    "||$y_1$|$y_2$|$\\dots$|$y_j$|$\\dots$|\n",
    "|:---:|:---:|:---:|:---:|:---:|:---:|\n",
    "|$x_1$|$p_{11}$|$p_{12}$|$\\dots$|$p_{1j}$|$\\dots$|\n",
    "|$x_2$|$p_{21}$|$p_{22}$|$\\dots$|$p_{2j}$|$\\dots$|\n",
    "|$\\vdots$|$\\vdots$|$\\vdots$||$\\vdots$||\n",
    "|$x_i$|$p_{i1}$|$p_{i2}$|$\\dots$|$p_{ij}$|$\\dots$|\n",
    "|$\\vdots$|$\\vdots$|$\\vdots$||$\\vdots$||"
   ]
  },
  {
   "cell_type": "markdown",
   "id": "5daa0342",
   "metadata": {},
   "source": [
    "&emsp;&emsp;由概率的定义知，这里的 $p_{ij}$ 满足\n",
    "- **非负性**: $P_{ij} \\ge 0 \\quad(i,j=1,2,\\dots)$ <br><br>\n",
    "- **归一性**: $\\sum\\limits^{\\infty}_{i=1}\\sum\\limits^{\\infty}_{j=1}=1$\n",
    "\n",
    "&emsp;&emsp;如果 $(X,Y)$ 是二维离散型随机变量，则分布函数为 $F(x,y) = \\sum\\limits^{}_{x_i \\le x}\\sum\\limits^{}_{y_j \\le y}P_{ij}$，这里和式是对一切不等式 $x_i \\le x,\\;y_j \\le y$ 的 $i,j$ 来求和的"
   ]
  },
  {
   "cell_type": "markdown",
   "id": "a6a11d9e",
   "metadata": {},
   "source": [
    "<div class=\"alert alert-danger\" role=\"alert\"><span class=\"label label-warning\">例题</span> 盒中有 $1$ 个红球，$2$ 个白球和 $3$ 个黑球，现从中任取 $3$ 个球，设 $X,Y$ 分别表示取出的 $3$ 个球中的红球数和白球数，试求 $(1)$ $(X,Y)$ 的联合分布律; $\\;\\; (2)$ 至少取出 $1$ 个红球与 $1$ 个白球的概率;$\\;\\; (3)$ F(0.5,1);</div>\n",
    "\n",
    "&emsp;&emsp;$(1)$ $X$ 可能的取值为 $0,1$，$Y$ 可能的取值为 $0,1,2$，则 $(X,Y)$ 的联合分布律为 $p_{ij}=P(X=i,\\;Y=j)=\\dfrac{C^i_1C^j_2C^{3-i-j}_3}{C^3_6} \\quad (i=0,1;j=0,1,2)$ \n",
    "\n",
    "||$0$|$1$|$2$|\n",
    "|:---:|:---:|:---:|:---:|\n",
    "|$0$|$\\dfrac{1}{20}$|$\\dfrac{6}{20}$|$\\dfrac{3}{20}$|\n",
    "|$1$|$\\dfrac{3}{20}$|$\\dfrac{6}{20}$|$\\dfrac{1}{20}$|\n",
    "\n",
    "<br>\n",
    "&emsp;&emsp;$(2)$ $P(X\\ge 1,Y\\ge 1) = P(X=1,Y=1) + P(X=1,Y=2) = \\dfrac{7}{20}$\n",
    "\n",
    "<br>\n",
    "&emsp;&emsp;$(3)$ $F(0.5,1) = P(X=0,Y=0) + P(X=0,Y=1) = \\dfrac{7}{20}$"
   ]
  },
  {
   "cell_type": "markdown",
   "id": "fa39a97d",
   "metadata": {},
   "source": [
    "### 1.4 联合概率密度函数"
   ]
  },
  {
   "cell_type": "markdown",
   "id": "3a7e31ee",
   "metadata": {},
   "source": [
    "<div class=\"alert alert-info\" role=\"alert\"><span class=\"label label-success\">定义 $3.4$</span> 设二维离散型随机变量 $(X,Y)$ 的联合分布函数为 $F(x,y)$，如果存在非负可积函数 $f(x,y)$，使得任意实数 $x,y$ 有 <br><br>\n",
    "$\\qquad\\qquad\\qquad\\qquad\\qquad\\qquad\\qquad\\qquad\\qquad\\qquad$$F(x,y) = \\int^{y}_{-\\infty}\\int^{x}_{-\\infty}f(u,v) dudv$ <br><br>\n",
    "则称 $(X,Y)$ 为 <strong>二维连续型随机变量 (Two-Dimension continuous random variable)</strong>，称 $f(x,y)$ 为 $(X,Y)$ 的 <strong>联合概率密度函数 (Unity probability density function)</strong> </div>"
   ]
  },
  {
   "cell_type": "markdown",
   "id": "d444895d",
   "metadata": {},
   "source": [
    "&emsp;&emsp;联合概率密度函数具有以下性质\n",
    "- **非负性**: $f(x,y) \\ge 0$ <br><br>\n",
    "- **归一性**: $\\iint\\limits^{+\\infty}_{-\\infty}f(x,y)\\; dxdy =1$ <br><br>\n",
    "- 设 $G$ 是 $xOy$ 平面上的任一区域，则 $(X,Y)$ 落在 $G$ 内的概率为 <br><br>\n",
    "$\\qquad\\qquad\\qquad\\qquad\\qquad\\qquad\\qquad\\qquad\\qquad$$P((X,Y) \\in G) = \\iint_G f(x,y) dxdy$ <br><br>\n",
    "- 若 $f(x,y)$ 在点 $(x,y)$ 处连续，则有 <br><br>\n",
    "$\\qquad\\qquad\\qquad\\qquad\\qquad\\qquad\\qquad\\qquad\\qquad\\qquad$$\\dfrac{\\partial^2F(x,y)}{\\partial x \\partial y} = f(x,y)$ <br><br>\n",
    "\n",
    "&emsp;&emsp;以上性质参照一维连续型随机变量的概率密度 $f(x)$ 的性质，并由二维连续型随机变量的定义可以证明\n",
    "- 曲面 $z=f(x,y)$ 在 $xOy$ 坐标平面上方\n",
    "- $z=f(x,y)$ 以下，$xOy$ 平面以上的体积为 $1$\n",
    "- 二维连续型随机变量 $(X,Y)$ 在平面区域 $D$ 中取值的概率等于以曲面 $z=f(x,y)$为顶，$D$ 为底的曲顶柱体的体积，因此二维连续型随机变量的概率要用二重积分计算"
   ]
  },
  {
   "cell_type": "markdown",
   "id": "77dbbb24",
   "metadata": {},
   "source": [
    "<div class=\"alert alert-danger\" role=\"alert\"><span class=\"label label-warning\">例题</span> 设二维随机变量 $(X,Y)$ 的联合分布函数为 <br><br> $\\qquad\\qquad\\qquad\\qquad\\qquad\\qquad$$F(x,y) = \\dfrac{1}{\\pi^2}(\\dfrac{\\pi}{2} + \\arctan \\dfrac{x}{2})(\\dfrac{\\pi}{2} + \\arctan \\dfrac{y}{3}) \\quad x\\in(-\\infty,+\\infty),\\; y\\in(-\\infty,+\\infty)$ <br><br> 试求$(1)$ $(X,Y)$ 的概率密度 $f(x,y)$; $\\;\\; (2)$ $P(0\\le X \\le 3)$;</div>\n",
    "\n",
    "&emsp;&emsp;$(1)$ 由概率密度 $f(x,y)$ 的性质，得 <br><br>\n",
    "$\\qquad\\qquad\\qquad\\qquad\\qquad\\qquad\\qquad\\qquad$$\\begin{aligned} \\dfrac{\\partial F}{\\partial x} &= \\dfrac{1}{\\pi^2}(\\dfrac{\\pi}{2} + \\arctan \\dfrac{y}{3})(\\dfrac{1}{2(1+x^2/4)}) = \\dfrac{2}{\\pi^2}(\\dfrac{\\pi}{2} + \\arctan \\dfrac{y}{3})\\dfrac{1}{4+x^2} \\\\\\\\ \\dfrac{\\partial^2 F}{\\partial x\\partial y}&=\\dfrac{2}{\\pi^2}(\\dfrac{1}{4+x^2})(\\dfrac{3}{9+x^2}) = \\dfrac{6}{\\pi^2(x^2+4)(x^2+9)} \\end{aligned}$ <br><br>\n",
    "\n",
    "&emsp;&emsp;$(2)$ <br><br>\n",
    "$\\qquad\\qquad\\qquad\\qquad\\qquad\\qquad$$\\begin{aligned}P(0\\le X\\le 3) &= P(0 \\le X \\le 3,\\;-\\infty \\le Y \\le +\\infty) \\\\ &= F(3,+\\infty) - F(0,+\\infty) - F(3,-\\infty) + F(0,-\\infty) \\\\ &= F(3,+\\infty) - F(0,+\\infty) = \\dfrac{1}{\\pi^2}[(\\dfrac{\\pi}{2} + \\dfrac{\\pi}{4})\\pi - \\dfrac{\\pi}{2}\\pi] = \\dfrac{1}{4} \\end{aligned}$"
   ]
  },
  {
   "cell_type": "markdown",
   "id": "07988fbc",
   "metadata": {},
   "source": [
    "<div class=\"alert alert-info\" role=\"alert\"><span class=\"label label-success\">定义 $3.5$</span> 设二维随机变量 $(X,Y)$ 的概率密度函数为 $f(x,y)$，其形式为 <br><br>\n",
    "$\\qquad\\qquad\\qquad\\qquad\\qquad\\qquad\\qquad\\qquad\\qquad\\qquad$$f(x,y) = \\begin{cases} \\varphi(x,y) &(x,y) \\in D \\\\ 0 &else\\end{cases}$ <br><br>\n",
    "区域 $D$ 称为 <strong>有效区域</strong>，有效区域上对应的非零函数 $\\varphi(x,y)$ 称为 <strong>有效函数</strong> </div>\n",
    "\n",
    "&emsp;&emsp;易知概率密度函数的两个重要性质变形为\n",
    "- 在有效区域 $D$ 上的有效函数 $\\varphi(x，y)$ 的二重积分等于 $1$，即有效区域 $D$ 上的曲顶柱体的体积为 $1$\n",
    "- 随机变量 $(X，Y)$ 在区域 $G$ 上取值的概率，是区域 $G$ 与有效区域 $D$ 的交集 $D\\cap G$ 为公共区域上有效函数 $\\varphi(x,y)$ 的二重积分，即以公共区域 $D\\cap G$ 为底，曲面 $z=\\varphi(x,y)$ 为顶的曲顶柱体的体积"
   ]
  },
  {
   "cell_type": "markdown",
   "id": "888367d5",
   "metadata": {},
   "source": [
    "---"
   ]
  },
  {
   "cell_type": "markdown",
   "id": "e375fedc",
   "metadata": {},
   "source": [
    "## 第02节 边缘分布"
   ]
  },
  {
   "cell_type": "markdown",
   "id": "643b6eca",
   "metadata": {},
   "source": [
    "### 2.1 边缘分布律"
   ]
  },
  {
   "cell_type": "markdown",
   "id": "97dc0009",
   "metadata": {},
   "source": [
    "<div class=\"alert alert-info\" role=\"alert\"><span class=\"label label-success\">定义 $3.6$</span> 设二维随机变量 $(X,Y)$ 的联合分布律为 <br><br>\n",
    "$\\qquad\\qquad\\qquad\\qquad\\qquad\\qquad\\qquad\\qquad\\qquad$$P(X=x_i,Y=y_j) = P_{ij} \\quad (i,j=1,2,\\dots)$ <br><br>\n",
    "$(X,Y)$ 是一个整体，但 $X,Y$ 均为随机变量，均有各自的分布律，则称其为关于 $X,Y$ 的 <strong>边缘分布律</strong></div>"
   ]
  },
  {
   "cell_type": "markdown",
   "id": "ed0dfbb7",
   "metadata": {},
   "source": [
    "&emsp;&emsp;关于 $X$ 的边缘分布律，记为 $P_{i\\cdot}$，为 <br><br>\n",
    "$\\qquad\\qquad\\qquad\\qquad\\qquad\\qquad\\qquad\\qquad$$\\begin{aligned} P(X=x_i) &= P[X=x_i,\\bigcup\\limits^{\\infty}_{j=1}(Y=y_j)] \\\\ &=\\sum\\limits^{\\infty}_{j=1}P(X=x_i,\\;Y=y_j) = \\sum\\limits^{\\infty}_{j=1}P_{ij} \\quad (i=1,2,\\dots)\\end{aligned}$ \n",
    "\n",
    "&emsp;&emsp;关于 $Y$ 的边缘分布律，记为 $P_{\\cdot j}$，为 <br><br>\n",
    "$\\qquad\\qquad\\qquad\\qquad\\qquad\\qquad\\qquad\\qquad$$\\begin{aligned} P(Y=y_j) &= P[Y=y_j,\\bigcup\\limits^{\\infty}_{i=1}(X=x_i)] \\\\ &=\\sum\\limits^{\\infty}_{i=1}P(X=x_i,\\;Y=y_j) = \\sum\\limits^{\\infty}_{i=1}P_{ij} \\quad (j=1,2,\\dots)\\end{aligned}$ \n",
    "\n",
    "&emsp;&emsp;$(X,Y)$ 关于 $X$ 的边缘分布律为 \n",
    "\n",
    "|$X$|$x_1$|$x_2$|$\\dots$|$x_i$|$\\dots$|\n",
    "|:-:|:-:|:-:|:-:|:-:|:-:|\n",
    "|$P_{i\\cdot}$|$P_{1\\cdot}$|$P_{2\\cdot}$|$\\dots$|$P_{i\\cdot}$|$\\dots$|\n",
    "\n",
    "&emsp;&emsp;$(X,Y)$ 关于 $Y$ 的边缘分布律为 \n",
    "\n",
    "|$Y$|$y_1$|$y_2$|$\\dots$|$y_j$|$\\dots$|\n",
    "|:-:|:-:|:-:|:-:|:-:|:-:|\n",
    "|$P_{\\cdot j}$|$P_{\\cdot 1}$|$P_{\\cdot 2}$|$\\dots$|$P_{\\cdot j}$|$\\dots$|"
   ]
  },
  {
   "cell_type": "markdown",
   "id": "91e65443",
   "metadata": {},
   "source": [
    "<div class=\"alert alert-danger\" role=\"alert\"><span class=\"label label-warning\">例题</span> 设二维随机变量 $(X,Y)$ 的联合分布律为下表所示，求 $(X,Y)$ 关于 $X$ 及 $Y$ 的边缘分布律</div>\n",
    "\n",
    "||$-1.2$|$1$|$3$|$4$|\n",
    "|:---:|:---:|:---:|:---:|:---:|\n",
    "|$0$|$\\dfrac{1}{6}$|$0$|$\\dfrac{1}{6}$|$0$|\n",
    "|$1$|$\\dfrac{1}{6}$|$0$|$0$|$0$|\n",
    "|$2.1$|$0$|$\\dfrac{1}{3}$|$0$|$0$|\n",
    "|$3$|$0$|$0$|$0$|$\\dfrac{1}{6}$|\n",
    "\n",
    "&emsp;&emsp;$(X,Y)$ 关于 $X$ 的边缘分布律为 \n",
    "\n",
    "|$X$|$0$|$1$|$2.1$|$3$|\n",
    "|:-:|:-:|:-:|:-:|:-:|\n",
    "|$P_{i\\cdot}$|$\\dfrac{1}{3}$|$\\dfrac{1}{6}$|$\\dfrac{1}{3}$|$\\dfrac{1}{6}$|\n",
    "\n",
    "&emsp;&emsp;$(X,Y)$ 关于 $Y$ 的边缘分布律为 \n",
    "\n",
    "|$Y$|$-1.2$|$1$|$3$|$4$|\n",
    "|:-:|:-:|:-:|:-:|:-:|\n",
    "|$P_{\\cdot j}$|$\\dfrac{1}{3}$|$\\dfrac{1}{3}$|$\\dfrac{1}{6}$|$\\dfrac{1}{6}$|"
   ]
  },
  {
   "cell_type": "markdown",
   "id": "0e4fafb6",
   "metadata": {},
   "source": [
    "### 2.2 边缘概率密度函数"
   ]
  },
  {
   "cell_type": "markdown",
   "id": "bb50a235",
   "metadata": {},
   "source": [
    "<div class=\"alert alert-info\" role=\"alert\"><span class=\"label label-success\">定义 $3.6$</span> 设二维随机变量 $(X,Y)$ 的联合概率密度函数为 $f(x,y)$，则分别称 <br><br>\n",
    "$\\qquad\\qquad\\qquad\\qquad\\qquad\\qquad\\qquad\\qquad$$f_X(x)=\\int\\limits^{+\\infty}_{-\\infty}f(x,y)dy,\\quad f_Y(y)=\\int\\limits^{+\\infty}_{-\\infty}f(x,y)dx$ <br><br>\n",
    "$(X,Y)$ 为 $(X,Y)$ 关于 $X$ 和 $Y$ 的 <strong>边缘概率密度函数</strong></div>"
   ]
  },
  {
   "cell_type": "markdown",
   "id": "a3205b82",
   "metadata": {},
   "source": [
    "<div class=\"alert alert-danger\" role=\"alert\"><span class=\"label label-warning\">例题</span> 设二维随机变量 $(X,Y)$ 的联合概率密度函数为 <br><br> $\\qquad\\qquad\\qquad\\qquad\\qquad\\qquad\\qquad\\qquad\\qquad\\qquad$$f(x,y)=\\begin{cases}xe^{-y} &0<x<y \\\\ 0 &else\\end{cases}$<br><br>求边缘概率密度函数 $f_X(x)$ 及 $f_Y(y)$</div>\n",
    "\n",
    "&emsp;&emsp;当 $x>0$ 时，$f_X(x)=\\int\\limits^{+\\infty}_{x}xe^{-y}dy = -xe^{-x}$, 当 $x\\le 0$ 时，$f_X(x)=\\int\\limits^{x}_{-\\infty}0dy = 0$，可得 <br><br>\n",
    "$\\qquad\\qquad\\qquad\\qquad\\qquad\\qquad\\qquad\\qquad\\qquad\\qquad\\quad$$f_X(x)=\\begin{cases}xe^{-x} &x>0 \\\\0 &x\\le0\\end{cases}$\n",
    "\n",
    "&emsp;&emsp;同理当 $y>0$ 时，$f_Y(y)=\\int\\limits^{y}_{0}xe^{-y}dx = \\dfrac{y^2}{2}e^{-y}$, 当 $x\\le 0$ 时，$f_Y(y)= 0$，可得 <br><br>\n",
    "$\\qquad\\qquad\\qquad\\qquad\\qquad\\qquad\\qquad\\qquad\\qquad\\qquad\\quad$$f_X(x)=\\begin{cases}\\dfrac{y^2}{2}e^{-y} &y>0 \\\\0 &y\\le0\\end{cases}$"
   ]
  },
  {
   "cell_type": "markdown",
   "id": "76bbb7e0",
   "metadata": {},
   "source": [
    "#### 2.2.1 二维均匀分布"
   ]
  },
  {
   "cell_type": "markdown",
   "id": "34ee95d8",
   "metadata": {},
   "source": [
    "&emsp;&emsp;设 $G$ 是 $xOy$ 平面上的有界区域，其面积为 $S_G$，若二维随机变量 $(X,Y)$ 的联合概率密度函数为 <br><br>\n",
    "$\\qquad\\qquad\\qquad\\qquad\\qquad\\qquad\\qquad\\qquad\\qquad\\qquad\\quad$$f(x,y)=\\begin{cases} \\dfrac{1}{S_G} &(x,y)\\in G \\\\0 &else\\end{cases}$ <br><br>\n",
    "&emsp;&emsp;则称 $(X,Y)$ 服从区域 $G$ 上的 **二维均匀分布**，若二维随机变量 $(X,Y)$ 服从区域 $G$ 上的二维均匀分布，且 $D\\subset G$，则 <br><br>\n",
    "$\\qquad\\qquad\\qquad\\qquad\\qquad\\qquad\\qquad$$P((X,Y) \\in D) = \\iint_Df(x,y)dxdy = \\iint_D\\dfrac{1}{S_G}dxdy=\\dfrac{1}{S_G}\\iint_Ddxdy=\\dfrac{S_D}{S_G}$ <br><br>\n",
    "&emsp;&emsp;其中 $S_D$ 是区域 $D$ 的面积"
   ]
  },
  {
   "cell_type": "markdown",
   "id": "52e9919b",
   "metadata": {},
   "source": [
    "<div class=\"alert alert-danger\" role=\"alert\"><span class=\"label label-warning\">例题</span> 设二维随机变量 $(X,Y)$ 在区域 $G$ 上服从均匀分布，其中 $G$ 由 $x$ 轴，$y$ 轴及直线 $2x+y=2$ 围成，求其边缘概率密度函数 $f_X(x)$ 及 $f_Y(y)$</div>\n",
    "\n",
    "&emsp;&emsp;$S_G=1$ 时，可得 <br><br>\n",
    "$\\qquad\\qquad\\qquad\\qquad\\qquad\\qquad\\qquad\\qquad\\qquad\\qquad\\quad$$f(x,y)=\\begin{cases} 1 &(x,y) \\in G \\\\ 0 &else\\end{cases}$<br><br>\n",
    "\n",
    "&emsp;&emsp;当 $x<0$ 或 $x>1$ 时，$f_X(x)=\\int^{+\\infty}_{-\\infty}f(x,y)dy = \\int^{+\\infty}_{-\\infty}0dy =0$, 当 $0\\le x\\le 1$ 时，$f_X(x)= 0\\int^{+\\infty}_{-\\infty}f(x,y)dy = \\int^{2-2x}_{0}1dy =2-2x$，可得 <br><br>\n",
    "$\\qquad\\qquad\\qquad\\qquad\\qquad\\qquad\\qquad\\qquad\\qquad\\qquad\\quad$$f_X(x)=\\begin{cases}2-2x & 0\\le x \\le1 \\\\0 &else\\end{cases}$\n",
    "\n",
    "&emsp;&emsp;同理可得 <br><br>\n",
    "$\\qquad\\qquad\\qquad\\qquad\\qquad\\qquad\\qquad\\qquad\\qquad\\qquad\\quad$$f_Y(y)=\\begin{cases}1 - \\dfrac{y}{2} & 0 \\le y \\le2 \\\\0 &else\\end{cases}$"
   ]
  },
  {
   "cell_type": "markdown",
   "id": "cb50c899",
   "metadata": {},
   "source": [
    "#### 2.2.2 二维正态分布"
   ]
  },
  {
   "cell_type": "markdown",
   "id": "804fa874",
   "metadata": {},
   "source": [
    "&emsp;&emsp;若二维随机变量 $(X,Y)$ 的联合概率密度函数为 <br><br>\n",
    "$\\qquad\\qquad\\qquad\\qquad\\qquad\\qquad\\quad$$f(x,y)=\\dfrac{1}{2\\pi\\sigma_1\\sigma_2\\sqrt{1-p^2}}e^{-\\dfrac{1}{2(1-p)^2}[\\dfrac{(x-\\mu_1)^2}{\\sigma^2_1} - 2p\\dfrac{(x-\\mu_1)(y-\\mu_2)}{\\sigma_1\\sigma_2} + \\dfrac{(y-\\mu_2)^2}{\\sigma^2_2}]}$ <br><br>\n",
    "&emsp;&emsp;其中 $x \\ in (-\\infty,\\infty),\\; y\\in (-\\infty,+\\infty),\\;\\mu_1,\\mu_2,\\sigma^2_1,\\sigma^2_2,p$ 为常数，且 $\\sigma_1>0,\\sigma_2>0,\\vert p \\vert < 1$，则称 $(X,Y)$ 服从 **二维正态分布**，记作 $(X,Y) \\backsim N(\\mu_1,\\mu_2,\\sigma^2_1,\\sigma^2_2,p)$\n",
    "\n",
    "![image-20220627153747292](https://s2.loli.net/2022/06/27/vyq21YAk8Z64wcb.png)"
   ]
  },
  {
   "cell_type": "markdown",
   "id": "5deca2da",
   "metadata": {},
   "source": [
    "<div class=\"alert alert-info\" role=\"alert\"><span class=\"label label-success\">边缘正态分布</span> 若 $(X,Y) \\backsim N(\\mu_1,\\mu_2,\\sigma^2_1,\\sigma^2_2,p)$，则 $X\\backsim N(\\mu_1,\\sigma^2_1),\\;Y\\backsim N(\\mu_2,\\sigma^2_2)$ </div>\n",
    "\n",
    "&emsp;&emsp;令 $u=\\dfrac{x-\\mu_1}{\\sigma_1},\\;v=\\dfrac{y-\\mu_2}{\\sigma_2}$，可得 <br><br>\n",
    "$\\qquad\\qquad\\qquad\\qquad\\qquad\\qquad\\qquad$$\\begin{aligned} f_X(x)&=\\int^{+\\infty}_{-\\infty}f(x,y)dy = \\dfrac{1}{2\\pi\\sigma_1\\sqrt{1-p^2}}\\int^{+\\infty}_{-\\infty}e^{-\\dfrac{1}{2(1-p^2)}(u^2-2puv+v^2)}dv \\\\ &=\\dfrac{1}{\\sqrt{2\\pi}\\sigma_1}\\int^{+\\infty}_{-\\infty}\\dfrac{1}{\\sqrt{2\\pi(1-p^2)}} e^{-\\dfrac{1}{2(1-p^2)}} \\\\ &=\\dfrac{1}{\\sqrt{2\\pi}\\sigma_1}e^{-\\dfrac{u^2}{2}}\\int^{+\\infty}_{-\\infty}\\dfrac{1}{\\sqrt{2\\pi(1-p^2)}} e^{-\\dfrac{(v-pu)^2}{2(1-p)^2}dv} \\\\ &=\\dfrac{1}{\\sqrt{2\\pi}\\sigma_1}e^{-\\dfrac{u^2}{2}} = \\dfrac{1}{\\sqrt{2\\pi}\\sigma_1}e^{-\\dfrac{(x-\\mu_1)^2}{2\\sigma^2_1}} \\end{aligned}$\n",
    "\n",
    "&emsp;&emsp;同理可得 <br><br>\n",
    "$\\qquad\\qquad\\qquad\\qquad\\qquad\\qquad\\qquad\\qquad\\qquad$$f_Y(y)=\\dfrac{1}{\\sqrt{2\\pi}\\sigma_1}e^{-\\dfrac{(y-\\mu_2)^2}{2\\sigma^2_2}}$ <br><br>\n",
    "&emsp;&emsp;此定理不仅说明联合正态分布的边缘分布是正态的，也说明在一般情况下，由边缘分布不一定能确定联合分布"
   ]
  },
  {
   "cell_type": "markdown",
   "id": "fdd17bbe",
   "metadata": {},
   "source": [
    "---"
   ]
  },
  {
   "cell_type": "markdown",
   "id": "08aec50d",
   "metadata": {},
   "source": [
    "## 第03节 条件分布"
   ]
  },
  {
   "cell_type": "markdown",
   "id": "2df9ddf1",
   "metadata": {},
   "source": [
    "### 3.1 条件分布律"
   ]
  },
  {
   "cell_type": "markdown",
   "id": "87692959",
   "metadata": {},
   "source": [
    "<div class=\"alert alert-info\" role=\"alert\"><span class=\"label label-success\">定义 $3.7$</span> 设二维随机变量 $(X,Y)$ 的联合分布律为 <br><br>\n",
    "$\\qquad\\qquad\\qquad\\qquad\\qquad\\qquad\\qquad\\qquad\\qquad$$P(X=x_i,Y=y_j) = P_{ij} \\quad (i,j=1,2,\\dots)$ <br><br>\n",
    "若 $P(Y=y_j) > 0$，则称 <br><br>\n",
    "$\\qquad\\qquad\\qquad\\qquad\\qquad\\qquad\\qquad$$P(X=x_i | Y = y_j) = \\dfrac{P(X=x_i,Y=y_j)}{P(Y=y_j)} = \\dfrac{P_{ij}}{P_{\\cdot j}}\\quad (i=1,2,\\dots)$ <br><br>\n",
    "为在条件 $Y=y_j$ 下随机变量 $X$ 的 <strong>条件分布律</strong></div>"
   ]
  },
  {
   "cell_type": "markdown",
   "id": "bf5ce126",
   "metadata": {},
   "source": [
    "&emsp;&emsp;$X$ 的条件分布律可列表如下\n",
    "\n",
    "|$X=x_i$|$x_1$|$x_2$|$\\dots$|$x_i$|$\\dots$|\n",
    "|:--:|:--:|:--:|:--:|:--:|:--:|\n",
    "|$P(X=x_i|Y=y_j)$|$\\dfrac{P_{1j}}{P_{\\cdot j}}$|$\\dfrac{P_{2j}}{P_{\\cdot j}}$|$\\dots$|$\\dfrac{P_{ij}}{P_{\\cdot j}}$|$\\dots$|\n",
    "\n",
    "&emsp;&emsp;同样，$P(X=x_i)>0$ 时，可定义随机变量 $Y$ 的条件分布律 <br><br>\n",
    "$\\qquad\\qquad\\qquad\\qquad\\qquad\\qquad\\qquad\\qquad\\qquad\\quad$$P(Y=y_j|X=x_i) = \\dfrac{P_{ij}}{P_{i\\cdot}} \\quad (i=1,2,\\dots)$"
   ]
  },
  {
   "cell_type": "markdown",
   "id": "4ca010d2",
   "metadata": {},
   "source": [
    "<div class=\"alert alert-danger\" role=\"alert\"><span class=\"label label-warning\">例题</span> 设二维随机变量 $(X,Y)$ 的联合分布律为下表所示，求在 $Y=0$ 的条件下 $X$ 的条件分布律</div>\n",
    "\n",
    "||$y_0$|$y_1$|$y_2$|\n",
    "|:---:|:---:|:---:|:---:|\n",
    "|$x_0$|$\\dfrac{1}{20}$|$\\dfrac{6}{20}$|$\\dfrac{3}{20}$|\n",
    "|$x_1$|$\\dfrac{3}{20}$|$\\dfrac{6}{20}$|$\\dfrac{1}{20}$|\n",
    "\n",
    "&emsp;&emsp;$(X,Y)$ 在 $Y=0$ 的条件下，有 <br><br> \n",
    "$\\qquad\\qquad\\qquad\\qquad\\qquad\\qquad\\qquad\\qquad$$P(X=0|Y=0) = \\dfrac{P(X=0,Y=0)}{P(Y=0)} = \\dfrac{\\dfrac{1}{20}}{\\dfrac{1}{20}+\\dfrac{3}{20}} = \\dfrac{1}{4}$"
   ]
  },
  {
   "cell_type": "markdown",
   "id": "9a6756ac",
   "metadata": {},
   "source": [
    "### 3.2 条件概率密度函数"
   ]
  },
  {
   "cell_type": "markdown",
   "id": "b7360317",
   "metadata": {},
   "source": [
    "<div class=\"alert alert-info\" role=\"alert\"><span class=\"label label-success\">定义 $3.8$</span> 设二维连续型随机变量 $(X,Y)$ 的联合概率密度函数为 $f(x,y)$， 若 $f_Y(y) > 0$，则称 $\\dfrac{f(x,y)}{f_Y(y)}$ 为在条件 $Y=y$ 下随机变量 $X$ 的条件概率密度函数，记为 $f_{X|Y}(x|y) = \\dfrac{f(x,y)}{f_Y(y)}$，同样 $f_X(x)>0$ 时，可定义条件概率密度函数 $f_{Y|X}(y|x) = \\dfrac{f(x,y)}{f_X(x)}$</div>"
   ]
  },
  {
   "cell_type": "markdown",
   "id": "b5ba1a56",
   "metadata": {},
   "source": [
    "<div class=\"alert alert-danger\" role=\"alert\"><span class=\"label label-warning\">例题</span> 设二维连续型随机变量 $(X,Y)$ 的联合分布律为 <br><br>\n",
    "$\\qquad\\qquad\\qquad\\qquad\\qquad\\qquad\\qquad\\qquad\\qquad$$f(x,y)=\\begin{cases}4 &0\\le x\\le 1,\\;0\\le y \\le \\dfrac{1}{2}(1-x) \\\\ 0 &else\\end{cases}$<br><br>条件概率密度函数 $f_{X|Y}(x|y)$ 和 $f_{Y|X}(y|x)$</div>\n",
    "\n",
    "&emsp;&emsp;当 $y<0$ 或 $y\\ge \\dfrac{1}{2}$ 时，有 <br><br> \n",
    "$\\qquad\\qquad\\qquad\\qquad\\qquad\\qquad\\qquad\\qquad\\qquad$$f_Y(y)=\\int\\limits^{+\\infty}_{-\\infty}f(x,y)dx = \\int\\limits^{+\\infty}_{-\\infty}0dx=0$ <br><br>\n",
    "&emsp;&emsp;当 $0\\le y \\le \\dfrac{1}{2}$ 时，有 <br><br> \n",
    "$\\qquad\\qquad\\qquad\\qquad\\qquad\\qquad\\qquad\\qquad\\qquad$$f_Y(y)=\\int\\limits^{+\\infty}_{-\\infty}f(x,y)dx = \\int\\limits^{1-2y}_{0}4dx=4(1-2y)$ <br><br>\n",
    "$\\qquad\\qquad\\qquad\\qquad\\qquad\\qquad\\qquad\\qquad\\qquad$$f_{X|Y}(x|y)=\\dfrac{f(x,y)}{f_Y(y)}=\\dfrac{4}{4(1-2y)}=\\dfrac{1}{1-2y}$ <br><br>\n",
    "$\\qquad\\qquad\\qquad\\qquad\\qquad\\qquad\\qquad\\qquad\\qquad$$f_{X|Y}(x|y)=\\begin{cases} \\dfrac{1}{1-2y} & 0\\le x \\le1-2y \\\\ 0 &else \\end{cases}$ <br><br>\n",
    "&emsp;&emsp;同理当 $0\\le x < 1$ 时 <br><br>\n",
    "$\\qquad\\qquad\\qquad\\qquad\\qquad\\qquad\\qquad\\qquad\\qquad$$f_{Y|X}(y|x)=\\begin{cases} \\dfrac{2}{1-x} & 0\\le y \\le\\dfrac{1}{2}(1-x) \\\\ 0 &else \\end{cases}$"
   ]
  },
  {
   "cell_type": "markdown",
   "id": "810eb6d9",
   "metadata": {},
   "source": [
    "---"
   ]
  },
  {
   "cell_type": "markdown",
   "id": "5487c6c9",
   "metadata": {},
   "source": [
    "## 第04节 相互独立的随机变量"
   ]
  },
  {
   "cell_type": "markdown",
   "id": "ad2e32d3",
   "metadata": {},
   "source": [
    "### 4.1 相互独立"
   ]
  },
  {
   "cell_type": "markdown",
   "id": "4d862d6b",
   "metadata": {},
   "source": [
    "&emsp;&emsp;在第 $1$ 章中讨论过事件 $A,B$ 相互独立的问题, 如果 $P(AB) = P(A)P(B)$，则称事件 $A$ 与事件 $B$ 相互独立，即事件 $A, B$ 相互独立的意义是其中一个出现，不影响另一个岀现的概率，但在研究二维随机变量时，涉及的随机变量有两个，自然也可提出其中一个取值对另一个取值的概率是否有影响的问题"
   ]
  },
  {
   "cell_type": "markdown",
   "id": "e742d033",
   "metadata": {},
   "source": [
    "<div class=\"alert alert-info\" role=\"alert\"><span class=\"label label-success\">定义 $3.9$</span> 设 $(X,Y)$ 是二维随机变量，如果对于任意 $x,y$ 有 <br><br>$\\qquad\\qquad\\qquad\\qquad\\qquad\\qquad\\qquad\\qquad\\qquad$$P(X\\le x,\\;Y\\le y) = P(X\\le x)P(Y\\le y)$ <br><br>则称随机变量 $X$ 与 $Y$ 是 <strong>相互独立</strong></div>"
   ]
  },
  {
   "cell_type": "markdown",
   "id": "9fe360c7",
   "metadata": {},
   "source": [
    "> 如果记 $A = P(X\\le x), B = P(Y \\le y)$ 那么上式成为 $P(AB) = P(A)P(B)$，可见随机变量 $X,Y$ 的相互独立的定义与两个事件相互独立的定义是一致的\n",
    "\n",
    "- 若 $(X，Y)$ 的分布函数和边缘分布函数分别为 $F(x,y)$ 和 $F_X(x)$，则 $X$ 与 $Y$ 相互独立等价于对任意实数 $x,y$ 有 <br><br>\n",
    "$\\qquad\\qquad\\qquad\\qquad\\qquad\\qquad\\qquad\\qquad\\qquad\\qquad$$F(x,y)=F_X(x)F_Y(y)$ <br><br>\n",
    "- 若 $(X，Y)$ 是二维离散型随机变量，则 $X$ 与 $Y$ 相互独立的充分必要条件是 <br><br>\n",
    "$\\qquad\\qquad\\qquad\\qquad\\qquad\\qquad\\qquad\\qquad$$\\begin{aligned}P(X=x_i,Y=y_j)&=P(X=x_i)P(Y=y_j)\\\\p_{ij}&=p_{\\cdot i}\\cdot p_{j\\cdot} \\end{aligned}$ <br><br>\n",
    "- 若 $(X，Y)$ 是二维连续型随机变量，$f(x,y),f_X(x),f_Y(y)$ 分别是联合密度函数与边缘密度函数，则 $X$ 与 $Y$ 相互独立的充要条件是 <br><br>\n",
    "$\\qquad\\qquad\\qquad\\qquad\\qquad\\qquad\\qquad\\qquad\\qquad\\qquad$$f(x,y)=f_X(x)f_Y(y)$"
   ]
  },
  {
   "cell_type": "markdown",
   "id": "8af0b777",
   "metadata": {},
   "source": [
    "<div class=\"alert alert-danger\" role=\"alert\"><span class=\"label label-warning\">例题</span> 设二维随机变量 $(X,Y)$ 的联合概率密度函数为 <br><br>\n",
    "$\\qquad\\qquad\\qquad\\qquad\\qquad\\qquad\\qquad\\qquad\\quad$$f(x,y)=\\begin{cases}e^{-(x+y)} &x\\ge 0,\\;y\\ge 0 \\\\ 0 &else\\end{cases}$<br><br>求 $X$ 和 $Y$ 是否相互独立</div>\n",
    "\n",
    "&emsp;&emsp;当 $x\\ge0$ 时，$f_X(x)=\\int\\limits^{+\\infty}_{0}e^{-(x+y)}dy=e^{-x}\\int\\limits^{+\\infty}_{0}e^{-y}dy=-e^{-x}$ \n",
    "\n",
    "&emsp;&emsp;当 $x<0$ 时，$f_X(x)=0$ \n",
    "\n",
    "$\\qquad\\qquad\\qquad\\qquad\\qquad\\qquad\\qquad\\qquad\\qquad\\qquad\\qquad$$f_X(x)=\\begin{cases} e^{-x} & x\\ge 0 \\\\ 0 &x<0 \\end{cases}$ <br><br>\n",
    "$\\qquad\\qquad\\qquad\\qquad\\qquad\\qquad\\qquad\\qquad\\qquad\\qquad\\qquad$$f_Y(y)=\\begin{cases} e^{-y} & y\\ge 0 \\\\ 0 &y<0 \\end{cases}$ \n",
    "\n",
    "&emsp;&emsp;对任意 $x,y,f(x,y)=f_X(x)\\cdot f_Y(y)$，所以 $X$ 和 $Y$ 相互独立"
   ]
  },
  {
   "cell_type": "markdown",
   "id": "8fa3cb3e",
   "metadata": {},
   "source": [
    "<div class=\"alert alert-info\" role=\"alert\"><span class=\"label label-success\">二维正态分布独立性</span> 若 $(X,Y) \\backsim N(\\mu_1,\\mu_2,\\sigma^2_1,\\sigma^2_2,p)$，则 $X$ 和 $Y$ 相互独立的充要条件为 $p=0$ </div>\n",
    " \n",
    "&emsp;&emsp;当 $p=0$ 时 <br><br>\n",
    "$\\qquad\\qquad\\qquad\\qquad\\qquad\\qquad\\qquad$$\\begin{aligned} f(x,y) &=\\dfrac{1}{2\\pi\\sigma_1\\sigma_2}e^{-\\dfrac{1}{2}[\\dfrac{(x-\\mu_1)^2}{\\sigma^2_1}+ \\dfrac{(y-\\mu_2)^2}{\\sigma^2_2}]} \\\\ &= \\dfrac{1}{\\sqrt{2\\pi}\\sigma_1} e^{-\\dfrac{(x-\\mu_1)^2}{2\\sigma^2_1)}} \\cdot \\dfrac{1}{\\sqrt{2\\pi}\\sigma_2} e^{-\\dfrac{(y-\\mu_2)^2}{2\\sigma^2_2)}} = f_X(x)f_Y(x) \\end{aligned}$ \n",
    "\n",
    "&emsp;&emsp;可见 $X$ 与 $Y$ 相互独立，且 $X\\backsim N(\\mu_1,\\sigma^2_1),\\;Y\\backsim N(\\mu_2,\\sigma^2_2)$，其实 **二维正态分布独立性** 与**边缘正态分布** 是互证的两个定理，若 $X，Y$ 相互独立，则必有 $p=0$，二维正态随机变量 $X,Y$ 相互独立的充要条件为 $p=0$"
   ]
  },
  {
   "cell_type": "markdown",
   "id": "7af3509f",
   "metadata": {},
   "source": [
    "---"
   ]
  },
  {
   "cell_type": "markdown",
   "id": "5e863320",
   "metadata": {},
   "source": [
    "## 第05节 两个随机变量的函数的分布"
   ]
  },
  {
   "cell_type": "markdown",
   "id": "3eff71eb",
   "metadata": {},
   "source": [
    "### 5.1 离散型随机变量"
   ]
  },
  {
   "cell_type": "markdown",
   "id": "459f674b",
   "metadata": {},
   "source": [
    "&emsp;&emsp;已知 $(X,Y)$ 的分布，求函数 $Z=g(X,Y)$ 的分布，$g$ 为连续函数\n",
    "\n",
    "||$-1$|$1$|\n",
    "|:-:|:-:|:-:|\n",
    "|$0$|$0.2$|$0.1$|\n",
    "|$1$|$0.1$|$0.3$|\n",
    "|$2$|$0.2$|$0.1$|\n",
    "\n",
    "- $Z_1=X+Y$ 的分布律为 \n",
    "\n",
    "|$Z_1$|$-1$|$0$|$1$|$2$|$3$|\n",
    "|:-:|:-:|:-:|:-:|:-:|:-:|\n",
    "|$P$|$0.2$|$0.1$|$0.3$|$0.3$|$0.1$|\n",
    "\n",
    "- $Z_2=XY$ 的分布律为 \n",
    "\n",
    "|$Z_1$|$-2$|$-1$|$0$|$1$|$2$|\n",
    "|:-:|:-:|:-:|:-:|:-:|:-:|\n",
    "|$P$|$0.2$|$0.1$|$0.3$|$0.3$|$0.1$|\n",
    "\n",
    "- 由 $(X,Y)$ 的联合分布律，可得如下表格\n",
    "\n",
    "|$(X,Y)$|$(0,-1)$|$(0,1)$|$(1,-1)$|$(1,1)$|$(2,-1)$|$(2,1)$|\n",
    "|:-:|:-:|:-:|:-:|:-:|:-:|:-:|\n",
    "|$p_{ij}$|$0.2$|$0.1$|$0.1$|$0.3$|$0.2$|$0.1$|\n",
    "|$Z_1=X+Y$|$-1$|$1$|$0$|$2$|$1$|$3$|\n",
    "|$Z_2=XY$|$0$|$0$|$-1$|$1$|$-2$|$2$|"
   ]
  },
  {
   "cell_type": "markdown",
   "id": "31ee9db6",
   "metadata": {},
   "source": [
    "<div class=\"alert alert-danger\" role=\"alert\"><span class=\"label label-warning\">例题</span> 设随机变量 $X$ 和 $Y$ 相互独立，分别服从参数为 $\\lambda_1$ 和 $\\lambda_2$ 的泊松分布，证明 $Z=X+Y$ 服从参数为 $\\lambda_1 + \\lambda_2$ 的泊松分布</div>\n",
    "\n",
    "&emsp;&emsp;$Z$ 可能的取值为 $0,1,2,\\dots$ <br><br>\n",
    "$\\qquad\\qquad\\qquad\\qquad\\qquad\\qquad$$\\begin{aligned} P(Z=k) = P(X+Y=k) &= \\sum\\limits^{k}_{i=0}P(X=i,Y=k-i) \\\\ &=\\sum\\limits^{k}_{i=0}P(X=i)\\cdot P(Y=k-i) \\\\ &= \\sum\\limits^{k}_{i=0}\\dfrac{\\lambda^i_1}{i!}e^{-\\lambda_1}\\cdot \\dfrac{\\lambda^{k-i}_2}{(k-i)!}e^{-\\lambda_2} \\\\ &=\\dfrac{e^{-\\lambda_1+\\lambda_2}}{k!}\\sum\\limits^{k}_{i=0}\\dfrac{k!}{i!(k-i)!}\\lambda^i_1\\lambda^{k-i}_2 \\\\ &= \\dfrac{e^{-\\lambda_1+\\lambda_2}}{k!}\\sum\\limits^{k}_{i=0}C^i_k\\lambda^i_1\\lambda^{k-i}_2 \\\\ &=\\dfrac{(\\lambda_1 + \\lambda_2)^k}{k!}e^{-(\\lambda_1+\\lambda_2)} \\quad (k=0,1,2,\\dots)\\end{aligned}$ <br><br>\n",
    "\n",
    "&emsp;&emsp;即 $Z=X+Y\\backsim P(\\lambda_1+\\lambda_2)$，一般设二维离散型随机变量 $(X,Y)$ 的分布律为 <br><br>\n",
    "\n",
    "$\\qquad\\qquad\\qquad\\qquad\\qquad\\qquad\\qquad\\qquad\\qquad$$P(X=x_i,Y=y_j)=p_{ij}\\quad(i,j=1,2,\\dots)$ <br><br>\n",
    "&emsp;&emsp;$Z=g(X,Y)$ 是 $X,Y$ 的函数，则 $Z$ 也是离散型随机变量其分布律为 <br><br>\n",
    "$\\qquad\\qquad\\qquad\\qquad\\qquad\\qquad\\qquad$$\\begin{aligned} P(Z=z_k)=P(g(X,Y)=z_k) &= \\sum\\limits_{(x_i,y_j)|g(x_i,y_j)=z_k}P(X=x_i,Y-y_j) \\\\\\\\ &= \\sum\\limits_{(x_i,y_j)|g(x_i,y_j)=z_k}p_{ij}\\quad(k=1,2,\\dots) \\end{aligned}$"
   ]
  },
  {
   "cell_type": "markdown",
   "id": "b68a57f6",
   "metadata": {},
   "source": [
    "### 5.2 二维连续型随机变量函数的分布"
   ]
  },
  {
   "cell_type": "markdown",
   "id": "f796f9bc",
   "metadata": {},
   "source": [
    "#### 5.2.1 $Z=X+Y$ 的分布"
   ]
  },
  {
   "cell_type": "markdown",
   "id": "c153a701",
   "metadata": {},
   "source": [
    "&emsp;&emsp;设二维连续型随机变量 $(X,Y)$ 的概率密度函数为 $f(x,y)$，则 $Z=X+Y$ 的分布函数 <br><br>\n",
    "$\\qquad\\qquad\\qquad\\qquad\\qquad\\qquad\\qquad\\qquad\\qquad$$\\begin{aligned}F_z(Z) &= P(Z\\le z) = \\iint\\limits_{x+y\\le z}f(x,y)dxdy \\\\&=\\int\\limits^{+\\infty}_{-\\infty}[\\int\\limits^{z-x}_{-\\infty}f(x,y)dy]dx \\end{aligned}$ <br><br>\n",
    "&emsp;&emsp;两边对 $z$ 求导可得 <br><br>\n",
    "$\\qquad\\qquad\\qquad\\qquad\\qquad\\qquad\\qquad\\qquad$$f_z(z)=\\int\\limits^{+\\infty}_{-\\infty}f(x,z-x)dx, \\quad f_z(z)=\\int\\limits^{+\\infty}_{-\\infty}f(z-y,y)dy$ <br><br>\n",
    "&emsp;&emsp;当 $X$ 和 $Y$ 相互独立时，可分别表示成 <br><br>\n",
    "$\\qquad\\qquad\\qquad\\qquad\\qquad\\qquad\\qquad$$f_z(z)=\\int\\limits^{+\\infty}_{-\\infty}f_X(x)f_Y(z-x)dx, \\quad f_z(z)=\\int\\limits^{+\\infty}_{-\\infty}f_Y(z-y)f_Y(y)dy$ <br><br>\n",
    "&emsp;&emsp;上式被称为 **卷积公式 (Convolve formula)**"
   ]
  },
  {
   "cell_type": "markdown",
   "id": "cbfca5e1",
   "metadata": {},
   "source": [
    "<div class=\"alert alert-danger\" role=\"alert\"><span class=\"label label-warning\">例题</span> 设随机变量 $X$ 和 $Y$ 均服从标准正态分布，且相互独立，求 $Z=X+Y$ 的概率密度函数</div>\n",
    "\n",
    "&emsp;&emsp;$X,Y$ 的概率密度函数为 <br><br>\n",
    "$\\qquad\\qquad\\qquad\\qquad\\qquad\\qquad\\qquad\\qquad\\qquad$$f_X(x)=\\dfrac{1}{\\sqrt{2\\pi}}e^{-\\dfrac{x^2}{2}},\\quad f_Y(y)=\\dfrac{1}{\\sqrt{2\\pi}}e^{-\\dfrac{y^2}{2}}$ <br><br>\n",
    "\n",
    "&emsp;&emsp;$Z=X+Y$ 的概率密度函数为 <br><br>\n",
    "$\\qquad\\qquad\\qquad\\qquad\\qquad\\qquad\\qquad\\qquad\\qquad$$\\begin{aligned} f_z(z) &= \\int\\limits^{+\\infty}_{-\\infty}f_X(x)f_Y(z-x)dx \\\\ &=\\dfrac{1}{2\\pi}e^{-\\dfrac{z^2}{4}}\\int\\limits^{+\\infty}_{-\\infty}e^{-(x-\\dfrac{z}{2})^2}dx \\\\ &=\\dfrac{1}{2\\pi}e^{-\\dfrac{z^2}{4}}\\sqrt{\\pi} \\\\ &=\\dfrac{1}{\\sqrt{2\\pi}\\sqrt{2}}e^{-\\dfrac{z^2}{2(\\sqrt{2})^2}}\\end{aligned}$ <br><br>\n",
    "\n",
    "&emsp;&emsp;即 $Z=X+Y\\backsim N(0,2)$，一般若 $X,Y$ 相互独立，且 $X\\backsim N(\\mu_1,\\sigma^2_1), Y\\backsim N(\\mu_2,\\sigma^2_2)$，则 $(X,Y)\\backsim N(\\mu_1,\\mu_2,\\sigma^2_1,\\sigma^2_2,0)$，且 $X+Y\\backsim N(\\mu_1+\\mu_2,\\sigma^2_1+\\sigma^2_2)$，此性质称为分布 $N(\\mu,\\sigma^2)$ 关于参数 $\\mu$ 和 $\\sigma^2$ 的可加性，又称 **再生性**"
   ]
  },
  {
   "cell_type": "markdown",
   "id": "9f985dc6",
   "metadata": {},
   "source": [
    "#### 5.2.2 极值函数分布"
   ]
  },
  {
   "cell_type": "markdown",
   "id": "77d38f8f",
   "metadata": {},
   "source": [
    "&emsp;&emsp;设 $X,Y$ 相互独立，且它们的分布函数分别为 $F_X(x),F_Y(y)$，求 $X,Y$ 的最大值，最小值 $M=\\max(X,Y), N=\\min(X,Y)$ 的分布函数 $F_M(z),F_N(z)$，由于 $M=\\max(X,Y)$ 不大于 $z$ 等价于 $X,Y$ 都不大于 $z$，因此 <br><br>\n",
    "$\\qquad\\qquad\\qquad\\qquad\\qquad\\qquad\\qquad\\qquad\\qquad\\qquad$$P(M\\le z) = P(X\\le z, Y\\le z)$ \n",
    "\n",
    "&emsp;&emsp;由于 $X,Y$ 相互独立，得 <br><br>\n",
    "$\\qquad\\qquad\\qquad\\qquad\\qquad\\qquad\\qquad$$F_M(z) = P(M\\le z) = P(X\\le z,Y\\le z) = P(X\\le z)P(Y\\le z)$\n",
    "$\\qquad\\qquad\\qquad\\qquad\\qquad\\qquad\\qquad\\qquad\\qquad\\qquad\\quad$$F_M(z) = F_X(z)F_Y(z)$ <br><br>\n",
    "\n",
    "&emsp;&emsp;类似地可得 $N=\\min(X,Y)$ 的分布函数为 <br><br>\n",
    "$\\qquad\\qquad\\qquad\\qquad\\qquad\\qquad\\qquad$$\\begin{aligned}F_N(z) &= P(N\\le z) = 1 - P(N>z) = 1 - P(X>z,Y>z) \\\\ &=1-P(X>z)P(Y>z) = 1-[1-P(X\\le z)][1-P(Y \\le z)] \\\\ &= 1-[1-F_X(z)][1-F_Y(z)]\\end{aligned}$"
   ]
  },
  {
   "cell_type": "markdown",
   "id": "14dcd57c",
   "metadata": {},
   "source": [
    "<div class=\"alert alert-danger\" role=\"alert\"><span class=\"label label-warning\">例题</span> 设随机变量 $X,Y$ 相互独立，且都服从参数为 $1$ 的指数分布，求 $M=\\max(X,Y)$ 的概率密度函数 $f_M(z)$</div>\n",
    "\n",
    "&emsp;&emsp;设 $X,Y$ 的分布函数为 $F(x)$，则 <br><br>\n",
    "$\\qquad\\qquad\\qquad\\qquad\\qquad\\qquad\\qquad\\qquad\\qquad$$F(x)=\\begin{cases}1-e^{-x} &x\\ge0 \\\\ 0 &x<0 \\end{cases}$ <br><br>\n",
    "\n",
    "&emsp;&emsp;由于 $M$ 的分布函数为 $F_M(z)=P(M\\le z)=P(X\\le z,Y\\le z)=P(X\\le z)P(Y \\le z) = [F(z)]^2$，所以 $M$ 的概率密度函数为 <br><br>\n",
    "\n",
    "$\\qquad\\qquad\\qquad\\qquad\\qquad\\qquad\\qquad\\qquad\\qquad$$f_M(z)=F'_M(z)=2F_X(z)F'_X(z)=\\begin{cases} 2e^{-z}(1-e^{-z}) &z\\ge0 \\\\0 & z<0 \\end{cases}$ <br><br>\n",
    "&emsp;&emsp;实际应用中，一般 $M,N$ 应用于系统中的并联、串联连接方式的寿命的概率分布"
   ]
  }
 ],
 "metadata": {
  "kernelspec": {
   "display_name": "Python 3",
   "language": "python",
   "name": "python3"
  },
  "language_info": {
   "codemirror_mode": {
    "name": "ipython",
    "version": 3
   },
   "file_extension": ".py",
   "mimetype": "text/x-python",
   "name": "python",
   "nbconvert_exporter": "python",
   "pygments_lexer": "ipython3",
   "version": "3.8.8"
  }
 },
 "nbformat": 4,
 "nbformat_minor": 5
}

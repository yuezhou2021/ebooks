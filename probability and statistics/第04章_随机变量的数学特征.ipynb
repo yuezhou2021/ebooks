{
 "cells": [
  {
   "cell_type": "markdown",
   "id": "380a9fcf",
   "metadata": {},
   "source": [
    "# 第04章 随机变量的数字特征"
   ]
  },
  {
   "cell_type": "markdown",
   "id": "c78238da",
   "metadata": {},
   "source": [
    "---"
   ]
  },
  {
   "cell_type": "markdown",
   "id": "181a4187",
   "metadata": {},
   "source": [
    "## 序言"
   ]
  },
  {
   "cell_type": "markdown",
   "id": "c2000d95",
   "metadata": {},
   "source": [
    "### 1.内容介绍\n",
    "\n",
    "&emsp;&emsp;本章详细介绍了数学期望、方差、协方差及相关系数、矩、协方差矩阵等定义，对其原理与例题进行了一一阐述\n",
    "\n",
    "### 2.理论目标\n",
    "\n",
    "- 掌握离散型随机变量、连续型随机变量的数学期望\n",
    "- 掌握一维随机变量函数、二维随机变量函数的数学期望\n",
    "- 掌握数学期望的性质\n",
    "- 掌握常见分布的数学期望\n",
    "- 掌握方差的概念、性质与计算方法\n",
    "- 掌握常见分布的方差\n",
    "- 掌握协方差及相关系数\n",
    "- 掌握独立性与无关性\n",
    "- 掌握矩、协方差矩阵\n",
    "\n",
    "### 3.实践目标\n",
    "\n",
    "- 无\n",
    "\n",
    "### 4.实践案例\n",
    "\n",
    "- 无\n",
    "\n",
    "### 5.内容目录\n",
    "\n",
    "- 1.数学期望\n",
    "- 2.方差\n",
    "- 3.协方差及相关系数\n",
    "- 4.矩、协方差矩阵"
   ]
  },
  {
   "cell_type": "markdown",
   "id": "b061abab",
   "metadata": {},
   "source": [
    "---"
   ]
  },
  {
   "cell_type": "markdown",
   "id": "0b3aa99c",
   "metadata": {},
   "source": [
    "&emsp;&emsp;随机变量的分布函数能够完整地描述随机变量的统计规律，但是要确定随机变量的分布函数绝非易事，并且在许多实际问题中也不需要知道随机变量的一切统计特征，而只需要知道它的若干重要特征，如它的平均值和波动的幅度、随机变量之间的关联程度等\n",
    "\n",
    "&emsp;&emsp;随机变量取值的平均值与离散程度能描述岀其某些方面的重要特征，因为不论是平均值及偏离程度都是用数字表示出来的，所以称它们为随机变量的数字特征, 其是概率分布的某种表征，特别是最重要的几个数字特征如 **数学期望、方差、相关系数** 等都有明确的概率意义，同时又具有良好的性质"
   ]
  },
  {
   "cell_type": "markdown",
   "id": "ac6aa93a",
   "metadata": {},
   "source": [
    "## 第01节 数学期望"
   ]
  },
  {
   "cell_type": "markdown",
   "id": "05e447c6",
   "metadata": {},
   "source": [
    "### 1.1 离散型随机变量的数学期望"
   ]
  },
  {
   "cell_type": "markdown",
   "id": "4a89d440",
   "metadata": {},
   "source": [
    "&emsp;&emsp;设一盒产品共 $10$ 件，其中 $1$ 件等外品，$3$ 件二级品，$6$ 件一级品，已知等外品、二级品、一级品每件的售价分别为 $5$ 元、$8$ 元、$10$ 元\n",
    "\n",
    "<table border=0 cellpadding=0 cellspacing=0 width=990 style='border-collapse:\n",
    " collapse;table-layout:fixed;'>\n",
    " <col width=140 span=4>\n",
    " <tr height=18>\n",
    "  <td style='text-align: center;'><strong></strong></td>\n",
    "  <td style='text-align: center;'><strong>外品</strong></td>\n",
    "  <td style='text-align: center;'><strong>二级品</strong></td>\n",
    "  <td style='text-align: center;'><strong>一级品</strong></td>\n",
    " </tr>   \n",
    " <tr height=18>\n",
    "  <td style='text-align: center;'><strong>售价 $X$/元</strong></td>\n",
    "  <td style='text-align: center;'>$5$</td>\n",
    "  <td style='text-align: center;'>$8$</td>\n",
    "  <td style='text-align: center;'>$10$</td>\n",
    " </tr>\n",
    " <tr height=18>\n",
    "  <td style='text-align: center;'><strong>件数 $n_k$</strong></td>\n",
    "  <td style='text-align: center;'>$1$</td>\n",
    "  <td style='text-align: center;'>$3$</td>\n",
    "  <td style='text-align: center;'>$6$</td>\n",
    " </tr>\n",
    " <tr height=18>\n",
    "  <td style='text-align: center;'><strong>频率 $f_k=\\dfrac{n_k}{n}$</strong></td>\n",
    "  <td style='text-align: center;'>$\\dfrac{1}{10}$</td>\n",
    "  <td style='text-align: center;'>$\\dfrac{3}{10}$</td>\n",
    "  <td style='text-align: center;'>$\\dfrac{6}{10}$</td>\n",
    " </tr>\n",
    "</table>\n",
    "\n",
    "&emsp;&emsp;产品的平均售价为 $\\bar{X} = \\dfrac{1}{10}(5 \\times 1 + 8 \\times 3 + 10 \\times 6) =8.9$，可见售价的平均值 $X$ 等于售价的各可能值 $x_k$ 与其频率 $f_k$ 的乘积之和 \n",
    "\n",
    "&emsp;&emsp;设随机变量 $X$ 的所有可能取值为 $x_1,x_2,\\dots,x_k,\\dots,x_n$，在 $n$ 次独立观察中得 $x_k(k=1,2,\\dots,n)$ 出现的频率为 $f_k = \\dfrac{n_k}{n}$，这样可算得 $X$ 取值的平均值为 <br><br>\n",
    "$\\qquad\\qquad\\qquad\\qquad\\qquad\\qquad\\qquad\\qquad\\qquad\\qquad\\qquad\\qquad$$\\bar{X}=\\sum\\limits^{n}_{k=1}x_kf_k$ <br><br>\n",
    "\n",
    "&emsp;&emsp;把这种各个数与相应频率相乘的和称为 $x_k(k=1,2,\\dots,n)$ 的以频率为权的 **加权均匀**，而频率称为 **权**，每个数值 $x_k$ 的权不同，反映了各个数在相加时所占的比重不一样，当 $n$ 无限增加时，频率 $f_k$ 稳定于概率 $p_k$，和式 $\\sum\\limits^{n}_{k=1}x_kp_k$便是上述平均值的 **稳定值**"
   ]
  },
  {
   "cell_type": "markdown",
   "id": "1de4182c",
   "metadata": {},
   "source": [
    "<div class=\"alert alert-info\" role=\"alert\"><span class=\"label label-success\">定义 $4.1$</span> 设随机变量 $X$ 的分布律为 $P(X=x_i)=p_i,\\;(i=1,2,\\dots)$，若级数 $\\sum\\limits^{\\infty}_{i=1}x_ip_i$ 绝对收敛，则称 $\\sum\\limits^{\\infty}_{i=1}x_ip_i$ 的和为随机变量 $X$ 的 <strong>数学期望 (Mathematical expectation)</strong>，简称 <strong>期望</strong>或 <strong>均值</strong>，记为 $E(X)$</div>"
   ]
  },
  {
   "cell_type": "markdown",
   "id": "0d1b823d",
   "metadata": {},
   "source": [
    "<div class=\"alert alert-danger\" role=\"alert\"><span class=\"label label-warning\">例题</span> 掷一颗均勻的骰子，以 $X$ 表示掷得的点数，求 $X$ 的数学期望 $E(X)$</div>\n",
    "\n",
    "&emsp;&emsp;由题意可知，$X$ 的取值为 $1,2,3,4,5,6$ 则 <br><br>\n",
    "$\\qquad\\qquad\\qquad\\qquad\\qquad\\qquad\\qquad\\qquad\\quad$$E(X)=\\sum\\limits^{6}_{k=1}k \\times \\dfrac{1}{6} = \\dfrac{1}{6}(1+2+3+4+5+6) = \\dfrac{7}{2}$"
   ]
  },
  {
   "cell_type": "markdown",
   "id": "af445517",
   "metadata": {},
   "source": [
    "<div class=\"alert alert-danger\" role=\"alert\"><span class=\"label label-warning\">例题</span> 甲、乙两个工人生产同一种产品，日产量相等，在一天中出现的废品数分别为 $X_1$ 和 $X_2$，试比较这两个工人的技术水平</div>\n",
    "\n",
    "<table border=0 cellpadding=0 cellspacing=0 width=990 style='border-collapse:\n",
    " collapse;table-layout:fixed;'>\n",
    " <col width=140 span=5>\n",
    " <tr height=18>\n",
    "  <td style='text-align: center;'></td>\n",
    "  <td style='text-align: center;'><strong>0</strong></td>\n",
    "  <td style='text-align: center;'><strong>1</strong></td>\n",
    "  <td style='text-align: center;'><strong>2</strong></td>\n",
    "  <td style='text-align: center;'><strong>3</strong></td>   \n",
    " </tr>   \n",
    " <tr height=18>\n",
    "  <td style='text-align: center;'><strong>$p_{X_1}$</strong></td>\n",
    "  <td style='text-align: center;'>$0.4$</td>\n",
    "  <td style='text-align: center;'>$0.3$</td>\n",
    "  <td style='text-align: center;'>$0.2$</td>\n",
    "  <td style='text-align: center;'>$0.1$</td>\n",
    " </tr>\n",
    " <tr height=18>\n",
    "  <td style='text-align: center;'><strong>$p_{X_2}$</strong></td>\n",
    "  <td style='text-align: center;'>$0.2$</td>\n",
    "  <td style='text-align: center;'>$0.5$</td>\n",
    "  <td style='text-align: center;'>$0.2$</td>\n",
    "  <td style='text-align: center;'>$0.1$</td>\n",
    " </tr>\n",
    "</table>\n",
    "\n",
    "$\\qquad\\qquad\\qquad\\qquad\\qquad\\qquad\\qquad\\qquad\\quad$$E(X_1)= 0\\times0.4 + 1\\times0.3 + 2\\times0.2 + 3\\times0.1 = 1$\n",
    "$\\qquad\\qquad\\qquad\\qquad\\qquad\\qquad\\qquad\\qquad\\quad$$E(X_2)= 0\\times0.2 + 1\\times0.5 + 2\\times0.2 + 3\\times0.1 = 1.2$\n",
    "\n",
    "&emsp;&emsp;平均而言，乙每天出现的废品数比甲多，从这个意义上说，甲的技术比乙的技术好些"
   ]
  },
  {
   "cell_type": "markdown",
   "id": "fcda9480",
   "metadata": {},
   "source": [
    "<div class=\"alert alert-danger\" role=\"alert\"><span class=\"label label-warning\">例题</span> 设随机变量 $X\\backsim \\pi(\\lambda)$，求 $E(X)$</div>\n",
    "\n",
    "&emsp;&emsp;由题意可知，$X$ 为泊松分布，则 <br><br>\n",
    "$\\qquad\\qquad\\qquad\\qquad\\qquad\\qquad\\qquad\\qquad\\quad$$P(X=k)=p^k(1-p)^{1-k}\\qquad(k=0,1\\quad0<p<1)$ <br><br>\n",
    "$\\qquad\\qquad\\qquad\\qquad\\qquad\\qquad\\qquad\\qquad$$E(X)=\\sum\\limits^{\\infty}_{k=0}k \\cdot \\dfrac{\\lambda^ke^{-\\lambda}}{k!} = \\lambda e^{-\\lambda}\\sum\\limits^{\\infty}_{k=1}\\dfrac{\\lambda^{k-1}}{(k-1)!} = \\lambda e^{\\lambda}\\cdot e^{-\\lambda} = \\lambda$\n",
    "\n",
    "> 可见泊松分布中的参数 $\\lambda$ 表示 **平均特征**, 例如 $X$ 表示寻呼台在单位时间内接到呼唤的次数 (在不同的单位时间内进行观察，接到的呼唤次数都不一定相同)，那么 $\\lambda$ 表示单位时间内接到的寻呼次数的平均数"
   ]
  },
  {
   "cell_type": "markdown",
   "id": "b53c97c1",
   "metadata": {},
   "source": [
    "### 1.2 连续型随机变量的数学期望"
   ]
  },
  {
   "cell_type": "markdown",
   "id": "999968e1",
   "metadata": {},
   "source": [
    "<div class=\"alert alert-info\" role=\"alert\"><span class=\"label label-success\">定义 $4.2$</span> 设连续型随机变量 $X$ 的密度函数为 $f(x)$，若积分 $\\int\\limits^{+\\infty}_{-\\infty}xf(x)dx$ 绝对收敛，则称积分 $\\int\\limits^{+\\infty}_{-\\infty}xf(x)dx$ 值为随机变量 $X$ 的数学期望，记作 $E(X)$，即 <br><br> $\\qquad\\qquad\\qquad\\qquad\\qquad\\qquad\\qquad\\qquad\\qquad\\qquad\\quad$$E(X) = \\int\\limits^{+\\infty}_{-\\infty}xf(x)dx$</div>\n",
    "\n",
    "&emsp;&emsp;连续型随机变量的数学期望也是对 $X$ 取值的平均值的描述，它是一个表示 $X$ 取值的平均特性的常数"
   ]
  },
  {
   "cell_type": "markdown",
   "id": "ed4cedfb",
   "metadata": {},
   "source": [
    "<div class=\"alert alert-danger\" role=\"alert\"><span class=\"label label-warning\">例题</span> 设随机变量 $X$ 的概率密度为 $f(x)=\\dfrac{1}{\\pi}\\dfrac{1}{1+x^2}\\quad(-\\infty<x<+\\infty)$，求数学期望 $E(X)$</div>\n",
    "\n",
    "$\\qquad\\qquad\\qquad\\qquad\\qquad\\qquad\\qquad\\qquad$$\\int\\limits^{+\\infty}_{-\\infty}|x|\\dfrac{1}{\\pi(1+x^2)}dx = \\int\\limits^{0}_{-\\infty}\\dfrac{-x}{\\pi(1+x^2)}dx + \\int\\limits^{+\\infty}_{0}\\dfrac{x}{\\pi(1+x^2)}dx$ <br><br>\n",
    "&emsp;&emsp;$\\int\\limits^{+\\infty}_{0}\\dfrac{x}{\\pi(1+x^2)}dx = \\lim\\limits_{x\\to +\\infty}\\dfrac{1}{2\\pi}\\ln(1+x^2)$，此极限 $\\lim\\limits_{x\\to +\\infty}\\dfrac{1}{2\\pi}\\ln(1+x^2)$ 不存在，所以 $\\int\\limits^{+\\infty}_{-\\infty}xf(x)dx$ **非绝对收敛**，因此数学期望 $E(X)$ 不存在 "
   ]
  },
  {
   "cell_type": "markdown",
   "id": "ff8a71cf",
   "metadata": {},
   "source": [
    "<div class=\"alert alert-danger\" role=\"alert\"><span class=\"label label-warning\">例题</span> 甲、乙两个工人生产同一种产品，日产量相等，在一天中出现的废品数分别为 $X_1$ 和 $X_2$，试比较这两个工人的技术水平</div>\n",
    "\n",
    "<table border=0 cellpadding=0 cellspacing=0 width=990 style='border-collapse:\n",
    " collapse;table-layout:fixed;'>\n",
    " <col width=140 span=5>\n",
    " <tr height=18>\n",
    "  <td style='text-align: center;'></td>\n",
    "  <td style='text-align: center;'><strong>0</strong></td>\n",
    "  <td style='text-align: center;'><strong>1</strong></td>\n",
    "  <td style='text-align: center;'><strong>2</strong></td>\n",
    "  <td style='text-align: center;'><strong>3</strong></td>   \n",
    " </tr>   \n",
    " <tr height=18>\n",
    "  <td style='text-align: center;'><strong>$p_{X_1}$</strong></td>\n",
    "  <td style='text-align: center;'>$0.4$</td>\n",
    "  <td style='text-align: center;'>$0.3$</td>\n",
    "  <td style='text-align: center;'>$0.2$</td>\n",
    "  <td style='text-align: center;'>$0.1$</td>\n",
    " </tr>\n",
    " <tr height=18>\n",
    "  <td style='text-align: center;'><strong>$p_{X_2}$</strong></td>\n",
    "  <td style='text-align: center;'>$0.2$</td>\n",
    "  <td style='text-align: center;'>$0.5$</td>\n",
    "  <td style='text-align: center;'>$0.2$</td>\n",
    "  <td style='text-align: center;'>$0.1$</td>\n",
    " </tr>\n",
    "</table>\n",
    "\n",
    "$\\qquad\\qquad\\qquad\\qquad\\qquad\\qquad\\qquad\\qquad\\quad$$E(X_1)= 0\\times0.4 + 1\\times0.3 + 2\\times0.2 + 3\\times0.1 = 1$\n",
    "$\\qquad\\qquad\\qquad\\qquad\\qquad\\qquad\\qquad\\qquad\\quad$$E(X_2)= 0\\times0.2 + 1\\times0.5 + 2\\times0.2 + 3\\times0.1 = 1.2$\n",
    "\n",
    "&emsp;&emsp;平均而言，乙每天出现的废品数比甲多，从这个意义上说，甲的技术比乙的技术好些"
   ]
  },
  {
   "cell_type": "markdown",
   "id": "4ad78361",
   "metadata": {},
   "source": [
    "<div class=\"alert alert-danger\" role=\"alert\"><span class=\"label label-warning\">例题</span> 设随机变量 $X\\backsim \\pi(\\lambda)$，求 $E(X)$</div>\n",
    "\n",
    "&emsp;&emsp;由题意可知，$X$ 为泊松分布，则 <br><br>\n",
    "$\\qquad\\qquad\\qquad\\qquad\\qquad\\qquad\\qquad\\qquad\\quad$$P(X=k)=p^k(1-p)^{1-k}\\qquad(k=0,1\\quad0<p<1)$ <br><br>\n",
    "$\\qquad\\qquad\\qquad\\qquad\\qquad\\qquad\\qquad\\qquad$$E(X)=\\sum\\limits^{\\infty}_{k=0}k \\cdot \\dfrac{\\lambda^ke^{-\\lambda}}{k!} = \\lambda e^{-\\lambda}\\sum\\limits^{\\infty}_{k=1}\\dfrac{\\lambda^{k-1}}{(k-1)!} = \\lambda e^{\\lambda}\\cdot e^{-\\lambda} = \\lambda$\n",
    "\n",
    "> 可见泊松分布中的参数 $\\lambda$ 表示 **平均特征**, 例如 $X$ 表示寻呼台在单位时间内接到呼唤的次数 (在不同的单位时间内进行观察，接到的呼唤次数都不一定相同)，那么 $\\lambda$ 表示单位时间内接到的寻呼次数的平均数"
   ]
  },
  {
   "cell_type": "markdown",
   "id": "3ca564f2",
   "metadata": {},
   "source": [
    "### 1.3 一维随机变量函数的数学期望"
   ]
  },
  {
   "cell_type": "markdown",
   "id": "8b465eb7",
   "metadata": {},
   "source": [
    "&emsp;&emsp;随机变量的函数也是一个随机变量，并且随机变量函数的相关问题也十分常见，在实际问题中求已知随机变量的函数的分布较复杂，是否能够通过已知随机变量的分布求其函数的数学期望，而不需要求出随机变量函数的分布，设 $X$ 是随机变量，$Y=g(X)$ 是 $X$ 的函数\n",
    "\n",
    "- 若 $X$ 是 **离散型随机变量**，其分布律为 $P(X=x_i) = p_i \\; (i=1,2,\\dots)$，则当 $\\sum\\limits^{\\infty}_{i=1}g(x_i)p_i$ 绝对收敛时，随机变量 $Y$ 的数学期望为 <br><br>\n",
    "$\\qquad\\qquad\\qquad\\qquad\\qquad\\qquad\\qquad\\qquad\\qquad\\qquad$$E(Y) = E[g(X)] = \\sum\\limits^{\\infty}_{i=1}g(x_i)p(i)$ <br><br>\n",
    "\n",
    "- 若 $X$ 是 **连续型随机变量**，其密度函数为 $f(x)$，则当 $\\int\\limits^{+\\infty}_{-\\infty}g(x)f(x)dx$ 绝对收敛时，随机变量 $Y$ 的数学期望为 <br><br>\n",
    "$\\qquad\\qquad\\qquad\\qquad\\qquad\\qquad\\qquad\\qquad\\qquad\\quad$$E(Y) = E[g(X)] = \\int\\limits^{+\\infty}_{-\\infty}g(x)f(x)dx$\n",
    "\n",
    "> 此定理的重要意义在于求 $E(Y)$ 时，可以不用求出 $Y$ 的分布律或概率密度函数，而直接利用 $X$ 的分布律或概率密度函数"
   ]
  },
  {
   "cell_type": "markdown",
   "id": "75fa67c8",
   "metadata": {},
   "source": [
    "### 1.4 二维随机变量函数的数学期望"
   ]
  },
  {
   "cell_type": "markdown",
   "id": "294de006",
   "metadata": {},
   "source": [
    "&emsp;&emsp;设 $(X,Y)$ 是二维随机变量， $Z=g(X,Y)$ 是 $(X,Y)$ 的函数，$g$ 是二元连续函数\n",
    "\n",
    "- 若 $(X,Y)$ 是 **离散型随机变量**，其联合分布律为 $P(X=x_i,\\;Y=y_j) = p_{ij} \\; (i,j=1,2,\\dots)$，则当 $\\sum\\limits^{\\infty}_{i=1}\\sum\\limits^{\\infty}_{j=1}g(x_i,y_j)p_{ij}$ 绝对收敛时，随机变量 $Y$ 的数学期望为 <br><br>\n",
    "$\\qquad\\qquad\\qquad\\qquad\\qquad\\qquad\\qquad\\qquad\\qquad$$E(Z) = E[g(X,Y)] = \\sum\\limits^{\\infty}_{i=1}\\sum\\limits^{\\infty}_{j=1}g(x_i,y_j)p_{ij}$ <br><br>\n",
    "\n",
    "- 若 $(X,Y)$ 是 **连续型随机变量**，其联合密度函数为 $f(x,y)$，则当 $\\int\\limits^{+\\infty}_{-\\infty}\\int\\limits^{+\\infty}_{-\\infty}g(x,y)f(x,y)dxdy$ 绝对收敛时，随机变量 $Y$ 的数学期望为 <br><br>\n",
    "$\\qquad\\qquad\\qquad\\qquad\\qquad\\qquad\\qquad\\qquad\\quad$$E(Z) = E[g(X,Y)] = \\iint\\limits^{+\\infty}_{-\\infty}g(x,y)f(x,y)dxdy$ <br><br>\n",
    "  若 $f_X(x),f_Y(y)$ 分别为变量 $X,Y$ 的边缘密度函数，则 <br><br>\n",
    "$\\qquad\\qquad\\qquad\\qquad\\qquad\\qquad\\qquad\\qquad\\quad$$E(X) = \\int\\limits^{+\\infty}_{-\\infty}x dx\\int\\limits^{+\\infty}_{-\\infty}f(x,y) dy = \\int\\limits^{+\\infty}_{-\\infty}x f_X(x)dx$ <br><br>\n",
    "$\\qquad\\qquad\\qquad\\qquad\\qquad\\qquad\\qquad\\qquad\\quad$$E(Y) = \\int\\limits^{+\\infty}_{-\\infty}y dy\\int\\limits^{+\\infty}_{-\\infty}f(x,y) dx = \\int\\limits^{+\\infty}_{-\\infty}y f_Y(y)dx$ "
   ]
  },
  {
   "cell_type": "markdown",
   "id": "ad6b3ba7",
   "metadata": {},
   "source": [
    "### 1.5 数学期望的性质"
   ]
  },
  {
   "cell_type": "markdown",
   "id": "bdca92ae",
   "metadata": {},
   "source": [
    "&emsp;&emsp;以下性质均假定所涉及的随机变量的期望均存在，$a，b$ 为常数\n",
    "\n",
    "- $E(a) = a$ \n",
    "\n",
    "&emsp;&emsp;事实上，此随机变量 $X$ 仅取一个值 $a$，其分布律为 $P(X = a)=1$，于是 $E(X) = 1 \\cdot a$ 这种分布为 **单点分布** <br><br>\n",
    "\n",
    "- $E(aX) = aE(X)$\n",
    "\n",
    "&emsp;&emsp;设 $X$ 的概率密度函数为 $f(x)$，则 <br><br>\n",
    "$\\qquad\\qquad\\qquad\\qquad\\qquad\\qquad\\qquad\\qquad\\qquad$$E(aX) = \\int\\limits^{+\\infty}_{-\\infty}ax\\cdot f(x)dx = a\\int\\limits^{+\\infty}_{-\\infty}x\\cdot f(x)dx = aE(X)$<br><br>\n",
    "\n",
    "- $E(X+Y) = E(X) + E(Y)$\n",
    "\n",
    "&emsp;&emsp;设 $Z=X+Y$，其联合概率密度函数为 $f(x,y)$，则 <br><br>\n",
    "$\\qquad\\qquad\\qquad\\qquad\\qquad\\qquad\\qquad\\qquad$$\\begin{aligned}E(Z) = E(X+Y) &=\\iint\\limits^{+\\infty}_{-\\infty}(x+y)f(x,y)dxdy \\\\ &= \\int\\limits^{+\\infty}_{-\\infty}xf(x,y)dxdy + \\int\\limits^{+\\infty}_{-\\infty}yf(x,y)dxdy \\\\ &= \\int\\limits^{+\\infty}_{-\\infty}x[\\int\\limits^{+\\infty}_{-\\infty}f(x,y)dy]dx + \\int\\limits^{+\\infty}_{-\\infty}y[\\int\\limits^{+\\infty}_{-\\infty}f(x,y)dx]dy \\\\ &=\\int\\limits^{+\\infty}_{-\\infty}xf_X(x)dx + \\int\\limits^{+\\infty}_{-\\infty}yf_Y(y)dx \\\\ &=E(X) + E(Y) \\end{aligned}$\n",
    "\n",
    "&emsp;&emsp;上述性质可以做如下推广，$E(C_1X+C_2Y) = C_1E(X) + C_2E(Y)$，更一般地设 $X_1,X_2,\\dots,X_n$ 为 $n$ 个随机变量，则 <br><br>\n",
    "$\\qquad\\qquad\\qquad\\qquad\\qquad\\qquad\\qquad\\qquad\\qquad$$E(\\sum\\limits^{n}_{k=1}C_kX_k) = \\sum\\limits^{n}_{k=1}C_kE(X_k) \\quad C_k \\in \\mathbb{C},\\;k = 1,2,\\dots$<br><br>\n",
    "\n",
    "- 若随机变量 $X$ 与 $Y$ 相互独立，$E(XY) = E(X) \\cdot E(Y)$\n",
    "\n",
    "&emsp;&emsp;设 $Z=XY$，$(X,Y)$ 的联合概率密度函数为 $f(x,y)$，则 <br><br>\n",
    "$\\qquad\\qquad\\qquad\\qquad\\qquad\\qquad\\qquad\\qquad\\qquad\\qquad$$\\begin{aligned} E(XY) &=\\iint\\limits^{+\\infty}_{-\\infty}xyf(x,y)dxdy \\\\ &=\\iint\\limits^{+\\infty}_{-\\infty}xyf_X(x)f_Y(y) dxdy \\\\ &= \\int\\limits^{+\\infty}_{-\\infty}xf_X(x)dx \\cdot \\int\\limits^{+\\infty}_{-\\infty}yf_Y(y)dx \\\\ &=E(X) \\cdot E(Y)\\end{aligned}$\n",
    "\n",
    "&emsp;&emsp;可以推广到任意有限个随机变量的情形，若 $X_1,X_2,\\dots,X_n$ 相互独立，则 $E(X_1X_2\\dots X_n) = EX_1\\cdot EX_2\\cdot\\dots\\cdot EX_n$ <br><br>"
   ]
  },
  {
   "cell_type": "markdown",
   "id": "349db6e2",
   "metadata": {},
   "source": [
    "<div class=\"alert alert-danger\" role=\"alert\"><span class=\"label label-warning\">例题</span> 设随机变量 $X，Y$ 的概率密度函数分别为 <br><br> $\\qquad\\qquad\\qquad\\qquad\\qquad\\qquad\\qquad$$f_X(x)=\\begin{cases}2x &0\\le x\\le 1\\\\0 &else\\end{cases},\\quad f_Y(y)=\\begin{cases}e^{-(y-5)} &y>5\\le x\\le 1\\\\0 &else\\end{cases}$ <br><br>$X$ 与 $Y$ 独立，求 $E(XY)$</div>\n",
    "\n",
    "&emsp;&emsp;由于 $X$ 与 $Y$ 独立，有 <br><br>\n",
    "$\\qquad\\qquad\\qquad\\qquad\\qquad\\qquad\\qquad\\qquad$$\\begin{aligned}E(XY)&=E(X)\\cdot E(Y)=\\int\\limits^{1}_{0}x\\cdot 2xdx \\cdot \\int\\limits^{+\\infty}_5 y\\cdot e^{-(y-5)}dy \\\\ &=\\dfrac{2}{3}e^5\\int\\limits^{+\\infty}_{5}ye^{-y}dy = \\dfrac{2}{3}e^5\\cdot 6e^{-5} = 4 \\end{aligned}$ "
   ]
  },
  {
   "cell_type": "markdown",
   "id": "b53fb55e",
   "metadata": {},
   "source": [
    "### 1.6 常见分布的数学期望"
   ]
  },
  {
   "cell_type": "markdown",
   "id": "2b8ccd1c",
   "metadata": {},
   "source": [
    "#### 1.6.1 单点分布"
   ]
  },
  {
   "cell_type": "markdown",
   "id": "bc1fe8f0",
   "metadata": {},
   "source": [
    "&emsp;&emsp;对于 0-1分布，$X\\backsim B(1,p)$，则 $E(X) = 0 \\cdot (1-p) + 1\\cdot p = p$"
   ]
  },
  {
   "cell_type": "markdown",
   "id": "51a0ddcf",
   "metadata": {},
   "source": [
    "#### 1.6.2 二项分布"
   ]
  },
  {
   "cell_type": "markdown",
   "id": "c9220032",
   "metadata": {},
   "source": [
    "&emsp;&emsp;对于二项分布，$X\\backsim B(n,p)，$设 $n$ 次独立重复试验中，事件 $A$ 发生的次数为随机变量 $X$，且每次试验中 $A$ 发生的概率为 $p$，$A$ 不发生的概率为 $1-p$，则 $X$ 服从参数为 $n,p$ 的二项分布，$X = X_1+X_2+\\dots+X_n$，$P(X_i=1)=p,P(X_i=0)=1-p,E(X_i)=p$ <br><br>\n",
    "$\\qquad\\qquad\\qquad\\qquad\\qquad\\qquad\\qquad\\qquad\\qquad$$\\begin{aligned}E(X) &=E(X_1+X_2+\\dots+X_n) \\\\ &=E(X_1) + E(X_2) + \\dots + E(X_n) \\\\ &=np\\end{aligned}$"
   ]
  },
  {
   "cell_type": "markdown",
   "id": "6a99f169",
   "metadata": {},
   "source": [
    "#### 1.6.3 泊松分布"
   ]
  },
  {
   "cell_type": "markdown",
   "id": "ce62eb81",
   "metadata": {},
   "source": [
    "&emsp;&emsp;对于泊松分布，$X\\backsim P(\\lambda)$，由泊松分布律 $P(X=k) = \\dfrac{\\lambda^ke^{-\\lambda}}{k!}\\;(k=0,1,2,\\dots)$ 得 <br><br>\n",
    "$\\qquad\\qquad\\qquad\\qquad\\qquad\\qquad\\qquad$$\\begin{aligned}E(X)&=\\sum\\limits^{\\infty}_{k=0}k\\cdot\\dfrac{\\lambda^k}{k!}e^{-\\lambda}=\\sum\\limits^{\\infty}_{k=1}\\dfrac{\\lambda^k}{(k-1)!}e^{-\\lambda} = \\lambda\\sum\\limits^{\\infty}_{k=1}\\dfrac{\\lambda^{k-1}}{(k-1)!}e^{-\\lambda}\\\\\\\\ &=\\lambda e^{-\\lambda}\\sum\\limits^{\\infty}_{k=0}\\dfrac{\\lambda^k}{k!} = \\lambda e^{-\\lambda}e^{\\lambda} = \\lambda \\end{aligned}$"
   ]
  },
  {
   "cell_type": "markdown",
   "id": "0ab0955f",
   "metadata": {},
   "source": [
    "#### 1.6.4 均匀分布"
   ]
  },
  {
   "cell_type": "markdown",
   "id": "5aca4815",
   "metadata": {},
   "source": [
    "&emsp;&emsp;对于均匀分布，$X\\backsim U(a,b)$，$X$ 的概率密度函数为 <br><br>\n",
    "$\\qquad\\qquad\\qquad\\qquad\\qquad\\qquad\\qquad\\qquad\\qquad\\qquad$$f(x) = \\begin{cases}\\dfrac{1}{b-a} &x\\in[a,b] \\\\\\\\ 0 &else\\end{cases}$ <br><br>\n",
    "&emsp;&emsp;则 $E(X)=\\int\\limits^{+\\infty}_{-\\infty}x\\cdot f(x)dx = \\int\\limits^{a}_{-\\infty}x\\cdot 0dx + \\int\\limits^{b}_{a}x\\cdot\\dfrac{1}{b-a}dx + \\int\\limits^{+\\infty}_{b}x\\cdot 0dx = \\int\\limits^{a}_{b}x\\cdot\\dfrac{1}{b-a}dx = \\dfrac{a+b}{2}$"
   ]
  },
  {
   "cell_type": "markdown",
   "id": "a17c2dd2",
   "metadata": {},
   "source": [
    "#### 1.6.5 指数分布"
   ]
  },
  {
   "cell_type": "markdown",
   "id": "9a59e13d",
   "metadata": {},
   "source": [
    "&emsp;&emsp;对于指数分布，$X\\backsim E(\\lambda)$，$X$ 的概率密度函数为 <br><br>\n",
    "$\\qquad\\qquad\\qquad\\qquad\\qquad\\qquad\\qquad\\qquad\\qquad\\qquad$$f(x) = \\begin{cases}\\lambda e^{-\\lambda x} &x \\ge 0 \\\\\\\\ 0 &else\\end{cases}$ <br><br>\n",
    "&emsp;&emsp;则 $E(X)=\\int\\limits^{+\\infty}_{-\\infty}x\\cdot f(x)dx = \\int\\limits^{0}_{-\\infty}x\\cdot 0dx + \\int\\limits^{+\\infty}_{0}x\\cdot\\lambda e^{-\\lambda x}dx = -\\int\\limits^{+\\infty}_{0}x\\cdot e^{-\\lambda x}d(-\\lambda x) = \\int\\limits^{+\\infty}_{0}xde^{-\\lambda x} = \\dfrac{1}{\\lambda}$"
   ]
  },
  {
   "cell_type": "markdown",
   "id": "ec4764be",
   "metadata": {},
   "source": [
    "#### 1.6.6 正态分布"
   ]
  },
  {
   "cell_type": "markdown",
   "id": "f1dba5b4",
   "metadata": {},
   "source": [
    "&emsp;&emsp;对于正态分布，$X\\backsim N(\\mu,\\sigma^2)$，$X$ 的概率密度函数为 <br><br>\n",
    "$\\qquad\\qquad\\qquad\\qquad\\qquad\\qquad\\qquad\\qquad\\qquad$$f(x) = \\dfrac{1}{\\sqrt{2\\pi}\\sigma}e^{-\\tfrac{(x-\\mu)^2}{2\\sigma^2}}\\quad(-\\infty<x<+\\infty)$ <br><br>\n",
    "&emsp;&emsp;则 $E(X)=\\int\\limits^{+\\infty}_{-\\infty}x\\cdot f(x)dx = \\dfrac{1}{\\sqrt{2\\pi}\\sigma}\\int\\limits^{+\\infty}_{-\\infty}xe^{-\\tfrac{(x-\\mu)^2}{2\\sigma^2}}dx$，令 $\\dfrac{x-\\mu}{\\sigma}=t$，则上式为 <br><br>\n",
    "$\\qquad\\qquad\\qquad\\qquad\\qquad\\qquad\\qquad\\qquad$$E(X) = \\dfrac{1}{\\sqrt{2\\pi}\\sigma}\\int\\limits^{+\\infty}_{-\\infty}(\\sigma t + \\mu)e^{-\\tfrac{t^2}{2}}dt = \\mu\\int\\limits^{+\\infty}_{-\\infty}\\dfrac{1}{\\sqrt{2\\pi}}e^{-\\tfrac{t^2}{2}}dt = \\mu$"
   ]
  },
  {
   "cell_type": "markdown",
   "id": "f3249831",
   "metadata": {},
   "source": [
    "---"
   ]
  },
  {
   "cell_type": "markdown",
   "id": "79b17122",
   "metadata": {},
   "source": [
    "## 第02节 方差"
   ]
  },
  {
   "cell_type": "markdown",
   "id": "12d4ff47",
   "metadata": {},
   "source": [
    "### 2.1 方差的概念"
   ]
  },
  {
   "cell_type": "markdown",
   "id": "266f88c1",
   "metadata": {},
   "source": [
    "&emsp;&emsp;数学期望从一个方面反映了随机变量平均取值的重要特征，但在很多情况下，仅知道均值是 **不够** 的\n",
    "\n",
    "&emsp;&emsp;假设甲、乙两人对同一物理量各测量 $3$ 次，分别得到两组数据 $[99.9,100,100.1]，[90,100,110]$，这两组数据就其平均值而言都是 $100$ ,但甲的各测量值偏离平均值较小，工程上认为测量精度较高，对于一个随机变量 $X$，需要知道它的数学期望外，还需要描述它取值的 **离散程度**\n",
    "\n",
    "> 对于随机变量 $X\\backsim U[-1,1], Y\\backsim U[-1000,1000]$，可知 $E(X) = E(Y)$，但随机变量 $Y$ 的波动性明显大于 $X$ 的波动性， 而数学期望无法描述 $X$ 与 $Y$ 的这种差异，即 **平均偏离程度**"
   ]
  },
  {
   "cell_type": "markdown",
   "id": "c585832e",
   "metadata": {},
   "source": [
    "<div class=\"alert alert-info\" role=\"alert\"><span class=\"label label-success\">定义 $4.3$</span> 设 $X$ 是一个随机变量，若 $E[X-E(X)]$ 存在，则称 $E[X-E(X)]^2$ 为 $X$ 的 <strong>方差 (Variance)</strong>，记为 $V(X)$，也可用 $D(X)$ 表示，即<br><br> $\\qquad\\qquad\\qquad\\qquad\\qquad\\qquad\\qquad\\qquad\\qquad\\qquad$$D(X)=E[X-E(X)]^2$ <br><br>称 $\\sqrt{D(X)}$ 为 $X$ 的 <strong>标准差</strong> 或 <strong>均方差</strong></div>\n",
    "\n",
    "> 从方差的定义可知，$D(X) \\ge 0$，方差 $D(X)$ 反映了随机变量 $X$ 取值与其均值的偏离程度 <br>\n",
    "$D(X)$ 越小，$X$ 的取值越集中于它的平均值附近，$D(X)$ 越大，则 $X$ 的取值与平均值的偏离程度就越大，说明 $X$ 取值的波动性越大\n",
    "\n",
    "&emsp;&emsp;采用求偏差值平方的平均值 $E[X-E(X)]^2$，而不采用求偏差值的平均值 $E[E-E(X)]$，也不采用求偏差值的绝对值的平均值 $E|X—E(x)|$ 作为方差定义，原因在于偏差值本身有正有负，在相加过程中会相互抵消，使得 $E[X—E(X)]$ 不能刻画 $X$ 取值的离散程度. 虽然 $E|X—E(x)|$ 没有这个缺点，但绝对值计算很不方便，因而采用了 $E[X-E(X)]^2$ 描述 $X$ 取值的离散程度，避开了上面的两种缺点\n",
    "\n",
    "<div class=\"alert alert-info\" role=\"alert\"><span class=\"label label-success\">定义 $4.4$</span> 称 $D(X)$ 的算术平方根为随机变量 $X$ 的<strong>标准差</strong> 或 <strong>均方差</strong>，记为<br><br> $\\qquad\\qquad\\qquad\\qquad\\qquad\\qquad\\qquad\\qquad\\qquad\\qquad\\qquad$$\\sigma=\\sqrt{D(X)}$<br><br>$\\sigma$ 也描述随机变量 $X$ 取值的离散程度，$D(X)$ 也可简记为 $\\sigma^2$ </div>"
   ]
  },
  {
   "cell_type": "markdown",
   "id": "346eb1d6",
   "metadata": {},
   "source": [
    "### 2.2 方差的计算方法"
   ]
  },
  {
   "cell_type": "markdown",
   "id": "d16f7b8a",
   "metadata": {},
   "source": [
    "&emsp;&emsp;由方差的定义可知，方差的本质是随机变量函数 $g(X)=[X-E(X)]^2$ 的数学期望，所以可以利用求随机变量的函数的数学期望的方法来求方差 $D(X)$\n",
    "\n",
    "- 若 $X$ 是离散型随机变量，分布律为 $p_i = P(X=x_i)\\;(i=1,2,\\dots)$，则 <br><br>\n",
    "$\\qquad\\qquad\\qquad\\qquad\\qquad\\qquad\\qquad\\qquad\\qquad\\quad$$D(X)=\\sum\\limits^{\\infty}_{i=1}[x_i-E(X)]^2p_i$ <br><br>\n",
    "\n",
    "- 若 $X$ 是连续型随机变量，概率密度函数为 $f(x)$，则 <br><br>\n",
    "$\\qquad\\qquad\\qquad\\qquad\\qquad\\qquad\\qquad\\qquad\\qquad$$D(X)=\\int\\limits^{+\\infty}_{-\\infty}[x-E(X)]^2f(x)dx$ <br><br>\n",
    "\n",
    "&emsp;&emsp;在计算方差时，常利用以下重要公式 $D(X)=E(X^2)-[E(X)]^2$，事实上 <br><br>\n",
    "$\\qquad\\qquad\\qquad\\qquad\\qquad\\qquad\\qquad\\qquad$$\\begin{aligned}D(X) &=E[X-E(X)]^2=E(X^2-2XE(X)+[E(X)]^2) \\\\ &=E(X^2)- 2E(X)E(X) + [E(X)]^2 \\\\ &=E(X^2)-[E(X)]^2\\end{aligned}$ <br><br>"
   ]
  },
  {
   "cell_type": "markdown",
   "id": "4a96f147",
   "metadata": {},
   "source": [
    "### 2.3 方差的性质"
   ]
  },
  {
   "cell_type": "markdown",
   "id": "4894e855",
   "metadata": {},
   "source": [
    "&emsp;&emsp;设以下性质中的随机变量的方差都存在，则有 <br><br>\n",
    "- 若 $C$ 为常数，则 $D(C) = 0$ <br><br>\n",
    "$D(C) =E[C-E(C)]^2 =E(C-C)^2=0$ <br><br>\n",
    "\n",
    "- 若 $a$ 为常数，则 $D(aX) = a^2D(X)$ <br><br>\n",
    "$D(aX) =E[aX-E(aX)]^2 = E[aX-aE(X)]^2 = E(a^2[X-E(X)]^2) = a^2D(X)$ <br><br>\n",
    "\n",
    "- 若 $a,b$ 为常数，则 $D(aX+b) = a^2D(X)$ <br><br>\n",
    "$D(aX+b) =E[aX+b-E(aX+b)]^2 = E[aX-aE(X) +b-b]^2 = E[aX-aE(X)]^2 = E(a^2[X-E(X)]^2) = a^2D(X)$ <br><br>\n",
    "\n",
    "- 若随机变量 $X$ 与 $Y$ 相互独立，则 $D(X\\pm Y) = D(X) + D(Y)$ <br><br>\n",
    "$\\begin{aligned}D(X\\pm Y) &= E[(X\\pm Y) -E(X\\pm Y)]^2 = E([X-E(X)] \\pm [Y-E(Y)]^2) \\\\ &=E([X-E(X)]^2+[Y-E(Y)]^2 \\pm 2[X-E(X)][Y-E(Y)]) \\\\&= D(X) + D(Y) \\pm 2E([X-E(X)][Y-E(Y)])\\end{aligned}$ <br><br>\n",
    "$\\begin{aligned}E([X-E(X)][Y-E(Y)]) &= E[XY-XE(Y)-YE(X)+E(X)E(Y)] \\\\ &=E(XY)-E(X)E(Y)-E(Y)E(X)+E(X)E(Y) \\\\&= E(XY)-E(X)E(Y)\\end{aligned}$ <br><br>\n",
    "当 $X$ 与 $Y$ 相互独立时，$E(XY) = E(X)\\cdot E(Y)$，从而 $D(X\\pm Y) = D(X) + D(Y)$，推广到 $n$ 个相互独立的随机变量 $X_1,X_2,\\dots,X_n$，便有 <br><br>\n",
    "$\\qquad\\qquad\\qquad\\qquad\\qquad\\qquad\\qquad$$D(X_1 \\pm X_2\\pm\\dots\\pm X_n) = D(X_1) + D(X_2) + \\dots +D(X_n)$ <br><br>\n",
    "$\\qquad\\qquad\\qquad\\qquad\\qquad\\qquad\\qquad\\qquad\\qquad$$D(\\sum\\limits^{n}_{k=1}a_kX_k) = \\sum\\limits^{n}_{k=1}a^2_kD(X_k)$ <br><br>"
   ]
  },
  {
   "cell_type": "markdown",
   "id": "5cbcc083",
   "metadata": {},
   "source": [
    "<div class=\"alert alert-danger\" role=\"alert\"><span class=\"label label-warning\">例题</span> 设随机变量 $X$ 的概率密度函数为 <br><br> $\\qquad\\qquad\\qquad\\qquad\\qquad\\qquad\\qquad$$f_X(x)=\\begin{cases}a+bx^2 &0<x<1\\ \\\\0 &else\\end{cases},\\quad E(X)=\\dfrac{3}{5}$ <br><br>求 $a,b,D(X)$</div>\n",
    "\n",
    "&emsp;&emsp;根据概率密度的性质，得 $1=\\int\\limits^1_0(a+bx^2)dx=a+\\dfrac{1}{3}b$，再由期望的定义，得 $\\dfrac{3}{5}=\\int\\limits^1_0x(a+bx^2)dx=\\dfrac{a}{2}+\\dfrac{b}{4}$，联合两个方程得到 $a=\\dfrac{3}{5},b=\\dfrac{6}{5}$ <br><br>\n",
    "$\\qquad\\qquad\\qquad\\qquad\\qquad\\qquad\\qquad$$E(X^2)=\\int\\limits^1_0(ax^2+bx^4)dx=\\int\\limits^1_0(\\dfrac{3}{5}x^2+\\dfrac{6}{5}x^4)dx  = \\dfrac{1}{5} + \\dfrac{6}{25} = \\dfrac{11}{25}$\n",
    "$\\qquad\\qquad\\qquad\\qquad\\qquad\\qquad\\qquad\\qquad\\qquad\\quad$$D(X)=E(X^2)-E(X)^2=\\dfrac{2}{25}$"
   ]
  },
  {
   "cell_type": "markdown",
   "id": "e896b17c",
   "metadata": {},
   "source": [
    "### 2.4  常见分布的方差"
   ]
  },
  {
   "cell_type": "markdown",
   "id": "95be486e",
   "metadata": {},
   "source": [
    "#### 2.4.1 单点分布"
   ]
  },
  {
   "cell_type": "markdown",
   "id": "e8b3552e",
   "metadata": {},
   "source": [
    "&emsp;&emsp;对于 0-1分布，$X\\backsim B(1,p)$，则 $D(X) = 0^2 \\cdot (1-p) + 1^2\\cdot p - p^2 = p - p^2 = p (1-p)$"
   ]
  },
  {
   "cell_type": "markdown",
   "id": "94d00285",
   "metadata": {},
   "source": [
    "#### 2.4.2 二项分布"
   ]
  },
  {
   "cell_type": "markdown",
   "id": "623b9984",
   "metadata": {},
   "source": [
    "&emsp;&emsp;对于二项分布，$X\\backsim B(n,p)，$设 $n$ 次独立重复试验中，事件 $A$ 发生的次数为随机变量 $X$，且每次试验中 $A$ 发生的概率为 $p$，$A$ 不发生的概率为 $1-p$，则 $X$ 服从参数为 $n,p$ 的二项分布，$X = X_1+X_2+\\dots+X_n$，$P(X_i=1)=p,P(X_i=0)=1-p,E(X_i)=p,D(X_i)=p(1-p),\\;i=1,2,\\dots$ <br><br>\n",
    "$\\qquad\\qquad\\qquad\\qquad\\qquad\\qquad\\qquad\\qquad\\qquad$$\\begin{aligned}E(X)&=E(X_1+X_2+\\dots+X_n) \\\\ &=E(X_1) + E(X_2) + \\dots + E(X_n) \\\\ &=np\\end{aligned}$ <br><br>\n",
    "$\\qquad\\qquad\\qquad\\qquad\\qquad\\quad$$D(X)=D(X_1+X_2+\\dots+X_n) = D(X_1) + D(X_2) + \\dots + D(X_n)=np(1-p)$"
   ]
  },
  {
   "cell_type": "markdown",
   "id": "873127ee",
   "metadata": {},
   "source": [
    "#### 2.4.3 泊松分布"
   ]
  },
  {
   "cell_type": "markdown",
   "id": "57449c35",
   "metadata": {},
   "source": [
    "&emsp;&emsp;对于泊松分布，$X\\backsim P(\\lambda)$，由泊松分布律 $P(X=k) = \\dfrac{\\lambda^ke^{-\\lambda}}{k!}\\;(k=0,1,2,\\dots)$ 得 $E(X)=\\lambda$<br><br>\n",
    "$\\qquad\\qquad\\qquad\\qquad\\qquad\\qquad\\qquad\\qquad$$\\begin{aligned}E(X^2)&=E[X(X-1)+X]=E[X(X-1)] + E(X) \\\\\\\\ &= \\sum\\limits^{\\infty}_{k=0}k(k-1)\\dfrac{\\lambda^k e^{-\\lambda}}{k!} + \\lambda \\\\\\\\ &= \\lambda^2 e^{-\\lambda}\\sum\\limits^{\\infty}_{k=2}\\dfrac{\\lambda^{k-2}}{(k-2)!} + \\lambda = \\lambda^2 e^{-\\lambda}\\sum\\limits^{\\infty}_{k=0}\\dfrac{\\lambda^k}{k!} + \\lambda \\\\\\\\ &=\\lambda^2 e^{-\\lambda}e^{\\lambda} + \\lambda = \\lambda^2 + \\lambda \\end{aligned}$ <br><br>\n",
    "$\\qquad\\qquad\\qquad\\qquad\\qquad\\qquad\\qquad\\qquad$$D(X)=E(X^2)-[E(X)]^2 = \\lambda^2 + \\lambda - \\lambda^2 = \\lambda$"
   ]
  },
  {
   "cell_type": "markdown",
   "id": "cfce8bc7",
   "metadata": {},
   "source": [
    "#### 2.4.4 均匀分布"
   ]
  },
  {
   "cell_type": "markdown",
   "id": "1e4c35ee",
   "metadata": {},
   "source": [
    "&emsp;&emsp;对于均匀分布，$X\\backsim U(a,b)$，$X$ 的概率密度函数为 <br><br>\n",
    "$\\qquad\\qquad\\qquad\\qquad\\qquad\\qquad\\qquad\\qquad\\qquad\\qquad$$f(x) = \\begin{cases}\\dfrac{1}{b-a} &x\\in[a,b] \\\\\\\\ 0 &else\\end{cases}$ <br><br>\n",
    "\n",
    "&emsp;&emsp;$E(X)=\\int\\limits^{+\\infty}_{-\\infty}x\\cdot f(x)dx = \\int\\limits^{a}_{-\\infty}x\\cdot 0dx + \\int\\limits^{b}_{a}x\\cdot\\dfrac{1}{b-a}dx + \\int\\limits^{+\\infty}_{b}x\\cdot 0dx = \\int\\limits^{a}_{b}x\\cdot\\dfrac{1}{b-a}dx = \\dfrac{a+b}{2}$ <br><br>\n",
    "&emsp;&emsp;$E(X^2)=\\int\\limits^{b}_{a}x^2\\cdot\\dfrac{1}{b-a}dx = \\dfrac{a^2+ab+b^2}{3}$ <br><br>\n",
    "&emsp;&emsp;$D(X)=E(X^2)-[E(X)]^2 = \\dfrac{a^2+ab+b^2}{3} - (\\dfrac{a+b}{2})^2 = \\dfrac{(b-a)^2}{12}$"
   ]
  },
  {
   "cell_type": "markdown",
   "id": "4cffeb0d",
   "metadata": {},
   "source": [
    "#### 2.4.5 指数分布"
   ]
  },
  {
   "cell_type": "markdown",
   "id": "0c7147f4",
   "metadata": {},
   "source": [
    "&emsp;&emsp;对于指数分布，$X\\backsim E(\\lambda)$，$X$ 的概率密度函数为 <br><br>\n",
    "$\\qquad\\qquad\\qquad\\qquad\\qquad\\qquad\\qquad\\qquad\\qquad\\qquad$$f(x) = \\begin{cases}\\lambda e^{-\\lambda x} &x \\ge 0 \\\\\\\\ 0 &else\\end{cases}$ <br><br>\n",
    "&emsp;&emsp;$E(X)=\\int\\limits^{+\\infty}_{-\\infty}x\\cdot f(x)dx = \\int\\limits^{0}_{-\\infty}x\\cdot 0dx + \\int\\limits^{+\\infty}_{0}x\\cdot\\lambda e^{-\\lambda x}dx = -\\int\\limits^{+\\infty}_{0}x\\cdot e^{-\\lambda x}d(-\\lambda x) = \\int\\limits^{+\\infty}_{0}xde^{-\\lambda x} = \\dfrac{1}{\\lambda}$ <br><br>\n",
    "&emsp;&emsp;$E(X^2)=\\int\\limits^{+\\infty}_{-\\infty}x^2\\cdot f(x)dx = \\int\\limits^{+\\infty}_{0}x^2\\cdot \\lambda e^{-\\lambda x}dx = -x^2e^{-\\lambda x}\\bigg|_{0}^{+\\infty} + 2 \\int\\limits^{+\\infty}_{0}xe^{-\\lambda x}dx = \\dfrac{2}{\\lambda^2}$ <br><br>\n",
    "&emsp;&emsp;$D(X)=E(X^2)-[E(X)]^2 = \\dfrac{2}{\\lambda^2} - (\\dfrac{1}{\\lambda})^2 = \\dfrac{1}{\\lambda^2}$"
   ]
  },
  {
   "cell_type": "markdown",
   "id": "883aec4d",
   "metadata": {},
   "source": [
    "#### 2.4.6 正态分布"
   ]
  },
  {
   "cell_type": "markdown",
   "id": "c5186df2",
   "metadata": {},
   "source": [
    "&emsp;&emsp;对于正态分布，$X\\backsim N(\\mu,\\sigma^2)$，$X$ 的概率密度函数为 <br><br>\n",
    "$\\qquad\\qquad\\qquad\\qquad\\qquad\\qquad\\qquad\\qquad\\qquad$$f(x) = \\dfrac{1}{\\sqrt{2\\pi}\\sigma}e^{-\\tfrac{(x-\\mu)^2}{2\\sigma^2}}\\quad(-\\infty<x<+\\infty)$ <br><br>\n",
    "\n",
    "&emsp;&emsp;$\\begin{aligned} D(X) &=E([X-E(X)]^2) \\\\ &=\\int\\limits^{+\\infty}_{-\\infty}(x-\\mu)^2f(x)dx \\\\ &=\\int\\limits^{+\\infty}_{\\infty} (x-\\mu)^2 \\dfrac{1}{\\sqrt{2\\pi}\\sigma}e^{-\\tfrac{(x-\\mu)^2}{2\\sigma^2}}dx \\\\ &\\require{extpfeil}\\xlongequal{\\dfrac{x-\\mu}{\\sigma}=t} \\dfrac{\\sigma^2}{\\sqrt{2\\pi}}\\int\\limits^{+\\infty}_{-\\infty}t^2e^{\\tfrac{-t^2}{2}}dt = \\dfrac{\\sigma^2}{\\sqrt{2\\pi}}(-te^{\\tfrac{-t^2}{2}} \\bigg|^{+\\infty}_{-\\infty} + \\int\\limits^{+\\infty}_{-\\infty}e^{\\tfrac{-t^2}{2}}dt) \\\\ &= \\dfrac{\\sigma^2}{\\sqrt{2\\pi}} \\int\\limits^{+\\infty}_{-\\infty}e^{\\tfrac{-t^2}{2}}dt \\\\ &= \\sigma^2 \\end{aligned}$"
   ]
  },
  {
   "cell_type": "markdown",
   "id": "860f787d",
   "metadata": {},
   "source": [
    "> 由以上可以看出，常用分布完全可由它们的数学期望和方差确定，同时也说明了随机变量的数字特征的重要性 <br><br>\n",
    "熟练掌握常见的随机变量的数学期望和方差，可使计算有关的问题得到简化，设随机变量 $X$ 是常见的随机变量，可直接写出 $E(X),D(X)$，之后应用公式 $E(X^2) = D(X) + [E(X)]^2$ 可以较容易地算出 $X^2$ 的数学期望\n",
    "\n",
    "<div class=\"alert alert-info\" role=\"alert\"><span class=\"label label-success\">定义 $4.5$</span> 设随机变量 $X,\\;D(X)>0$，记 $Y=\\dfrac{X-E(X)}{\\sqrt{D(X)}}$，称 $Y$ 为 $X$ 的 <strong>标准化随机变量</strong>，其中 <br><br>\n",
    "$\\qquad\\qquad\\qquad\\qquad\\qquad\\qquad$$E(Y)=\\dfrac{1}{\\sqrt{D(X)}}[E(X)-E(X)]=0,\\;D(Y)=\\dfrac{1}{D(X)}D[X-E(X)]=\\dfrac{D(X)}{D(X)}=1$ <br><br> 即标准化的随机变量的数学期望为 $0$，方差为 $1$</div>"
   ]
  },
  {
   "cell_type": "markdown",
   "id": "d883ad9c",
   "metadata": {},
   "source": [
    "---"
   ]
  },
  {
   "cell_type": "markdown",
   "id": "18bf9d77",
   "metadata": {},
   "source": [
    "## 第03节 协方差及相关系数"
   ]
  },
  {
   "cell_type": "markdown",
   "id": "52c5407c",
   "metadata": {},
   "source": [
    "&emsp;&emsp;数学期望和方差体现了单个随机变量的特征，对于二维随机变量 $(X,Y)$，除了分别讨论 $X$ 与 $Y$ 的数学期望与方差外，还需要描述 $X$ 与 $Y$ 之间的相互关系 **协方差** 与 **相关系数**\n",
    "\n",
    "&emsp;&emsp;讨论这个问题之前，先看一个例子: 设父亲的身高为 $X$，成年儿子的身高为 $Y$，为了研究父亲和成年儿子身高二者之间的关系，英国统计学家皮尔逊收集了 $1078$ 名父亲及成年儿子身高的数据，画出了一张散点图\n",
    "\n",
    "![covariance](https://s2.loli.net/2022/06/29/kD5uaCOJQx7sRtc.png)\n",
    "\n",
    "&emsp;&emsp;父亲与成年儿子的身高存在什么关系？类似的问题:吸烟与肺癌之间有什么关系？高考入学分数与大学学习成绩之间有什么关系？等等问题需要从理论上对两个 **随机变量之间的相互关系** 进行研究"
   ]
  },
  {
   "cell_type": "markdown",
   "id": "a5849714",
   "metadata": {},
   "source": [
    "### 3.1 协方差"
   ]
  },
  {
   "cell_type": "markdown",
   "id": "55726ae2",
   "metadata": {},
   "source": [
    "&emsp;&emsp;通常，对于任意的随机变量 $X,Y$ 有 $D(X+Y) = D(X) + D(Y) + 2E[X-E(X)][Y-E(Y)]$ 成立，且当 $X$ 与 $Y$ 独立时有 $D(X+Y) = D(X)+D(Y)$，即 $E[X-E(X)][Y-E(Y)] = 0$， 这意味着 $E[X-E(X)][Y-E(Y)] \\ne 0$ 时，$X$ 与 $Y$ 不独立，就是说 $X$ 与 $Y$ 存在着一定的关系"
   ]
  },
  {
   "cell_type": "markdown",
   "id": "f9951885",
   "metadata": {},
   "source": [
    "<div class=\"alert alert-info\" role=\"alert\"><span class=\"label label-success\">定义 $4.5$</span> 设随机变量 $X,Y$ 有数学期望和方差 $E(X),D(X),E(Y),D(Y)$，若 $E[X-E(X)][Y-E(Y)]$ 存在，则称其为 $X$ 与 $Y$ 的 <strong>协方差 (Covariance)</strong>，记为 $Cov(X,Y)$，也用 $\\sigma_{XY}$，即<br><br> $\\qquad\\qquad\\qquad\\qquad\\qquad\\qquad\\qquad\\qquad\\qquad$$Cov(X,Y)=E(XY)-E(X)\\cdot E(Y)$</div>"
   ]
  },
  {
   "cell_type": "markdown",
   "id": "eee73d4c",
   "metadata": {},
   "source": [
    "> 由定义可见，协方差也是一个特殊函数 $[(X-E(X)][Y-E(Y)]$ 的期望，随机变量 $X$ 与常数 $k$ 的协方差为 $0$，即 $Cov(X,k) = 0$ <br>\n",
    "特别地，当 $X=Y$ 时，$Cov(X,Y) = E([X-E(X)][X-E(X)]) = E[X-E(X)]^2 = D(X)$，方差可以看成是 $X=Y$ 时的协方差"
   ]
  },
  {
   "cell_type": "markdown",
   "id": "6dd91bb7",
   "metadata": {},
   "source": [
    "&emsp;&emsp;下面导出协方差的两个 **关系式**，这些关系式不仅可用于协方差的计算，而且在理论上也十分重要\n",
    "- $Cov(X,Y) = E(XY) - E(X) \\cdot E(Y)$ <br><br>\n",
    "由协方差的定义和数学期望的性质，可得 <br><br>\n",
    "$\\qquad\\qquad\\qquad\\qquad\\qquad\\qquad\\qquad$$\\begin{aligned}Cov(X,Y)&=E[X-E(X)][Y-E(Y)]\\\\&=E[XY-X\\cdot E(Y)-Y\\cdot E(X) + E(X)E(Y)]\\\\&=E(XY)-E(X)E(Y)-E(Y)E(X)+E(X)E(Y)\\\\&=E(XY)-E(X)E(Y)\\end{aligned}$ <br><br>\n",
    "数学期望的性质 $E(XY)=E(X)E(Y)$ 成立的充分必要条件是 $Cov(X, Y) = 0$，即 $\\sigma_{XY}=0$，$X$ 与 $Y$ 不相关<br><br>\n",
    "\n",
    "- $D(X+Y)=DX+DY+2Cov(X,Y)$ <br><br>\n",
    "由方差公式和协方差的定义，可得 <br><br>\n",
    "$\\qquad\\qquad\\qquad\\qquad\\qquad\\qquad$$\\begin{aligned}D(X+Y)&=E([(X+Y)-E(X+Y)]^2)\\\\&=E([X-E(X)+Y-E(Y)]^2) \\\\&=E[X-E(X)]^2 + E[Y-E(Y)]^2 + 2E([X-E(X)][Y-E(Y)])\\\\&=D(X)+D(Y)+2Cov(X,Y)\\end{aligned}$ <br><br>"
   ]
  },
  {
   "cell_type": "markdown",
   "id": "3d89ae6c",
   "metadata": {},
   "source": [
    "&emsp;&emsp;协方差具有下列性质\n",
    "- $Cov(X,Y) = Cov(Y,X)$\n",
    "- $Cov(aX,bY) = abCov(X,Y)$\n",
    "- $Cov(X,k)=0,\\;k\\in\\mathbb{C}$\n",
    "- $Cov(X\\pm Y,Z) = Cov(X,Z)\\pm Cov(Y,Z)$\n",
    "- 若 $X$ 与 $Y$ 相互独立，则 $Cov(X,Y) = 0$"
   ]
  },
  {
   "cell_type": "markdown",
   "id": "456ada25",
   "metadata": {},
   "source": [
    "<div class=\"alert alert-danger\" role=\"alert\"><span class=\"label label-warning\">例题</span> 设 $(X,Y)\\backsim U(a,b;c,d)$，求 $Cov(X,Y)$ </div>\n",
    "\n",
    "$\\qquad\\qquad\\qquad\\qquad\\qquad\\qquad$$\\begin{aligned}Cov(X,Y)&=E([X-E(X)][Y-E(Y)])\\\\&=\\iint\\limits^{+\\infty}_{-\\infty}[x-E(X)][y-E(Y)]f_{XY}(x,y)dxdy \\\\&=\\int\\limits^{d}_{c}[\\int\\limits^{b}_{a}(x-\\dfrac{a+b}{2})(y-\\dfrac{c+d}{2})\\cdot \\dfrac{1}{(b-a)(d-c)}dx]dy=0\\end{aligned}$"
   ]
  },
  {
   "cell_type": "markdown",
   "id": "d875e189",
   "metadata": {},
   "source": [
    "### 3.2 相关系数"
   ]
  },
  {
   "cell_type": "markdown",
   "id": "a4a5b62f",
   "metadata": {},
   "source": [
    "&emsp;&emsp;协方差虽然能在一定程度上反映两个随机变量 $X$ 与 $Y$ 之间的相互关系，但当 $X-E(X),\\;Y-E(Y)$ 中有一个很小时，即使 $X$ 与 $Y$ 之间有很密切的关系，它们的协方差也会很接近于零, 且协方差是一个有 **量纲** 的量，假如随机变量 $X$ 与 $Y$ 各自增大 $\\alpha$ 倍 $\\alpha \\ne 0$，但是根据 $Cov(\\alpha X, \\alpha Y) = \\alpha^2 Cov(X,Y)$ 协方差却增大了 $\\alpha^2$ 倍，为了克服这一不足，引入 **相关系数**"
   ]
  },
  {
   "cell_type": "markdown",
   "id": "101e40e9",
   "metadata": {},
   "source": [
    "<div class=\"alert alert-info\" role=\"alert\"><span class=\"label label-success\">定义 $4.5$</span> 设 $(X,Y)$ 为二维随机变量，若 $D(X)>0,\\;D(Y)>0$，则称<br><br> $\\qquad\\qquad\\qquad\\qquad\\qquad\\qquad\\qquad\\qquad\\qquad\\qquad$$\\rho_{XY}=\\dfrac{Cov(X,Y)}{\\sqrt{D(X)}\\cdot\\sqrt{D(Y)}}$<br><br>为随机变量 $X$ 与 $Y$ 的 <strong>相关系数</strong></div>"
   ]
  },
  {
   "cell_type": "markdown",
   "id": "856664ff",
   "metadata": {},
   "source": [
    "&emsp;&emsp;设随机变量 $X$ 与 $Y$ 的方差均存在，相关系数为 $\\rho_{XY}$，则有\n",
    "- $|\\rho_{XY}| \\le 1$\n",
    "- $|\\rho_{XY}|$ 的充分必要条件为，存在常数 $a,b$ 使得 $P(Y=aX+b)=1$ \n",
    "\n",
    "&emsp;&emsp;因为 $X^* = \\dfrac{X-E(X)}{\\sqrt{DX}},\\;Y^*=\\dfrac{Y-E(Y)}{\\sqrt{DY}}$，$E(X^{*})=E（Y^{*})$，$D(X^{*})=D(Y^{*})=1$<br><br>\n",
    "$\\qquad\\qquad\\qquad\\qquad\\qquad\\qquad\\qquad\\quad$$Cov(X^*,Y^*)=E(X^*,Y^*)-E(X^*)E(Y^*)=E(X^*Y^*)=\\rho_{XY}$ <br><br>\n",
    "&emsp;&emsp;$D(X^*\\pm Y^*)=D(X^*)+D(Y^*)\\pm 2Cov(X^*,Y^*)=2(1\\pm \\rho_{XY})\\ge 0$，由方差的非负性可以得到 $|\\rho_{XY}| \\le 1$"
   ]
  },
  {
   "cell_type": "markdown",
   "id": "12f57de5",
   "metadata": {},
   "source": [
    "<div class=\"alert alert-info\" role=\"alert\"><span class=\"label label-success\">定义 $4.6$</span> 当 $\\rho_{XY}=0$ 时，称 $X$ 与 $Y$ 不线性相关，简称不相关</div>\n",
    "\n",
    "&emsp;&emsp;相关系数 $\\rho_{XY}$ 刻画了 $X$ 与 $Y$ 之间线性关系的程度，若 $|\\rho_{XY}|=1$，$X$ 和 $Y$ 之间有线性关系 $Y = aX +b$，则 $p(Y=aX+b)=1$，且当 $a >0$ 时，$\\rho_{XY}=1$，当 $a<0$ 时，$\\rho_{XY}=-1$ \n",
    "\n",
    "&emsp;&emsp;若 $|\\rho_{XY}|$ 较大，表明 X 与 Y 之间线性关系的联系较好，若 $|\\rho_{XY}|$ 较小，表明 $X$ 与 $Y$ 之间线性关系的联系较差，若 $\\rho_{XY} = 0$，表明 $X$ 与 $Y$ 之间不存在线性关系，则称随机变量 $X$ 与 $Y$ 不相关 \n",
    "\n",
    "&emsp;&emsp;当 $\\rho_{XY}>0$ 时，称 $X$ 与 $Y$ 为 **正相关**，当 $\\rho_{XY}<0$ 时，称 $X$ 与 $Y$ 为 **负相关**. 因为相关系数和协方差具有相同的符号，因此前面关于协方差的符号意义的讨论可以移到这里，即正相关表示两个随机变量有同时增加或同时减少的变化趋势，而负相关表示两个随机变量有相反的变化趋势"
   ]
  },
  {
   "cell_type": "markdown",
   "id": "65189231",
   "metadata": {},
   "source": [
    "<div class=\"alert alert-danger\" role=\"alert\"><span class=\"label label-warning\">例题</span> 设随机变量 $(X,Y)$ 的概率密度函数为 <br><br> $\\qquad\\qquad\\qquad\\qquad\\qquad\\qquad\\qquad$$f(x,y)=\\begin{cases}\\dfrac{1}{8}(x+y) &0\\le x\\le 2,0\\le y\\le2 \\\\\\\\0 &else\\end{cases}$ <br><br>求 $\\rho_{XY}$</div>\n",
    "\n",
    "$\\qquad\\qquad\\qquad\\qquad\\qquad\\qquad\\qquad\\qquad$$E(X)=\\iint\\limits^{+\\infty}_{-\\infty}xf(x,y)dxdy=\\int\\limits^{2}_{0}dx\\int\\limits^{2}_{0}x(x+y)\\dfrac{1}{8}dy = \\dfrac{7}{6}$ <br><br>\n",
    "$\\qquad\\qquad\\qquad\\qquad\\qquad\\qquad\\qquad\\qquad\\qquad$$E(X^2)=\\int\\limits^2_0dx\\int\\limits^2_0x^2(x+y)\\dfrac{1}{8}dy = \\dfrac{5}{3}$ <br><br>\n",
    "$\\qquad\\qquad\\qquad\\qquad\\qquad\\qquad\\qquad\\qquad\\qquad\\quad$$D(X)=E(X^2)-E(X)^2=\\dfrac{11}{36}$ <br><br>\n",
    "&emsp;&emsp;由概率密度函数的对称性可以看出 <br><br>\n",
    "$\\qquad\\qquad\\qquad\\qquad\\qquad\\qquad\\qquad\\qquad\\qquad$$E(Y)=E(X)=\\dfrac{7}{6},\\;D(Y)=D(X)=\\dfrac{11}{36}$ <br><br>\n",
    "$\\qquad\\qquad\\qquad\\qquad\\qquad\\qquad\\qquad\\qquad\\qquad\\quad$$E(XY)=\\int\\limits^2_0dx\\int\\limits^2_0xy(x+y)\\dfrac{1}{8}dy=\\dfrac{4}{3}$<br><br>\n",
    "$\\qquad\\qquad\\qquad\\qquad\\qquad\\qquad\\qquad\\qquad\\qquad\\quad$$\\rho_{XY}=\\dfrac{Cov(X,Y)}{\\sqrt{D(X)}\\cdot\\sqrt{D(Y)}}=-\\dfrac{1}{11}$<br><br>"
   ]
  },
  {
   "cell_type": "markdown",
   "id": "6897626a",
   "metadata": {},
   "source": [
    "### 3.3 独立性与不相关性"
   ]
  },
  {
   "cell_type": "markdown",
   "id": "882c6049",
   "metadata": {},
   "source": [
    "&emsp;&emsp;随机变量之间独立和不相关是随机变量 $X$ 与 $Y$ 之间两种特殊的关系，在讨论数学期望的性质时，已经证明了当 $X$ 与 $Y$ 相互独立时，有 $E(XY)=E(X)\\cdot E(Y)$，则有 $Cov(X,Y) = 0,\\;\\rho_{XY}=0$，即 $X$ 与 $Y$ 不相关\n",
    "\n",
    "&emsp;&emsp;相关系数 $\\rho_{XY}=0$ 是刻画随机变量 $X,Y$ 之间 **线性关系** 的一种度量，其值 $|\\rho_{XY}=0|\\le 1$\n",
    "- 当 $|\\rho_{XY}|=1$ 时，则 $P(Y=aX+b)=1$\n",
    "- 当 $|\\rho_{XY}|=0$ 时，称随机变量 $X,Y$ 不相关"
   ]
  },
  {
   "cell_type": "markdown",
   "id": "1e387cff",
   "metadata": {},
   "source": [
    "&emsp;&emsp;至此假设已知随机变量 $X$ 与 $Y$ 相互独立，可以得到 **充分条件和必要条件** 下满足 <br><br>\n",
    "$\\implies X$ 与 $Y$ 不相关 <br>\n",
    "$\\iff \\rho_{XY}=0$ <br>\n",
    "$\\iff Cov(X,Y)=0$ <br>\n",
    "$\\iff E(XY)=E(X)\\cdot E(Y)$ <br>\n",
    "$\\iff D(X\\pm Y) = D(X)+D(Y)$\n",
    "\n",
    "> 不相关是指随机变量之间没有线性关系，独立是刻画随机变量之间没有任何关系，所以独立一定为不相关，但不相关不一定为独立的，这时 $X$ 与 $Y$ 之间可能还有某种别的函数关系，因此不能保证 $X$ 与 $Y$ 相互独立 <br><br> 例如，设 $X\\backsim U(-\\dfrac{1}{2},\\dfrac{1}{2})$，而 $Y = \\cos(X)$，可以证得 $Cov(X,Y)=0,\\;\\rho_{XY}=0$，那么 $X$ 与 $Y$ 是不相关的，但 $X$ 与 $Y$ 有严格的函数关系，则 $X$ 与 $Y$ 不相互独立 <br><br>\n",
    "但对于二维正态随机变量 $(X，Y)\\backsim N(\\mu_1,\\mu_2,\\sigma^2_1,\\sigma^2_2,\\rho)$ 来说，$X$ 与 $Y$ 互不相关和 $X$ 与 $Y$ 相互独立是等价的"
   ]
  },
  {
   "cell_type": "markdown",
   "id": "4eccca8b",
   "metadata": {},
   "source": [
    "---"
   ]
  },
  {
   "cell_type": "markdown",
   "id": "4dc72f53",
   "metadata": {},
   "source": [
    "## 第04节 矩、协方差矩阵"
   ]
  },
  {
   "cell_type": "markdown",
   "id": "44d157fe",
   "metadata": {},
   "source": [
    "### 4.1 随机变量的矩"
   ]
  },
  {
   "cell_type": "markdown",
   "id": "63fb925d",
   "metadata": {},
   "source": [
    "&emsp;&emsp;随机变量的矩也能很好地描述随机变量分布的特征，它的本质就是随机变量函数的 **期望问题**"
   ]
  },
  {
   "cell_type": "markdown",
   "id": "a281264f",
   "metadata": {},
   "source": [
    "<div class=\"alert alert-info\" role=\"alert\"><span class=\"label label-success\">定义 $4.6$</span> 设 $X$ 为随机变量，$k$ 为正整数，如果 $E(X^k)$ 存在，则称 $E(X^k)$ 为 $X$ 的 <strong>$k$ 阶原点矩</strong>，记为 $v_k$，即 $v_k=E[X^k]$ </div>\n",
    "\n",
    "<div class=\"alert alert-info\" role=\"alert\"><span class=\"label label-success\">定义 $4.7$</span> 设 $X$ 为随机变量，$k$ 为正整数，如果 $E[X-E(X)]^k$ 存在，则称 $E[X-E(X)]^k$ 为 $X$ 的 <strong>$k$ 阶中心矩</strong>，记为 $\\mu_k$，即 $\\mu_k=E[X-E(X)]^k$ </div>"
   ]
  },
  {
   "cell_type": "markdown",
   "id": "e34bf0ec",
   "metadata": {},
   "source": [
    "&emsp;&emsp;一阶原点矩就是数学期望， 即 $v_1=E(X)$ <br>\n",
    "&emsp;&emsp;二阶中心矩就是方差，即 $\\mu_2 = D(X)$，协方差 $Cov(X,Y)$ 是 $X$ 和 $Y$ 的二阶混合中心矩"
   ]
  },
  {
   "cell_type": "markdown",
   "id": "bfa5cf9c",
   "metadata": {},
   "source": [
    "### 4.2 协方差矩阵"
   ]
  },
  {
   "cell_type": "markdown",
   "id": "ee1cc74c",
   "metadata": {},
   "source": [
    "&emsp;&emsp;对于二维随机变量 $(X,Y)$，由其分量 $X,Y$ 的数字特征，以及 $X$ 与 $Y$ 的联合矩，就可以构成 $(X,Y)$ 的 **数字特征矩阵**\n",
    "\n",
    "&emsp;&emsp;二维随机变量 $(X,Y)$ 有 $4$ 个二阶中心矩，分别记为 <br><br>\n",
    "$\\qquad\\qquad\\qquad\\qquad\\qquad\\qquad\\qquad$$\\begin{matrix} c_{11}= E([X-E(X)]^2)&c_{12}= E([X-E(X)][Y-E(Y)]) \\\\ c_{21}= E([Y-E(Y)][X-E(X)])&c_{22}= E([Y-E(Y)]^2) \\end{matrix}$ <br><br>\n",
    "&emsp;&emsp;将其写成矩阵的形式 $\\begin{bmatrix} c_{11}&c_{12} \\\\ c_{21}&c_{22} \\end{bmatrix}$，称这个矩阵为随机变量 $(X,Y)$ 的 **协方差矩阵**，同样地可定义 $n$ 维随机变量 $X_1,X_2,\\dots,X_n$ 的协方差矩阵为 <br><br>\n",
    "$\\qquad\\qquad\\qquad\\qquad\\qquad\\qquad\\qquad\\qquad\\qquad\\qquad$$\\begin{bmatrix} Cov(X_1,X_1)&\\dots&Cov(X_1,X_n) \\\\ \\vdots & & \\vdots \\\\ Cov(X_n,X_1)&\\dots &Cov(X_n,X_n) \\end{bmatrix}$<br><br>\n",
    "\n",
    "> 协方差矩阵是一个 **对称矩阵**，且其主对角线上的元素是对应分量的方差"
   ]
  },
  {
   "cell_type": "markdown",
   "id": "c7c00829",
   "metadata": {},
   "source": [
    "<div class=\"alert alert-danger\" role=\"alert\"><span class=\"label label-warning\">例题</span> 设随机变量 $(X,Y)$ 相互独立，且都服从参数为 $\\lambda$ 的泊松分布，$U=2X+Y,\\;V=2X-Y$，求 $(U,V)$ 的协方差矩阵 $C$ 及 $\\rho_{UV}$</div>\n",
    "\n",
    "&emsp;&emsp;由于 $D(X)=D(Y)=\\lambda$ <br><br>\n",
    "$\\qquad\\qquad\\qquad\\qquad\\qquad\\qquad\\qquad\\qquad$$\\begin{aligned} Cov(U,V) &= Cov(2X+Y,2X-Y) \\\\ &=4Cov(X,X) + 2Cov(Y,X) - 2Cov(X,Y) - Cov(Y,Y) \\\\ &=4D(X)-D(Y) \\\\ &=4\\lambda-\\lambda \\\\ &= 3\\lambda \\end{aligned}$ <br><br>\n",
    "$\\qquad\\qquad\\qquad\\qquad\\qquad\\qquad\\qquad\\qquad$$D(U)=D(V)=4D(X)+D(Y)=5\\lambda$\n",
    "\n",
    "&emsp;&emsp;因此 $(U,V)$ 的协方差矩阵为 $\\begin{bmatrix} 5\\lambda&3\\lambda \\\\ 3\\lambda&5\\lambda \\end{bmatrix}$，$\\rho_{UV}=\\dfrac{Cov(U,V)}{\\sqrt{D(U)}\\cdot\\sqrt{D(V)}}=\\dfrac{3\\lambda}{5\\lambda}=\\dfrac{3}{5}$"
   ]
  }
 ],
 "metadata": {
  "kernelspec": {
   "display_name": "Python 3",
   "language": "python",
   "name": "python3"
  },
  "language_info": {
   "codemirror_mode": {
    "name": "ipython",
    "version": 3
   },
   "file_extension": ".py",
   "mimetype": "text/x-python",
   "name": "python",
   "nbconvert_exporter": "python",
   "pygments_lexer": "ipython3",
   "version": "3.8.8"
  }
 },
 "nbformat": 4,
 "nbformat_minor": 5
}

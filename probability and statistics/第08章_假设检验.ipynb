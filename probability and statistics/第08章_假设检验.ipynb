{
 "cells": [
  {
   "cell_type": "markdown",
   "id": "dacbb38e",
   "metadata": {},
   "source": [
    "# 第08章 假设检验"
   ]
  },
  {
   "cell_type": "markdown",
   "id": "4752d46a",
   "metadata": {},
   "source": [
    "---"
   ]
  },
  {
   "cell_type": "markdown",
   "id": "13fad330",
   "metadata": {},
   "source": [
    "## 序言"
   ]
  },
  {
   "cell_type": "markdown",
   "id": "d472e74e",
   "metadata": {},
   "source": [
    "### 1.内容介绍\n",
    "\n",
    "&emsp;&emsp;本章详细介绍了假设检验、正态总体均值的假设检验、正态总体方差的假设检验、置信区间与假设检验之间的关系、样本容量的选取等定义，并对其原理与例题进行了一一阐述\n",
    "\n",
    "### 2.理论目标\n",
    "\n",
    "- 掌握假设检验的基本思想与概念定义\n",
    "- 掌握两类错误与假设检验的步骤\n",
    "- 掌握正态总体均值检验、均值差检验与成对数据的检验\n",
    "- 掌握正态总体方差检验与方差比检验\n",
    "- 掌握置信区间与假设检验的关系\n",
    "- 掌握不同检验法的 $OC$ 函数与样本容量的选取\n",
    "\n",
    "### 3.实践目标\n",
    "\n",
    "- 无\n",
    "\n",
    "### 4.实践案例\n",
    "\n",
    "- 无\n",
    "\n",
    "### 5.内容目录\n",
    "\n",
    "- 1.假设检验\n",
    "- 2.正态总体均值的假设检验\n",
    "- 3.正态总体方差的假设检验\n",
    "- 4.置信区间与假设检验之间的关系\n",
    "- 5.样本容量的选取\n",
    "- 附录: 数理统计发展简史(下)"
   ]
  },
  {
   "cell_type": "markdown",
   "id": "2e3db596",
   "metadata": {},
   "source": [
    "---"
   ]
  },
  {
   "cell_type": "markdown",
   "id": "c004adaa",
   "metadata": {},
   "source": [
    "&emsp;&emsp;统计推断的另一类重要问题是 **假设检验 (Hypothesis testing)**，在总体分布类型未知或虽然知道其分布类型但含有未知参数时，为推断总体的某些特征，提出某些关于总体的假设. 我们需要根据样本所提供的信息并应用适当的统计量，对提出的假设作出是接受还是拒绝的决策\n",
    "- **参数假设检验**：对总体分布函数中的未知参数而提出的假设进行检验\n",
    "- **非参数假设检验**：对总体分布函数形式或类型的假设进行检验"
   ]
  },
  {
   "cell_type": "markdown",
   "id": "ce51e086",
   "metadata": {},
   "source": [
    "## 第01节 假设检验"
   ]
  },
  {
   "cell_type": "markdown",
   "id": "6aec41e5",
   "metadata": {},
   "source": [
    "### 1.1 假设检验的基本思想"
   ]
  },
  {
   "cell_type": "markdown",
   "id": "9bed9501",
   "metadata": {},
   "source": [
    "&emsp;&emsp;根据以往经验知道，某自动包装机在正常的情况下包装的袋装某食品的重量 $X$ 服从正态分布，其均值为 $0.5(kg)$，标准差为 $0.015$，某天开工后为检查此包装机是否正常，随机地抽取它所包装的 $9$ 袋食品，问是否可以认为此包装机正常？\n",
    "\n",
    "<table border=0 cellpadding=0 cellspacing=0 width=990 style='border-collapse:\n",
    " collapse;table-layout:fixed;'>\n",
    " <col span=9>\n",
    " <tr height=18>\n",
    "  <td style='text-align: center;'>$0.497$</td>\n",
    "  <td style='text-align: center;'>$0.506$</td>\n",
    "  <td style='text-align: center;'>$0.518$</td>\n",
    "  <td style='text-align: center;'>$0.524$</td>\n",
    "  <td style='text-align: center;'>$0.498$</td>\n",
    "  <td style='text-align: center;'>$0.511$</td>\n",
    "  <td style='text-align: center;'>$0.520$</td>\n",
    "  <td style='text-align: center;'>$0.515$</td>\n",
    "  <td style='text-align: center;'>$0.512$</td>\n",
    " </tr>   \n",
    "</table>\n",
    "\n",
    "&emsp;&emsp;以 $\\mu,\\sigma$ 分别表示总体 $X$ 的均值和标准差，由于长期实践表明标准差比较稳定，设 $\\sigma=0.015$，于是 $X\\backsim N(\\mu,0.015^2)$，这里 $\\mu$ 未知，问题是根据样本观察值来判断 $\\mu=0.5$ 还是 $\\mu\\ne0.5$，为此提出两个 **相互对立** 的假设 <br>\n",
    "<div align = center>$H_0:\\mu=\\mu_0(=0.5),\\quad H_1:\\mu\\ne\\mu_0$</div>\n",
    "\n",
    "然后要给出一个 **合理的法则**，并根据这个法则利用已知样本作出决策 $\\longrightarrow$ 是接受假设 $H_0$ (即拒绝 $H_1$)，还是拒绝 $H_0$ (即接受 $H_1$)，如果作出接受 $H_0$，则认为 $\\mu=0.5$，即认为包装机工作正常，否则认为包装机工作不正常"
   ]
  },
  {
   "cell_type": "markdown",
   "id": "c75e491f",
   "metadata": {},
   "source": [
    "&emsp;&emsp;由于要检验的假设涉及总体均值 $\\mu$ 所以首先想到能否借助样本均值 $\\bar{X}$ 这个统计量来进行判断，由于 $\\bar{X}$ 是 $\\mu$ 的无偏估计，$\\bar{X}$ 的观察值 $\\bar{x}$ 在一定程度上反映了 $\\mu$ 的大小，因此如果假设 $H_0$ 为真，则 $\\bar{x}$ 与 $\\mu_0$ 的偏差 $|\\bar{x}-\\mu_0|$ **不应太大**，如果 $|\\bar{x}-\\mu_0|$ 过分大，就应怀疑 $H_0$ 的正确性而拒绝 $H_0$\n",
    "> 考虑到当 $H_0$ 为真时 $Z=\\dfrac{\\bar{X}-\\mu_0}{\\sigma\\sqrt{n}}\\backsim N(0,1)$，而衡量 $|\\bar{x}-\\mu_0|$ 的大小归结为 $\\dfrac{|\\bar{x}-\\mu_0|}{\\sigma\\sqrt{n}}$ 的大小 <br>\n",
    "> 基于上面的想法，可以适当地选取一个正数 $k$ 使当观察值 $\\bar{x}$ 满足 $\\dfrac{|\\bar{x}-\\mu_0|}{\\sigma\\sqrt{n}}\\ge k$ 时就拒绝 $H_0$，反之若 $\\dfrac{|\\bar{x}-\\mu_0|}{\\sigma\\sqrt{n}}< k$ 时就不能拒绝 $H_0$"
   ]
  },
  {
   "cell_type": "markdown",
   "id": "4a016350",
   "metadata": {},
   "source": [
    "&emsp;&emsp;然而由于作岀决策的依据是 **样本**，当实际上 $H_0$ 为真时，仍然可以作出拒绝 $H_0$ 的决策 (这种可能性是无法消除的)，犯这种错误的概率记为 $P($当$H_0$为真时拒绝$H_0)$，由于无法消除犯这种错误的可能性，自然希望能够将犯这种错误的概率控制在一定的限度之内，即给出一个较小的数 $a(0<a<1)$，使犯这种错误的概率不超过 $a$，即 <br><br>\n",
    "<center>$P($当$H_0$为真时拒绝$H_0)\\le a$</center>\n",
    "\n",
    "为了确定常数 $k$ 考虑统计量 $\\dfrac{\\bar{X}-\\mu_0}{\\sigma/\\sqrt{n}}$，由于只考虑犯错误的概率最大为 $a$，令上式右边取等号，即令 $P($当$H_0$为真时拒绝$H_0)=P\\big(\\dfrac{|\\bar{X}-\\mu_0|}{\\sigma/\\sqrt{n}}\\ge k\\big)=a$ <br>\n",
    "由于当 $H_0$ 为真时，$\\dfrac{\\bar{X}-\\mu_0}{\\sigma/\\sqrt{n}}\\backsim N(0,1)$，根据标准正态分布的分位点的定义知 $k=z_{\\tfrac{a}{2}}$，因此当 $\\dfrac{|\\bar{X}-\\mu_0|}{\\sigma/\\sqrt{n}}\\ge k = z_{\\tfrac{a}{2}}$ 时拒绝 $H_0$，反之若 $\\dfrac{|\\bar{X}-\\mu_0|}{\\sigma/\\sqrt{n}}<k= z_{\\tfrac{a}{2}}$ 时就不能拒绝 $H_0$\n",
    "\n",
    "> 例如在上例中，取 $a=0.05$ 时 $k=z_{\\tfrac{a}{2}}=1.96$，已知 $n=9$，$\\sigma=0.015$，再由样本算得 $\\bar{x}=0.511$，则有 $\\dfrac{|\\bar{X}-\\mu_0|}{\\sigma/\\sqrt{n}} = 2.2 > 1.96$，于是 **拒绝 $H_0$**，认为包装机工作不正常"
   ]
  },
  {
   "cell_type": "markdown",
   "id": "184bac93",
   "metadata": {},
   "source": [
    "&emsp;&emsp;上例中所采用的检验法则是符合实际推断原理的，通常 $a$ 总是取得较小，一般取 $a=0.01,0.05$ 等，因此当 $H_0$ 为真时，$\\dfrac{|\\bar{X}-\\mu_0|}{\\sigma/\\sqrt{n}}\\ge z_{\\tfrac{a}{2}}$ 是小概率事件，根据实际推断原理就可以认为\n",
    "- 如果 $H_0$ 为真，则由一次试验得到的观察值 $\\bar{x}$ 满足不等式 $\\dfrac{|\\bar{X}-\\mu_0|}{\\sigma/\\sqrt{n}}\\ge z_{\\tfrac{a}{2}}$ 几乎是不可能的\n",
    "- 在一次试验中竟然出现了满足 $\\dfrac{|\\bar{X}-\\mu_0|}{\\sigma/\\sqrt{n}}\\ge z_{\\tfrac{a}{2}}$ 的 $\\bar{x}$，则有理由怀疑原来的假设 $H-0$ 的正确性因此拒绝 $H_0$\n",
    "- 若出现的观察值 $\\bar{x}$ 满足 $\\dfrac{|\\bar{X}-\\mu_0|}{\\sigma/\\sqrt{n}}< z_{\\tfrac{a}{2}}$，此时没有理由拒绝假设 $H_0$，因此只能接受假设 $H_0$\n",
    "\n",
    "> 应该注意这里的接受 **并非真正意义** 下的接受 $H_0$，而是在没有理由拒绝 $H_0$ 时，只能说拒绝 $H_0$ 的证据不足，或者说冒一定的风险接受 $H_0$"
   ]
  },
  {
   "cell_type": "markdown",
   "id": "51bf1208",
   "metadata": {},
   "source": [
    "### 1.2 假设检验的概念定义"
   ]
  },
  {
   "cell_type": "markdown",
   "id": "a8034539",
   "metadata": {},
   "source": [
    "- 误差常数 $a$ 为 **显著性水平** <br>\n",
    "当样本容量固定时，选定 $a$ 后，数 $k$ 就可以确定，然后按照统计量 $Z=\\dfrac{\\bar{X}-\\mu_0}{\\sigma/\\sqrt{n}}$ 的观察值的绝对值 $|z| \\ge k$ 还是 $\\le k$ 来 **做出决策** <br>\n",
    "$k$ 是检验上述假设的一个 **门槛值**，如果 $|z|=\\bigg|\\dfrac{\\bar{x}-\\mu_0}{\\sigma/\\sqrt{n}}\\bigg|\\ge k$，则称 $\\bar{x}$ 与 $\\mu_0$ 的差异是 **显著** 并拒绝 $H_0$，反之如果 $|z|=\\bigg|\\dfrac{\\bar{x}-\\mu_0}{\\sigma/\\sqrt{n}}\\bigg|< k$，则称 $\\bar{x}$ 与 $\\mu_0$ 的差异是 **不显著** 并接受 $H_0$，上面关于 $\\bar{x}$ 与 $\\mu_0$ 有无显著差异的判断是在显著性水平 $a$ 之下作出的 <br><br>\n",
    "\n",
    "- 统计量 $Z=\\dfrac{\\bar{X}-\\mu_0}{\\sigma/\\sqrt{n}}$ 为 **检验统计量**\n",
    "<center>$\\downarrow$</center><br>\n",
    "前面的假设检验问题通常可以叙述成：在显著性水平 $a$ 下，检验假设 <br><br>\n",
    "<center>$H_0:\\mu=\\mu_0,\\quad H_1:\\mu\\ne\\mu_0$</center><br>\n",
    "$H_0$ 称为 <strong>原假设</strong> 或 <strong>零假设（Null hypothesis)</strong> $H_1$ 称为 <strong>备择假设（Alternative hypothesis)</strong>，即在原假设被拒绝后可供选择的假设"
   ]
  },
  {
   "cell_type": "markdown",
   "id": "51047b6a",
   "metadata": {},
   "source": [
    "&emsp;&emsp;当检验统计量取某个区域 $C$ 中的值时拒绝 $H_0$，则称区域 $C$ 为 **拒绝域** (其余集称为 **接受域**)，拒绝域的边界称为 **临界点**，如在上例中，拒绝域为 $|z|\\ge z_{\\tfrac{a}{2}}$，而 $z=-z_{\\tfrac{a}{2}}$ 和 $z =z_{\\tfrac{a}{2}}$ 为临界点，上述利用 $Z$ 检验统计量得到的检验法，称为 **$Z$ 检验法**\n",
    "\n",
    "> 假设检验是运用 `证明某个事物的正确性不如否定其对立面容易` 的逻辑思想，通过数据和模型的矛盾来否定假设，值得注意的是一般在假设检验中，原假设是受到保护的"
   ]
  },
  {
   "cell_type": "markdown",
   "id": "b32f171f",
   "metadata": {},
   "source": [
    "### 1.3 两类错误与假设检验的步骤"
   ]
  },
  {
   "cell_type": "markdown",
   "id": "a9ddba0d",
   "metadata": {},
   "source": [
    "&emsp;&emsp;由于检验法则是根据样本作出的，总有可能作出错误的决策，在假设 \n",
    "- $H_0$ 实际为真时可能拒绝 $H_0$，称这类 **弃真** 的错误为 **第一类错误**\n",
    "- $H_0$ 实际不真时可能接受 $H_0$，称这类 **取伪** 的错误为 **第二类错误**\n",
    "\n",
    "\n",
    "<table border=0 cellpadding=0 cellspacing=0 width=990 style='border-collapse:\n",
    " collapse;table-layout:auto;'>\n",
    " <col span=3>\n",
    " <tr height=18>\n",
    "  <td style='text-align: center;'><strong>判断情况</strong></td>\n",
    "  <td style='text-align: center;'><strong>$H_0$ 为真</strong></td>\n",
    "  <td style='text-align: center;'><strong>$H_0$ 不真</strong></td>\n",
    " </tr>\n",
    " <tr height=18>\n",
    "  <td style='text-align: center;'><strong>拒绝 $H_0$</strong></td>\n",
    "  <td style='text-align: center;'>第一类错误 False Postive</td>\n",
    "  <td style='text-align: center;'>判断正确 True Postive</td>\n",
    " </tr>\n",
    " <tr height=18>\n",
    "  <td style='text-align: center;'><strong>接受 $H_0$</strong></td>\n",
    "  <td style='text-align: center;'>判断正确 True Negative</td>\n",
    "  <td style='text-align: center;'>第二类错误 False Negative</td>\n",
    " </tr>\n",
    "</table>\n",
    "\n",
    "&emsp;&emsp;为此在确定检验法则时，应尽可能使犯两类错误的概率都较小，但是进一步讨论可知，一般来说当样本容量固定时，若减少犯一类错误的概率，则犯另一类错误的概率往往增大，若要使犯两类错误的概率都减小，除非 **增加样本容量** \n",
    "\n",
    "> 在给定样本容量的情况下，一般来说总是控制犯第一类错误的概率，使它不大于 $a$，$a$ 的大小视具体情况而定通常 $a$ 取 $0.1,0.05,0.01,0.005$ 等值，这种只对犯第一类错误的概率加以控制，而不考虑犯第二类错误的概率的检验，即为 **显著性检验**"
   ]
  },
  {
   "cell_type": "markdown",
   "id": "d06ea438",
   "metadata": {},
   "source": [
    "<center>$H_0:\\mu=\\mu_0,\\quad H_1:\\mu\\ne\\mu_0$</center><br>\n",
    "\n",
    "&emsp;&emsp;中的备择假设 $H_0$ 表示 $\\mu$ 可能大于 $\\mu_0$，也可能小于 $\\mu_0$，将其称为 **双边备择假设**，而称形如上式的假设检验为 **双边假设检验** <br><br>\n",
    "&emsp;&emsp;往往实际中有时只关心总体均值是否增大，例如试验新工艺以提高材料的强度，这时所考虑的总体的均值应该越大越好 (如果能判断在新工艺下总体均值较以往正常生产的大，则可以考虑采用新工艺)，此时需要检验假设 <br><br>\n",
    "<center>$H_0:\\mu\\le\\mu_0,\\quad H_1:\\mu>\\mu_0$</center><br>\n",
    "\n",
    "&emsp;&emsp;形如上式的假设检验，称为 **右边检验**，类似地有时需要检验假设 <br><br>\n",
    "<center>$H_0:\\mu\\ge\\mu_0,\\quad H_1:\\mu<\\mu_0$</center><br>\n",
    "\n",
    "&emsp;&emsp;形如上式的假设检验，称为 **左边检验**，右边检验和左边检验统称为 **单边检验** <br><br>"
   ]
  },
  {
   "cell_type": "markdown",
   "id": "7a7f53c6",
   "metadata": {},
   "source": [
    "&emsp;&emsp;以下来讨论单边检验的拒绝域，设总体 $X\\backsim N(\\mu,\\sigma^2)$，$\\sigma$ 为已知，$X_1,X_2,\\dots,X_n$ 是来自 $X$ 的样本，给定显著性水平 $a$, 求检验问题 $H_0:\\mu\\le\\mu_0$，$H_1:\\mu>\\mu_0$ 的拒绝域，由于 $H_0$ 中的全部 $\\mu$ 都比 $H_1$ 中的 $\\mu$ 要小，当 $H_1$ 为真时，观察值 $\\bar{x}$ 往往偏大，因此拒绝域的形式为 $\\bar{x}\\ge k$ ($k$ 为正常数) <br><br>\n",
    "<center>$P($当$H_0$为真时拒绝$H_0)=P_{\\mu\\in H_0}(\\bar{X}\\ge k)=P_{\\mu\\le\\mu_0}\\bigg(\\dfrac{\\bar{X}-\\mu_0}{\\sigma/\\sqrt{n}}\\ge\\dfrac{k-\\mu_0}{\\sigma/\\sqrt{n}}\\bigg)\\le P_{\\mu\\le\\mu_0}\\bigg(\\dfrac{\\bar{X}-\\mu}{\\sigma/\\sqrt{n}}\\ge\\dfrac{k-\\mu_0}{\\sigma/\\sqrt{n}}\\bigg)$</center><br>\n",
    "\n",
    "&emsp;&emsp;上式不等号成立是由于 $\\mu\\le\\mu_0$，$\\dfrac{\\bar{X}-\\mu}{\\sigma/\\sqrt{n}}\\ge\\dfrac{\\bar{X}-\\mu_0}{\\sigma/\\sqrt{n}}$，事件 $\\bigg(\\dfrac{\\bar{X}-\\mu_0}{\\sigma/\\sqrt{n}}\\ge\\dfrac{k-\\mu_0}{\\sigma/\\sqrt{n}}\\bigg)\\subset\\bigg(\\dfrac{\\bar{X}-\\mu}{\\sigma/\\sqrt{n}}\\ge\\dfrac{k-\\mu_0}{\\sigma/\\sqrt{n}}\\bigg)$，所以要控制 $P($当$H_0$为真时拒绝$H_0\\le a)$，只需 <br><br>\n",
    "<center>$P_{\\mu\\le\\mu_0}\\bigg(\\dfrac{\\bar{X}-\\mu}{\\sigma/\\sqrt{n}}\\ge\\dfrac{k-\\mu_0}{\\sigma/\\sqrt{n}}\\bigg) = a$</center>\n",
    "\n",
    "&emsp;&emsp;由于 $\\dfrac{\\bar{X}-\\mu}{\\sigma/\\sqrt{n}}\\backsim N(0,1)$，$\\dfrac{k-\\mu_0}{\\sigma/\\sqrt{n}}=z_a$，于是 $k=\\mu_0+\\dfrac{\\sigma}{\\sqrt{n}}z_a$，因此 <br><br>\n",
    "<center>右边检验假设的拒绝域为 $z=\\dfrac{\\bar{x}-\\mu_0}{\\sigma/\\sqrt{n}}\\ge z_a$，左边检验假设的拒绝域为 $z=\\dfrac{\\bar{x}-\\mu_0}{\\sigma/\\sqrt{n}}\\le -z_a$</center>"
   ]
  },
  {
   "cell_type": "markdown",
   "id": "3de9022d",
   "metadata": {},
   "source": [
    "&emsp;&emsp;综上所述可得处理参数的假设检验问题的步骤\n",
    "\n",
    "- 根据实际问题的要求提出原假设 $H_0$ 和备择假设 $H_1$\n",
    "- 给定显著性水平 $a$ 和样本容量 $n$\n",
    "- 确定检验统计量和拒绝域的形式\n",
    "- 按 $P($当$H_0$为真时拒绝$H_0\\le a)$ 求出拒绝域\n",
    "- 取样，根据样本观察值作出决策，是接受 $H_0$ 还是拒绝 $H_0$"
   ]
  },
  {
   "cell_type": "markdown",
   "id": "a6225133",
   "metadata": {},
   "source": [
    "<div class=\"alert alert-danger\" role=\"alert\"><span class=\"label label-warning\">例题</span> 某厂产品需要玻璃纸做包装，按规定供应商提供的玻璃纸的横向延伸率不应低于 $65$，已知该指标服从正态分布 $N(\\mu,\\sigma^2)$ 且长期以来稳定地有 $\\sigma=5.5$，从近期来货中抽查了 $100$ 个样品，测得样本均值为 $\\bar{x} = 55.06$，问在显著性水平 $a=0.05$ 时能否接受这批玻璃纸？</div>\n",
    "\n",
    "&emsp;&emsp;按题意需检验假设 $H_0:\\mu\\ge65$，$H_1:\\mu<65$，这是左边检验问题，其拒绝域为 $\\dfrac{\\bar{x}-65}{\\sigma/\\sqrt{n}}\\le-z_{0.05}=-1.645$\n",
    "\n",
    "&emsp;&emsp;而已知 $z=\\dfrac{\\bar{x}-65}{\\sigma/\\sqrt{n}}=\\dfrac{55.06-65}{5.5/\\sqrt{100}}=-18.073<-1.645=-z_{0.05}$，即 $z$ 根据样本得到的结果落在拒绝域中，因此在显著性水平 $a=0.05$ 下拒绝 $H_0$，即不能接受这批纸"
   ]
  },
  {
   "cell_type": "markdown",
   "id": "97d648f5",
   "metadata": {},
   "source": [
    "---"
   ]
  },
  {
   "cell_type": "markdown",
   "id": "9e5648cc",
   "metadata": {},
   "source": [
    "## 第02节 正态总体均值的假设检验"
   ]
  },
  {
   "cell_type": "markdown",
   "id": "e64f242b",
   "metadata": {},
   "source": [
    "### 2.1 单个总体均值检验"
   ]
  },
  {
   "cell_type": "markdown",
   "id": "e9fe6e21",
   "metadata": {},
   "source": [
    "- **$\\sigma^2$ 为已知 $\\sim Z$ 检验**<br><br>\n",
    "在上节中已讨论过正态总体 $N(\\mu,\\sigma^2)$ 当 $\\sigma^2$ 已知时关于 $\\mu$ 的检验问题，在这些检验问题中利用统计量 $Z=\\dfrac{\\bar{X}-\\mu_0}{\\sigma/\\sqrt{n}}$ 来确定拒绝域，即 **$Z$ 检验法** <br><br>\n",
    "\n",
    "- **$\\sigma^2$ 为未知 $\\sim t$ 检验** <br><br>\n",
    "设总体 $X\\backsim N(\\mu,\\sigma^2)$，其中 $\\mu,\\sigma^2$ 未知，求检验问题 $H_0:\\mu=\\mu_0$，$H_1:\\mu\\ne\\mu_0$ 的显著性水平为 $a$ 的拒绝域 <br><br>\n",
    "设 $X_1,X_2,\\dots,X_n$ 是来自总体 $X$ 的样本，由于含有未知参数 $\\sigma$ 不能采用区间估计的公式，考虑到 $S^2$ 是 $\\sigma^2$ 的无偏估计，可将原式中的 $\\sigma$ 换成 $S=\\sqrt{S^2}$，采用 <br><br>\n",
    "<center>$t=\\dfrac{\\bar{X}-\\mu_0}{S/\\sqrt{n}}$</center><br>\n",
    "作为检验统计量，当观察值 $|t|=\\bigg|\\dfrac{\\bar{x}-\\mu_0}{s/\\sqrt{n}}\\bigg|$ 过分大时就拒绝 $H_0$，拒绝域的形式为 <br><br>\n",
    "<center>$|t|=\\bigg|\\dfrac{\\bar{x}-\\mu_0}{s/\\sqrt{n}}\\bigg|\\ge k$</center><br>\n",
    "根据  Fisher 引理的推论，当 $H_0$ 为真时 $\\dfrac{\\bar{X}-\\mu}{S/\\sqrt{n}}\\backsim t(n-1)$, 因此有 $P($当$H_0$为真时拒绝$H_0)=P_{\\mu_0}\\bigg(\\dfrac{\\bar{X}-\\mu_0}{S/\\sqrt{n}}\\ge k\\bigg)=a$，得 $k=t_{\\tfrac{a}{2}}(n-1)$，即得拒绝域为 <br><br>\n",
    "<center>$|t|=\\bigg|\\dfrac{\\bar{x}-\\mu_0}{s/\\sqrt{n}}\\bigg|\\ge t_{\\tfrac{a}{2}}(n-1)$</center><br>\n",
    "\n",
    "> 上述利用 $t$ 统计量得出的检验法称为 **$t$ 检验法**\n",
    "\n",
    "<table border=0 cellpadding=0 cellspacing=0 width=990 style='border-collapse:\n",
    " collapse;table-layout:auto;'>\n",
    " <col span=5>\n",
    " <tr height=18>\n",
    "  <td style='text-align: center;'><strong>方差 $\\sigma^2$</strong></td>\n",
    "  <td style='text-align: center;'><strong>原假设 $H_0$</strong></td>\n",
    "  <td style='text-align: center;'><strong>备择假设 $H_1$</strong></td>\n",
    "  <td style='text-align: center;'><strong>检测统计量</strong></td>\n",
    "  <td style='text-align: center;'><strong>拒绝域</strong></td>   \n",
    " </tr>\n",
    " <tr height=18>\n",
    "  <td rowspan=3 style='text-align: center;'><strong>已知</strong></td>   \n",
    "  <td style='text-align: center;'>$\\mu\\le\\mu_0$</td>\n",
    "  <td style='text-align: center;'>$\\mu>\\mu_0$</td>\n",
    "  <td rowspan=3 style='text-align: center;'>$Z=\\dfrac{X-\\mu_0}{\\sigma/\\sqrt{n}}$</td>\n",
    "  <td style='text-align: center;'>$z\\ge z_a$</td>   \n",
    " </tr>\n",
    " <tr height=18>\n",
    "  <td style='text-align: center;'>$\\mu\\ge\\mu_0$</td>\n",
    "  <td style='text-align: center;'>$\\mu<\\mu_0$</td>\n",
    "  <td style='text-align: center;'>$z\\le-z_a$</td>\n",
    " </tr>\n",
    " <tr height=18>\n",
    "  <td style='text-align: center;'>$\\mu=\\mu_0$</td>\n",
    "  <td style='text-align: center;'>$\\mu\\ne\\mu_0$</td>\n",
    "  <td style='text-align: center;'>$|z|\\ge-z_{\\tfrac{a}{2}}$</td>\n",
    " </tr>\n",
    " <tr height=18>\n",
    "  <td rowspan=3 style='text-align: center;'><strong>未知</strong></td>   \n",
    "  <td style='text-align: center;'>$\\mu\\le\\mu_0$</td>\n",
    "  <td style='text-align: center;'>$\\mu>\\mu_0$</td>\n",
    "  <td rowspan=3 style='text-align: center;'>$t=\\dfrac{\\bar{X}-\\mu_0}{S/\\sqrt{n}}$</td>\n",
    "  <td style='text-align: center;'>$t\\ge t_a(n-1)$</td>   \n",
    " </tr>\n",
    " <tr height=18>\n",
    "  <td style='text-align: center;'>$\\mu\\ge\\mu_0$</td>\n",
    "  <td style='text-align: center;'>$\\mu<\\mu_0$</td>\n",
    "  <td style='text-align: center;'>$t\\le-t_a(n-1)$</td>\n",
    " </tr>\n",
    " <tr height=18>\n",
    "  <td style='text-align: center;'>$\\mu=\\mu_0$</td>\n",
    "  <td style='text-align: center;'>$\\mu\\ne\\mu_0$</td>\n",
    "  <td style='text-align: center;'>$|t|\\ge-t_{\\tfrac{a}{2}}(n-1)$</td>\n",
    " </tr>\n",
    "</table>\n",
    "\n",
    "&emsp;&emsp; 从上表的拒绝域可以看出\n",
    "- 右边检验的拒绝域在临界点 ($z_a$ 或 $t_a$) 的 **右边**\n",
    "- 左边检验的拒绝域在临界点 ($-z_a$ 或 $-t_a$) 的 **左边**\n",
    "- 双边检验的拒绝域在两个临界点构成区间的 **外面**"
   ]
  },
  {
   "cell_type": "markdown",
   "id": "4138fab5",
   "metadata": {},
   "source": [
    "<div class=\"alert alert-danger\" role=\"alert\"><span class=\"label label-warning\">例题</span> 根据某地环境保护法的规定，倾入河流的废水中某种有毒化学物质的平均含量不得超过 $3mg/kg$，该地区环境保护组织沿河各厂进行检査，连续测得某厂 $15$ 天倾入河流的废水中某种有毒化学物质的含量如下，若废水中该种有毒化学物质的含量服从正态分布，问在显著性水平 $a=0.05$ 下，该厂是否符合环保规定？</div>\n",
    "\n",
    "<table border=0 cellpadding=0 cellspacing=0 width=990 style='border-collapse:\n",
    " collapse;table-layout:fixed;'>\n",
    " <col span=8>\n",
    " <tr height=18>\n",
    "  <td style='text-align: center;'>$3.1$</td>\n",
    "  <td style='text-align: center;'>$3.2$</td>\n",
    "  <td style='text-align: center;'>$3.3$</td>\n",
    "  <td style='text-align: center;'>$2.9$</td>\n",
    "  <td style='text-align: center;'>$3.5$</td>\n",
    "  <td style='text-align: center;'>$3.4$</td>\n",
    "  <td style='text-align: center;'>$2.5$</td>\n",
    "  <td style='text-align: center;'>$4.3$</td>\n",
    " </tr>   \n",
    " <tr height=18>\n",
    "  <td style='text-align: center;'>$2.9$</td>\n",
    "  <td style='text-align: center;'>$3.6$</td>     \n",
    "  <td style='text-align: center;'>$3.2$</td>\n",
    "  <td style='text-align: center;'>$3.0$</td>\n",
    "  <td style='text-align: center;'>$2.7$</td>\n",
    "  <td style='text-align: center;'>$3.5$</td>\n",
    "  <td style='text-align: center;'>$2.9$</td>  \n",
    " </tr>  \n",
    "</table>\n",
    "\n",
    "&emsp;&emsp;按题意需检验假设 $H_0:\\mu\\le3$，$H_1:\\mu>3$，根据上表可知其拒绝域为 $\\dfrac{\\bar{x}-3}{s/\\sqrt{n}}\\ge t_{a}(n-1)$，而已知 $n=15$，$t_{0.05}(14)=1.7613$，根据样本观察值得 $\\bar{x}=3.2$，$s=0.436$ 则 <br><br>\n",
    "<center>$t=\\dfrac{3.2-3}{0.436/\\sqrt{15}}=1.7766 > 1.7613$</center><br>\n",
    "因此 $t$ 落在拒绝域中，即在显著性水平 $a=0.05$ 下拒绝 $H_0$，所以可以认为该厂不符合环保规定"
   ]
  },
  {
   "cell_type": "markdown",
   "id": "5d6bbfc8",
   "metadata": {},
   "source": [
    "### 2.2 两个正态总体均值差检验"
   ]
  },
  {
   "cell_type": "markdown",
   "id": "5602dea0",
   "metadata": {},
   "source": [
    "&emsp;&emsp;还可以用 $t$ 检验法检验具有相同方差的两正态总体均值差的假设，设 $X_1,X_2,\\dots,X_n$ 是来自正态总体 $N(\\mu_1,\\sigma^2)$ 的样本，$Y_1,Y_2,\\dots,Y_n$ 是来自正态总体 $N(\\mu_2,\\sigma^2)$ 的样本，且设两样本独立，又分别记它们的样本均值为 $\\bar{X},\\bar{Y}$，记样本方差为 $S^2_1,S^2_2$ ，在这里假设两总体的方差是相等的，但 $\\mu_1,\\mu_2,\\sigma^2$ 均为未知，现在来求检验问题 <br><br>\n",
    "<center>$H_0:\\mu_1-\\mu_2=\\delta,\\quad H_1:\\mu_1-\\mu_2\\ne\\delta$ ($\\delta$ 为已知常数)</center><br>\n",
    "的拒绝域，取显著性水平 $a$，引用下述 $t$ 统计量作为检验统计量 <br><br>\n",
    "<center>$t=\\dfrac{\\bar{X}-\\bar{Y}-\\delta}{S_w\\sqrt{\\dfrac{1}{n_1}+\\dfrac{1}{n_2}}}$</center><br>\n",
    "其中 $S^2_w=\\dfrac{(n_1-1)S^2_1+(n_2-1)S^2_2}{n_1+n_2-2}$，$S_w=\\sqrt{S^2_w}$，当 $H_0$ 为真时由 Fisher 引理的推论可知 $t\\backsim t(n_1+n_2-2)$，与单个总体的 $t$ 检验法相仿，其拒绝域的形式为 <br><br>\n",
    "<center>$\\bigg|\\dfrac{(\\bar{x}-\\bar{y})-\\delta}{s_w\\sqrt{\\tfrac{1}{n_1}+\\tfrac{1}{n_2}}}\\bigg|\\ge k$</center><br>\n",
    "由 $P($当$H_0$为真时拒绝$H_0)=P_{\\mu_1-\\mu_2}\\bigg(\\bigg|\\dfrac{(\\bar{X}-\\bar{Y})-\\delta}{S_w\\sqrt{\\tfrac{1}{n_1}}+\\tfrac{1}{n_2}}\\bigg|\\ge k\\bigg)=a$，得 $k=t_{\\tfrac{a}{2}}(n_1+n_2-2)$，即得拒绝域为 <br><br>\n",
    "<center>$|t|=\\dfrac{|(\\bar{x}-\\bar{y})-\\delta|}{s_w\\sqrt{\\tfrac{1}{n_1}}+\\tfrac{1}{n_2}}\\ge t_{\\tfrac{a}{2}}(n_1+n_2-2)$</center><br>\n",
    "\n",
    "> 当两个正态总体的方差均为已知（不一定相等）时，我们可用 $Z$ 检验法来检验两正态总体均值差的假设问题"
   ]
  },
  {
   "cell_type": "markdown",
   "id": "42a4d2ae",
   "metadata": {},
   "source": [
    "### 2.3 基于成对数据的检验"
   ]
  },
  {
   "cell_type": "markdown",
   "id": "6948bc90",
   "metadata": {},
   "source": [
    "&emsp;&emsp;有时为了比较两种产品、两种仪器、两种方法等的差异，常在相同的条件下做对比试验，得到一批成对的观察值，然后分析观察数据作出推断，这种方法常称为 **逐对比较法** \n",
    "\n",
    "&emsp;&emsp;假设有两台光谱仪用来测量材料中某种金属的含量，为鉴定它们的测量结果有无显著的差异，制备了 $9$ 件试块 (它们的成分、金属含量 、均匀性等均各不相同)，现在分别用这两台仪器对每一试块测量一次，得到 $9$ 对观察值如下\n",
    "\n",
    "<table border=0 cellpadding=0 cellspacing=0 width=990 style='border-collapse:\n",
    " collapse;table-layout:fixed;'>\n",
    " <col span=10>\n",
    " <tr height=18>\n",
    "  <td style='text-align: center;'>$x(\\%)$</td>\n",
    "  <td style='text-align: center;'>$0.20$</td>\n",
    "  <td style='text-align: center;'>$0.30$</td>\n",
    "  <td style='text-align: center;'>$0.40$</td>\n",
    "  <td style='text-align: center;'>$0.50$</td>\n",
    "  <td style='text-align: center;'>$0.60$</td>\n",
    "  <td style='text-align: center;'>$0.70$</td>\n",
    "  <td style='text-align: center;'>$0.80$</td>\n",
    "  <td style='text-align: center;'>$0.90$</td>\n",
    "  <td style='text-align: center;'>$1.00$</td>\n",
    " </tr>   \n",
    " <tr height=18> \n",
    "  <td style='text-align: center;'>$y(\\%)$</td>\n",
    "  <td style='text-align: center;'>$0.10$</td>     \n",
    "  <td style='text-align: center;'>$0.21$</td>\n",
    "  <td style='text-align: center;'>$0.52$</td>\n",
    "  <td style='text-align: center;'>$0.32$</td>\n",
    "  <td style='text-align: center;'>$0.78$</td>\n",
    "  <td style='text-align: center;'>$0.59$</td>\n",
    "  <td style='text-align: center;'>$0.68$</td>\n",
    "  <td style='text-align: center;'>$0.77$</td>\n",
    "  <td style='text-align: center;'>$0.89$</td>  \n",
    " </tr>\n",
    " <tr height=18> \n",
    "  <td style='text-align: center;'>$d=x-y(\\%)$</td>\n",
    "  <td style='text-align: center;'>$0.10$</td>     \n",
    "  <td style='text-align: center;'>$0.09$</td>\n",
    "  <td style='text-align: center;'>$-0.12$</td>\n",
    "  <td style='text-align: center;'>$0.18$</td>\n",
    "  <td style='text-align: center;'>$-0.18$</td>\n",
    "  <td style='text-align: center;'>$0.11$</td>\n",
    "  <td style='text-align: center;'>$0.12$</td>\n",
    "  <td style='text-align: center;'>$0.13$</td>\n",
    "  <td style='text-align: center;'>$0.11$</td>  \n",
    " </tr> \n",
    "</table>\n",
    "\n",
    "<br><center><strong>问当 $a=0.01$ 时，能否认为这两台仪器的测量结果有显著的差异？</strong></center>"
   ]
  },
  {
   "cell_type": "markdown",
   "id": "4930dd47",
   "metadata": {},
   "source": [
    "&emsp;&emsp;本题中的数据是 **成对** 的，即一对与另一对之间的差异是由各种因素，如材料成分、金属含量、均匀性等因素引起的 <br><br>\n",
    "&emsp;&emsp;由于各试块的特性有广泛的差别，就不能将仪器 $I_x$ 对 $9$ 个试块的测量结果看成是同分布随机变量的观察值，因而表中第一行不能看成是一个样本的样本值，同样表中第二行也不能看成是一个样本的样本值，再者对于每一对数据而言，它们是同一试块用不同仪器 $I_x,I_y$ 测得的结果，因此它们不是两个独立的随机变量的观察值，所以 **不能** 用 $Z$ 或 $t$ 检验法来作检验 <br><br>\n",
    "&emsp;&emsp;但 **同一对中两个数据的差异** 则可看成是仅由这两台仪器性能的差异所引起的，这样局限于各对中两个数据来比较就能排除种种其他因素，而只考虑单独由仪器的性能所产生的影响，从而能比较这两台仪器的测量结果是否有显著的差异 <br><br>\n",
    "<center>$\\downarrow$<center>"
   ]
  },
  {
   "cell_type": "markdown",
   "id": "95c5447e",
   "metadata": {},
   "source": [
    "&emsp;&emsp;一般设 $n$ 对相互独立的观察结果 $(X_1,Y_1),(X_2,Y_2),\\dots,(X_n,Y_n)$，令 $D_1=X_1-Y_1,D_2=X_2-Y_2,\\dots,D_n=X_n-Y_n$，则 $D_1,D_2,\\dots,D_n$ 相互独立，又由于 $D_1,D_2,\\dots,D_n$ 是由同一因素所引起的，可认为它们服从同一分布，假设 $D_i\\backsim N(\\mu_D,\\sigma^2_D)\\;i=1,2,\\dots,n$，即 $D_1,D_2,\\dots,D_n$ 构成正态总体 $N(\\mu_D,\\sigma^2_D)$ 的一个样本，其中 $\\mu_D,\\sigma^2_D$ 未知，需要基于这一样本检验假设 <br><br>\n",
    "<center>$H_0:\\mu=\\mu_0$，$H_1:\\mu\\ne\\mu_0$</center><br>\n",
    "<center>$H_0:\\mu\\le\\mu_0$，$H_1:\\mu>\\mu_0$</center><br>\n",
    "<center>$H_0:\\mu\\ge\\mu_0$，$H_1:\\mu<\\mu_0$</center><br>\n",
    "分别记 $D_1,D_2,\\dots,D_n$ 的样本均值和样本方差的观察值为 $\\bar{d},s^2_D$，按单个正态总体均值的 $Z$ 检验，上述检验问题在显著性水平为 $a$ 的拒绝域分别为 <br><br>\n",
    "<center>$|t|=\\bigg|\\dfrac{\\bar{d}}{s_D/\\sqrt{n}}\\bigg|\\ge t_{\\tfrac{a}{2}}(n-1)$</center><br>\n",
    "<center>$t=\\dfrac{\\bar{d}}{s_D/\\sqrt{n}}\\ge t_{a}(n-1)$</center><br>\n",
    "<center>$t=\\dfrac{\\bar{d}}{s_D/\\sqrt{n}}\\le -t_{a}(n-1)$</center><br>"
   ]
  },
  {
   "cell_type": "markdown",
   "id": "2b677cb9",
   "metadata": {},
   "source": [
    "&emsp;&emsp;现在回过来讨论本例的检验问题，先作出同一试块分别由仪器 $I_x,I_y$ 测得的结果之差，列于上表的第三行，按题意需检验假设 $H_0:\\mu_D=0$，$H_1:\\mu_D\\ne0$，已知 $n=9$，$t_{\\tfrac{a}{2}}(8)=t_{0.005}(8)=3.3554$，即知拒绝域为 <br><br>\n",
    "<center>$|t|=\\bigg|\\dfrac{\\bar{d}}{s_D/\\sqrt{n}}\\bigg|\\ge 3.3554$</center><br>\n",
    "由观察值得 $\\bar{d}=0.06$，$s_D=0.1227$，$|t|=\\dfrac{0.06}{0.122\\cdot7/\\sqrt{9}}=1.467<3.3554$，现 $|t|$ 的值不落在拒绝域内，接受 $H_0$ 两台仪器的测量结果无显著差异"
   ]
  },
  {
   "cell_type": "markdown",
   "id": "95b780d3",
   "metadata": {},
   "source": [
    "<table border=0 cellpadding=0 cellspacing=0 width=990 style='border-collapse:\n",
    " collapse;table-layout:auto;'>\n",
    " <col span=5>\n",
    " <tr height=18>\n",
    "  <td style='text-align: center;'><strong>参数</strong></td>\n",
    "  <td style='text-align: center;'><strong>原假设 $H_0$</strong></td>\n",
    "  <td style='text-align: center;'><strong>备择假设 $H_1$</strong></td>\n",
    "  <td style='text-align: center;'><strong>检测统计量</strong></td>\n",
    "  <td style='text-align: center;'><strong>拒绝域</strong></td>   \n",
    " </tr>\n",
    " <tr height=18>\n",
    "  <td rowspan=3 style='text-align: center;'><strong>$\\sigma^2_1,\\sigma^2_2$ 已知</strong></td>   \n",
    "  <td style='text-align: center;'>$\\mu_1-\\mu_2\\le\\delta$</td>\n",
    "  <td style='text-align: center;'>$\\mu_1-\\mu_2>\\delta$</td>\n",
    "  <td rowspan=3 style='text-align: center;'>$Z=\\dfrac{\\bar{X}-\\bar{Y}-\\delta}{\\sqrt{\\dfrac{\\sigma^2_1}{n_1}+\\dfrac{\\sigma^2_2}{n_2}}}$</td>\n",
    "  <td style='text-align: center;'>$z\\ge z_a$</td>   \n",
    " </tr>\n",
    " <tr height=18>\n",
    "  <td style='text-align: center;'>$\\mu_1-\\mu_2\\ge\\delta$</td>\n",
    "  <td style='text-align: center;'>$\\mu_1-\\mu_2<\\delta$</td>\n",
    "  <td style='text-align: center;'>$z\\le-z_a$</td>\n",
    " </tr>\n",
    " <tr height=18>\n",
    "  <td style='text-align: center;'>$\\mu_1-\\mu_2=\\delta$</td>\n",
    "  <td style='text-align: center;'>$\\mu_1-\\mu_2\\ne\\delta$</td>\n",
    "  <td style='text-align: center;'>$|z|\\ge-z_{\\tfrac{a}{2}}$</td>\n",
    " </tr>\n",
    " <tr height=18>\n",
    "  <td rowspan=3 style='text-align: center;'><strong>$\\sigma^2_1=\\sigma^2_2=\\sigma^2$ 未知</strong></td>   \n",
    "  <td style='text-align: center;'>$\\mu_1-\\mu_2\\le\\delta$</td>\n",
    "  <td style='text-align: center;'>$\\mu_1-\\mu_2>\\delta$</td>\n",
    "  <td rowspan=3 style='text-align: center;'>$t=\\dfrac{\\bar{X}-\\bar{Y}-\\delta}{S_w\\sqrt{\\dfrac{1}{n_1}+\\dfrac{1}{n_2}}}$<br><br>$S^2_w=\\dfrac{(n_1-1)S^2_1+(n_2-1)S^2_2}{n_1+n_2-2}$</td>\n",
    "  <td style='text-align: center;'>$t\\ge t_a(n_1+n_2-2)$</td>   \n",
    " </tr>\n",
    " <tr height=18>\n",
    "  <td style='text-align: center;'>$\\mu_1-\\mu_2\\ge\\delta$</td>\n",
    "  <td style='text-align: center;'>$\\mu_1-\\mu_2<\\delta$</td>\n",
    "  <td style='text-align: center;'>$t\\le-t_a(n_1+n_2-2)$</td>\n",
    " </tr>\n",
    " <tr height=18>\n",
    "  <td style='text-align: center;'>$\\mu_1-\\mu_2=\\delta$</td>\n",
    "  <td style='text-align: center;'>$\\mu_1-\\mu_2\\ne\\delta$</td>\n",
    "  <td style='text-align: center;'>$|t|\\ge t_{\\tfrac{a}{2}}(n_1+n_2-2)$</td>\n",
    " </tr>\n",
    "  <tr height=18>\n",
    "  <td rowspan=3 style='text-align: center;'><strong>成对数据</strong></td>   \n",
    "  <td style='text-align: center;'>$\\mu_D\\le0$</td>\n",
    "  <td style='text-align: center;'>$\\mu_D>0$</td>\n",
    "  <td rowspan=3 style='text-align: center;'>$t=\\dfrac{\\bar{D}-0}{S_d/\\sqrt{n}}$</td>\n",
    "  <td style='text-align: center;'>$t\\ge t_a(n-1)$</td>   \n",
    " </tr>\n",
    " <tr height=18>\n",
    "  <td style='text-align: center;'>$\\mu_D\\ge0$</td>\n",
    "  <td style='text-align: center;'>$\\mu_D<0$</td>\n",
    "  <td style='text-align: center;'>$t\\le -t_a(n-1)$</td> \n",
    " </tr>\n",
    " <tr height=18>\n",
    "  <td style='text-align: center;'>$\\mu_D=0$</td>\n",
    "  <td style='text-align: center;'>$\\mu_D\\ne0$</td>\n",
    "  <td style='text-align: center;'>$|t|\\ge t_{\\tfrac{a}{2}}(n-1)$</td> \n",
    " </tr>\n",
    "</table>    "
   ]
  },
  {
   "cell_type": "markdown",
   "id": "074850f9",
   "metadata": {},
   "source": [
    "<div class=\"alert alert-danger\" role=\"alert\"><span class=\"label label-warning\">例题</span> 做以下的实验以比较人对红光或绿光的反应时间，实验在点亮红光或绿光的同时启动计时器，要求受试者见到红光或绿光点亮时就按下按钮，切断计时器测得反应时间，测量的结果如下表所示，设 $D_i=X_i-Y_i\\;(i=1,2,\\dots,8)$ 是来自正态总体 $N(\\mu_D,\\sigma^2_D)$ 的样本，$\\mu_D,\\sigma^2_D$ 均未知，取显著性水平 $a=0.05$ 试检验假设 $H_0:\\mu_D\\ge0,H1:\\mu_D<0$</div>\n",
    "\n",
    "<table border=0 cellpadding=0 cellspacing=0 width=990 style='border-collapse:\n",
    " collapse;table-layout:fixed;'>\n",
    " <col span=9>\n",
    " <tr height=18>\n",
    "  <td style='text-align: center;'>红光 $(x)$</td>\n",
    "  <td style='text-align: center;'>$0.30$</td>\n",
    "  <td style='text-align: center;'>$0.23$</td>\n",
    "  <td style='text-align: center;'>$0.41$</td>\n",
    "  <td style='text-align: center;'>$0.53$</td>\n",
    "  <td style='text-align: center;'>$0.24$</td>\n",
    "  <td style='text-align: center;'>$0.36$</td>\n",
    "  <td style='text-align: center;'>$0.38$</td>\n",
    "  <td style='text-align: center;'>$0.51$</td>\n",
    " </tr>   \n",
    " <tr height=18> \n",
    "  <td style='text-align: center;'>绿光 $(y)$</td>\n",
    "  <td style='text-align: center;'>$0.43$</td>     \n",
    "  <td style='text-align: center;'>$0.32$</td>\n",
    "  <td style='text-align: center;'>$0.58$</td>\n",
    "  <td style='text-align: center;'>$0.46$</td>\n",
    "  <td style='text-align: center;'>$0.27$</td>\n",
    "  <td style='text-align: center;'>$0.41$</td>\n",
    "  <td style='text-align: center;'>$0.38$</td>\n",
    "  <td style='text-align: center;'>$0.61$</td> \n",
    " </tr>\n",
    " <tr height=18> \n",
    "  <td style='text-align: center;'>$d=x-y$</td>\n",
    "  <td style='text-align: center;'>$-0.13$</td>     \n",
    "  <td style='text-align: center;'>$-0.09$</td>\n",
    "  <td style='text-align: center;'>$-0.17$</td>\n",
    "  <td style='text-align: center;'>$0.07$</td>\n",
    "  <td style='text-align: center;'>$-0.03$</td>\n",
    "  <td style='text-align: center;'>$-0.05$</td>\n",
    "  <td style='text-align: center;'>$0.00$</td>\n",
    "  <td style='text-align: center;'>$-0.10$</td> \n",
    " </tr> \n",
    "</table>\n",
    "\n",
    "&emsp;&emsp;按题意现已知 $n=8$，$\\bar{x}_d=-0.0625$，$s_d=0.0765$，而 $\\dfrac{\\bar{d}}{s/\\sqrt{8}}=-2.311<-t_{0.05}(7)=-1.8946$，因此拒绝 $H_0$，即认为人对红光的反应时间小于对绿光的反应时间，也就是人对红光的反应要比绿光快"
   ]
  },
  {
   "cell_type": "markdown",
   "id": "bf3c6ef5",
   "metadata": {},
   "source": [
    "---"
   ]
  },
  {
   "cell_type": "markdown",
   "id": "e9875cd7",
   "metadata": {},
   "source": [
    "## 第03节 正态总体方差的假设检验"
   ]
  },
  {
   "cell_type": "markdown",
   "id": "d7b6a1fe",
   "metadata": {},
   "source": [
    "### 3.1 单个总体方差检验"
   ]
  },
  {
   "cell_type": "markdown",
   "id": "0729011b",
   "metadata": {},
   "source": [
    "&emsp;&emsp;设总体 $X\\backsim N(\\mu,\\sigma^2)$，$\\mu,\\sigma^2$ 均未知，$X_1,X_2,\\dots,X_n$ 是来自 $X$ 的样本，在显著性水平为 $a$ 且 $\\sigma^2_0$ 为已知常数的情况下 <br><br> \n",
    "<center>$H_0:\\sigma^2=\\sigma^2_0,\\quad H_1:\\sigma^2\\ne\\sigma^2_0$</center><br>\n",
    "&emsp;&emsp;由于 $S^2$ 是 $\\sigma^2$ 的无偏估计，当 $H_0$ 为真时观察值 $s^2$ 与 $\\sigma^2_0$ 的比值 $\\dfrac{s^2}{\\sigma^2}$ 一般来说应在 $1$ 附近摆动，而不应过分大于或过分小于 $1$，且由 Fisher 引理可知当 $H_0$ 为真时 $\\dfrac{(n-1)S^2}{\\sigma^2_0}\\backsim\\chi^2(n-1)$，采用 <br><br>\n",
    "<center>$\\chi^2=\\dfrac{(n-1)S^2}{\\sigma^2_0}$</center><br>\n",
    "作为检验统计量，上述检验问题的拒绝域具有以下的形式 <br><br>\n",
    "<center>$\\dfrac{(n-1)s^2}{\\sigma^2_0}\\le k_1$ 或 $\\dfrac{(n-1)s^2}{\\sigma^2_0}\\ge k_2$</center><br>\n",
    "&emsp;&emsp;此处 $k_1,k_2$ 的值由下式确定 $P($当$H_0$为真时拒绝$H_0)=P^2_{a_0}\\bigg(\\bigg(\\dfrac{(n-1)S^2}{\\sigma^2_0}\\le k_1\\bigg)\\cup\\bigg(\\dfrac{(n-1)S^2}{\\sigma^2_0}\\ge k_2\\bigg)\\bigg)=a$，为计算方便起见，习惯上取 <br><br>\n",
    "<center>$P^2_{a_0}\\bigg(\\dfrac{(n-1)S^2}{\\sigma^2_0}\\le k_1\\bigg)=\\dfrac{a}{2},\\quad P^2_{a_0}\\bigg(\\dfrac{(n-1)S^2}{\\sigma^2_0}\\ge k_2\\bigg)=\\dfrac{a}{2}$</center><br>\n",
    "故得 $k_1=\\chi^2_{1-a/2}(n-1)$，$k_2=\\chi^2_{a/2}(n-1)$，于是得拒绝域为 <br><br>\n",
    "<center>$\\dfrac{(n-1)S^2}{\\sigma^2_0}\\le \\chi^2_{1-a/2}(n-1)$ 或 $\\dfrac{(n-1)S^2}{\\sigma^2_0}\\ge \\chi^2_{a/2}(n-1)$</center>"
   ]
  },
  {
   "cell_type": "markdown",
   "id": "d7fa7b6f",
   "metadata": {},
   "source": [
    "&emsp;&emsp;接下来在显著性水平为 $a$ 且 $\\sigma^2_0$ 为已知常数的情况下的 **单边检测问题** 的拒绝域<br><br> \n",
    "<center>$H_0:\\sigma^2\\le\\sigma^2_0,\\quad H_1:\\sigma^2>\\sigma^2_0$</center><br>\n",
    "&emsp;&emsp;由于 $H_0$ 中的全部 $\\sigma^2$ 都比 $H_1$ 中的 $\\sigma^2$ 要小，当 $H_1$ 为真时 $S^2$ 的观察值 $s^2$ 往往偏大，因此拒绝域的形式为 $s^2\\ge k$，下面来确定常数 $k$ <br><br>\n",
    "<center>$P_{\\sigma^2\\le\\sigma_0^2}(S^2\\ge k) = P_{\\sigma^2\\le\\sigma_0^2}\\bigg(\\dfrac{(n-1)S^2}{\\sigma^2_0}\\ge\\dfrac{(n-1)k}{\\sigma^2_0}\\bigg) \\le P_{\\sigma^2\\le\\sigma_0^2}\\bigg(\\dfrac{(n-1)S^2}{\\sigma^2}\\ge\\dfrac{(n-1)k}{\\sigma^2_0}\\bigg)$</center><br>\n",
    "因为 $\\sigma^2\\le\\sigma^2_0$，要控制 $P($当$H_0$为真时拒绝$H_0)\\le a$，只需令 $P_{\\sigma^2\\le\\sigma^2_0}\\bigg(\\dfrac{(n-1)S^2}{\\sigma^2}\\ge \\dfrac{(n-1)k}{\\sigma^2_0}\\bigg)=a$，因 $\\dfrac{(n-1)S^2}{\\sigma^2}\\backsim\\chi^2(n-1)$，可知 $\\dfrac{(n-1)k}{\\sigma^2_0}=\\chi^2_a(n-1)$，于是 $k=\\dfrac{\\sigma^2_0}{n-1}\\chi^2_a(n-1)$，得单边检验问题得拒绝域为 $s^2\\ge\\dfrac{\\sigma^2_0}{n-1}\\chi^2_a(n-1)$，即<br><br>\n",
    "<center>$\\chi^2=\\dfrac{(n-1)s^2}{\\sigma^2_0}\\ge\\chi^2_a(n-1)$</center><br>\n",
    "&emsp;&emsp;类似地可得左边检测问题 $H_0:\\sigma^2\\le\\sigma^2_0,H_1:\\sigma^2>\\sigma^2_0$ 的拒绝域为 $\\chi^2=\\dfrac{(n-1)s^2}{\\sigma^2_0}\\le\\chi^2_{1-a}(n-1)$\n",
    "\n",
    "> 上述利用 $\\chi$ 统计量得出的检验法称为 $\\chi$ 检验法"
   ]
  },
  {
   "cell_type": "markdown",
   "id": "dcf4a307",
   "metadata": {},
   "source": [
    "### 3.2 两个正态总体方差比检验"
   ]
  },
  {
   "cell_type": "markdown",
   "id": "09e1390f",
   "metadata": {},
   "source": [
    "&emsp;&emsp;设 $X_1,X_2,\\dots,X_{n_1}$ 是来自总体 $N(\\mu_1,\\sigma_1^2)$，$Y_1,Y_2,\\dots,Y_{n_2}$ 是来自总体 $N(\\mu_2,\\sigma_2^2)$ 的样本，且两样本独立，其样本方差为 $S^2_1,S^2_2$，若 $\\mu_1,\\mu_2,\\sigma_1^2,\\sigma_2^2$ 均未知，在显著性水平为 $a$ 的情况下需要假设检验 <br><br> \n",
    "<center>$H_0:\\sigma^2_1\\le\\sigma^2_2,\\quad H_1:\\sigma^2_1>\\sigma^2_2$</center><br>\n",
    "&emsp;&emsp;当 $H_0$ 为真时 $E(S^2_1)=\\sigma^2_1\\le\\sigma^2_2=E(S^2_2)$，当 $H_1$ 为真时 $E(S^2_1)=\\sigma^2_1>\\sigma^2_2=E(S^2_2)$，当 $H_1$ 为真时观察值 $\\dfrac{S^2_1}{S^2_2}$ 有偏大的趋势，故拒绝域具有形式 $\\dfrac{s^2_1}{s^2_2}\\ge k$，下面来确定常数 $k$ <br><br>\n",
    "<center>$P_{\\sigma^2_1\\le\\sigma_2^2}(\\dfrac{S^2_1}{S^2_2}\\ge k)\\le P_{\\sigma^2_1\\le\\sigma_2^2}\\bigg(\\dfrac{S^2_1/S^2_2}{\\sigma^2_1/\\sigma^2_2}\\ge k\\bigg)=a$</center><br>\n",
    "因为 $\\sigma^2\\le\\sigma^2_0$，要控制 $P($当$H_0$为真时拒绝$H_0)\\le a$，只需令 $P_{\\sigma^2\\le\\sigma^2_0}\\bigg(\\dfrac{(n-1)S^2}{\\sigma^2}\\ge \\dfrac{(n-1)k}{\\sigma^2_0}\\bigg)=a$，由 Fisher 引理知 $\\dfrac{S^2_1/S^2_2}{\\sigma^2_1/\\sigma^2_2}\\backsim F(n_1-1,n_2-1)$，可得 $k=F_a(n_1-1,n_2-1)$，即得检验问题的拒绝域为 <br><br>\n",
    "<center>$F=\\dfrac{s^2_1}{s^2_2}\\ge F_a(n_1-1,n_2-1)$</center>\n",
    "\n",
    "> 上述检验法称为 $F$ 检验法"
   ]
  },
  {
   "cell_type": "markdown",
   "id": "d61edf8d",
   "metadata": {},
   "source": [
    "<table border=0 cellpadding=0 cellspacing=0 width=990 style='border-collapse:\n",
    " collapse;table-layout:auto;'>\n",
    " <col span=5>\n",
    " <tr height=18>\n",
    "  <td style='text-align: center;'><strong>参数</strong></td>\n",
    "  <td style='text-align: center;'><strong>原假设 $H_0$</strong></td>\n",
    "  <td style='text-align: center;'><strong>备择假设 $H_1$</strong></td>\n",
    "  <td style='text-align: center;'><strong>检测统计量</strong></td>\n",
    "  <td style='text-align: center;'><strong>拒绝域</strong></td>   \n",
    " </tr>\n",
    " <tr height=18>\n",
    "  <td rowspan=3 style='text-align: center;'><strong>$\\mu$ 未知</strong></td>   \n",
    "  <td style='text-align: center;'>$\\sigma^2\\le\\sigma^2_0$</td>\n",
    "  <td style='text-align: center;'>$\\sigma^2>\\sigma^2_0$</td>\n",
    "  <td rowspan=3 style='text-align: center;'>$\\chi^2=\\dfrac{(n-1)S^2}{\\sigma^2_0}$</td>\n",
    "  <td style='text-align: center;'>$\\chi^2\\ge \\chi^2_a(n-1)$</td>   \n",
    " </tr>\n",
    " <tr height=18>\n",
    "  <td style='text-align: center;'>$\\sigma^2\\ge\\sigma^2_0$</td>\n",
    "  <td style='text-align: center;'>$\\sigma^2<\\sigma^2_0$</td>\n",
    "  <td style='text-align: center;'>$\\chi^2\\le \\chi^2_{1-a}(n-1)$</td>\n",
    " </tr>\n",
    " <tr height=18>\n",
    "  <td style='text-align: center;'>$\\sigma^2=\\sigma^2_0$</td>\n",
    "  <td style='text-align: center;'>$\\sigma^2\\ne\\sigma^2_0$</td>\n",
    "  <td style='text-align: center;'>$\\chi^2\\ge\\chi^2_{\\tfrac{a}{2}}(n-1)$<br>或 $\\chi^2\\le\\chi^2_{1-\\tfrac{a}{2}}(n-1)$</td>\n",
    " </tr>\n",
    " <tr height=18>\n",
    "  <td rowspan=3 style='text-align: center;'><strong>$\\mu_1,\\mu_2$ 未知</strong></td>   \n",
    "  <td style='text-align: center;'>$\\sigma^2_1\\le\\sigma^2_2$</td>\n",
    "  <td style='text-align: center;'>$\\sigma^2_1>\\sigma^2_2$</td>\n",
    "  <td rowspan=3 style='text-align: center;'>$F=\\dfrac{S^2_1}{S^2_2}$</td>\n",
    "  <td style='text-align: center;'>$F\\ge F_a(n_1-1,n_2-1)$</td>   \n",
    " </tr>\n",
    " <tr height=18>\n",
    "  <td style='text-align: center;'>$\\sigma^2_1\\ge\\sigma^2_2$</td>\n",
    "  <td style='text-align: center;'>$\\sigma^2_1<\\sigma^2_2$</td>\n",
    "  <td style='text-align: center;'>$F\\le F_{1-a}(n_1-1,n_2-1)$</td>\n",
    " </tr>\n",
    " <tr height=18>\n",
    "  <td style='text-align: center;'>$\\sigma^2_1=\\sigma^2_2$</td>\n",
    "  <td style='text-align: center;'>$\\sigma^2_1\\ne\\sigma^2_2$</td>\n",
    "  <td style='text-align: center;'>$F\\ge F_{\\tfrac{a}{2}}(n_1-1,n_2-1)$<br>或 $F\\le F_{1-\\tfrac{a}{2}}(n_1-1,n_2-1)$</td>\n",
    " </tr>\n",
    "</table>"
   ]
  },
  {
   "cell_type": "markdown",
   "id": "29de8b45",
   "metadata": {},
   "source": [
    "<div class=\"alert alert-danger\" role=\"alert\"><span class=\"label label-warning\">例题</span> 在平炉上进行一项试验以确定改变操作方法的建议是否会增加钢的得率，试验是在同一个平炉上进行的,每炼一炉钢时除操作方法外，其他条件都尽可能做到相同，先用标准方法炼一炉,然后再用建议的新方法炼一炉，以后交替进行各炼 $10$ 炉，设这两个样本相互独立，且分别来自正态总体 $N(\\mu_1,\\sigma^2)$ 和 $N(\\mu_2,\\sigma^2)$，$\\mu_1$，$\\mu_2$，$\\sigma^2$ 均为未知，问建议的新操作方法能否提高得率？(取 $a=0.05$)</div>\n",
    "\n",
    "<table border=0 cellpadding=0 cellspacing=0 width=990 style='border-collapse:\n",
    " collapse;table-layout:fixed;'>\n",
    " <col span=11>\n",
    " <tr height=18>\n",
    "  <td style='text-align: center;'>标准方法</td>\n",
    "  <td style='text-align: center;'>$78.1$</td>\n",
    "  <td style='text-align: center;'>$72.4$</td>\n",
    "  <td style='text-align: center;'>$76.2$</td>\n",
    "  <td style='text-align: center;'>$74.3$</td>\n",
    "  <td style='text-align: center;'>$77.4$</td>\n",
    "  <td style='text-align: center;'>$78.4$</td>\n",
    "  <td style='text-align: center;'>$76.0$</td>\n",
    "  <td style='text-align: center;'>$75.5$</td>\n",
    "  <td style='text-align: center;'>$76.7$</td>\n",
    "  <td style='text-align: center;'>$77.3$</td>\n",
    " </tr>   \n",
    " <tr height=18> \n",
    "  <td style='text-align: center;'>新方法</td>\n",
    "  <td style='text-align: center;'>$79.1$</td>     \n",
    "  <td style='text-align: center;'>$81.0$</td>\n",
    "  <td style='text-align: center;'>$77.3$</td>\n",
    "  <td style='text-align: center;'>$79.1$</td>\n",
    "  <td style='text-align: center;'>$80.0$</td>\n",
    "  <td style='text-align: center;'>$79.1$</td>\n",
    "  <td style='text-align: center;'>$79.1$</td>\n",
    "  <td style='text-align: center;'>$77.3$</td> \n",
    "  <td style='text-align: center;'>$80.2$</td>\n",
    "  <td style='text-align: center;'>$82.1$</td> \n",
    " </tr>\n",
    "</table>\n",
    "\n",
    "&emsp;&emsp;需要假设检验 $H_0:\\mu_1-\\mu_2\\ge0$，$H_1:\\mu_1-\\mu_2<0$，分别求出标准方法和新方法下样本均值和样本方差如下 <br><br>\n",
    "<center>$n_1=10$，$\\bar{x}=76.23$，$s^2_1=3.325$，$n_2=10$，$\\bar{y}=79.43$，$s^2_2=2.225$</center><br>\n",
    "<center>$s^2_w=\\dfrac{(n_1-1)s^2_1+(n_2-1)s^2_2}{n_1+n_2-2}=2.775$，$t_{0.05}(18)=1.7341$</center><br>\n",
    "&emsp;&emsp;拒绝域 $t=\\dfrac{\\bar{x}-\\bar{y}}{s_w\\sqrt{\\dfrac{1}{10}+\\dfrac{1}{10}}}\\le-t_{0.05}(18)=-1.7341$，由于样本观察值 $t=-4.295<-1.7341$，所以在显著水平 $a=0.05$ 时拒绝 $H_0$，即可以认为建议的新方法比原来的标准方法能提高得率\n",
    "\n",
    "&emsp;&emsp;需要假设检验 $H_0:\\sigma^2_1=\\sigma^2_2$，$H_1:\\sigma^2_1\\ne\\sigma^2_2$，可知拒绝域为 <br><br>\n",
    "<center>$\\dfrac{s^2_1}{s^2_2}\\ge F_{0.005}(10-1,10-1)=6.54$ 或 $\\dfrac{s^2_1}{s^2_2}\\le F_{0.995}(10-1,10-1)=0.153$</center><br>\n",
    "&emsp;&emsp;因为 $s^2_1=3.325$，$s^2_2=2.225$，$\\dfrac{s^2_1}{s^2_2}=1.49$，而 $0.153<1.49<6.54$，因此在显著水平 $a=0.05$ 时接受 $H_0$，即可以认为两个总体的方差相等"
   ]
  },
  {
   "cell_type": "markdown",
   "id": "5bdf7482",
   "metadata": {},
   "source": [
    "---"
   ]
  },
  {
   "cell_type": "markdown",
   "id": "ede479d6",
   "metadata": {},
   "source": [
    "## 第04节 置信区间与假设检验"
   ]
  },
  {
   "cell_type": "markdown",
   "id": "02d4c196",
   "metadata": {},
   "source": [
    "### 4.1 置信区间与假设检验的关系"
   ]
  },
  {
   "cell_type": "markdown",
   "id": "b4ec3e6f",
   "metadata": {},
   "source": [
    "&emsp;&emsp;置信区间与假设检验之间有明显的联系，先考察置信区间与双边检验之间的对应关系，设 $X_1,X_2,\\dots,X_n$ 是一个来自总体的样本，$x_1,x_2,\\dots,x_n$ 是相应的样本值，$\\Theta$ 是参数 $\\theta$ 的可能取值范围，设 $\\underline{\\theta}(X_1,X_2,\\dots,X_n)$，$\\overline{\\theta}(X_1,X_2,\\dots,X_n)$ 是参数 $\\theta$ 的一个置信水平为 $1-a$ 的置信区间，则对于任意 $\\theta\\in\\Theta$，有 <br><br>\n",
    "<center>$P_{\\theta}(\\underline{\\theta}(X_1,X_2,\\dots,X_n)<\\theta<\\overline{\\theta}(X_1,X_2,\\dots,X_n))\\ge1-a$</center><br>\n",
    "考虑显著性水平为 $a$ 的双边检验 <br><br>\n",
    "<center>$H_0:\\theta=\\theta_0,\\quad H_1:\\theta\\ne\\theta_0$</center><br>\n",
    "由 $P_{\\theta_0}(\\underline{\\theta}(X_1,X_2,\\dots,X_n)<\\theta<\\overline{\\theta}(X_1,X_2,\\dots,X_n))\\ge1-a$ 可知 $P_{\\theta_0}(\\theta_0\\le\\underline{\\theta}(X_1,X_2,\\dots,X_n)\\cup\\theta_0\\ge\\overline{\\theta}(X_1,X_2,\\dots,X_n))\\le a$，按显著性水平为 $a$ 的假设检验的拒绝域的定义，检验双边检验的拒绝域与接受域分别为 <br><br>\n",
    "<center>$\\theta_0\\le\\underline{\\theta}(x_1,x_2,\\dots,x_n)$ 或 $\\theta_0\\ge\\overline{\\theta}(x_1,x_2,\\dots,x_n))$</center><br>\n",
    "<center>$\\underline{\\theta}(x_1,x_2,\\dots,x_n)<\\theta_0<\\overline{\\theta}(x_1,x_2,\\dots,x_n)$</center>\n",
    "\n",
    "> 当要检验双边检验假设时，先求出的置信水平为 $1-a$ 的置信区间 $(\\underline{\\theta},\\overline{\\theta})$，然后考察区间 $\\underline{\\theta},\\overline{\\theta}$ 是否包含 $\\theta_0$，若 $\\theta_0\\in(\\underline{\\theta},\\overline{\\theta})$ 则接受 $H_0$，若   $\\theta_0\\ne(\\underline{\\theta},\\overline{\\theta})$ 则拒绝 $H_0$"
   ]
  },
  {
   "cell_type": "markdown",
   "id": "21565e92",
   "metadata": {},
   "source": [
    "&emsp;&emsp;反之对于任意 $\\theta_0\\in\\Theta$，考虑显著性水平为 $a$ 的假设检验问题 <br><br>\n",
    "<center>$H_0:\\theta=\\theta_0,\\quad H_1:\\theta\\ne\\theta_0$</center><br>\n",
    "假设它的接受域为 $\\underline{\\theta}(x_1,x_2,\\dots,x_n)<\\theta_0<\\overline{\\theta}(x_1,x_2,\\dots,x_n)$，即有 $P_{\\theta}(\\underline{\\theta}(X_1,X_2,\\dots,X_n)<\\theta<\\overline{\\theta}(X_1,X_2,\\dots,X_n))\\ge1-a$，由 $\\theta_0$ 的任意性，结合上式可知对于任意 $\\theta\\in\\Theta$，有 <br><br>\n",
    "<center>$P_{\\theta}(\\underline{\\theta}(X_1,X_2,\\dots,X_n)<\\theta<\\overline{\\theta}(X_1,X_2,\\dots,X_n))\\ge1-a$</center><br>\n",
    "因此 $(\\underline{\\theta}(X_1,X_2,\\dots,X_n)<\\theta<\\overline{\\theta}(X_1,X_2,\\dots,X_n))$ 是参数 $\\theta$ 的一个置信水平为 $1-a$ 的置信区间\n",
    "\n",
    "> 当要求出参数 $\\theta$ 的置信水平为 $l-a$ 的置信区间，先求出显著性水平为 $a$ 的假设检验问题的接受域 $\\underline{\\theta}(x_1,x_2,\\dots,x_n)<\\theta_0<\\overline{\\theta}(x_1,x_2,\\dots,x_n)$，那么 $(\\underline{\\theta}(X_1,X_2,\\dots,X_n)<\\theta<\\overline{\\theta}(X_1,X_2,\\dots,X_n))$ 就是 $\\theta$ 的置信水平为 $1-a$ 的置信空间"
   ]
  },
  {
   "cell_type": "markdown",
   "id": "2351eaff",
   "metadata": {},
   "source": [
    "- 置信水平为 $1-a$ 的单侧置信区间 $(-\\infty,\\overline{\\theta}(X_1,X_2,\\dots,X_n))$ 与显著性水平为 $a$ 的 **左边检验** 问题 $H_0:\\theta\\ge\\theta_0$，$H_1:\\theta<\\theta_0$ 有类似的对应关系，即若已求得单侧置信区间 $(-\\infty,\\overline{\\theta}(X_1,X_2,\\dots,X_n))$，则当 $\\theta_0\\in(-\\infty,\\overline{\\theta}(x_1,x_2,\\dots,x_n))$ 时接受 $H_0$，当 $\\theta_0\\ne(-\\infty,\\overline{\\theta}(x_1,x_2,\\dots,x_n))$ 时拒绝 $H_0$，反之若已求得检验问题 $H_0:\\theta\\ge\\theta_0$，$H_1:\\theta<\\theta_0$ 的接受域为 $-\\infty<\\theta_0<\\overline{\\theta}(x_1,x_2,\\dots,x_n)$，则可得 $\\theta$ 的一个单侧置信区间 $(-\\infty,\\overline{\\theta}(X_1,X_2,\\dots,X_n))$\n",
    "\n",
    "\n",
    "- 置信水平为 $1-a$ 的单侧置信区间 $(\\underline{\\theta}(X_1,X_2,\\dots,X_n)),\\infty$ 与显著性水平为 $a$ 的 **右边检验** 问题 $H_0:\\theta\\le\\theta_0$，$H_1:\\theta>\\theta_0$ 有类似的对应关系，即若已求得单侧置信区间 $(\\underline{\\theta}(X_1,X_2,\\dots,X_n)),\\infty$，则当 $\\theta_0\\in(\\underline{\\theta}(X_1,X_2,\\dots,X_n)),\\infty$ 时接受 $H_0$，当 $\\theta_0\\ne(\\underline{\\theta}(X_1,X_2,\\dots,X_n)))$ 时拒绝 $H_0$，反之若已求得检验问题 $H_0:\\theta\\le\\theta_0$，$H_1:\\theta>\\theta_0$ 的接受域为 $\\underline{\\theta}(x_1,x_2,\\dots,x_n)<\\theta_0<\\infty$，则可得 $\\theta$ 的一个单侧置信区间 $(\\overline{\\theta}(X_1,X_2,\\dots,X_n)),\\infty$"
   ]
  },
  {
   "cell_type": "markdown",
   "id": "b05a3842",
   "metadata": {},
   "source": [
    "<div class=\"alert alert-danger\" role=\"alert\"><span class=\"label label-warning\">例题</span> 设 $X\\backsim N(\\mu,1)$，$\\mu$ 未知，$a=0.05$，$n=16$，且由样本算得 $\\bar{x}=5.20$，现考虑检验问题 $H_0:\\mu=5.5$，$H_1:\\mu\\ne5.5$，并试求右边检验问题 $H_0:\\mu\\le\\mu_0$，$H_1:\\mu>\\mu_0$ 的接受域与 $\\mu$ 的单侧置信下限 $(a=0.05)$</div>\n",
    "\n",
    "&emsp;&emsp;由题意可得到参数 $\\mu$ 的一个置信水平为 $0.95$ 的置信区间 <br><br>\n",
    "<center>$(\\bar{x}-\\dfrac{1}{\\sqrt{16}}z_{0.025},\\bar{x}+\\dfrac{1}{\\sqrt{16}}z_{0.025})=(5.20-0.49,5.20+0.49)=(4.71,5.69)$</center><br>\n",
    "&emsp;&emsp;对于检验问题 $H_0:\\mu=5.5$，$H_1:\\mu\\ne5.5$，由于 $5.5\\in(4.71,5.69)$，所以接受 $H_0$\n",
    "\n",
    "&emsp;&emsp;对于检验问题 $H_0:\\mu\\le\\mu_0$，$H_1:\\mu>\\mu_0$ 可知拒绝域为 <br><br>\n",
    "<center>$z=\\dfrac{\\bar{x}-\\mu_0}{1/\\sqrt{16}}\\ge z_{0.05}$ 或即 $\\mu_0\\le4.79$</center><br>\n",
    "&emsp;&emsp;于是检验问题的接受域为 $\\mu_0>4.79$，这样就得到 $\\mu$ 的单侧置信区间 $(4.79,\\infty)$，单侧置信下限 $=4.79$"
   ]
  },
  {
   "cell_type": "markdown",
   "id": "9b5ac7c3",
   "metadata": {},
   "source": [
    "---"
   ]
  },
  {
   "cell_type": "markdown",
   "id": "de77dbd5",
   "metadata": {},
   "source": [
    "## 第05节 样本容量的选取"
   ]
  },
  {
   "cell_type": "markdown",
   "id": "3e78bb4c",
   "metadata": {},
   "source": [
    "### 5.1 $OC$ 函数的定义"
   ]
  },
  {
   "cell_type": "markdown",
   "id": "44ba8311",
   "metadata": {},
   "source": [
    "&emsp;&emsp;以上在进行假设检验时总是根据问题的要求，预先给出显著性水平以 **控制** 犯第 $I$ 类错误的槪率，而犯第 $II$ 类错误的概率则依赖于 **样本容量** 的选择，在—些实际问题中，除了希望控制犯第 $I$ 类错误的概率外，往往还希望控制犯第 $II$ 类错误的概率"
   ]
  },
  {
   "cell_type": "markdown",
   "id": "7a906c60",
   "metadata": {},
   "source": [
    "<div class=\"alert alert-info\" role=\"alert\"><span class=\"label label-success\">定义 $8.1$</span> 若 $C$ 是参数 $\\theta$ 的某检验问题的一个检验法，$\\beta(\\theta)=P_{\\theta}$(接受 $H_0$) 称为检验法 $C$ 的 <strong>施行特征函数</strong> 或 <strong>$OC$函数</strong>，其图形称为 <strong>$OC$曲线</strong></div>"
   ]
  },
  {
   "cell_type": "markdown",
   "id": "5ee4dead",
   "metadata": {},
   "source": [
    "&emsp;&emsp;由定义知若此检验法的显著性水平为 $a$，那么当真值 $\\theta\\in H_0$ 时，$\\beta(\\theta)$ 就是作出正确判断，即 $H_0$ **为真时接受** 的概率，故此时 $\\beta(\\theta)\\ge1-a$，而当 $\\theta<H_1$ 时，则 $\\beta(\\theta)$ 就是犯第 $II$ 类错误的概率，而 $1-\\beta(\\theta)$ 是作出正确判断，即 $H_0$ **为伪时拒绝** 的概率\n",
    "\n",
    "&emsp;&emsp;函数称为检验法 $C$ 的 **功效函数**，当 $\\theta^*\\in H_1$ 时，值 $1-\\beta(\\theta^*)$ 称为检验法 $C$ 在点 $\\theta^*$ 的 **功效**，它表示当参数 $\\theta$ 的真值为 $\\theta^*$ 时，检验法 $C$ 作出正确判断的概率"
   ]
  },
  {
   "cell_type": "markdown",
   "id": "feee6c67",
   "metadata": {},
   "source": [
    "### 5.2 $Z$ 检验法的 $OC$ 函数"
   ]
  },
  {
   "cell_type": "markdown",
   "id": "737937f2",
   "metadata": {},
   "source": [
    "#### 5.2.1 单边检测问题"
   ]
  },
  {
   "cell_type": "markdown",
   "id": "c899326e",
   "metadata": {},
   "source": [
    "&emsp;&emsp;右边检测问题 $H_0:\\mu\\le\\mu_0$，$H_1:\\mu>\\mu_0$ 的 $OC$ 函数是 <br><br>\n",
    "<center>$\\beta(\\mu)=P_{\\mu}$ (接受 $H_0$) $=P_{\\mu}\\bigg(\\dfrac{\\bar{X}-\\mu_0}{\\sigma/\\sqrt{n}}<z_a\\bigg)$</center><br>\n",
    "<center>$=P_{\\mu}\\bigg(\\dfrac{\\bar{X}-\\mu_0}{\\sigma/\\sqrt{n}}<z_a-\\dfrac{\\mu-\\mu_0}{\\sigma/\\sqrt{n}}\\bigg)=\\Theta(z_a-\\lambda)$</center><br>\n",
    "其中 $\\lambda=\\dfrac{\\mu-\\mu_0}{\\sigma/\\sqrt{n}}$，其图形如下图所示\n",
    "\n",
    "![z](https://s2.loli.net/2022/07/11/T3MXw9z7guxGfIv.png)\n",
    "\n",
    "&emsp;&emsp;此 $OC$ 函数 $\\beta(\\theta)$ 具有如下性质\n",
    "- 它是 $\\lambda=\\dfrac{\\mu-\\mu_0}{\\sigma/\\sqrt{n}}$ 的 **单调递减连续函数**\n",
    "- $\\lim\\limits^{}_{\\mu\\to\\mu^{+}_{0}}\\beta(\\mu)=1-a$，$\\lim\\limits^{}_{\\mu\\to\\infty}\\beta(\\mu)=0$"
   ]
  },
  {
   "cell_type": "markdown",
   "id": "44b277c7",
   "metadata": {},
   "source": [
    "&emsp;&emsp;由 $\\beta(\\mu)$ 的连续性可知，当参数的真值 $\\mu(\\mu>\\mu_0)$ 在 $\\mu_0$ 附近时，检验法的功效很低，即 $\\beta(\\mu)$ 的值很大，亦即犯第 $n$ 类错误的概率很大，因为 $a$ 通常取得比较小，而不管 $a$ 多么小, $n$ 多么大，只要 $n$ 给定总存在 $\\mu_0$ 附近的点 $\\mu(\\mu>\\mu_0)$ 使 $\\beta(\\mu)$ 几乎等于 $1-a$\n",
    "\n",
    "&emsp;&emsp;这表明，无论样本容量 $n$ 多么大，要想对所有 $\\mu\\in H_1$，即真值为 $H_1$ 所规定的任一点时，控制犯第 $II$ 类错误的概率都很小是 **不可能的**，但是可以使用 $OC$ 函数 $\\beta(\\mu)$ 以确定样本容量 $n$，使当真值 $\\mu\\ge\\mu_0+\\delta$，$\\delta>0$ 为取定的值时，犯第 $II$ 类错误的概率不超过给定的 $\\beta$，这是由于 $\\beta(\\mu)$ 是 $\\mu$ 的递减函数，故当 $\\mu\\ge\\mu_0+\\delta$ 时有 <br><br>\n",
    "<center>$\\beta(\\mu_0+\\delta)\\ge\\beta(\\mu)$</center><br>\n",
    "于是只要 $\\beta(\\mu_0+\\delta)=\\Theta(z_a-\\sqrt{n}\\delta/\\sigma)\\le\\beta$，亦即只要 $n$ 满足 $z_a-\\sqrt{n}\\delta/\\sigma\\le-z_{\\beta}$ 即可，只要 <br><br>\n",
    "<center>$\\sqrt{n}\\ge\\dfrac{(z_a+z_{\\beta}\\sigma)}{\\delta}$</center><br>\n",
    "就能使当 $\\mu\\in H_1$ 且 $\\mu\\ge\\mu_0+\\delta$，即真值 $\\mu>\\mu_0+\\delta$ 时犯第 $II$ 类错误的概率不超过 $\\beta$"
   ]
  },
  {
   "cell_type": "markdown",
   "id": "be3a93a7",
   "metadata": {},
   "source": [
    "&emsp;&emsp;类似地可得左边检验问题 $H_0:\\mu\\ge\\mu_0$，$H_1:\\mu<\\mu_0$ 的 OC 函数为 <br><br>\n",
    "<center>$\\beta(\\mu)=\\Theta(z_a+\\lambda),\\quad \\lambda=\\dfrac{\\mu-\\mu_0}{\\sigma/\\sqrt{n}}$</center><br>\n",
    "当真值 $\\mu>\\mu_0$ 时作出正确判断的概率，当真值 $\\mu<\\mu_0$ 时给出犯第 $II$ 类错误的概率，只要样本容量 $n$ 满足 $\\sqrt{n}\\ge\\dfrac{(z_a+z_{\\beta})\\sigma}{\\delta}$ 就能使当 $\\mu\\in H_1$ 且 $\\mu\\le\\mu_0-\\delta$，$\\delta>0$ 且为取定的值时，犯第 $II$ 类错误的概率不超过给定的值 $\\beta$"
   ]
  },
  {
   "cell_type": "markdown",
   "id": "a407d73d",
   "metadata": {},
   "source": [
    "#### 5.2.2 双边检测问题"
   ]
  },
  {
   "cell_type": "markdown",
   "id": "f01fac22",
   "metadata": {},
   "source": [
    "&emsp;&emsp;双边检测问题 $H_0:\\mu=\\mu_0$，$H_1:\\mu\\ne\\mu_0$ 的 $OC$ 函数是 <br><br>\n",
    "<center>$\\beta(\\mu)=P_{\\mu}$ (接受 $H_0$) $=P_{\\mu}\\bigg(-z_{\\tfrac{a}{2}}<\\dfrac{\\bar{X}-\\mu_0}{\\sigma/\\sqrt{n}}<z_{\\tfrac{a}{2}}\\bigg)$</center><br>\n",
    "<center>$=P_{\\mu}\\bigg(-\\lambda-z_{\\tfrac{a}{2}}<\\dfrac{\\bar{X}-\\mu}{\\sigma/\\sqrt{n}}<-\\lambda+z_{\\tfrac{a}{2}}\\bigg)=\\Theta(z_{\\tfrac{a}{2}}-\\lambda)-\\Theta(-z_{\\tfrac{a}{2}}-\\lambda)$</center><br>\n",
    "<center>$=\\Theta(z_{\\tfrac{a}{2}}-\\lambda)+\\Theta(z_{\\tfrac{a}{2}}+\\lambda)-1,\\quad \\lambda=\\dfrac{\\mu-\\mu_0}{\\sigma/\\sqrt{n}}$</center><br>\n",
    "\n",
    "\n",
    "![t](https://s2.loli.net/2022/07/11/vIYKbfEgilenH63.png)\n",
    "\n",
    "&emsp;&emsp;$\\beta(\\mu)$ 是 $|\\lambda|$ 的 **严格单调下降函数**，在双边检验问题中，若要求对 $H_1$ 中满足 $|\\mu-\\mu_0|\\ge\\delta>0$ 的 $\\mu$ 处的函数值 $\\beta(\\mu)\\le\\beta$，则需解超越方程 <br><br>\n",
    "<center>$\\beta=\\Theta(z_{\\tfrac{a}{2}}-\\sqrt{n}\\delta/\\sigma)+\\Theta(z_{\\tfrac{a}{2}}+\\sqrt{n}\\delta/\\sigma)-1$</center><br>\n",
    "才能确定 $n$，通常因 $n$ 较大，故总可以认为 $z_{\\tfrac{a}{2}}+\\sqrt{n}\\delta/\\sigma \\ge 4$，于是 $\\Theta(z_{\\tfrac{a}{2}}+\\sqrt{n}\\delta/\\sigma)\\approx 1$，故近似地有 $\\beta\\approx\\Theta(z_{\\tfrac{a}{2}}-\\sqrt{n}\\delta/\\sigma)$，由此可知只要样本容量 $n$ 满足 <br><br>\n",
    "<center>$z_{\\tfrac{a}{2}}-\\sqrt{n}\\delta/\\sigma\\le-z_{\\beta}$</center><br>\n",
    "即只要 $n$ 满足 $\\sqrt{n}\\ge(z_{\\tfrac{a}{2}}+z_{\\beta})\\dfrac{\\sigma}{\\delta}$ 就能使当 $\\mu\\in H_1$，且 $|\\mu-\\mu_0|\\ge\\delta$，$\\delta>0$，为取定的值时犯第 $II$ 类错误的概率不超过给定的值 $\\beta$"
   ]
  },
  {
   "cell_type": "markdown",
   "id": "a9197342",
   "metadata": {},
   "source": [
    "### 5.3 $t$ 检验法的 $OC$ 函数"
   ]
  },
  {
   "cell_type": "markdown",
   "id": "d3653264",
   "metadata": {},
   "source": [
    "&emsp;&emsp;右边检测问题 $H_0:\\mu\\le\\mu_0$，$H_1:\\mu>\\mu_0$ 的 $OC$ 函数是 <br><br>\n",
    "<center>$\\beta(\\mu)=P_{\\mu}$ (接受 $H_0$) $=P_{\\mu}\\bigg(\\dfrac{\\bar{X}-\\mu_0}{S/\\sqrt{n}}<t_a(n-1)\\bigg)$</center><br>\n",
    "<center>$\\dfrac{\\bar{X}-\\mu_0}{S/\\sqrt{n}}=\\bigg(\\dfrac{\\bar{X}-\\mu_0}{\\sigma/\\sqrt{n}}+\\lambda\\bigg)/\\bigg(\\dfrac{S}{\\sigma}\\bigg),\\quad\\lambda=\\dfrac{\\mu-\\mu_0}{\\sigma/\\sqrt{n}}$</center><br>\n",
    "称变量 $\\dfrac{\\bar{X}-\\mu_0}{S/\\sqrt{n}}$ 服从非中心参数为 $\\lambda$，自由度为 $n-1$ 的非中心 $t$ 分布，在 $\\lambda=0$ 时它是通常的 $t(n-1)$ 变量\n",
    "\n",
    "- 若给定 $a,\\beta$ 以及 $\\delta>0$，则可从表中査得所需容量 $n$ 使得当 $\\mu\\in H_1$ 且 $\\dfrac{\\mu-\\mu_0}{\\sigma}\\ge\\delta$ 时犯第 $II$ 类错误的概率不超过 $\\beta$\n",
    "\n",
    "- 若给定 $a,\\beta$ 以及 $\\delta>0$，对于左边检测问题 $H_0:\\mu\\ge\\mu_0$，$H_1:\\mu<\\mu_0$ 的 $t$ 检验法，也可从表中査得所需容量 $n$ 使得当 $\\mu\\in H_1$ 且 $\\dfrac{\\mu-\\mu_0}{\\sigma}\\le-\\delta$ 时犯第 $II$ 类错误的概率不超过 $\\beta$，对于双边检验问题 $H_0:\\mu=\\mu_0$，$H_1:\\mu\\ne\\mu_0$ 的 $t$ 检测法也可以从表中查得所需容量 $n$ 使得当 $\\mu\\in H_1$ 且 $\\dfrac{|\\mu-\\mu_0|}{\\sigma}\\ge\\delta$ 时犯第 $II$ 类错误的概率不超过 $\\beta$ "
   ]
  },
  {
   "cell_type": "markdown",
   "id": "ddc65ce2",
   "metadata": {},
   "source": [
    "<div class=\"alert alert-danger\" role=\"alert\"><span class=\"label label-warning\">例题</span> 考虑在显著性水平 $a=0.05$ 下进行 $t$ 检验 $H_0:\\mu=14$，$H_1:\\mu\\ne14$，要求在 $H_1$ 中 $\\dfrac{|\\mu-14|}{\\sigma}\\ge0.4$ 时犯第 $II$ 类错误的概率不超过 $\\beta-0.1$，求所需样本容量</div>\n",
    "\n",
    "&emsp;&emsp;此处 $a=0.05$，$\\beta=0.1$，$\\delta=0.4$ 查表可知 $n=68$"
   ]
  },
  {
   "cell_type": "markdown",
   "id": "1b41d339",
   "metadata": {},
   "source": [
    "&emsp;&emsp;在实际问题中有时只给出 $a,\\beta$ 及 $\\mu_1-\\mu_0$ 的值，而需要确定所需的样本容量 $n$，这时由于 $\\sigma$ 未知，不能确定 $\\delta=|\\mu_1-\\mu_0|/\\sigma$ 的值，因而不能直接査表以确定样本容量，此时可采用下述 **近似方法**\n",
    "- 先适当取一值 $n_1$，抽取容量为 $n_1$ 的样本，根据这一样本计算 $s^2$ 的值，以 $s^2$ 作为 $\\sigma^2$ 的估计，算出 $\\delta$ 的近似值，由 $a,\\beta,\\delta$ 的值査表定出样本的容量，记为 $n_2$\n",
    "\n",
    "- 若 $n_1\\ge n_2$，则取 $n_1$ 作为所求的容量，即取 $n=n_1$，否则再抽 $n_2-n_1$ 个独立观察值与原来抽得的观察值合并，重新计算 $\\delta$ 的近似值，然后用 $\\delta$ 的新近似值和 $a,\\beta$ 査表再次定出样本容量，记为 $n_3$\n",
    "\n",
    "- 若 $n_2\\ge n_3$，则取 $n=n_2$，否则再按上法重复进行，一般只需试少数几次就可得到所求的样本容量 $n$\n",
    "\n",
    "&emsp;&emsp;若两个正态总体 $N(\\mu_1,\\sigma_1^2)$，$\\mu_2,\\sigma^2_2$ 中 $\\sigma^2_1=\\sigma^2_2=\\sigma^2$ 而 $\\sigma^2$ 未知，在均值差 $\\mu_1-\\mu_2$ 的检验问题 $H_0:\\mu_1-\\mu_2=0$，$H_1:\\mu_1-\\mu_2\\ne0$ 的 $t$ 检验法中，当分别自两个总体取得的相互独立的样本其容量 $n_1=n_2=n$ 时，给定 $a,\\beta$ 以及 $\\delta=|\\mu_1-\\mu_2|/\\sigma$ 的值后可以查表得到所需样本容量，使当 $|\\mu_1-\\mu_2|/\\sigma\\ge\\delta$ 时犯第 $II$ 类错误的概率小于或等于 $\\beta$，当仅给出 $a,\\beta$ 以及 $|\\mu_1-\\mu_2|$ 的值时，可按类似于上面所说的方法处理"
   ]
  },
  {
   "cell_type": "markdown",
   "id": "06e647e8",
   "metadata": {},
   "source": [
    "---"
   ]
  },
  {
   "cell_type": "markdown",
   "id": "4c7c7c8a",
   "metadata": {},
   "source": [
    "## 附录 数理统计发展简史(下)"
   ]
  },
  {
   "cell_type": "markdown",
   "id": "a9212747",
   "metadata": {},
   "source": [
    "&emsp;&emsp;英国实验遗传学家兼统计学家费歇尔，是将数理统计作为一门数学学科的奠基者，他开创的试验设计法，凭借随机化的手段成功地把概率模型带进了实验领域，并建立了方差分析法来分析这种模型. 费歇尔的试验设计，既把实践带入理论的视野内，又促进了实践的进展，从而大量地节省了人力、物力，试验设计这个主题，后来为众多数学家所发展.费歇尔还引进了显著性检验的概念，成为假设检验理论的先驱. 他考察了估计的精度与样本所具有的信息之间的关系而得到信息量概念，他对测量数据中的信息，压缩数据而不损失信息，以及对一个模型的参数估计等贡献了完善的理论概念，他把一致性、有效性和充分性作为参数估计量应具备的基本性质.同时还在 $1912$ 年提出了 **极大似然法**，这是应用上最广的一种估计法. 他在 $20$ 年代的工作，奠定了参数估计的理论基础. 关于 $\\chi^2$ 检验，费歇尔 $1924$ 年解决了理论分布包含有限个参数情况，基于此方法的列表检验，在应用上有重要意\n",
    "义. 费歇尔在一般的统计思想方面也作出过重要的贡献，他提出的 **信任推断法**，在统计学界引起了相当大的兴趣和争论，费歇尔给出了许多现代统计学的基础概念，思考方法十分直观，他造就了一个学派，在纯粹数学和应用数学方面都建树卓越\n",
    "\n",
    "&emsp;&emsp;这个时期作出重要贡献的统计学家中，还应提到奈曼 (Neyman) 和皮尔逊. 他们在从 $1928$ 年开始的一系列重要工作中，发展了假设检验的系列理论. 奈曼- 皮尔逊假设检验理论提出和精确化了一些重要概念，该理论对后世也产生了巨大影响，它是现今统计教科书中不可缺少的一个组成部分，奈曼还创立了系统的 **置信区间估计** 理论，早在奈曼工作之前，区间估计就已是一种常用形式，奈曼从 $1934$ 年开始的一系列工作，把区间估计理论置于柯尔莫哥洛夫概率论公理体系的基础之上，因而奠定了严格的理论基础，而且他还把求区间估计的问题表达为一种数学上的最优解问题，这个理论与奈曼-皮尔逊假设检验理论，对于数理统计形成为一门严格的数学分支起了重大作用\n",
    "\n",
    "&emsp;&emsp;以费歇尔为代表人物的英国成为数理统计研究的中心时，美国在二次世界大战中发展亦快，有三个统计研究组在投弹问题上进行了 $9$ 项研究，其中最有成效的哥伦比亚大学研究小组在理论和实践上都有重大建树，而最为著名的是首先系统地研究了 **序贯分析**，它被称为 $30$ 年代最有威力的统计思想. 序贯分析系统理论的创始人是著名统计学家沃德 (Wald)，他是原籍罗马尼亚的英国统计学家，于 $1934$ 年系统发展了早在 $20$ 年代就受到注意的序贯分析法，沃德在统计方法中引进的 **停止规则**的数学描述，是序贯分析的概念基础，并已证明是现代概率论与数理统计学中最富于成果的概念之一\n",
    "\n",
    "&emsp;&emsp;从二战后到现在，是统计学发展的第三个时期，这是一个在前一段发展的基础上，随着生产和科技的普遍进步，而使这个学科得到飞速发展的一个时期，同时，也出现了不少有待解决的大问题\n",
    "\n",
    "&emsp;&emsp;一是在应用上愈来愈广泛，统计学的发展一开始就是应实际的要求，并与实际密切结合的. 在二战前，已在生物、农业、医学、社会、经济等方面有不少应用，在工业和科技方面也有一些应用，而后一方面在战后得到了特别引人注目的进展，例如归到统计质量管理名目下的众多的统计方法，在大规模工业生产中的应用得到了很大的成功，目前已被认为是不可缺少的.统计学应用的广泛性，也可以从下述情况得到印证: 统计学已成为高等学校中许多专业必修的内容；统计学专业的毕业生的人数，以及从事统计学的应用、教学和研究工作的人数的大幅度的增长；有关统计学的著作和期刊杂志的数量的显著增长\n",
    "\n",
    "&emsp;&emsp;二是统计学理论也取得重大进展，理论上的成就，综合起来大致有两个主要方面：一方面是沃德提出的 **统计决策理论**，另一方面就是 **大样本理论** \n",
    "\n",
    "&emsp;&emsp;沃德是 $20$ 世纪对统计学面貌的改观有重大影响的少数几个统计学家之一. $1950$ 年，他发表了题为 `统计决策函数` 的著作，正式提出了 统计决策理论，沃德本来的想法,是要把统计学的各分支都统一在人与大自然的博奕这个模式下，以便作出统一处理. 不过往后的发展表明，他最初的设想并未取得很大的成功，但却有着两方面的重要影响：一是沃德把统计推断的后果与经济上的得失联系起来，这使统计方法更直接用到经济性决策的领域；二是沃德理论中所引进的许多概念和问题的新提法，丰富了以往的统计理论\n",
    "\n",
    "&emsp;&emsp;贝叶斯统计学派的基本思想，源自于英国学者贝叶斯 (Bayes) 的一项工作，发表于他去世后的 $1763$ 年，后面的学者把它发展为一整套关于统计推断的系统理论. 信奉这种理论的统计学者，就组成了 **贝叶斯学派**. 这个理论在两个方面与传统理论 (即基于概率的频率解释的那个理论) 有根本的区别：一是否定概率的频率的解释，这涉及与此有关的大量统计概念，而提倡给概率以主观上的相信程度这样的解释；二是 **先验分布** 的使用，先验分布被理解为在抽样前对推断对象的知识的概括. 按照贝叶斯学派的观点，样本的作用在于且仅在于对先验分布作修改，而过渡到 **后验分布** —其中综合了先验分布中的信息与样本中包含的信息. 近几十年来其信奉者愈来愈多，二者之间的争论，是战后时期统计学的一个重要特点. 在这种争论中，提出了不少问题促使人们进行研究，其中有的是很根本性的. 贝叶斯学派与沃德统计决策理论的联系在于这二者的结合，产生 **贝叶斯决策理论**，它构成了统计决策理论在实际应用上的主要内容\n",
    "\n",
    "&emsp;&emsp;三是电子计算机的应用对统计学的影响，首先一些需要大量计算的统计方法，过去因计算工具不行而无法使用，有了计算机，这一切都不成问题. 在战后统计学应用愈来愈广泛，这在相当程度上要归功于计算机，特别是对高维数据的情况. 其次，按传统数理统计学理论，一个统计方法效果如何甚至一个统计方法如何付诸实施，都有赖于决定某些统计量的分布，而这常常是极困难的. 有了计算机,就提供了一个新的途径 **模拟**. 为了把一个统计方法与其他方法比较，可以选择若干组在应用上有代表性的条件，在这些条件下，通过模拟去比较两个方法的性能如何，然后作出综合分析，这避开了理论上难以解决的难题，有极大的实用意义"
   ]
  }
 ],
 "metadata": {
  "kernelspec": {
   "display_name": "Python 3",
   "language": "python",
   "name": "python3"
  },
  "language_info": {
   "codemirror_mode": {
    "name": "ipython",
    "version": 3
   },
   "file_extension": ".py",
   "mimetype": "text/x-python",
   "name": "python",
   "nbconvert_exporter": "python",
   "pygments_lexer": "ipython3",
   "version": "3.8.8"
  }
 },
 "nbformat": 4,
 "nbformat_minor": 5
}

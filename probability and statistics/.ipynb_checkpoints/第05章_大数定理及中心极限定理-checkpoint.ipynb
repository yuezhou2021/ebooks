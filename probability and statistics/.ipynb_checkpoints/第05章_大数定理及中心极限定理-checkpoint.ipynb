{
 "cells": [
  {
   "cell_type": "markdown",
   "id": "44453cb8",
   "metadata": {},
   "source": [
    "# 第05章 大数定律及中心极限定理"
   ]
  },
  {
   "cell_type": "markdown",
   "id": "924fc92e",
   "metadata": {},
   "source": [
    "---"
   ]
  },
  {
   "cell_type": "markdown",
   "id": "5c3ac6f3",
   "metadata": {},
   "source": [
    "## 序言"
   ]
  },
  {
   "cell_type": "markdown",
   "id": "7685a2b2",
   "metadata": {},
   "source": [
    "### 1.内容介绍\n",
    "\n",
    "&emsp;&emsp;本章详细介绍了大数定律与中心极限定理等定义，对其原理与例题进行了一一阐述\n",
    "\n",
    "### 2.理论目标\n",
    "\n",
    "- 掌握大数定律与中心极限定理的定义\n",
    "- 掌握切比雪夫不等式\n",
    "- 掌握切比雪夫大数定律、辛钦大数定律、伯努利大数定律\n",
    "- 掌握独立同分布中心极限定理、李雅普诺夫中心极限定理、棣莫弗-拉普拉斯中心极限定理\n",
    "\n",
    "### 3.实践目标\n",
    "\n",
    "- 无\n",
    "\n",
    "### 4.实践案例\n",
    "\n",
    "- 无\n",
    "\n",
    "### 5.内容目录\n",
    "\n",
    "- 1.大数定律\n",
    "- 2.中心极限定理"
   ]
  },
  {
   "cell_type": "markdown",
   "id": "119a0a1d",
   "metadata": {},
   "source": [
    "---"
   ]
  },
  {
   "cell_type": "markdown",
   "id": "0e9a206a",
   "metadata": {},
   "source": [
    "## 第01节 大数定律"
   ]
  },
  {
   "cell_type": "markdown",
   "id": "f6582aee",
   "metadata": {},
   "source": [
    "### 1.1 大数定律的概念"
   ]
  },
  {
   "cell_type": "markdown",
   "id": "84785d31",
   "metadata": {},
   "source": [
    "&emsp;&emsp;人们经过长期实践认识到，虽然个别随机事件在某次试验中可能发生也可能不发生，但是大量重复试验中却呈现明显的 **规律性**\n",
    "\n",
    "- 对某随机事件 $A$ 进行 $n$ 次重复独立的试验，该事件出现 $m$ 次，该事件 $A$ 发生的频率为 $f_n(A)=\\dfrac{m}{n}$，当试验次数增多时，频率几乎经常出现在 $P(A)$ 附近，因此常常会用事件 $A$ 发生的频率 $f_n(A)$ 当作事件 $A$ 发生的概率 $P(A)$ 的近似值，即当 $n$ 较大时有 <br><br>\n",
    "$\\qquad\\qquad\\qquad\\qquad\\qquad\\qquad\\qquad\\qquad\\qquad\\qquad\\quad$$P(A)\\approx f_n(A)=\\dfrac{m}{n}$ <br><br>\n",
    "\n",
    "- 用仪器测量某个指标，由于仪器本身存在着各种偶然误差，观察时还有观察误差，因此每次测量不一定能够测准指标的真值 $\\mu$，如果对该指标进行 $n$ 次重复独立的测量，获得 $n$ 个测量值 $x_1,x_2,\\dots,x_n$，实际经验表明当测量次数充分多时，往往用各次测量的算术平均值当作该指标真值 $\\mu$ 的近似值，即 <br><br>\n",
    "$\\qquad\\qquad\\qquad\\qquad\\qquad\\qquad\\qquad\\qquad\\qquad\\qquad$$\\mu\\approx\\dfrac{1}{n}(x_1+x_2+\\dots+x_n)$ <br><br>\n",
    "\n",
    "&emsp;&emsp;概率论与数理统计是研究随机现象统计规律性的学科，随机现象的规律性只有在相同的条件下进行大量重复试验才能呈现出来，也就是说，要从大量的随机现象中去寻求必然的法则，由此导致对 **极限定理** 进行研究. 而概率论中所谓 **大数定律 (Large Number Theorem)**，就是对上述这类大量随机现象 **平均结果的稳定性问题** 给以理论上的论证，指出上式在什么意义下成立，以及在什么条件下能够成立"
   ]
  },
  {
   "cell_type": "markdown",
   "id": "3e60a514",
   "metadata": {},
   "source": [
    "### 1.2 切比雪夫不等式"
   ]
  },
  {
   "cell_type": "markdown",
   "id": "e721bbdf",
   "metadata": {},
   "source": [
    "&emsp;&emsp;首先引进 **切比雪夫不等式 (Chebyshev's Inequality)**，其是证明大数定律的预备知识，并且可以用来估量某些事件发生的频率，切比雪夫不等式作为一个理论工具，在大数定律证明中可使证明非常简洁\n",
    "\n",
    "<div class=\"alert alert-info\" role=\"alert\"><span class=\"label label-success\">切比雪夫不等式</span> 设随机变量 $X$ 具有数学期望 $E(X)=\\mu$，方差 $D(X)=\\sigma^2$，则对任意 $\\epsilon>0$ <br><br> $\\qquad\\qquad\\qquad\\qquad\\qquad\\qquad\\qquad\\qquad\\qquad\\qquad\\qquad$$P(|X-\\mu|\\ge\\epsilon)\\le\\dfrac{\\sigma^2}{\\epsilon^2}$\n",
    "</div>"
   ]
  },
  {
   "cell_type": "markdown",
   "id": "377366f9",
   "metadata": {},
   "source": [
    "&emsp;&emsp;这里只证明 $X$ 为连续型随机变量的情形，设 $X$ 的概率密度函数为 $f(x)$，注意到 $\\dfrac{|x-\\mu|^2}{\\epsilon^2}\\ge 1,\\;\\dfrac{|x-\\mu|^2}{\\epsilon^2}f(x) \\ge f(x)$，则有 <br><br>\n",
    "$\\qquad\\qquad\\qquad\\qquad\\qquad\\qquad\\qquad\\quad$$\\begin{aligned} P(|X-\\mu|\\ge\\epsilon) &= \\int\\limits^{}_{|x-\\mu|\\ge\\epsilon}f(x)dx=\\int\\limits^{\\mu-\\epsilon}_{-\\infty}f(x)dx+\\int\\limits^{+\\infty}_{\\mu+\\epsilon}f(x)dx \\\\ &\\le\\int\\limits^{+\\infty}_{-\\infty}f(x)dx\\le\\int\\limits^{+\\infty}_{-\\infty}\\dfrac{|x-\\mu|^2}{\\epsilon^2}f(x)dx \\\\ &=\\dfrac{1}{\\epsilon^2}\\int\\limits^{+\\infty}_{-\\infty}(x-\\mu)^2f(x)dx = \\dfrac{\\sigma^2}{\\epsilon^2}\\end{aligned}$ <br><br>\n",
    "![image-20220630095837188](https://s2.loli.net/2022/06/30/lqWawLQjIRfZKpc.png)\n",
    "&emsp;&emsp;切比雪夫不等式也可以写成<br><br> \n",
    "$\\qquad\\qquad\\qquad\\qquad\\qquad\\qquad\\qquad\\qquad\\qquad\\qquad\\qquad$$P(|X-\\mu|<\\epsilon)\\ge1-\\dfrac{\\sigma^2}{\\epsilon^2}$\n",
    "\n",
    "- 切比雪夫不等式给出了在随机变量 $X$ 的分布未知的情况下，估计事件 $(X-\\mu\\ge\\epsilon)$ 或 $(|X-\\mu|<\\epsilon)$ 的概率的一种方法\n",
    "- 切比雪夫不等式表明随机变量 $X$ 的方差越小，事件 $(|X-\\mu| < \\epsilon)$ 发生的概率越大，即 $X$ 的取值基本上集中在它的数学期望 $\\mu$ 附近，由此可见方差刻画了随机变量取值的分散程度\n",
    "\n",
    "&emsp;&emsp;切比雪夫不等式作为一个理论工具，有非常重要的应用，在方差已知的情况下，切比雪夫不等式给出了 $X$ 与它的期望 $\\mu$ 的偏差不小于 $\\epsilon$ 的概率估计值，对于任意给定的分布如取 $\\epsilon=3\\sigma$，则有 <br><br>\n",
    "$\\qquad\\qquad\\qquad\\qquad\\qquad\\qquad\\qquad\\qquad\\qquad\\qquad\\quad$$P(|X-\\mu|\\ge3\\epsilon)\\le\\dfrac{\\sigma^2}{9\\epsilon^2}=\\dfrac{1}{9}$"
   ]
  },
  {
   "cell_type": "markdown",
   "id": "4a0cbc20",
   "metadata": {},
   "source": [
    "<div class=\"alert alert-danger\" role=\"alert\"><span class=\"label label-warning\">例题</span> 设电站供电网有 $10000$ 盏电灯，夜晚每盏灯开灯的概率为 $0.7$，假定灯的开、关是相互独立的，使用切比雪夫不等式估计夜晚同时开着的灯数在 $6800$ 到 $7200$ 盏之间的概率</div>\n",
    "\n",
    "&emsp;&emsp;令 $X$ 表示在夜晚同时开着的灯数目，则 $X$ 服从 $n=10000,p=0.7$ 的二项分布，$E(X)=np=7000,\\;D(X)=np(1-p)=2100$，由切比雪夫不等式可得 <br><br>\n",
    "$\\qquad\\qquad\\qquad\\qquad\\qquad\\qquad\\qquad$$P(6800<X<7200)=P(|X-7000|<200)\\ge1-\\dfrac{2100}{200^2}\\approx0.95$\n",
    "\n",
    "&emsp;&emsp;虽然有 $10000$ 盏灯，但是只要有供应 $7200$ 盏灯的电力就能够以相当的概率保证够用\n",
    "\n",
    ">事实上切比雪夫不等式在理论上具有重大意义，但估计的精度不高，比如上述示例中切比雪夫不等式的估计只说明概率大于 $0.95$，但实际这个概率为 $0.999$"
   ]
  },
  {
   "cell_type": "markdown",
   "id": "8c263763",
   "metadata": {},
   "source": [
    "### 1.3 切比雪夫大数定律"
   ]
  },
  {
   "cell_type": "markdown",
   "id": "231f5da1",
   "metadata": {},
   "source": [
    "&emsp;&emsp;大量试验证实，随机事件 $A$ 的频率 $f_n(A)$ 当重复试验的次数 $n$ 增大时总呈现出稳定性，稳定在某一个常数的附近，频率的稳定性是概率定义的客观基础，后续定律将对频率的稳定性作出理论的说明"
   ]
  },
  {
   "cell_type": "markdown",
   "id": "aa0a98cb",
   "metadata": {},
   "source": [
    "<div class=\"alert alert-info\" role=\"alert\"><span class=\"label label-success\">切比雪夫大数定律</span> <span class=\"label label-info\">弱大数定律</span> 设 $X_1,X_2,\\dots,X_n$ 是相互独立且具有相同的数学期望 $E(X_k)=\\mu$，前 $n$ 个随机变量的算术平均 $\\bar{X} = \\dfrac{1}{n}\\sum\\limits^{n}_{k=1}X_k$，则对于任意 $\\epsilon>0$，有<br><br>$\\qquad\\qquad\\qquad\\qquad\\qquad\\qquad\\qquad$$\\lim\\limits^{}_{n\\to+\\infty}P(|\\bar{X}-\\mu|<\\epsilon)=\\lim\\limits^{}_{n\\to+\\infty}P(|\\dfrac{1}{n}\\sum\\limits^{n}_{k=1}X_k-\\mu|<\\epsilon)=1$\n",
    "</div>"
   ]
  },
  {
   "cell_type": "markdown",
   "id": "4f18e900",
   "metadata": {},
   "source": [
    "&emsp;&emsp;由于 $E(\\dfrac{1}{n}\\sum\\limits^{n}_{k=1}X_k)=\\dfrac{1}{n}\\sum\\limits^{n}_{k=1}E(X_k)=\\dfrac{1}{n}\\cdot n\\mu = \\mu$，$D(\\dfrac{1}{n}\\sum\\limits^{n}_{k=1}X_k)=\\dfrac{1}{n^2}\\sum\\limits^{n}_{k=1}D(X_k)=\\dfrac{1}{n^2}\\cdot n\\sigma^2=\\dfrac{\\sigma^2}{n}$，根据切比雪夫不等式，得到 <br><br>\n",
    "$\\qquad\\qquad\\qquad\\qquad\\qquad\\qquad\\qquad\\qquad\\qquad\\quad$$P(|\\dfrac{1}{n}\\sum\\limits^{n}_{k=1}X_k-\\mu|<\\epsilon)\\ge1-\\dfrac{\\sigma^2/n}{\\epsilon^2}$ <br><br>\n",
    "&emsp;&emsp;在上式中令 $n\\to+\\infty$，并注意到概率不能大于 $1$，即 <br><br>\n",
    "$\\qquad\\qquad\\qquad\\qquad\\qquad\\qquad\\qquad\\qquad\\qquad\\quad$$\\lim\\limits^{}_{n\\to+\\infty}P(|\\dfrac{1}{n}\\sum\\limits^{n}_{k=1}X_k-\\mu|<\\epsilon)=1$\n",
    "\n",
    "&emsp;&emsp;$|\\dfrac{1}{n}\\sum\\limits^{n}_{k=1}X_k-\\mu|<\\epsilon$ 是一个随机事件，切比雪夫大数定律表明当 $n\\to+\\infty$ 时，这个事件的发生概率趋于 $1$，即对于任意的正数 $\\epsilon$，**当 $n$ 充分大时**，不等式 $|\\dfrac{1}{n}\\sum\\limits^{n}_{k=1}X_k-\\mu| < \\epsilon$ 成立的概率很大，同时随机变量 $X_1,X_2,\\dots,X_n$ 的算术平均 $\\bar{X}=\\dfrac{1}{n}\\sum\\limits^{n}_{k=1}X_k$ 接近于数学期望 $E(X_1)=E(X_2)=\\dots=E(X_n)=\\mu$\n",
    "\n",
    "&emsp;&emsp;通俗地说，切比雪夫大数定律表明相互独立的随机变量序列 $\\{X_n\\}$，如果方差有共同的上界，当 $n$ 充分大时，$\\dfrac{1}{n}\\sum\\limits^{n}_{i=1}X_i$ 就不再是随机的了，而几乎变成一个常数，其取值接近于数学期望平均值的概率接近于 $1$，可见切比雪夫大数定律给出了平均值稳定性的科学描述 "
   ]
  },
  {
   "cell_type": "markdown",
   "id": "1b4832e0",
   "metadata": {},
   "source": [
    "<div class=\"alert alert-info\" role=\"alert\"><span class=\"label label-success\">定义 5.1</span> 对随机变量 $X_1,X_2,\\dots,X_n$，若存在常数 $a$，使得对任意 $\\epsilon>0$，有 <br><br>$\\qquad\\qquad\\qquad\\qquad\\qquad\\qquad\\qquad\\qquad\\qquad\\qquad$$\\lim\\limits^{}_{n\\to\\infty}P(|X_n-a|<\\epsilon) = 1$<br><br>成立，则称 $X_1,X_2,\\dots,X_n$ <strong>依概率收敛 (Convergence in probability)</strong> 于 $a$, 记为 $X_n\\xrightarrow[]{P}a$</div>"
   ]
  },
  {
   "cell_type": "markdown",
   "id": "9785c4a5",
   "metadata": {},
   "source": [
    "&emsp;&emsp;根据概率收敛的定义，可推导出若 $X_n\\xrightarrow[]{P}a,\\;Y_n\\xrightarrow[]{P}b$，函数 $g(x,y)$ 在点 $(a,b)$ 处连续，则 $g(X_n,Y_n)\\xrightarrow[]{P}g(a,b)$，就可以用 **依概率收敛** 重新叙述切比雪夫大数定律"
   ]
  },
  {
   "cell_type": "markdown",
   "id": "ce0437c9",
   "metadata": {},
   "source": [
    "<div class=\"alert alert-info\" role=\"alert\"><span class=\"label label-success\">切比雪夫大数定理</span> <span class=\"label label-info\">弱大数定律</span> 设 $X_1,X_2,\\dots,X_n$ 是相互独立且具有相同的数学期望 $E(X_k)=\\mu$，则序列<br><br>$\\qquad\\qquad\\qquad\\qquad\\qquad\\qquad\\qquad\\qquad\\quad$$\\bar{X_n}= \\dfrac{1}{n}\\sum\\limits^{n}_{k=1}X_k$ 依概率收敛于 $\\mu$，即 $\\bar{X_n}\\xrightarrow[]{P}\\mu$</div>"
   ]
  },
  {
   "cell_type": "markdown",
   "id": "06ff8e69",
   "metadata": {},
   "source": [
    "### 1.4 辛钦大数定律"
   ]
  },
  {
   "cell_type": "markdown",
   "id": "f43f2912",
   "metadata": {},
   "source": [
    "<div class=\"alert alert-info\" role=\"alert\"><span class=\"label label-success\">定义 5.2</span> 设随机变量序列 $X_1,X_2,\\dots,X_n$ 相互独立且都服从相同的分布，则称 $X_1,X_2,\\dots,X_n$ <strong>独立同分布</strong></div>\n",
    "\n",
    "&emsp;&emsp;切比雪夫大数定律要求随机变量 $X_1,X_2,\\dots,X_n$ 的方差存在，但在这些随机变量相互独立其服从同一分布的场合 (独立同分布)，并不需要这一条件\n",
    "\n",
    "&emsp;&emsp;例如在一定条件下，某射手对靶射击，单发命中率为 $p$, 现独立重复射击 $n$ 发，记 $X_k(k=1,2,\\dots,n)$ 为第 $k$ 发命中次数，显然，$X_k(k=l,2,\\dots,n)$ 都服从单点分布，从而 $X_1,X_2,\\dots,X_n$ 独立同分布"
   ]
  },
  {
   "cell_type": "markdown",
   "id": "7c0110e8",
   "metadata": {},
   "source": [
    "<div class=\"alert alert-info\" role=\"alert\"><span class=\"label label-success\">辛钦大数定律</span> <span class=\"label label-info\">弱大数定律</span> 设 $X_1,X_2,\\dots,X_n$ 是独立同分布的随机变量序列，具有相同的数学期望 $E(X_k)=\\mu$，方差 $D(X_k)=\\sigma^2(k=1,2,\\dots,n)$，记 $\\bar{X_n}=\\dfrac{1}{n}\\sum\\limits^{n}_{k=1}X_k$，则对于任意给定的 $\\epsilon>0$，有<br><br>$\\qquad\\qquad\\qquad\\qquad\\qquad\\qquad\\qquad\\quad$$\\lim\\limits^{}_{n\\to\\infty}P(|\\bar{X_n}-\\mu|\\ge\\epsilon)=0$ 或 $\\lim\\limits^{}_{n\\to\\infty}P(|\\bar{X_n}-\\mu|<\\epsilon)=1$</div>"
   ]
  },
  {
   "cell_type": "markdown",
   "id": "bc8ec99c",
   "metadata": {},
   "source": [
    "&emsp;&emsp;因为 $X_k(k=1,2,\\dots,n)$ 相互独立且同分布，则有 $E(X_k)=\\mu,\\;D(X_k)=\\sigma^2(k=1,2,\\dots,n)$，$E(\\bar{X_n})=\\dfrac{1}{n}\\sum\\limits^{n}_{k=1}E(X_k)=\\dfrac{1}{n}\\sum\\limits^{n}_{k=1}\\mu=\\mu$，$D(\\bar{X_n})=\\dfrac{1}{n}\\sum\\limits^{n^2}_{k=1}D(X_k)=\\dfrac{1}{n}\\sum\\limits^{n^2}_{k=1}\\sigma^2=\\dfrac{\\sigma^2}{n}$，根据切比雪夫不等式，得到 <br><br>\n",
    "$\\qquad\\qquad\\qquad\\qquad\\qquad\\qquad\\qquad\\qquad\\qquad\\quad$$P(|\\bar{X}_n-E(\\bar{X}_n)|\\ge\\epsilon)\\le\\dfrac{D(\\bar{X}_n)}{\\epsilon^2}=\\dfrac{\\sigma^2}{n\\epsilon^2}$ <br><br>\n",
    "&emsp;&emsp;切比雪夫大数定律是辛钦大数定律的特殊情况，后者表明当 $n$ 充分大时，$\\bar{X}$ 与 $\\mu$ 误差很小，这使得测量中常用的算术平均值法得到 **理论解释**"
   ]
  },
  {
   "cell_type": "markdown",
   "id": "d6a7b20c",
   "metadata": {},
   "source": [
    "<div class=\"alert alert-danger\" role=\"alert\"><span class=\"label label-warning\">例题</span> 设随机变量 $X_1,X_2,\\dots,X_n$ 相互独立同分布，且都在 $(0,1)$ 区间上服从均匀分布，证明 $\\dfrac{1}{n}\\sum\\limits^{n}_{k=1}e^{-\\tfrac{X^2_k}{2}}$ 依概率收敛于 $\\int\\limits^{1}_{0}e^{-\\tfrac{x^2}{2}}dx$，并依此计算 $\\dfrac{1}{\\sqrt{2\\pi}}\\int\\limits^{1}_{0}e^{-\\tfrac{x^2}{2}}$ 小数点后六位的近似值</div>\n",
    "\n",
    "&emsp;&emsp;由于随机变量 $X_1,X_2,\\dots,X_n$ 独立同分布，则随机变量 $e^{-\\tfrac{X^2_1}{2}},e^{-\\tfrac{X^2_2}{2}},\\dots,e^{-\\tfrac{X^2_n}{2}}$ 也独立同分布<br><br>\n",
    "&emsp;&emsp;因为 $X_k$ 在 $(0,1)$ 上服从均匀分布，其概率密度函数为 $f(x)=1\\;(0<x<1)$，则 <br><br> \n",
    "$\\qquad\\qquad\\qquad\\qquad\\qquad\\qquad\\qquad\\qquad$$e^{-\\tfrac{X^2_k}{2}} = \\int\\limits^{+\\infty}_{-\\infty}e^{-\\tfrac{x^2}{2}}f(x)dx = \\int\\limits^{1}_{0}e^{-\\tfrac{x^2}{2}}dx,\\;\\;k=1,2,\\dots,n$<br><br>\n",
    "&emsp;&emsp;根据辛钦大数定律，当 $n\\to+\\infty$ 时，$\\dfrac{1}{n}\\sum\\limits^{n}_{k=1}e^{-\\tfrac{X^2_k}{2}}$ 依概率收敛于 $\\int\\limits^{1}_{0}e^{-\\tfrac{x^2}{2}}dx$ <br><br>\n",
    "\n",
    "$\\qquad\\qquad\\qquad\\qquad\\qquad\\qquad\\qquad\\qquad\\qquad\\qquad\\qquad\\qquad\\qquad\\downarrow$ <br>\n",
    "&emsp;&emsp;根据得到的结果，使用数值计算软件如 **MATLAB** 创建 $n$ 个 $(0,1)$ 区间上的均匀分布的随机数 $X_k(k=1,2,\\dots,n)$，然后对每一个 $X_k$ 计算 $e^{-\\tfrac{X^2_k}{2}}$ 得到 <br><br>\n",
    "$\\qquad\\qquad\\qquad\\qquad\\qquad\\qquad$$\\dfrac{1}{\\sqrt{2\\pi}}\\int^{1}_{0}e^{-\\tfrac{x^2}{2}}dx \\approx \\dfrac{1}{n}(\\dfrac{1}{\\sqrt{2\\pi}}\\sum\\limits^{n}_{k=1}e^{-\\tfrac{x^2}{2}})$，其精确值和不同 $n$ 取值后的模拟值如下表所示 \n",
    "\n",
    "<table border=0 cellpadding=0 cellspacing=0 width=990 style='border-collapse:\n",
    " collapse;table-layout:fixed;'>\n",
    " <col span=3>\n",
    " <tr height=18>\n",
    "  <td rowspan=2 style='text-align: center;'><strong>精确值</strong></td>\n",
    "  <td colspan=2 style='text-align: center;'><strong>模拟值</strong></td>\n",
    " </tr>   \n",
    " <tr height=18>\n",
    "  <td style='text-align: center;'>$n=10000$</td>\n",
    "  <td style='text-align: center;'>$n=100000$</td>\n",
    " </tr>\n",
    " <tr height=18>\n",
    "  <td style='text-align: center;'>$0.341344$</td>\n",
    "  <td style='text-align: center;'>$0.341329$</td>\n",
    "  <td style='text-align: center;'>$0.341334$</td>\n",
    " </tr>\n",
    "</table>\n",
    "\n",
    "&emsp;&emsp;由于$\\varphi(x)=\\dfrac{1}{\\sqrt{2\\pi}}e^{-\\tfrac{x^2}{2}}$ 是标准正态分布的概率密度函数，所以查标准正态分布表得到 <br><br> $\\qquad\\qquad\\qquad\\qquad\\qquad\\qquad\\qquad\\quad$$\\dfrac{1}{\\sqrt{2\\pi}}\\int\\limits^{1}_{0}e^{-\\tfrac{x^2}{2}}dx=\\Phi(1)-\\Phi(0)=0.8414-0.5000=0.3413$ <br><br>\n",
    "> 一般的标准正态分布表都只有小数点后 $4$ 位，可能会有精度不足的问题 \n",
    "\n",
    "&emsp;&emsp;由于可以通过线性变换将 $(a,b)$ 区间上的定积分化为 $(0,1)$ 区间上的定积分，所以上述计算定积分的方法具有普遍意义，这就是辛钦大数定律在 **蒙特卡洛 (Monte Carlo)** 方法计算定积分方面的应用"
   ]
  },
  {
   "cell_type": "markdown",
   "id": "c60bae07",
   "metadata": {},
   "source": [
    "### 1.5 伯努利大数定律"
   ]
  },
  {
   "cell_type": "markdown",
   "id": "6af546c3",
   "metadata": {},
   "source": [
    "&emsp;&emsp;伯努利大数定律是辛钦大数定律的一个 **重要推论**"
   ]
  },
  {
   "cell_type": "markdown",
   "id": "feaa3934",
   "metadata": {},
   "source": [
    "<div class=\"alert alert-info\" role=\"alert\"><span class=\"label label-success\">伯努利大数定律</span> 设 $f_A$ 是 $n$ 次独立重复试验中事件 $A$ 发生的次数，$p$ 是事件 $A$ 在每次试验中发生的概率，则对于任意正数 $\\epsilon>0$ 有 <br><br>\n",
    "$\\qquad\\qquad\\qquad\\qquad\\qquad\\qquad\\qquad\\quad$$\\lim\\limits^{}_{n\\to\\infty}P(|\\dfrac{f_A}{n}-p|<\\epsilon)=1$ 或 $\\lim\\limits^{}_{n\\to\\infty}P(|\\dfrac{f_A}{n}-p|\\ge\\epsilon)=0$</div>"
   ]
  },
  {
   "cell_type": "markdown",
   "id": "e6b0eeeb",
   "metadata": {},
   "source": [
    "&emsp;&emsp;由于 $f_A\\backsim B(n,p)$，$f_A$ 服从参数为 $(n,p)$ 的二项分布，$X = X_1+X_2+\\dots+X_n$，其中 $X_1,X_2,\\dots,X_n$ 相互独立，且都服从 $B(1,p)$ 的单点分布，因此 $E(X_k) = p,\\;D(X_k)=p(1-p)\\;(k=1,2,\\dots)$，根据辛钦大数定律可得到 <br><br>\n",
    "$\\qquad\\qquad\\qquad\\qquad\\qquad\\qquad\\qquad$$\\lim\\limits^{}_{n\\to+\\infty}P(|\\dfrac{1}{n}\\sum\\limits^{n}_{k=1}X_k-p| < \\epsilon) = 1$，即 $\\lim\\limits^{}_{n\\to+\\infty}P(|\\dfrac{f_A}{n}-p|\\ge\\epsilon) = 0$\n",
    "\n",
    "&emsp;&emsp;伯努利大数定律的结果表明，对于任意 $\\epsilon>0$ 只要重复独立试验的次数 $n$ 充分大，即使事件 $A=|\\dfrac{f_A}{n}-p|\\ge\\epsilon$ 是一个小概率事件 (实际上几乎是不发生的)，但在 $n$ 充分大时事件 $B=|\\dfrac{f_A}{n}-p|<\\epsilon$ 实际上是必定发生的，即对于给定的任意小的正数 $\\epsilon$ 在 $n$ 充分大时，事件 <br><br> $\\qquad\\qquad\\qquad\\qquad\\qquad\\qquad\\qquad\\qquad\\qquad\\qquad$**频率 $\\dfrac{f_A}{n}$ 与概率 $p$ 的偏差小于 $\\epsilon$** <br><br> 实际上是必定发生的，通俗来说，伯努利大数定律以 **严格的数学形式** 表明了频率的稳定性，当重复独立试验的次数 $n$ 充分大时，事件 $A$ 发生的频率 $\\dfrac{f_A}{n}$ 以概率 $1$ 收敛于事件 $A$ 发生的概率 $p$，由实际推断原理，在实际应用中当试验次数很大时，便可以用 **事件的频率代替事件的概率**"
   ]
  },
  {
   "cell_type": "markdown",
   "id": "46a5c3fd",
   "metadata": {},
   "source": [
    "> 概率论主要的目标是研究不确定性，大数定律即在大量重复实验的过程中，用事件发生的频率去近似估计它的概率\n",
    "\n",
    "&emsp;&emsp;抛一枚质地均匀的硬币出现正而的概率为 $0.5$，以下分三种情况验证硬币出现正面的频率与概率的关系，三种情况下均进\n",
    "行 $1000$ 组实验，每组实验次数即拋硬币的次数分别为 $100,1000,10000$，硬币出现正面的频率与概率的偏离情况见下图\n",
    "\n",
    "![coin_trials](https://s2.loli.net/2022/06/30/wpZa9PKmgcl4YIJ.png)\n",
    "\n",
    "- 硬币出现正面的频率与概率的偏离程度，随着抛硬币次数的增加 $(100-1000-10000)$，频率与概率的偏离程度越来越小，即频率与概率越来越接近.这就直观地验证了伯努利大数定律 <br><br>\n",
    "- 如果事件 $A$ 的概率很小，根据伯努利大数定律，事件 $A$ 发生的频率也是很小的, 或者说 $A$ 很少发生，即概率很小的事件在个别试验中几乎不会发生，这一原理称为 **小概率事件原理 (实际推断原理)**\n",
    "\n",
    "> 实际推断原理的成用很广泛，例如在某种假设下，一个事件发生的概率很小，可是它在一次试验中竞然发生了，根据小概率事件原理有理由 **怀疑假设的正确性**，但注意，小概率事件与不可能事件是有区别的"
   ]
  },
  {
   "cell_type": "markdown",
   "id": "7a382982",
   "metadata": {},
   "source": [
    "---"
   ]
  },
  {
   "cell_type": "markdown",
   "id": "b770e898",
   "metadata": {},
   "source": [
    "## 第02节 中心极限定理"
   ]
  },
  {
   "cell_type": "markdown",
   "id": "4e640682",
   "metadata": {},
   "source": [
    "### 2.1 中心极限定理的概念"
   ]
  },
  {
   "cell_type": "markdown",
   "id": "c155e247",
   "metadata": {},
   "source": [
    "&emsp;&emsp;在实际问题中，常常需要考虑许多相互独立的随机因素所产生的综合影响，而每一个别因素在总影响中所起的作用不大，假设总影响 $X$ 是这些个别因素即随机变量 $X_1,X_2,\\dots,X_n$ 的总和 $X = \\sum\\limits^{i}_{k=1}X_i$，这种随机变量 $X$ 一般都服从或近似服从正态分布\n",
    "\n",
    "> 自从高斯指出测量误差服从正态分布之后，正态分布在自然界中极为常见，通过观察表明如果一个量是由大量相互独立的随机因素的影响所造成，而每一个因素在总的影响中所起的作用不大，则这个量服从或近似服从正态分布 <br><br>\n",
    "例如测量误差这个随机变量 $X$，由于在测量过程中不可避免地受到温度、湿度、大气压力、视差、人的心理状态等因素的影响，这些微小因素相互独立，且每一个因素对测量结果的影响都是微小的，甚至是感觉不到的，但它们累积起来其总和却对测量结果有明显的影响，致使测量结果具有 **随机性**，且服从 **正态分布**\n",
    "\n",
    "&emsp;&emsp;在概率论中，习惯于把和的分布收敛于正态分布这一类定理称为 **中心极限定理 (Central Limit Theorem, CLT)**，致力于研究独立随机变量之和所特有的规律性问题，即当 $n$ 无限增大时，随机变量之和的极限分布是什么? 在什么条件下极限分布是正态的? 由于无穷个随机变量之和可能导致无穷大，故这里不研究 $n$ 个随机变量之和而考虑它的标准化的随机变量 <br><br>\n",
    "$\\qquad\\qquad\\qquad\\qquad\\qquad\\qquad\\qquad\\qquad\\qquad$$Y_n = \\dfrac{\\sum\\limits^{n}_{k=1}X_k - E(\\sum\\limits^{n}_{k=1}X_k)}{\\sqrt{D(\\sum\\limits^{n}_{k=1}X_k)}} = \\dfrac{\\sum\\limits^{n}_{k=1}X_k-n\\mu}{\\sqrt{n}\\sigma}$"
   ]
  },
  {
   "cell_type": "markdown",
   "id": "45977868",
   "metadata": {},
   "source": [
    "### 2.2 独立同分布中心极限定理"
   ]
  },
  {
   "cell_type": "markdown",
   "id": "a5d6ba7d",
   "metadata": {},
   "source": [
    "<div class=\"alert alert-info\" role=\"alert\"><span class=\"label label-success\">列维-林德贝格定理</span> 设 $X_1,X_2,\\dots,X_n$ 是独立同分布的随机变量序列，具有相同的数学期望 $E(X_k)=\\mu$，方差 $D(X_k)=\\sigma^2(k=1,2,\\dots,n)$，则随机变量之和 $\\sum\\limits^{n}_{k=1}X_k$ 的标准化变量<br><br>$\\qquad\\qquad\\qquad\\qquad\\qquad\\qquad\\qquad\\qquad\\qquad$$Y_n = \\dfrac{\\sum\\limits^{n}_{k=1}X_k - E(\\sum\\limits^{n}_{k=1}X_k)}{\\sqrt{D(\\sum\\limits^{n}_{k=1}X_k)}} = \\dfrac{\\sum\\limits^{n}_{k=1}X_k-n\\mu}{\\sqrt{n}\\sigma}$<br><br>的分布函数 $F_n(x)$ 对于任意的 $x$ 满足<br><br>$\\qquad\\qquad\\qquad\\qquad\\qquad\\qquad\\qquad$$\\lim\\limits^{}_{n\\to\\infty}F_n(x)=\\lim\\limits^{}_{n\\to\\infty}P(\\dfrac{\\sum\\limits^{n}_{k=1}X_k-n\\mu}{\\sqrt{n}\\sigma}\\le x) =\\int\\limits^{x}_{-\\infty}\\dfrac{1}{\\sqrt{2\\pi}}e^{-\\tfrac{t^2}{2}}dt = \\Phi(x)$</div>"
   ]
  },
  {
   "cell_type": "markdown",
   "id": "9a5e1616",
   "metadata": {},
   "source": [
    "&emsp;&emsp;**列维-林德贝格定理 (Lindeberg J.W and Levy Theorem)** 又称为 **独立同分布的中心极限定理**，该定理说明具有数学期望 $E(X_k)=\\mu$，方差 $D(X_k)=\\sigma^2>0$ 的独立同分布的随机变量 $X_1,X_2,\\dots,X_n$ 之和 $\\sum\\limits^{n}_{k=1}X_k$ 的标准化变量，当 $n$ 充分大时<br><br>\n",
    "$\\qquad\\qquad\\qquad\\qquad\\qquad\\qquad\\qquad\\qquad\\qquad\\qquad Y_n=\\dfrac{\\sum\\limits^{n}_{k=1}X_k-n\\mu}{\\sqrt{n}\\sigma}\\overset{approach}{\\backsim} N(0,1)$\n",
    "\n",
    "> 在一般情况下，很难求出 $n$ 个随机变量之和 $\\sum\\limits^{n}_{k=1}X_k$ 的分布函数，但当 $n$ 充分大时，可以通过 $\\Phi(x)$ 给出其近似的分布，利用 **正态分布** 对 $\\sum\\limits^{n}_{k=1}X_k$ 做理论分析与实际计算"
   ]
  },
  {
   "cell_type": "markdown",
   "id": "5357bd8f",
   "metadata": {},
   "source": [
    "&emsp;&emsp;如果对上式左侧乘以 $\\dfrac{1}{n}$，可改写成 $\\dfrac{\\dfrac{1}{n}\\sum\\limits^{n}_{k=1}X_k-\\mu}{\\sigma / \\sqrt{n}} = \\dfrac{\\bar{X}-\\mu}{\\sigma/\\sqrt{n}}$，这样上述结果推导出 $n$ 充分大时 <br><br>\n",
    "$\\qquad\\qquad\\qquad\\qquad\\qquad\\qquad\\qquad\\qquad\\qquad$$\\dfrac{\\bar{X}-\\mu}{\\sigma/\\sqrt{n}}\\overset{approach}{\\backsim} N(0,1)$ 或 $\\bar{X}\\overset{approach}{\\backsim}N(\\mu,\\sigma^2/n)$<br><br>\n",
    "&emsp;&emsp;这是独立同分布中心极限定理结果的另一个形式，即均值为 $\\mu$，方差为 $\\sigma^2>0$ 的独立同分布的随机变量 $X_1,X_2,\\dots,X_n$ 的算术平均 $\\bar{X} = \\dfrac{1}{n}\\sum\\limits^{n}_{k=1}X_k$，当 $n$ 充分大时近似地服从均值为 $\\mu$，方差为 $\\sigma^2/n$ 的正态分布，这一结果是数理统计中大样本统计推断的基础"
   ]
  },
  {
   "cell_type": "markdown",
   "id": "3bcf0a39",
   "metadata": {},
   "source": [
    "<div class=\"alert alert-danger\" role=\"alert\"><span class=\"label label-warning\">例题</span> 设随机变量 $X_1,X_2,\\dots,X_n$ 是一些相互独立同分布的随机变量,且它们都服从参数为 $\\lambda$ 的泊松分布 $P(\\lambda)$，可以证明 $\\sum\\limits^{n}_{i=1}X_i\\backsim P(n\\lambda)$，当 $\\lambda=1$ 时，随着 $n$ 的增加 $(n=1,2,5,10,15,20)$，$\\sum\\limits^{n}_{i=1}X_i$ 将如何变化? $\\sum\\limits^{n}_{i=1}X_i$ 的标准化随机变量又将如何变化?</div>\n",
    "\n",
    "![lindeberg_levy](https://s2.loli.net/2022/07/01/ECQJ6B7md4XD5TA.png)\n",
    "\n",
    "&emsp;&emsp;从图中可以看出，$\\sum\\limits^{n}_{i=1}X_i$ 的分布律折线图，随着 $n$ 的增加越来越接近正态分布密度函数的形状，即当 $n$ 较大时 $\\sum\\limits^{n}_{i=1}X_i$ **近似服从** 正态分布，因此 $\\sum\\limits^{n}_{i=1}X_i$ 的标准化随机变量近似服从标准正态分布，同时直观地验证了\n",
    "独立同分布中心极限定理<br><br>"
   ]
  },
  {
   "cell_type": "markdown",
   "id": "dc4b56b2",
   "metadata": {},
   "source": [
    "### 2.3 李雅普诺夫中心极限定理"
   ]
  },
  {
   "cell_type": "markdown",
   "id": "441f0496",
   "metadata": {},
   "source": [
    "<div class=\"alert alert-info\" role=\"alert\"><span class=\"label label-success\">李雅普诺夫定理</span> 设 $X_1,X_2,\\dots,X_n$ 是独立同分布的随机变量序列，具有相同的数学期望 $E(X_k)=\\mu$，方差 $D(X_k)=\\sigma^2(k=1,2,\\dots,n)$，记 $B^2_n=\\sum\\limits^{n}_{k=1}\\sigma^2_k$，若存在正数 $\\delta$，使当 $n\\to\\infty$ 时，$\\dfrac{1}{B^{2+\\delta}_{n}}\\sum\\limits^{n}_{k=1}E(|X_k-\\mu_k|^{2+\\delta}) \\to 0$，则随机变量之和 $\\sum\\limits^{n}_{k=1}X_k$ 的标准化变量 <br><br>$\\qquad\\qquad\\qquad\\qquad\\qquad\\qquad\\qquad\\qquad\\qquad$$Z_n = \\dfrac{\\sum\\limits^{n}_{k=1}X_k - E(\\sum\\limits^{n}_{k=1}X_k)}{\\sqrt{D(\\sum\\limits^{n}_{k=1}X_k)}}=\\dfrac{\\sum\\limits^{n}_{k=1}X_k-\\mu_k}{B_n}$<br><br>的分布函数 $F_n(X)$ 对于任意 $x$ 满足<br><br>$\\qquad\\qquad\\qquad\\qquad\\qquad\\qquad\\qquad$$\\lim\\limits^{}_{n\\to\\infty}F_n(x) = \\lim\\limits^{}_{n\\to\\infty}P(\\dfrac{\\sum\\limits^{n}_{k=1}X_k-\\mu_k}{B_n}\\le x)=\\int\\limits^{x}_{-\\infty}\\dfrac{1}{\\sqrt{2\\pi}}e^{-\\tfrac{t^2}{2}}dt = \\Phi(x)$</div>"
   ]
  },
  {
   "cell_type": "markdown",
   "id": "81da710d",
   "metadata": {},
   "source": [
    "&emsp;&emsp;**李雅普诺夫定理 (Lyapunov Theorem)** 表明随机变量 $Z_n$ 在 **给定条件下** 且 $n$ 很大时 <br><br>\n",
    "$\\qquad\\qquad\\qquad\\qquad\\qquad\\qquad\\qquad\\qquad\\qquad\\qquad Z_n=\\dfrac{\\sum\\limits^{n}_{k=1}X_k-n\\mu}{B_n}\\overset{approach}{\\backsim} N(0,1)$"
   ]
  },
  {
   "cell_type": "markdown",
   "id": "1fc3e423",
   "metadata": {},
   "source": [
    "&emsp;&emsp;上式可改写成 $\\sum\\limits^{n}_{k=1}X_k=B_nZ_n+\\sum\\limits^{n}_{k=1}\\mu_k$，这样上述结果推导出 $n$ 充分大时 <br><br>\n",
    "$\\qquad\\qquad\\qquad\\qquad\\qquad\\qquad\\qquad\\qquad\\qquad\\qquad\\qquad$$\\sum\\limits^{n}_{k=1}X_k \\overset{approach}{\\backsim} N(0,1)$<br><br>\n",
    "&emsp;&emsp;这证明了无论各个随机变量 $X_k\\;(k=1,2,\\dots)$ 服从什么分布，只要满足定理的条件，那么它们的和 $\\sum\\limits^{n}_{k=1}X_k$ 当 $n$ 很大时，就近似地服从正态分布\n",
    "\n",
    "> 这就是为什么正态随机变量在概率论中占有重要地位的一个基本原因，在很多问题中所考虑的随机变量可以表示成很多个独立的随机变置之和，例如在任一指定时刻，一个城市的耗电量是大量用户耗电量的总和; 一个物理实验的测置误差是由许多观察不到的、可加的微小误差所合成的，它们往往 **近似地服从正态分布**"
   ]
  },
  {
   "cell_type": "markdown",
   "id": "a1a6f1e5",
   "metadata": {},
   "source": [
    "### 2.4 棣莫弗-拉普拉斯中心极限定理"
   ]
  },
  {
   "cell_type": "markdown",
   "id": "bcac1929",
   "metadata": {},
   "source": [
    "<div class=\"alert alert-info\" role=\"alert\"><span class=\"label label-success\">棣莫弗-拉普拉斯定理</span> 设随机变量 $Y_n\\;(n=1,2,\\dots)$\n",
    " 服从参数为 $n$ 和 $p\\;(0<p<1)$ 的二项分布，则对于任意的 $x$，有<br><br>$\\qquad\\qquad\\qquad\\qquad\\qquad\\qquad\\qquad\\qquad$$\\lim\\limits^{}_{n\\to\\infty}P(\\dfrac{Y_n-np}{\\sqrt{np(1-p)}}\\le x)=\\int\\limits^{x}_{-\\infty}\\dfrac{1}{\\sqrt{2\\pi}}e^{\\tfrac{-t^2}{2}}dt=\\Phi(x)$</div>"
   ]
  },
  {
   "cell_type": "markdown",
   "id": "d56c0f7f",
   "metadata": {},
   "source": [
    "&emsp;&emsp;可以将 $Y_n$ 分解成为 $n$ 个相互独立、服从同一单点分布的诸随机变量 $X_1,X_2,\\dots,X_n$ 之和，即 $Y_n=\\sum\\limits^{n}_{k=1}X_k$，其中 $X_k\\;(k=1,2,\\dots)$ 的分布律为 <br><br>\n",
    "$\\qquad\\qquad\\qquad\\qquad\\qquad\\qquad\\qquad\\qquad\\qquad\\qquad$$P(X_k=i)=p^i(1-p)^{1-i},\\quad i=0,1$ <br><br>\n",
    "&emsp;&emsp;由于 $E(X_k)=p,\\;D(X_k)=p(1-p)$，根据上式可以得到 <br><br>\n",
    "$\\qquad\\qquad\\qquad\\qquad\\qquad\\qquad$$\\lim\\limits^{}_{n\\to\\infty}P(\\dfrac{Y_n-np}{\\sqrt{np(1-p)}}\\le x)=\\lim\\limits^{}_{n\\to\\infty}P(\\dfrac{\\sum\\limits^{n}_{k=1}X_k-np}{\\sqrt{np(1-p)}}\\le x)=\\int\\limits^{x}_{-\\infty}\\dfrac{1}{\\sqrt{2\\pi}}e^{\\tfrac{-t^2}{2}}dt = \\Phi(x)$<br><br>\n",
    "\n",
    "&emsp;&emsp;**棣莫弗-拉普拉斯定理 (De Moivre - Laplace Theorem)** 表明当 $n$ 充分大时，二项分布的标准化随机变量 $\\dfrac{Y_n-np}{\\sqrt{np(1-p)}}$ 近似服从标准正态分布，即当 $n$ 充分大时有 <br><br>\n",
    "$\\qquad\\qquad\\qquad\\qquad\\qquad\\qquad\\qquad\\qquad\\qquad\\qquad\\qquad$$\\dfrac{Y_n-np}{\\sqrt{np(1-p)}}\\overset{approach}{\\backsim} N(0,1)$<br><br>\n",
    "&emsp;&emsp;正态分布是二项分布的极限分布，即当 $n$ 充分大时，可以利用上式来计算二项分布的概率"
   ]
  },
  {
   "cell_type": "markdown",
   "id": "2dc6c83c",
   "metadata": {},
   "source": [
    "<div class=\"alert alert-danger\" role=\"alert\"><span class=\"label label-warning\">例题</span> 设随机变量 $X_1,X_2,\\dots,X_n$ 是一些相互独立同分布的随机变量,且它们都服从参数为 $p$ 的单点分布 $B(1,p)$，可以证明 $\\sum\\limits^{n}_{i=1}X_i\\backsim B(n,p)$，随着 $n$ 的增加 $(n=2,5,10,15,20)$，二项分布 $B(n,0.5)$ 将如何变化? 二项分布 $B(n,0.5)$ 的标准化随机变量又将如何变化?</div>\n",
    "\n",
    "![de_laplace](https://s2.loli.net/2022/07/01/Go2kLbFd6XiPD7e.png)\n",
    "\n",
    "&emsp;&emsp;从图中可以看出，二项分布 $B(n,0.5)$ 的分布律折线图，随着 $n$ 的增加越来越接近正态分布密度函数的形状，即当 $n$ 较大时 二项分布 $B(n,0.5)$ **近似服从** 正态分布，因此 二项分布 $B(n,0.5)$ 的标准化随机变量近似服从标准正态分布，同时直观地验证了\n",
    "棣莫弗-拉普拉斯中心极限定理<br><br>"
   ]
  },
  {
   "cell_type": "markdown",
   "id": "cf38bd07",
   "metadata": {},
   "source": [
    "<div class=\"alert alert-danger\" role=\"alert\"><span class=\"label label-warning\">例题</span> 设在某保险公司的索赔户中，因被盗索赔者占 $20\\%$，求在 $200$ 个索赔户中因被盗而索赔的户数在 $25$ 到 $55$ 的概率</div>\n",
    "\n",
    "&emsp;&emsp;$X_n$ 表示在 $200$ 个索赔户中因被盗而索赔的户数，根据题意 $X_n\\backsim B(200,0.2)$，且 $E(X_n)=np=40,\\;D(X_n)=np(1-p)=32$，根据棣莫弗-拉普拉斯中心极限定理，所求的概率可近似为正态分布 <br><br>\n",
    "$\\qquad\\qquad\\qquad\\qquad\\qquad\\qquad\\qquad\\quad$$\\begin{aligned}P(25\\le X_n) \\le55) &= P(\\dfrac{25-40}{5.66}\\le\\dfrac{X_n-40}{5.66}\\le\\dfrac{55-40}{5.66}) \\\\&=P(-2.65\\le\\dfrac{X_n-40}{5.66}\\le2.65) \\\\&\\approx \\Phi(2.65)-\\Phi(2.65) \\\\&\\approx 0.9920\\end{aligned}$ "
   ]
  },
  {
   "cell_type": "markdown",
   "id": "e0ffd895",
   "metadata": {},
   "source": [
    "&emsp;&emsp;中心极限定理表明，在相当一般的条件下，当独立随机变量的个数不断增加时，其和的分布趋于正态分布 \n",
    "- 这一事实阐明了正态分布的重要性，也揭示了为什么在实际应用中会经常遇到正态分布，也就是揭示了产生正态分布变暈的源泉 <br>\n",
    "- 同时提供了独立同分布随机变量之和 $\\sum\\limits^{n}_{k=1}X_k$ 的近似分布，只要和式中加项的个数充分大，就可以不必考虑和式中的随机变量服从什么分布，都可以用正态分布来近似，这在应用上是有效和重要的"
   ]
  }
 ],
 "metadata": {
  "kernelspec": {
   "display_name": "Python 3",
   "language": "python",
   "name": "python3"
  },
  "language_info": {
   "codemirror_mode": {
    "name": "ipython",
    "version": 3
   },
   "file_extension": ".py",
   "mimetype": "text/x-python",
   "name": "python",
   "nbconvert_exporter": "python",
   "pygments_lexer": "ipython3",
   "version": "3.8.8"
  }
 },
 "nbformat": 4,
 "nbformat_minor": 5
}

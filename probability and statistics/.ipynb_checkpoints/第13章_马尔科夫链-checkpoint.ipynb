{
 "cells": [
  {
   "cell_type": "markdown",
   "id": "dd83ebf2",
   "metadata": {},
   "source": [
    "# 第13章 马尔科夫链"
   ]
  },
  {
   "cell_type": "markdown",
   "id": "6daf0fdb",
   "metadata": {},
   "source": [
    "---"
   ]
  },
  {
   "cell_type": "markdown",
   "id": "74d76e36",
   "metadata": {},
   "source": [
    "## 序言"
   ]
  },
  {
   "cell_type": "markdown",
   "id": "dfc495d9",
   "metadata": {},
   "source": [
    "### 1.内容介绍\n",
    "\n",
    "&emsp;&emsp;本章详细介绍了马尔科夫链定义与例子、多步转移概率的确定与泊松过程和遍历性，并对其原理与例题进行了一一阐述\n",
    "\n",
    "### 2.理论目标\n",
    "\n",
    "- 掌握马尔可夫过程及其概率分布\n",
    "- 掌握马尔可夫链及其性质与示例\n",
    "- 掌握齐次马尔可夫链的有限维分布\n",
    "- 掌握切普曼-科尔莫戈罗夫 (C-K) 方程\n",
    "- 掌握马尔科夫链的遍历性与极限分布\n",
    "\n",
    "### 3.实践目标\n",
    "\n",
    "- 无\n",
    "\n",
    "### 4.实践案例\n",
    "\n",
    "- 无\n",
    "\n",
    "### 5.内容目录\n",
    "\n",
    "- 1.马尔科夫链定义与例子\n",
    "- 2.多步转移概率的确定\n",
    "- 3.遍历性"
   ]
  },
  {
   "cell_type": "markdown",
   "id": "c9c79584",
   "metadata": {},
   "source": [
    "---"
   ]
  },
  {
   "cell_type": "markdown",
   "id": "fee0ad2d",
   "metadata": {},
   "source": [
    "## 第01节 马尔科夫链定义与例子"
   ]
  },
  {
   "cell_type": "markdown",
   "id": "c059e724",
   "metadata": {},
   "source": [
    "### 1.1 马尔可夫过程及其概率分布"
   ]
  },
  {
   "cell_type": "markdown",
   "id": "00a9a0f8",
   "metadata": {},
   "source": [
    "&emsp;&emsp;马尔可夫过程的理论在近代物理、生物学、管理科学、经济、信息处理以及数字计算方法等方面都有重要应用，在物理学中很多确定性现象遵从如下演变原则：由时刻 $t_0$ 系统或过程所处的状态，可以决定系统或过程在时刻 $t>t_0$ 所处的状态，而无需借助于 $t_0$ 以前系统或过程所处状态的历史资料，如微分方程初值问题所描绘的物理过程就属于这类确定性现象，把上述原则延伸到随机现象，即当一物理系统或过程遵循的是某种统计规律时，可仿照上面的原则，引人以下的 **马尔可夫性** 或 **无后效性**：过程在时刻 $t_0$ 所处的状态为已知的条件下，过程在时刻 $t>t_0$ 所处状态的条件分布与过程在时刻 $t_0$ 之前所处的状态无关，通俗地说就是在已经知道过程 **现在** 的条件下，其 **将来** 不依赖于 **过去**\n",
    "\n",
    "&emsp;&emsp;设随机过程 $(X(t),t\\in T)$ 的状态空间为 $I$，如果对时间 $t$ 的任意 $n$ 个数值 $t_1<t_2<\\dots<t_n$，$n\\ge3,t_i\\in T$，在条件 $X(t_i)=x_i$，$x_i\\in I$，$i=1,2,\\dots,n-1$ 下，$X(t_n)$ 的条件分布函数恰等于在条件 $X(t_{n-1})=x_{n-1}$ 下 $X(t_n)$ 的条件分布函数，即 <br><br>\n",
    "<center>$P(X(t_n)\\le x_n|X(t_1)=x_1),X(t_2)=x_2,\\dots,X(t_{n-1})=x_{n-1}=P(X(t_n)\\le x_n|X(t_{n-1})=x_{n-1})$</center><br>\n",
    "<center>$F_{t_n|t_1\\dots t_{n-1}}\\;(x_n,t_n|x_1,x_2,\\dots,x_{n-1};t_1,t_2,\\dots,t_{n-1})=F_{t_n|t_{n-1}}(x_n,t_n|x_{n-1},t_{n-1})$</center>\n",
    "\n",
    "则称过程 $(X(t),t\\in T)$ 具有马尔可夫性或无后效性，并称此过程为 **马尔可夫过程**"
   ]
  },
  {
   "cell_type": "markdown",
   "id": "4345ecd8",
   "metadata": {},
   "source": [
    "<div class=\"alert alert-danger\" role=\"alert\"><span class=\"label label-warning\">例题</span> 设 $(X(t),t\\in T)$ 是独立增量过程，且 $X(0)=0$，证明 $(X(t),t\\in T)$ 是一个马尔可夫过程</div>\n",
    "\n",
    "&emsp;&emsp;由马尔可夫过程的分布函数可知，只要证明在已知 $X(t_{n-1})=x_{n-1}$ 的条件下 $X(t_n)$ 与 $x(t_j)$，$j=1,2,\\dots,n-2$ 相互独立即可，现由 **独立增量过程** 的定义知道，当 $0<t_j<t_{n-1}<t_n$，$j=1,2,\\dots,n-2$ 时，增量 $X(t_j)-X(0)$ 与 $X(t_n)-X(t_{n-1})$ 相互独立，根据条件 $X(0)=0$ 和 $X(t_{n-1})=x_{n-1}$ 可知 <br><br>\n",
    "<center>$X(t_k)\\quad$ 与 $\\quad X(t_n)-x_{n-1}$</center><br>\n",
    "相互独立，再由多维随机变量的分布性质可知，此时 $X(t_n)$ 与 $X(t_j)$, $j=l,2,\\dots,n-2$ 相互独立，这表明 $X(t)$ 具有无后效性，即 $(X(t),t\\in T)$ 是一个马尔可夫过程\n",
    "\n",
    "\n",
    "> 由此可知泊松过程是时间连续状态离散的马氏过程，维纳过程是时间状态都连续的马氏过程"
   ]
  },
  {
   "cell_type": "markdown",
   "id": "00609f8d",
   "metadata": {},
   "source": [
    "### 1.2 马尔可夫链及其性质"
   ]
  },
  {
   "cell_type": "markdown",
   "id": "8ea9a010",
   "metadata": {},
   "source": [
    "&emsp;&emsp;时间和状态都是离散的马尔可夫过程称为 **马尔可夫链**，简称 **马氏链**，记为 $(X_n=X(n),n=0,1,2,\\dots)$，它可以看作在时间集 $T_i=(0,1,2,\\dots)$上对离散状态的马氏过程相继观察的结果，约定记链的状态空间为 $I=(a_1,a_2,\\dots)$，$a_i\\in R$，在链的情形，马尔可夫性通常用条件分布律来表示，即对任意的正整数 $n,r$ 和 $0\\le t_1\\le t_2 <\\dots<t_r<m;t_i,m,n+m\\in T_1$ 有 <br><br>\n",
    "<center>$P(X_{m+n=a_j|X_{t_j}=a_{i_1}},X_{t_2}=a_{i_2},\\dots,X_{t_r}=a_{i_r},X_m=a_i)=P(X_{m+n}=a_j|X_m=a_i)$</center>"
   ]
  },
  {
   "cell_type": "markdown",
   "id": "1b87bb52",
   "metadata": {},
   "source": [
    "- 其中 $a_i\\in I$ 记上式右端为 $P_{ij}(m,m+n)$，称条件概率 <br><br>\n",
    "<center>$P_{ij}(m,m+n)=P(X_{m+n}=a_j|X_m=a_i)$</center>\n",
    "\n",
    "  为马氏链在时刻 $m$ 处于状态 $a_i$ 条件下，在时刻 $m+n$ **转移** 到状态 $a_j$ 的 **转移概率**\n",
    "  \n",
    "\n",
    "- 由于链在时刻 $m$ 从任何一个状态 $a_i$ 出发，到另一时刻 $m+n$，**必然转移** 到 $a_1,a_2,\\dots$ 诸状态中的某一个，所以 <br><br>\n",
    "<center>$\\sum\\limits^{\\infty}_{j=1}P_{ij}(m.m+n)=1\\quad i=1,2,\\dots$</center>\n",
    "\n",
    "  由转移概率组成的矩阵 $P(m,m+n)=(P_{ij}(m.m+n))$ 称为马氏链的 **转移概率矩阵**，此矩阵的每一行元之和等于 $1$\n",
    "  \n",
    "  \n",
    "- 当转移概率 $P_{ij}(m,m+n)$ 只与 $i,j$ 及时间间距 $n$ 有关时，把它记为 $P_{ij}$，即 <br><br>\n",
    "<center>$P_{ij}(m,m+n)=P_{ij}(n)$</center>\n",
    "\n",
    "  并称此转移概率具有 **平稳性**，同时也称此链是 **齐次的** 或 **时齐的** "
   ]
  },
  {
   "cell_type": "markdown",
   "id": "bff97568",
   "metadata": {},
   "source": [
    "&emsp;&emsp;在马氏链为齐次的情形下，定义的转移概率 $P_{ij}(n)=P(X_{m+n}=a_j|X_m=a_i)$ 称为马氏链的 **$n$ 步转移概率**, $P(n)=(P_{ij}(n))$ 为 **$n$ 步转移概率矩阵**，以下的示例中特别重要的是一步转移概率 <br><br>\n",
    "<center>$p_{ij}=P_{ij}(1)=P(X_{m+1}=a_j|X_m=a_i)$</center> \n",
    "\n",
    "或由它们组成的 **一步转移概率矩阵** <br><br>\n",
    "<center>$\\begin{matrix}&a_1&a_2&\\dots&a_j&\\dots\\\\a_1&p_{11}&p_{12}&\\dots&p_{1j}&\\dots\\\\a_2&p_{21}&p_{22}&\\dots&p_{2j}&\\dots\\\\\\vdots&\\vdots&\\vdots&&\\vdots&\\\\a_i&p_{i1}&p_{i2}&\\dots&p_{ij}&\\dots\\\\\\vdots&\\vdots&\\vdots&&\\vdots&\\end{matrix}\\quad=P(1)$</center>\n",
    "\n",
    "> 在上述矩阵的左侧和上边标上状态 $a_1,a_2,\\dots$ 是为了显示 $p_{ij}$ 是由状态 $a_i$ 经一步转移到状态 $a_j$ 的概率"
   ]
  },
  {
   "cell_type": "markdown",
   "id": "9dd22535",
   "metadata": {},
   "source": [
    "### 1.3 马尔可夫链示例"
   ]
  },
  {
   "cell_type": "markdown",
   "id": "bd121a0f",
   "metadata": {},
   "source": [
    "#### 1.3.1 0-1传输系统"
   ]
  },
  {
   "cell_type": "markdown",
   "id": "54fc949c",
   "metadata": {},
   "source": [
    "&emsp;&emsp;只传输数字 $0$ 和 $1$ 的串联系统中，设每一级的传真率 (输出与输入数字相同的概率称为系统的传真率，相反情形称为误码率) 为 $p$，误码率为 $q=1-p$，并设一个单位时间传输一级，$X_0$ 是第一级的输入，$X_n$ 是第 $n$ 级的输出，那么 $(X_n,n=0,1,2,\\dots)$ 是一随机过程，状态空间 $I=(0,1)$，而且当 $X_n=i,i\\in I$ 为已知时，$X_{n+1}$ 所处的状态的概率分布只与 $X_n=i$ 有关，而与时刻 $n$ 以前所处的状态无关，所以它是一个 **齐次的马氏链**，它的一步转移概率和一步转移概率矩阵分别为 <br><br>\n",
    "<center>$p_{ij}=P(X_{n+1}=j|X_n=i)=\\begin{cases}p&j=i\\\\\\\\q&j\\ne i\\end{cases}\\quad i,j=0,1$</center><br>\n",
    "<center>$\\begin{bmatrix}p&q\\\\q&p\\end{bmatrix}$</center>"
   ]
  },
  {
   "cell_type": "markdown",
   "id": "035ee7a3",
   "metadata": {},
   "source": [
    "#### 1.3.2 排队模型"
   ]
  },
  {
   "cell_type": "markdown",
   "id": "f92489f1",
   "metadata": {},
   "source": [
    "&emsp;&emsp;设服务系统由一个服务员和只可以容纳两个人的等候室组成，服务规则是 **先到先服务**，后来者需在等候室依次排队<br>\n",
    "&emsp;&emsp;假定一个需要服务的顾客到达系统时发现系统内已有 $3$ 个顾客 ($1$ 个正在接受服务，$2$ 个在等候室排队)，设时间间隔 $\\Delta t$ 内有一个顾客进人系统的概率为 $q$,有一原来被服务的顾客离开系统 (即服务完毕) 的概率为 $p$，又设当以 $\\Delta t$ 充分小时，在这时间间隔内多于一个顾客进入或离开系统实际上是不可能的，且有无顾客来到与服务是否完毕是相互独立的，现用马氏链来描述这个服务系统\n",
    "\n",
    "<center>$\\downarrow$</center>\n",
    "\n",
    "&emsp;&emsp;设 $X_n=X(n\\Delta t)$ 表示时刻 $n\\Delta t$ 时系统内的顾客数，即系统的状态，$X_n,n=0,1,2,\\dots$ 是一随机过程，状态空间 $I={0,1,2,3}$，仿照上例的分析，可知其是一个齐次马氏链，下面计算此马氏链的一步转移概率\n",
    "\n",
    "<table border=0 cellpadding=0 cellspacing=0 width=990 style='border-collapse:\n",
    " collapse;table-layout:fixed'>\n",
    " <col span=3>\n",
    " <tr height=18>\n",
    "  <td style='text-align: center;'><strong>转移概率 $p_{ij}$</strong></td>\n",
    "  <td style='text-align: center;'><strong>具体含义</strong></td>\n",
    "  <td style='text-align: center;'><strong>数值</strong></td>\n",
    " </tr>\n",
    " <tr height=18>\n",
    "  <td style='text-align: center;'>$p_{00}$</td>\n",
    "  <td style='text-align: center;'>系统内没有顾客的条件下，经 $\\Delta t$ 以后仍没有顾客的概率</td>\n",
    "  <td style='text-align: center;'>$1-q$</td>\n",
    " </tr>\n",
    " <tr height=18>\n",
    "  <td style='text-align: center;'>$p_{01}$</td>\n",
    "  <td style='text-align: center;'>系统内没有顾客的条件下，经 $\\Delta t$ 后有一顾客进人系统的概率</td>\n",
    "  <td style='text-align: center;'>$q$</td>\n",
    " </tr>\n",
    " <tr height=18>\n",
    "  <td style='text-align: center;'>$p_{10}$</td>\n",
    "  <td style='text-align: center;'>系统内恰有一顾客正在接受服务的条件下，经 $\\Delta t$ 后系统内无人的概率它等于在 $\\Delta t$ 间隔内顾客因服务完毕而离去，且无人进人系统的概率</td>\n",
    "  <td style='text-align: center;'>$p(1-q)$</td>\n",
    " </tr>\n",
    " <tr height=18>\n",
    "  <td style='text-align: center;'>$p_{11}$</td>\n",
    "  <td style='text-align: center;'>系统内恰有一顾客的条件下，在 $\\Delta t$ 间隔内，他因服务完毕而离去而另一顾客进人系统，或者正在接受服务的顾客继续要求服务，且无人进入系统的概率</td>\n",
    "  <td style='text-align: center;'>$pq+(1-p)(1-q)$</td>\n",
    " </tr>\n",
    " <tr height=18>\n",
    "  <td style='text-align: center;'>$p_{12}$</td>\n",
    "  <td style='text-align: center;'>正在接受服务的顾客继续要求服务，且另一个顾客进人系统的概率</td>\n",
    "  <td style='text-align: center;'>$(1-p)q$</td>\n",
    " </tr>\n",
    " <tr height=18>\n",
    "  <td style='text-align: center;'>$p_{13}$</td>\n",
    "  <td style='text-align: center;'>正在接受服务的顾客继续要求服务，且在 $\\Delta t$ 间隔内有两个顾客进入系统的概率，由假设后者实际上是不可能发生的</td>\n",
    "  <td style='text-align: center;'>$0$</td>\n",
    " </tr>\n",
    " <tr height=18>\n",
    "  <td style='text-align: center;'>$p_{33}$</td>\n",
    "  <td style='text-align: center;'>一人因服务完毕而离去且另一人进人系统，或者无人离开系统的概\n",
    "率</td>\n",
    "  <td style='text-align: center;'>$pq+(1-p)$</td>\n",
    " </tr>\n",
    "</table>\n",
    "\n",
    "&emsp;&emsp;类似地有 $p_{21}=p_{32}=p(1-q)$，$p_{22}=pq+(1-p)(1-q)$，$p_{23}=q(1-p)$，$p_{ij}=0\\;(|i-j|\\ge2)$，于是该马氏链的一步转移概率矩阵为 <br><br>\n",
    "<center>$\\begin{bmatrix}1-q&q&0&0\\\\p(1-q)&pq+(1-p)(1-q)&q(1-p)&0\\\\0&p(1-q)&pq+(1-p)(1-q)&q(1-p)\\\\0&0&p(1-q)&pq+(1-p)\\end{bmatrix}$</center>"
   ]
  },
  {
   "cell_type": "markdown",
   "id": "b1d5904b",
   "metadata": {},
   "source": [
    "#### 1.3.3 计算机故障检测"
   ]
  },
  {
   "cell_type": "markdown",
   "id": "71dce956",
   "metadata": {},
   "source": [
    "&emsp;&emsp;某计算机机房的一台计算机经常出故障，研究者每隔 $15$ 分钟观察一次计算机的运行状态，收集了 $24$ 小时的数据，用 $1$ 表示正常状\n",
    "态，用 $0$ 表示不正常状态，所得的数据序列如下，已知计算机在某一时段的状态为 $0$，问在此条件下从此时段起此计算机能连续正常工作 $3$ 刻钟的条件概率为多少 <br><br>\n",
    "<center>$1110010011111110011110111111001111111110001101101111011011010111101110111101111110011011111100111$</center>\n",
    "\n",
    "&emsp;&emsp;设 $X_n$ 为第 $n\\;(n=1,2,\\dots,97)$ 个时段的计算机状态，可以认为它是一个齐次马氏链，状态空间 $I=(0,1)$，$96$ 次状态转移的情况是 <br><br>\n",
    "<center>$0\\to0: 8$次$\\quad0\\to1: 18$次</center>\n",
    "<center>$1\\to0: 18$次$\\quad1\\to1: 52$次</center>\n",
    "\n",
    "&emsp;&emsp;因此一步转移概率可用频率近似地表示为\n",
    "- $p_{00}=P(X_{n+1}=0|X_n=0)\\approx\\dfrac{8}{8+18}=\\dfrac{8}{26}$\n",
    "\n",
    "\n",
    "- $p_{01}=P(X_{n+1}=1|X_n=0)\\approx\\dfrac{18}{8+18}=\\dfrac{18}{26}$\n",
    "\n",
    "\n",
    "- $p_{10}=P(X_{n+1}=0|X_n=1)\\approx\\dfrac{18}{18+52}=\\dfrac{18}{70}$\n",
    "\n",
    "\n",
    "- $p_{11}=P(X_{n+1}=1|X_n=1)\\approx\\dfrac{52}{18+52}=\\dfrac{52}{70}$"
   ]
  },
  {
   "cell_type": "markdown",
   "id": "8a9ebda2",
   "metadata": {},
   "source": [
    "&emsp;&emsp;当 $X_0=0$ 时由乘法公式、马氏性和齐次性得，所求连续正常工作 $3$ 刻钟的条件概率为 <br><br>\n",
    "<center>$P(X_1=1,X_2=1,X_3=1|X_0=0)$</center><br>\n",
    "<center>$=\\dfrac{P(X_0=0,X_1=1,X_2=1,X_3=1|X_0=0)}{P(X_0=0)}$</center><br>\n",
    "<center>$=\\dfrac{P(X_0=0)P(X_1=1,X_0=0)P(X_2=1|X_1=1,X_0=0)P(X_3=1|X_2=1,X_1=1,X_0=0)}{P(X_0=0)}$</center><br>\n",
    "<center>$=P(X_1=1|X_0=0)P(X_2=1,|X_1=1)P(X_3=1,|X_2=1)$</center><br>\n",
    "<center>$=P_{01}(1)P_{11}(1)P_{11}(1)=\\dfrac{18}{26}\\cdots\\dfrac{52}{70}\\cdots\\dfrac{52}{70}=0.382$</center><br>"
   ]
  },
  {
   "cell_type": "markdown",
   "id": "190f7833",
   "metadata": {},
   "source": [
    "### 1.4 齐次马尔可夫链的有限维分布"
   ]
  },
  {
   "cell_type": "markdown",
   "id": "fb653675",
   "metadata": {},
   "source": [
    "&emsp;&emsp;记 $p_j(0)=P(X_0=a_j)$，$a_j\\in I$，$j=1,2,\\dots$，称它为马氏链的 **初始分布**，其在任一时刻 $n\\in T_i$ 的一维分布为 $p_j(n)=P(X_n=a_j)$，$a_j\\in I$，$j=1,2,\\dots$，显然 $\\sum\\limits^{\\infty}_{j=1}p_j(n)=1$，又可知 <br><br>\n",
    "<center>$P(X_n=a_j)=\\sum\\limits^{\\infty}_{i=1}P(X_0=a_i,X_n=a_j)=\\sum\\limits^{\\infty}_{i=1}P(X_n=a_j|X_0=a_i)P(X_0=a_i)$</center><br>\n",
    "可得 $p_j(n)=\\sum\\limits^{\\infty}_{i=1}p_i(0)P_{ij}(n)$，$j=1,2,\\dots$，向量形式为 $p(n)=(p_1(n),(p_2(n),\\dots,(p_j(n),\\dots)$，这样利用矩阵乘法，马氏链任意时刻的一维分布可写成 <br><br>\n",
    "<center>$p(n)=p(0)P(n)$</center>\n",
    "\n",
    "此式表明马氏链在任一时刻 $n\\in T_i$ 时的一维分布由 **初始分布** $p(0)$ 和 **$n$ 步转移概率矩阵** 所确定"
   ]
  },
  {
   "cell_type": "markdown",
   "id": "323ad918",
   "metadata": {},
   "source": [
    "---"
   ]
  },
  {
   "cell_type": "markdown",
   "id": "d02aaa5d",
   "metadata": {},
   "source": [
    "## 第02节 多步转移概率的确定"
   ]
  },
  {
   "cell_type": "markdown",
   "id": "a1744e77",
   "metadata": {},
   "source": [
    "### 2.1 切普曼-科尔莫戈罗夫方程"
   ]
  },
  {
   "cell_type": "markdown",
   "id": "eab8e6be",
   "metadata": {},
   "source": [
    "&emsp;&emsp;设 $(X(n),n=0,1,2,\\dots)$ 是一齐次马氏链，则对任意的 $u,v\\in T_1$ 有 <br><br>\n",
    "<center>$P_{ij}(u+v)=\\sum\\limits^{\\infty}_{k=1}P_{ik}(u)P_{kj}(v)\\quad i,j=1,2,\\dots$</center>\n",
    "\n",
    "&emsp;&emsp;上式就是著名的 **切普曼-科尔莫戈罗夫 (Chapman-Kolmogorov)** 方程，简称 **C-K 方程**，C-K 方程基于下述事实即 \n",
    "\n",
    "![ck](https://s2.loli.net/2022/07/21/iHVTLr8jQk7Mn6G.png)\n",
    "\n",
    "<center>从时刻 $s$ 所处的状态 $a_i$，即 $X(s)=a_i$出发，经时段 $u+v$ 转移到状态 $a_j$，即 $X(s+u+v)=a_j$</center><br>\n",
    "\n",
    "<center>$\\downarrow$</center><br>\n",
    "\n",
    "<center>从 $X(s)=a_i$出发，先经过 $u$ 时段转移到中间状态心 $a_k$，再从 $a_k$ 经时段 $v$ 转移到状态 $a_j$ 的 <strong>和事件</strong></center>\n",
    "\n"
   ]
  },
  {
   "cell_type": "markdown",
   "id": "fc6ab77d",
   "metadata": {},
   "source": [
    "&emsp;&emsp;C-K 方程也可写成矩阵形式 $P(u+v)=P(u)P(v)$，这样利用 C-K 方程可以容易确定 $n$ 步转移概率，只需令 $u=1$，$v=n-1$ 得递推关系 <br><br>\n",
    "<center>$P(n)=P(1)P(n-1)=PP(n-1)\\quad\\implies\\quad P(n)=P^n $</center>\n",
    "\n",
    "上式证明对齐次马尔科夫链而言，$n$ 步转移概率矩阵是一步转移概率矩阵的 $n$ 次方，进而可知齐次马氏链的有限维分布可由 **初始分布** 与 **一步转移概率** 完全确定"
   ]
  },
  {
   "cell_type": "markdown",
   "id": "140586bf",
   "metadata": {},
   "source": [
    "<div class=\"alert alert-danger\" role=\"alert\"><span class=\"label label-warning\">例题</span> 设 $X_n,n\\ge0$ 是具有三个状态 $0,1,2$ 的齐次马氏链，一步转移概率矩阵为 <br><br><center>$P=\\begin{bmatrix}0.75&0.25&0\\\\0.25&0.5&0.25\\\\0&0.75&0.25\\end{bmatrix}$</center><br>初始分布 $p_i(0)=P(X_0=i)=\\dfrac{1}{3}$，$i=0,1,2$，试求 $P(X_0=0,X_2=1)$ 与 $P(X_2=1)$</div>\n",
    "\n",
    "&emsp;&emsp;二步转移概率矩阵为 $P^2=\\begin{bmatrix}5/8&5/16&1/16\\\\5/16&1/2&3/16\\\\3/16&9/16&1/4\\end{bmatrix}$，于是可知 <br><br>\n",
    "<center>$P(X_0=0,X_2=1)=p_0(0)p_{01}(2)=\\dfrac{1}{3}\\cdot\\dfrac{5}{16}=\\dfrac{5}{48}$</center><br>\n",
    "<center>$P(X_2=1)=p_0(0)p_{01}(2)+p_1(0)p_{11}(2)+p_2(0)p_{21}(2)=\\dfrac{1}{3}\\cdot(\\dfrac{5}{16}+\\dfrac{1}{2}+\\dfrac{9}{16})=\\dfrac{11}{24}$</center><br>"
   ]
  },
  {
   "cell_type": "markdown",
   "id": "0d609a89",
   "metadata": {},
   "source": [
    "<div class=\"alert alert-danger\" role=\"alert\"><span class=\"label label-warning\">例题</span> 在 <strong>0-1传输系统</strong> 中，设 $p=0.9$，求系统二级传输后的传真率与三级传输后的误码率，又设初始分布 $p_1(0)=P(X_0=1)=a$，$p_0(0)=P(X_0=0)=1-a$，又已知系统经 $n$ 级传输后输出为 $1$，问原发字符也是 $1$ 的概率是多少</div>\n",
    "\n",
    "&emsp;&emsp;由于 $n$ 步转移概率矩阵 $P(n)=P^n$，$P=\\begin{bmatrix}p&q\\\\q&p\\end{bmatrix}$ 有相异的特征值 $\\lambda_1=1$，$\\lambda_2=p-q$，,由线性代数知识，可将 $P$ 表示成对角矩阵 <br><br>\n",
    "<center>$\\Lambda=\\begin{bmatrix}\\lambda_1&0\\\\0&\\lambda_2\\end{bmatrix}=\\begin{bmatrix}1&0\\\\0&p-q\\end{bmatrix}$</center><br>\n",
    "的相似矩阵，求出 $\\lambda_1,\\lambda_2$ 对应的特征向量 $e_1=\\begin{bmatrix}1/\\sqrt{2}\\\\1/\\sqrt{2}\\end{bmatrix}$，$e_2=\\begin{bmatrix}-1/\\sqrt{2}\\\\1/\\sqrt{2}\\end{bmatrix}$，令 $H=[e_1,e_2]=\\begin{bmatrix}1/\\sqrt{2}&-1/\\sqrt{2}\\\\1/\\sqrt{2}&1/\\sqrt{2}\\end{bmatrix}$，则 $\\mathbf{P=H\\Lambda H^{-1}}$，可知 <br><br>\n",
    "<center>$\\mathbf{P^n=(H\\Lambda H^{-1})^n=H\\Lambda^nH^{-1}}$</center><br>\n",
    "<center>$=\\begin{bmatrix}\\dfrac{1}{2}+\\dfrac{1}{2}(p-q)^n&\\dfrac{1}{2}-\\dfrac{1}{2}(p-q)^n\\\\\\dfrac{1}{2}-\\dfrac{1}{2}(p-q)^n&\\dfrac{1}{2}+\\dfrac{1}{2}(p-q)^n\\end{bmatrix}$</center>\n",
    "\n",
    "&emsp;&emsp;所以当 $p=0.9$ 时，系统经二级传输后的传真率与三级传输后的误码率分别为 <br><br>\n",
    "<center>$P_{11}(2)=P_{00}(2)=\\dfrac{1}{2}+\\dfrac{1}{2}(0.9-0.1)^2=0.820$</center><br>\n",
    "<center>$P_{10}(3)=P_{01}(3)=\\dfrac{1}{2}-\\dfrac{1}{2}(0.9-0.1)^3=0.244$</center>\n",
    "\n",
    "&emsp;&emsp;根据贝叶斯公式，当已知系统经 $n$ 级传输后输出为 $1$，原发字符也是 $1$ 的概率为 <br><br>\n",
    "<center>$P(X_0=1|X_n=1)=\\dfrac{P(X_0=1)P(X_n=1|X_0=1)}{P(X_n=1)}=\\dfrac{p_1(0)P_{11}(n)}{p_0(0)P_{01}(n)+p_1(0)P_{11}(n)}$</center><br>\n",
    "<center>$=\\dfrac{a+a(p-q)^n}{1+(2a-1)(p-q)^n}$</center>"
   ]
  },
  {
   "cell_type": "markdown",
   "id": "acaaf8a9",
   "metadata": {},
   "source": [
    "## 第03节 遍历性"
   ]
  },
  {
   "cell_type": "markdown",
   "id": "a149a50c",
   "metadata": {},
   "source": [
    "### 3.1 马尔科夫链的遍历性与极限分布"
   ]
  },
  {
   "cell_type": "markdown",
   "id": "8a27135d",
   "metadata": {},
   "source": [
    "&emsp;&emsp;对于只有两个状态的马尔科夫链，一步转移概率矩阵一般可表示为 $\\begin{bmatrix}1-a&a\\\\b&1-b\\end{bmatrix}$，$0<a$，$b<1$，可得 $n$ 步转移概率矩阵为 <br><br>\n",
    "<center>$P(n)=P^n=\\begin{bmatrix}P_{00}(n)&P_{01}(n)\\\\P_{10}(n)&P_{11}(n)\\end{bmatrix}=\\dfrac{1}{a+b}\\begin{bmatrix}b&a\\\\b&a\\end{bmatrix}+\\dfrac{(1-a-b)^n}{a+b}\\begin{bmatrix}a&-a\\\\-b&b\\end{bmatrix}$</center>\n",
    "\n",
    "由上式可知，当 $0<a$，$b<1$ 时，$P_{ij}(n)$ 有极限 <br><br>\n",
    "<center>$\\lim\\limits^{}_{n\\to+\\infty}P_{00}(n)=\\lim\\limits^{}_{n\\to+\\infty}P_{10}(n)=\\dfrac{b}{a+b}\\implies\\pi_0$</center><br>\n",
    "<center>$\\lim\\limits^{}_{n\\to+\\infty}P_{01}(n)=\\lim\\limits^{}_{n\\to+\\infty}P_{11}(n)=\\dfrac{a}{a+b}\\implies\\pi_1$</center>"
   ]
  },
  {
   "cell_type": "markdown",
   "id": "cb142adc",
   "metadata": {},
   "source": [
    "- 对固定的状态 $j$，不管链在某一时刻从什么状态出发，通过长时间的转移，到达状态 $j$ 的概率都趋近于 $\\pi_j$，即所谓的 **遍历性**\n",
    "- 由于 $\\pi_0+\\pi_1=1$，所以 $(\\pi_0,\\pi_1)=\\pi$ 构成成一分布律，称它为链的 **极限分布**，如若能用其他简便的方法直接由一步转移概率求得极限分布，则反过来，当 $n\\ge1$ 时就可得到 $n$ 步转移概率的近似值 $P_{ij}(n)\\approx\\pi_j$"
   ]
  },
  {
   "cell_type": "markdown",
   "id": "fac00827",
   "metadata": {},
   "source": [
    "<div class=\"alert alert-info\" role=\"alert\"><span class=\"label label-success\">有限链的遍历性</span> 设齐次马尔科夫链 $(X_n,n\\ge1)$ 的状态空间为 $I=(a_1,a_2,\\dots,a_N)$，$P$ 是它的一步转移概率矩阵，如果存在正整数 $m$ 使对任意的 $a_i,a_j\\in I$ 都有 <br><br><center>$P_{ij}(m)>0\\quad i,j=1,2,\\dots,N$</center><br>则此链具有遍历性，且有极限分布 $\\pi=(\\pi_1,\\pi_2,\\dots,\\pi_N)$ 为方程组 $\\pi=\\pi P$ 或即 $\\pi_j=\\sum\\limits^{N}_{i=1}\\pi_ip_{ij}$ 的满足条件 $\\pi_j>0$，$\\sum\\limits^{N}_{j=1}\\pi_j=1$ 的唯一解</div>\n",
    "\n",
    "&emsp;&emsp;在上述定理的条件下，马氏链的极限分布又是 **平稳分布**，即若用 $\\pi$ 作为链的初始分布，即 $p(0)=\\pi$，则链在任一时刻 $n\\in T_1$ 的分布 $p(n)$ 永远与 $\\pi$ —致 <br><br>\n",
    "<center>$p(n)=p(0)P(n)=\\pi P^n=\\pi P^{n-1}=\\dots=\\pi P= \\pi$</center>"
   ]
  },
  {
   "cell_type": "markdown",
   "id": "6fb4fc95",
   "metadata": {},
   "source": [
    "### 3.2 遍历性示例"
   ]
  },
  {
   "cell_type": "markdown",
   "id": "308887c3",
   "metadata": {},
   "source": [
    "#### 3.2.1 一维随机游动"
   ]
  },
  {
   "cell_type": "markdown",
   "id": "b21f3a79",
   "metadata": {},
   "source": [
    "&emsp;&emsp;设一醉汉 $Q$ (或看作一随机游动的质点)，在直线的点集 $I={1,2,3,4,5}$ 上作随机游动，且仅在 $1$ 秒、$2$ 秒等时刻发生游动，游动的概率规则是\n",
    "\n",
    "- 如果 $Q$ 现在位于点 $i\\;(l<i<5)$，则下一时刻各以 $1/3$ 的概率向左或向右移动一格，或以 $1/3$ 的概率留在原处\n",
    "- 如果 $Q$ 现在位于 $1$ 或 $5$ 这点上，则下一时刻就以概率 $1$ 移动到 $2$ 或 $4$ 这一点上\n",
    "\n",
    "> $1$ 和 $5$ 这两点称为 **反射壁**，上面这种游动称为 **带有两个反射壁的随机游动**\n",
    "\n",
    "&emsp;&emsp;若以 $X_n$ 表示时刻 $n$ 时 $Q$ 的位置，不同的位置就是的不同状态，那么 $(X_n,n=0,1,2,\\dots)$ 是一随机过程，状态空间就是 $I$，而且当 $X_n=i,i\\in I$ 为已知时，$X_{n+1}$ 所处的状态的概率分布只与 $X_n=i$ 有关，而与 $Q$ 在时刻 $n$ 以前如何到达 $i$ 是完全无关的，所以 $(X_n,n=0,1,2,\\dots)$ 是一齐次马氏链，它的一步转移概率和一步转移概率矩阵分别为\n",
    "\n",
    "<center>$p_{ij}=P(X_{n+1}=j|X_n=i)=\\begin{cases}\\dfrac{1}{3}&j=i-1,i,i+1,1<i<5\\\\\\\\1&i=1,j=2\\;\\;or\\;\\;i=5,j=4\\\\\\\\0&|j=i|\\ge2\\end{cases}$</center><br>\n",
    "<center>$P=\\begin{bmatrix}0&1&0&0&0\\\\1/3&1/3&1/3&0&0\\\\0&1/3&1/3&1/3&0\\\\0&0&1/3&1/3&1/3\\\\0&0&0&1&0\\end{bmatrix}$</center>"
   ]
  },
  {
   "cell_type": "markdown",
   "id": "49c312b9",
   "metadata": {},
   "source": [
    "&emsp;&emsp;为了证明带有两个反射壁的随机游动是遍历的，并求其极限分布，以符号 **X** 代表转移概率矩阵的正的元，于是由一步转移概率矩阵 $P$ 可得 <br><br>\n",
    "<center>$P(2)=P^2=\\begin{bmatrix}0&X&0&0&0\\\\X&X&X&0&0\\\\0&X&X&X&0\\\\0&0&X&X&X\\\\0&0&0&X&0\\end{bmatrix}\\begin{bmatrix}0&X&0&0&0\\\\X&X&X&0&0\\\\0&X&X&X&0\\\\0&0&X&X&X\\\\0&0&0&X&0\\end{bmatrix}=\\begin{bmatrix}X&X&X&0&0\\\\X&X&X&X&0\\\\X&X&X&X&X\\\\0&X&X&X&X\\\\0&0&X&X&X\\end{bmatrix}$</center><br>\n",
    "<center>$P(4)=P^4=\\begin{bmatrix}X&X&X&0&0\\\\X&X&X&X&0\\\\X&X&X&X&X\\\\0&X&X&X&X\\\\0&0&X&X&X\\end{bmatrix}\\begin{bmatrix}X&X&X&0&0\\\\X&X&X&X&0\\\\X&X&X&X&X\\\\0&X&X&X&X\\\\0&0&X&X&X\\end{bmatrix}=\\begin{bmatrix}X&X&X&X&X\\\\X&X&X&X&X\\\\X&X&X&X&X\\\\X&X&X&X&X\\\\X&X&X&X&X\\end{bmatrix}$</center><br>\n",
    "\n",
    "&emsp;&emsp;即 $P^4$ 无零元，由定理链是遍历的，再根据上式，写出极限分布 $\\pi=(\\pi_1,\\pi_2,\\dots,\\pi_5)$ 满足的方程组 <br><br>\n",
    "<center>$\\begin{cases}\\pi_1=(1/3)\\pi_2\\\\\\pi_2=\\pi_1+(1/3)\\pi_2+(1/3)\\pi_3\\\\\\pi_3=(1/3)\\pi_2+(1/3)\\pi_3+(1/3)\\pi_4\\\\\\pi_4=(1/3)\\pi_3+(1/3)\\pi_4+\\pi_5\\\\\\pi_5=(1/3)\\pi_4\\\\\\pi_1+\\pi_2+\\pi_3+\\pi_4+\\pi_5=1\\end{cases}\\quad\\to\\quad\\begin{cases}\\pi_1=\\pi_5=\\dfrac{1}{11}\\\\\\\\\\pi_2=\\pi_3=\\pi_4=\\dfrac{3}{11}\\end{cases}$</center><br>\n",
    "\n",
    "> 这个分布表明经过长时间游动之后，醉汉 $Q$ 位于点 $i\\;(1<i<5)$ 的概率约为 $\\dfrac{3}{11}$，位于点 $1$ 或 $5$ 的概率约为 $\\dfrac{1}{11}$"
   ]
  },
  {
   "cell_type": "markdown",
   "id": "a546d946",
   "metadata": {},
   "source": [
    "#### 3.2.2 排队模型"
   ]
  },
  {
   "cell_type": "markdown",
   "id": "0fb9d60e",
   "metadata": {},
   "source": [
    "&emsp;&emsp;依照 `1.3.2` 中的一步转移概率矩阵 $P$ 可算得 $P(3)=P^3$ 无零元，根据定理链是遍历的，而极限分布 $\\pi=(\\pi_0,\\pi_1,\\pi_2,\\pi_3)$ 满足下列方程组 <br><br>\n",
    "<center>$\\begin{cases}\\pi_0=(1-q)\\pi_0+p(1-q)\\pi_1\\\\\\\\\\pi_1=q\\pi_0+[pq+(1-p)(1-q)]\\pi_1+p(1-q)\\pi_2\\\\\\\\\\pi_2=q(1-p)\\pi_1+[pq+(1-p)(1-q)]\\pi_2+p(1-q)\\pi_3\\\\\\\\\\pi_3=q(1-p)\\pi_2+[pq+(1-p)]\\pi_3\\\\\\\\\\pi_0+\\pi_1+\\pi_2+\\pi_3=1\\end{cases}\\quad\\to\\quad\\begin{cases}\\pi_0=p^3(1-q)^3/C\\\\\\\\\\pi_1=p^2q(1-q)^2/C\\\\\\\\\\pi_2=pq^2(1-q)(1-p)/C\\\\\\\\\\pi_3=q^3(1-q)^2/C\\end{cases}$</center><br>\n",
    "&emsp;&emsp;其中 $C=p^3(1-q)^3+p^2q(1-q)^2+pq^2(1-q)(1-p)+q^3(1-p)^2$\n",
    "\n",
    "&emsp;&emsp;假若在此例中，$p=q=0.5$，则可算得 $\\pi_0=1/7\\approx0.14$，$\\pi_1=\\pi_2=\\pi_3=2/7\\approx0.29$，即此时极限分布为 $\\pi=(1/7,2/7,2/7,2/7)$，这就是说经过相当长的时间以后，系统中无人的情形约占 $14\\%$ 的时间，而系统中有一人、二人、三人的情形约各占 $29\\%$ 的时间"
   ]
  }
 ],
 "metadata": {
  "kernelspec": {
   "display_name": "Python 3",
   "language": "python",
   "name": "python3"
  },
  "language_info": {
   "codemirror_mode": {
    "name": "ipython",
    "version": 3
   },
   "file_extension": ".py",
   "mimetype": "text/x-python",
   "name": "python",
   "nbconvert_exporter": "python",
   "pygments_lexer": "ipython3",
   "version": "3.8.8"
  }
 },
 "nbformat": 4,
 "nbformat_minor": 5
}

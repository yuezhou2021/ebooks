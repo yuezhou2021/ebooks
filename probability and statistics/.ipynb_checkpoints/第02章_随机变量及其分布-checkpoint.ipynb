{
 "cells": [
  {
   "cell_type": "markdown",
   "id": "4253aa9f",
   "metadata": {},
   "source": [
    "# 第02章  随机变量及其分布"
   ]
  },
  {
   "cell_type": "markdown",
   "id": "052e63ee",
   "metadata": {},
   "source": [
    "---"
   ]
  },
  {
   "cell_type": "markdown",
   "id": "eaca17ec",
   "metadata": {},
   "source": [
    "## 序言"
   ]
  },
  {
   "cell_type": "markdown",
   "id": "79e5192a",
   "metadata": {},
   "source": [
    "### 1.内容介绍\n",
    "\n",
    "&emsp;&emsp;本章详细介绍了随机变量、离散型随机变量及其分布律、随机变量的分布函数、连续型随机变量及其概率密度、随机变量函数的分布等定义，对其原理与例题进行了一一阐述\n",
    "\n",
    "### 2.理论目标\n",
    "\n",
    "- 掌握随机变量的定义与分类\n",
    "- 掌握离散型随机变量及其分布律\n",
    "- 掌握两点分布、二项分布、几何分布、超几何分布与泊松分布\n",
    "- 掌握分布函数的概念与性质\n",
    "- 掌握连续型随机变量及其概率密度\n",
    "- 掌握均匀分布、指数分布与正态分布\n",
    "- 掌握随机变量函数的分布\n",
    "\n",
    "### 3.实践目标\n",
    "\n",
    "- 无\n",
    "\n",
    "### 4.实践案例\n",
    "\n",
    "- 无\n",
    "\n",
    "### 5.内容目录\n",
    "\n",
    "- 1.随机变量\n",
    "- 2.离散型随机变量及其分布律\n",
    "- 3.随机变量的分布函数\n",
    "- 4.连续型随机变量及其概率密度\n",
    "- 5.随机变量函数的分布"
   ]
  },
  {
   "cell_type": "markdown",
   "id": "d16de6f1",
   "metadata": {},
   "source": [
    "---"
   ]
  },
  {
   "cell_type": "markdown",
   "id": "51e1a0e8",
   "metadata": {},
   "source": [
    "## 第01节 随机变量"
   ]
  },
  {
   "cell_type": "markdown",
   "id": "8e7d583d",
   "metadata": {},
   "source": [
    "&emsp;&emsp;在随机试验中，除了对某些特定事件发生的概率感兴趣，往往还关心某个与随机试验的结果相联系的变量，而试验中的随机事件可以通过该变量取值来表示\n",
    "- 在某些随机试验中，试验结果本身就由数量来表示，例如在抛掷骰子观察其出现的点数的试验中，试验的结果分别由数 $1,2,3,4,5,6$ 来表示，在 $n$ 次打靶试验中击中目标的次数，检查 $100$ 个产品时次品的个数等 <br><br>\n",
    "\n",
    "- 在另一些随机试验中，试验结果看起来与数量无关，但也可以数量化，例如在抛掷硬币观察其出现正面或反面的试验中，若规定\"出现正面\"对应 $1$，\"出现反面\"对应 $0$，则该试验的每一种可能结果都有唯一确定的实数与之对应\n",
    "\n",
    "> 随机试验的结果都可以用一个变量来表示，这个变量随试验结果的不同而变化，因而它是样本点的变量，这个变量就是需要引入的 **随机变量**"
   ]
  },
  {
   "cell_type": "markdown",
   "id": "02c96514",
   "metadata": {},
   "source": [
    "### 1.1 随机变量的定义"
   ]
  },
  {
   "cell_type": "markdown",
   "id": "de73d632",
   "metadata": {},
   "source": [
    "&emsp;&emsp;在上述第一类随机试验中，对每一个试验结果，**自然地** 对应着一个实数，而在第二类随机试验中这种对应关系是人为建立的，由此可见，无论是哪一种情形，所谓随机变量不过是试验结果，即样本点，和实数之间的一个对应关系，这与数学分析中熟知的 **函数** 概念本质上是一回事，只不过在函数中，函数 $f(x)$ 的自变量是实数 $x$，而在随机变量的概念中，随机变量 $\\xi(\\omega)$ 的自变量是样本点 $\\omega$. 因为对于每一个试验结果 $\\omega$，都有实数 $\\xi(\\omega)$ 与之对应，所以 $\\xi(\\omega)$ 的定义域是样本空间 $\\Omega$"
   ]
  },
  {
   "cell_type": "markdown",
   "id": "4ea3d203",
   "metadata": {},
   "source": [
    "<div class=\"alert alert-info\" role=\"alert\"><span class=\"label label-success\">定义 $2.1$</span> 在某一个随机试验 $E$ 中，若对于试验的每一种可能结果 $\\omega \\in \\Omega$，都有唯一的实数 $X = X(\\omega)$ 与之对应，则称这一变量函数 $X = X(\\omega)$ 为 <strong>随机变量 (Random Variable)</strong>, 通常用字母 $X,Y,Z,\\dots$ 等表示</div>\n",
    "\n",
    "&emsp;&emsp;随机变量具有以下特点\n",
    "- 它是一个变量，即随着试验结果的不同而取不同的值\n",
    "- 它具有随机性，即因试验结果的出现是 **随机** 的\n",
    "\n",
    "&emsp;&emsp;可见，随机变量是建立在随机试验基础上的一个概念，随机变量不是自变量而是函数，它的自变量是随机事件. 引入随机变量的目的是为了便于以数量形式全面地研究随机试验的全部结果的概率分布情况及其他的特征，所以要完全刻画随机变量，必须知道下面两个方面的问题 <br>\n",
    "- **取值范围**: 随机变量能取什么样的值\n",
    "- **概率分布**: 随机变量以多大的概率在任意指定范围内取值"
   ]
  },
  {
   "cell_type": "markdown",
   "id": "895202b4",
   "metadata": {},
   "source": [
    "### 1.2 随机变量的分类"
   ]
  },
  {
   "cell_type": "markdown",
   "id": "86403f71",
   "metadata": {},
   "source": [
    "&emsp;&emsp;随机变量按照可能取值的特点，可以分为 **离散型随机变量** 和 **非离散型随机变量** <br>\n",
    "\n",
    "- **离散型随机变量**: 所有可能取的值为有限个或可列无穷多个，即所有可能取的数值能按照一定顺序排列起来，其为数列 $\\{x_1,x_2,\\dots,x_n\\}$ <br><br>\n",
    "- **非离散型随机变量**: 随机变量的所有可能取值不能一一列举，若随机变量可能取某一区间上的所有的值，则称其为 **连续型随机变量**，是非离散型随机变量中最重要也是最常见的随机变量. 例如某学校随机地抽取一名学生测量他的身高.我们可以把可能的身高看成随机变量 $X$，然后可以提出关于 $X$ 取值的各种问题，如事件 <br><br>\n",
    "$\\qquad\\qquad\\qquad\\qquad\\qquad\\qquad\\qquad\\qquad$$X>1.7,\\; X<1.5,\\; 1.5<X<1.7,\\;\\dots$ <br><br>\n",
    "的概率，一旦选定了某个学生，其身高 $X$ 就确定了一个实数 $X$ "
   ]
  },
  {
   "cell_type": "markdown",
   "id": "1bf24d3a",
   "metadata": {},
   "source": [
    "---"
   ]
  },
  {
   "cell_type": "markdown",
   "id": "b6155727",
   "metadata": {},
   "source": [
    "## 第02节 离散型随机变量及其分布律"
   ]
  },
  {
   "cell_type": "markdown",
   "id": "42f7abfe",
   "metadata": {},
   "source": [
    "### 2.1 分布律"
   ]
  },
  {
   "cell_type": "markdown",
   "id": "3392cb31",
   "metadata": {},
   "source": [
    "&emsp;&emsp;对于离散型随机变量 $X$ 的统计规律，不仅要知道它的所有可能取值，而且要知道 $X$ 的所有可能取值以及取每一个值的概率\n",
    "\n",
    "<div class=\"alert alert-info\" role=\"alert\"><span class=\"label label-success\">定义 $2.2$</span> 若随机变量 $X$ 可在无穷可列个点 $\\{x_1,x_2,\\dots,x_k\\}$ 上取值，$X$ 取这些值的概率依次为 $\\{p_1,p_2,\\dots,p_k\\}$，则 <br><br>\n",
    "$\\qquad\\qquad\\qquad\\qquad\\qquad\\qquad\\qquad\\qquad$$P(X = x_k)= p_k \\qquad(k=1,2,\\dots)$ <br><br>\n",
    "称为离散型随机变量 $X$ 的 <strong>概率分布律</strong>，也称为 $X$ 的概率分布，简称 <strong>分布律 (Distribution Law)</strong></div>\n",
    "\n",
    "&emsp;&emsp;$X$ 的分布律也可以用表格形式给出\n",
    "\n",
    "|$X$|$x_1$|$x_2$|$\\dots$|$x_n$|$\\dots$|\n",
    "|:--:|:--:|:--:|:--:|:--:|:--:|\n",
    "|$P$|$p_1$|$p_2$|$\\dots$|$p_n$|$\\dots$|\n",
    "\n",
    "&emsp;&emsp;有了分布律，就可以清楚完整地知道离散型随机变量 $X$ 的一切可能取的数值及其相应的概率.它全面反映了随机变量 $X$ 所刻画的随机试验的统计规律性，由概率分布的定义，$p_k \\;(k=1,2,\\dots)$ 具有以下性质\n",
    "- **非负性**: $p_k \\ge 0 \\;(k=1,2,\\dots)$\n",
    "- **规范性**: $\\sum\\limits_k p_k = 1$"
   ]
  },
  {
   "cell_type": "markdown",
   "id": "5e42047f",
   "metadata": {},
   "source": [
    "<div class=\"alert alert-danger\" role=\"alert\"><span class=\"label label-warning\">例题</span> 重复独立地掷一枚硬币，直到出现正面向上为止，求抛掷次数 $X$ 的分布律 </div>\n",
    "\n",
    "&emsp;&emsp;设事件 $X=k$ 表示前 $k-1$ 次都是反面向上，而第 $k$ 次为正面向上，于是有 <br><br>\n",
    "$\\qquad\\qquad\\qquad\\qquad\\qquad\\qquad\\qquad\\qquad\\qquad\\qquad$$P(X=k)=(\\dfrac{1}{2})^{k-1}\\times (\\dfrac{1}{2}) = (\\dfrac{1}{2})^k$ <br><br>\n",
    "&emsp;&emsp;因此 $X$ 的分布律为 <br><br>\n",
    "$\\qquad\\qquad\\qquad\\qquad\\qquad\\qquad\\qquad\\qquad\\qquad\\qquad$$P(X=k)=(\\dfrac{1}{2})^k \\quad (k=1,2,\\dots)$ <br><br>"
   ]
  },
  {
   "cell_type": "markdown",
   "id": "52257cb0",
   "metadata": {},
   "source": [
    "<div class=\"alert alert-danger\" role=\"alert\"><span class=\"label label-warning\">例题</span> 设离散型随机变量 $X$ 的分布律为 $P(X=k) = \\dfrac{ak}{5}\\;(k=1,2,3,4,5)$，试确定常数 $a$ </div>\n",
    "\n",
    "&emsp;&emsp;由分布律的性质可知 <br><br>\n",
    "$\\qquad\\qquad\\qquad\\qquad\\qquad\\qquad\\qquad\\qquad$$\\sum\\limits^5_{k=1}\\dfrac{ak}{5} = \\dfrac{a}{5} + \\dfrac{2a}{5} + \\dfrac{3a}{5} + \\dfrac{4a}{5} + \\dfrac{5a}{5} = \\dfrac{15a}{5} = 3a = 1$ <br><br>\n",
    "$\\qquad\\qquad\\qquad\\qquad\\qquad\\qquad\\qquad\\qquad\\qquad\\qquad\\qquad\\qquad$$a=\\dfrac{1}{3}$"
   ]
  },
  {
   "cell_type": "markdown",
   "id": "03b04dc4",
   "metadata": {},
   "source": [
    "### 2.2 常见离散型随机变量的概率分布"
   ]
  },
  {
   "cell_type": "markdown",
   "id": "eb419038",
   "metadata": {},
   "source": [
    "#### 2.2.1 两点分布"
   ]
  },
  {
   "cell_type": "markdown",
   "id": "644cfd53",
   "metadata": {},
   "source": [
    "&emsp;&emsp;若随机变量 $X$ 只取 $0$ 和 $1$ 两个值，其分布律为 \n",
    "\n",
    "|$X$|$0$|$1$|\n",
    "|:--:|:--:|:--:|\n",
    "|$P$|$p$|$1-p$|\n",
    "\n",
    "$\\qquad\\qquad\\qquad\\qquad\\qquad\\qquad\\qquad\\qquad$$P(X=k) = p^k(1-p)^{1-k} \\qquad\\qquad 0<p<1, \\;k = 0,1$ <br><br>\n",
    "&emsp;&emsp;则称 $X$ 服从参数为 $P$ 的 **0-1分布** 或 **两点分布**，简记为 $X\\backsim B(1,p)$"
   ]
  },
  {
   "cell_type": "markdown",
   "id": "5ac83631",
   "metadata": {},
   "source": [
    "&emsp;&emsp;服从 $0-1$ 分布的随机变量很多，对于任何一个只有两个互斥的结果 $A$ 和 $\\bar{A}$ 的随机试验，便可在样本空间 $\\Omega = \\{A, \\bar{A}\\}$ 上定义一个服从 $0-1$ 分布的随机变量 $X$ <br><br>\n",
    "$\\qquad\\qquad\\qquad\\qquad\\qquad\\qquad\\qquad\\qquad\\qquad\\qquad\\qquad$$x = \\begin{cases}\n",
    "   1 &\\text{if } \\omega = A \\\\\n",
    "   0 &\\text{if } \\omega = \\bar{A}\n",
    "\\end{cases}$"
   ]
  },
  {
   "cell_type": "markdown",
   "id": "538d4fda",
   "metadata": {},
   "source": [
    "#### 2.2.2 二项分布"
   ]
  },
  {
   "cell_type": "markdown",
   "id": "27adca4a",
   "metadata": {},
   "source": [
    "&emsp;&emsp;若随机变量 $X$ 的分布律为 <br><br>\n",
    "$\\qquad\\qquad\\qquad\\qquad\\qquad\\qquad\\qquad\\qquad\\qquad\\qquad\\qquad$$P(X=k) = C^k_np^kq^{n-k}$ <br><br>\n",
    "&emsp;&emsp;其中，$0<p<1，p+q=l$，则称 $X$ 服从参数为 $(n,p)$ 的 **二项分布**，简记为 $X\\backsim B(n,p)$"
   ]
  },
  {
   "cell_type": "markdown",
   "id": "43a1f116",
   "metadata": {},
   "source": [
    "&emsp;&emsp;二项分布的实际背景是 **伯努利试验**，设在一次试验中，事件 $A$ 发生的概率是 $p\\;(0<p<1)$，那么在 $n$ 次独立试验中 $A$ 发生的次数 $X$ 就服从二项分布.显然当 $n=l$ 时，二项分布为 $P(X=k) = p^k(1-p)^{1-k},\\; k = 0,1$ 即为两点分布\n",
    "\n",
    "&emsp;&emsp;对二项分布的分布律进行求和可得 <br><br>\n",
    "$\\qquad\\qquad\\qquad\\qquad\\qquad\\qquad\\qquad\\qquad\\qquad$$\\sum\\limits^n_{k=0}P(X=k) = \\sum\\limits^n_{k=0}C^k_np^kq^{1-k} = (p+q)^n = 1$ <br><br>\n",
    "&emsp;&emsp;由 **二项式定理** 可知，$C^k_np^kq^{1-k}$ 恰好是 $(p+q)^n$ 展开式中的第 $k+1$ 项，二项分布由此得名"
   ]
  },
  {
   "cell_type": "markdown",
   "id": "c2850463",
   "metadata": {},
   "source": [
    "<div class=\"alert alert-danger\" role=\"alert\"><span class=\"label label-warning\">例题</span> 某经理有 $5$ 个顾问，假定每一名顾问提出正确意见的概率为 $0.6$，现为某事可行与否而独立地征求每一名顾问的意见，并按多数人的意见做出决策，求做出正确决策的概率 </div>\n",
    "\n",
    "&emsp;&emsp;设 $X$ 为贡献正确意见的人数，征求 $5$ 个人的意见为 $5$ 重伯努利试验，$X\\backsim B(5,0.6)$，多数为事件 $(X>3)$, 则 <br><br>\n",
    "$\\qquad\\qquad\\qquad\\qquad\\qquad\\qquad\\qquad\\qquad\\qquad$$P(X\\ge3) = \\sum\\limits^{5}_{k=3}C^k_5 0.6^k 0.4^{5-k} \\approx 0.68$"
   ]
  },
  {
   "cell_type": "markdown",
   "id": "3ef938cb",
   "metadata": {},
   "source": [
    "#### 2.2.3 几何分布"
   ]
  },
  {
   "cell_type": "markdown",
   "id": "1ad172d9",
   "metadata": {},
   "source": [
    "&emsp;&emsp;设随机变量 $X$ 的所有可能取值为 $1,2,3,\\dots$ 且它的分布律为 <br><br>\n",
    "$\\qquad\\qquad\\qquad\\qquad\\qquad\\qquad\\qquad\\qquad\\qquad\\qquad\\qquad$$P(X=k)=pq^{k-1}$ <br><br>\n",
    "&emsp;&emsp;其中，$q=1-p, \\;0<p<1$，则称 $X$ 服从参数为 $p$ 的 **几何分布**，简记为 $X\\backsim G(p)$\n",
    "\n",
    "> 一般在一次试验中，某事件出现的概率为已知数 $p$，则在重复独立试验中，考虑直到第一次发生该事件所需的试验次数 $X$ 是一个服从几何分布的随机变量"
   ]
  },
  {
   "cell_type": "markdown",
   "id": "9114e649",
   "metadata": {},
   "source": [
    "<div class=\"alert alert-danger\" role=\"alert\"><span class=\"label label-warning\">例题</span> 某人每次投篮投中的概率为 $0.1$，各次投篮的结果相互独立，求首次投中时投篮次数的分布律，以及 $5$ 次内投中的概率 </div>\n",
    "\n",
    "&emsp;&emsp;设首次投中时投篮次数为 $X$, 则 $X\\backsim G(0.1)$, $X$ 的分布律为 \n",
    "\n",
    "|$X$|$1$|$2$|$3$|$\\dots$|$k$|$\\dots$|\n",
    "|:--:|:--:|:--:|:--:|:--:|:--:|:--:|\n",
    "|$P$|$0.1$|$0.09$|$0.081$|$\\dots$|$0.9^{k-1}\\times 0.1$|$\\dots$|\n",
    "\n",
    "&emsp;&emsp;$5$ 次内投中的概率为 <br><br>\n",
    "$\\qquad\\qquad\\qquad\\qquad\\qquad\\qquad\\qquad\\qquad$$P(X\\le 5)＝ P(X=1) + P(X=2) + \\dots + P(X=5) \\approx 0.41$"
   ]
  },
  {
   "cell_type": "markdown",
   "id": "cc01c397",
   "metadata": {},
   "source": [
    "#### 2.2.4 超几何分布"
   ]
  },
  {
   "cell_type": "markdown",
   "id": "8561cd02",
   "metadata": {},
   "source": [
    "&emsp;&emsp;设集合 $A$ 包含 $N$ 个元素，子集 $B \\subseteq A$ 包含 $M$ 个元素 $(M \\le N)$，从 $A$ 中任取 $n$ 个元素其中恰有 $X$ 个元素属于子集 $B$，则事件 $P(X=k)$ 发生的概率为 <br><br>\n",
    "$\\qquad\\qquad\\qquad\\qquad\\qquad\\qquad\\qquad\\qquad$$P(X=k)=\\dfrac{C^k_M C^{n-k}_{N-M}}{C^n_N} \\qquad\\qquad k = 0,1,\\dots,m$ <br><br>\n",
    "&emsp;&emsp;其中，$m = \\min(M,n)$ 且 $n \\le N,\\;(n,M,N \\in \\mathbb{N}^*)$，称随机变量 $X$ 服从参数为 $(M,N,n)$ 的 **超几何分布**\n",
    "\n",
    "> 超几何分布的模型是不放回抽样, 当 $N \\rightarrow + \\infty$时，超几何分布的极限分布就是二项分布"
   ]
  },
  {
   "cell_type": "markdown",
   "id": "26fe2e12",
   "metadata": {},
   "source": [
    "<div class=\"alert alert-danger\" role=\"alert\"><span class=\"label label-warning\">例题</span> 从装有 $3$ 个红球，$2$ 个白球的袋中随机抽出 $2$ 个球，求取得红球个数 $X$ 的分布律 </div>\n",
    "\n",
    "&emsp;&emsp;$X$ 服从超几何分布，其中 $N=5, M=3, n=2$，则 $X$ 可能取值为 $0,1,2$，其分布律为 <br><br>\n",
    "$\\qquad\\qquad\\qquad\\qquad\\qquad\\qquad\\qquad\\qquad\\qquad$$P(X=k)=\\dfrac{C^k_3 C^{2-k}_2}{C^2_5} \\qquad\\qquad k = 0,1,2$ <br><br>\n",
    "\n",
    "|$X$|$1$|$2$|$3$|\n",
    "|:--:|:--:|:--:|:--:|\n",
    "|$P$|$\\dfrac{1}{10}$|$\\dfrac{3}{5}$|$\\dfrac{3}{10}$|"
   ]
  },
  {
   "cell_type": "markdown",
   "id": "af4fe72f",
   "metadata": {},
   "source": [
    "#### 2.2.5 泊松分布"
   ]
  },
  {
   "cell_type": "markdown",
   "id": "71269e2b",
   "metadata": {},
   "source": [
    "&emsp;&emsp;设离散型随机变量 $X$ 所有可能的取值为 $0,1,2,\\dots$，且它的分布律为<br><br>\n",
    "$\\qquad\\qquad\\qquad\\qquad\\qquad\\qquad\\qquad\\qquad$$P(X=k)=\\dfrac{\\lambda^k e^{-\\lambda}}{k!} \\qquad\\qquad k = 0,1,2,\\dots$ <br><br>\n",
    "&emsp;&emsp;其中，$\\lambda>0$，则称 $X$ 服从参数为 $\\lambda$ 的 **泊松分布**，简记为 $X\\backsim P(\\lambda)$"
   ]
  },
  {
   "cell_type": "markdown",
   "id": "114361a2",
   "metadata": {},
   "source": [
    "&emsp;&emsp;泊松分布是一种常见的分布，服从泊松分布的离散型随机变量很多，特别集中在社会生活和物理学领域，例如 <br><br>\n",
    "&emsp;&emsp;&emsp;&emsp;\"一段时间内来到某商店的顾客人数\" <br>\n",
    "&emsp;&emsp;&emsp;&emsp;\"一页书上印刷的错误数\" <br>\n",
    "&emsp;&emsp;&emsp;&emsp;\"田间一定面积内的杂草数\" <br>\n",
    "&emsp;&emsp;&emsp;&emsp;\"一定容积内的细菌数\" <br> \n",
    "&emsp;&emsp;&emsp;&emsp;\"一段时间内寻呼台接到的呼唤次数\"<br>\n",
    "&emsp;&emsp;&emsp;&emsp;$\\dots$ <br><br>\n",
    "&emsp;&emsp;一般都服从泊松分布，其计算除直接用公式外，还可以查下列的 **泊松分布表**"
   ]
  },
  {
   "cell_type": "markdown",
   "id": "056a1f8b",
   "metadata": {},
   "source": [
    "|$k$|$\\lambda=0.2$|$\\lambda=0.3$|$\\lambda=0.4$|$\\lambda=0.5$|$\\lambda=0.6$|$\\lambda=0.7$|$\\lambda=0.8$|$\\lambda=0.9$|$\\lambda=1.0$|$\\lambda=1.2$|$\\lambda=1.4$|$\\lambda=1.6$|$\\lambda=1.8$|$\\lambda=2.0$|\n",
    "|:-:|:-:|:-:|:-:|:-:|:-:|:-:|:-:|:-:|:-:|:-:|:-:|:-:|:-:|:-:|\n",
    "|$0$|$1.0000$|$1.0000$|$1.0000$|$1.0000$|$1.0000$|$1.0000$|$1.0000$|$1.0000$|$1.0000$|$1.0000$|$1.0000$|$1.0000$|$1.0000$|$1.0000$|\n",
    "|$1$|$0.1812$|$0.2591$|$0.3297$|$0.3935$|$0.4512$|$0.5034$|$0.5507$|$0.5934$|$0.6321$|$0.6988$|$0.7534$|$0.7981$|$0.8347$|$0.8647$|\n",
    "|$2$|$0.0175$|$0.0370$|$0.0616$|$0.0902$|$0.1220$|$0.1558$|$0.1912$|$0.2275$|$0.2642$|$0.3374$|$0.4082$|$0.4751$|$0.5372$|$0.5940$|\n",
    "|$3$|$0.0011$|$0.0036$|$0.0080$|$0.0144$|$0.0231$|$0.0341$|$0.0474$|$0.0629$|$0.0803$|$0.1205$|$0.1665$|$0.2166$|$0.2694$|$0.3233$|\n",
    "|$4$|$0.0001$|$0.0003$|$0.0008$|$0.0018$|$0.0034$|$0.0058$|$0.0091$|$0.0135$|$0.0190$|$0.0338$|$0.0537$|$0.0778$|$0.1087$|$0.1429$|\n",
    "|$5$|||$0.0001$|$0.0002$|$0.0004$|$0.0008$|$0.0014$|$0.0023$|$0.0037$|$0.0077$|$0.0143$|$0.0237$|$0.0364$|$0.0527$|\n",
    "|$6$||||||$0.0001$|$0.0002$|$0.0003$|$0.0006$|$0.0015$|$0.0032$|$0.0060$|$0.0104$|$0.0166$|\n",
    "|$7$|||||||||$0.0001$|$0.0002$|$0.0006$|$0.0013$|$0.0026$|$0.0045$|\n",
    "|$8$|||||||||||$0.0001$|$0.0003$|$0.0006$|$0.0011$|\n",
    "|$9$|||||||||||||$0.0001$|$0.0002$|"
   ]
  },
  {
   "cell_type": "markdown",
   "id": "d17e6661",
   "metadata": {},
   "source": [
    "&emsp;&emsp;泊松分布是可以作为 **二项分布的近似**\n",
    "\n",
    "<div class=\"alert alert-info\" role=\"alert\"><span class=\"label label-success\">泊松定理</span> 对二项分布 $X\\backsim B(n,p)$，当 $n$ 充分大，$p$ 充分小，且 $np$ 大小适中时，$X$ 取任意固定的非负整数 $k$，有近似公式 $\\lambda = np$ <br><br>\n",
    "$\\qquad\\qquad\\qquad\\qquad\\qquad\\qquad\\qquad\\qquad\\qquad\\qquad$$\\lim\\limits^{}_{n\\rightarrow \\infty}C^k_n p^k_n q^{n-k}_n \\approx \\dfrac{\\lambda^k e^{-\\lambda}}{k!}$ </div>\n",
    "\n",
    "&emsp;&emsp;上面的定理指出了以 $n,p(np = \\lambda)$ 为参数的二项分布，当 $n \\rightarrow \\infty$ 时，趋于以 $\\lambda$ 为参数的泊松分布．这一事实显示了泊松分布在理论上的重要性在实际计算中，当 $n \\ge 20, \\; p \\le 0.05$ 时，用泊松分布近似二项分布的效果很好"
   ]
  },
  {
   "cell_type": "markdown",
   "id": "89cce396",
   "metadata": {},
   "source": [
    "<div class=\"alert alert-danger\" role=\"alert\"><span class=\"label label-warning\">例题</span> 某人射击的命中率为 $0.02$，独立射击 $400$ 次，求其命中次数不少于 $2$ 的概率 </div>\n",
    "\n",
    "&emsp;&emsp;设 $X$ 为 $400$ 次独立射击命中的次数，则 $X\\backsim B(400,0.02)$ <br><br>\n",
    "$\\qquad\\qquad\\qquad\\qquad\\qquad\\qquad\\qquad$$\\begin{aligned}P(X\\ge 2) &=1 - P(X=0) - P(x=1) = 1 - 0.98^{400} - C^1_{400} 0.02 \\times 0.98^{399}\\\\&\\approx 1 - \\dfrac{8^0e^{-8}}{0!} - \\dfrac{8^1e^{-8}}{1!} = 1-(1+8)e^{-8}\\\\&\\approx 0.997\\end{aligned}$ <br><br>\n"
   ]
  },
  {
   "cell_type": "markdown",
   "id": "2575c8a0",
   "metadata": {},
   "source": [
    "## 第03节 随机变量的分布函数"
   ]
  },
  {
   "cell_type": "markdown",
   "id": "1b8039b0",
   "metadata": {},
   "source": [
    "### 3.1 分布函数的概念"
   ]
  },
  {
   "cell_type": "markdown",
   "id": "0c3b2035",
   "metadata": {},
   "source": [
    "&emsp;&emsp;对于离散型随机变量，根据分布律就可以把随机变量的取值与取值的概率描述得非常清楚，但对于非离散型随机变量 $X$，由于其可能的取值不能一个一个地列举出来，因而就不能像离散型随机变量那样用分布律来描述，例如测试灯泡寿命$X$，$X$ 的取值为 $[0,+\\infty]$，由于任意两个实数之间都有无穷多个实数，无法使用分布律的形式描述 $X$ 取值的概率\n",
    "\n",
    "&emsp;&emsp;对这类随机变量，取值为一个数的概率是多少意义并不大，相反更在意取值在 **某个区间** 的概率，如灯泡寿命在 $1000h$ 到 $1500h$ 的概率，即 $P(1000<X\\le 1500)$，如果已知 $P(X\\le 1500)$ 与 $P(X\\le 1000)$，上述概率即为 <br><br>\n",
    "$\\qquad\\qquad\\qquad\\qquad\\qquad\\qquad\\qquad\\quad$$P(1000<X\\le 1500) = P(X\\le 1500) - P(X\\le 1000)$"
   ]
  },
  {
   "cell_type": "markdown",
   "id": "411a661e",
   "metadata": {},
   "source": [
    "<div class=\"alert alert-info\" role=\"alert\"><span class=\"label label-success\">定义 $2.3$</span> 设 $X$ 是一个随机变量，$x$ 是任意实数，函数 $F(x) = P(X\\le x) \\;\\; (-\\infty<x<+\\infty)$ 为随机变量 $X$ 的 <strong>概率分布函数</strong>，简称为<strong>分布函数 (Distribution Function)</strong> 或 <strong>分布</strong></div>\n",
    "\n",
    "&emsp;&emsp;若把 $X$ 看作是数轴上的随机点的坐标，则分布函数 $F(X)$ 在 $x$ 处的函数值就表示 $X$ 落在区间 $(－\\infty,x\\rbrack$ 上的概率．使用分布函数，对于任意的实数 $x_1,x_2 (x_1<x_2)$，随机变量 $X$ 落在区间 $(x_1,x_2\\rbrack$ 上的概率可以用分布函数来计算 <br><br>\n",
    "$\\qquad\\qquad\\qquad\\qquad\\qquad\\qquad\\qquad$$P(x_1<X\\le x_2) = P(x\\le x_2) - P(x\\le x_1) = F(x_2) - F(x_1)$\n",
    "\n",
    "&emsp;&emsp;分布函数完整地描述了随机变量的统计规律性，或者说完整地表示了随机变量的概率分布情况，这表明随机变量 $X$ 在任一区间 $(a,b\\rbrack$ 上取值的概率等于 $X$ 的分布函数在该区间上的 **增量**，由于分布函数 $F(x)$ 是一个普通的函数，可以用数学分析的工具来研究随机变量的统计特性"
   ]
  },
  {
   "cell_type": "markdown",
   "id": "e22292a5",
   "metadata": {},
   "source": [
    "### 3.2  分布函数的性质"
   ]
  },
  {
   "cell_type": "markdown",
   "id": "63e2d5d4",
   "metadata": {},
   "source": [
    "&emsp;&emsp;设 $F(x)$ 为随机变量 $X$ 的分布函数，则 $F(x)$ 有下列性质\n",
    "- **单调性** <br><br> \n",
    "$\\qquad\\qquad\\qquad\\qquad\\qquad\\qquad\\qquad\\qquad\\qquad$若 $x_1<x_2$，则 $F(x_1) \\le F(x_2)$ <br><br>\n",
    "- **有界性** <br><br>\n",
    "$\\qquad\\qquad\\qquad\\qquad\\qquad\\qquad\\qquad$$F(-\\infty) = \\lim\\limits^{}_{x \\to -\\infty}F(x) = 0,\\;F(+\\infty) = \\lim\\limits^{}_{x \\to +\\infty}F(x) = 1$\n",
    "- **右连续性** <br><br>\n",
    "$\\qquad\\qquad\\qquad\\qquad\\qquad\\qquad\\qquad\\qquad\\qquad\\qquad$$F(x+0) = F(x)$\n",
    "\n",
    "&emsp;&emsp;具有上述三个性质的实函数，必是某个随机变量的分布函数，故该三个性质是分布函数的充分必要条件"
   ]
  },
  {
   "cell_type": "markdown",
   "id": "86f09a84",
   "metadata": {},
   "source": [
    "<div class=\"alert alert-danger\" role=\"alert\"><span class=\"label label-warning\">例题</span> 设 $X$ 的分布函数为 $F(x) = a+b\\arctan(x)\\;\\;(-\\infty<x<+\\infty)$，试求 $(1)$ 系数 $a,b; \\;\\; (2)P(-1<X\\le\\sqrt{3});$</div>\n",
    "\n",
    "&emsp;&emsp;$(1)\\;$$x = \\begin{cases}\\lim\\limits^{}_{x\\to -\\infty} F(x) = 0\\\\ \\lim\\limits^{}_{x\\to +\\infty} F(x) = 1\\end{cases} \\qquad \\rightarrow \\qquad \\begin{cases}a - \\dfrac{\\pi}{2}b = 0\\\\ a + \\dfrac{\\pi}{2}b = 1\\end{cases} \\qquad \\rightarrow \\qquad a = \\dfrac{1}{2}，b = \\dfrac{1}{\\pi}$\n",
    "\n",
    "&emsp;&emsp;$(2)\\;$根据 $F(x) = \\dfrac{1}{2}+\\dfrac{1}{\\pi}\\arctan{x}$，得 <br><br>\n",
    "$\\qquad\\qquad\\qquad\\qquad\\qquad\\qquad\\qquad$$\\begin{aligned} P(-1<X\\le \\sqrt{3}) &= F(\\sqrt{3})-F(-1) \\\\ &=(\\dfrac{1}{2}+\\dfrac{1}{\\pi}\\arctan{\\sqrt{3}}) - [\\dfrac{1}{2}+\\dfrac{1}{\\pi}\\arctan{-1}] \\\\ &=\\dfrac{1}{\\pi}(\\dfrac{\\pi}{3} + \\dfrac{\\pi}{4}) = \\dfrac{7}{12}\\end{aligned}$\n"
   ]
  },
  {
   "cell_type": "markdown",
   "id": "bfe7a19c",
   "metadata": {},
   "source": [
    "---"
   ]
  },
  {
   "cell_type": "markdown",
   "id": "1a180133",
   "metadata": {},
   "source": [
    "## 第04节 连续型随机变量及其概率密度"
   ]
  },
  {
   "cell_type": "markdown",
   "id": "00903528",
   "metadata": {},
   "source": [
    "### 4.1 概率密度的概念"
   ]
  },
  {
   "cell_type": "markdown",
   "id": "fc4d38b6",
   "metadata": {},
   "source": [
    "&emsp;&emsp;连续型随机变量 $X$ 可以取某一区间上的所有值，这时考虑 $X$ 取某个值的概率往往意义不大，而是考察 $X$ 在此区间上的某一个子区间上取值的概率.例如，打靶时，我们并不想知道某个射手击中靶上某一点的概率，而是希望知道他击中某一环的概率. 若把着弹点和靶心的距离看成随机变量 $X$，则击中某一环即表示 $X$ 在此环所对应的区间内取值，所讨论的问题就成了讨论概率 $P(a< X \\le b)$ 的问题\n",
    "\n",
    "> 事实上分布函数 $F(X)$ 在 $(-\\infty,+\\infty)$ 上是一个非降有界的连续函数，$0\\le P(X=x_0) \\le P(X = x_0 - \\Delta_x) = F(x_0) - F(x_0 - \\Delta_x)$，令 $\\Delta_x \\to 0$，因为 $F(X)$ 为连续函数，即 $P(X=x_0) = 0$, 它在任一点的概率都为零\n",
    "\n",
    "&emsp;&emsp;因此对于这样的随机变量，讨论它取某一个特定值的概率没有意义，相反，比例系数反映了概率分布在区间 $(-\\infty,+\\infty)$ 上任意一个子区间 $(a,b)$ 上的密集程度，记作 $f(x)$，且分布函数 $F(X)$ 是非负函数 $f(x)$ 在 $(-\\infty,x\\rbrack$ 上的 **广义积分**，即<br><br>\n",
    "$\\qquad\\qquad\\qquad\\qquad\\qquad\\qquad\\qquad\\qquad\\qquad\\qquad\\qquad$$F(X) = \\int^x_{-\\infty}f(t) dt$ <br><br>\n",
    "&emsp;&emsp;具有上例特征的随机变量是不同于离散型随机变量的常见的另一类随机变量，这类随机变量的取值充满一个区间，在这个区间内有无穷不可列个实数无法一一排列出，因此这类随机变量的概率分布不能再用分布律来描述"
   ]
  },
  {
   "cell_type": "markdown",
   "id": "f1568e0d",
   "metadata": {},
   "source": [
    "### 4.2 概率密度的性质"
   ]
  },
  {
   "cell_type": "markdown",
   "id": "38ba3936",
   "metadata": {},
   "source": [
    "<div class=\"alert alert-info\" role=\"alert\"><span class=\"label label-success\">定义 $2.4$</span> 对于随机变量 $X$ 的分布函数 $F(x)$，若存在非负函数 $f(x)$，使得对于任意实数 $F(x) = \\int^{x}_{-\\infty}f(t) dt$，则称 $X$ 为连续型随机变量，称 $f(x)$ 为 $X$ 的 <strong>概率密度函数 (Probability Density Function)</strong>，简称 <strong>概率密度</strong></div>\n",
    "\n",
    "&emsp;&emsp;概率密度函数 $f(x)$ 具有以下性质\n",
    "- $f(x) \\ge 0$\n",
    "- $\\int\\limits^{+\\infty}_{-\\infty}f(x)dx = 1$\n",
    "- 对于任意实数区间 $(a,b\\rbrack,\\; P(a<X\\le b)=F(b)-F(a)=\\int\\limits^b_a f(x) dx$\n",
    "- 在 $f(x)$ 的连续点 $x$ 处，$F'(x) = f(x)$\n",
    "\n",
    "$\\qquad\\qquad\\qquad\\qquad\\qquad\\qquad\\qquad\\qquad\\qquad\\qquad\\qquad\\qquad\\qquad\\downarrow$\n",
    "- 连续型随机变量 $X$ 的分布函数 $F(x)$ **处处连续** <br><br>\n",
    "- 对于连续型随机变量 $X$ 而言，它取任一指定实数 $a$ 的概率为 $\\mathbf{0}$，即 $P(X=a)=0$ <br>\n",
    "  这一特性应当理解为是连续型随机变量固有的特性.由此可见，$P(A) = 0$ 不能推岀 $A = \\emptyset$，连续型随机变量 $X$ 在任一区间上取值的概率\n",
    "与是否包含区间端点无关，即 <br>\n",
    "$\\qquad\\qquad\\qquad\\qquad\\qquad\\qquad$$\\begin{aligned}P(a<X<b) &= P(a\\le X<b) = P(a \\le X \\le b ) = P(a<X\\le b)\\\\&=\\int\\limits^a_b f(x)dx \\end{aligned}$ <br><br>\n",
    "\n",
    "- 连续型随机变量 $X$ 落人微小区间 $(x,x+dx)$ 内的概率为 $P(x \\le X \\le x+dx) \\approx f(x) dx$，称 $f(x)dx$ 为连续型随机变量 $X$ 的概率元，它起着离散型随机变量分布律中 $p_k$ 的作用 <br><br>\n",
    "- 概率密度 $f(x)$ 在某一点处的值，并不表示 $X$ 在此处的概率，而表示 $X$ 在此点处概率分布的密集程度\n",
    "\n",
    "![image-20220624142508415](https://s2.loli.net/2022/06/24/hUPZvKxbwQHuEi9.png)\n",
    "\n",
    "> 由定积分的几何意义可知，连续型随机变量在某一区间 $(a，6\\rbrack$ 上取值的概率 $P(a<X\\le b)$ 等于其概率密度 $f(x)$ 在该区间上的定积分，也就是该区间上密度曲线与 $x$ 轴所围成的曲边梯形的面积 <br>\n",
    "由上述可知，若已知连续型随机变量 $X$ 的概率密度，则 $X$ 在任一区间上取值的概率皆可通过定积分求出，因此概率密度全面地描述了连续型随机变量的统计规律，求某个连续型随机变量的概率分布，指的就是它的概率密度"
   ]
  },
  {
   "cell_type": "markdown",
   "id": "4ac651a1",
   "metadata": {},
   "source": [
    "### 4.3  连续型随机变量的分布函数"
   ]
  },
  {
   "cell_type": "markdown",
   "id": "a525e896",
   "metadata": {},
   "source": [
    "#### 4.3.1 均匀分布"
   ]
  },
  {
   "cell_type": "markdown",
   "id": "7b6bb10f",
   "metadata": {},
   "source": [
    "&emsp;&emsp;如果连续型随机变量 $X$ 在有限区间 $[a,b]$ 上取值，且其概率密度函数为 <br><br>\n",
    "$\\qquad\\qquad\\qquad\\qquad\\qquad\\qquad\\qquad\\qquad\\qquad\\qquad$$f(x) = \\begin{cases} \\dfrac{1}{b-a}, &a\\le x \\le b \\\\ \\\\0, &else \\end{cases}$ <br><br>\n",
    "&emsp;&emsp;则称 $X$ 在区间 $[a,b]$ 上服从 **均匀分布 (Uniform Distribution)**，记为 $X\\backsim U[a,b]$，$X$ 的分布函数为 <br><br>\n",
    "$\\qquad\\qquad\\qquad\\qquad\\qquad\\qquad\\qquad\\qquad\\qquad\\qquad$$F(x) = \\begin{cases} 0, &x<a \\\\ \\\\ \\dfrac{x-a}{b-a}, &a\\le x \\le b \\\\ \\\\ 1 &x > b\\end{cases}$ <br><br>"
   ]
  },
  {
   "cell_type": "markdown",
   "id": "097302f2",
   "metadata": {},
   "source": [
    "![uniform](https://s2.loli.net/2022/06/24/JLSnCgKQVNo1YM6.png)\n",
    "\n",
    "&emsp;&emsp;对于任意满足 $a \\le c < d \\le b$ 的 $c,d$，有 <br><br>\n",
    "$\\qquad\\qquad\\qquad\\qquad\\qquad\\qquad\\qquad\\qquad\\qquad$$P(c<X<d) = \\int\\limits^d_c \\dfrac{1}{b-a} dx = \\dfrac{d-c}{b-a}$ <br><br>\n",
    "&emsp;&emsp;表明，$X$ 取值于 $[a,b]$ 内任一子区间的概率仅与该区间的长度有关，而与该区间的位置无关"
   ]
  },
  {
   "cell_type": "markdown",
   "id": "4793410c",
   "metadata": {},
   "source": [
    "<div class=\"alert alert-danger\" role=\"alert\"><span class=\"label label-warning\">例题</span> 设在某段时间内的任一时刻乘客来到公共汽车站是等可能的，车站每隔 $8min$ 发一趟车，用 $X$ 表示某乘客的候车时间，$(1)$ 候车时间 $X$ 的概率密度; $\\;\\; (2)$ 该乘客候车时间在 $5min$ 以内的概率;</div>\n",
    "\n",
    "&emsp;&emsp;$(1)$ 依题意 $X \\backsim U[a,b]$，其概率密度函数为 $f(x) = \\begin{cases} \\dfrac{1}{8} &0<x<8 \\\\\\\\ 0,&else\\end{cases}$\n",
    "\n",
    "&emsp;&emsp;$(2)$ $P(0<X<5) = \\int\\limits^5_0 \\dfrac{1}{8} dx = \\dfrac{5}{8}$"
   ]
  },
  {
   "cell_type": "markdown",
   "id": "c19eb5b3",
   "metadata": {},
   "source": [
    "#### 4.3.2 指数分布"
   ]
  },
  {
   "cell_type": "markdown",
   "id": "f1d84441",
   "metadata": {},
   "source": [
    "&emsp;&emsp;如果连续型随机变量 $X$ 的概率密度函数为 <br><br>\n",
    "$\\qquad\\qquad\\qquad\\qquad\\qquad\\qquad\\qquad\\qquad\\qquad\\qquad$$f(x) = \\begin{cases} \\lambda e^{-\\lambda x}, &x \\ge 0 \\\\ \\\\0, &x<0 \\end{cases}$ <br><br>\n",
    "&emsp;&emsp;其中，$\\lambda > 0 $ 为常数，则称 $X$ 服从参数为 $\\lambda$ 的 **指数分布 (Exponential distribution)**，记为 $X \\backsim E(\\lambda)$，$X$ 的分布函数为 <br><br>\n",
    "$\\qquad\\qquad\\qquad\\qquad\\qquad\\qquad\\qquad\\qquad\\qquad\\qquad$$F(x) = \\begin{cases} 1- e^{-\\lambda x}, &x \\ge 0 \\\\ \\\\0, &x<0 \\end{cases}$ <br><br>"
   ]
  },
  {
   "attachments": {
    "1656055817878.png": {
     "image/png": "[encoded data removed]"
    }
   },
   "cell_type": "markdown",
   "id": "ab481659",
   "metadata": {},
   "source": [
    "![1656055817878.png](attachment:1656055817878.png)\n",
    "\n",
    "> 指数分布有着重要的应用，一般常用它来作为各种“寿命”分布的近似，例如电路中保险丝的寿命、电子元件的寿命、电话通话时间、随机服务系统的服务时间等，常认为服从指数分布"
   ]
  },
  {
   "cell_type": "markdown",
   "id": "63f5a7c0",
   "metadata": {},
   "source": [
    "<div class=\"alert alert-danger\" role=\"alert\"><span class=\"label label-warning\">例题</span> 已知某种电子管的寿命 $X$ 服从指数分布，其概率密度为 $f(x) = \\begin{cases} \\dfrac{1}{1000}e^{-\\dfrac{x}{1000}} &x>0 \\\\\\\\ 0 &x\\le 0 \\end{cases}$，求这种电子管能使用 $1000h$ 以上的概率</div>\n",
    "\n",
    "&emsp;&emsp;依题意，$P(X \\ge 1000) = \\int\\limits^{+\\infty}_{1000} \\dfrac{1}{1000}e^{-\\dfrac{x}{1000}} dx = e^{-1}\\approx 0.368$"
   ]
  },
  {
   "cell_type": "markdown",
   "id": "e361d292",
   "metadata": {},
   "source": [
    "#### 4.3.3 正态分布"
   ]
  },
  {
   "cell_type": "markdown",
   "id": "e00fe947",
   "metadata": {},
   "source": [
    "&emsp;&emsp;如果连续型随机变量 $X$ 的概率密度函数为 <br><br>\n",
    "$\\qquad\\qquad\\qquad\\qquad\\qquad\\qquad\\qquad\\qquad\\qquad\\qquad$$f(x) = \\dfrac{1}{\\sqrt{2\\pi}\\sigma} e ^{-\\dfrac{(x-\\mu)^2}{2\\sigma^2}}$ <br><br>\n",
    "&emsp;&emsp;其中，$\\mu,\\sigma$ 为常数，$\\sigma>0$，则称 $X$ 服从参数为 $\\mu,\\sigma$ 的 **正态分布 (Normal distribution)** 或 **高斯分布**，记为 $X\\backsim N(\\mu,\\sigma^2)$"
   ]
  },
  {
   "cell_type": "markdown",
   "id": "00d47131",
   "metadata": {},
   "source": [
    "![image-20220624155626739](https://s2.loli.net/2022/06/24/AH8j2cyfrqt3PWm.png)\n",
    "\n",
    "&emsp;&emsp;正态分布的概率密度函数具有如下性质\n",
    "- $f(x)$ 在 $(-\\infty,+\\infty)$ 内处处连续\n",
    "- $f(x)$ 为偶函数，密度曲线关于直线 $x = \\mu$ 对称\n",
    "- 在 $(-\\infty,\\mu)$ 内单调递增，在 $(\\mu,+\\infty)$ 内单调递减，在 $x=\\mu$ 处达到最大值 $\\dfrac{1}{\\sqrt{2\\pi}\\sigma}$，在 $x = \\mu \\pm \\sigma$，曲线有 **拐点** <br><br>\n",
    "- 正态分布的密度曲线称为 **正态曲线**\n",
    "- $x$ 轴为曲线的水平渐近线\n",
    "- $\\mu$ 影响曲线在坐标系中的位置，称 $\\mu$ 为 **位置参数**\n",
    "- $\\sigma$ 影响曲线的形状，当 $\\sigma$ 较大时，曲线较平坦，当 $\\sigma$ 较小时，曲线较陡峭，称 $\\sigma$ 为 **形状参数**"
   ]
  },
  {
   "cell_type": "markdown",
   "id": "e382eeed",
   "metadata": {},
   "source": [
    "&emsp;&emsp;特别地，当 $\\mu=0,\\sigma=1$ 时，称 $X$ 服从 **标准正态分布**，记为 $X\\backsim N(0,1)$，其概率密度函数和分布函数分别用 $\\varphi(x)$ 和 $\\Phi(x)$ 表示\n",
    "\n",
    "![image-20220624200435308](https://s2.loli.net/2022/06/24/LM4IspbWeatJTqR.png)\n",
    "\n",
    "$\\qquad\\qquad\\qquad\\qquad\\qquad\\qquad\\qquad\\qquad\\qquad$$\\varphi(x) = \\dfrac{1}{\\sqrt{2\\pi}}e^{-\\dfrac{x^2}{2}} \\quad (-\\infty<x<+\\infty)$ <br>\n",
    "$\\qquad\\qquad\\qquad\\qquad\\qquad\\qquad\\qquad\\qquad\\qquad\\qquad$$\\Phi(x) = \\dfrac{1}{\\sqrt{2\\pi}}\\int\\limits^x_{-\\infty}e^{-\\dfrac{x^2}{2}}$ <br>"
   ]
  },
  {
   "cell_type": "markdown",
   "id": "298ec6d0",
   "metadata": {},
   "source": [
    "&emsp;&emsp;正态分布是概率论中 **最重要** 的分布，它表现在以下几个方面\n",
    "- 正态分布是最常见的分布，例如人的身高、体重，测量的误差，某种型号零件的直径等都近似服从正态分布\n",
    "- 正态分布有许多优良的性质，许多分布在一定的条件下可用正态分布来近似，如二项分布\n",
    "- 若影响某一数量指标的随机因素很多，而每个因素所起的作用均不太大，则这个指标近似地服从正态分布\n",
    "- 许多在数理统计中有着重要应用的分布均可由正态分布衍生出来"
   ]
  },
  {
   "cell_type": "markdown",
   "id": "6d5f6566",
   "metadata": {},
   "source": [
    "&emsp;&emsp;由于标准正态分布的概率密度 $\\varphi(x)$ 的原函数不是初等函数，计算其分布函数 $\\Phi(x)$ 的值是困难的，因此编制了 $\\Phi(x)$ 的函数值表，称为 **正态分布表**\n",
    "\n",
    "| $z$ | $0$ | $1$ | $2$ | $3$ | $4$ | $5$ | $6$ | $7$ | $8$ | $9$ |\n",
    "| :-: | :-: | :-: | :-: | :-: | :-: | :-: | :-: | :-: | :-: | :-: |\n",
    "| $0.0$ | $0.5000$ | $0.5040$ | $0.5080$ | $0.5120$ | $0.5160$ | $0.5199$ | $0.5239$ | $0.5279$ | $0.5319$ | $0.5359$ |\n",
    "| $0.1$ | $0.5398$ | $0.5438$ | $0.5478$ | $0.5517$ | $0.5557$ | $0.5596$ | $0.5636$ | $0.5675$ | $0.5714$ | $0.5753$ |\n",
    "| $0.2$ | $0.5793$ | $0.5832$ | $0.5871$ | $0.5910$ | $0.5948$ | $0.5987$ | $0.6026$ | $0.6064$ | $0.6103$ | $0.6141$ |\n",
    "| $0.3$ | $0.6179$ | $0.6217$ | $0.6255$ | $0.6293$ | $0.6331$ | $0.6368$ | $0.6406$ | $0.6443$ | $0.6480$ | $0.6517$ |\n",
    "| $0.4$ | $0.6554$ | $0.6591$ | $0.6628$ | $0.6664$ | $0.6700$ | $0.6736$ | $0.6772$ | $0.6808$ | $0.6844$ | $0.6879$ |\n",
    "| $0.5$ | $0.6915$ | $0.6950$ | $0.6985$ | $0.7019$ | $0.7054$ | $0.7088$ | $0.7123$ | $0.7157$ | $0.7190$ | $0.7224$ |\n",
    "| $0.6$ | $0.7257$ | $0.7291$ | $0.7324$ | $0.7357$ | $0.7389$ | $0.7422$ | $0.7454$ | $0.7486$ | $0.7517$ | $0.7549$ |\n",
    "| $0.7$ | $0.7580$ | $0.7611$ | $0.7642$ | $0.7673$ | $0.7703$ | $0.7734$ | $0.7764$ | $0.7794$ | $0.7823$ | $0.7852$ |\n",
    "| $0.8$ | $0.7881$ | $0.7910$ | $0.7939$ | $0.7967$ | $0.7995$ | $0.8023$ | $0.8051$ | $0.8078$ | $0.8106$ | $0.8133$ |\n",
    "| $0.9$ | $0.8159$ | $0.8186$ | $0.8212$ | $0.8238$ | $0.8264$ | $0.8289$ | $0.8315$ | $0.8340$ | $0.8365$ | $0.8389$ |\n",
    "| $1.0$ | $0.8413$ | $0.8438$ | $0.8461$ | $0.8485$ | $0.8508$ | $0.8531$ | $0.8554$ | $0.8577$ | $0.8599$ | $0.8621$ |\n",
    "| $1.1$ | $0.8643$ | $0.8665$ | $0.8686$ | $0.8708$ | $0.8729$ | $0.8749$ | $0.8770$ | $0.8790$ | $0.8810$ | $0.8830$ | \n",
    "| $1.2$ | $0.8849$ | $0.8869$ | $0.8888$ | $0.8907$ | $0.8925$ | $0.8944$ | $0.8962$ | $0.8980$ | $0.8997$ | $0.9015$ |\n",
    "| $1.3$ | $0.9032$ | $0.9049$ | $0.9066$ | $0.9082$ | $0.9099$ | $0.9115$ | $0.9131$ | $0.9147$ | $0.9162$ | $0.9177$ |\n",
    "| $1.4$ | $0.9192$ | $0.9207$ | $0.9222$ | $0.9236$ | $0.9251$ | $0.9265$ | $0.9278$ | $0.9292$ | $0.9306$ | $0.9319$ |\n",
    "| $1.5$ | $0.9332$ | $0.9345$ | $0.9357$ | $0.9370$ | $0.9382$ | $0.9394$ | $0.9406$ | $0.9418$ | $0.9430$ | $0.9441$ |\n",
    "| $1.6$ | $0.9452$ | $0.9463$ | $0.9474$ | $0.9484$ | $0.9495$ | $0.9505$ | $0.9515$ | $0.9525$ | $0.9535$ | $0.9545$ |\n",
    "| $1.7$ | $0.9554$ | $0.9564$ | $0.9573$ | $0.9582$ | $0.9591$ | $0.9599$ | $0.9608$ | $0.9616$ | $0.9625$ | $0.9633$ |\n",
    "| $1.8$ | $0.9641$ | $0.9648$ | $0.9656$ | $0.9664$ | $0.9671$ | $0.9678$ | $0.9686$ | $0.9693$ | $0.9700$ | $0.9706$ |\n",
    "| $1.9$ | $0.9713$ | $0.9710$ | $0.9726$ | $0.9732$ | $0.9738$ | $0.9744$ | $0.9750$ | $0.9756$ | $0.9762$ | $0.9767$ |\n",
    "| $2.0$ | $0.9772$ | $0.9778$ | $0.9783$ | $0.9788$ | $0.9793$ | $0.9798$ | $0.9803$ | $0.9808$ | $0.9812$ | $0.9817$ |\n",
    "| $2.1$ | $0.9821$ | $0.9826$ | $0.9830$ | $0.9834$ | $0.9838$ | $0.9842$ | $0.9846$ | $0.9850$ | $0.9854$ | $0.9857$ |\n",
    "| $2.2$ | $0.9861$ | $0.9864$ | $0.9868$ | $0.9871$ | $0.9874$ | $0.9878$ | $0.9881$ | $0.9884$ | $0.9887$ | $0.9890$ |\n",
    "| $2.3$ | $0.9893$ | $0.9896$ | $0.9898$ | $0.9901$ | $0.9904$ | $0.9906$ | $0.9909$ | $0.9911$ | $0.9913$ | $0.9916$ |\n",
    "| $2.4$ | $0.9918$ | $0.9920$ | $0.9922$ | $0.9925$ | $0.9927$ | $0.9929$ | $0.9931$ | $0.9932$ | $0.9934$ | $0.9935$ |\n",
    "| $2.5$ | $0.9938$ | $0.9940$ | $0.9941$ | $0.9943$ | $0.9945$ | $0.9946$ | $0.9948$ | $0.9949$ | $0.9951$ | $0.9952$ |\n",
    "| $2.6$ | $0.9953$ | $0.9955$ | $0.9956$ | $0.9957$ | $0.9959$ | $0.9960$ | $0.9961$ | $0.9962$ | $0.9963$ | $0.9964$ |\n",
    "| $2.7$ | $0.9965$ | $0.9966$ | $0.9967$ | $0.9968$ | $0.9969$ | $0.9970$ | $0.9971$ | $0.9972$ | $0.9973$ | $0.9974$ |\n",
    "| $2.8$ | $0.9974$ | $0.9975$ | $0.9976$ | $0.9977$ | $0.9977$ | $0.9978$ | $0.9979$ | $0.9979$ | $0.9980$ | $0.9981$ |\n",
    "| $2.9$ | $0.9981$ | $0.9982$ | $0.9982$ | $0.9983$ | $0.9984$ | $0.9984$ | $0.9985$ | $0.9985$ | $0.9986$ | $0.9986$ |\n",
    "| $3.0$ | $0.9987$ | $0.9990$ | $0.9993$ | $0.9995$ | $0.9997$ | $0.9998$ | $0.9998$ | $0.9999$ | $0.9999$ | $1.0000$ |"
   ]
  },
  {
   "cell_type": "markdown",
   "id": "4fad9dd0",
   "metadata": {},
   "source": [
    "&emsp;&emsp;关于一般正态分布与标准正态分布之间的关系，有如下定理\n",
    "\n",
    "<div class=\"alert alert-info\" role=\"alert\"><span class=\"label label-success\">正态随机变量的标准化</span> 如果 $X\\backsim N(\\mu,\\sigma^2)$\n",
    "，其分布函数为 $F(x)$，则 <br><br>\n",
    "$\\quad(1)\\;\\dfrac{X-\\mu}{\\sigma}\\backsim N(0,1)$ <br>\n",
    "$\\quad(2)\\;F(x)=\\Phi(\\dfrac{x-\\mu}{\\sigma})$ <br>\n",
    "$\\quad(3)\\;P(a<X\\le b) = F(b) - F(a) = \\Phi(\\dfrac{b-\\mu}{\\sigma}-\\dfrac{a-\\mu}{\\sigma})$</div>\n",
    "\n",
    "&emsp;&emsp;若 $X\\backsim N(\\mu,\\sigma^2)$，由标准正态分布函数还可得 <br><br>\n",
    "$\\qquad\\qquad\\qquad\\qquad\\qquad\\qquad\\qquad$$\\begin{aligned}P(\\mu-\\sigma < X \\le \\mu+\\sigma) &= \\Phi(1) - \\Phi(-1) = 2\\Phi(1) - 1 = 0.6826 \\\\P(\\mu-2\\sigma < X \\le \\mu+2\\sigma) &= \\Phi(2) - \\Phi(-2) = 2\\Phi(2) - 1 = 0.9544 \\\\P(\\mu-3\\sigma < X \\le \\mu+3\\sigma) &= \\Phi(3) - \\Phi(-3) = 2\\Phi(3) - 1 = 0.9974\\end{aligned}$\n",
    "\n",
    "&emsp;&emsp;一般情况下， 尽管正态随机变量的取值范围是 $-\\infty,+\\infty$，但它的值落在 $\\mu-3\\sigma < X \\le \\mu+3\\sigma$ 内几乎是肯定的 $(99.7\\%)$，这个性质在标准制度、质量管理、数据预处理等方面有着广泛的应用，即 $\\mathbf{3\\sigma}$ **原则**\n"
   ]
  },
  {
   "cell_type": "markdown",
   "id": "68878798",
   "metadata": {},
   "source": [
    "<div class=\"alert alert-danger\" role=\"alert\"><span class=\"label label-warning\">例题</span> 设测量的误差 $X\\backsim N(7.5,100)$，问要进行多少次独立测量，才能使至少有一次误差的绝对值不超过 $10m$ 的概率大于 $0.9$</div>\n",
    "\n",
    "&emsp;&emsp;$\\begin{aligned}P(\\vert X\\vert \\le 10) &= \\Phi(\\dfrac{10-7.5}{10}) - \\Phi(\\dfrac{-10-7.5}{10}) \\\\ &=\\Phi(0.25) - \\Phi(-1.75) = \\Phi(0.25) - 1 + \\Phi(1.75) \\\\ &=0.5987 - 1 + 0.9599 = 0.5586\\end{aligned}$\n",
    "\n",
    "&emsp;&emsp;设 $A$ 表示进行 $n$ 次独立测量至少有一次误差的绝对值不超过 $10m$ <br><br>\n",
    "$\\qquad\\qquad\\qquad\\qquad\\qquad\\qquad\\qquad\\qquad\\qquad$$P(A) = 1-(1-0.5586)^n > 0.9, \\;n > \\dfrac{\\ln 0.1}{\\ln 0.4414}$ <br><br>\n",
    "&emsp;&emsp;得 $n>3$，所以至少要进行 $4$ 次独立测量才能满足要求"
   ]
  },
  {
   "cell_type": "markdown",
   "id": "aa4252d1",
   "metadata": {},
   "source": [
    "---"
   ]
  },
  {
   "cell_type": "markdown",
   "id": "e51a8505",
   "metadata": {},
   "source": [
    "## 第05节 随机变量函数的分布"
   ]
  },
  {
   "cell_type": "markdown",
   "id": "22c4636d",
   "metadata": {},
   "source": [
    "&emsp;&emsp;在许多问题中，所考虑的随机变量常常依赖于另一个随机变量，一般设 $X$ 是随机变量，则函数 $Y = g(X)$ 也是随机变量，其含意是当 $X$  取得可能值 $x$ 时，$Y$ 随之取得 $y=g(x)$，这里 $y = g(x)$ 是普通函数，随机变量函数的分布就是指根据已知的 $X$ 的概率分布，寻求随机变量函数 $y=g(x)$ 的概率分布"
   ]
  },
  {
   "cell_type": "markdown",
   "id": "e1e5a482",
   "metadata": {},
   "source": [
    "### 5.1 离散型随机变量函数的概率分布"
   ]
  },
  {
   "cell_type": "markdown",
   "id": "0d6510d9",
   "metadata": {},
   "source": [
    "&emsp;&emsp;当 $X$ 为 离散型随机变量时，随机变量也是离散型随机变量，即在 $X$ 的分布已知的情况下，求 $Y$ 的分布律"
   ]
  },
  {
   "cell_type": "markdown",
   "id": "199acfaa",
   "metadata": {},
   "source": [
    "<div class=\"alert alert-danger\" role=\"alert\"><span class=\"label label-warning\">例题</span> 已知随机变量 $X$ 的分布律如下表所示，求 $(1)\\;Y=4X+1$ 的分布律 $\\;\\; (2)\\;Z=X^2$ 的分布律;</div>\n",
    "\n",
    "|$X$|$-1$|$0$|$1$|$2$|\n",
    "|:--:|:--:|:--:|:--:|:--:|\n",
    "|$P$|$0.1$|$0.2$|$0.3$|$0.4$|\n",
    "\n",
    "&emsp;&emsp;$(1)$ 由 $Y=4X+1$ 可知\n",
    "\n",
    "$\\qquad\\qquad\\qquad\\qquad\\qquad\\qquad\\qquad\\qquad\\quad$$\\begin{aligned}P(X=-1)&=P(4X+1)=P(Y=-3)=0.1 \\\\ P(X=0)&=P(4X+1)=P(Y=1)=0.2 \\\\ P(X=1)&=P(4X+1)=P(Y=5)=0.3 \\\\ P(X=2)&=P(4X+1)=P(Y=9)=0.4 \\end{aligned}$\n",
    "\n",
    "&emsp;&emsp;&emsp;&emsp;得 $Y$ 的分布律为\n",
    "\n",
    "|$Y=4X+1$|$-3$|$1$|$5$|$9$|\n",
    "|:--:|:--:|:--:|:--:|:--:|\n",
    "|$P$|$0.1$|$0.2$|$0.3$|$0.4$|\n",
    "\n",
    "&emsp;&emsp;$(2)$ 由 $Z=X^2$ 可知\n",
    "\n",
    "$\\qquad\\qquad\\qquad\\qquad\\qquad\\qquad\\qquad\\qquad\\quad\\quad$$\\begin{aligned}P(X=-1)&=P(X^2)=P(Y=1)=0.1 \\\\ P(X=0)&=P(X^2)=P(Y=0)=0.2 \\\\ P(X=1)&=P(X^2)=P(Y=1)=0.3 \\\\ P(X=2)&=P(X^2)=P(Y=4)=0.4 \\end{aligned}$\n",
    "\n",
    "&emsp;&emsp;&emsp;&emsp;得 $Z$ 的分布律为\n",
    "\n",
    "|$Z=X^2$|$1$|$0$|$1$|$4$|\n",
    "|:--:|:--:|:--:|:--:|:--:|\n",
    "|$P$|$0.1$|$0.2$|$0.3$|$0.4$|\n",
    "\n",
    "&emsp;&emsp;&emsp;&emsp;但因为 $P(Z=1) = P((X=1)\\cup (X=-1)) = P(X=1) + P(X=-1) = 0.4$\n",
    "\n",
    "|$Z=X^2$|$0$|$1$|$4$|\n",
    "|:--:|:--:|:--:|:--:|\n",
    "|$P$|$0.2$|$0.4$|$0.4$|"
   ]
  },
  {
   "cell_type": "markdown",
   "id": "a0787594",
   "metadata": {},
   "source": [
    "### 5.2 连续型随机变量函数概率的分布"
   ]
  },
  {
   "cell_type": "markdown",
   "id": "0060dbf3",
   "metadata": {},
   "source": [
    "&emsp;&emsp;设 $X$ 为连续型随机变量，$g(x)$ 为连续函数，则 $Y=g(X)$ 也是连续型随机变量，若已知连续型随机变量 $X$ 的概率密度为 $f_X(x)$，求 $Y=g(X)$ 的概率密度 $f_Y(y)$\n",
    "\n",
    "&emsp;&emsp;解这类问题一般用 **分布函数法**，即先计算 $Y$ 的分布函数 $F_Y(y)$，再利用 $Y = g(X)$ 的分布函数与概率密度之间的关系求 $Y = g(X)$ 的概率密度 $f_Y(y)$，设连续型随机变量 $X$ 的概率密度函数为 $f_X(x)$，$x \\in (-\\infty,+\\infty)$，函数 $y=g(x)$ 严格单调且可导，其反函数为 $x=h(y)$，则随机变量 $Y=g(X)$ 的概率密度函数为 <br><br>\n",
    "$\\qquad\\qquad\\qquad\\qquad\\qquad\\qquad\\qquad\\qquad\\qquad f_Y(y) = \\begin{cases} f_X[h(y)]\\cdot\\vert h'(y)\\vert &a<y<b \\\\\\\\ 0 &else\\end{cases}$\n",
    "\n",
    "&emsp;&emsp;证明过程为已知 $y=g(x)$ = 为单调函数，若其严格单调减少，则其反函数 $x=h(y)$ 也单调减少，有 $h'(y)<0$, 先求 $Y$ 的分布函数 <br><br>\n",
    "$\\qquad\\qquad\\qquad\\qquad\\qquad\\qquad\\qquad$$F_Y(y) = P(Y \\le y) = P[g(x) \\le y] =P[x \\ge h(y)] = \\int\\limits^{+\\infty}_{h(y)}f_X(x) dx$ <br><br>\n",
    "&emsp;&emsp;再利用 $f_Y(y) = F_Y'(y)$ 可以求得 <br><br>\n",
    "$\\qquad\\qquad\\qquad\\qquad\\qquad\\qquad\\qquad\\qquad\\qquad\\qquad\\qquad$$f_Y(y) = -f_X[h(y)]\\cdot h'(y)$ <br><br>\n",
    "&emsp;&emsp;因为 $h'(y)<0$，故 <br><br>\n",
    "$\\qquad\\qquad\\qquad\\qquad\\qquad\\qquad\\qquad\\qquad\\qquad\\qquad\\qquad$$f_Y(y) = f_X[h(y)]\\cdot \\vert h'(y) \\vert$ <br><br>\n",
    "\n",
    "> 函数 $y=g(x)$ 单调增加的情况可类似证明"
   ]
  },
  {
   "cell_type": "markdown",
   "id": "a28015e3",
   "metadata": {},
   "source": [
    "<div class=\"alert alert-danger\" role=\"alert\"><span class=\"label label-warning\">例题</span> 已知随机变量 $X$ 的密度函数 $f_X(x)$ 在 $x \\in (-\\infty,+\\infty)$ 内连续，求 $Y=X^2$ 的概率密度 $f_Y(y)$</div>\n",
    "\n",
    "&emsp;&emsp;由于 $y=x^2>0$，故当 $y \\le 0$ 时，$F_Y(y)=0$\n",
    "\n",
    "&emsp;&emsp;当 $y>0$ 时，<br><br>\n",
    "$\\qquad\\qquad\\qquad\\qquad\\qquad\\qquad\\qquad\\qquad\\qquad$$\\begin{aligned}F_Y(y) &= P(Y<y) = P(X^2<y) = P(\\vert X\\vert < \\sqrt{y} \\\\ &=P(-\\sqrt{y}<X<\\sqrt{y}) = \\int\\limits^{\\sqrt{y}}_{-\\sqrt{y}}f_X(x)\\end{aligned}$ <br><br>\n",
    "$\\qquad\\qquad\\qquad\\qquad\\qquad\\qquad\\qquad\\qquad$$f_Y(y) = F_Y'(y) = \\begin{cases}\\dfrac{1}{2\\sqrt{y}}[f_X(\\sqrt{y}) + f_X(-\\sqrt{y})] &y>0 \\\\ 0 &y\\le 0 \\end{cases}$"
   ]
  }
 ],
 "metadata": {
  "kernelspec": {
   "display_name": "Python 3",
   "language": "python",
   "name": "python3"
  },
  "language_info": {
   "codemirror_mode": {
    "name": "ipython",
    "version": 3
   },
   "file_extension": ".py",
   "mimetype": "text/x-python",
   "name": "python",
   "nbconvert_exporter": "python",
   "pygments_lexer": "ipython3",
   "version": "3.8.8"
  }
 },
 "nbformat": 4,
 "nbformat_minor": 5
}

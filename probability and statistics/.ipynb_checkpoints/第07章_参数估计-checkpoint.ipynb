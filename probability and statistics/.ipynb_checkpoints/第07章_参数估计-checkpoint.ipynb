{
 "cells": [
  {
   "cell_type": "markdown",
   "id": "1972e600",
   "metadata": {},
   "source": [
    "# 第07章 参数估计"
   ]
  },
  {
   "cell_type": "markdown",
   "id": "97038dc8",
   "metadata": {},
   "source": [
    "---"
   ]
  },
  {
   "cell_type": "markdown",
   "id": "3ccffbbb",
   "metadata": {},
   "source": [
    "## 序言"
   ]
  },
  {
   "cell_type": "markdown",
   "id": "a15a9553",
   "metadata": {},
   "source": [
    "### 1.内容介绍\n",
    "\n",
    "&emsp;&emsp;本章详细介绍了点估计、基于截尾样本的最大似然估计、估计量的评选标准、区间估计、正态总体均值与方差的区间估计等定义，并对其原理与例题进行了一一阐述\n",
    "\n",
    "### 2.理论目标\n",
    "\n",
    "- 掌握估计值与估计量的定义\n",
    "- 掌握矩估计法与最大似然估计法\n",
    "- 掌握定时截尾试验与定数截尾试验\n",
    "- 掌握无偏性、有效性、相合性的评选标准\n",
    "- 掌握区间估计、置信水平与置信区间的定义\n",
    "- 掌握单个与两个正态总体之间常见数值的区间估计\n",
    "\n",
    "### 3.实践目标\n",
    "\n",
    "- 无\n",
    "\n",
    "### 4.实践案例\n",
    "\n",
    "- 无\n",
    "\n",
    "### 5.内容目录\n",
    "\n",
    "- 1.点估计\n",
    "- 2.基于截尾样本的最大似然估计\n",
    "- 3.估计量的评选标准\n",
    "- 4.区间估计\n",
    "- 5.正态总体均值与方差的区间估计\n",
    "- 附录: 数理统计发展简史(上)"
   ]
  },
  {
   "cell_type": "markdown",
   "id": "a585a0a4",
   "metadata": {},
   "source": [
    "---"
   ]
  },
  {
   "cell_type": "markdown",
   "id": "c8e46f2f",
   "metadata": {},
   "source": [
    "&emsp;&emsp;根据样本所包含的信息来建立关于总体的各种结论，这就是 **统计推断 (Statistical inference)**，统计推断的基本问题可以分为两大类，一类是 **估计问题**，另一类是 **假设检验问题**. 本章将讨论总体参数的点估计和区间估计问题，设总体 $X$ 的分布函数的形式已知，但它的一个或者多个参数未知，借助总体 $X$ 的样本来估计总体未知参数的值的问题，称为 **参数估计 (Parameter estimation) 问题**"
   ]
  },
  {
   "cell_type": "markdown",
   "id": "3cac607d",
   "metadata": {},
   "source": [
    "## 第01节 点估计"
   ]
  },
  {
   "cell_type": "markdown",
   "id": "3948f5d6",
   "metadata": {},
   "source": [
    "### 1.1 估计值与估计量"
   ]
  },
  {
   "cell_type": "markdown",
   "id": "57f18b90",
   "metadata": {},
   "source": [
    "&emsp;&emsp;设 $X_1,X_2,\\dots,X_n$ 是总体 $X$ 的一个样本，其中 $F(x,\\theta)$ 的形式为已知，$\\theta$ 为待估参数，$x_1,x_2,\\dots,x_n$ 是相应的样本观察值，**点估计** 问题就是要构造一个适当的统计量 $\\hat{\\theta}(X_1,X_2,\\dots,X_n)$，用它的观察值 $\\hat{\\theta}(x_1,x_2,\\dots,x_n)$ 作为未知参数 $\\theta$ 的近似值 \n",
    "\n",
    "&emsp;&emsp;称 $\\hat{\\theta}(X_1,X_2,\\dots,X_n)$ 为 $\\theta$ 的 **估计量**，$\\hat{\\theta}(x_1,x_2,\\dots,x_n)$ 为 $\\theta$ 的 **估计值**\n",
    "\n",
    "> 注意估计量 $\\hat{\\theta}(X_1,X_2,\\dots,X_n)$ 是一个随机变量即样本的函数，是一个统计量，对不同的样本观察值，$\\theta$ 的估计值 $\\hat{\\theta}(x_1,x_2,\\dots,x_n)$ 是不同的"
   ]
  },
  {
   "cell_type": "markdown",
   "id": "1a7dc647",
   "metadata": {},
   "source": [
    "<div class=\"alert alert-danger\" role=\"alert\"><span class=\"label label-warning\">例题</span> 在某烟花、爆竹制造厂，一天中发生着火现象的次数 $X$ 是一个随机变量，它服从以 $\\lambda>0$ 为参数的泊松分布，现在有以下的样本观察值，试估计参数 $\\lambda$</div>\n",
    "\n",
    "<table border=0 cellpadding=0 cellspacing=0 width=990 style='border-collapse:\n",
    " collapse;table-layout:fixed;'>\n",
    " <col span=8>\n",
    " <tr height=18>\n",
    "  <td style='text-align: center;'><strong>着火次数 $k$</strong></td>\n",
    "  <td style='text-align: center;'>$0$</td>\n",
    "  <td style='text-align: center;'>$1$</td>\n",
    "  <td style='text-align: center;'>$2$</td>\n",
    "  <td style='text-align: center;'>$3$</td>\n",
    "  <td style='text-align: center;'>$4$</td>\n",
    "  <td style='text-align: center;'>$5$</td>\n",
    "  <td style='text-align: center;'>$6$</td>\n",
    " </tr>   \n",
    " <tr height=18>\n",
    "  <td style='text-align: center;'><strong>$k$ 次着火的天数 $n_k$</strong></td>\n",
    "  <td style='text-align: center;'>$75$</td>\n",
    "  <td style='text-align: center;'>$90$</td>\n",
    "  <td style='text-align: center;'>$54$</td>\n",
    "  <td style='text-align: center;'>$22$</td>\n",
    "  <td style='text-align: center;'>$6$</td>\n",
    "  <td style='text-align: center;'>$2$</td>\n",
    "  <td style='text-align: center;'>$1$</td>\n",
    " </tr>\n",
    "</table>\n",
    "\n",
    "&emsp;&emsp;由于 $X\\backsim P(\\lambda)$，所以有 $E(X)=\\lambda$，根据大数定律知道当 $n$ 较大时，样本均值 $\\bar{X}=\\dfrac{1}{n}\\sum\\limits^{n}_{k=1}X_k$ 依概率收敛于总体均值 $E(X)$，可以用 **样本均值** $\\bar{X}$ 的观察值 $\\bar{x}=\\dfrac{1}{n}\\sum\\limits^{n}_{k=1}x_k$ 来估计总体均值 $E(X)=\\lambda$ <br><br>\n",
    "<center>$\\bar{x}=\\dfrac{\\sum\\limits^{6}_{k=0}kn_k}{\\sum\\limits^{6}_{k=0}n_k}=\\dfrac{1}{250}[0\\times75+1\\times90+2\\times54+3\\times22+4\\times6+5\\times2+6\\times1]=1.22$</center>"
   ]
  },
  {
   "cell_type": "markdown",
   "id": "9aeb3b5b",
   "metadata": {},
   "source": [
    "&emsp;&emsp;上例中用样本均值来估计总体均值，即有 <br>\n",
    "- **估计量**：$\\hat{\\lambda}=\\widehat{E(X)}=\\dfrac{1}{n}\\sum\\limits^{n}_{k=1}X_k,\\; n=250$ <br>\n",
    "- **估计值**：$\\hat{\\lambda}=\\widehat{E(X)}=\\dfrac{1}{n}\\sum\\limits^{n}_{k=1}X_k=1.22$"
   ]
  },
  {
   "cell_type": "markdown",
   "id": "c5e9c924",
   "metadata": {},
   "source": [
    "### 1.2 矩估计法"
   ]
  },
  {
   "cell_type": "markdown",
   "id": "72178e1a",
   "metadata": {},
   "source": [
    "&emsp;&emsp;设 $X$ 为连续型随机变量，其概率密度为 $f(x;\\theta_1,\\theta_2,\\dots,\\theta_k)$，或 $X$ 为离散型随机变量，其分布律为 $P(X=x)=p(x;\\theta_1,\\theta_2,\\dots,\\theta_k)$，其中 $\\theta_1,\\theta_2,\\dots,\\theta_k$ 为待估参数，$X_1,X_2,\\dots,X_n$ 是总体 $X$ 的一个样本，假设总体 $X$ 的前 $k$ 阶矩存在，则若\n",
    "- $X$ 为 **连续型随机变量** <br>\n",
    "<center>$\\mu_l=E(X^l)=\\int\\limits^{+\\infty}_{-\\infty}x^lf(x;\\theta_1,\\theta_2,\\dots,\\theta_k)dx$</center> <br>\n",
    "- $X$ 为 **离散型随机变量** <br>\n",
    "<center>$\\mu_l=E(X^l)=\\sum\\limits^{}_{x\\in R_X}x^lp(x;\\theta_1,\\theta_2,\\dots,\\theta_k)$</center> <br>\n",
    "\n",
    "> $l=1,2,\\dots$，$R_x$ 是 $x$ 可能取值的范围\n",
    "\n",
    "&emsp;&emsp;基于样本矩 $A_l=\\dfrac{1}{n}\\sum\\limits^{n}_{i=1}X^l_i$ 依概率收敛于相应的总体矩 $\\mu_l\\;l=1,2,\\dots,k)$，样本矩的连续函数依概率收敛于相应的总体矩的连续函数，就可以使用 **样本矩** 作为相应的总体矩的估计量，这种估计方法称为 **矩估计法**"
   ]
  },
  {
   "cell_type": "markdown",
   "id": "5e31c172",
   "metadata": {},
   "source": [
    "&emsp;&emsp;**矩估计法的具体做法**\n",
    "- 设 $\\begin{cases}\\mu_1=\\mu_1(\\theta_1,\\dots,\\theta_k)\\\\\\mu_2=\\mu_2(\\theta_1,\\dots,\\theta_k)\\\\\\vdots\\\\\\mu_k=\\mu_k(\\theta_1,\\dots,\\theta_k)\\end{cases}$，这是一个包含 $k$ 个未知参数 $\\theta_1,\\dots,\\theta_k$ 的 **联立方程组**，一般来说可以从中解岀 $\\theta_1,\\dots,\\theta_k$ 得到 $\\begin{cases}\\theta_1=\\theta_1(\\mu_1,\\dots,\\mu_k)\\\\\\theta_2=\\theta_2(\\mu_1,\\dots,\\mu_k)\\\\\\vdots\\\\\\theta_3=\\theta_3(\\mu_1,\\dots,\\mu_k)\\end{cases}$ <br><br>\n",
    "- 用 $A_i$ 分别代替上式中的 $\\mu_i\\;(i=1,2,\\dots)$，即以 $\\hat{\\theta}=\\theta_i\\;(A_1,\\dots,A_k)$ 分别作为 $\\theta_i\\;(i=1,2,\\dots)$ 的估计量，这种估计量称为 **矩估计量**，矩估计量的观察值称为 **矩估计值**"
   ]
  },
  {
   "cell_type": "markdown",
   "id": "48e186ea",
   "metadata": {},
   "source": [
    "<div class=\"alert alert-danger\" role=\"alert\"><span class=\"label label-warning\">例题</span> 设总体 $X$ 的均值 $\\mu$ 和方差 $\\sigma^2$ 都存在，且 $\\sigma^2>0$，但 $\\mu$ 和 $\\sigma^2$ 均为未知，$X_1,X_2,\\dots,X_n$ 是总体 $X$ 的一个样本，求 $\\mu$ 和 $\\sigma^2$ 的矩估计量</div>\n",
    "\n",
    "&emsp;&emsp;由于 总体 $X$ 的一阶、二阶矩分别为 $\\mu_1=E(X)=\\mu,\\mu_2=E(X^2)=D(X)+[E(X)^2]=\\mu^2+\\sigma^2$，可知  $\\begin{cases}\\mu=\\mu_1\\\\\\sigma^2=\\mu_2-\\mu_1^2\\end{cases}$ <br><br>\n",
    "&emsp;&emsp;用 $A_i$ 分别代替上式中的 $\\mu_i\\;i=1,2,\\dots$，得到 $\\mu$ 和 $\\sigma^2$ 的矩估计量分别为 <br><br>\n",
    "<center>$\\hat{\\mu}=A_1=\\bar{X}$</center><br>\n",
    "<center>$\\hat{\\sigma}^2=A_2-A^2_1=\\dfrac{1}{n}\\sum\\limits^{n}_{i=1}X^2_i-\\bar{X}^2=\\dfrac{1}{n}\\sum\\limits^{n}_{i=1}(X_i-\\bar{X})^2$</center>"
   ]
  },
  {
   "cell_type": "markdown",
   "id": "cf427c61",
   "metadata": {},
   "source": [
    "> 这个结果表明，总体 $X$ 的均值 $\\mu$ 和方差 $\\sigma^2$ 的矩估计量的表达式与总体具体服从什么分布无关，即 **无论** 总体 $X$ 服从什么分布，只要均值和方差存在，则上例的结论都是成立的，例如 $X\\backsim N(\\mu,\\sigma^2)$，$\\mu$ 和 $\\sigma^2$ 未知，根据上例可知 $\\mu$ 和 $\\sigma^2$ 的矩估计量分别为 $\\hat{\\mu}=\\bar{X}$，$\\hat{\\sigma}^2=\\dfrac{1}{n}\\sum\\limits^{n}_{i=1}(X_i-\\bar{X})^2$\n",
    "\n",
    "&emsp;&emsp;参数的矩估计法在估计总体的均值、方差等数字特征时，不必知道总体的分布类型，非常直观、简便，这是矩估计法的优点，但矩估计法也存在不足：在总体分布类型已知的情况下，矩估计法没有充分利用总体分布所提供的信息，因此可能导致它的精度比其他估计法低"
   ]
  },
  {
   "cell_type": "markdown",
   "id": "94b6f50e",
   "metadata": {},
   "source": [
    "### 1.3 最大似然估计法"
   ]
  },
  {
   "cell_type": "markdown",
   "id": "50dfcfb8",
   "metadata": {},
   "source": [
    "&emsp;&emsp;若总体 $X$ 为 **离散型随机变量**，其分布律 $P(X=x)=p(x;\\theta)$ 的形式为已知，$\\theta$ 为待估参数，$\\theta\\in\\Theta$，$\\Theta$ 为 $\\theta$ 的可能取值范围，$X_1,X_2,\\dots,X_n$ 是总体 $X$ 的一个样本，则 $X_1,X_2,\\dots,X_n$ 的联合分布律为 <br><br> <center>$\\prod\\limits^{n}_{i=1}p(x_i;\\theta)$</center>\n",
    "\n",
    "&emsp;&emsp;设 $x_1,x_2,\\dots,x_n$ 是相应于样本 $X_1,X_2,\\dots,X_n$ 的样本观察值，易知样本 $X_1,X_2,\\dots,X_n$ 取到观察值 $x_1,x_2,\\dots,x_n$ 的概率，即事件 $(X_1=x_1,X_2=x_2,\\dots,X_n=x_n)$ 发生的概率为 <br><br>\n",
    "<center>$L(\\theta)=L(x_1,x_2,\\dots,x_n;\\theta)=\\prod\\limits^{n}_{i=1}p(x_i;\\theta),\\;\\theta\\in\\Theta$</center>\n",
    "\n",
    "> 这一概率随 $\\theta$ 的取值而变化，它是 $\\theta$ 的函数，$L(\\theta)$ 仍称为样本的 **似然函数**（注意，这里 $x_1,x_2,\\dots,x_n$ 是已知的样本值，它们都是常数)"
   ]
  },
  {
   "cell_type": "markdown",
   "id": "1be8fd75",
   "metadata": {},
   "source": [
    "&emsp;&emsp;关于最大似然估计法，直观想法是现在已经取到样本值 $x_1,x_2,\\dots,x_n$ 了，这表明取到这一样本值的概率 $L(\\theta)$ 比较大，当然不会考虑那些使样本 $x_1,x_2,\\dots,x_n$ 出现的 $\\theta\\in\\Theta$ 作为 $\\theta$ 的估计，再者如果已知当 $\\theta=\\theta_0\\in\\Theta$ 时使 $L(\\theta)$ 取很大值，而 $\\Theta$ 中的其他 $\\theta$ 的值使 $L(\\theta)$ 取很小值，自然认为取 $\\theta_0$ 作为未知参数 $\\theta$ 的估计值较为合理\n",
    "\n",
    "&emsp;&emsp;由费希尔 (R.A.Fisher) 引进的 **最大似然估计法** 利用固定样本观察值 $x_1,x_2,\\dots,x_n$ 在 $\\theta$ 取值的可能范围 $\\Theta$ 内挑选使似然函数 $L(x_1,x_2,\\dots,x_n;\\theta)$ 达到 **最大** 的参数值 $\\hat{\\theta}$ 作为参数 $\\theta$ 的估计值，即取 $\\hat{\\theta}$ 使<br><br>\n",
    "<center>$L(x_1,x_2,\\dots,x_n;\\hat{\\theta})=\\max\\limits^{}_{\\theta\\in\\Theta}L(x_1,x_2,\\dots,x_n;\\theta)$</center>\n",
    "\n",
    "&emsp;&emsp;这样得到的 $\\hat{\\theta}$ 与样本值 $x_1,x_2,\\dots,x_n$ 有关，常记为 $\\hat{\\theta}(x_1,x_2,\\dots,x_n)$，称为参数 $\\theta$ 的 **最大似然估计值**，而相应的统计量 $\\hat{\\theta}(X_1,X_2,\\dots,X_n)$ 称为参数 $\\theta$ 的 **最大似然估计量**"
   ]
  },
  {
   "cell_type": "markdown",
   "id": "fa57ea59",
   "metadata": {},
   "source": [
    "&emsp;&emsp;若总体 $X$ 为 **连续型随机变量**，其概率密度 $f(x;\\theta)$ 的形式为已知，$\\theta$ 为待估参数，$\\theta\\in\\Theta$，$\\Theta$ 为 $\\theta$ 的可能取值范围，$X_1,X_2,\\dots,X_n$ 是总体 $X$ 的一个样本，则 $X_1,X_2,\\dots,X_n$ 的联合概率密度为 <br><br> <center>$\\prod\\limits^{n}_{i=1}f(x_i;\\theta)$</center>\n",
    "\n",
    "&emsp;&emsp;设 $x_1,x_2,\\dots,x_n$ 是相应于样本 $X_1,X_2,\\dots,X_n$ 的样本观察值，易知样本 $X_1,X_2,\\dots,X_n$ 落到点 $x_1,x_2,\\dots,x_n$ 邻域内 (边长分别为 $dx_1,dx_2,\\dots,dx_n$ 的 $n$ 维立方体) 的概率，即事件 $(X_1=x_1,X_2=x_2,\\dots,X_n=x_n)$ 发生的概率近似为 <br><br>\n",
    "<center>$\\prod\\limits^{n}_{i=1}f(x_i;\\theta)dx_i$</center>"
   ]
  },
  {
   "cell_type": "markdown",
   "id": "8ef267f1",
   "metadata": {},
   "source": [
    "&emsp;&emsp;与离散型的情形一样，取 $\\theta$ 的估计值 $\\hat{\\theta}$ 使 $\\prod\\limits^{n}_{i=1}f(x_i;\\theta)dx_i$ 取到最大值，但因子 $\\prod\\limits^{n}_{i=1}dx_i$ 不随 $\\theta$ 变化，因此考虑函数 $L(\\theta)=L(x_1,x_2,\\dots,x_n;\\theta)$$=\\prod\\limits^{n}_{i=1}(x_1,\\theta)$ 的最大值，这里 $L(\\theta)$ 称为样本的 **似然函数**，若 <br><br>\n",
    "<center>$L(x_1,x_2,\\dots,x_n;\\hat{\\theta})=\\max\\limits^{}_{\\theta\\in\\Theta}L(x_1,x_2,\\dots,x_n;\\theta)$</center>\n",
    "\n",
    "&emsp;&emsp;这样得到的 $\\hat{\\theta}$ 与样本值 $x_1,x_2,\\dots,x_n$ 有关，常记为 $\\hat{\\theta}(x_1,x_2,\\dots,x_n)$，称为参数 $\\theta$ 的 **最大似然估计值**，而相应的统计量 $\\hat{\\theta}(X_1,X_2,\\dots,X_n)$ 称为参数 $\\theta$ 的 **最大似然估计量**"
   ]
  },
  {
   "cell_type": "markdown",
   "id": "0e0e9e49",
   "metadata": {},
   "source": [
    "&emsp;&emsp;这样以来，确定极大似然估计量的问题就归结为求 **极大值问题**，由于 $L(\\theta)$ 与 $\\ln L(\\theta)$ 在同一个 $\\theta$ 处取到极值，所以在很多情况下 $\\theta$ 的极大似然估计 $\\hat{\\theta}$ 也可以从方程 $\\dfrac{d\\ln L(\\theta)}{d\\theta}=0$ 求得，此方程称为 **似然方程**"
   ]
  },
  {
   "cell_type": "markdown",
   "id": "21ad95c7",
   "metadata": {},
   "source": [
    "<div class=\"alert alert-danger\" role=\"alert\"><span class=\"label label-warning\">例题</span> 设总体 $X$ 的均值 $\\mu$ 和方差 $\\sigma^2$ 都存在，且 $\\sigma^2>0$，但 $\\mu$ 和 $\\sigma^2$ 均为未知，$X_1,X_2,\\dots,X_n$ 是总体 $X$ 的一个样本，求 $\\mu$ 和 $\\sigma^2$ 的极大似然估计量</div>\n",
    "\n",
    "&emsp;&emsp;$X$ 的概率密度为 $f(x;\\mu,\\sigma^2)=\\dfrac{1}{\\sqrt{2\\pi}\\sigma}\\exp\\bigg[-\\dfrac{(x-\\mu)^2}{2\\sigma^2}\\bigg],\\;-\\infty<x<+\\infty$\n",
    "\n",
    "&emsp;&emsp;$X$ 的似然函数为 $L(\\mu,\\sigma^2)=\\prod\\limits^{n}_{i=1}\\dfrac{1}{\\sqrt{2\\pi}\\sigma}\\exp\\bigg[-\\dfrac{(x-\\mu)^2}{2\\sigma^2}\\bigg]=(2\\pi)^{-\\tfrac{n}{2}}(\\sigma^2)^{-\\tfrac{n}{2}}\\exp\\bigg[-\\dfrac{\\sum\\limits^{n}_{i=1}(x_i-\\mu)^2}{2\\sigma^2}\\bigg]$\n",
    "\n",
    "&emsp;&emsp;于是可知 $\\ln L=-\\dfrac{n}{2}\\ln(2\\pi)-\\dfrac{n}{2}\\ln\\sigma^2 - \\dfrac{\\sum\\limits^{n}_{i=1}(x_i-\\mu)^2}{2\\sigma^2}$，令 <br><br>\n",
    "<center>$\\begin{cases}\\dfrac{\\partial}{\\partial\\mu}\\ln L=\\dfrac{1}{\\sigma^2}(\\sum\\limits^{n}_{i=1}x_i-n\\mu)=0\\\\\\dfrac{\\partial}{\\partial\\sigma^2}\\ln L=-\\dfrac{n}{2\\sigma^2}+\\dfrac{1}{2(\\sigma^2)^2}\\sum\\limits^{n}_{i=1}(x_i-\\mu)^2=0\\end{cases}$</center><br>\n",
    "\n",
    "&emsp;&emsp;解得 $\\hat{\\mu}=\\dfrac{1}{n}\\sum\\limits^{n}_{i=1}x_i=\\bar{x}$，$\\hat{\\sigma}^2=\\dfrac{1}{n}\\sum\\limits^{n}_{i=1}(x_i-\\bar{x})^2$，因此 $\\mu$ 和 $\\sigma^2$ 的极大似然估计量为 $\\hat{\\mu}=\\dfrac{1}{n}\\sum\\limits^{n}_{i=1}X_i=\\bar{X}$，$\\hat{\\sigma}^2=\\dfrac{1}{n}\\sum\\limits^{n}_{i=1}(X_i-\\bar{X})^2$\n",
    "\n",
    "> 这个结果与 $N(\\mu,\\sigma^2)$ 中 $\\mu$ 和 $\\sigma^2$ 的矩估计量相同"
   ]
  },
  {
   "cell_type": "markdown",
   "id": "6203f5b4",
   "metadata": {},
   "source": [
    "&emsp;&emsp;设 $\\hat{\\theta}$ 为 $f(x;\\theta)$ 中参数 $\\theta$ 的极大似然估计，并且函数 $g = g(\\theta)$ 具有单值反函数 $\\theta=\\theta(g)$，则 $\\hat{g}=g(\\hat{\\theta})$ 是 $g(\\theta)$ 的极大似然估计，这个性质称为极大似然估计的 **不变性**，例如在上例中 $\\sigma^2$ 的极大似然估计量为 $\\hat{\\sigma}^2=\\dfrac{1}{n}\\sum\\limits^{n}_{i=1}(X_i-\\bar{X})^2$，根据极大似然估计的不变性，则标准差 $\\sigma$ 的极大似然估计量为 $\\hat{\\sigma}=\\sqrt{\\hat{\\sigma}^2}$$=\\sqrt{\\dfrac{1}{n}\\sum\\limits^{n}_{i=1}(X_i-\\bar{X})^2}$\n"
   ]
  },
  {
   "cell_type": "markdown",
   "id": "c8854f92",
   "metadata": {},
   "source": [
    "---"
   ]
  },
  {
   "cell_type": "markdown",
   "id": "ee1fd236",
   "metadata": {},
   "source": [
    "## 第02节 基于截尾样本的最大似然估计"
   ]
  },
  {
   "cell_type": "markdown",
   "id": "acc6e785",
   "metadata": {},
   "source": [
    "### 2.1 截尾均值"
   ]
  },
  {
   "cell_type": "markdown",
   "id": "de071569",
   "metadata": {},
   "source": [
    "&emsp;&emsp;下面列出了 $30$ 个美国 NBA 球员的体重数据，这些数据是从美国 NBA 球队 $1990-1991$ 赛季的花名册中随机抽样得到\n",
    "\n",
    "<table border=0 cellpadding=0 cellspacing=0 width=990 style='border-collapse:\n",
    " collapse;table-layout:fixed;'>\n",
    " <col span=10>\n",
    " <tr height=18>\n",
    "  <td style='text-align: center;'>$225$</td>\n",
    "  <td style='text-align: center;'>$232$</td>\n",
    "  <td style='text-align: center;'>$232$</td>\n",
    "  <td style='text-align: center;'>$245$</td>\n",
    "  <td style='text-align: center;'>$235$</td>\n",
    "  <td style='text-align: center;'>$245$</td>\n",
    "  <td style='text-align: center;'>$270$</td>\n",
    "  <td style='text-align: center;'>$225$</td>\n",
    "  <td style='text-align: center;'>$240$</td>\n",
    "  <td style='text-align: center;'>$240$</td>\n",
    " </tr>   \n",
    " <tr height=18>\n",
    "  <td style='text-align: center;'>$217$</td>\n",
    "  <td style='text-align: center;'>$195$</td>\n",
    "  <td style='text-align: center;'>$225$</td>\n",
    "  <td style='text-align: center;'>$185$</td>\n",
    "  <td style='text-align: center;'>$200$</td>\n",
    "  <td style='text-align: center;'>$220$</td>\n",
    "  <td style='text-align: center;'>$200$</td>\n",
    "  <td style='text-align: center;'>$210$</td>\n",
    "  <td style='text-align: center;'>$271$</td>\n",
    "  <td style='text-align: center;'>$240$</td>\n",
    " </tr>\n",
    " <tr height=18>\n",
    "  <td style='text-align: center;'>$220$</td>\n",
    "  <td style='text-align: center;'>$230$</td>\n",
    "  <td style='text-align: center;'>$215$</td>\n",
    "  <td style='text-align: center;'>$252$</td>\n",
    "  <td style='text-align: center;'>$225$</td>\n",
    "  <td style='text-align: center;'>$220$</td>\n",
    "  <td style='text-align: center;'>$206$</td>\n",
    "  <td style='text-align: center;'>$185$</td>\n",
    "  <td style='text-align: center;'>$227$</td>\n",
    "  <td style='text-align: center;'>$236$</td>\n",
    " </tr>   \n",
    "</table>"
   ]
  },
  {
   "cell_type": "markdown",
   "id": "86989747",
   "metadata": {},
   "source": [
    "&emsp;&emsp;设数据集包含 $n$ 个数据,将这些数据自小到大排序为 $x_1\\le x_2\\le\\dots\\le x_n$，删去 $100a\\%$ 个数值小的数，同时删去 $100a\\%$ 个数值大的数，将留下的数据取 **算术平均** 记为 $\\bar{x}_a$ <br><br>\n",
    "<center>$\\bar{x}_a=\\dfrac{x_{[na]+1}+\\dots+x_{n-[na]}}{n-2[na]}$</center><br>\n",
    "\n",
    "&emsp;&emsp;其中 $[na]$ 是小于或等于 $na$ 的最大整数 (一般取 $a$ 为 $0.1\\sim0.2$)，$\\bar{x}_a$ 称为 **$100a\\%$ 截尾均值**，例如上表中的数据，取 $a=0.1$，则有 $[na]=[30\\times0.1]=3$，得 $100\\times0.1\\%$ 截尾均值 <br><br>\n",
    "<center>$\\bar{x}_a=\\dfrac{200+200+\\dots+245+245}{30-6}=225.4167$</center><br>\n",
    "\n",
    "> 截尾均值在实际应用问题中常会用到，因为其保证若数据来自某一总体的样本，则 $\\bar{x}_a$ 是一个统计量不受样本的极端值的影响"
   ]
  },
  {
   "cell_type": "markdown",
   "id": "ab402d02",
   "metadata": {},
   "source": [
    "### 2.2 截尾寿命试验"
   ]
  },
  {
   "cell_type": "markdown",
   "id": "8f6e0143",
   "metadata": {},
   "source": [
    "&emsp;&emsp;在研究产品的可靠性时，需要研究产品寿命 $T$ 的各种特征，产品寿命 $T$ 是—个随机变量，其分布称为 **寿命分布**. 为了对寿命分布进行统计推断，就需要通过产品的寿命试验，以取得寿命数据\n",
    "\n",
    "&emsp;&emsp;一种典型的寿命试验是，将随机抽取的 $n$ 个产品在时间 $t=0$ 时同时投入试验，直到每个产品都失效时记录每一个产品的失效时间，这样得到的样本（即由所有产品的失效时间 $0\\le t_1\\le t_2\\le\\dots\\le t_n$ 所组成的样本）叫 **完全样本**，然而产品的寿命往往较长，由于时间和财力的限制，难以得到完全样本，因此需要考虑截尾寿命试验\n",
    "\n",
    "- **定时截尾寿命试验** <br>\n",
    "假设将随机抽取的 $n$ 个产品在时间 $t=0$ 时同时投入试验，试验进行到事先规定的截尾时间 $t_0$ 停止，如试验截止时共有 $m$ 个产品失效，它们的失效时间分别为 $0\\le t_1\\le t_2\\le\\dots\\le t_m\\le t_0$，此时 $m$ 是一个随机变量，所得的样本 $t_1,t_2,\\dots,t_m$ 称为 **定时截尾样本** <br><br>\n",
    "- **定数截尾寿命试验** <br>\n",
    "假设将随机抽取的 $n$ 个产品在时间 $t=0$ 时同时投入试验，试验进行到有 $m$ 个 ($m$ 是事先规定的，$m<n$) 产品失效时停止，$m$ 个失效产品的失效时间分别为 $0\\le t_1\\le t_2\\le\\dots\\le t_m$，这里 $t_m$ 是随机变量代表第 $m$ 个产品的失效时间，所得的样本 $t_1,t_2,\\dots,t_m$ 称为 **定数截尾样本**"
   ]
  },
  {
   "cell_type": "markdown",
   "id": "a156d3ff",
   "metadata": {},
   "source": [
    "&emsp;&emsp;设产品的寿命分布是指数分布，其概率密度为 <br><br>\n",
    "<center>$f(t)=\\begin{cases}\\dfrac{1}{\\theta}e^{-t/\\theta} &t>0\\\\\\\\0&t\\le0\\end{cases}$</center><br>\n",
    "\n",
    "&emsp;&emsp;设有 $n$ 个产品投入定数截尾试验，截尾数为 $m$，得定数截尾样本 $0\\le t_1\\le t_2\\le\\dots\\le t_m$，现在要利用这一样本来估计 **未知参数 $\\theta$** (即产品的平均寿命)\n",
    "\n",
    "> 时间区间 $[0,t_m]$ 有 $m$ 个产品失效，而有 $n-m$ 个产品的寿命超过 $t_m$，用最大似然估计法来估计 $\\theta$ 需要知道上述观察结果出现的概率以此确定似然函数"
   ]
  },
  {
   "cell_type": "markdown",
   "id": "e21e6dc9",
   "metadata": {},
   "source": [
    "&emsp;&emsp;一个产品在 $(t_i,t_i+dt_i\\rbrack$ 失效的概率近似地为 $f(t_i)dt_i=\\dfrac{1}{\\theta}e^{-t_i\\;/\\theta}dt_i,\\;i=1,2,\\dots,m$，其余 $n-m$ 个产品寿命超过 $t_m$ 的概率为 $(\\int\\limits^{\\infty}_{t_m}\\dfrac{1}{\\theta}e^{-t/\\theta}dt)^{n-m}$$=(e^{-t_m\\;/\\theta})^{n-m}$，故上述观察结果出现的概率近似地为 <br><br>\n",
    "<center>$\\dbinom{n}{m}(\\dfrac{1}{\\theta}e^{-t_1\\;/\\theta}dt_1)(\\dfrac{1}{\\theta}e^{-t_2\\;/\\theta}dt_2)\\dots(\\dfrac{1}{\\theta}e^{-t_m\\;/\\theta}dt_m)(e^{-t_m\\;/\\theta})^{n-m}$</center><br>    \n",
    "<center>$=\\dbinom{n}{m}\\dfrac{1}{\\theta^m}e^{-\\tfrac{1}{\\theta}[t_1+t_2+\\dots+t_m+(n-m)t_m]}dt_1dt_2\\dots dt_m$</center><br>   \n",
    "\n",
    "&emsp;&emsp;其中 $dt_1,\\dots,dt_m$ 为常数，因忽略一个常数因子不影响 $\\theta$ 的最大似然估计，故可得到 <br><br>\n",
    "<center>$L(\\theta)=\\dfrac{1}{\\theta^m}e^{-\\tfrac{1}{\\theta}[t_1+t_2+\\dots+t_m+(n-m)t_m]}$</center><br>\n",
    "<center>$\\ln L(\\theta)=-m\\ln\\theta-\\dfrac{1}{\\theta}[t_1+t_2+\\dots+t_m+(n-m)t_m]$</center>\n",
    "\n",
    "&emsp;&emsp;令 $\\dfrac{\\partial}{\\partial\\theta}\\ln L(\\theta)=-\\dfrac{m}{\\theta}+\\dfrac{1}{\\theta^2}[t_1+t_2+\\dots+t_m+(n-m)t_m]=0$，得到 $\\theta$ 的最大似然估计为 $\\hat{\\theta}=\\dfrac{s(t_m)}{m}$\n",
    "\n",
    "> 其中 $s(t_m)=t_1+t_2+\\dots+t_m+(n-m)t_m$ 称为为总试验时间，它表示直至时刻 $t_m$ 为止 $n$ 个产品的试验时间的总和 <br><br>\n",
    "类似的对于定时截尾样本 $0\\le t_1\\le t_2 \\le\\dots\\le t_m\\le t_0$，其中 $t_0$ 是截尾时间，可得 $\\theta$ 的最大似然估计为 $\\hat{\\theta}=\\dfrac{s(t_0)}{m}$"
   ]
  },
  {
   "cell_type": "markdown",
   "id": "be6d8b40",
   "metadata": {},
   "source": [
    "<div class=\"alert alert-danger\" role=\"alert\"><span class=\"label label-warning\">例题</span> 设电池的寿命服从指数分布，其概率密度为<br><center>$f(t)=\\begin{cases}\\dfrac{1}{\\theta}e^{-t/\\theta} &t>0\\\\\\\\0&t\\le 0\\end{cases}$</center><br>随机地取 $50$ 只电池投入寿命试验，规定试验进行到其中有 $15$ 只失效时结束试验，测得失效时间如下表所示，试求电池的平均寿命 $\\theta$ 的最大似然估计</div>\n",
    "\n",
    "<table border=0 cellpadding=0 cellspacing=0 width=990 style='border-collapse:\n",
    " collapse;table-layout:fixed;'>\n",
    " <col span=8>\n",
    " <tr height=18>\n",
    "  <td style='text-align: center;'>$115$</td>\n",
    "  <td style='text-align: center;'>$119$</td>\n",
    "  <td style='text-align: center;'>$131$</td>\n",
    "  <td style='text-align: center;'>$138$</td>\n",
    "  <td style='text-align: center;'>$142$</td>\n",
    "  <td style='text-align: center;'>$147$</td>\n",
    "  <td style='text-align: center;'>$148$</td>\n",
    "  <td style='text-align: center;'>$155$</td>\n",
    " </tr>   \n",
    " <tr height=18>\n",
    "  <td style='text-align: center;'>$158$</td>\n",
    "  <td style='text-align: center;'>$159$</td>     \n",
    "  <td style='text-align: center;'>$163$</td>\n",
    "  <td style='text-align: center;'>$166$</td>\n",
    "  <td style='text-align: center;'>$167$</td>\n",
    "  <td style='text-align: center;'>$170$</td>\n",
    "  <td style='text-align: center;'>$172$</td>\n",
    " </tr>  \n",
    "</table>\n",
    "\n",
    "&emsp;&emsp;$n=50$，$m=15$，$s(t_{15})=115+119+\\dots+170+172+(50-15)\\times172=8270$，$\\theta$ 的最大似然估计为 <br><br>\n",
    "<center>$\\hat{\\theta}=\\dfrac{8270}{15}=551.33$ 小时</center>"
   ]
  },
  {
   "cell_type": "markdown",
   "id": "3733929f",
   "metadata": {},
   "source": [
    "---"
   ]
  },
  {
   "cell_type": "markdown",
   "id": "7332f4d9",
   "metadata": {},
   "source": [
    "## 第03节 估计量的评选标准"
   ]
  },
  {
   "cell_type": "markdown",
   "id": "16d4519e",
   "metadata": {},
   "source": [
    "&emsp;&emsp;对于总体 $X$ 的同一个参数，由于采用不同的估计方法，可能会产生多个不同估计量，例如总体 $X$ 在 $[0,\\theta]$ 上服从均匀分布，对同一个参数 $\\theta$，在极大似然估计量与矩估计量是不同的，那么当总体 $X$ 的同一个参数存在不同估计量时采用哪一个估计量更好呢？这就涉及用什么样的 **标准** 来评价估计量"
   ]
  },
  {
   "cell_type": "markdown",
   "id": "ac9a73dc",
   "metadata": {},
   "source": [
    "### 3.1 无偏性"
   ]
  },
  {
   "cell_type": "markdown",
   "id": "e3c35798",
   "metadata": {},
   "source": [
    "<div class=\"alert alert-info\" role=\"alert\"><span class=\"label label-success\">定义 $7.1$</span> 设 $X_1,X_2,\\dots,X_n$ 是总体 $X$ 的一个样本，$\\theta\\in\\Theta$ 是包含在总体 $X$ 的分布中的待估参数，若估计量 $\\hat{\\theta}=\\hat{\\theta}(X_1,X_2,\\dots,X_n)$ 的数学期望 $E(\\hat{\\theta})$ 存在且对任意的 $\\theta\\in\\Theta$，有 $E(\\hat{\\theta})=\\theta$，则称 $\\hat{\\theta}$ 为 $\\theta$ 的 <strong>无偏估计量</strong></div>"
   ]
  },
  {
   "cell_type": "markdown",
   "id": "dc2a8b57",
   "metadata": {},
   "source": [
    "&emsp;&emsp;估计量的无偏性是说对于某些样本值，由这一估计量得到的估计值相对于真值来说偏大，有些则偏小，反复将这一估计置使用多次，就 **平均** 来说其偏差为零，例如设总体 $X$ 的均值为 $\\mu$，方差 $\\sigma^2>0$ 均未知，根据抽样分布的定义可知 $E(\\bar{X})=\\mu$，$E(S^2)=\\sigma^2$，换而言之不论总体 $X$ 服从什么分布\n",
    "- 样本均值 $\\bar{X}$ 是总体均值的无偏估计量\n",
    "- 样本方差 $S^2=\\dfrac{1}{n-1}\\sum\\limits^{n}_{i=1}(X_i-\\bar{X})^2$ 是总体方差 $\\sigma^2$ 的无偏估计量，而估计量 $\\dfrac{1}{n}\\sum\\limits^{n}_{i=1}(X_i-\\bar{X})^2$ 却不是 $\\sigma^2$ 的无偏估计量，因此一般取 $S^2$ 作为 $\\sigma^2$ 的估计量\n",
    "\n",
    "> 科学计算上 $E(\\hat{\\theta})$ 称为以 $\\hat{\\theta}$ 作为 $\\theta$ 的估计的系统误差，无偏估计的实际意义就是 **无系统误差**"
   ]
  },
  {
   "cell_type": "markdown",
   "id": "409ba4ad",
   "metadata": {},
   "source": [
    "<div class=\"alert alert-danger\" role=\"alert\"><span class=\"label label-warning\">例题</span> 设 $X$ 在 $[0,\\theta]$ 上服从均匀分布，$\\theta$ 为未知参数，求 $\\theta$ 的估计量 $\\hat{\\theta}=2\\bar{X}$ 是否为 $\\theta$ 的无偏估计量</div>\n",
    "\n",
    "&emsp;&emsp;由于 $X_1,X_2,\\dots,X_n$ 是总体 $X$ 的样本，所有其与总体 $X$ 同分布，可知 $E(X_i)=\\dfrac{\\theta}{2}\\;i=1,2,\\dots,n$\n",
    "\n",
    "&emsp;&emsp;根据数学期望的性质有<br><br>\n",
    "<center>$E(\\hat{\\theta})=2E(X)=2E(\\dfrac{1}{n}\\sum\\limits^{n}_{i=1}X_i)=\\dfrac{2}{n}\\sum\\limits^{n}_{i=1}E(X_i)=\\dfrac{2}{n}\\cdot n \\cdot \\dfrac{\\theta}{2}=\\theta$</center>\n",
    "\n",
    "&emsp;&emsp;因此估计量 $\\hat{\\theta}=2\\bar{X}$ 是 $\\theta$ 的无偏估计量"
   ]
  },
  {
   "cell_type": "markdown",
   "id": "6c952314",
   "metadata": {},
   "source": [
    "<div class=\"alert alert-danger\" role=\"alert\"><span class=\"label label-warning\">例题</span> 设总体 $X$ 的 $k$ 阶矩 $\\mu_k=E(X^k)\\;(k\\ge1)$ 存在，$X_1,X_2,\\dots,X_n$ 是总体 $X$ 的样本，证明不论总体服从什么分布，样本的 $k$ 阶矩 $A_k=\\dfrac{1}{n}\\sum\\limits^{n}_{i=1}X^k_i$ 是总体 $k$ 阶矩 $\\mu_k$ 的无偏估计量</div>\n",
    "\n",
    "&emsp;&emsp;由于 $X_1,X_2,\\dots,X_n$ 是总体 $X$ 的样本，所有其与总体 $X$ 同分布，可知 $E(X^k_i)=E(X^k)=\\mu_k\\;i=1,2,\\dots,n$\n",
    "\n",
    "&emsp;&emsp;根据数学期望的性质有<br><br>\n",
    "<center>$E(A_k)=\\dfrac{1}{n}E(X^k_i)=\\mu_k$</center>\n",
    "\n",
    "&emsp;&emsp;因此估计量 $A_k$ 是 $\\mu_k$ 的无偏估计量"
   ]
  },
  {
   "cell_type": "markdown",
   "id": "2ee00f00",
   "metadata": {},
   "source": [
    "### 3.2 有效性"
   ]
  },
  {
   "cell_type": "markdown",
   "id": "f4180d9d",
   "metadata": {},
   "source": [
    "&emsp;&emsp;现在来比较参数 $\\theta$ 的两个无偏估计量 $\\hat{\\theta}_1$ 和 $\\hat{\\theta}_2$，如果在样本容量相同的情况下，$\\hat{\\theta}_1$ 的观察值比 $\\hat{\\theta}_2$ 更密集在真值 $\\theta$ 的附近，就认为 $\\hat{\\theta}_1$ 比 $\\hat{\\theta}_2$ 理想，由于方差是随机变量的取值与其数学期望的偏离程度的度量，所以无偏估计量以方差小者为好，这就引出了 **有效性** 这个概念"
   ]
  },
  {
   "cell_type": "markdown",
   "id": "4b14f81b",
   "metadata": {},
   "source": [
    "<div class=\"alert alert-info\" role=\"alert\"><span class=\"label label-success\">定义 $7.2$</span> 设 $\\hat{\\theta}_1=\\hat{\\theta}_1(X_1,X_2,\\dots,X_n)$ 和 $\\hat{\\theta}_2=\\hat{\\theta}_2(X_1,X_2,\\dots,X_n)$ 都是 $\\theta$ 的无偏估计量，若对于任意的 $\\theta\\in\\Theta$，有 $D(\\hat{\\theta}_1) \\le D(\\hat{\\theta}_2)$，且至少对于某一个 $\\theta\\in\\Theta$ 上式中的不等号成立，则称 $\\hat{\\theta}_1$ 比 $\\hat{\\theta}_2$ <strong>有效</strong></div>"
   ]
  },
  {
   "cell_type": "markdown",
   "id": "ec38742a",
   "metadata": {},
   "source": [
    "<div class=\"alert alert-danger\" role=\"alert\"><span class=\"label label-warning\">例题</span> 设 $X_1,X_2,\\dots,X_n$ 是总体 $X$ 的样本，且总体均值 $E(X)=\\mu$ 和方差 $D(X)=\\sigma^2$ 存在，证明当 $n>1$ 时，$\\mu$ 的无偏估计量 $\\bar{X}$ 比 $\\mu$ 的无偏估计量 $X_1$ 有效</div>\n",
    "\n",
    "&emsp;&emsp;由于 $D(X_1)=D(X)=\\sigma^2$，$D(\\bar{X})=\\dfrac{\\sigma^2}{n}$，所以当 $n>1$ 时，$D(X_1)=\\sigma^2>D(\\bar{X})=\\dfrac{\\sigma^2}{n}$，即 $\\bar{X}$ 比 $X_1$ 有效"
   ]
  },
  {
   "cell_type": "markdown",
   "id": "6a44046c",
   "metadata": {},
   "source": [
    "### 3.3 相合性"
   ]
  },
  {
   "cell_type": "markdown",
   "id": "bc6fadc4",
   "metadata": {},
   "source": [
    "&emsp;&emsp;无偏性和有效性都是在样本容量 $n$ 固定的前提下给出的，自然希望随着样本容量的增大，一个估计量的值稳定于待估参数的真值，因此估计量又有 **相合性** 的要求"
   ]
  },
  {
   "cell_type": "markdown",
   "id": "08537a44",
   "metadata": {},
   "source": [
    "<div class=\"alert alert-info\" role=\"alert\"><span class=\"label label-success\">定义 $7.3$</span> 设 $\\hat{\\theta}=\\hat{\\theta}(X_1,X_2,\\dots,X_n)$ 为参数 $\\theta$ 的估计量，当 $n\\to\\infty$ 时，$\\hat{\\theta}=\\hat{\\theta}(X_1,X_2,\\dots,X_n)$ 依概率收敛于 $\\theta$，则称 $\\hat{\\theta}$ 为 $\\theta$ 的 <strong>一致性估计量</strong> 或 <strong>相合估计量</strong>，即若对于任意 $\\theta\\in\\Theta$ 都满足对于任意 $\\epsilon>0$，有 $\\lim\\limits^{}_{n\\to\\infty}P(|\\hat{\\theta}-\\theta|<\\epsilon)=1$，则称 $\\hat{\\theta}$ 为 $\\theta$ 的 <strong>一致性估计量</strong></div>\n",
    "\n",
    "> 相合性是对一个估计量的基本要求，若估计量不具有相合性，那么不论将样本容量 $n$ 取得多么大，都不能将 $\\theta$ 估计得足够准确，这样的估计量是不可取的"
   ]
  },
  {
   "cell_type": "markdown",
   "id": "3f158d86",
   "metadata": {},
   "source": [
    "<div class=\"alert alert-danger\" role=\"alert\"><span class=\"label label-warning\">例题</span> 设 $X_1,X_2,\\dots,X_n$ 是总体 $X$ 的样本，证明 $\\bar{X}$ 是总体均值 $E(X)$ 的一致估计值</div>\n",
    "\n",
    "&emsp;&emsp;跟据 **切比雪夫大数定律**，在 $\\bar{X}\\overset{p}{\\longrightarrow}E(X)$，即样本均值 $\\bar{X}$ 依概率收敛于总体均值 $E(X)$，根据一致估计量的定义，样本均值 $X$ 是总体均值 $E(X)$ 的一致估计量"
   ]
  },
  {
   "cell_type": "markdown",
   "id": "3df08817",
   "metadata": {},
   "source": [
    "---"
   ]
  },
  {
   "cell_type": "markdown",
   "id": "0ab26231",
   "metadata": {},
   "source": [
    "## 第04节 区间估计"
   ]
  },
  {
   "cell_type": "markdown",
   "id": "61c757a6",
   "metadata": {},
   "source": [
    "### 4.1 区间估计的定义"
   ]
  },
  {
   "cell_type": "markdown",
   "id": "8f70324c",
   "metadata": {},
   "source": [
    "&emsp;&emsp;对于一个未知参数，只知道它的点估计有时还不能满意，还希望给出未知参数的一个范围，并希望知道这个范围包含参数真值的可信程度.为此，引进 **区间估计** 的有关概念"
   ]
  },
  {
   "cell_type": "markdown",
   "id": "fc1dc09c",
   "metadata": {},
   "source": [
    "<div class=\"alert alert-info\" role=\"alert\"><span class=\"label label-success\">定义 $7.4$</span> 设总体 $X$ 的分布函数 $F(x;\\theta)$ 含有一个未知函数 $\\theta,\\;\\theta\\in\\Theta$，$\\Theta$ 是 $\\theta$ 可能取值的范围，对于给定值 $a\\;(0<a<1)$，若由样本 $X_1,X_2,\\dots,X_n$ 确定的两个统计量 $\\underline{\\theta}=\\underline{\\theta}(X_1,X_2,\\dots,X_n)$ 和 $\\overline{\\theta}=\\overline{\\theta}(X_1,X_2,\\dots,X_n)$，对于 $\\theta\\in\\Theta$ 满足<br><br><center>$P(\\underline{\\theta}<\\theta<\\overline{\\theta})=1-a$</center><br>则称 $\\underline{\\theta},\\overline{\\theta}$ 为 $\\theta$ 的置信水平为 $1-a$ 的 <strong>置信区间</strong>，$\\underline{\\theta}$ 和 $\\overline{\\theta}$ 分别称为置信水平为 $1-a$ 的双侧置信区间的 <strong>置信下限</strong> 和 <strong>置信上限</strong>，$1-a$ 称为 <strong>置信水平</strong></div>"
   ]
  },
  {
   "cell_type": "markdown",
   "id": "afdb26f9",
   "metadata": {},
   "source": [
    "- $X$ 是 **连续型随机变量** 时，对于给定的 $a$，总是按要求 $P(\\underline{\\theta}<\\theta<\\overline{\\theta})=1-a$ 求出置信区间 \n",
    "- $X$ 是 **离散型随机变量** 时，对于给定的常常找不到区间 $\\underline{\\theta},\\overline{\\theta}$ 使得 $P(\\underline{\\theta}<\\theta<\\overline{\\theta})$ 恰为 $1-a$，此时去找区间 $\\underline{\\theta},\\overline{\\theta}$ 使得 $P(\\underline{\\theta}<\\theta<\\overline{\\theta})$ 至少为 $1-a$，且尽可能地接近 $1-a$\n",
    "\n",
    "&emsp;&emsp;区间估计定义若反复抽样多次 (各次得到的样本的容量都相等)，每个样本观察值确定一个区间 $\\underline{\\theta},\\overline{\\theta}$，每个这样的区间要么包含 $\\theta$ 的真值，要么不包含 $\\theta$ 的真值，按 **伯努利大数定律**，在这么多区间中，包含 $\\theta$ 真值的约占 $100(1-a)/100$，不包含 $\\theta$ 真值的约占 $100a/100$，例如若 $a=0.05$，反复抽样 $100$ 次得到 $100$ 个区间中，其中不包含 $\\theta$ 真值的约 $5$ 个"
   ]
  },
  {
   "cell_type": "markdown",
   "id": "f7e59fc8",
   "metadata": {},
   "source": [
    "<div class=\"alert alert-danger\" role=\"alert\"><span class=\"label label-warning\">例题</span> 设 $X\\backsim N(\\mu,\\sigma^2)$，$\\sigma^2$ 为已知，$X_1,X_2,\\dots,X_n$ 是来自 $X$ 的样本，求 $\\mu$ 的置信水平为 $1-a$ 的置信区间</div>\n",
    "\n",
    "&emsp;&emsp;由于 $\\bar{X}$ 为 $\\mu$ 的无偏估计量，且有 $\\dfrac{\\bar{X}-\\mu}{\\sigma/\\sqrt{n}}\\backsim N(0,1)$，按标准正态分布的上侧 $a$ 分位点的定义有<br>\n",
    "<center>$P(\\bigg|\\dfrac{\\bar{X}-\\mu}{\\sigma/\\sqrt{n}}\\bigg|<z_{\\frac{a}{2}})=1-a$</center><br>\n",
    "<center>$P(\\bar{X}-\\dfrac{\\sigma}{\\sqrt{n}}z_{\\frac{a}{2}}<\\mu<\\bar{X}+\\dfrac{\\sigma}{\\sqrt{n}}z_{\\frac{a}{2}})=1-a$</center><br>\n",
    "\n",
    "&emsp;&emsp;按照定义 $7.4$ 可以得到 $\\mu$ 的置信水平为 $1-a$ 的置信区间 $(\\bar{X}-\\dfrac{\\sigma}{\\sqrt{n}}z_{\\frac{a}{2}},\\bar{X}+\\dfrac{\\sigma}{\\sqrt{n}}z_{\\frac{a}{2}})$，如果取 $a=0.05$，即 $1-a=0.95$，查表得到 $z_{\\tfrac{a}{2}}=z_{0.025}=1.96$，若 $\\sigma=1$，$n=16$，于是得到一个 $\\mu$ 的置信水平为 $0.95$ 的置信区间 <br>\n",
    "<center>$(\\bar{X}-\\dfrac{1}{\\sqrt{16}}\\times1.96,\\bar{X}+\\dfrac{1}{\\sqrt{16}}\\times1.96)$</center><br>\n",
    "\n",
    "&emsp;&emsp;设 $\\bar{x}=5.20$，则可得到一个区间 $(4.71,5.69)$"
   ]
  },
  {
   "cell_type": "markdown",
   "id": "c4716c05",
   "metadata": {},
   "source": [
    "### 4.2 置信区间的特性"
   ]
  },
  {
   "cell_type": "markdown",
   "id": "028d8eef",
   "metadata": {},
   "source": [
    "- 若 $p=5.25$，$\\sigma=1$，可以用随机模拟法产生 $100$ 组 $N(5.25,1)$ 的随机样本，每组样本包含 $50$ 个观察值，现在画出 $100$ 个 $\\mu=5.25$ 的置信水平为 $1-a=0.95$ 的置信区间，如下左图所示\n",
    "- 若 $p=5.25$，$\\sigma=1$，可以用随机模拟法产生 $100$ 组 $N(5.25,1)$ 的随机样本，每组样本包含 $50$ 个观察值，现在画出 $100$ 个 $\\mu=5.25$ 的置信水平为 $1-a=0.90$ 的置信区间，如下右图所示\n",
    "\n",
    "![eval_boundary](https://s2.loli.net/2022/07/06/cwRqgmv58oTAISt.png)\n",
    "\n",
    "> 置信水平为 $0.95$ 的 $100$ 个区间中有 $94$ 个包含参数真值 $5.25$，另有 $6$ 个区间不包含参数真值 <br>\n",
    "> 置信水平为 $0.90$ 的 $100$ 个区间中有 $91$ 个包含参数真值 $5.25$，另有 $9$ 个区间不包含参数真值"
   ]
  },
  {
   "cell_type": "markdown",
   "id": "ee6bc56f",
   "metadata": {},
   "source": [
    "&emsp;&emsp;然而置信水平为 $1-a$ 的置信区间并 **不是唯一的**，如在上例中若给定 $a=0.05$，则 $P(-z_{0.04}<\\dfrac{\\bar{X}-\\mu}{\\sigma/\\sqrt{n}}<z_{0.01})=0.95$，这样又得到了 $\\mu$ 的另一个置信水平为 $1-a$ 的置信区间 <br><br>\n",
    "<center>$(\\bar{X}-\\dfrac{\\sigma}{\\sqrt{n}}z_{0.01},\\bar{X}+\\dfrac{\\sigma}{\\sqrt{n}}z_{0.04})$</center><br>\n",
    "\n",
    "&emsp;&emsp;原式给出的置信区间的长度为 $2\\dfrac{\\sigma}{\\sqrt{n}}z_{0.025}=3.92\\times\\dfrac{\\sigma}{\\sqrt{n}}$，上式给出的置信区间的长度为 $\\dfrac{\\sigma}{\\sqrt{n}}(z_{0.04}+z_{0.01})=4.08\\times\\dfrac{\\sigma}{\\sqrt{n}}$，显然 $3.92<4.08$，即原式比上式给出的区间更短，实际应用中对于同一个置信水平，区间的长度也是 **越短越好** "
   ]
  },
  {
   "cell_type": "markdown",
   "id": "9fc03a76",
   "metadata": {},
   "source": [
    "&emsp;&emsp;通过以上的例子，可以看到寻找未知参数 $\\theta$ 的置信区间的具体做法如下\n",
    "- 寻找一个样本 $X_1,X_2,\\dots,X_n$ 的函数 $W=W(X_1,X_2,\\dots,X_n;\\theta)$，它包含待估参数 $\\theta$ 而不包含其他未知参数，且 $W$ 的分布已知不依赖任何未知参数 \n",
    "- 对于给定的置信水平 $1-a$ 定出两个常数 $a,b$ 使 $P(a<W(X_1,X_2,\\dots,X_n;\\theta)<b)=1-a$\n",
    "- 若能从 $a<W(X_1,X_2,\\dots,X_n;\\theta)<b$ 得到等价的不等式 $\\underline{\\theta}<\\theta<\\overline{\\theta}$，其中 $\\underline{\\theta}=\\underline{\\theta}(X_1,X_2,\\dots,X_n)$，$\\overline{\\theta}=\\overline{\\theta}(X_1,X_2,\\dots,X_n)$ 都是统计量，那么 $(\\underline{\\theta},\\overline{\\theta})$ 就是 $\\theta$ 的置信水平为 $1-a$ 的置信区间"
   ]
  },
  {
   "cell_type": "markdown",
   "id": "2614faab",
   "metadata": {},
   "source": [
    "---"
   ]
  },
  {
   "cell_type": "markdown",
   "id": "6ec6fe83",
   "metadata": {},
   "source": [
    "## 第05节 正态总体均值与方差的区间估计"
   ]
  },
  {
   "cell_type": "markdown",
   "id": "c3d6a583",
   "metadata": {},
   "source": [
    "### 5.1 单个总体 $N(\\mu,\\sigma^2)$"
   ]
  },
  {
   "cell_type": "markdown",
   "id": "0124b12d",
   "metadata": {},
   "source": [
    "&emsp;&emsp;设已给定置信水平为 $1-a$，并设 $X_1,X_2,\\dots,X_n$ 是总体 $N(\\mu,\\sigma^2)$ 的样本，$\\bar{X},S^2$ 分别为样本均值和样本方差"
   ]
  },
  {
   "cell_type": "markdown",
   "id": "85b51d43",
   "metadata": {},
   "source": [
    "#### 5.1.1 均值 $\\mu$ 的置信区间"
   ]
  },
  {
   "cell_type": "markdown",
   "id": "5ede8ff0",
   "metadata": {},
   "source": [
    "- **$\\sigma^2$ 为已知** <br><br>\n",
    "采用枢轴量 $\\dfrac{\\bar{X}-\\mu}{\\sigma/\\sqrt{n}}$，已得到 $\\mu$ 的一个置信水平为 $1-a$ 的置信区间为 $(\\bar{X}\\pm\\dfrac{\\sigma}{\\sqrt{n}}z_{\\tfrac{a}{2}})$ <br><br>\n",
    "\n",
    "- **$\\sigma^2$ 为未知** <br><br>\n",
    "不能采用区间估计的公式，因其含有未知参数 $\\sigma$，考虑到 $S^2$ 是 $\\sigma^2$ 的无偏估计，可将原式中的 $\\sigma$ 换成 $S=\\sqrt{S^2}$，根据  Fisher 引理的推论 <br><br>\n",
    "<center>$\\dfrac{\\bar{X}-\\mu}{S/\\sqrt{n}}\\backsim t(n-1)$</center><br>\n",
    "这样新式右边不依赖于任何未知参数，按 $t$ 分布的上侧 $a$ 分位点的定义有 <br><br>\n",
    "<center>$P(\\dfrac{\\bar{x}-\\mu}{s/\\sqrt{n}}<t_{\\tfrac{a}{2}}(n-1))=1-a$</center><br>\n",
    "<center>$P(\\bar{X}-\\dfrac{S}{\\sqrt{n}}t_{\\tfrac{a}{2}}(n-1)<\\mu<\\bar{X}+\\dfrac{S}{\\sqrt{n}}t_{\\tfrac{a}{2}}(n-1))=1-a$</center><br>\n",
    "这样就得到了 $\\mu$ 的置信水平为 $1-a$ 的置信区间<br><br>\n",
    "<center>$(\\bar{X}-\\dfrac{S}{\\sqrt{n}}t_{\\tfrac{a}{2}}(n-1),\\bar{X}+\\dfrac{S}{\\sqrt{n}}t_{\\tfrac{a}{2}}(n-1))$</center>"
   ]
  },
  {
   "cell_type": "markdown",
   "id": "a85d3a25",
   "metadata": {},
   "source": [
    "<div class=\"alert alert-danger\" role=\"alert\"><span class=\"label label-warning\">例题</span> 设有一大批产品，现从中随机抽取 $16$ 个，其质量如下表所示，若该产品的质量服从正态分布，求总体均值 $\\mu$ 的置信水平为 $0.95$ 的置信区间</div>\n",
    "\n",
    "<table border=0 cellpadding=0 cellspacing=0 width=990 style='border-collapse:\n",
    " collapse;table-layout:fixed;'>\n",
    " <col span=8>\n",
    " <tr height=18>\n",
    "  <td style='text-align: center;'>$506$</td>\n",
    "  <td style='text-align: center;'>$508$</td>\n",
    "  <td style='text-align: center;'>$499$</td>\n",
    "  <td style='text-align: center;'>$503$</td>\n",
    "  <td style='text-align: center;'>$504$</td>\n",
    "  <td style='text-align: center;'>$510$</td>\n",
    "  <td style='text-align: center;'>$497$</td>\n",
    "  <td style='text-align: center;'>$512$</td>\n",
    " </tr>   \n",
    " <tr height=18>\n",
    "  <td style='text-align: center;'>$514$</td>\n",
    "  <td style='text-align: center;'>$505$</td>     \n",
    "  <td style='text-align: center;'>$493$</td>\n",
    "  <td style='text-align: center;'>$496$</td>\n",
    "  <td style='text-align: center;'>$506$</td>\n",
    "  <td style='text-align: center;'>$502$</td>\n",
    "  <td style='text-align: center;'>$509$</td>\n",
    "  <td style='text-align: center;'>$496$</td>   \n",
    " </tr>  \n",
    "</table>\n",
    "\n",
    "&emsp;&emsp;$1-a=0.95$，$\\dfrac{a}{2}=0.025$，$n-1=15$，$t_{0.025}(15)=2.1315$ 由所给数据算得 $\\bar{x}=503.75$，$s=6.2022$，从上式得 $\\mu$ 的置信水平为 $0.95$ 的置信区间 <br><br>\n",
    "<center>$503.75-\\dfrac{6.2022}{\\sqrt{16}}\\times2.1315,503.75+\\dfrac{6.2022}{\\sqrt{16}}\\times2.1315 = (500.4,507.1)$</center>"
   ]
  },
  {
   "cell_type": "markdown",
   "id": "9f4403ed",
   "metadata": {},
   "source": [
    "#### 5.1.2 方差 $\\sigma^2$ 的置信区间"
   ]
  },
  {
   "cell_type": "markdown",
   "id": "c8dcb87e",
   "metadata": {},
   "source": [
    "&emsp;&emsp;由于 $S^2$ 是 $\\sigma^2$ 的无偏估计，根据 Fisher 引理 <br><br>\n",
    "<center>$\\dfrac{(n-1)S^2}{\\sigma^2}\\backsim\\chi^2(n-1)$</center><br>\n",
    "&emsp;&emsp;这样新式右边不依赖于任何未知参数，按 $\\chi$ 分布的上侧 $a$ 分位点的定义有 <br><br>\n",
    "<center>$P\\bigg(\\chi^2_{1-\\tfrac{a}{2}}<\\dfrac{(n-1)S^2}{\\sigma^2}<\\chi^2_{\\tfrac{a}{2}}(n-1)\\bigg)=1-a$</center><br>\n",
    "<center>$P\\bigg(\\dfrac{(n-1)S^2}{\\chi^2_{\\tfrac{a}{2}}(n-1)}<\\sigma^2<\\dfrac{(n-1)S^2}{\\chi^2_{1-\\tfrac{a}{2}}(n-1)}\\bigg)=1-a$</center><br>\n",
    "&emsp;&emsp;$\\sigma^2$ 的置信水平为 $1-a$ 的置信区间 <br><br>\n",
    "<center>$\\bigg(\\dfrac{(n-1)S^2}{\\chi^2_{\\tfrac{a}{2}}(n-1)},\\dfrac{(n-1)S^2}{\\chi^2_{1-\\tfrac{a}{2}}(n-1)}\\bigg)$</center><br>\n",
    "&emsp;&emsp;$\\sigma$ 的置信水平为 $1-a$ 的置信区间 <br><br>\n",
    "<center>$\\bigg(\\dfrac{\\sqrt{(n-1)}S}{\\sqrt{\\chi^2_{\\tfrac{a}{2}}(n-1)}},\\dfrac{\\sqrt{(n-1)}S}{\\sqrt{\\chi^2_{1-\\tfrac{a}{2}}(n-1)}}\\bigg)$</center><br>"
   ]
  },
  {
   "cell_type": "markdown",
   "id": "c16e8116",
   "metadata": {},
   "source": [
    "<div class=\"alert alert-danger\" role=\"alert\"><span class=\"label label-warning\">例题</span> 设有一大批产品，现从中随机抽取 $16$ 个，其质量如下表所示，若该产品的质量服从正态分布，求标准差 $\\sigma$ 的置信水平为 $0.95$ 的置信区间</div>\n",
    "\n",
    "<table border=0 cellpadding=0 cellspacing=0 width=990 style='border-collapse:\n",
    " collapse;table-layout:fixed;'>\n",
    " <col span=8>\n",
    " <tr height=18>\n",
    "  <td style='text-align: center;'>$506$</td>\n",
    "  <td style='text-align: center;'>$508$</td>\n",
    "  <td style='text-align: center;'>$499$</td>\n",
    "  <td style='text-align: center;'>$503$</td>\n",
    "  <td style='text-align: center;'>$504$</td>\n",
    "  <td style='text-align: center;'>$510$</td>\n",
    "  <td style='text-align: center;'>$497$</td>\n",
    "  <td style='text-align: center;'>$512$</td>\n",
    " </tr>   \n",
    " <tr height=18>\n",
    "  <td style='text-align: center;'>$514$</td>\n",
    "  <td style='text-align: center;'>$505$</td>     \n",
    "  <td style='text-align: center;'>$493$</td>\n",
    "  <td style='text-align: center;'>$496$</td>\n",
    "  <td style='text-align: center;'>$506$</td>\n",
    "  <td style='text-align: center;'>$502$</td>\n",
    "  <td style='text-align: center;'>$509$</td>\n",
    "  <td style='text-align: center;'>$496$</td>   \n",
    " </tr>  \n",
    "</table>\n",
    "\n",
    "&emsp;&emsp;$1-a=0.95$，$\\dfrac{a}{2}=0.025$，$n-1=15$，查表得 $\\chi^2_{0.025}(15)=27.448$，$\\chi^2_{0.975}(15)=6.262$，从上式得 $\\sigma$ 的置信水平为 $0.95$ 的置信区间 <br><br>\n",
    "<center>$\\dfrac{\\sqrt{15}\\cdot6.2022}{\\sqrt{27.448}},\\dfrac{\\sqrt{15}\\cdot6.2022}{\\sqrt{6.262}} = (4.58,9.60)$</center>"
   ]
  },
  {
   "cell_type": "markdown",
   "id": "a466dde1",
   "metadata": {},
   "source": [
    "<center><strong>—个正态总体均值和方差的置信区间 (置信水平为 $1-a$)</strong></center>\n",
    "\n",
    "<table border=0 cellpadding=0 cellspacing=0 width=990 style='border-collapse:\n",
    " collapse;table-layout:auto;'>\n",
    " <col span=3>\n",
    " <tr height=18>\n",
    "  <td style='text-align: center;'><strong>参数</strong></td>\n",
    "  <td style='text-align: center;'><strong>$W$ 的分布</strong></td>\n",
    "  <td style='text-align: center;'><strong>置信区间</strong></td>\n",
    " </tr>   \n",
    " <tr height=36>\n",
    "  <td style='text-align: center;'><strong>$\\mu$ ($\\sigma^2$ 已知)</strong></td>\n",
    "  <td style='text-align: center;'>$Z=\\dfrac{\\bar{X}-\\mu}{\\sigma/\\sqrt{n}}\\backsim N(0,1)$</td>     \n",
    "  <td style='text-align: center;'>$(\\bar{X}-\\dfrac{\\sigma}{\\sqrt{n}}z_{\\tfrac{a}{2}},\\bar{X}+\\dfrac{\\sigma}{\\sqrt{n}}t_{\\tfrac{a}{2}})$</td>  \n",
    " </tr>\n",
    "  <tr height=36>\n",
    "  <td style='text-align: center;'><strong>$\\mu$ ($\\sigma^2$ 未知)</strong></td>\n",
    "  <td style='text-align: center;'>$t=\\dfrac{\\bar{X}-\\mu}{S/\\sqrt{n}}\\backsim t(n-1)$</td>     \n",
    "  <td style='text-align: center;'>$(\\bar{X}-\\dfrac{S}{\\sqrt{n}}t_{\\tfrac{a}{2}}(n-1),\\bar{X}+\\dfrac{S}{\\sqrt{n}}t_{\\tfrac{a}{2}}(n-1))$</td>  \n",
    " </tr>\n",
    "  <tr height=36>\n",
    "  <td style='text-align: center;'><strong>$\\sigma^2$ ($\\mu$ 未知)</strong></td>\n",
    "  <td style='text-align: center;'>$\\chi^2=\\dfrac{(n-1)S^2}{\\sigma^2}\\backsim \\chi^2(n-1)$</td>     \n",
    "  <td style='text-align: center;'>$\\bigg(\\dfrac{(n-1)S^2}{\\chi^2_{\\tfrac{a}{2}}(n-1)},\\dfrac{(n-1)S^2}{\\chi^2_{1-\\tfrac{a}{2}}(n-1)}\\bigg)$</td>  \n",
    " </tr>\n",
    "</table>"
   ]
  },
  {
   "cell_type": "markdown",
   "id": "7cc5e91a",
   "metadata": {},
   "source": [
    "### 5.2 两个总体 $N(\\mu_1,\\sigma_1^2),N(\\mu_2,\\sigma_2^2)$"
   ]
  },
  {
   "cell_type": "markdown",
   "id": "7c55013d",
   "metadata": {},
   "source": [
    "&emsp;&emsp;设已给定置信水平为 $1-a$，并设 $X_1,X_2,\\dots,X_{n_1}$ 和 $Y_1,Y_2,\\dots,Y_{n_2}$ 分别是两个正态总体 $N(\\mu_1,\\sigma_1^2)$，$N(\\mu_2,\\sigma_2^2)$ 的样本，且这两个样本相互独立，$\\bar{X},\\bar{Y}$ 分别为两个样本的均值，$S^2_1,S^2_2$ 分别为两个样本的方差"
   ]
  },
  {
   "cell_type": "markdown",
   "id": "ecad7f65",
   "metadata": {},
   "source": [
    "#### 5.1.1 均值差 $\\mu_1-\\mu_2$ 的置信区间"
   ]
  },
  {
   "cell_type": "markdown",
   "id": "8b63a98c",
   "metadata": {},
   "source": [
    "- **$\\sigma^2_1,\\sigma^2_2$ 均为已知** <br><br>\n",
    "由于 $\\bar{X},\\bar{Y}$ 分别为 $\\mu_1,\\mu_2$ 的无偏估计，所以 $\\bar{X}-\\bar{Y}$ 为 $\\mu_1-\\mu_2$ 的无偏估计，由 $\\bar{X},\\bar{Y}$ 的独立性以及 $\\bar{X}\\backsim N(\\mu_1,\\sigma^2_1/n_1)$，$\\bar{Y}\\backsim N(\\mu_2,\\sigma^2_2/n_2)$ 可得 $\\bar{X}-\\bar{Y}\\backsim N(\\mu_1-\\mu_2,\\sigma^2_1/n_1+\\sigma^2_2/n_2)$ <br><br>\n",
    "<center>$\\dfrac{(\\bar{X}-\\bar{Y})-(\\mu_1-\\mu_2)}{\\sqrt{\\dfrac{\\sigma^2_1}{n_1}+\\dfrac{\\sigma^2_2}{n_2}}}\\backsim N(0,1)$</center><br>\n",
    "与一个总体均值的置信区间类似，得 $\\mu_1-\\mu_2$ 的置信水平为 $1-a$ 的置信区间 <br><br>\n",
    "<center>$(\\bar{X}-\\bar{Y}-z_{\\tfrac{a}{2}}\\sqrt{\\dfrac{\\sigma^2_1}{n_1}+\\dfrac{\\sigma^2_2}{n_2}},\\bar{X}-\\bar{Y}+z_{\\tfrac{a}{2}}\\sqrt{\\dfrac{\\sigma^2_1}{n_1}+\\dfrac{\\sigma^2_2}{n_2}})$</center><br>\n",
    "\n",
    "- **$\\sigma^2_1=\\sigma^2_2=\\sigma^2$，但 $\\sigma^2$ 为未知** <br><br>\n",
    "不能采用区间估计的公式，因其含有未知参数 $\\sigma$，考虑到 $S^2$ 是 $\\sigma^2$ 的无偏估计，可将原式中的 $\\sigma$ 换成 $S=\\sqrt{S^2}$，根据  Fisher 引理的推论 <br><br>\n",
    "<center>$\\dfrac{\\bar{X}-\\bar{Y}-(\\mu_1-\\mu_2)}{S_w\\sqrt{\\dfrac{1}{n_1}+\\dfrac{1}{n_2}}}\\backsim t(n_1+n_2-2)$</center><br>\n",
    "由此得 $\\mu_1-\\mu_2$ 的置信水平为 $1-a$ 的置信区间<br><br>\n",
    "<center>$(\\bar{X}-\\bar{Y}-t_{\\tfrac{a}{2}}(n_1+n_2-2)S_w\\sqrt{\\dfrac{1}{n_1}+\\dfrac{1}{n_2}},\\bar{X}-\\bar{Y}+t_{\\tfrac{a}{2}}(n_1+n_2-2)S_w\\sqrt{\\dfrac{1}{n_1}+\\dfrac{1}{n_2}}$</center><br>\n",
    "其中 $S^2_w=\\dfrac{(n_1-1)S^2_1+(n_2-1)S^2_2}{n_1+n_2-2}$，$S_w=\\sqrt{S^2_w}$"
   ]
  },
  {
   "cell_type": "markdown",
   "id": "7e12e941",
   "metadata": {},
   "source": [
    "<div class=\"alert alert-danger\" role=\"alert\"><span class=\"label label-warning\">例题</span> $2003$ 年某地区分行业调查职工平均工资情况，已知体育、卫生、社会福利事业单位职工工资 $X\\backsim N(\\mu_1,218^2)$，文教、艺术、广播事业单位职工工资 $Y\\backsim N(\\mu_2,227^2)$，从总体 $X$ 中调查 $25$ 人，得到平均工资为 $1286$ 元，从总体 $Y$ 中调查 $30$ 人，得到平均工资为 $1272$ 元，求这两大行业职工平均工资之差的置信水平为 $0.99$ 的置信区间</div>\n",
    "\n",
    "&emsp;&emsp;$1-a=0.99$，$\\dfrac{a}{2}=0.005$，$z_{0.005}=2.576$，$n_1=25$，$n_2=30$，$\\sigma^2_1=218^2$，$\\sigma^2_2=227^2$，$\\bar{x}=1286$，$\\bar{y}=1272$，从上式得 $\\mu_1-\\mu_2$ 的置信水平为 $0.99$ 的置信区间 <br><br>\n",
    "<center>$1286-1272-2.576\\cdot\\sqrt{\\dfrac{218^2}{25}+\\dfrac{227^2}{30}},1286-1272+2.576\\cdot\\sqrt{\\dfrac{218^2}{25}+\\dfrac{227^2}{30}} = (-140.96,168.96)$</center><br>\n",
    "\n",
    "由于这个置信区间包含 $0$，在实际中就可以认为这两大行业职工平均工资 **没有显著差异**"
   ]
  },
  {
   "cell_type": "markdown",
   "id": "e3411813",
   "metadata": {},
   "source": [
    "<div class=\"alert alert-danger\" role=\"alert\"><span class=\"label label-warning\">例题</span> 为比较 $I,II$ 两种型号步枪子弹的枪口速度，随机地取 $I$ 型子弹 $10$ 发，得到枪口速度的平均值为 $\\bar{x}= 500m/s$，标准差 $s_1=1.10m/s$，随机地取 $II$ 型子弹 $20$ 发，得到枪口速度的平均值为 $\\bar{x_2} = 496m/s$，标准差 $s_2=1.20m/s$，假设两总体都服从正态分布，且由生产过程可以认为方差相等，求两总体均值差 $\\mu_1-\\mu_2$ 的置信水平为 $0.95$ 的置信区间</div>\n",
    "\n",
    "&emsp;&emsp;$1-a=0.95$，$\\dfrac{a}{2}=0.025$，$n_1=10$，$n_2=20$，$n_1+n_2-2=28$，$t_{0.025}(28)=2.0484$，$s_w=1.1688$，$\\bar{x}=500$，$\\bar{y}=496$，从上式得 $\\mu_1-\\mu_2$ 的置信水平为 $0.95$ 的置信区间 <br><br>\n",
    "<center>$500-496-2.0484\\cdot1.1688{\\dfrac{1}{10}+\\dfrac{1}{20}},500-496+2.0484\\cdot1.1688{\\dfrac{1}{10}+\\dfrac{1}{20}} = (3.07,4.93)$</center><br>\n",
    "\n",
    "由于这个置信区间的下限大于 $0$，在实际中可以认为 $\\mu_1$ 比 $\\mu_2$ 大"
   ]
  },
  {
   "cell_type": "markdown",
   "id": "16a41a04",
   "metadata": {},
   "source": [
    "#### 5.2.2 方差比 $\\sigma^2_1/\\sigma^2_2$ 的置信区间"
   ]
  },
  {
   "cell_type": "markdown",
   "id": "44d298ce",
   "metadata": {},
   "source": [
    "&emsp;&emsp;根据 Fisher 引理可知，$\\dfrac{S^2_1/S^2_2}{\\sigma^2_1\\sigma^2_2}\\backsim F(n_1-1,n_2-1)$，并且 $F(n_1-1,n_2-1)$ 不依赖于任何参数，由此可得 <br><br>\n",
    "<center>$P\\big(F_{1-a/2}(n_1-1,n_2-1)<\\dfrac{S^2_1/S^2_2}{\\sigma^2_1\\sigma^2_2}<F_{a/2}(n_1-1,n_2-1)\\big)=1-a$</center><br>\n",
    "<center>$P\\bigg(\\dfrac{S^2_1}{S^2_2}\\dfrac{1}{F_{a/2}(n_1-1,n_2-1)}<\\dfrac{\\sigma^2_1}{\\sigma^2_2}<\\dfrac{S^2_1}{S^2_2}\\dfrac{1}{F_{1-a/2}(n_1-1,n_2-1)}\\bigg)=1-a$</center><br>\n",
    "\n",
    "&emsp;&emsp;由此得 $\\sigma^2_1/\\sigma^2_2$  置信水平为 $1−a$ 的置信区间 <br><br>\n",
    "<center>$\\bigg(\\dfrac{S^2_1}{S^2_2}\\dfrac{1}{F_{a/2}(n_1-1,n_2-1)},\\dfrac{S^2_1}{S^2_2}\\dfrac{1}{F_{1-a/2}(n_1-1,n_2-1)}\\bigg)$</center>"
   ]
  },
  {
   "cell_type": "markdown",
   "id": "cb0083e6",
   "metadata": {},
   "source": [
    "<div class=\"alert alert-danger\" role=\"alert\"><span class=\"label label-warning\">例题</span> 研究机器 $A$ 和机器 $B$ 生产的钢管的内径，随机抽取机器 $A$ 生产的钢管 $18$ 根，测得样本方差 $s^2_1=0.34mm^2$，抽取机器 $B$ 生产的钢管 $13$ 根，测得样本方差 $s^2_2=0.29mm^2$，设两个样本独立，且由机器 $A$ 和机器 $B$ 生产的钢管的内径分别服从正态分布 $N(\\mu_1,\\sigma_1^2)$，$N(\\mu_2,\\sigma_2^2)$，$(\\mu_1,\\mu_2,\\sigma_1^2,\\sigma_2^2)$ 未知，试求方差之比 $\\sigma_1^2/\\sigma_2^2$ 的置信水平为 $0.9$ 的置信区间</div>\n",
    "\n",
    "&emsp;&emsp;$n_1=18$，$n_2=13$，$s_1^2=0.34$，$s_2^2=0.29$，$a=0.10$，$n_1+n_2-2=28$，$F_{1-\\tfrac{a}{2}}(n_1-1,n_2-1)=F_{0.95}(17,12)=\\dfrac{1}{2.38}$，$F_{\\tfrac{a}{2}}(n_1-1,n_2-1)=F_{0.05}(17,12)=2.59$，从上式得 $\\sigma_1^2/\\sigma_2^2$ 的置信水平为 $0.95$ 的置信区间 <br><br>\n",
    "<center>$\\bigg(\\dfrac{0.34}{0.29}\\cdot\\dfrac{1}{2.59},\\dfrac{0.34}{0.29}\\cdot2.38\\bigg)=(0.45,2.79)$</center><br>\n",
    "\n",
    "由于 $\\sigma_1^2/\\sigma_2^2$ 的置信区间包含 $1$，在实际问题中我们可以认为 $\\sigma_1^2$ 和 $\\sigma_2^2$ 没有显著差别"
   ]
  },
  {
   "cell_type": "markdown",
   "id": "29c7f7fa",
   "metadata": {},
   "source": [
    "<center><strong>两个正态总体均值之差和方差之比的置信区间 (置信水平为 $1-a$)</strong></center>\n",
    "\n",
    "<table border=0 cellpadding=0 cellspacing=0 width=990 style='border-collapse:\n",
    " collapse;table-layout:auto;'>\n",
    " <col span=3>\n",
    " <tr height=18>\n",
    "  <td style='text-align: center;'><strong>参数</strong></td>\n",
    "  <td style='text-align: center;'><strong>$W$ 的分布</strong></td>\n",
    "  <td style='text-align: center;'><strong>置信区间</strong></td>\n",
    " </tr>   \n",
    " <tr height=54>\n",
    "  <td style='text-align: center;'><strong>$\\mu_1-\\mu_2$ <br>($\\sigma^2_1,\\sigma^2_2$ 已知)</strong></td>\n",
    "  <td style='text-align: center;'>$Z=\\dfrac{(\\bar{X}-\\bar{Y})-(\\mu_1-\\mu_2)}{\\sqrt{\\dfrac{\\sigma^2_1}{n_1}+\\dfrac{\\sigma^2_2}{n_2}}}\\backsim N(0,1)$</td>     \n",
    "  <td style='text-align: center;'>$\\big(\\bar{X}-\\bar{Y}-z_{\\tfrac{a}{2}}\\sqrt{\\dfrac{\\sigma^2_1}{n_1}+\\dfrac{\\sigma^2_2}{n_2}},\\bar{X}-\\bar{Y}+z_{\\tfrac{a}{2}}\\sqrt{\\dfrac{\\sigma^2_1}{n_1}+\\dfrac{\\sigma^2_2}{n_2}}\\big)$</td>  \n",
    " </tr>\n",
    "  <tr height=54>\n",
    "  <td style='text-align: center;'><strong>$\\mu_1-\\mu_2$ <br>($\\sigma^2_1=\\sigma^2_2=\\sigma^2$,<br>$\\sigma^2$ 未知)</strong></td>\n",
    "  <td style='text-align: center;'>$t=\\dfrac{\\bar{X}-\\bar{Y}-(\\mu_1-\\mu_2)}{S_w\\sqrt{\\dfrac{1}{n_1}+\\dfrac{1}{n_2}}}\\backsim t(n_1+n_2-2)$</td>     \n",
    "  <td style='text-align: center;'>$\\big(\\bar{X}-\\bar{Y}-t_{\\tfrac{a}{2}}(n_1+n_2-2)S',\\bar{X}-\\bar{Y}+t_{\\tfrac{a}{2}}(n_1+n_2-2)S'\\big)$<br>$S'=S_w\\sqrt{\\dfrac{1}{n_1}+\\dfrac{1}{n_2}}$</td>  \n",
    " </tr>\n",
    "  <tr height=54>\n",
    "  <td style='text-align: center;'><strong>$\\dfrac{\\sigma^2_1}{\\sigma^2_2}$ <br>($\\mu_1,\\mu_2$ 未知)</strong></td>\n",
    "  <td style='text-align: center;'>$F=\\dfrac{S^2_1/S^2_2}{\\sigma^2_1\\sigma^2_2}\\backsim F(n_1-1,n_2-1)$</td>     \n",
    "  <td style='text-align: center;'>$\\bigg(\\dfrac{S^2_1}{S^2_2}\\dfrac{1}{F_{a/2}(n_1-1,n_2-1)},\\dfrac{S^2_1}{S^2_2}\\dfrac{1}{F_{1-a/2}(n_1-1,n_2-1)}\\bigg)$</td>  \n",
    " </tr>\n",
    "</table>"
   ]
  },
  {
   "cell_type": "markdown",
   "id": "ac130727",
   "metadata": {},
   "source": [
    "---"
   ]
  },
  {
   "cell_type": "markdown",
   "id": "317f5e2d",
   "metadata": {},
   "source": [
    "## 附录 数理统计发展简史(上)"
   ]
  },
  {
   "cell_type": "markdown",
   "id": "65b20a20",
   "metadata": {},
   "source": [
    "&emsp;&emsp;相对于其他许多数学分支而言，数理统计是一个比较年轻的数学分支，多数人认为它的形成是在 $20$ 世纪 $40$ 年代克拉美 (Carmer) 的著作 `统计学的数学方法` 问世之时，它使得 $1945$ 年以前的 $25$ 年间英、美统计学家在统计学方面的工作与法、俄数学家在概率论方面的工作结合起来，从而形成数理统计这门学科. 它是以对随机现象观测所取得的资料为出发点，以概率论为基础来研究随机现象的一门学科，它有很多分支，但其基本内容为 **采集样本** 和 **统计推断** 两大部分，发展到今天的现代数理统计学，又经历了各种历史变迁.\n",
    "\n",
    "&emsp;&emsp;统计的早期开端大约是在公元前 $1$ 世纪初的人口普查计算中，这是统计性质的工作, 但还不能算作是现代意义下的统计学. 到了 $18$ 世纪，统计才开始向一门独立的学科发展，用于描述表征一个状态的条件的一些特征，这是由于受到 **概率论** 的影响\n",
    "\n",
    "&emsp;&emsp;高斯从描述天文观测的误差而引进正态分布，并使用 **最小二乘法** 作为估计方法,是近代数理统计学发展初期的重大事件，$18$ 世纪到 $19$ 世纪初期的这些贡献，对社会发展有很大的影响. 例如用 **正态分布** 描述观测数据后来被广泛地用到生物学中，其应用是如此普遍以至在 $19$ 世纪相当长的时期内，包括高尔顿 (Galton) 在内的一些学者，认为这个分布可用于描述几乎是一切常见的数据. 直到现在有关正态分布的统计方法，仍占据着常用统计方法中很重要的一部分，而最小二乘法方面的工作在 $20$ 世纪初以来，又经过了一些学者的发展，如今成了数理统计学中的主要方法之一\n",
    "\n",
    "&emsp;&emsp;从高斯到 $20$ 世纪初这一段时间，统计学理论发展不快，但仍有若干工作对后世产生了很大的影响. 其中如贝叶斯 (Bayes) 在 $1763$ 年发表的 `论有关机遇问题的求解`，提出了进行统计推断的方法论方面的一种见解，在这个时期中逐步发展成统计学中的 **贝叶斯学派** (如今这个学派的影响愈来愈大)，现在我们所理解的统计推断程序，最早的是贝叶斯方法，高斯和拉普拉斯应用贝叶斯定理讨论了参数的估计法，那时使用的符号和术语至今仍然沿用. 再如前面提到的高尔顿在回归方面的先驱性工作，也是这个时期中的主要发展，他在遗传研究中为了弄清父子两辈特征的相关关系，揭示了统计方法在生物学研究中的应用，他引进回归直线、相关系数的概念，创始了 **回归分析**\n",
    "\n",
    "&emsp;&emsp;数理统计学发展史上极重要的一个时期是从 $19$ 世纪到第二次世界大战结束，现在多数人倾向于把现代数理统计学的起点和达到成熟定为这个时期的始末，这确是数理统计学蓬勃发展的一个时期，许多重要的基本观点、方法，统计学中主要的分支学科，都是在这个时期建立和发展起来的. 以费歇尔（Fisher) 和皮尔逊 (Pearson) 为首的英国统计学派，在这个时期起了主导作用\n",
    "\n",
    "&emsp;&emsp;继高尔顿之后，皮尔逊进一步发展了回归与相关的理论，成功地创建了生物统计学，并得到了 **总体** 的概念，$1891$ 年之后皮尔逊潜心研究区分物种时用的数据的分布理论，提出了 **概率** 和 **相关** 的概念，接着又提出 **标准差、正态曲线、平均变差、均方根误差** 等一系列数理统计基本术语. 皮尔逊致力于大样本理论的研究，他发现不少生物方面的数据有显著的偏态，不适合用正态分布去刻画，为此他提出了后来以他的名字命名的分布族,为估计这个分布族中的参数，他提出了**矩法** 为考察实际数据与这族分布的拟合分布优劣问题，他引进了著名 $\\chi^2$ 检验法，并在理论上研究了其性质，这个检验法是假设检验最早、最典型的方法，他在理论分布完全给定的情况下求出了检验统计量的极限分布\n",
    "\n",
    "&emsp;&emsp;$1908$ 年，皮尔逊的学生戈赛特 (Gosset) 发现了精确分布，创始了 **精确样本理论**，他署名 Student 在《生物统计学》上发表文章，改进了皮尔逊的方法. 他的发现不仅不再依靠近似计算，而且能用所谓小样本进行统计推断, 现在 Student 分布已成为数理统计学中的常用工具, Student 氏也是一个常见的术语"
   ]
  }
 ],
 "metadata": {
  "kernelspec": {
   "display_name": "Python 3",
   "language": "python",
   "name": "python3"
  },
  "language_info": {
   "codemirror_mode": {
    "name": "ipython",
    "version": 3
   },
   "file_extension": ".py",
   "mimetype": "text/x-python",
   "name": "python",
   "nbconvert_exporter": "python",
   "pygments_lexer": "ipython3",
   "version": "3.8.8"
  }
 },
 "nbformat": 4,
 "nbformat_minor": 5
}

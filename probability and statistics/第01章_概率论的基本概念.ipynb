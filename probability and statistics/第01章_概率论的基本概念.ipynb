{
 "cells": [
  {
   "cell_type": "markdown",
   "id": "b280c8d9",
   "metadata": {},
   "source": [
    "# 第01章  概率论的基本概念"
   ]
  },
  {
   "cell_type": "markdown",
   "id": "b2a21a80",
   "metadata": {},
   "source": [
    "---"
   ]
  },
  {
   "cell_type": "markdown",
   "id": "65058f20",
   "metadata": {},
   "source": [
    "## 序言"
   ]
  },
  {
   "cell_type": "markdown",
   "id": "031bf5bd",
   "metadata": {},
   "source": [
    "### 1.内容介绍\n",
    "\n",
    "&emsp;&emsp;本章详细介绍了随机试验、样本空间与随机事件、频率与概率、等可能概率、条件概率、独立性等定义，对其原理与例题进行了一一阐述\n",
    "\n",
    "### 2.理论目标\n",
    "\n",
    "- 掌握确定性现象与随机现象、试验与随机试验\n",
    "- 掌握样本空间与随机事件、事件关系与运算\n",
    "- 掌握频率与概率的定义\n",
    "- 掌握等可能概率与几何概型\n",
    "- 掌握条件概率、乘法公式、全概率公式与贝叶斯公式\n",
    "- 掌握事件独立性与伯努利模型\n",
    "\n",
    "### 3.实践目标\n",
    "\n",
    "- 无\n",
    "\n",
    "### 4.实践案例\n",
    "\n",
    "- 无\n",
    "\n",
    "### 5.内容目录\n",
    "\n",
    "- 1.随机试验\n",
    "- 2.样本空间与随机事件\n",
    "- 3.频率与概率\n",
    "- 4.等可能概率\n",
    "- 5.条件概率\n",
    "- 6.独立性"
   ]
  },
  {
   "cell_type": "markdown",
   "id": "4c2006f0",
   "metadata": {},
   "source": [
    "---"
   ]
  },
  {
   "cell_type": "markdown",
   "id": "805040a0",
   "metadata": {},
   "source": [
    "&emsp;&emsp;**概率论与数理统计** 是一门从数量方面研究随机现象客观规律性的学科。早于 $20$ 世纪 $30$ 年代，俄国的数学家柯尔莫哥洛夫在概率论发展上做出了杰出贡献，概率论也因此称为一门严谨的数学分支，近代出现了理论概率及应用概率的分支，其也被广泛应用于不同范畴和不同学科\n",
    "> 研究概率论一般是根据问题先提出数学模型，然后研究模型的性质、特征和规律性\n",
    "\n",
    "> 研究数理统计是以概率论的理论为基础，利用对随机现象进行观察和试验取得的数据资料来研究数学模型\n",
    "\n",
    "&emsp;&emsp;近几十年来，概率论与数理统计已广泛应用于工业、农业、军事以及科学技术各领域中，一方面为科学技术、工农业生产等的现代化做出了重要的贡献，另一方面广泛的应用也极大地促进了概率论与数理统计的发展。概率论与数理统计的理论和方法的应用范围越来越广泛，几乎遍及所有科学技术领域\n",
    "- 自动控制\n",
    "- 通信工程\n",
    "- 土木工程\n",
    "- 机电工程\n",
    "- 管理工程\n",
    "- 金融工程<br>\n",
    "$\\dots$\n",
    "\n",
    "&emsp;&emsp;另外，概率论正在向其他学科渗透并由此产生了许多边缘性应用学科，如信息论、计量经济学等"
   ]
  },
  {
   "cell_type": "markdown",
   "id": "5d003467",
   "metadata": {},
   "source": [
    "## 第01节 随机试验"
   ]
  },
  {
   "cell_type": "markdown",
   "id": "8e929129",
   "metadata": {},
   "source": [
    "### 1.1 确定性现象与随机现象"
   ]
  },
  {
   "cell_type": "markdown",
   "id": "b7fcdacb",
   "metadata": {},
   "source": [
    "&emsp;&emsp;概率论与数理统计是研究 **随机现象统计规律** 的一门数学学科，在自然界和人类社会生活中普遍存在两类现象:\n",
    "- `确定性现象`, 即在一定现象下必然发生或者必然不发生的现象，例如: <br><br>\n",
    "  \"向上抛一个石头，石头必然下落\"<br>\n",
    "  \"同性电荷相互排斥\"<br>\n",
    "  \"边长为 $a,b$ 的矩形，其面积必为 $a\\times b$ \"<br>\n",
    "  \"一个质点沿直线移动的位移为 $s(t)$，则此质点在 $t$ 时刻的速度必定是 $v(t) = \\frac{ds(t)}{dt}$ \" <br>\n",
    "  $\\dots$ <br><br>\n",
    "- `随机现象`，即在相同的条件下进行一系列重复试验或观察，每次出现的结果并不完全一样，在每次观察前无法预料准确的结果，其结果呈现 **不确定性**，例如: <br><br>\n",
    "  \"在相同条件下抛掷硬币，其结果可能正面朝上，也可能反面朝上\"<br>\n",
    "  \"向同一目标射击，每次弹着点不同，每次射击之前也无法预测准确弹着点\"<br>\n",
    "  $\\dots$"
   ]
  },
  {
   "cell_type": "markdown",
   "id": "2ff860cd",
   "metadata": {},
   "source": [
    "&emsp;&emsp;人们经过长期实践及深入研究后，发现随机现象虽然就每次试验或观察结果来说具有不确定性，但在大量重复试验或观察下，它的结果却呈现出某种 **规律性**\n",
    ">抛掷一枚硬币，如果硬币是均匀的，当抛掷次数少时，正面朝上、反面朝上的次数没有明显的规律性，但随着抛掷次数的增加，正面朝上和反面朝上的次数的比值接近 $1:1$\n",
    "\n",
    ">射击中，当射击次数少时，靶上命中点是杂乱无章的，没有明显的规律性，但随着射击次数的增加，靶上命中点的分布就呈现出规律性，射击的次数越多，规律性越明显\n",
    "\n",
    "&emsp;&emsp;个别随机现象虽然是无规律的，但大量性质相同的随机现象总存在某种统计规律性，这就是常说的 **偶然性的背后一定隐藏某种必然性**"
   ]
  },
  {
   "cell_type": "markdown",
   "id": "a23ac394",
   "metadata": {},
   "source": [
    "### 1.2 试验示例"
   ]
  },
  {
   "cell_type": "markdown",
   "id": "6c6b9c07",
   "metadata": {},
   "source": [
    "&emsp;&emsp;为了理解确定性现象与随机现象在实际现实中的应用，开始两个简单的试验\n",
    "\n",
    "&emsp;&emsp;**试验** $\\sf1$：一个盒子中有 $10$ 个完全相同的白球，从中随机取出任意 $1$ 球 <br>\n",
    "&emsp;&emsp;**试验** $\\sf2$：一个盒子中有 $10$ 个相同形状与质量的球，$5$ 个是白色的，$5$ 个是黑色的，从中随机取出任意 $1$ 球"
   ]
  },
  {
   "cell_type": "markdown",
   "id": "ea88fb12",
   "metadata": {},
   "source": [
    "&emsp;&emsp;对于 **试验** $\\sf1$，在球没有取出之前，就能确定取出的必定是白球，因此这种试验，根据试验开始时的条件，就可以确定试验的结果；对于 **试验** $\\sf2$，在球没有取出之前，无法确定试验的结果，即取出的球，是白的还是黑的。对于这一类试验，如果从盒子中反复多次取球 *(每次取出一球记录颜色后重新放回盒子)*，那么总是可以观察到 <br>\n",
    "$\\qquad\\qquad\\qquad\\qquad\\qquad$ **出现白球的次数 $n_{白}$ 和出现黑球的次数 $n_{黑}$ 是逐渐趋向接近的,比值 $\\frac{n_{白}}{n}$ 与 $\\frac{n_{黑}}{n}$ 会逐渐稳定在 $\\frac{1}{2}$** <br>\n",
    "> 出现这个事实是因为在盒子里白球数等于黑球数，从中任意摸取一个球，取得白球或黑球的机会应当是相等的"
   ]
  },
  {
   "cell_type": "markdown",
   "id": "d5c62cd2",
   "metadata": {},
   "source": [
    "&emsp;&emsp;上述示例代表两种类型的试验 <br><br>\n",
    "&emsp;&emsp; **试验** $\\sf{1}$ 在试验之前就能断定它有一个确定的结果，这种类型的试验所对应的现象，称为 **确定性现象** <br>\n",
    "&emsp;&emsp; **试验** $\\sf{2}$ 有多于一种可能的试验结果，且需要多次重复试验得到的结果遵循某种统计规律，这一类试验称为 **随机试验**，试验所代表的现象称为 **随机现象**"
   ]
  },
  {
   "cell_type": "markdown",
   "id": "3da879bf",
   "metadata": {},
   "source": [
    "### 1.3 随机实验定义"
   ]
  },
  {
   "cell_type": "markdown",
   "id": "fe808dd5",
   "metadata": {},
   "source": [
    "&emsp;&emsp;试验是一个含义广泛的术语，它包括各种各样的科学试验，甚至人们对某一事物的某一特征的观察也可以认为是一种试验，其通常用字母 $\\mathrm{E}$ 表示 <br><br>\n",
    "&emsp;&emsp;$\\mathrm{E}_1$：抛掷一枚硬币，观察正面 $\\mathrm{H}$、反面 $\\mathrm{T}$ 出现次数 <br>\n",
    "&emsp;&emsp;$\\mathrm{E}_2$：记录某市 $120$ 急救电话一天接到的呼叫次数 <br>\n",
    "&emsp;&emsp;$\\mathrm{E}_3$：在一批灯泡中任意取一只，预测其使用寿命 <br>\n",
    "&emsp;&emsp;$\\dots$\n",
    "\n",
    "&emsp;&emsp;以上列举的例子有着共同的特点，概况下来，一个试验如果满足下述条件\n",
    "- **可重复性**：试验可以在相同的条件下重复进行\n",
    "- **多样性和明确性**：每次试验的结果可能不止一个，且能事先明确试验的所有可能结果\n",
    "- **不确定性**：每次试验总是恰好出现这些可能结果中的一个，但在一次试验之前不能确定出现哪一个结果\n",
    "\n",
    "&emsp;&emsp;在概率论中，一般称具有上述 $3$ 个特点的试验为随机试验 (Random Experiment)，简称试验，通常通过研究随机试验来研究随机现象"
   ]
  },
  {
   "cell_type": "markdown",
   "id": "abc213e7",
   "metadata": {},
   "source": [
    "---"
   ]
  },
  {
   "cell_type": "markdown",
   "id": "deed13ca",
   "metadata": {},
   "source": [
    "## 第02节 样本空间与随机事件"
   ]
  },
  {
   "cell_type": "markdown",
   "id": "93eee9a5",
   "metadata": {},
   "source": [
    "### 2.1 样本空间"
   ]
  },
  {
   "cell_type": "markdown",
   "id": "79ea1aec",
   "metadata": {},
   "source": [
    "&emsp;&emsp;对于随机试验，尽管在每次试验之前不能确定试验的结果，但试验的所有可能结果是明确的。通常把随机试验 $\\mathrm{E}$ 的每一种可能结果称为一个 **样本点** (Sampling Point)，常用 $\\omega$ 表示；样本点的全体组合的集合称为 **样本空间** (Sampling Space)，常用字母 $\\Omega = \\Omega(\\omega)$ 表示\n",
    "\n",
    "&emsp;&emsp;在前述 `1.3` 试验示例中 <br><br>\n",
    "&emsp;&emsp;$\\mathrm{E}_1$ 的样本空间由两个样本点组成，样本空间为 $\\Omega_1 = \\{H,T\\}$ <br>\n",
    "&emsp;&emsp;$\\mathrm{E}_2$ 的样本空间由多个样本点组成，样本空间为 $\\Omega_2 = \\{0,1,2,3,\\dots\\}$ <br>\n",
    "&emsp;&emsp;$\\mathrm{E}_3$ 的样本空间为 $\\Omega_3 = \\{t|t\\ge0\\}$\n",
    "\n",
    "> 样本空间的样本点可以是有限个，也可以是无限多个<br>样本空间的样本点可以是数，也可以不是数<br>样本空间的样本点取决于试验目的，即试验目的的不同决定样本空间中样本点的不同"
   ]
  },
  {
   "cell_type": "markdown",
   "id": "1da1b063",
   "metadata": {},
   "source": [
    "&emsp;&emsp;$\\mathrm{E}_4$：将一枚硬币抛掷 $3$ 次，观察正面 $H$ 及反面 $T$ 出现的情况，样本空间为 $\\Omega_4 = \\{HHH,HHT,HTH,HTT,THH,THT,TTH,TTT\\}$ <br>\n",
    "&emsp;&emsp;$\\mathrm{E}_5$：将一枚硬币抛掷 $3$ 次，观察正面出现的次数，样本空间为 $\\Omega_5 = \\{0,1,2,3\\}$ <br>\n",
    "&emsp;&emsp;$\\dots$\n",
    "\n",
    "&emsp;&emsp;但是无论如何构造样本空间，作为样本空间中的样本点必须具备以下两条基本属性\n",
    "- **互斥性**：无论哪两个样本点，它们不会在同一次试验中同时出现\n",
    "- **完备性**：每次试验一定会出现某个样本点"
   ]
  },
  {
   "cell_type": "markdown",
   "id": "629f2d5c",
   "metadata": {},
   "source": [
    "### 2.2 随机事件"
   ]
  },
  {
   "cell_type": "markdown",
   "id": "651741e9",
   "metadata": {},
   "source": [
    "&emsp;&emsp;在随机试验中，有时关心的是带有某些特征的基本事件是否发生，或那些可能发生也可能不发生的事情，即满足某种条件的样本点所组成的集合，如 <br><br>\n",
    "&emsp;&emsp;**规定灯泡寿命小于 $2500h$ 为不合格品，则更关心的是灯泡的寿命 $\\ge 2500h \\rightarrow$ \n",
    "满足条件的样本点组成样本空间 $\\Omega$ 的一个子集 $A = \\{\\omega|\\omega\\ge2500\\}$** <br><br>\n",
    "&emsp;&emsp;这里称 $A$ 为 $\\mathrm{E}$ 的一个随机事件，试验 $\\mathrm{E}$ 的样本空间 $\\Omega$ 的子集为 $\\mathrm{E}$ 的随机事件 (Random Event)，简称事件\n",
    "\n",
    "> 事件是概率论中最基本的概念，常用大写字母 $A,B,C$ 等表示；在每次试验时，有且仅有子集中的单一样本点 $\\omega$ 出现时，称此事件 **发生**，并记作 $\\omega\\in A$"
   ]
  },
  {
   "cell_type": "markdown",
   "id": "127960e9",
   "metadata": {},
   "source": [
    "&emsp;&emsp;当子集 $A$ 是由一个样本点组成的单点集，称为基本事件，如 <br><br>\n",
    "$\\qquad\\qquad\\qquad\\qquad\\qquad\\qquad\\qquad\\qquad\\qquad\\qquad$**$\\mathrm{E}_1$ 有两个基本条件 $\\{H\\},\\{T\\}$** <br><br>\n",
    "&emsp;&emsp;样本空间 $\\Omega$ 包含所有的样本点，为 $\\Omega$ 自身的子集，在每次试验中总是发生，被称为 **必然事件**；空集 $\\emptyset$ 不包含任何样本点，它也作为样本空间的子集，他在每次试验中都不发生，称为 **不可能事件**\n",
    "> 必然事件和不可能事件的发生与否，已经失去了 \"不确定性\"，因而本质上它们不是随机事件，而是确定性事件，但在此将其当作随机事件的两个极端情形"
   ]
  },
  {
   "cell_type": "markdown",
   "id": "de614f07",
   "metadata": {},
   "source": [
    "### 2.3 事件关系"
   ]
  },
  {
   "cell_type": "markdown",
   "id": "e6140955",
   "metadata": {},
   "source": [
    "&emsp;&emsp;一个样本空间 $\\Omega$ 中，可以有很多的随机事件，因为事件是样本空间的一个子集合，而且样本空间中可以定义若干个事件，因此分析事件之间的关系不仅有助于深刻地认识事件的本质，而且可以简化一些负责事件的概率计算。概率论的任务之一，是研究随机事件的规律，通过对较简单事件规律的研究去掌握更复杂事件的规律，为此需要研究事件之间的关系和运算 \n",
    "\n",
    "&emsp;&emsp;如果有一定的集合论知识，一定会发现事件间的关系及运算与 **布尔代数** 中集合间的关系及运算是完全可以互相类比的"
   ]
  },
  {
   "cell_type": "markdown",
   "id": "8242a1e2",
   "metadata": {},
   "source": [
    "| 概率论 | 集合论 |\n",
    "| :---: | :---: |\n",
    "| 样本空间 | $\\Omega$ $=$ $\\omega$ |\n",
    "| 事件 | 子集 |\n",
    "| 事件 $A$ 发生 | $\\omega$ $\\in$ $A$ | \n",
    "| 事件 $A$ 不发生 | $\\omega$ $\\notin$ $A$ | \n",
    "| 必然事件 | $\\omega$ | \n",
    "| 不可能事件 | $\\emptyset$ |\n",
    "| 事件 $A$ 发生导致事件 $B$ 发生 | $A$ $\\subset$ $B$ |\n",
    "| 事件 $A$ 与事件 $B$ 至少有一个发生 | $A$ $\\cup$ $B$ |\n",
    "| 事件 $A$ 与事件 $B$ 同时发生 | $A$ $\\cap$ $B$ |\n",
    "| 事件 $A$ 发生而事件 $B$ 不发生 | $A$ $-$ $B$ |\n",
    "| 事件 $A$ 与事件 $B$ 互不相容 | $AB$ $=$ $\\emptyset$ |"
   ]
  },
  {
   "cell_type": "markdown",
   "id": "49c5a2a9",
   "metadata": {},
   "source": [
    "&emsp;&emsp;既然事件是一个 **集合**，那么可以借助集合论中集合之间的关系以及集合的运算来研究事件的关系和运算，下面给出这些关系和运算在概率论中的名称与含义\n",
    "> *如果没有特别的声明,在以下的叙述中默认样本空间 $\\Omega$ 已经给定，并且给定了 $\\Omega$ 中的事件 $A,B,C,A_i(i=1,2,\\dots)$*\n",
    "\n",
    "- **$A\\subset B$**\n",
    "\n",
    "&emsp;&emsp;事件 $B$ 包含事件 $A$，或称事件 $A$ 是事件 $B$ 的子事件，若事件 $A$ 发生，必然导致事件 $B$ 发生 $\\rightarrow\\emptyset\\subset A\\subset\\Omega$ \n",
    "\n",
    "- **$A\\subset B$ 且 $B\\subset A$**\n",
    "\n",
    "&emsp;&emsp;事件 $A$ 与事件 $B$ 相等，记作 $A = B$\n",
    "\n",
    "- **$A\\cup B = \\{\\omega|\\omega \\in A$ 或 $\\omega \\in B\\}$**\n",
    "\n",
    "&emsp;&emsp;事件 $A$ 与事件 $B$ 的和事件，其含义是事件 $A,B$ 至少有一个发生，记作 $A\\cup B = A + B$\n",
    "> 类似地，$n$ 个事件 $A_1,A_2,\\dots,A_n$ **至少有一个事件发生** 表示为和事件 $\\bigcup\\limits^\\infty_{i=1}A_i$，称事件 $\\bigcup\\limits^n_{i=1}A_i$ 为可列无穷多个事件 $A_1,A_2,\\dots,A_n,\\dots$ 的和事件，表示“可列无穷多个事件 $A_i$ 中至少有一个发生”\n",
    "\n",
    "- **$A\\cap B = \\{\\omega|\\omega \\in A$ 或 $\\omega \\in B\\}$**\n",
    "\n",
    "&emsp;&emsp;事件 $A$ 与事件 $B$ 的积事件，其含义是事件 $A,B$ 同时发生，记作 $A\\cap B = AB$\n",
    "> 类似地，$n$ 个事件 $A_1,A_2,\\dots,A_n$ **同时发生** 表示为积事件 $\\bigcup\\limits^n_{i=1}A_i$，称事件 $\\bigcap\\limits^\\infty_{i=1}A_i$ 为可列无穷多个事件 $A_1,A_2,\\dots,A_n,\\dots$ 的积事件，表示“可列无穷多个事件 $A_i$ 同时发生”\n",
    "\n",
    "- **$A - B = \\{\\omega|\\omega\\in A$ 且 $\\omega\\notin B\\}$**\n",
    "\n",
    "&emsp;&emsp;事件 $A$ 与事件 $B$ 的差事件，其含义是事件 $A$ 发生且事件 $B$ 不发生\n",
    "> 例如在抛掷骰子的试验中，记事件 $A$ = \"点数为奇数\"，$B$ = \"点数小于 $5$\"，即 $A = \\{1,3,5\\}$，$B = \\{1,2,3,4\\}$，则<br><br>\n",
    "$\\qquad\\qquad\\qquad\\qquad\\qquad\\qquad\\qquad$$A\\cup B = \\{1,2,3,4,5\\}, A\\cap B = \\{1,3\\}, A - B = {5}$ \n",
    "\n",
    "- **$A \\cap B = \\emptyset$**\n",
    "\n",
    "&emsp;&emsp;事件 $A$ 与事件 $B$ 是互不相容的，或称是互斥的，其含义是事件 $A$ 与事件 $B$ 不能同时发生\n",
    "\n",
    "- **$A \\cup B = \\Omega$ 且 $A \\cap B = \\emptyset$**\n",
    "\n",
    "&emsp;&emsp;事件 $A$ 与事件 $B$ 互为对立事件，或称事件 $A$ 与事件 $B$ 互为逆事件，其含义是对每次试验而言，事件 $A,B$ 中必有一个发生且仅有一个发生.事件 $A$ 的对立事件记为 $\\bar A$，即 $\\bar A = B$，$\\bar A = \\Omega - A$\n",
    "> 对立事件必是互不相容(相斥)的，但互不相容的两个事件不一定是对立事件"
   ]
  },
  {
   "cell_type": "markdown",
   "id": "6fdc4de2",
   "metadata": {},
   "source": [
    "&emsp;&emsp;事件关系可以用下列 **文氏图** (Venn Diagram) 表示\n",
    "![venn](https://s2.loli.net/2022/06/17/bQtmOgnWV3zZijD.png)"
   ]
  },
  {
   "cell_type": "markdown",
   "id": "f0fc04a8",
   "metadata": {},
   "source": [
    "### 2.4 事件运算"
   ]
  },
  {
   "cell_type": "markdown",
   "id": "045c1ec6",
   "metadata": {},
   "source": [
    "&emsp;&emsp;显然事件的运算满足以下基本关系\n",
    "- $\\bar AA = \\emptyset$，$A\\cup \\bar A = \\Omega$，$\\bar A = \\Omega - A$\n",
    "- $A - B = A\\bar B = A - AB$， $A \\cup B = A \\cup (B - A)$\n",
    "- 若 $A \\subset B$，则 $A\\cup B = B$，$AB = A$\n",
    "\n",
    "&emsp;&emsp;由集合的运算律，很容易可以得出事件间的运算律，即设 $A,B,C$ 为同一随机试验 $E$ 中的事件，则有以下规律\n",
    "- **交换律** <br>\n",
    "$\\qquad\\qquad\\qquad\\qquad\\qquad\\qquad\\qquad\\qquad$$A \\cup B = B \\cup A,\\qquad A \\cap B = B \\cap A$ <br><br>\n",
    "- **结合律** <br> \n",
    "$\\qquad\\qquad\\qquad\\qquad\\qquad\\qquad\\qquad\\qquad\\qquad$$(A \\cup B) \\cup C = A \\cup (B \\cup C)$ <br>\n",
    "$\\qquad\\qquad\\qquad\\qquad\\qquad\\qquad\\qquad\\qquad\\qquad$$(A \\cap B) \\cap C = A \\cap (B \\cap C)$ <br>  \n",
    "- **分配律** <br> \n",
    "$\\qquad\\qquad\\qquad\\qquad\\qquad\\qquad\\qquad\\qquad\\quad$$(A \\cup B) \\cap C = (A \\cap C) \\cup (B \\cap C)$ <br>\n",
    "$\\qquad\\qquad\\qquad\\qquad\\qquad\\qquad\\qquad\\qquad\\quad$$(A \\cup B) \\cap C = (A \\cup C) \\cap (B \\cup C)$ <br>\n",
    "- **自反律** <br> \n",
    "$\\qquad\\qquad\\qquad\\qquad\\qquad\\qquad\\qquad\\qquad\\qquad\\qquad\\qquad$$\\overline{\\overline{A}} = A$\n",
    "- **对偶律** <br> \n",
    "$\\qquad\\qquad\\qquad\\qquad\\qquad\\qquad\\qquad\\qquad$$\\overline{{A \\cup B}} = \\overline{A} \\cap \\overline{B}, \\qquad \\overline{{A \\cap B}} = \\overline{A} \\cup \\overline{B}$"
   ]
  },
  {
   "cell_type": "markdown",
   "id": "bb5ccc92",
   "metadata": {},
   "source": [
    "<div class=\"alert alert-danger\" role=\"alert\"><span class=\"label label-warning\">例题</span> 甲、乙、丙 $3$ 人各射一次靶，记 $A = \\{$甲中靶$\\}, B = \\{$乙中靶$\\}, C = \\{$丙中靶$\\}$，则可用上述 $3$ 个事件的运算来分别代表下列各事件</div>"
   ]
  },
  {
   "cell_type": "markdown",
   "id": "7b8445dd",
   "metadata": {},
   "source": [
    "- 甲未中靶 <br> \n",
    "$\\qquad\\qquad\\qquad\\qquad\\qquad\\qquad\\qquad\\qquad\\qquad\\qquad\\qquad$$\\overline{A}$ \n",
    "\n",
    "- 甲中靶而乙未中靶 <br>\n",
    "$\\qquad\\qquad\\qquad\\qquad\\qquad\\qquad\\qquad\\qquad\\qquad\\qquad$$A \\overline{B}$ 或 $A - B$ \n",
    "\n",
    "- $3$ 人中恰有一人中靶 <br> \n",
    "$\\qquad\\qquad\\qquad\\qquad\\qquad\\qquad\\qquad\\qquad\\qquad$$A\\;\\overline{B}\\;\\overline{C} \\cup \\overline{A}\\;B\\;\\overline{C} \\cup \\overline{A}\\;\\overline{B}\\;C$ \n",
    "\n",
    "- $3$ 人中至少有 $1$ 人中靶 <br> \n",
    "$\\qquad\\qquad\\qquad\\qquad\\qquad\\;\\qquad\\qquad\\qquad\\qquad\\qquad$$A \\cup B \\cup C$ \n",
    "\n",
    "- $3$ 人中至少有 $1$ 人未中靶 <br> \n",
    "$\\qquad\\qquad\\qquad\\qquad\\qquad\\qquad\\quad\\qquad\\qquad\\qquad$$\\overline{A} \\cup \\overline{B} \\cup \\overline{C}$ 或 $\\overline{ABC}$ \n",
    "\n",
    "- $3$ 人中恰有 $2$ 人中靶 <br> \n",
    "$\\qquad\\qquad\\qquad\\qquad\\qquad\\qquad\\qquad\\qquad\\qquad$$A\\;B\\;\\overline{C} \\cup A\\;B\\;\\overline{C} \\cup \\overline{A}\\;B\\;C$ \n",
    "\n",
    "- $3$ 人中至少 $2$ 人中靶 <br> \n",
    "$\\qquad\\qquad\\qquad\\qquad\\qquad\\quad\\;\\qquad\\qquad\\qquad\\qquad$$AB\\cup AC\\cup BC$ \n",
    "\n",
    "- $3$ 人均未中靶 <br> \n",
    "$\\qquad\\qquad\\qquad\\qquad\\qquad\\;\\qquad\\qquad\\qquad\\qquad$$\\overline{A}\\;\\overline{B}\\;\\overline{C}$ 或 $\\overline{A\\cup B \\cup C}$ \n",
    "\n",
    "- $3$ 人中至多 $1$ 人中靶 <br> \n",
    "$\\qquad\\qquad\\qquad\\qquad\\qquad\\quad\\qquad\\qquad\\qquad\\qquad$$\\overline{A}\\;\\overline{B} \\cup \\overline{A}\\;\\overline{C} \\cup \\overline{B}\\;\\overline{C}$"
   ]
  },
  {
   "cell_type": "markdown",
   "id": "0a09e3b4",
   "metadata": {},
   "source": [
    "---"
   ]
  },
  {
   "cell_type": "markdown",
   "id": "014f863d",
   "metadata": {},
   "source": [
    "## 第03节 频率与概率"
   ]
  },
  {
   "cell_type": "markdown",
   "id": "df4564a1",
   "metadata": {},
   "source": [
    "&emsp;&emsp;对于一个随机事件来说，它在一次试验中可能发生，也可能不发生.人们希望知道某些事件在一次试验中发生的可能性究竟有多大，更希望找到一个数，以此来衡量一件事情发生的可能性的大小. 例如 `1.2节` **试验** $\\sf{2}$，已知其是一个随机试验，并且样本空间 $\\Omega = \\{\\omega_1,\\omega_2\\}$，其中 <br><br>\n",
    "$\\qquad\\qquad\\qquad\\qquad\\qquad\\qquad\\qquad\\qquad\\qquad$$\\omega_1 = \\{$**取得白球**$\\}$，$\\omega_2 = \\{$**取得黑球**$\\}$，<br>\n",
    "是基本事件，在一次试验中，虽然不能确定是 $\\omega_1$ 还是 $\\omega_2$ 发生，但是由对称性很容易断定在一次实验中，$\\omega_1, \\omega_2$ 的可能性是 $\\frac{1}{2}$ "
   ]
  },
  {
   "cell_type": "markdown",
   "id": "2e3c5023",
   "metadata": {},
   "source": [
    "### 3.1 频率及其性质"
   ]
  },
  {
   "cell_type": "markdown",
   "id": "ba7d71aa",
   "metadata": {},
   "source": [
    "&emsp;&emsp;**频率** 表示事件在一次试验中发生的可能性大小的数，描述事件发生的频繁程度\n",
    "\n",
    "<div class=\"alert alert-info\" role=\"alert\"><span class=\"label label-success\">定义 $1.1$</span> 若在相同的条件下进行 $n$ 次试验，事件 $A$ 发生的次数 $n_A$ 称为事件 $A$ 发生的频数，则称 $f_n(A) = \\frac{n_A}{n}$ 为事件 $A$ 发生的 <strong>频率 (Frequency)</strong></div>"
   ]
  },
  {
   "cell_type": "markdown",
   "id": "96a2feaf",
   "metadata": {},
   "source": [
    "&emsp;&emsp;由频率的定义可得到如下基本性质\n",
    "- **非负性**: $0 \\le f_n(A) \\le 1$\n",
    "- **规范性**: 若 $\\Omega$ 是必然事件，则有 $f_n(\\Omega) = 1$\n",
    "- **有限可加性**: 若 $\\{A_1, A_2, \\dots, A_k\\}$ 是互不相容且独立的事件，则有 $f_n(A_1 \\cup A_2 \\cup \\dots \\cup A_k) = f_n(A_1) + f_n(A_2) + \\dots + f_n(A_k))$，即 <br><br>\n",
    "$\\qquad\\qquad\\qquad\\qquad\\qquad\\qquad\\qquad\\qquad\\qquad\\qquad$$f_n(\\sum\\limits^{k}_{i=1}A_i) = \\sum\\limits^{k}_{i=1}f_n(A_i)$\n",
    "\n",
    "&emsp;&emsp;事件 $A$ 发生的频率是它发生的次数与试验次数之比，其大小表示 $A$ 发生的频繁程度，频率越大，事件 $A$ 发生越频繁. 这意味着 $A$ 在一次试验中发生的可能性越大，因此直观的想法是用频率来表示 $A$ 在一次试验中发生的可能性，但这么做是否可以泛化适用于所有场景？"
   ]
  },
  {
   "cell_type": "markdown",
   "id": "d5a07d75",
   "metadata": {},
   "source": [
    "&emsp;&emsp;**试验** $\\sf{3}$: 将一枚硬币投掷 $5$ 次，$50$ 次，$500$ 次各做 $10$ 遍，设硬币正面为 $H$, $n_H$ 表示 $H$ 发生的次数，$f_n(H)$ 表示 $H$ 发生的频率，结果如下表所示\n",
    "\n",
    "<table border=0 cellpadding=0 cellspacing=0 width=910 style='border-collapse:\n",
    " collapse;table-layout:fixed;'>\n",
    " <col width=140 span=7>\n",
    " <tr height=18>\n",
    "  <td rowspan=2 style='text-align: center;'><strong>试验序号</strong></td>\n",
    "  <td colspan=2 style='text-align: center;'><strong>$n=5$</strong></td>\n",
    "  <td colspan=2 style='text-align: center;'><strong>$n=50$</strong></td>\n",
    "  <td colspan=2 style='text-align: center;'><strong>$n=500$</strong></td>\n",
    " </tr>\n",
    " <tr height=18>\n",
    "  <td style='text-align: center;'><strong>$n_H$</strong></td>\n",
    "  <td style='text-align: center;'><strong>$f_n(H)$</strong></td>\n",
    "  <td style='text-align: center;'><strong>$n_H$</strong></td>\n",
    "  <td style='text-align: center;'><strong>$f_n(H)$</strong></td>\n",
    "  <td style='text-align: center;'><strong>$n_H$</strong></td>\n",
    "  <td style='text-align: center;'><strong>$f_n(H)$</strong></td>\n",
    " </tr>\n",
    " <tr height=18>\n",
    "  <td style='text-align: center;'>$1$</td>\n",
    "  <td style='text-align: center;'>$2$</td>\n",
    "  <td style='text-align: center;'>$0.4$</td>\n",
    "  <td style='text-align: center;'>$22$</td>\n",
    "  <td style='text-align: center;'>$0.44$</td>\n",
    "  <td style='text-align: center;'>$251$</td>\n",
    "  <td style='text-align: center;'>$0.502$</td>\n",
    " </tr>\n",
    " <tr height=18>\n",
    "  <td style='text-align: center;'>$2$</td>\n",
    "  <td style='text-align: center;'>$3$</td>\n",
    "  <td style='text-align: center;'>$0.6$</td>\n",
    "  <td style='text-align: center;'>$25$</td>\n",
    "  <td style='text-align: center;'>$0.50$</td>\n",
    "  <td style='text-align: center;'>$249$</td>\n",
    "  <td style='text-align: center;'>$0.498$</td>\n",
    " </tr>\n",
    " <tr height=18>\n",
    "  <td style='text-align: center;'>$3$</td>\n",
    "  <td style='text-align: center;'>$1$</td>\n",
    "  <td style='text-align: center;'>$0.2$</td>\n",
    "  <td style='text-align: center;'>$21$</td>\n",
    "  <td style='text-align: center;'>$0.42$</td>\n",
    "  <td style='text-align: center;'>$256$</td>\n",
    "  <td style='text-align: center;'>$0.512$</td>\n",
    " </tr>\n",
    " <tr height=18>\n",
    "  <td style='text-align: center;'>$4$</td>\n",
    "  <td style='text-align: center;'>$5$</td>\n",
    "  <td style='text-align: center;'>$1.0$</td>\n",
    "  <td style='text-align: center;'>$25$</td>\n",
    "  <td style='text-align: center;'>$0.50$</td>\n",
    "  <td style='text-align: center;'>$253$</td>\n",
    "  <td style='text-align: center;'>$0.506$</td>\n",
    " </tr>\n",
    " <tr height=18>\n",
    "  <td style='text-align: center;'>$5$</td>\n",
    "  <td style='text-align: center;'>$1$</td>\n",
    "  <td style='text-align: center;'>$0.2$</td>\n",
    "  <td style='text-align: center;'>$24$</td>\n",
    "  <td style='text-align: center;'>$0.48$</td>\n",
    "  <td style='text-align: center;'>$251$</td>\n",
    "  <td style='text-align: center;'>$0.502$</td>\n",
    " </tr>\n",
    " <tr height=18>\n",
    "  <td style='text-align: center;'>$6$</td>\n",
    "  <td style='text-align: center;'>$2$</td>\n",
    "  <td style='text-align: center;'>$0.4$</td>\n",
    "  <td style='text-align: center;'>$21$</td>\n",
    "  <td style='text-align: center;'>$0.42$</td>\n",
    "  <td style='text-align: center;'>$246$</td>\n",
    "  <td style='text-align: center;'>$0.492$</td>\n",
    " </tr>\n",
    " <tr height=18>\n",
    "  <td style='text-align: center;'>$7$</td>\n",
    "  <td style='text-align: center;'>$4$</td>\n",
    "  <td style='text-align: center;'>$0.8$</td>\n",
    "  <td style='text-align: center;'>$18$</td>\n",
    "  <td style='text-align: center;'>$0.36$</td>\n",
    "  <td style='text-align: center;'>$244$</td>\n",
    "  <td style='text-align: center;'>$0.488$</td>\n",
    " </tr>\n",
    " <tr height=18>\n",
    "  <td style='text-align: center;'>$8$</td>\n",
    "  <td style='text-align: center;'>$2$</td>\n",
    "  <td style='text-align: center;'>$0.4$</td>\n",
    "  <td style='text-align: center;'>$24$</td>\n",
    "  <td style='text-align: center;'>$0.48$</td>\n",
    "  <td style='text-align: center;'>$258$</td>\n",
    "  <td style='text-align: center;'>$0.516$</td>\n",
    " </tr>\n",
    " <tr height=18>\n",
    "  <td style='text-align: center;'>$9$</td>\n",
    "  <td style='text-align: center;'>$3$</td>\n",
    "  <td style='text-align: center;'>$0.6$</td>\n",
    "  <td style='text-align: center;'>$27$</td>\n",
    "  <td style='text-align: center;'>$0.54$</td>\n",
    "  <td style='text-align: center;'>$262$</td>\n",
    "  <td style='text-align: center;'>$0.524$</td>\n",
    " </tr>\n",
    " <tr height=18>\n",
    "  <td style='text-align: center;'>$10$</td>\n",
    "  <td style='text-align: center;'>$3$</td>\n",
    "  <td style='text-align: center;'>$0.6$</td>\n",
    "  <td style='text-align: center;'>$31$</td>\n",
    "  <td style='text-align: center;'>$0.62$</td>\n",
    "  <td style='text-align: center;'>$247$</td>\n",
    "  <td style='text-align: center;'>$0.494$</td>\n",
    " </tr>\n",
    "</table>"
   ]
  },
  {
   "cell_type": "markdown",
   "id": "05ccaf37",
   "metadata": {},
   "source": [
    "<table border=0 cellpadding=0 cellspacing=0 width=980 style='border-collapse:\n",
    " collapse;table-layout:fixed;'>\n",
    " <tr height=18>\n",
    "  <td style='text-align: center;'><strong>试验者</strong></td>\n",
    "  <td style='text-align: center;'><strong>试验次数 $n$</strong></td>\n",
    "  <td style='text-align: center;'><strong>出现正面次数 $n_H$</strong></td>\n",
    "  <td style='text-align: center;'><strong>频率 $f_n(H)$</strong></td>\n",
    " </tr>\n",
    " <tr height=18>\n",
    "  <td style='text-align: center;'>德·摩根</td>\n",
    "  <td style='text-align: center;'>$2048$</td>\n",
    "  <td style='text-align: center;'>$1061$</td>\n",
    "  <td style='text-align: center;'>$0.518$</td>\n",
    " </tr>\n",
    " <tr height=18>\n",
    "  <td style='text-align: center;'>蒲丰</td>\n",
    "  <td style='text-align: center;'>$4040$</td>\n",
    "  <td style='text-align: center;'>$2048$</td>\n",
    "  <td style='text-align: center;'>$0.507$</td>\n",
    " </tr>\n",
    " <tr height=18>\n",
    "  <td style='text-align: center;'>K·皮尔逊</td>\n",
    "  <td style='text-align: center;'>$12000$</td>\n",
    "  <td style='text-align: center;'>$6019$</td>\n",
    "  <td style='text-align: center;'>$0.502$</td>\n",
    " </tr>\n",
    " <tr height=18>\n",
    "  <td style='text-align: center;'>K·皮尔逊</td>\n",
    "  <td style='text-align: center;'>$24000$</td>\n",
    "  <td style='text-align: center;'>$12012$</td>\n",
    "  <td style='text-align: center;'>$0.501$</td>\n",
    " </tr>\n",
    "</table>"
   ]
  },
  {
   "cell_type": "markdown",
   "id": "89a69dac",
   "metadata": {},
   "source": [
    "- 抛掷硬币次数 $n$ 较小时，频率 $f_n(H)$ 有随机波动性，即对于同样的 $n$，所得的 $f_n(H)$ 不尽相同，且波动幅度较大\n",
    "- 随着抛掷硬币次数 $n$ 的增大，频率 $f_n(H)$ 呈现出稳定性，且总是在 $0.5$ 附近摆动，且摆动幅度越来越小趋向于 $0.5$\n",
    "\n",
    "&emsp;&emsp;当 $n$ 较小时，频率 $f_n(H)$ 在 $[0,1]$ 随意波动，其波动幅度较大. 因此当 $n$ 较小时用频率来表示事件发生的可能性大小是不太合适的. 当 $n$ 逐渐增大时，频率 $f_n(H)$ 逐渐稳定于某一常数，对于每一个事件 $A$ 都有这样一个客观存在的常数与之对应，这种 **频率稳定性**，即通常所说的统计规律性揭示了隐藏在随机现象中的规律性. 一般让试验重复大量次数，用这个频率稳定值来表达事件发生的可能性大小是合适的，称这个稳定值为事件发生的 **概率** (Probability) "
   ]
  },
  {
   "cell_type": "markdown",
   "id": "a6398e42",
   "metadata": {},
   "source": [
    "### 3.2 概率及其性质"
   ]
  },
  {
   "cell_type": "markdown",
   "id": "6291412d",
   "metadata": {},
   "source": [
    "<div class=\"alert alert-info\" role=\"alert\"><span class=\"label label-success\">定义 $1.2$</span> 设事件 $A$ 在 $n$ 次重复试验中发生的次数为 $k$，当试验次数 $n$ 很大时，$\\frac{k}{n}$ 在某一数值 $\\rho$ 的附近摆动. 若随着试验次数 $n$ 的增加，发生较大摆动的可能性越来越小，则称 $\\rho$ 为事件 $A$ 发生的 <strong>概率</strong>，记为 $P(A) = \\rho$</div>\n",
    "\n",
    "> 习惯上将上述定义称为事件 $A$ 发生的概率的 **统计定义**，当 $n\\rightarrow\\infty$时，频率 $f_n(A)$ 在一定条件下逼近概率 $P(A)$\n",
    "\n",
    "&emsp;&emsp;任何一个数学概念都是对现实世界的抽象，这种抽象使其具有广泛的适用性，概率的频率解释为概率提供了经验基础，但是不能作为一个严格的数学定义. 从概率论有关问题的研究算起，经过近 $3$ 个世纪的漫长探索历程，才真正完整地确定了概率的严格教学定义. $1933$ 年，著名数学家柯尔莫哥洛夫 (Kolmogoroff) 在他的 **概率论的基础概念** 一书中给出了现在已被广泛接受的概率公理化体系，第一次将概率论建立在严密的逻辑基础上，概率论才成为一个严谨的数学学科"
   ]
  },
  {
   "cell_type": "markdown",
   "id": "46b1550a",
   "metadata": {},
   "source": [
    "<div class=\"alert alert-info\" role=\"alert\"><span class=\"label label-success\">定义 $1.3$</span> 设 $E$ 是随机试验，$\\Omega$ 是它的样本空间，对于 $E$ 中的每一个事件 $A$ 赋予一个实数与之对应，记为 $P(A)$, 若 $P(A)$ 满足 <strong>非负性、完备性与可加性</strong>，则称 $P(A)$ 为事件 $A$ 的概率，称这个定义为概率的公理化定义</div>\n",
    "\n",
    "&emsp;&emsp;由概率的定义可以得到概率的以下重要性质\n",
    "- $P(\\emptyset) = 0$\n",
    "- $P(A\\cup B) = P(A) + P(B) - P(AB)$"
   ]
  },
  {
   "cell_type": "markdown",
   "id": "26ba0ef3",
   "metadata": {},
   "source": [
    "<div class=\"alert alert-danger\" role=\"alert\"><span class=\"label label-warning\">例题</span> 设 $A,B$ 为两个事件，$P(A) = 0.5, P(A \\cup B) = 0.8, P(AB) = 0.3$, 求 $P(B),P(\\bar{B}), P(A\\bar{B}), P(\\bar{A}\\bar{B})$</div>\n",
    "\n",
    "- $P(B) = P(A \\cup B) - P(A) + P(AB) = 0.8 - 0.5 + 0.3 = 0.6$\n",
    "- $P(\\bar{B}) = 1 - P(B) = 1 - 0.6 = 0.4$\n",
    "- $P(A\\bar{B}) = P(A - AB) = P(A) - P(AB) = 0.5 - 0.3 = 0.2$\n",
    "- $P(\\bar{A}\\bar{B}) = P(\\overline{A \\cup B}) = 1 - P(A\\cup B) = 1 - 0.8 = 0.2$\n",
    "\n",
    "<div class=\"alert alert-danger\" role=\"alert\"><span class=\"label label-warning\">例题</span> 设事件 $A,B$ 发生的概率分别为 $\\frac{1}{3}$ 和 $\\frac{1}{2}$，试求下列 $3$ 种情况下 $P(B-A)$ 的值 <br><br> $(1)$ $A$ 与 $B$ 互不相容 <br>$(2)$ $A\\subset B$ <br>$(3)$ $P(AB) = \\frac{1}{8}$ </div>\n",
    "\n",
    "- $A$ 与 $B$ 互不相容，则 $P(B-A) = P(B) - P(AB) = P(B) = \\frac{1}{2}$\n",
    "- $A\\subset B$，则 $P(B-A) = P(B) - P(A) = \\frac{1}{2} - \\frac{1}{3} = \\frac{1}{6}$\n",
    "- $P(AB) = \\frac{1}{8}$，则 $P(B-A) = P(B) - P(AB) = \\frac{1}{2} - \\frac{1}{8} = \\frac{3}{8}$"
   ]
  },
  {
   "cell_type": "markdown",
   "id": "f996f1dc",
   "metadata": {},
   "source": [
    "---"
   ]
  },
  {
   "cell_type": "markdown",
   "id": "5515b14f",
   "metadata": {},
   "source": [
    "## 第04节 等可能概率"
   ]
  },
  {
   "cell_type": "markdown",
   "id": "eadfc445",
   "metadata": {},
   "source": [
    "### 4.1 等可能概型"
   ]
  },
  {
   "cell_type": "markdown",
   "id": "78a5b374",
   "metadata": {},
   "source": [
    "&emsp;&emsp;若随机试验 $E$ 满足以下条件\n",
    "- 样本空间 $\\Omega$ 只有有限个样本点，即 $\\Omega = \\{w_1,w_2,\\dots,w_n\\}$\n",
    "- 每个样本点出现的可能性相同，即对基本事件 $w_i, i= \\{1,2,\\dots,n\\}$，有 **$P(w_1) = P(w_2) = P(w_n)$** <br>\n",
    "\n",
    "&emsp;&emsp;则称此类随机现象的数学模型为 **等可能概型**\n",
    "\n",
    "> 等可能概型在概率论发展初期曾是主要的研究对象，利用等可能概型得出的试验结果也称为 **古典模型**. 等可能概型在概率论中占有相当重要的地位，一方面具有直观、简单、容易理解的特点，另一方面等可能概型中事件概率的计算在产品质量抽样检查等实际问题中都有重要的应用"
   ]
  },
  {
   "cell_type": "markdown",
   "id": "8733e64e",
   "metadata": {},
   "source": [
    "&emsp;&emsp;设 $\\Omega$ 为随机试验 $E$ 的样本空间，其中所含样本点总数为 $n$，$A$ 为一随机事件，其中所含样本点总数为 $r$，则有 <br><br>\n",
    "$\\qquad\\qquad\\qquad\\qquad\\qquad\\qquad\\qquad\\qquad$$\\mathbf{P(A) = \\dfrac{r}{n} = \\dfrac{\\vert A\\vert}{\\vert\\Omega \\vert}} = A$ **所包含的基本事件数 \\ 基本事件总数** \n",
    "\n",
    "&emsp;&emsp;举例假设一个纸筒装有 $10$ 个大小、形状完全相同的球，将球从 $1-10$ 编号，均匀搅拌后随机抽取时这些球被抽到的可能性是完全相同的，所有没有理由认为这 $10$ 个球中的某一个会被另一个更容易抽到，即这 $10$ 个球中任一球被抽到的可能性均为 $\\dfrac{1}{10}$. 设 $w_1, i = \\{1,2,\\dots,10\\}$ 表示抽到 $i$ 号球，则该试验的样本空间为 $\\Omega = \\{w_1,w_2,\\dots,w_10\\}$，且每个样本点 $w_i$ 出现的可能性相同"
   ]
  },
  {
   "cell_type": "markdown",
   "id": "59fd8b49",
   "metadata": {},
   "source": [
    "### 4.2 排列组合"
   ]
  },
  {
   "cell_type": "markdown",
   "id": "f3bb00fd",
   "metadata": {},
   "source": [
    "&emsp;&emsp;排列和组合都是计数问题，计算等可能概型的概率时，会经常使用\n",
    "\n",
    "- **加法法则** <br>\n",
    "  如果完成一件事情共有 $m$ 类方法，用其中任何一类方法均可以完成这件事件，假设第 $i$ 类方法中有 $n_i$ 种不同的方法 $i = 1,2,\\dots,m$，那么完成这件事情共有 $n = n_1 + n_2 + \\dots + n_m$ 种不同的方法 <br><br>\n",
    "  \n",
    "- **乘法法则** <br>\n",
    "  如果完成一件事情要经过 $m$ 个不同的步骤，其中第 $i$ 步有 $n_i$ 种方法 $i = 1,2,\\dots,m$，那么完成这件事情共有 $n = n_1 \\times n_2 \\times \\dots \\times n_m$ 种不同的方法 <br><br>\n",
    "  \n",
    "- **排列** <br>\n",
    "  从 $n$ 个不同的元素中无放回地任取 $m$ 个 $(1 \\le m \\le n)$，排成有顺序的一列，称为 $n$ 取 $m$ 的不可重复 **排列**，各种排列的总数记作 $A^m_n$ 或 $P^m_n$ 的不可重复排列，不同的排列方法一共有 $n \\times (n-1) \\times \\dots \\times (n-m+1)$ 种，因此 $A^m_n = \\dfrac{n!}{(n-m)!}$ <br>\n",
    "  $n$ 个元素的全排列的种数有 $A……n_m = n!$ 种，从 $n$ 个不同的元素中有放回地任取 $m$ 个，排成有顺序地一列 (即取出地这 $m$ 个元素可以相同)，这种允许元素重复出现地排列称为可重复排列，所有的不同排列方式一共有 $n \\times n \\times \\dots \\times n = n^m$ 种 <br><br> \n",
    "  \n",
    "- **组合** <br>\n",
    "  从 $n$ 个不同的元素中任取 $m$ 个 $(m \\le n)$ 个元素并成一组 (不考虑元素间的词序)，称此为一个 **组合**，此种组合的总数记作 $C^m_n = \\dfrac{A^m_n}{m!} = \\dfrac{n!}{m!(n-m)!}$ <br>\n",
    "  排列和组合都是计算从 $n$ 个元素中任取 $m$ 个元素的取法的总数公式，其主要区别在于如果不考虑取出元素间的次序，则用组合公式，否则用排列公式，而是否考虑元素间的次序，可以从实际问题中得到辨别 "
   ]
  },
  {
   "cell_type": "markdown",
   "id": "ff96fed9",
   "metadata": {},
   "source": [
    "### 4.3 几何概型"
   ]
  },
  {
   "cell_type": "markdown",
   "id": "9571fd86",
   "metadata": {},
   "source": [
    "&emsp;&emsp;古典概型只考虑有限等可能结果的随机试验的概率模型，当样本空间为一线段、平面区域或空间立体时，会出现一些本质性的困难，使问题不像有限空间时容易解决，因此用 **几何概型** 表示等可能随机试验的概率模型\n",
    "\n",
    "![geometric_model](https://s2.loli.net/2022/06/17/zZmuAT7NnsrcajC.png)\n",
    "\n",
    "&emsp;&emsp;在一个面积为 $\\mu(\\Omega)$ 的区域 $\\Omega$ 中，等可能地随机投掷一点 (该点落入 $\\Omega$ 中任何部分区域内的可能性只与区域 $A$ 的面积 $\\mu(A)$ 有关，而与区域 $A$ 的位置和形状无关)，如果该点落入小区域 $A$ 的随机事件记作 $A$，则 $A$ 的概率为 <br><br>\n",
    "$\\qquad\\qquad\\qquad\\qquad\\qquad\\qquad$$\\mathbf{P(A) = \\lambda\\mu(A)}$，$\\lambda$ 为常数 <br>\n",
    "$\\qquad\\qquad\\qquad\\qquad\\qquad\\qquad$$\\mathbf{P(\\Omega) = \\lambda\\mu(\\Omega) = 1 \\quad\\implies\\quad \\lambda = \\dfrac{1}{\\lambda(\\Omega)} \\quad\\implies\\quad P(A)=\\dfrac{\\mu(A)}{\\mu(\\Omega)}}$ <br>\n",
    "\n",
    "> 若样本空间 $\\Omega$ 为一线段或一空间立体，则向 $\\Omega$ **投点** 的相应概率仍可用以上公式计算，$\\mu(\\bullet)$ 表示长度或体积 "
   ]
  },
  {
   "cell_type": "markdown",
   "id": "256798dc",
   "metadata": {},
   "source": [
    "<div class=\"alert alert-danger\" role=\"alert\"><span class=\"label label-warning\">例题</span> 甲、乙两人约定在 $6$ 时到 $7$ 时之间在某处会面，并约定先到者应等候另一个人一刻钟，过时即可离去，求两人能见面的概率</div>\n",
    "\n",
    "&emsp;&emsp;以 $x$ 和 $y$ 分别表示甲、乙两人到达约会地点的事件，则两人能够会面的充分条件是 <br><br> \n",
    "$\\qquad\\qquad\\qquad\\qquad\\qquad\\qquad\\qquad\\qquad\\qquad\\qquad\\qquad$$\\mathbf{\\vert x-y\\vert} \\le 15$ <br><br>\n",
    "\n",
    "<div align=\"right\">\n",
    "<img src=https://s2.loli.net/2022/06/17/uOmbvjXD8Jl7kwq.png width=\"50%\" height=\"50%\" />\n",
    "</div>\n",
    "\n",
    "&emsp;&emsp;在平面上建立直角坐标系，则 $(x,y)$ 的所有可能结果是边长为 $60$ 的正方形，而可能会面的时间由图中的红色部分表示 <br><br>\n",
    "$\\qquad\\qquad\\qquad\\qquad\\qquad\\qquad\\qquad\\qquad\\qquad\\qquad$$P(A) = \\dfrac{S_A}{S_{\\Omega}} = \\dfrac{60^2-45^2}{60^2} = \\dfrac{7}{16}$ <br><br>"
   ]
  },
  {
   "cell_type": "markdown",
   "id": "3fd94aa0",
   "metadata": {},
   "source": [
    "---"
   ]
  },
  {
   "cell_type": "markdown",
   "id": "a3d42569",
   "metadata": {},
   "source": [
    "## 第05节 条件概率"
   ]
  },
  {
   "cell_type": "markdown",
   "id": "2940ff62",
   "metadata": {},
   "source": [
    "### 5.1 条件概率的定义"
   ]
  },
  {
   "cell_type": "markdown",
   "id": "eab7320a",
   "metadata": {},
   "source": [
    "&emsp;&emsp;前面介绍 **事件** 和 **概率** 这两个概念中，对一个给定的随机试验，要找到一个指定的随机条件 $A \\in \\Omega$ 的概率 $P(A)$ 需要花费很大的功夫.如果有两个随机事件 $A,B \\in \\Omega$，则有加法公式 $P(A\\cup B) = P(A) + P(B) - P(AB)$，当 $A,B$ 是互不相容的两个事件时，有 $P(A\\cup B) = P(A) + P(B)$，这时由 $P(A)$ 及 $P(B)$ 即可求得 $P(A\\cup B)$，但在一般情况下为求得 $P(A\\cup B)$ 还需知道 $P(AB)$. 因此能否通过 $P(A),P(B)$ 求得 $P(AB)$ ?\n",
    "\n",
    "&emsp;&emsp;**条件概率** 是概率论中的一个重要而实用的概率，所考虑的是在事件 $B$ 发生的条件下，事件 $A$ 发生的概率，记作 <br><br>\n",
    "$\\qquad\\qquad\\qquad\\qquad\\qquad\\qquad\\qquad\\qquad\\qquad\\qquad\\qquad$$P(A|B) = \\dfrac{P(AB)}{P(B)}$ \n",
    "![conditional_prob](https://s2.loli.net/2022/06/17/QdD69EZIB51CxKS.png)\n",
    "&emsp;&emsp;对一般的古典模型，只要 $P(B) > 0$ 上述等式总是成立的. 在几何概率的场合，在单位正方形内等可能地抛掷投点，若已知 $B$ 发生，$A$ 发生的概率为 <br><br>\n",
    "$\\qquad\\qquad\\qquad\\qquad\\qquad\\qquad\\qquad\\qquad\\qquad$$P(A|B) = \\dfrac{\\mu(AB)}{\\mu(B))} = \\dfrac{\\mu(AB)/\\mu{\\Omega}}{\\mu(B))/\\mu{\\Omega}} = \\dfrac{P(AB)}{P(B)}$ <br><br>"
   ]
  },
  {
   "cell_type": "markdown",
   "id": "173dd433",
   "metadata": {},
   "source": [
    "<div class=\"alert alert-info\" role=\"alert\"><span class=\"label label-success\">定义 $1.4$</span> 若 $(\\Omega,\\omega,P)$ 是一个概率空间，$B \\in \\omega$，且 $P(B) > 0$，则对任意的 $A \\in \\omega$，称为在已知事件 $B$ 发生的条件下，事件 $A$ 发生的 <strong>条件概率 (Conditional Probability)</strong></div>\n",
    "\n",
    "&emsp;&emsp;不难验证条件概率 $P(\\bullet\\vert B)$ 具有概率的三个基本性质\n",
    "- **非负性**: 对任意的 $A \\in \\omega, P(A|B) \\ge 0$\n",
    "- **规范性**: $P(\\Omega|B) = 1$\n",
    "- **可列可加性**: 对任意的一列两两互不相容的事件 $A_i (i=1,2,\\dots)$，有 $P(\\bigcup\\limits^{+\\infty}_{i=1}A_i\\vert B) = \\sum\\limits^{+\\infty}_{i=1}P(A_i\\vert B)$\n",
    "\n",
    "&emsp;&emsp;由此可知，对给定的一个概率空间 $(\\Omega,\\omega)$ 和事件 $B\\in \\omega$，如果 $P(B) > 0$，则条件概率 $P(\\bullet \\vert B)$ 也是 $\\Omega,\\omega$ 上的一个概率测度，特别当 $B = \\Omega$ 时，$P(\\bullet\\vert B)$ 就是原来的概率测度 $P(\\bullet)$，因此可以将原来的概率看成是条件概率的极端情形"
   ]
  },
  {
   "cell_type": "markdown",
   "id": "c9843a2f",
   "metadata": {},
   "source": [
    "<div class=\"alert alert-danger\" role=\"alert\"><span class=\"label label-warning\">例题</span> 在全部产品中有 $4%$ 是废品，有 $72%$ 是一等品，从其中任取一件为合格品，求其为一等品的概率</div>\n",
    "\n",
    "&emsp;&emsp;设 $A$ 表示\"任取一件为合格品\"，$B$ 表示\"任取一件为一等品\"，则 $B \\subset A$\n",
    "\n",
    "&emsp;&emsp;$P(A) = 96\\%, P(AB)=P(B)=72\\%$，则所求概率为 $P(B \\vert A) = \\dfrac{P(AB)}{P(A)} = \\dfrac{72\\%}{96\\%} = 0.75$"
   ]
  },
  {
   "cell_type": "markdown",
   "id": "28919012",
   "metadata": {},
   "source": [
    "### 5.2 乘法公式"
   ]
  },
  {
   "cell_type": "markdown",
   "id": "c433463d",
   "metadata": {},
   "source": [
    "&emsp;&emsp;由条件概率的定义立即可以得出 <br><br>\n",
    "$\\qquad\\qquad\\qquad\\qquad\\qquad\\qquad\\qquad\\qquad\\qquad$$P(AB)=P(A)P(B\\vert A)\\;[P(A)>0]$ <br><br>\n",
    "&emsp;&emsp;注意到 $AB=BA$，及 $A,B$ 的对称性，可得到 <br><br>\n",
    "$\\qquad\\qquad\\qquad\\qquad\\qquad\\qquad\\qquad\\qquad\\qquad$$P(AB)=P(B)P(A\\vert B)\\;[P(B)>0]$ <br><br>"
   ]
  },
  {
   "cell_type": "markdown",
   "id": "b627b22d",
   "metadata": {},
   "source": [
    "<div class=\"alert alert-danger\" role=\"alert\"><span class=\"label label-warning\">例题</span> 一袋中装有 $10$ 个球，其中 $3$ 个黑球，$7$ 个白球，先后两次从袋中各取一球，求两次取出都是黑球的概率</div>\n",
    "\n",
    "&emsp;&emsp;设 $A_i$ 表示\"第 $i$ 次取出的是黑球\" $(i=1,2)$，$A_1A_2$ 表示\"两次取出的都是黑球\"，已知 $P(A_1) = \\dfrac{3}{10}, P(A_2 | A_1) = \\dfrac{2}{9}$，于是根据乘法公式有 <br><br>\n",
    "\n",
    "$\\qquad\\qquad\\qquad\\qquad\\qquad\\qquad\\qquad\\qquad$$P(A_1A_2) = P(A_1)P(A_2 | A_1) = \\dfrac{3}{10} \\times \\dfrac{2}{9} = \\dfrac{1}{15}$\n",
    "\n",
    "> 乘法公式可以推广到有限个事件积的概率情形，设 $A_1,A_2,\\dots,A_n$ 为 $n$ 个事件，$n \\ge 2$，且 $P(A_1A_2\\dots A_{n-1}) > 0$，则 $P(A_1A_2\\dots A_{n-1}) = P(A_1)P(A_2 \\vert A_1)P(A_3\\vert A_1A_2)\\dots P(A_n \\vert A_1A_2\\dots A_{n-1})$"
   ]
  },
  {
   "cell_type": "markdown",
   "id": "8779fb2c",
   "metadata": {},
   "source": [
    "### 5.3 全概率公式"
   ]
  },
  {
   "cell_type": "markdown",
   "id": "84b53772",
   "metadata": {},
   "source": [
    "&emsp;&emsp;设 $\\Omega$ 为试验 $E$ 的样本空间，$B_1,B_2,\\dots,B_n$ 为 $E$ 的一组事件，若满足\n",
    "- $B_iB_j = \\emptyset, i \\ne j, i,j = 1,2,\\dots,n$\n",
    "- $B_1 \\cup B_2 \\cup \\dots \\cup B_n = \\Omega$ <br><br>\n",
    "则称 $B_1,B_2,\\dots,B_n$ 是样本空间 $\\Omega$ 的一个 **划分 (Partition)**，也称为互斥完备事件组，若 $B_1,B_2,\\dots,B_n$ 是样本空间 的一个 划分，那么在每次试验中，$B_1,B_2,\\dots,B_n$ 中必有一个且仅有一个发生\n",
    "\n",
    "<div class=\"alert alert-info\" role=\"alert\"><span class=\"label label-success\">定义 $1.5$</span> 设 $B_1,B_2,\\dots$ 是一列互不相容的事件，且有<br><br>\n",
    "$\\qquad\\qquad\\qquad\\qquad\\qquad\\qquad\\qquad\\qquad$$\\bigcup\\limits^{+\\infty}_{i=1}B_i = \\Omega \\qquad P(B_i) > 0, i = 1,2,\\dots$ <br><br>\n",
    "则对任一事件 $A$ 有 <strong>全概率公式</strong><br><br> \n",
    "$\\qquad\\qquad\\qquad\\qquad\\qquad\\qquad\\qquad\\qquad\\qquad$$P(A) = \\sum\\limits^{+\\infty}_{i=1}P(B_i)P(A|B_i)$</div>\n",
    "\n",
    "&emsp;&emsp;因为 $A=A\\Omega=A(B_1\\cup B_2 \\cup \\dots \\cup B_n) = AB_1\\cup AB_2 \\cup \\dots \\cup AB_n$，由假设有 $P(B_i) > 0$ 且 $(AB_i)(AB_j) = \\emptyset, i \\ne j, i,j = 1,2,\\dots$ <br><br>\n",
    "$\\qquad\\qquad\\qquad\\qquad\\qquad\\qquad\\qquad\\qquad$$\\begin{aligned}\n",
    "   P(A)&= P(AB_1) + P(AB_2) + \\dots + P(AB_n)\\\\\n",
    "   &= P(B_1)P(A \\vert B_1) + P(B_2)P(A \\vert B_2) + \\dots + P(B_n)P(A \\vert B_n)\\\\\n",
    "   &= \\sum\\limits^{n}_{i=1}P(B_i)P(A \\vert B_i)\n",
    "\\end{aligned}$\n",
    "\n",
    "&emsp;&emsp;全概率公式指出，在复杂的情况下直接计算 $P(A)$ 不易时，可根据具体情况构造样本空间 $\\Omega$ 的一个划分 $\\{B_1,B_2,\\dots,B_n\\}$，使事件 $A$ 发生的概率是各事件 $B_i$ 发生的条件下事件 $A$ 发生的概率的总和. 特别当 $n=2$， 并将 $B_1$ 记作 $B$，则 $B_2$ 就是 $\\bar{B}$ <br><br>\n",
    "$\\qquad\\qquad\\qquad\\qquad\\qquad\\qquad\\qquad\\qquad\\qquad$$P(A) = P(B)P(A\\vert B) + P(\\bar{B})P(A\\vert \\bar{B})$"
   ]
  },
  {
   "cell_type": "markdown",
   "id": "e4515747",
   "metadata": {},
   "source": [
    "### 5.4 贝叶斯公式"
   ]
  },
  {
   "cell_type": "markdown",
   "id": "be52139a",
   "metadata": {},
   "source": [
    "&emsp;&emsp;利用全概率公式，可通过综合分析一事件发生的不同原因或情况来求得该事件发生的概率，下面给出的 **贝叶斯公式** (Bayes) 则考虑与其完全相反的问题，即一事件已经发生，要求引发该事件发生的各种原因或情况的可能性大小\n",
    "\n",
    "<div class=\"alert alert-info\" role=\"alert\"><span class=\"label label-success\">定义 $1.6$</span> 设 $B_1,B_2,\\dots$ 是一列互不相容的事件，且有<br><br>\n",
    "$\\qquad\\qquad\\qquad\\qquad\\qquad\\qquad\\qquad\\qquad$$\\bigcup\\limits^{+\\infty}_{i=1}B_i = \\Omega \\qquad P(B_i) > 0, i = 1,2,\\dots$ <br><br>\n",
    "则对任一事件 $A$ 有 <strong>贝叶斯公式</strong><br><br> \n",
    "$\\qquad\\qquad\\qquad\\qquad\\qquad\\qquad\\qquad\\qquad$$P(B_i \\vert A) = \\dfrac{P(B_i)P(A\\vert B_i)}{\\sum\\limits^{+\\infty}_{j=1}P(B_j)P(A\\vert B_j)}, i = 1,2,\\dots$</div>\n",
    "\n",
    "&emsp;&emsp;$P(B_i)$ 和 $P(B_i \\vert A)$ 分别称为 $B_i$ 的 **先验概率** 和 **后验概率**\n",
    "- $P(B_i)$ 是在没有得到信息 (不知道事件 $A$ 是否发生) 的情况下诸事件发生的概率\n",
    "- $P(B_i \\vert A)$ 是在试验之后，对 $A$ 发生的来源的各种可能性的大小"
   ]
  },
  {
   "cell_type": "markdown",
   "id": "b80b4c8e",
   "metadata": {},
   "source": [
    "<div class=\"alert alert-danger\" role=\"alert\"><span class=\"label label-warning\">例题</span> 对以往数据分析的结果表明，当机器调整良好时，产品的合格率为 $98\\%$，当机器发生某种故障时，产品的合格率为 $55\\%$. 每天早晨机器开动时，机器调整良好的概率为 $95\\%$，试求某日早上第一件产品是合格品时，机器调整良好的概率</div>\n",
    "\n",
    "&emsp;&emsp;设 $A$ 表示事件\"产品合格\"，$B$ 表示事件\"机器调整良好\"，已知 $P(B) = 0.95, P(\\bar{B}) = 0.05, P(A\\vert B) = 0.98, P(A\\vert \\bar{B}) = 0.55$，由贝叶斯公式得到 <br><br>\n",
    "\n",
    "$\\qquad\\qquad\\qquad\\qquad\\qquad\\qquad$$P(B \\vert A) = \\dfrac{P(A\\vert B)P(B)}{P(B)P(A\\vert B) + P(\\bar{B})P(A \\vert \\bar{B})} = \\dfrac{0.98 \\times 0.95}{0.95 \\times 0.98 + 0.05 \\times 0.55} \\approx 0.97$"
   ]
  },
  {
   "cell_type": "markdown",
   "id": "1dc303d4",
   "metadata": {},
   "source": [
    "---"
   ]
  },
  {
   "cell_type": "markdown",
   "id": "d842dbdc",
   "metadata": {},
   "source": [
    "## 第06节 独立性"
   ]
  },
  {
   "cell_type": "markdown",
   "id": "a7135a3a",
   "metadata": {},
   "source": [
    "&emsp;&emsp;在上一节熟悉 **条件概率** 这个概念，在已知事件 $A$ 发生的条件下，$B$ 发生的可能性为条件概率 $P(B \\vert A) = \\dfrac{P(AB)}{P(A)}$，并且由此得到了一般的概率乘法公式 $P(AB) = P(A)P(B\\vert A)$. 如果事件 $B$ 发生与否不受事件 $A$ 是否发生的影响，为此需要把 \"事件 $B$ 发生与否不受事件 $A$ 是否发生的影响\" 这句话表达成数学语言. 事实上事件 $B$ 发生与否不受事件 $A$ 的影响，也就是意味着 <br><br>\n",
    "$\\qquad\\qquad\\qquad\\qquad\\qquad\\qquad\\qquad\\qquad\\qquad$$P(B) = P(B \\vert A) \\rightarrow P(AB) = P(A) \\cdot P(B)$"
   ]
  },
  {
   "cell_type": "markdown",
   "id": "9e1be229",
   "metadata": {},
   "source": [
    "### 6.1 事件独立性"
   ]
  },
  {
   "cell_type": "markdown",
   "id": "cbad75c7",
   "metadata": {},
   "source": [
    "<div class=\"alert alert-info\" role=\"alert\"><span class=\"label label-success\">定义 $1.6$</span> 若事件 $A,B$ 满足 $P(AB) = P(A)P(B)$，则称事件 $A,B$ <strong>相互独立</strong>，简称 $A,B$ <strong>独立</strong></div>\n",
    "\n",
    "> 两事件互不相容和相互独立是完全不同的两个概念，它们分别从不同的角度表述了两事件间的某种联系 <br>\n",
    "> - **互不相容** 指在一次随机试验中不能同时发生 <br>\n",
    "> - **相互独立** 指在一次试验中一事件是否发生不受另一事件是否发生的影响"
   ]
  },
  {
   "cell_type": "markdown",
   "id": "53148771",
   "metadata": {},
   "source": [
    "&emsp;&emsp;由上述定义很容易可以推导出若事件 $A,B$ 相互独立，则事件 $A$ 与 $\\bar{B}$，$\\bar{A}$ 与 $B$，$\\bar{A}$ 与 $\\bar{B}$ 也相互独立. 由于事件 $A,B$ 相互独立，则 <br><br>\n",
    "$\\qquad\\qquad\\qquad\\qquad\\qquad\\qquad\\qquad\\qquad$$\\begin{aligned}\n",
    "   P(A\\bar{B})&= P(A-B) = P(A) - P(AB)\\\\\n",
    "   &= P(A) - P(A)P(B) = P(A)[1 - P(B)]\\\\\n",
    "   &= P(A)P(\\bar{B})\n",
    "\\end{aligned}$\n",
    "\n",
    "> 这里只证明事件 $A$ 与 $\\bar{B}$ 相互独立，其他情况可以类似证明"
   ]
  },
  {
   "cell_type": "markdown",
   "id": "eafd4d3c",
   "metadata": {},
   "source": [
    "<div class=\"alert alert-danger\" role=\"alert\"><span class=\"label label-warning\">例题</span> 分别抛掷两枚均匀的硬币，令 $A = \\{$硬币甲出现正面$\\}$，$B = \\{$硬币乙出现正面$\\}$，验证事件 $A,B$ 是相互独立的</div>\n",
    "\n",
    "&emsp;&emsp;样本空间 $\\Omega = \\{(H,H),(H,T),(T,H),(T,T)\\}$ 共含有 $4$ 个基本事件，它们是等可能的各有概率 $\\dfrac{1}{4}$，且 <br><br> \n",
    "$\\qquad\\qquad\\qquad\\qquad\\qquad\\qquad\\qquad$$A = \\{(H,H),(H,T)\\}, B = \\{(H,H),(T,H)\\}, AB = \\{(H,H)\\}$ <br><br>\n",
    "&emsp;&emsp;由此可知 $P(A) = P(B) = \\dfrac{1}{2}$，这时有 <br><br>\n",
    "$\\qquad\\qquad\\qquad\\qquad\\qquad\\qquad\\qquad\\qquad$$P(AB) = \\dfrac{1}{4} = P(A) \\cdot P(B)$ 成立，所以 $A,B$ 相互独立 <br><br>\n",
    "\n",
    "> 这样的验证有点过于繁琐，但需要承认这些推导是颇有道理的，在概率论的实际应用中，人们常常会先入为主利用本能直觉来肯定事件间的\"相互独立性\"，如上例中抛掷硬币的情景，从而使问题和计算都得到简化，但并不是所有的问题都是那么容易判断的，很多时候不能停留在\"直觉\"上，有必要对随机现象做仔细的研究"
   ]
  },
  {
   "cell_type": "markdown",
   "id": "809767f4",
   "metadata": {},
   "source": [
    "&emsp;&emsp;从前置章节中可以总结归纳出\n",
    "- 事件 $A,B$ 互不相容时，有 **加法公式** $P(A\\cup B) = P(A) + P(B)$\n",
    "- 事件 $A,B$ 相互独立时，有 **乘法公式** $P(AB) = P(A)P(B)$\n",
    "\n",
    "&emsp;&emsp;这两个公式的外形是很类似的，一个是关于并的加法公式，一个是关于积的乘法公式，由概率的有限可加性可知加法公式对任意有限个事件都成立，例如由 $A,B,C$ 三个事件，两两互不相容可得到 <br><br>\n",
    "$\\qquad\\qquad\\qquad\\qquad\\qquad\\qquad\\qquad\\qquad\\qquad$$P(A\\cup B \\cup C) = P(A) + P(B) + P(C)$ <br><br>\n",
    "&emsp;&emsp;由两个公式的相似外形，可能会产生一种猜测: 如果事件 $A,B,C$ 两两独立，是否有乘法公式 $P(A\\cap B \\cap C) = P(A)P(B)P(C)$ ？遗憾的是这个猜测一般来说并 **不成立**，相反如果事件 $A,B,C$ 两两独立，依定义有下述三个等式 <br><br>\n",
    "$\\qquad\\qquad\\qquad\\qquad\\qquad\\qquad\\qquad\\qquad\\qquad\\qquad$$\\begin{cases}\n",
    "   P(AB)&= P(A)P(B)\\\\\n",
    "   P(BC)&= P(B)P(C)\\\\\n",
    "   P(CA)&= P(C)P(A)\n",
    "\\end{cases}$ <br><br>\n",
    "&emsp;&emsp;但是由这个三个等式依然 **无法保证** <br><br>\n",
    "$\\qquad\\qquad\\qquad\\qquad\\qquad\\qquad\\qquad\\qquad\\qquad\\qquad$$P(ABC) = P(A)P(B)P(C)$"
   ]
  },
  {
   "cell_type": "markdown",
   "id": "b9a3d91d",
   "metadata": {},
   "source": [
    "<div class=\"alert alert-info\" role=\"alert\"><span class=\"label label-success\">定义 $1.7$</span> 对任意事件 $A,B,C$，如果有<br><br>\n",
    "$\\qquad\\qquad\\qquad\\qquad\\qquad$$\\begin{cases}\n",
    "   P(AB)&= P(A)P(B)\\\\\n",
    "   P(BC)&= P(B)P(C)\\\\\n",
    "   P(CA)&= P(C)P(A)\\\\\n",
    "   P(ABC) &= P(A)P(B)P(C)\n",
    "\\end{cases}$ 四个等式同时成立，则称事件 $A,B,C$ <strong>相互独立</strong> <br>\n",
    "</div>\n",
    "\n",
    "&emsp;&emsp;在此基础上，可以推导更一般的情形，设 $A_1,A_2,\\dots,A_n$ 是 $n$ 个事件，如果对于任意的 $k (1 < k \\le n)$ 和任意的一组 $1 \\le i_1 \\le i_2 < \\dots < i_k \\le n$，都有等式 <br><br>\n",
    "$\\qquad\\qquad\\qquad\\qquad\\qquad\\qquad\\qquad\\qquad\\qquad$$P(A_{i_1}A_{i_2}\\dots A_{i_k}) = P(A_{i_1})P(A_{i_2})\\dots P(A_{i_k})$ <br><br>\n",
    "&emsp;&emsp;成立，则称 $A_1,A_2,\\dots,A_n$ 是 $n$ 个相互独立的事件. 由此可知，$n$ 个事件的相互独立性需要有 $\\sum\\limits^n_{k=2}C^k_n = 2^n -n - 1$ 个等式来保证，同样的，若有 $A_1,A_2,\\dots,A_n$ 是 $n$ 个相互独立的事件，则从每个 $A_1 = \\{\\emptyset, A_i, \\bar{A}_i, \\Omega\\} (i=1,2,dots,n)$ 中任取一个事件，所得的 $n$ 个事件仍然是相互独立的，同时 $\\bar{A}_1,\\bar{A}_2,\\dots,\\bar{A}_n$ 是 $n$ 个互相独立的事件"
   ]
  },
  {
   "cell_type": "markdown",
   "id": "8aeb67f8",
   "metadata": {},
   "source": [
    "<div class=\"alert alert-danger\" role=\"alert\"><span class=\"label label-warning\">例题</span> 一个大学毕业生给 $4$ 个单位发了求职信，假定这些单位彼此独立，通知去面试的概率分别为 $\\dfrac{1}{2},\\dfrac{1}{3},\\dfrac{1}{4},\\dfrac{1}{5}$，求这个学生至少有一次面试机会的概率是多大</div>\n",
    "\n",
    "&emsp;&emsp;设 $A_i$ 表示\"到第 $i$ 个单位去面试\"，$i = 1,2,3,4$，则所求概率可表示为 <br><br> \n",
    "$\\qquad\\qquad\\qquad\\qquad\\qquad\\qquad\\qquad$$\\begin{aligned}\n",
    "   P(A_1\\cup A_2 \\cup A_3 \\cup A_4) &= 1 - P(\\overline{A_1\\cup A_2 \\cup A_3 \\cup A_4})\\\\\n",
    "   &= 1 - P(\\bar{A}_1 \\bar{A}_2 \\bar{A}_3 \\bar{A}_4)\\\\\n",
    "   &= 1 - P(\\bar{A}_1) - P(\\bar{A}_2) - P(\\bar{A}_3) - P(\\bar{A}_4))\\\\\n",
    "   &= 1 - \\dfrac{1}{2} \\times \\dfrac{2}{3} \\times \\dfrac{3}{4} \\times \\dfrac{4}{5}\\\\\n",
    "   &= 1 - \\dfrac{1}{5} = \\dfrac{4}{5}\n",
    "\\end{aligned}$"
   ]
  },
  {
   "cell_type": "markdown",
   "id": "968721a6",
   "metadata": {},
   "source": [
    "### 6.2 伯努利模型"
   ]
  },
  {
   "cell_type": "markdown",
   "id": "1e81c781",
   "metadata": {},
   "source": [
    "&emsp;&emsp;在了解事件的独立性后，再同样研究硬币的抛掷问题，即前述的\"一次抛掷 $n$ 枚相同硬币\" 的随机试验，可以用另一种等价的方式来进行 <br><br>\n",
    "$\\qquad\\qquad\\qquad\\qquad\\qquad\\qquad\\qquad\\qquad\\qquad$**每次抛掷一枚硬币，共抛掷 $n$ 次** <br><br>\n",
    "    &emsp;&emsp;这 $n$ 次抛掷的结果是互相独立的，因而如果把相同条件下抛掷一枚硬币看作是一次试验，就意味着这 $n$ 次试验是相互独立的. 一般来说，如果试验 $E$ 只有两个可能的结果 $A$ 及 $\\bar{A}$，并且 $P(A)=p, P(\\bar{A}) = 1- p =q \\;(0<p<1)$，把 $E$ 独立地重复 $n$ 次就构成了一个 **n重伯努利(Bernoulli)试验**，简称为 **伯努利试验** 或 **伯努利模型**，记作 $B^n$. n重伯努利试验是一种很重要的数学模型，在实际问题中具有广泛的应用，是被研究的较多的模型之一，其特点是事件 $A$ 在每次试验中发生的概率均为 $p$，且不受其他各次试验中 $A$ 是否发生的影响"
   ]
  },
  {
   "cell_type": "markdown",
   "id": "e26b5866",
   "metadata": {},
   "source": [
    "<div class=\"alert alert-info\" role=\"alert\"><span class=\"label label-success\">定义 $1.8$</span> <strong>伯努利定理</strong> 设在一次试验中，事件 $A$ 发生的概率为 $p\\;(0<p<1)$，则在 $n$ 重伯努利试验中，事件 $A$ 恰好发生 $k$ 次的概率为 <br><br>\n",
    "$\\qquad\\qquad\\qquad\\qquad\\qquad\\qquad\\qquad\\qquad$$P_n(k) = c^k_np^k(1-p)^(n-k), \\; k = 0,1,\\dots,k$</div>\n",
    "\n",
    "> \"事件$A$ 在第 $k$ 次试验才首次发生\" 等价于前 $k$ 次试验组成的 $k$ 重伯努利试验中 \"事件 $A$ 在前 $k-1$ 次试验中均不发生而第 $k$ 次试验中 $A$ 发生\"，再由伯努利定理即可推得"
   ]
  },
  {
   "cell_type": "markdown",
   "id": "4825177f",
   "metadata": {},
   "source": [
    "<div class=\"alert alert-danger\" role=\"alert\"><span class=\"label label-warning\">例题</span> 在一次试验中事件 $A$ 发生的概率为 $p\\;(0<p<1)$，现将试验独立地重复进行 $n$ 次，试求事件 $A$ 至少发生一次的概率</div>\n",
    "\n",
    "&emsp;&emsp;设 $A_i$ 表示\"到第 $i$ 次试验中 $A$ 发生\"，$i = 1,2,\\dots,n$，则 $A_1,A_2,\\dots,A_n$ 相互独立，设 $B$ 表示\"在 $n$ 次试验中 $A$ 至少发生一次\"，则 $B = A_1 \\cup A_2 \\cup \\dots \\cup A_n$，因此 <br><br>\n",
    "$\\qquad\\qquad\\qquad\\qquad\\qquad\\qquad\\qquad$$\\begin{aligned}\n",
    "   P(B) &= P(A_1 \\cup A_2 \\cup \\dots \\cup A_n)\\\\\n",
    "   &= 1 - P(\\bar{A}_1 \\bar{A}_2 \\dots \\bar{A}_n)\\\\\n",
    "   &= 1 - P(\\bar{A}_1)P(\\bar{A}_2) \\dots P(\\bar{A}_n))\\\\\n",
    "   &= 1 - (1 - p)^n\n",
    "\\end{aligned}$\n",
    "\n",
    "&emsp;&emsp;由上可得到一个重要的结论: 对 $p\\;(0<p<1)$，有 $\\lim\\limits_{n\\rightarrow\\infty}[1-(1-p)^n] = 1$，说明只要 $p\\ne0$ (即使非常小),只要试验无线重复进行，事件 $A$ 迟早会发生"
   ]
  }
 ],
 "metadata": {
  "kernelspec": {
   "display_name": "Python 3",
   "language": "python",
   "name": "python3"
  },
  "language_info": {
   "codemirror_mode": {
    "name": "ipython",
    "version": 3
   },
   "file_extension": ".py",
   "mimetype": "text/x-python",
   "name": "python",
   "nbconvert_exporter": "python",
   "pygments_lexer": "ipython3",
   "version": "3.8.8"
  }
 },
 "nbformat": 4,
 "nbformat_minor": 5
}

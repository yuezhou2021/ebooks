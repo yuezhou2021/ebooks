{
 "cells": [
  {
   "cell_type": "markdown",
   "id": "d444db0f",
   "metadata": {},
   "source": [
    "# 第12章 随机过程"
   ]
  },
  {
   "cell_type": "markdown",
   "id": "1103377c",
   "metadata": {},
   "source": [
    "---"
   ]
  },
  {
   "cell_type": "markdown",
   "id": "75377c47",
   "metadata": {},
   "source": [
    "## 序言"
   ]
  },
  {
   "cell_type": "markdown",
   "id": "7dde6b53",
   "metadata": {},
   "source": [
    "### 1.内容介绍\n",
    "\n",
    "&emsp;&emsp;本章详细介绍了随机过程的概念、随机过程的统计描述与泊松过程和维纳过程，并对其原理与例题进行了一一阐述\n",
    "\n",
    "### 2.理论目标\n",
    "\n",
    "- 掌握连续型随机过程与离散型随机过程的概念\n",
    "- 掌握随机过程的分布函数族和数字特征\n",
    "- 掌握二维随机过程的分布函数和数字特征\n",
    "- 掌握独立增量过程、泊松过程与维纳过程\n",
    "\n",
    "### 3.实践目标\n",
    "\n",
    "- 无\n",
    "\n",
    "### 4.实践案例\n",
    "\n",
    "- 无\n",
    "\n",
    "### 5.内容目录\n",
    "\n",
    "- 1.随机过程的概念\n",
    "- 2.随机过程的统计描述\n",
    "- 3.泊松过程和维纳过程"
   ]
  },
  {
   "cell_type": "markdown",
   "id": "6256e889",
   "metadata": {},
   "source": [
    "---"
   ]
  },
  {
   "cell_type": "markdown",
   "id": "0b35d355",
   "metadata": {},
   "source": [
    "## 第01节 随机过程的概念"
   ]
  },
  {
   "cell_type": "markdown",
   "id": "28ae50ce",
   "metadata": {},
   "source": [
    "&emsp;&emsp;随机过程的研究对象是 **随时间演变** 的随机现象，对于这种现象一般来说，已不能用随机变量或多维随机变量来合理地表达，而需要用一族，即无限多个随机变量来描述"
   ]
  },
  {
   "cell_type": "markdown",
   "id": "a5d64c5f",
   "metadata": {},
   "source": [
    "&emsp;&emsp;设 $T$ 是一无限实数集，把依赖于参数 $t\\in T$ 的无限多个随机变量称为 **随机过程**，记为 $(X(t),t\\in T)$，这里对每一个 $t\\in T$，$X(t)$ 是一个随机变量，$T$ 叫做参数集，常把 $t$ 看作为时间，称 $X(t)$ 为时刻 $t$ 时过程的状态，而 $X(t_1)=x$ 说成是 $t=t_1$ 时过程处于状态 $x$，对于一切 $(X(t),t\\in T)$ 所有可能取的一切值的全体称为随机过程的 **状态空间**\n",
    "\n",
    "&emsp;&emsp;对随机过程 $(X(t),t\\in T)$ 进行一次试验，即在 $T$ 上进行一次全程观测，其结果是 $t$ 的函数，记为 $x(t),t\\in T$，称它为随机过程 的一个 **样本函数** 或 **样本曲线**，所有不同的试验结果构成一族\n",
    "\n",
    "> 随机过程可以看作是多维随机变量的延伸，而随机过程与其样本函数的关系就像数理统计中总体与样本的关系一样"
   ]
  },
  {
   "cell_type": "markdown",
   "id": "811202b4",
   "metadata": {},
   "source": [
    "&emsp;&emsp;工程技术中有很多随机现象，例如地震波幅、结构物承受的风荷载、时间间隔 $(0,t\\rbrack$ 内船舶甲板上浪的次数、通讯系统和自控系统中的各种噪声和干扰，以及生物群体的生长等等变化过程都可用随机过程这一数学模型来描绘，不过这些随机过程都不能像随机相位正弦波那样，很方便、很具体地用时间和随机变量（一个或几个）的关系式表示出来，其主要原因在于自然界和社会产生随机因素的机理是极为复杂的，甚至是不可能被观察到的，\n",
    "因而对于这样的随机过程只有通过分析由观察所得到的样本函数才能掌握它们随时间变化的统计规律性\n",
    "\n",
    "&emsp;&emsp;随机过程还可依时间是连续或离散进行分类，当时间集 $T$ 是有限或无限区间时，称为 **连续参数随机过程** 或 **随机过程**，如果 $T$ 是离散集合，例如 $T={0,1,2,\\dots}$，则称 $(X(t),t\\in T)$ 为 **离散参数随机过程** 或 **随机序列**"
   ]
  },
  {
   "cell_type": "markdown",
   "id": "e9b98249",
   "metadata": {},
   "source": [
    "### 1.1 连续型随机过程"
   ]
  },
  {
   "cell_type": "markdown",
   "id": "3f0e4ed9",
   "metadata": {},
   "source": [
    "&emsp;&emsp;考虑 $X(t)=a\\cos(wt+\\Theta)$，$t\\in(-\\infty,+\\infty)$，式中 $a$ 和 $w$ 是正常数，$\\Theta$ 是在 $0,2\\pi$ 上服从均匀分布的随机变量\n",
    "\n",
    "&emsp;&emsp;显然，对于每一个固定的时刻 $t=t_1$，$X(t_1)=a\\cos(wt_1+\\Theta)$ 是一个随机变量，因而确定的 $X(t)$ 是一个随机过程，通常称它为 **随机相位正弦波**，它的状态空间是 $[-a,a]$，在 $0,2\\pi$ 内随机地取一数 $\\theta_i$，相应地即得这个随机过程的一个样本函数 <br><br>\n",
    "<center>$x_i(t)=a\\cos(wt+\\theta_i)\\quad\\theta_i\\in(0,2\\pi)$</center>\n",
    "\n",
    "\n",
    "\n",
    "![cos](https://s2.loli.net/2022/07/18/zYsrEOfXyFG1dlZ.png)"
   ]
  },
  {
   "cell_type": "markdown",
   "id": "f1e3121f",
   "metadata": {},
   "source": [
    "&emsp;&emsp;另一个连续型随机过程的示例，考虑在测量运动目标的距离时存在随机误差，若以 $\\epsilon(t)$ 表示在时刻 $t$ 的测量误差，则它是一个随机变量，当目标随时间 $t$ 按一定规律运动时，测量误差 $\\epsilon(t)$ 也随时间 $t$ 而变化，换句话说 $\\epsilon(t)$ 是依赖于时间 $t$ 的一族随机变量，亦即 $(\\epsilon(t),t\\ge0)$ 是一随机过程，且它们的状态空间是 $(-\\infty,+\\infty)$"
   ]
  },
  {
   "cell_type": "markdown",
   "id": "bc4adf4a",
   "metadata": {},
   "source": [
    "### 1.2 离散型随机过程"
   ]
  },
  {
   "cell_type": "markdown",
   "id": "35f14107",
   "metadata": {},
   "source": [
    "&emsp;&emsp;抛掷一枚硬币的试验，样本空间是 $S=\\{H,T\\}$，现借此定义 <br><br>\n",
    "<center>$X(t)=\\begin{cases}\\cos\\pi t &s_t = H\\\\t&s_t=T\\end{cases}\\quad t\\in(-\\infty,+\\infty)$</center><br>\n",
    "&emsp;&emsp;其中 $P(H)=P(T)=\\dfrac{1}{2}$，对任意固定的 $t,X(t)$ 是一定义在 $S$ 上的随机变量，对不同的 $t,X(t)$ 是不同的随机变量，所以 $(X(t),t\\in(-\\infty,+\\infty)$ 是一族随机变量，即它是随机过程，另一方面每做一次试验，若出现 $H$ 样本函数为 $x_1(t)=\\cos\\pi t$，若出现 $T$，样本函数为 $x_2(t) =t$，所以该随机过程对应的一族样本函数仅包含两个函数 $\\{\\cos\\pi t, t\\}$，显然这个随机过程的状态空间为 $(-\\infty,+\\infty)$\n",
    "\n",
    "![coin](https://s2.loli.net/2022/07/18/4OqsiCfKj6vPgmB.png)\n",
    "\n",
    "&emsp;&emsp;另一个离散型随机过程的示例，考虑抛掷一颗骰子的试验，设 $X_n$ 是第 $n$ 次 $n\\ge1$ 抛掷的点数，对于 $n=1,2,\\dots$ 的不同值，$X_n$ 是不同的随机变量，因而 $(X_n,n\\ge1)$ 构成一随机过程，称为 **伯努利过程** 或 **伯努利随机序列**，设 $Y_n$ 是前 $n$ 次抛掷中出现的最大点数，$(Y_n,n\\ge1)$ 也是一随机过程，$X,Y$ 的状态空间都是 $\\{1,2,3,4,5,6\\}$"
   ]
  },
  {
   "cell_type": "markdown",
   "id": "583f7c6f",
   "metadata": {},
   "source": [
    "---"
   ]
  },
  {
   "cell_type": "markdown",
   "id": "cbf78e50",
   "metadata": {},
   "source": [
    "## 第02节 随机过程的统计描述"
   ]
  },
  {
   "cell_type": "markdown",
   "id": "7cc461b6",
   "metadata": {},
   "source": [
    "### 2.1 随机过程的分布函数族"
   ]
  },
  {
   "cell_type": "markdown",
   "id": "10299ed1",
   "metadata": {},
   "source": [
    "<div class=\"alert alert-info\" role=\"alert\"><span class=\"label label-success\">定义 $12.1$</span> 给定随机过程 $(X(t),t\\in T)$，对于每一个固定的 $t\\in T$，随机变量 $X(t)$ 的分布函数一般与 $t$ 有关，记为 <br><br><center>$F_X(x,t)=P(X(t)\\le x)\\quad x\\in \\Re$</center><br>称其为随机过程 $(X(t),t\\in T)$ 的 <strong>一维分布函数</strong>，而 $(F_X(x,t),t\\in T)$ 称为 <strong>一维分布函数族</strong></div>"
   ]
  },
  {
   "cell_type": "markdown",
   "id": "e57e1796",
   "metadata": {},
   "source": [
    "&emsp;&emsp;一维分布函数族刻画了随机过程在各个个别时刻的统计特性，为了描述随机过程在不同时刻状态之间的统计联系，一般可对任意 $n(n=2,3,\\dots)$ 个不同的时刻 $t_1,t_2,\\dots,t_n\\in T$ 引入 $n$ 维随机变量 $(X(t_1),X(t_2),\\dots,X(t_n))$，它的分布函数记为 <br><br>\n",
    "<center>$F_X(x_1,x_2,\\dots,x_n;t_1,t_2,\\dots,t_n)=P(X(t_1)\\le x_1,X(t_2)\\le x_2,\\dots,X(t_n)\\le x_n)$</center>\n",
    "\n",
    "其中 $x_i\\in\\Re$，$i=1,2,\\dots,n$，对于固定的 $n$，称 $(F_X(x_1,x_2,\\dots,x_n;t_1,t_2,\\dots,t_n),t_i\\in T)$ 为随机过程 $(X(t),t\\in T)$ 的 **$n$ 维分布函数族** \n",
    "\n",
    "&emsp;&emsp;当 $n$ 充分大时，$n$ 维分布函数族能够近似地描述随机过程的统计特性，显然 $n$ 取得越大，则 $n$ 维分布函数族描述随机过程的特性也越趋完善，一般可以根据 **科尔莫戈罗夫定理** 指出 **有限维分布函数族**，即 $(F_X(x_1,x_2,\\dots,x_n;t_1,t_2,\\dots,t_n),n=1,2,\\dots,t_i\\in T)$ 完全地确定了随机过程的统计特性"
   ]
  },
  {
   "cell_type": "markdown",
   "id": "996ca21e",
   "metadata": {},
   "source": [
    "### 2.2 随机过程的数字特征"
   ]
  },
  {
   "cell_type": "markdown",
   "id": "210d4a75",
   "metadata": {},
   "source": [
    "&emsp;&emsp;随机过程的分布函数族能完善地刻画随机过程的统计特性，但是在实际中，根据观察往往只能得到随机过程的部分样本，用它来确定有限维分\n",
    "布函数族是困难的，甚至是不可能的，因而像引入随机变量的数字特征那样，有必要引人随机过程的基本的数字特征：**均值函数** 和 **相关函数** 等"
   ]
  },
  {
   "cell_type": "markdown",
   "id": "73b7750b",
   "metadata": {},
   "source": [
    "<div class=\"alert alert-info\" role=\"alert\"><span class=\"label label-success\">定义 $12.2$</span> 给定随机过程 $(X(t),t\\in T)$，对于每一个固定的 $t\\in T$，随机变量 $X(t)$ 的均值一般与 $t$ 有关，记为 <br><br><center>$\\mu_X(t)=E[X(t)]$</center><br>称 $\\mu_X(t)$ 为随机过程 $(X(t),t\\in T)$ 的 <strong>均值函数</strong></div>"
   ]
  },
  {
   "cell_type": "markdown",
   "id": "3173d130",
   "metadata": {},
   "source": [
    "> $\\mu_X(t)$ 是随机过程的所有样本函数在时刻 $t$ 的函数值的平均值，通常称这种平均为 **集平均** 或 **统计平均**\n",
    "\n",
    "![mean](https://s2.loli.net/2022/07/18/dAsC8lp67JyfQZk.png)\n",
    "\n",
    "&emsp;&emsp;如上图所示，均值函数 $\\mu_X(t)$ 表示了随机过程 $X(t)$ 在各个时刻的摆动中心，把随机变量的 **二阶原点矩** 和 **二阶中心矩** 分别记作 <br><br>\n",
    "<center>$\\Psi^2_X(t)=E[X^2(t)]$</center><br>\n",
    "<center>$\\sigma^2_X(t)=D_X(t)=Var[X(t)]=E([X(t)-\\mu_x(t)]^2)$</center>\n",
    "\n",
    "&emsp;&emsp;并分别称它们为随机过程的 **均方值函数** 和 **方差函数**，方差函数的算术平方根 $\\sigma_x(t)$ 称为随机过程的 **标准差函数**，它表示随机过程 $X(t)$ 在时刻 $t$ 对于均值 $\\mu_x(t)$ 的平均偏离程度，由多维随机变量数字特征的知识可知，自相关函数和自协方差函数是刻画随机过程自身在两个不同时刻的状态之间统计依赖关系的数字特征"
   ]
  },
  {
   "cell_type": "markdown",
   "id": "7887d5c6",
   "metadata": {},
   "source": [
    "- 设任意 $t_1,t_2\\in T$，将随机变量 $X(t_1)$ 和 $X(t_2)$ 的二阶原点混合矩记作 <br><br>\n",
    "<center>$R_{XX}(t_1,t_2)=E[X(t_1)X(t_2)]$</center>\n",
    "\n",
    "  并称它为随机过程 $(X(t),t\\in T)$ 的 **自相关函数**，简称 **相关函数**，记作 $R_{XX}(t_1,t_2)$，也常简记为 $R_X(t_1,t_2)$\n",
    "\n",
    "\n",
    "- 设任意 $t_1,t_2\\in T$，将随机变量 $X(t_1)$ 和 $X(t_2)$ 的二阶中心混合矩记作 <br><br>\n",
    "<center>$C_{XX}(t_1,t_2)=Cov[X(t_1)X(t_2)]=E([X(t_1)-\\mu_X(t_1)][X(t_2)-\\mu_X(t_2)])$</center>\n",
    "\n",
    "  并称它为随机过程 $(X(t),t\\in T)$ 的 **自协方差函数**，简称 **协方差函数**，记作 $C_{XX}(t_1,t_2)$，也常简记为 $C_X(t_1,t_2)$"
   ]
  },
  {
   "cell_type": "markdown",
   "id": "c5e68cd5",
   "metadata": {},
   "source": [
    "<center>$\\downarrow$</center><br>\n",
    "<center>$\\Psi^2_X(t)=R_X(t,t)$</center><br>\n",
    "<center>$C_X(t_1,t_2)=R_X(t_1,t_2)-\\mu_X(t_1)\\mu_X(t_2)\\quad\\overset{t_1=t_2}{\\longrightarrow}\\quad\\sigma^2_X(t)=C_X(t,t)=R_X(t,t)-\\mu^2_X(t)$</center><br>"
   ]
  },
  {
   "cell_type": "markdown",
   "id": "3501bd6c",
   "metadata": {},
   "source": [
    "&emsp;&emsp;如果对每一个 $t\\in T$，随机过程 $(X(t),t\\in T)$ 的二阶矩 $E[X^2(t)]$ 都存在，则称它为 **二阶矩过程**，且二阶矩过程的相关函数 **总存在**，事实上由于 $E[X^2(t_1)]$，$E[X^2(t_2)]$ 存在，根据 **柯西-施瓦茨不等式** 有 <br><br>\n",
    "<center>$(E[X(t_1)X(t_2)])^2\\le E[X^2(t_1)]E[X^2(t_2)]\\quad t_1,t_2\\in T$</center><br>\n",
    "即知 $R_X(t_1,t_2)=E[X(t_1)X(t_2)]$ 存在\n",
    "\n",
    "&emsp;&emsp;如果随机过程 $(X(t),t\\in T)$ 的每一个有限维分布都是正态分布，亦即对任意整数 $n\\ge1$ 及任意 $t_1,t_2,\\dots,t_n\\in T$，$(X(t_1),X(t_2),\\dots,X(t_n))$ 服从 $n$ 维正态分布，则称其为 **正态过程**，由随机变量的统计特性可知，正态过程的全部统计特性完全由它的均值函数和自协方差函数所确定"
   ]
  },
  {
   "cell_type": "markdown",
   "id": "111b0b0f",
   "metadata": {},
   "source": [
    "<div class=\"alert alert-danger\" role=\"alert\"><span class=\"label label-warning\">例题</span> 求随机相位正弦波的均值函数、方差函数和自相关函数</div>\n",
    "\n",
    "&emsp;&emsp;由假设 $\\Theta$ 的概率密度为 <br><br>\n",
    "<center>$f(\\theta)=\\begin{cases}\\dfrac{1}{2\\pi}&0<\\theta<2\\pi\\\\\\\\0&else\\end{cases}$</center><br>\n",
    "&emsp;&emsp;可得均值函数为 <br><br>\n",
    "<center>$\\mu_X(t)=E[X(t)]=E[a\\cos(wt+\\Theta)]=\\int\\limits^{2\\pi}_0a\\cos(wt+\\theta)\\cdot\\dfrac{1}{2\\pi}d\\theta=0$</center><br>\n",
    "&emsp;&emsp;自相关函数为 <br><br>\n",
    "<center>$R_X(t_1,t_2)=E[X(t_1)X(t_2)]=E[a^2\\cos(wt_1+\\Theta)\\cos(wt_2+\\Theta)]$</center><br>\n",
    "<center>$=a^2\\int\\limits^{2\\pi}_0\\cos(wt_1+\\theta)\\cos(wt_2+\\theta)\\cdot\\dfrac{1}{2\\pi}d\\theta=\\dfrac{a^2}{2}\\cos w\\tau,\\quad\\tau=t_2-t_1$</center><br>\n",
    "&emsp;&emsp;令 $t_1=t_2=t$，即可得方差函数为 <br><br>\n",
    "<center>$\\sigma^2_X(t)=R_X(t,t)-\\mu^2_X(t)=R_X(t,t)=\\dfrac{a^2}{2}$</center>"
   ]
  },
  {
   "cell_type": "markdown",
   "id": "af277d7f",
   "metadata": {},
   "source": [
    "<div class=\"alert alert-danger\" role=\"alert\"><span class=\"label label-warning\">例题</span> 设 $X(t)=A\\cos wt+B\\sin wt$，$t\\in T=(-\\infty,+\\infty)$，其中 $A,B$ 是相互独立且都服从正态分布 $N(0,\\sigma^2)$ 的随机变量，$w$ 是实常数，试证明 $X(t)$ 是正态过程，并求它的均值函数和自相关函数</div>\n",
    "\n",
    "&emsp;&emsp;由题设 $A,B$ 是相互独立的正态变量，所以 $(A,B)$ 是二维正态变量，对任意一组实数 $t_1,t_2,\\dots,t_n\\in T$ <br><br>\n",
    "<center>$X(t_i)=A\\cos wt_i+B\\sin wt_i,\\quad i=1,2,\\dots,n$</center><br>\n",
    "都是 $A,B$ 的线性组合，于是 $n$ 维正态变量的性质 $(X(t_1),X(t_2),\\dots,X(t_n))$ 是 $n$ 维正态变量，因为 $n,t_i$ 是任意的，由定义 $X(t)$ 是正态过程，另由题设 $E(A)=E(B)=E(AB)=0$，$E(A^2)=E(B^2)=\\sigma^2$，由此可算得 $X(t)$ 的均值函数和自协方差函数分别为 <br><br>\n",
    "<center>$\\mu_X(t)=E(A\\cos wt+B\\sin wt)=0$</center><br>\n",
    "<center>$C_X(t_1,t_2)=R_X(t_1,t_2)=E[(A\\cos wt_1+B\\sin wt_1)(A\\cos wt_2+B\\sin wt_2)]$</center><br>\n",
    "<center>$=\\sigma(\\cos wt_1\\cos wt_2+\\sin wt_1\\sin wt_2)=\\sigma^2\\cos w(t_2-t_1)$</center>"
   ]
  },
  {
   "cell_type": "markdown",
   "id": "2f7c3745",
   "metadata": {},
   "source": [
    "### 2.3 二维随机过程的分布函数和数字特征"
   ]
  },
  {
   "cell_type": "markdown",
   "id": "5db0bc36",
   "metadata": {},
   "source": [
    "<div class=\"alert alert-info\" role=\"alert\"><span class=\"label label-success\">定义 $12.3$</span> 设 $X(t),Y(t)$ 是依赖于同一参数 $t\\in T$ 的随机过程，对于不同的 $t\\in T$，$(X(t),Y(t))$ 是不同的二维随机变量，称<br><br><center>$((X(t),Y(t)),t\\in T)$</center><br>为 <strong>二维随机过程</strong></div>"
   ]
  },
  {
   "cell_type": "markdown",
   "id": "c266bc0e",
   "metadata": {},
   "source": [
    "&emsp;&emsp;给定二维随机过程 $((X(t),Y(t)),t\\in T)$，$t_1,t_2,\\dots,t_n$ 与 $t'_1,t'_2,\\dots,t'_m$ 是 $T$ 中任意两组实数，称 $n+m$ 维随机变量 $(X(t_1),X(t_2),\\dots,X(t_n)$;$Y(t'_1),Y(t'_2),\\dots,Y(t'_m))$ 的分布函数 <br><br>\n",
    "<center>$F(x_1,x_2,\\dots,x_n;t_1,t_2,\\dots,t_n;y_1,y_2,\\dots,y_m;t'_1,t'_2,\\dots,t'_m)$</center><br>\n",
    "<center>$x_i,y_j\\in\\Re$，$i=1,2,\\dots,n$，$j=1,2,\\dots,m$</center>\n",
    "\n",
    "为这个二维随机过程的 **$n+m$ 维分布函数** 或随机过程 $X(t)$ 与 $Y(t)$ 的 **$n+m$ 维联合分布函数**，同样可定义二维随机过程的 $n+m$ 维分布函数族和有限维分布函数族，如果对任意的正整数 $n,m$，任意的数组 $t_1,t_2,\\dots,t_n\\in T$，$t'_1,t'_2,\\dots,t'_m\\in T$，$n$ 维随机变量 $(X(t_1),X(t_2),\\dots,X(t_n))$ 与 $m$ 维随机变量 $(Y(t'_1),Y(t'_2),\\dots,Y(t'_m))$ 相互独立，则称随机过程 $X(t)$ 和 $Y(t)$ 是 **相互独立** 的 "
   ]
  },
  {
   "cell_type": "markdown",
   "id": "b139f357",
   "metadata": {},
   "source": [
    "- 设任意 $t_1,t_2\\in T$，将随机变量 $X(t)$ 和 $Y(t)$ 的二阶原点混合矩记作 <br><br>\n",
    "<center>$R_{XY}(t_1,t_2)=E[X(t_1)X(t_2)]$</center>\n",
    "\n",
    "  并称它为随机过程 $(X(t),t\\in T)$ 的 **互相关函数**，记作 $R_{XY}(t_1,t_2)$\n",
    "\n",
    "\n",
    "- 设任意 $t_1,t_2\\in T$，将随机变量 $X(t)$ 和 $X(t)$ 的二阶中心混合矩记作 <br><br>\n",
    "<center>$C_{XY}(t_1,t_2)=Cov[X(t_1)Y(t_2)]=E([X(t_1)-\\mu_X(t_1)][Y(t_2)-\\mu_Y(t_2)])$</center><br>\n",
    "<center>$=R_{XY}(t_1,t_2)-\\mu_X(t_1)\\mu_Y(t_2)$</center>\n",
    "\n",
    "  并称它为随机过程 $(X(t),t\\in T)$ 的 **互协方差函数**，简称 **协方差函数**，记作 $C_{XX}(t_1,t_2)$，也常简记为 $C_X(t_1,t_2)$\n",
    "  \n",
    "> 如果二维随机过程 $(X(t),Y(t))$ 对任意的 $t_1,t_2\\in T$ 恒有 $C_{XY}(t_1,t_2)=0$ 则称随机过裎 $X(t)$ 和 $Y(t)$ 是 **不相关**的"
   ]
  },
  {
   "cell_type": "markdown",
   "id": "a5b1e2d8",
   "metadata": {},
   "source": [
    "&emsp;&emsp;在许多应用问题中，经常要研究几个随机过程之和 (例如将信号和噪声同时输人到一个线性系统的情形) 的统计特性，现考虑三个随机过程 $X(t)$，$Y(t)$ 和 $Z(t)$ 之和的情形，令 $W(t)=X(t)+Y(t)+Z(t)$，显然均值函数 $\\mu_W(t)=\\mu_X(t)+\\mu_Y(t)+\\mu_Z(t)$，而 $W(t)$ 的自相关函数可以根据均值运算规则和相关函数的定义得到 <br><br>\n",
    "<center>$R_{WW}(t_1,t_2)=E[W(t_1)W(t_2)]$</center><br>\n",
    "<center>$=R_{XX}(t_1,t_2)+R_{XY}(t_1,t_2)+R_{XZ}(t_1,t_2)+R_{YX}(t_1,t_2)+R_{YY}(t_1,t_2)+R_{YZ}(t_1,t_2)+R_{ZX}(t_1,t_2)+R_{ZY}(t_1,t_2)+R_{ZZ}(t_1,t_2)$</center>\n",
    "\n",
    "> 此式表明：几个随机过程之和的自相关函数町以表示为各个随机过程的自相关函数以及各对随机过程的互相关函数之和\n",
    "\n",
    "&emsp;&emsp;如果上述三个随机过程是两两不相关的，且各自的均值函数都为 $0$，则由上式可知诸互相关函数均等于 $0$，此时 $W(t)$ 的自相关函数简单地等于各个过程的自相关函数之和，即 <br><br>\n",
    "<center>$R_{WW}(t_1,t_2)=R_{XX}(t_1,t_2)+R_{YY}(t_1,t_2)+R_{ZZ}(t_1,t_2)$</center><br>\n",
    "特别地，令 $t_1=t_2=t$，由上式可得 $W(t)$ 的方差函数为 <br><br>\n",
    "<center>$\\sigma^2_W(t)=\\Psi^2_W(t)=\\Psi^2_X(t)+\\Psi^2_Y(t)+\\Psi^2_Z(t)$</center>"
   ]
  },
  {
   "cell_type": "markdown",
   "id": "ddafda22",
   "metadata": {},
   "source": [
    "---"
   ]
  },
  {
   "cell_type": "markdown",
   "id": "ee2d6410",
   "metadata": {},
   "source": [
    "## 第03节 泊松过程和维纳过程"
   ]
  },
  {
   "cell_type": "markdown",
   "id": "42d3b879",
   "metadata": {},
   "source": [
    "### 3.1 独立增量过程"
   ]
  },
  {
   "cell_type": "markdown",
   "id": "dcbb5a14",
   "metadata": {},
   "source": [
    "<div class=\"alert alert-info\" role=\"alert\"><span class=\"label label-success\">定义 $12.4$</span> 给定二阶矩过程 $(X(t),t\\ge0)$，称随机变量 $X(t)-X(s)$，$0\\le s<t$ 为随机过程在区间 $(s,t\\rbrack$ 上的增量，如果对任意选定的正整数 $n$ 和任意选定的 $0\\le t_0\\le t_1\\le t_2\\le\\dots\\le t_n$，$n$ 个增量 <br><br><center>$X(t_1)-X(t_0),X(t_2)-X(t_1),\\dots,X(t_n)-X(t_{n-1})$</center><br>相互独立，则称 $(X(t),t\\ge0)$ 为 <strong>独立增量过程</strong></div>"
   ]
  },
  {
   "cell_type": "markdown",
   "id": "edf6a5e1",
   "metadata": {},
   "source": [
    "&emsp;&emsp;独立增量过程具有在互不重叠的区间上，状态的增量是相互独立的这一特性，且在 $X(0)=0$ 的条件下，它的有限维分布函数族可以由增量 $X(t)-X(s)$ 的分布所确定\n",
    "\n",
    "&emsp;&emsp;特别的若对任意的实数 $h$ 和 $0\\le s+h<t+h$，$X(t+h)-X(s+h)$ 与 $X(t)-X(s)$ 具有相同的分布，则称 **增置具有平稳性**，这时增量 $X(s)-X(t)$ 的分布函数实际上只依赖于时间差 $t-s$，而不依赖于 $t$ 和 $s$ 本身，当增量具有平稳性时，称相应的独立增量过程是 **齐次** 的或 **时齐** 的"
   ]
  },
  {
   "cell_type": "markdown",
   "id": "e742cf18",
   "metadata": {},
   "source": [
    "&emsp;&emsp;记 $Y(t)=X(t)-\\mu_X(t)$，在 $X(0)=0$ 和方差函数 $D_X(0)$ 为已知的条件下，计算独立增量过程 $(X(t),t\\ge0)$ 的协方差函数 $C_X(s,t)$，可知 $X(t)$ 具有独立增量时，$Y(t)$ 也具有独立增量，其次 $Y(0)=0$，$E[Y(t)]=0$ 且方差函数 $D_Y(t)=E[Y^2(t)]=D_X(t)$，利用这些性质，当 $0\\le s< t$ 时有 <br><br>\n",
    "<center>$C_X(s,t)=E[Y(s)Y(t)]=E[Y(s)-Y(0)]E[Y(t)-Y(s)]+E[Y^2(s)]=D_X(s)$</center><br>\n",
    "于是可知，对任意 $s,t\\ge0$ 协方差函数可用方差函数表示为 <br><br>\n",
    "<center>$C_X(s,t)=D_X(\\min(s,t))$</center>"
   ]
  },
  {
   "cell_type": "markdown",
   "id": "06acfac3",
   "metadata": {},
   "source": [
    "### 3.2 泊松过程"
   ]
  },
  {
   "cell_type": "markdown",
   "id": "be4af983",
   "metadata": {},
   "source": [
    "&emsp;&emsp;以 $N(t)$，$t\\ge0$ 表示在时间间隔 $(0,t\\rbrack$ 内出现的质点数，$(N(t)$，$t\\ge0)$ 是一状态取非负整数、时间连续的随机过程，称为 **计数过程**，它的一个典型的样本函数如下图所示，图中 $t_1,t_2,\\dots$ 是质点依次出现的时刻\n",
    "\n",
    "![poisson](https://s2.loli.net/2022/07/18/hN3SfCAydYQ8aoP.png)\n",
    "\n",
    "&emsp;&emsp;将增量 $N(t)-N(t_0)$ 记成 $N(t_0,t)$，$0\\le t_0<t$，它表示时间间隔 $(t_0,t\\rbrack$ 内出现的质点数，在 $(t_0,t\\rbrack$ 内出现 $k$ 个质点，即 $N(t_0,t)=k$ 是一个事件，其概率记为 <br><br>\n",
    "<center>$P_k(t_0,t)=P(N(t_0,t)=k)\\quad k=0,1,2,\\dots$</center>\n",
    "\n",
    "&emsp;&emsp;现假设 $N(t)$ 满足如下条件\n",
    "- **条件1**: $N(0)=0$\n",
    "\n",
    "- **条件2**: 在不相重叠的区间上的增量具有独立性\n",
    "\n",
    "- **条件3**: 对于充分小的 $\\Delta t$ <br><br>\n",
    "<center>$P_1(t,t+\\Delta t)=P(N(t,t+\\Delta t)=1)=\\lambda\\Delta t+o(\\Delta t)$</center><br>\n",
    "其中常数 $\\lambda>0$ 称为过程 $N(t)$ 的强度，而 $o(\\Delta t)$ 当 $\\Delta t\\to0$ 时是关于 $\\Delta t$ 的高阶无穷小\n",
    " \n",
    "- **条件4**: 对于充分小的 $\\Delta t$ <br><br>\n",
    "<center>$\\sum\\limits^{\\infty}_{j=2}P_j(t,t+\\Delta t)=\\sum\\limits^{\\infty}_{j=2}P(N(t,t+\\Delta t)=j)=o(\\Delta t)$</center><br>\n",
    "即对于充分小的 $\\Delta t$，在 $(t,t+\\Delta t\\rbrack$ 内出现 $2$ 个或 $2$ 个以上质点的概率与出现一个质点的概率相比可以忽略不计\n",
    "\n",
    "<center>$\\downarrow$</center>\n",
    "\n",
    "> 满足以上条件的计数过程 $(N(t),t\\ge0)$ 称作 **强度为 $\\lambda$ 的泊松过程**，相应的质点流或即质点出现的随机时刻 $t_1,t_2,\\dots$ 称作 **强度为 $\\lambda$ 的泊松流**"
   ]
  },
  {
   "cell_type": "markdown",
   "id": "7b50be54",
   "metadata": {},
   "source": [
    "#### 3.2.1 泊松过程的分布函数"
   ]
  },
  {
   "cell_type": "markdown",
   "id": "16a5b21a",
   "metadata": {},
   "source": [
    "- $P_0(t_0,t)$ 的概率"
   ]
  },
  {
   "cell_type": "markdown",
   "id": "6b035c7e",
   "metadata": {},
   "source": [
    "&emsp;&emsp;下面就泊松过程来计算 $N(t_0,t)$ 的概率，首先确定 $P_0(t_0,t)$ 为此对 $\\Delta t>0$，考虑 <br><br>\n",
    "<center>$P_0(t_0,t+\\Delta t)=P(N(t_0,t+\\Delta t)=0)$</center><br>\n",
    "<center>$=P(N(t_0,t)+N(t,t+\\Delta t)=0)$</center><br>\n",
    "<center>$=P(N(t_0,t)=0,N(t,t+\\Delta t)=0)$</center>\n",
    "\n",
    "&emsp;&emsp;对于泊松过程 $\\sum\\limits^{\\infty}_{k=0}P_k(t_0,t)=1$，结合 **条件3,4** 可知 <br>\n",
    "<center>$P_0(t,t+\\Delta t)=1-P_1(t,t_\\Delta t)-\\sum\\limits^{\\infty}_{k=0}P_k(t,t+\\Delta t)=1-\\lambda\\Delta t+o(\\Delta t)$</center>\n",
    "\n",
    "&emsp;&emsp;再结合 **条件2** $N(t)$ 在不相重叠的区间上的增量具有独立性，可改写 $P_0(t_0,t+\\Delta t)$ 为 <br><br>\n",
    "<center>$P_0(t_0,t+\\Delta t)=P(N(t_0,t)=0)P(N(t,t+\\Delta t)=0)$</center><br>\n",
    "<center>$=P_0(t_0,t)[1-\\lambda\\Delta t+o(\\Delta t)]$</center><br>\n",
    "<center>$\\downarrow$</center><br>\n",
    "<center>$P_0(t_0,t+\\Delta t)-P_0(t_0,t)=-\\lambda P_0(t_0,t)\\Delta t+o(\\Delta t)$</center><br>\n",
    "\n",
    "&emsp;&emsp;现以 $\\Delta t$ 除上式两边，并令 $\\Delta t\\to 0$，即得 $P_0(t_0,t)$ 满足的微分方程 $\\dfrac{dP_0(t_0,t)}{dt}=-\\lambda P_0(t_0,t)$，因为 $N(t_0,t_0)=0$ 有 $P_0(t_0,t_0)=1$，把其看作初始条件即可从微分方程中解得 <br><br>\n",
    "<center>$P_0(t_0,t)=e^{-\\lambda(t-t_0)}\\quad t>t_0$</center>"
   ]
  },
  {
   "cell_type": "markdown",
   "id": "02b8c237",
   "metadata": {},
   "source": [
    "- $P_k(t_0,t)$ 的概率"
   ]
  },
  {
   "cell_type": "markdown",
   "id": "ff8e8817",
   "metadata": {},
   "source": [
    "&emsp;&emsp;接下来再计算 $P_0(t_0,t)$，$k\\ge1$ 根据和概率条件公式与 **条件2** $N(t)$ 在不相重叠的区间上的增量具有独立性，可知<br><br>\n",
    "<center>$P(N(t_0,t+\\Delta t)=k)=P(N(t_0,t)+N(t,t+\\Delta t)=k)$</center><br>\n",
    "<center>$=\\sum\\limits^{k}_{j=0}P(N(t,t+\\Delta t)=j)P(N(t_0,t)=k-j)$</center>\n",
    "\n",
    "&emsp;&emsp;结合 **条件3,4** 可知 <br>\n",
    "<center>$\\sum\\limits^k_{j=2}P_j(t,t+\\Delta t)P_{k-j}(t_0,t)\\le \\sum\\limits^{\\infty}_{j=2}P_j(t,t+\\Delta t)=o(\\Delta t),\\quad k\\ge 2$</center><br>\n",
    "<center>$\\downarrow$</center><br>\n",
    "<center>$P_k(t_0,t+\\Delta t)=\\sum\\limits^k_{j=0}P_j(t,t+\\Delta t)P_{k-j}(t_0,t)$</center><br>\n",
    "<center>$=[1-\\lambda\\Delta t+o(\\Delta t)]P_k(t_0,t)+[\\lambda\\Delta t+o(\\Delta t)]P_{k-1}(t_0,t)+o(\\Delta t),\\quad k\\ge 1$</center><br>\n",
    "\n",
    "&emsp;&emsp;现以 $\\Delta t$ 除上式两边，并令 $\\Delta t\\to 0$，即得 $P_k(t_0,t)$ 满足的微分-差分方程 $\\dfrac{dP_k(t_0,t)}{dt}=-\\lambda P_k(t_0,t)+\\lambda P_{k-1}(t_0,t)$，$t>t_0$，因为 $N(t_0,t_0)=0$ 有 $P_k(t_0,t_0)=0$，$k\\ge1$，把其看作初始条件即可从微分-差分方程中解得 <br><br>\n",
    "<center>$P_1(t_0,t)=\\lambda(t-t_0)e^{-\\lambda(t-t_0)}\\quad t>t_0$</center><br>\n",
    "\n",
    "&emsp;&emsp;如此重复，即逐次令 $k=2,3,\\dots$ 就可求得在 $(t_0,t\\rbrack$ 内出现 $k$ 个质点的概率，即得增量的分布律为 <br><br>\n",
    "<center>$P_k(t_0,t)=\\dfrac{[\\lambda(t-t_0)]^k}{k!}e^{-\\lambda(t-t_0)},\\quad t>t_0,k=0,1,2,\\dots$</center><br>\n",
    "&emsp;&emsp;由上式易见增量 $N(t_0,t)$ 的概率分布是参数为 $\\lambda(t-t_0)$ 的泊松分布，且只与时间差 $t-t_0$ 有关，所以强度为 $\\lambda$ 的泊松过程是一齐次的独立增量过程"
   ]
  },
  {
   "cell_type": "markdown",
   "id": "ea48923d",
   "metadata": {},
   "source": [
    "#### 3.2.2 泊松过程的数字特征"
   ]
  },
  {
   "cell_type": "markdown",
   "id": "9c8affa7",
   "metadata": {},
   "source": [
    "&emsp;&emsp;由增量的分布律公式可得 $N(t)-N(t_0)\\backsim\\pi(\\lambda(t-t_0))$，$t>t_0\\ge0$，再由均值与方差的定义可知 <br><br>\n",
    "<center>$E[N(t)-N(t_0)]=Var[N(t)-N(t_0)]=\\lambda(t-t_0)$</center>\n",
    "\n",
    "特别地令 $t_0=0$ 由于假设 $N(0)=0$，故可推知泊松过程的 **均值函数** 和 **方差函数** 分别为 $E[N(t)]=\\lambda t$，$D_N(t)=Var[N(t)]=\\lambda t$，从中不难看出，$\\lambda=E[\\dfrac{N(t)}{t}]$，即泊松过程的强度 $\\lambda$ 等于单位长时间间隔内出现的质点数目的期望值"
   ]
  },
  {
   "cell_type": "markdown",
   "id": "d4ca3416",
   "metadata": {},
   "source": [
    "&emsp;&emsp;关于泊松过程的 **协方差函数** 与 **相关函数** 则可由上式直接推得 <br><br>\n",
    "<center>$C_N(s,t)=\\lambda\\min(s,t)\\quad s,t\\ge0$</center><br>\n",
    "<center>$R_N(s,t)=E[N(s)N(t)]=\\lambda^2st+\\lambda\\min(s,t)\\quad s,t\\ge0$</center>\n",
    "\n",
    "&emsp;&emsp;但是若原假设中的强度是 **非均匀的**，即 $\\lambda$ 是时间 $t$ 的函数 $\\lambda=\\lambda(t)$，$t\\ge0$，则称泊松过程为 **非齐次**的，对于非齐次泊松过程用类似的方法可得 <br><br>\n",
    "<center>$P(N(t)-N(t_0)=k)=\\dfrac{\\big[\\int\\limits^{t}_{t_0}\\lambda(\\tau)d\\tau\\big]^ke^{-\\int\\limits^{t}_{t_0}\\lambda(\\tau)d\\tau}}{k!}\\quad t>t_0\\ge0,k=0,1,2,\\dots$</center><br>\n",
    "<center>$\\downarrow$</center><br>\n",
    "<center>$E[N(t)]=\\int\\limits^{t}_{0}\\lambda(\\tau)d\\tau$</center><br>\n",
    "<center>$R_N(s,t)=\\int\\limits^{\\min(s,t)}_{0}\\lambda(\\tau)d\\tau\\big[1+\\int\\limits^{\\max(s,t)}_{0}\\lambda(\\tau)d\\tau\\big]$</center>"
   ]
  },
  {
   "cell_type": "markdown",
   "id": "b5e0a708",
   "metadata": {},
   "source": [
    "#### 3.2.3 等待时间"
   ]
  },
  {
   "cell_type": "markdown",
   "id": "ab87280c",
   "metadata": {},
   "source": [
    "&emsp;&emsp;在较多的实际问题中，通常对质点的观察不是对时间间隔 $(t_1,t_2\\rbrack$ 中出现的质点计数，而是对记录到某一预定数量的质点所需要的时间进行计时，一般设质点或事件依次重复出现的时刻 $t_1,t_2,\\dots,t_n,\\dots$ 是一强度为 $\\lambda$ 的泊松流，$(N(t),t\\ge0)$ 是相应的泊松过程，以惯用记号记 <br><br>\n",
    "<center>$W_0=0,W_n=t_n,n=1,2,\\dots$</center>\n",
    "\n",
    "$W_n$ 是一随机变量，表示第 $n$ 个质点或事件第 $n$ 次出现的 **等待时间**，为求出 $W_n$ 的分布函数 $F_{W_n}(t)=P(W_n\\le t)$，事件 $(W_n>t)=(N(t)<n)$，所以 <br><br>\n",
    "<center>$F_{W_n}(t)=P(W_n\\le t)=1-P(W_n>t)=1-P(N(t)<n)$</center><br>\n",
    "<center>$F_{W_n}(t)=\\begin{cases}P(N(t)\\ge n)=\\sum\\limits^{\\infty}_{k=n}e^{-\\lambda t}\\dfrac{(\\lambda t)^k}{k!}&t\\ge0\\\\\\\\0&t<0\\end{cases}$</center><br>\n",
    "将它关于 $t$ 求导，得 $W_n$ 的概率密度为 <br><br>\n",
    "<center>$f_{W_n}(t)=\\dfrac{dF_{W_n}(t)}{dt}\\begin{cases}\\dfrac{\\lambda(\\lambda t)^{n-1}}{(n-1)!}e^{-\\lambda t}&t>0\\\\\\\\0&else\\end{cases}$</center><br>\n",
    "这就是说，泊松流的等待时间 $W_n$ 服从 $\\varGamma$ 分布，特别地质点首次出现的等待时间 $W_1$ 服从指数分布 <br><br>\n",
    "<center>$f_{w_1}(t)=\\begin{cases}\\lambda e^{\\lambda t}&t>0\\\\\\\\0&else\\end{cases}$</center>"
   ]
  },
  {
   "cell_type": "markdown",
   "id": "dd0299fe",
   "metadata": {},
   "source": [
    "#### 3.2.4 点间间距"
   ]
  },
  {
   "cell_type": "markdown",
   "id": "56f3201d",
   "metadata": {},
   "source": [
    "&emsp;&emsp;记 $T_i=W_i-W_{i-1}$，$i=1,2,\\dots$，其也是一个连续型随机变量，称为相继出现的第 $i-1$ 个质点和第 $i$ 个质点的 **点间间距**，由于 $T_1=W_1$，所以 $T_1$ 服从指数分布，对于 $i\\ge2$，先求在第 $i-1$ 个质点出现在时刻 $t_{i-1}$ 的条件下，$T_i$ 的条件分布函数 <br><br>\n",
    "<center>$F_{T_i|t_{i-1}}=P(N(t_{i-1}+t)-N(t_{i-1})\\ge1|N(t_{i-1})=i-1)=P(N(t_{i-1}+t)-N(t_{i-1})\\ge1)$</center><br>\n",
    "<center>$=1-P(N(t_{i-1}+t)-N(t_{i-1})=0)$</center><br>\n",
    "<center>$F_{T_i|t_{i-1}}=\\begin{cases}1-e^{-\\lambda t}&t>0\\\\\\\\0&t\\le0\\end{cases}$</center><br>\n",
    "从而知相应的条件概率密度为 <br><br>\n",
    "<center>$f_{T_{i-1}|t_{i-1}}=\\begin{cases}\\lambda e^{-\\lambda t}&t>0\\\\\\\\0&t\\le0\\end{cases}$</center><br>\n",
    "于是随机变量 $T_i,t_{i-1}$ 的联合概率密度 <br><br>\n",
    "<center>$f(t,t_{i-1})=\\begin{cases}\\lambda e^{-\\lambda t}f_{t_{i-1}}(t_{i-1})&t>0,t_{i-1}>0\\\\\\\\0&else\\end{cases}$</center><br>\n",
    "此处 $f_{t_{i-1}}(t_{i-1})$ 为 $t_{i-1}$ 的概率密度，将此表达式关于 $t_{i-1}$ 积分，即得 $T_i$，$i=2,3,\\dots$ 的概率密度为 <br><br>\n",
    "<center>$f_{T_i}(t)=\\begin{cases}\\lambda e^{-\\lambda t}\\int\\limits^{\\infty}_{0}f_{t_{i-1}}(t_{i-1})dt_{i-1}=\\lambda e^{-\\lambda t}&t>0\\\\\\\\0&t\\le0\\end{cases}\\quad i=2,3,\\dots$</center>\n",
    "\n",
    "> 由上式可知，点间间距序列 $T_i$ 服从同一个指数分布，且还可证明 $T_1,T_2,\\dots,T_i,\\dots$ 是相互独立的随机变量\n",
    "\n",
    "- **定理1**: 强度为 $\\lambda$ 的泊松流的点间间距是相互独立的随机变量，且服从同一个指数分布\n",
    "- **定理2**: 如果任意相继出现的两个质点的点间间距是相互独立，且服从同一个指数分布，则质点流构成了强度为 $\\lambda$ 的泊松过程 "
   ]
  },
  {
   "cell_type": "markdown",
   "id": "6ade1719",
   "metadata": {},
   "source": [
    "### 3.3 维纳过程"
   ]
  },
  {
   "cell_type": "markdown",
   "id": "b94b259b",
   "metadata": {},
   "source": [
    "&emsp;&emsp;维纳过程是布朗运动的数学模型，英国植物学家希朗在显微镜下，观察漂浮在平静的液面上的微小粒子，发现它们不断地进行着杂乱无章的运动，这种现象后来称为 **布朗运动**，以 $W(t)$ 表示运动中一微粒从时刻 $t=0$ 到时刻 $t>0$ 的位移的横坐标，且设 $W(0)=0$，根据爱因斯坦 $1905$ 年提出的理论，微粒的这种运动是由于受到大量随机的、相互独立的分子碰撞的结果，于是粒子在时段 $(s,t\\rbrack$ 上的位移可看作是许多微小位移的代数和\n",
    "\n",
    "&emsp;&emsp;显然依 **中心极限定理**，假定位移 $W(s)-W(t)$ 为 **正态分布** 是合理的，其次由于粒子的运动完全是由液体分子的不规则碰撞而引起的，这样在不相重叠的时间间隔内，碰撞的次数、大小和方向可假定是相互独立的，这就是说位移 $W(t)$ 具有独立的增量，另外液面处于平衡状态，这时粒子在一时段上位移的概率分布可以认为只依赖于这时段的长度，而与观察的起始时刻无关，即 $W(t)$具有 **平稳增量** \n",
    "\n",
    "![brown](https://s2.loli.net/2022/07/19/an2X6LriFMQk54U.png)\n",
    "\n",
    "&emsp;&emsp;综合所述，可引人如下的数学模型，给定二阶矩过程 $(W(t),t\\ge0)$，如果其满足 \n",
    "- **条件1**: 具有独立增量\n",
    "- **条件2**: 对任意的 $t>s\\ge0$，增量 $W(t)-W(s)\\backsim N(0,\\sigma^2(t-s))$，且 $\\sigma>0$\n",
    "- **条件3**: $W(0)=0$\n",
    "\n",
    "&emsp;&emsp;则称此过程为 **维纳过程**\n",
    "\n",
    "- 由 **条件2** 可知，维纳过程增量的分布只与时间差有关，所以它是 **齐次的** 独立增量过程，它也是正态过程，事实上对任意 $n(n\\ge1)$ 个时刻 $0<t_1<t_2<\\dots<t_n$，把 $W(t_k)$ 写成 <br><br>\n",
    "<center>$W(t_k)=\\sum\\limits^{k}_{i=1}[W(t_i)-W(t_{i-1})]\\quad k=1,2,\\dots,n$</center><br>\n",
    "根据上述条件可知，它们都是独立的正态随机变量的和，由 $n$ 维正态变量的性质推知 $(W(t_1),W(t_2),\\dots,W(t_n))$ 是 $n$ 维正态变量，即 $(W(t),t\\ge0)$ 是正态过程，因此其分布完全由它的均值函数和自协方差函数所确定\n",
    "\n",
    "\n",
    "- 由 **条件2与3** 可知，$W(t)\\backsim N(0,\\sigma^2t)$，由此可得维纳过程的均值与方差函数分别为 <br><br>\n",
    "<center>$E[W(t)]=0\\quad D_W(t)=\\sigma^2t$</center><br>\n",
    "其中 $\\sigma^2$ 称为维纳过程的参数，它可通过实验观察值加以估计.再根据上式就可求得自协方差函数，即自相关函数为 <br><br>\n",
    "<center>$C_W(s,t)=R_W(s,t)=\\sigma^2\\min(s,t)\\quad s,t\\ge0$</center><br>\n",
    "\n",
    "> 泊松过程和维纳过程的重要性，不仅是因为实际中不少随时间演变的随机现象可以归结为这两个模型，而且在理论与应用中常利用它们构造出一些新的重要的随机过程模型"
   ]
  }
 ],
 "metadata": {
  "kernelspec": {
   "display_name": "Python 3",
   "language": "python",
   "name": "python3"
  },
  "language_info": {
   "codemirror_mode": {
    "name": "ipython",
    "version": 3
   },
   "file_extension": ".py",
   "mimetype": "text/x-python",
   "name": "python",
   "nbconvert_exporter": "python",
   "pygments_lexer": "ipython3",
   "version": "3.8.8"
  }
 },
 "nbformat": 4,
 "nbformat_minor": 5
}

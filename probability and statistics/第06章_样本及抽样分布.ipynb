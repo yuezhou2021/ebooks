{
 "cells": [
  {
   "cell_type": "markdown",
   "id": "0457d100",
   "metadata": {},
   "source": [
    "# 第06章 样本及抽样分布"
   ]
  },
  {
   "cell_type": "markdown",
   "id": "fc3902c5",
   "metadata": {},
   "source": [
    "---"
   ]
  },
  {
   "cell_type": "markdown",
   "id": "b9d7dd60",
   "metadata": {},
   "source": [
    "## 序言"
   ]
  },
  {
   "cell_type": "markdown",
   "id": "470ca540",
   "metadata": {},
   "source": [
    "### 1.内容介绍\n",
    "\n",
    "&emsp;&emsp;本章详细介绍了随机样本、直方图与箱线图、抽样分布等定义，并对其原理与例题进行了一一阐述\n",
    "\n",
    "### 2.理论目标\n",
    "\n",
    "- 掌握总体、个体、样本的定义\n",
    "- 掌握直方图与箱线图\n",
    "- 掌握统计量、样本矩与经验分布函数\n",
    "- 掌握抽样 $\\chi^2$ 分布、$t$ 分布、$F$ 分布\n",
    "- 掌握 Fisher 引理等正态总体下的抽样定理\n",
    "\n",
    "### 3.实践目标\n",
    "\n",
    "- 无\n",
    "\n",
    "### 4.实践案例\n",
    "\n",
    "- 无\n",
    "\n",
    "### 5.内容目录\n",
    "\n",
    "- 1.随机样本\n",
    "- 2.直方图和箱线图\n",
    "- 3.抽样分布"
   ]
  },
  {
   "cell_type": "markdown",
   "id": "8b92e6a5",
   "metadata": {},
   "source": [
    "---"
   ]
  },
  {
   "cell_type": "markdown",
   "id": "f3338a34",
   "metadata": {},
   "source": [
    "&emsp;&emsp;前 $5$ 章学习了概率论的内容，随后是 **数理统计** 部分，其是具有广泛应用的一个数学分支，它以概率论为理论基础，根据试验或观察得到\n",
    "的数据来研究随机现象，对研究对象的客观规律性作出种种估计和判断.\n",
    "\n",
    "&emsp;&emsp;数理统计的主要内容包括，如何收集、整理数据资料，如何对所得的数据资料进行分析与研究，从而对研究对象的性质与特性作出推断\n",
    "- 在概率论中，所研究的随机变量的分布都是假设已知的，在这一前提下去研究它的性质、特点和规律性，例如求出它的数字特征，讨论随机变量函数的分布，介绍常用的各种分布等\n",
    "- 在数理统计中，所研究的随机变量的分布是未知的，或者是不完全知道的，人们是通过对所研究的随机变量进行重复独立的观察，得到许多观察值，对这些数据进行分析，从而对所研究的随机变量的分布作出种种推断"
   ]
  },
  {
   "cell_type": "markdown",
   "id": "890a94c1",
   "metadata": {},
   "source": [
    "## 第01节 随机样本"
   ]
  },
  {
   "cell_type": "markdown",
   "id": "1c040b40",
   "metadata": {},
   "source": [
    "### 1.1 总体和个体"
   ]
  },
  {
   "cell_type": "markdown",
   "id": "e5663a67",
   "metadata": {},
   "source": [
    "&emsp;&emsp;随机试验的结果很多是可以用数来表示的，另有一些试验的结果虽是定性的，但总可以将它 **数量化**\n",
    "\n",
    "> 例如检验某个学校学生的血型，其可能的结果有 O 型、A 型、B 型、AB 型 $4$ 种，如果分别以 $1,2,3,4$ 依次记这 $4$ 种血型，那么试验的结果就能够用数来表示了\n",
    "\n",
    "<div class=\"alert alert-info\" role=\"alert\"><span class=\"label label-success\">定义 $6.1$</span> 所研究对象的全体称为 <strong>总体</strong>，总体中每个元素称为 <strong>个体</strong>，总体中所包含个体的个数称为总体的 <strong>容量</strong>. 容量为有限的总体称为 <strong>有限总体</strong>，容量为无限的总体称为 <strong>无限总体</strong></div>"
   ]
  },
  {
   "cell_type": "markdown",
   "id": "633d2b20",
   "metadata": {},
   "source": [
    "- **总体与个体** \n",
    "\n",
    "&emsp;&emsp;在数理统计中往往只研究有关对象的某一项数量指标，为此只考虑与这一数量指标相联系的随机试验，对这一数量指标进行试验或观察，例如<br><br>\n",
    "&emsp;&emsp;&emsp;&emsp;\"某大学一年级的男生是一个总体，每一个男生是一个个体\" <br>\n",
    "&emsp;&emsp;&emsp;&emsp;\"某种手机中装配的锂电池是一个总体，每只锂电池是一个个体\" <br>\n",
    "\n",
    "&emsp;&emsp;在实际问题中所研究的是总体中个体的某一个数量指标 <br><br>\n",
    "&emsp;&emsp;&emsp;&emsp;\"对男生这一总体来说，只研究男生的身高这个数量指标\" <br>\n",
    "&emsp;&emsp;&emsp;&emsp;\"对于锂电池这个总体，只研究电池寿命这个数量指标\" <br>\n",
    "\n",
    "- **有限与无限** \n",
    "\n",
    "&emsp;&emsp;当有限总体所含个体的数量很大时，可以认为它近似地是一个无限总体，例如 <br><br>\n",
    "&emsp;&emsp;&emsp;&emsp;\"考察某天生产的某型号锂电池，总体的容量就是锂电池的个数，所以是有限总体\" <br>\n",
    "&emsp;&emsp;&emsp;&emsp;\"考察全国正在使用的某种型号灯泡的寿命，总体的容量就是灯泡的个数，由于灯泡的个数很多，可以近似地认为是无限总体\"\n",
    "\n",
    "- **总体与随机变量**\n",
    "\n",
    "&emsp;&emsp;总体中的每一个个体是随机试验的一个观察值，它对总体中不同的个体来说取不同的数值，数量指标 $X$ 作为随机试验中被观察的量，它的取值随试验的结果而定，它是一个随机变量即具有 **不确定性**，因此一个总体对应于一个随机变量 $X$，即对总体的研究就是对一个随机变量 $X$ 的研究，$X$ 的分布函数和数字特征就称为总体的分布函数和数字特征\n",
    "\n",
    "&emsp;&emsp;例如检验自动生产线出来的零件是次品还是正品，用 $1$ 表示产品为次品，用 $0$ 表示产品为正品，设出现次品的概率为 $p$，那么总体是由一些具有数量指标为 $1$ 和一些具有数量指标为 $0$ 的个体所组成，这个总体对应于一个参数为 $p$ 的 0-1分布 <br>\n",
    "<div align = center>$P(X=x)=p^x(1-p)^{1-x},\\quad x=0,1$</div><br>\n",
    "的随机变量，将其称成是 0-1分布总体，意指总体中的观察值是 0-1分布随机变量的值"
   ]
  },
  {
   "cell_type": "markdown",
   "id": "44f09b0f",
   "metadata": {},
   "source": [
    "### 1.2 样本"
   ]
  },
  {
   "cell_type": "markdown",
   "id": "d82fd22d",
   "metadata": {},
   "source": [
    "&emsp;&emsp;要将一个总体的性质了解清楚，初看起来，最理想的办法是对每个个体逐一进行观察，但这在实际问题中往往是不现实的，例如要研究一批电池的寿命，由于寿命试验是破坏性的，一旦获得了每个电池的寿命数据，这批电池已经全部报废了. 所以只能从这批电池中 **随机地抽取** 一部分进行寿命试验，并记录其结果，然后根据这些数据来推断这批电池的寿命情况\n",
    "\n",
    "> 在数理统计中，一般地，人们都是通过从总体中抽取一部分个体，根据获得的数据来对总体进行推断，被抽出的部分个体叫做总体的一个 **样本**\n",
    "\n",
    "&emsp;&emsp;所谓从总体中抽取一个个体，就是对总体 $X$ 进行一次观察并记录其结果，在相同的条件下对总体 $X$ 进行 $n$ 次重复的、独立的观察,并将 $n$ 次观察结果按试验的次序记为 $X_1,X_2,\\dots,X_n$，由于 $X_1,X_2,\\dots,X_n$ 是对随机变量 $X$ 的观察结果且各次观察是在相同的条件下独立进行的，所以有理由认为 $X_1,X_2,\\dots,X_n$ 是相互独立的，且都是与 $X$ 具有相同分布的随机变量，当 $n$ 次观察一经完成，就得到一组实数 $x_1,x_2,\\dots,x_n$，它们依次是随机变量 $X_1,X_2,\\dots,X_n$ 的观察值，称为 **样本值**\n",
    "\n",
    "- 对于有限总体，采用放回抽样就能得到简单随机样本，但放回抽样使用起来不方便，当个体的总数 $N$ 比要得到的样本的容量 $n$ 大得多时，在实际中可将不放回抽样近似地当作放回抽样来处理\n",
    "- 对于无限总体，因抽取一个个体不影响它的分布，所以总是用不放回抽样，例如在生产过程中，每隔一定时间抽取一个个体，抽取 $n$ 个就得到一个简单随机样本，实验室中的记录，水文或气象等观察资料都是样本"
   ]
  },
  {
   "cell_type": "markdown",
   "id": "4f322e71",
   "metadata": {},
   "source": [
    "<div class=\"alert alert-info\" role=\"alert\"><span class=\"label label-success\">定义 $6.2$</span> 设 $X$ 是具有分布函数 $F$ 的随机变量，若 $X_1,X_2,\\dots,X_n$ 是具有相同分布函数 $F$ 的相互独立的随机变量，则称 $X_1,X_2,\\dots,X_n$ 为从总体 $X$ 得到的 <strong>容量</strong> 为 $n$ 的 <strong>简单随机样本</strong>，简称 <strong>样本 (sample)</strong>，它们的观察值 $x_1,x_2,\\dots,x_n$ 称为 <strong>样本值</strong>，又称为 $X$ 的 $n$ 个 <strong>观察值</strong></div>"
   ]
  },
  {
   "cell_type": "markdown",
   "id": "b66b8828",
   "metadata": {},
   "source": [
    "> 应该注意的是，由于数理统计是通过从总体中抽取一部分个体组成的样本，并根据获得的样本数据来对总体进行推断的，所以这就决定了数理统计的方法是 **归纳性** 的，它区别于概率论的 **演绎性**\n",
    "\n",
    "&emsp;&emsp;若 $X_1,X_2,\\dots,X_n$ 为总体 $X$ 的一个样本，则由定义可知，简单随机样本有以下两个重要性质\n",
    "\n",
    "- $X_1,X_2,\\dots,X_n$ 是相互独立的\n",
    "- $X_1,X_2,\\dots,X_n$ 与总体 $X$ 具有相同的分布\n",
    "\n",
    "&emsp;&emsp;即它们的分布函数都是 $F$，所以 $X_1,X_2,\\dots,X_n$ 的分布函数为 $F^*(x_1,x_2,\\dots,x_n)=\\prod\\limits^{n}_{i=1}F(x_i)$，又设 $X$ 具有概率密度函数 $f$/，则 $X_1,X_2,\\dots,X_n$ 的概率密度函数为 $f^*(x_1,x_2,\\dots,x_n)=\\prod\\limits^{n}_{i=1}f(x_i)$\n"
   ]
  },
  {
   "cell_type": "markdown",
   "id": "6a3e464d",
   "metadata": {},
   "source": [
    "<div class=\"alert alert-danger\" role=\"alert\"><span class=\"label label-warning\">例题</span> 设总体 $X$ 服从指数分布，其概率密度为 <br><br> $\\qquad\\qquad\\qquad\\qquad\\qquad\\qquad\\qquad\\qquad\\qquad\\qquad$$f_X(x)=\\begin{cases}\\dfrac{1}{\\theta}e^{-\\tfrac{x}{\\theta}}&x>1\\ \\\\\\\\0 &else\\end{cases}$ <br><br>其中 $\\theta>0$ 为常数，$X_1,X_2,\\dots,X_{10}$ 为来自总体 $X$ 的样本，求 $X_1,X_2,\\dots,X_{10}$ 的联合概率密度，并假设 $X_1,X_2,\\dots,X_{10}$ 分别为 $10$ 块独立工作的电路板的寿命，求 $10$ 块电路板的寿命都大于 $2$ 的概率</div>\n",
    "\n",
    "&emsp;&emsp; $X_1,X_2,\\dots,X_{10}$ 的联合概率密度为 <br><br>\n",
    "<center>$f^*(x_1,x_2,\\dots,x_{10})=\\begin{cases}\\prod\\limits^{10}_{i=1}\\dfrac{1}{\\theta}e^{-\\tfrac{x_i}{\\theta}}=\\dfrac{1}{\\theta^{10}}e^{-\\sum\\limits^{10}_{i=1}\\tfrac{x_i}{\\theta}} &x_1,x_2,\\dots,x_n >0 \\\\\\\\0 &else \\end{cases}$</center><p>\n",
    "<center>$P(X_1>2)P(X_2>2)\\dots P(X_{10}>2) = [P(X_1>2)]^{10} = (e^{-\\tfrac{2}{\\theta}})^{10}=e^{-\\tfrac{20}{\\theta}}$</center>"
   ]
  },
  {
   "cell_type": "markdown",
   "id": "58ded39b",
   "metadata": {},
   "source": [
    "---"
   ]
  },
  {
   "cell_type": "markdown",
   "id": "c9e800ba",
   "metadata": {},
   "source": [
    "## 第02节 直方图和箱线图"
   ]
  },
  {
   "cell_type": "markdown",
   "id": "6adc1f9e",
   "metadata": {},
   "source": [
    "&emsp;&emsp;为了研究总体的分布性质，人们经常通过试验得到一些观察值，一般情况下得到的数据可能是杂乱无章的，为了利用这些数据进行统计分析，将这些数据加以整理，要借助于表格和图形对它们进行描述"
   ]
  },
  {
   "cell_type": "markdown",
   "id": "0416abd9",
   "metadata": {},
   "source": [
    "### 2.1 直方图"
   ]
  },
  {
   "cell_type": "markdown",
   "id": "8ae990ad",
   "metadata": {},
   "source": [
    "&emsp;&emsp;研究患某种疾病的 $21-44$ 岁男子的血压 (单位: $mmHg$) 这一总体 $X$，为此抽查了 $63$ 个男子，测得的数据见下表\n",
    "\n",
    "<table border=0 cellpadding=0 cellspacing=0 width=990 style='border-collapse:\n",
    " collapse;table-layout:fixed;'>\n",
    " <col width=110 span=9>\n",
    " <tr height=18>\n",
    "  <td style='text-align: center;'>$100$</td>\n",
    "  <td style='text-align: center;'>$130$</td>\n",
    "  <td style='text-align: center;'>$120$</td>\n",
    "  <td style='text-align: center;'>$138$</td>\n",
    "  <td style='text-align: center;'>$110$</td>\n",
    "  <td style='text-align: center;'>$110$</td>\n",
    "  <td style='text-align: center;'>$115$</td>\n",
    "  <td style='text-align: center;'>$134$</td>\n",
    "  <td style='text-align: center;'>$120$</td>\n",
    " </tr>   \n",
    " <tr height=18>\n",
    "  <td style='text-align: center;'>$122$</td>\n",
    "  <td style='text-align: center;'>$110$</td>\n",
    "  <td style='text-align: center;'>$120$</td>\n",
    "  <td style='text-align: center;'>$115$</td>\n",
    "  <td style='text-align: center;'>$162$</td>\n",
    "  <td style='text-align: center;'>$130$</td>\n",
    "  <td style='text-align: center;'>$130$</td>\n",
    "  <td style='text-align: center;'>$110$</td>\n",
    "  <td style='text-align: center;'>$147$</td>\n",
    " </tr>\n",
    " <tr height=18>\n",
    "  <td style='text-align: center;'>$122$</td>\n",
    "  <td style='text-align: center;'>$120$</td>\n",
    "  <td style='text-align: center;'>$131$</td>\n",
    "  <td style='text-align: center;'>$110$</td>\n",
    "  <td style='text-align: center;'>$138$</td>\n",
    "  <td style='text-align: center;'>$124$</td>\n",
    "  <td style='text-align: center;'>$122$</td>\n",
    "  <td style='text-align: center;'>$126$</td>\n",
    "  <td style='text-align: center;'>$120$</td>\n",
    " </tr>\n",
    " <tr height=18>\n",
    "  <td style='text-align: center;'>$130$</td>\n",
    "  <td style='text-align: center;'>$142$</td>\n",
    "  <td style='text-align: center;'>$110$</td>\n",
    "  <td style='text-align: center;'>$128$</td>\n",
    "  <td style='text-align: center;'>$120$</td>\n",
    "  <td style='text-align: center;'>$124$</td>\n",
    "  <td style='text-align: center;'>$110$</td>\n",
    "  <td style='text-align: center;'>$119$</td>\n",
    "  <td style='text-align: center;'>$132$</td>\n",
    " </tr>\n",
    " <tr height=18>\n",
    "  <td style='text-align: center;'>$125$</td>\n",
    "  <td style='text-align: center;'>$131$</td>\n",
    "  <td style='text-align: center;'>$117$</td>\n",
    "  <td style='text-align: center;'>$112$</td>\n",
    "  <td style='text-align: center;'>$148$</td>\n",
    "  <td style='text-align: center;'>$108$</td>\n",
    "  <td style='text-align: center;'>$107$</td>\n",
    "  <td style='text-align: center;'>$117$</td>\n",
    "  <td style='text-align: center;'>$121$</td>\n",
    " </tr>  \n",
    " <tr height=18>\n",
    "  <td style='text-align: center;'>$130$</td>\n",
    "  <td style='text-align: center;'>$119$</td>\n",
    "  <td style='text-align: center;'>$121$</td>\n",
    "  <td style='text-align: center;'>$132$</td>\n",
    "  <td style='text-align: center;'>$118$</td>\n",
    "  <td style='text-align: center;'>$126$</td>\n",
    "  <td style='text-align: center;'>$117$</td>\n",
    "  <td style='text-align: center;'>$98$</td>\n",
    "  <td style='text-align: center;'>$115$</td>\n",
    " </tr>\n",
    " <tr height=18>\n",
    "  <td style='text-align: center;'>$123$</td>\n",
    "  <td style='text-align: center;'>$141$</td>\n",
    "  <td style='text-align: center;'>$129$</td>\n",
    "  <td style='text-align: center;'>$140$</td>\n",
    "  <td style='text-align: center;'>$120$</td>\n",
    "  <td style='text-align: center;'>$96$</td>\n",
    "  <td style='text-align: center;'>$141$</td>\n",
    "  <td style='text-align: center;'>$106$</td>\n",
    "  <td style='text-align: center;'>$114$</td>\n",
    " </tr> \n",
    "</table>"
   ]
  },
  {
   "cell_type": "markdown",
   "id": "d05ee242",
   "metadata": {},
   "source": [
    "&emsp;&emsp;这些数据是杂乱无章的，先要将它们进行预处理\n",
    "- 最大和最小观察值分别是 $162$ 和 $96$，考虑到表中的数据是将实测数据经四舍五入后得到的，所以取区间 $I=[95.5,162.5]$ 使得所有实测数据都落在区间 $I$ 上，将区间 $I$ 等分为若干个小区间，小区间的个数与数据个数 $n$ 有关，一般取为 $\\sqrt{n}$ 左右为好，$n=63$ 所以小区间的个数取 $8$ <br><br>\n",
    "- 小区间的长度为 $(162.5-95.5)/8=8.375$，这个长度用起来不方便，为此将区间 $I$ 的下限延伸至 $90.5$，上限延伸至 $170.5$，小区间的长度调整为 $\\Delta= (170.5-90. 5)/8= 10$，这里 $\\Delta$ 叫做 **组距**，小区间的端点叫做 **组限** <br><br>\n",
    "\n",
    "> 作直方图时，先取一个区间，其下限比最小的数据稍小，其上限比最大的数据稍大，然后将这一区间分为个小区间，通常当 $n$ 较大时 $k$ 取 $10\\sim20$，当 $n<50$ 时 $k$ 取 $5\\sim 6$，若 $k$ 取得过大，则会出现某些小区间内频数为零的情况 (一般应设法避免)，分点通常取比数据精度高一位，以免数据落在分点上\n",
    "\n",
    "- 数出落在每个小区间内的数据的个数 (**频数**) $r_i(i =1,2,\\dots,8)$, 算出数据落在各小区间内的频率 $\\dfrac{r_i}{n}(n=63,i=1,2,\\dots,8)$,，最终结果如下表所示\n",
    "\n",
    "<table border=0 cellpadding=0 cellspacing=0 width=990 style='border-collapse:\n",
    " collapse;table-layout:fixed;'>\n",
    " <col span=4>\n",
    " <tr height=18>\n",
    "  <td style='text-align: center;'><strong>组限</strong></td>\n",
    "  <td style='text-align: center;'><strong>频数 $r_i$</strong></td>\n",
    "  <td style='text-align: center;'><strong>频率 $\\dfrac{r_i}{n}$</strong></td>\n",
    "  <td style='text-align: center;'><strong>累积频率</strong></td>\n",
    " </tr>   \n",
    " <tr height=18>\n",
    "  <td style='text-align: center;'>$90.5\\sim100.5$\n",
    "  <td style='text-align: center;'>$3$</td>\n",
    "  <td style='text-align: center;'>$0.048$</td>\n",
    "  <td style='text-align: center;'>$0.048$</td>\n",
    " </tr>\n",
    " <tr height=18>\n",
    "  <td style='text-align: center;'>$100.5\\sim110.5$\n",
    "  <td style='text-align: center;'>$10$</td>\n",
    "  <td style='text-align: center;'>$0.159$</td>\n",
    "  <td style='text-align: center;'>$0.207$</td>\n",
    " </tr>\n",
    " <tr height=18>\n",
    "  <td style='text-align: center;'>$110.5\\sim120.5$\n",
    "  <td style='text-align: center;'>$18$</td>\n",
    "  <td style='text-align: center;'>$0.286$</td>\n",
    "  <td style='text-align: center;'>$0.493$</td>\n",
    " </tr>\n",
    " <tr height=18>\n",
    "  <td style='text-align: center;'>$120.5\\sim130.5$\n",
    "  <td style='text-align: center;'>$18$</td>\n",
    "  <td style='text-align: center;'>$0.286$</td>\n",
    "  <td style='text-align: center;'>$0.779$</td>\n",
    " </tr>\n",
    "  <tr height=18>\n",
    "  <td style='text-align: center;'>$130.5\\sim140.5$\n",
    "  <td style='text-align: center;'>$8$</td>\n",
    "  <td style='text-align: center;'>$0.127$</td>\n",
    "  <td style='text-align: center;'>$0.906$</td>\n",
    " </tr>\n",
    " <tr height=18>\n",
    "  <td style='text-align: center;'>$140.5\\sim150.5$\n",
    "  <td style='text-align: center;'>$5$</td>\n",
    "  <td style='text-align: center;'>$0.079$</td>\n",
    "  <td style='text-align: center;'>$0.985$</td>\n",
    " </tr>\n",
    " <tr height=18>\n",
    "  <td style='text-align: center;'>$150.5\\sim160.5$\n",
    "  <td style='text-align: center;'>$0$</td>\n",
    "  <td style='text-align: center;'>$0$</td>\n",
    "  <td style='text-align: center;'>$0.985$</td>\n",
    " </tr>\n",
    " <tr height=18>\n",
    "  <td style='text-align: center;'>$160.5\\sim170.5$\n",
    "  <td style='text-align: center;'>$1$</td>\n",
    "  <td style='text-align: center;'>$0.015$</td>\n",
    "  <td style='text-align: center;'>$1$</td>\n",
    " </tr>\n",
    "</table>"
   ]
  },
  {
   "cell_type": "markdown",
   "id": "d253a266",
   "metadata": {},
   "source": [
    "&emsp;&emsp;在每个小区间上作出以 $\\dfrac{r_i/n}{\\Delta}$ 为高，以小区间的长为底的小矩形，小矩形的面积就是 $\\dfrac{r_i/n}{\\Delta} \\cdot \\Delta = \\dfrac{r_i}{n}$，这样的图形叫做 **频率直方图**，简称 **直方图（histogram)**\n",
    "\n",
    "![histogram]([https://s2.loli.net/2022/07/02/SxRhkgwuZBdF2eL.png]#pic_center)\n",
    "\n",
    "&emsp;&emsp;根据直方图可以大致看出总体的分布属于什么类型，由图中可知，直方图顶部的阶梯形曲线两头低，中间高，有一个峰，且关于中心线比较对称，看来像是接近于正态分布的概率密度曲线. 从直方图还可以估计出 $X$ 落在某一个小区间上的概率，例如有 $57.2\\%$ 的人的血压在区间 $(110.5,130.5)$ 之内，血压高于 $140.5$ 的仅有 $9.4\\%$ 等\n",
    "\n",
    "&emsp;&emsp;如果数据来自连续型总体 $X$，根据伯努利大数定律，频率接近于概率，因此每个小区间上的小矩形的面积近似于以该小区间为底，以 $X$ 的概率密度曲线为曲边的小曲边梯形的面积，从而所得直方图顶部的阶梯形曲线近似于 $X$ 的概率密度曲线 "
   ]
  },
  {
   "cell_type": "markdown",
   "id": "fa493779",
   "metadata": {},
   "source": [
    "---"
   ]
  },
  {
   "cell_type": "markdown",
   "id": "274672f8",
   "metadata": {},
   "source": [
    "### 2.2 箱线图"
   ]
  },
  {
   "cell_type": "markdown",
   "id": "6081ac37",
   "metadata": {},
   "source": [
    "#### 2.2.1 样本分位数"
   ]
  },
  {
   "cell_type": "markdown",
   "id": "6763c1dc",
   "metadata": {},
   "source": [
    "<div class=\"alert alert-info\" role=\"alert\"><span class=\"label label-success\">定义 $6.3$</span> 设有容量为 $n$ 的样本观察值 $x_1,x_2,\\dots,x_n$，<strong>样本 $p$ 分位数</strong> $(0\\le p\\le1)$ 记为 $x_p$，它具有以下的性质 1.至少有 $np$ 个观察值小于或等于 $x_p$ 2.至少有 $n(1-p)$ 个观察值大于或等于 $x_p$</div>"
   ]
  },
  {
   "cell_type": "markdown",
   "id": "328cde80",
   "metadata": {},
   "source": [
    "&emsp;&emsp;将 $x_1,x_2,\\dots,x_n$ 按 **自小到大** 的次序排列成 $x_1 \\le x_2 \\le \\dots \\le x_n$，即可得到样本 $p$ 分位数\n",
    "\n",
    "- 若 $np$ 不是整数，则只有一个数据满足定义中的两点要求，这一数据位于大于 $np$ 的最小整数处，即为位于 $[np]+1$ 处的数. 例如 $n=12$，$p=0.9$，$np=10.8$，$n(1-p)=1.2$，则 $x_p$ 的位置应满足至少有 $10.8$ 个数据 $\\le x_p$ (x_p 应位于第 $11$ 或大于第 $11$ 处)，且至少有 $1.2$ 个数据为 $\\ge x_p$ ($x_p$ 应位于第 $11$ 或小于第 $11$处)，故 $x_p$ 应位于第 $11$ 处\n",
    "\n",
    "\n",
    "- 若 $np$ 是整数，例如在 $n=20$，$p=0.95$ 时，$x_p$ 的位置应满足至少有 $19$ 个数据 $\\le x_p$ ($x_p$ 应位于第 $19$ 或大于第 $19$ 处）且至 少有 $1$ 个数据 $\\ge x_p$ ($x_p$ 应位于第 $20$ 或小于第 $20$ 处)，故第 $19$ 或第 $20$ 的数据均符合要求，就取这两个数的平均值 <br><br>\n",
    "\n",
    "<center>$x_p=\\begin{cases}x([np]+1) & np \\notin \\mathbb{N} \\\\\\\\\\dfrac{1}{2}[x_np+x_{(np+1)}] &np\\in\\mathbb{N}\\end{cases}$</center><br><br>\n",
    "&emsp;&emsp;特别当 $p=0.5$ 时，$0.5$ 分位数 $x_{0.5}$ 也记为 $Q_2$ 或 $M$，称为样本中位数，即有 <br><br>\n",
    "\n",
    "<center>$x_{0.5}=\\begin{cases}x([\\dfrac{n}{2}]+1) &\\text{n is odd}\\\\\\\\\\dfrac{1}{2}[x_{\\tfrac{n}{2}}+x_{(\\tfrac{n}{2}+1)}] &\\text{n is even}\\end{cases}$</center><br><br>\n",
    "\n",
    "- 当 $n$ 是 奇数时中位数 $x_{0.5}$ 就是 $x_1 \\le x_2 \\le \\dots \\le x_n$ 这一数组最中间的一个数，而当 $n$ 是偶数时中位数 $x_{0.5}$ 就是 $x_1 \\le x_2 \\le \\dots \\le x_n$ 这一数组中最中间两个数的平均值 <p>\n",
    "\n",
    "- $0.25$ 分位数 $x_{0.25}$ 称为 **第一四分位数**，又记为 $Q_1$，$0.75$ 分位数 $x_{0.75}$ 称为 **第三四分位数**，又记作 $Q_3$，$x_{0.25},x_{0.5},x_{0.75}$ 在统计中是很有用的"
   ]
  },
  {
   "cell_type": "markdown",
   "id": "18401b92",
   "metadata": {},
   "source": [
    "<div class=\"alert alert-danger\" role=\"alert\"><span class=\"label label-warning\">例题</span> 设有一组容量为 $18$ 的样本值如下，求标本分位数 $x_{0.2},x_{0.25},x_{0.5}$</div>\n",
    "\n",
    "<table border=0 cellpadding=0 cellspacing=0 width=990 style='border-collapse:\n",
    " collapse;table-layout:fixed;'>\n",
    " <col width=110 span=9>\n",
    " <tr height=18>\n",
    "  <td style='text-align: center;'>$122$</td>\n",
    "  <td style='text-align: center;'>$126$</td>\n",
    "  <td style='text-align: center;'>$133$</td>\n",
    "  <td style='text-align: center;'>$140$</td>\n",
    "  <td style='text-align: center;'>$145$</td>\n",
    "  <td style='text-align: center;'>$145$</td>\n",
    "  <td style='text-align: center;'>$149$</td>\n",
    "  <td style='text-align: center;'>$150$</td>\n",
    "  <td style='text-align: center;'>$157$</td>\n",
    " </tr>\n",
    " <tr height=18>        \n",
    "  <td style='text-align: center;'>$162$</td>\n",
    "  <td style='text-align: center;'>$166$</td>\n",
    "  <td style='text-align: center;'>$175$</td>\n",
    "  <td style='text-align: center;'>$177$</td>\n",
    "  <td style='text-align: center;'>$177$</td>\n",
    "  <td style='text-align: center;'>$183$</td>\n",
    "  <td style='text-align: center;'>$188$</td>\n",
    "  <td style='text-align: center;'>$199$</td>\n",
    "  <td style='text-align: center;'>$212$</td>\n",
    " </tr> \n",
    "</table>\n",
    "\n",
    "&emsp;&emsp;$np=18\\times0.2=3.6$，$x_{0.2}$ 位于第 $[3.6]+1=4$ 处，即有 $x_{0.2}=x_{4}=140$ <br>\n",
    "&emsp;&emsp;$np=18\\times0.25=4.5$，$x_{0.25}$ 位于第 $[4.5]+1=5$ 处，即有 $x_{0.25}=x_{5}=145$ <br>\n",
    "&emsp;&emsp;$np=18\\times0.5=9$，$x_{0.5}$ 是这组数中间两个数的平均值，即有 $x_{0.5}=(157+162)/2=159.5$ "
   ]
  },
  {
   "cell_type": "markdown",
   "id": "1eadb8d5",
   "metadata": {},
   "source": [
    "#### 2.2.2 箱线图组成元素"
   ]
  },
  {
   "cell_type": "markdown",
   "id": "cb92e45f",
   "metadata": {},
   "source": [
    "&emsp;&emsp;数据集的箱线图是由箱子和直线组成的图形，它是基于以下 $5$ 个数的图形概括 <p>\n",
    "<center><strong>最小值 $\\mathbf\\min$，第一四分位数 $Q_1$，中位数 $M$，第三四分位数$Q_3$，最大值 $\\mathbf\\max$</strong></center>\n",
    "    \n",
    "- 画一水平数轴，在轴上标上 $\\min,Q_1,M,Q_3,\\max$，在数轴上方画一个上、下侧平行于数轴的矩形箱子，箱子的左右两侧分别位于 $Q_1,Q_3$ 的上方,在 $M$ 点的上方画一条垂直线段，线段位于箱子内部\n",
    "    \n",
    "- 自箱子左侧引一条水平线直至最小值 $\\min$，在同一水平高度自箱子右侧引一条水平线直至最大值\n",
    "    \n",
    "![box](https://s2.loli.net/2022/07/02/vlYCSJ58k1IKjxe.png)"
   ]
  },
  {
   "cell_type": "markdown",
   "id": "2165e293",
   "metadata": {},
   "source": [
    "&emsp;&emsp;自箱线图可以形象地看出数据集的以下重要性质 <p>\n",
    "- **中心位置**：中位数所在的位置就是数据集的中心 <br>\n",
    "- **散布程度**：全部数据都落在 $[\\min,\\max]$ 之内，在区间 $[\\min,Q_1],[Q_1,M],[M,Q_3],[Q_3,\\max]$ 的数据个数各占 $1/4$，区间较短时，表示落在该区间的点较集中，反之较为分散 <br>\n",
    "- **对称性**: 若中位数位于箱子的中间位置，则数据分布较为对称，又若 $\\min$ 离 $M$ 的距离较 $\\max$ 离 $M$ 的距离大，则表示数据分布向左倾斜，反之表示数据向右倾斜，且能看出分布尾部的长短"
   ]
  },
  {
   "cell_type": "markdown",
   "id": "094fb077",
   "metadata": {},
   "source": [
    "<div class=\"alert alert-danger\" role=\"alert\"><span class=\"label label-warning\">例题</span> 下面分别给出了 $25$ 个男子和 $25$ 个女子的肺活量，试分别画出两组数据的箱线图</div><p>\n",
    "\n",
    "<center><strong>女子组</strong></center>\n",
    "\n",
    "<table border=0 cellpadding=0 cellspacing=0 width=990 style='border-collapse:\n",
    " collapse;table-layout:fixed;'>\n",
    " <col width=198 span=5>\n",
    " <tr height=18>\n",
    "  <td style='text-align: center;'>$2.7$</td>\n",
    "  <td style='text-align: center;'>$2.8$</td>\n",
    "  <td style='text-align: center;'>$2.9$</td>\n",
    "  <td style='text-align: center;'>$3.1$</td>\n",
    "  <td style='text-align: center;'>$3.1$</td>\n",
    " </tr>\n",
    " <tr height=18>\n",
    "  <td style='text-align: center;'>$3.1$</td>\n",
    "  <td style='text-align: center;'>$3.2$</td>\n",
    "  <td style='text-align: center;'>$3.4$</td>\n",
    "  <td style='text-align: center;'>$3.4$</td>\n",
    "  <td style='text-align: center;'>$3.4$</td>\n",
    " </tr>\n",
    " <tr height=18>\n",
    "  <td style='text-align: center;'>$3.4$</td>\n",
    "  <td style='text-align: center;'>$3.4$</td>\n",
    "  <td style='text-align: center;'>$3.5$</td>\n",
    "  <td style='text-align: center;'>$3.5$</td>\n",
    "  <td style='text-align: center;'>$3.5$</td>\n",
    " </tr>\n",
    " <tr height=18>\n",
    "  <td style='text-align: center;'>$3.6$</td>\n",
    "  <td style='text-align: center;'>$3.7$</td>\n",
    "  <td style='text-align: center;'>$3.7$</td>\n",
    "  <td style='text-align: center;'>$3.7$</td>\n",
    "  <td style='text-align: center;'>$3.8$</td>\n",
    " </tr> \n",
    " <tr height=18>\n",
    "  <td style='text-align: center;'>$3.8$</td>\n",
    "  <td style='text-align: center;'>$4.0$</td>\n",
    "  <td style='text-align: center;'>$4.1$</td>\n",
    "  <td style='text-align: center;'>$4.2$</td>\n",
    "  <td style='text-align: center;'>$4.2$</td>\n",
    " </tr>\n",
    "</table><p>\n",
    "    \n",
    "&emsp;&emsp;$\\min=2.7,\\max=4.2,M=3.5$<br>\n",
    "&emsp;&emsp;$np=25\\times0.25=6.25,Q_1=3.2$<br>\n",
    "&emsp;&emsp;$np=25\\times0.75=18.75,Q_3=3.7$<p> \n",
    "\n",
    "<center><strong>男子组</strong></center>\n",
    "\n",
    "<table border=0 cellpadding=0 cellspacing=0 width=990 style='border-collapse:\n",
    " collapse;table-layout:fixed;'>\n",
    " <col width=198 span=5>\n",
    " <tr height=18>\n",
    "  <td style='text-align: center;'>$4.1$</td>\n",
    "  <td style='text-align: center;'>$4.1$</td>\n",
    "  <td style='text-align: center;'>$4.3$</td>\n",
    "  <td style='text-align: center;'>$4.3$</td>\n",
    "  <td style='text-align: center;'>$4.5$</td>\n",
    " </tr>\n",
    " <tr height=18>\n",
    "  <td style='text-align: center;'>$4.6$</td>\n",
    "  <td style='text-align: center;'>$4.7$</td>\n",
    "  <td style='text-align: center;'>$4.8$</td>\n",
    "  <td style='text-align: center;'>$4.8$</td>\n",
    "  <td style='text-align: center;'>$5.1$</td>\n",
    " </tr>\n",
    " <tr height=18>\n",
    "  <td style='text-align: center;'>$5.3$</td>\n",
    "  <td style='text-align: center;'>$5.3$</td>\n",
    "  <td style='text-align: center;'>$5.3$</td>\n",
    "  <td style='text-align: center;'>$5.4$</td>\n",
    "  <td style='text-align: center;'>$5.4$</td>\n",
    " </tr>\n",
    " <tr height=18>\n",
    "  <td style='text-align: center;'>$5.5$</td>\n",
    "  <td style='text-align: center;'>$5.6$</td>\n",
    "  <td style='text-align: center;'>$5.7$</td>\n",
    "  <td style='text-align: center;'>$5.8$</td>\n",
    "  <td style='text-align: center;'>$5.8$</td>\n",
    " </tr> \n",
    " <tr height=18>\n",
    "  <td style='text-align: center;'>$6.0$</td>\n",
    "  <td style='text-align: center;'>$6.1$</td>\n",
    "  <td style='text-align: center;'>$6.3$</td>\n",
    "  <td style='text-align: center;'>$6.7$</td>\n",
    "  <td style='text-align: center;'>$6.7$</td>\n",
    " </tr>\n",
    "</table><p>\n",
    "\n",
    "&emsp;&emsp;$\\min=4.1,\\max=6.7,M=5.3$<br>\n",
    "&emsp;&emsp;$np=25\\times0.25=6.25,Q_1=4.7$<br>\n",
    "&emsp;&emsp;$np=25\\times0.75=18.75,Q_3=5.8$<p> \n",
    "\n",
    "![lung](https://s2.loli.net/2022/07/04/Zx7ewPO4lDjMUqT.png)\n",
    "    \n",
    "> 箱线图特别适用于比较两个或两个以上数据集的性质，为此将几个数据集的箱线图画在同一个数轴上，例如在上例中可以明显地看到男子的肺活量要比女子大，男子的肺活量较女子的肺活量为分散"
   ]
  },
  {
   "cell_type": "markdown",
   "id": "b6b99b28",
   "metadata": {},
   "source": [
    "&emsp;&emsp;在数据集中某一个观察值不寻常地大于或小于该数集中的其他数据，称为 **疑似异常值**，疑似异常值的存在会对随后的计算结果产生不适当的影响，检查疑似异常值并加以适当的处理是十分重要的：箱线图只要稍加修改，就能用来检测数据集是否存在疑似异常值 \n",
    "\n",
    "- 第一四分位数记为 $Q_1$ 与第三四分位数 $Q_3$ 之间的距离：$Q_3-Q_1 = IQR$，称为 **四分位数间距**，若数据小于 $Q_1-1.5 IQR$ 或大 于 $Q_3+1.5 IQR$，就认为它是疑似异常值，在箱线图中画出疑似异常值并以 $*$ 表示\n",
    "\n",
    "- 自箱子左侧引一水平线段直至数据集中除去疑似异常值后的最小值，又自箱子右侧引一水平线直至数据集中除去拟似异常值后的最大值，此时作出的图形称为 **修正箱线图**"
   ]
  },
  {
   "cell_type": "markdown",
   "id": "92a0928e",
   "metadata": {},
   "source": [
    "> 数据集中，疑似异常值的产生源于\n",
    "> - 数据的测量、记录或输人计算机时的错误\n",
    "> - 数据来自不同的总体\n",
    "> - 数据是正确的，但它只体现小概率事件\n",
    "> \n",
    "> 当检测出疑似异常值时，需对疑似异常值出现的原因加以分析，如果是由于测量或记录的错误或某些其他明显的原因造成的，将这些疑似异常值从数据集中丢弃，然而当出现的原因无法解释时要作出丟弃或保留这些值的决策无疑是困难的，此时在对数据集作分析时尽童选用稳健的方法，使得疑似异常值对结论的影响较小"
   ]
  },
  {
   "cell_type": "markdown",
   "id": "6cba8a0f",
   "metadata": {},
   "source": [
    "## 第03节 抽样分布"
   ]
  },
  {
   "cell_type": "markdown",
   "id": "7961d63a",
   "metadata": {},
   "source": [
    "### 3.1 统计量与样本矩"
   ]
  },
  {
   "cell_type": "markdown",
   "id": "ede4dc01",
   "metadata": {},
   "source": [
    "&emsp;&emsp;样本是统计推断的依据，但在实际问题中，往往不是直接使用样本本身，而是针对不同的问题构造适当的样本的函数，利用这种样本的函数来进行统计推断"
   ]
  },
  {
   "cell_type": "markdown",
   "id": "3804252f",
   "metadata": {},
   "source": [
    "<div class=\"alert alert-info\" role=\"alert\"><span class=\"label label-success\">定义 $6.4$</span> 设 $X_1,X_2,\\dots,X_n$ 是来自总体 $X$ 的一 个样本, $g(X_1,X_2,\\dots,X_n)$ 是 $X_1,X_2,\\dots,X_n$ 的函数，若 $g$ 不含未知参数，则称 $g(X_1,X_2,\\dots,X_n)$ 是一个 <strong>统计量</strong>，设 $x_1,x_2,\\dots,x_n$ 为 $X_1,X_2,\\dots,X_n$ 的样本观察值，则 $g(x_1,x_2,\\dots,x_n)$ 是统计量 $g(X_1,X_2,\\dots,X_n)$ 的 <strong>观察值</strong></div>"
   ]
  },
  {
   "cell_type": "markdown",
   "id": "92749ea5",
   "metadata": {},
   "source": [
    "&emsp;&emsp;设 $X_1,X_2,\\dots,X_n$ 是来自总体 $X$ 的一个样本，$x_1,x_2,\\dots,x_n$ 为样本观察值，以下给出几个常用的统计量的定义\n",
    "- **样本均值**&emsp;&emsp;$\\bar{X}=\\dfrac{1}{n}\\sum\\limits^{n}_{i=1}X_i$ <br><br>\n",
    "- **样本方差**&emsp;&emsp;$S^2=\\dfrac{1}{n-1}\\sum\\limits^{n}_{i=1}(X_i-X_n)^2=\\dfrac{1}{n-1}(\\sum\\limits^{n}_{i=1}X^2_i-n\\bar{X}^2)$ <br><br>\n",
    "- **样本标准差**&emsp;&emsp;$S=\\sqrt{S^2}=\\sqrt{\\dfrac{1}{n-1}\\sum\\limits^{n}_{i=1}(X_i-\\bar{X})^2}$ <br><br>\n",
    "- **样本 $k$ 阶原点矩**&emsp;&emsp;$A_k=\\dfrac{1}{n}\\sum\\limits^{n}_{i=1}X^k_i,\\quad k=1,2,\\dots$ <br><br>\n",
    "- **样本 $k$ 阶中心矩**&emsp;&emsp;$B_k=\\dfrac{1}{n}\\sum\\limits^{n}_{i=1}(X_i-\\bar{X})^k,\\quad k=1,2,\\dots$ <br><br>\n",
    "\n",
    "&emsp;&emsp;其观察值分别为 <br><br>\n",
    "<center>$\\bar{x}=\\dfrac{1}{n}\\sum\\limits^{n}_{i=1}x_i$</center><br>\n",
    "<center>$s^2=\\dfrac{1}{n-1}\\sum\\limits^{n}_{i=1}(x_i-\\bar{x})^2 = \\dfrac{1}{n-1}(\\sum\\limits^{n}_{i=1}x^2_1-n\\bar{x}^2)$</center><br>\n",
    "<center>$s=\\sqrt{\\dfrac{1}{n-1}\\sum\\limits^{n}_{i=1}(x_i-\\bar{x})^2}$</center><br>\n",
    "<center>$a_k=\\dfrac{1}{n}\\sum\\limits^{n}_{i=1}x^k_i,\\quad k=1,2,\\dots$</center><br>\n",
    "<center>$b_k=\\dfrac{1}{n}\\sum\\limits^{n}_{i=1}(x_i-\\bar{x})^k,\\quad k=1,2,\\dots$</center><br>\n",
    "\n",
    "> 这些观察值仍分别称为样本均值、样本方差、样本标准差、样本 $k$ 阶原点矩、样本 $k$ 阶中心矩"
   ]
  },
  {
   "cell_type": "markdown",
   "id": "f010e2c8",
   "metadata": {},
   "source": [
    "&emsp;&emsp;若总体 $X$ 的 $k$ 阶矩存在，记成 $E(X^k)=\\mu_k$，则当 $b\\to +\\infty$ 时，$A_k \\overset{P}{\\longrightarrow} \\mu_k,\\;k=1,2,\\dots$，这是因为 $X_1,X_2,\\dots,X_n$ 独立且与 $X$ 同分布，所以 $X^k_1,X^k_2,\\dots,X^k_n$ 独立且与 $X^k$ 同分布，故有 <br><br>\n",
    "<center>$E(X^k_1)=E(X^k_2)=\\dots=E(X^k_n)=\\mu k$</center><br><br>\n",
    "&emsp;&emsp;从而由辛钦大数定理可得知 <br><br>\n",
    "<center>$A_k=\\dfrac{1}{n}\\sum\\limits^{n}_{i=1}X^k_i\\overset{P}{\\longrightarrow}\\mu k,\\quad k=1,2,\\dots$</center><br><br>\n",
    "&emsp;&emsp;进而由关于依概率收敛的序列的性质可知 <br><br>\n",
    "<center>$g(A_1,A_2,\\dots,A_k)\\overset{P}{\\longrightarrow}g(\\mu_1,\\mu_2,\\dots,\\mu_k)$</center><br><br>\n",
    "&emsp;&emsp;其中 $g$ 为连续函数，这就是后续介绍的 <strong>矩估计法</strong> 的理论根据"
   ]
  },
  {
   "cell_type": "markdown",
   "id": "91a1c613",
   "metadata": {},
   "source": [
    "### 3.2 经验分布函数"
   ]
  },
  {
   "cell_type": "markdown",
   "id": "4f5fa8d8",
   "metadata": {},
   "source": [
    "&emsp;&emsp;可以作出与总体分布函数 $F(x)$ 相应的统计量 **经验分布函数**，设 $X_1,X_2,\\dots,X_n$ 是总体 $F$ 的一个样本，用 $S(x),\\quad -\\infty<x<\\infty$ 表示 $X_1,X_2,\\dots,X_n$ 中不大于 $x$ 的随机变量的个数，定义经验分布函数 $F_n(x)$ 为 <br><br>\n",
    "<center>$F_n(x)=\\dfrac{1}{n}S(x),\\quad -\\infty<x<\\infty$</center>"
   ]
  },
  {
   "cell_type": "markdown",
   "id": "6c86bca5",
   "metadata": {},
   "source": [
    "&emsp;&emsp;对于一个样本值，那么经验分布函数 $F_n(x)$ 的观察值是很容易得到的 ($F_n(x)$ 的观察值仍以 $F_n(x)$ 表示)，例如 <br><br>\n",
    "- 设总体 $F$ 具有一个样本值 $1,2,3$，则经验分布函数 $F_3(x)$ 的观察值为 <br><br>\n",
    "<center>$F_3(x)=\\begin{cases}0 &x<1\\\\\\\\\\dfrac{1}{3} &1\\le x<2\\\\\\\\\\dfrac{2}{3} &2\\le x<3\\\\\\\\1 &x\\ge3\\end{cases}$<center><br><br>\n",
    "    \n",
    "- 设总体 $F$ 具有一个样本值 $1,1,2$，则经验分布函数 $F_3(x)$ 的观察值为 <br><br>\n",
    "<center>$F_3(x)=\\begin{cases}0 &x<1\\\\\\\\\\dfrac{2}{3} &1\\le x<2\\\\\\\\1 &x\\ge2\\end{cases}$<center><br>"
   ]
  },
  {
   "cell_type": "markdown",
   "id": "070a6b32",
   "metadata": {},
   "source": [
    "&emsp;&emsp;一般设 $x_1,x_2,\\dots,x_n$ 是总体 $F$ 的一个容量为 $n$ 的样本值，先将 $x_1,x_2,\\dots,x_n$ 按自小到大的次序排序，并重新编号设为 $x_1\\le x_2\\le\\dots\\le x_n$，则经验分布函数 $F_n(x)$ 的观察值为 <br><br>\n",
    "<center>$F_n(x)=\\begin{cases}0 &x<x_1\\\\\\\\\\dfrac{k}{n} &x_k\\le x<x_{k+1}\\\\\\\\1 &x\\ge n\\end{cases}$<center><br>"
   ]
  },
  {
   "cell_type": "markdown",
   "id": "1ba2234f",
   "metadata": {},
   "source": [
    "&emsp;&emsp;对于经验分布函数 $F_n(x)$，格里汶科（Giivenko) 在 $1033$ 年证明了对于任一实数 $x$ 当 $n\\to\\infty$ 时 $F_n(x)$ 以概率 $1$ 一致收敛于分布函数 $F(x)$ 即 <br><br>\n",
    "<center>$P(\\lim\\limits^{}_{n\\to\\infty}\\sup\\limits^{}_{-\\infty<x<\\infty}|F_n(x)-F(x)|=0)=1$</center> <br>\n",
    "因此，对于任一实数 $x$ 充分大时，经验分布函数的任一个观察值 $F_n(x)$ 与总体分布函数 $F(x)$ 只有微小的差别，从而在实际上可当作 $F(x)$ 来使用"
   ]
  },
  {
   "cell_type": "markdown",
   "id": "5ba375b5",
   "metadata": {},
   "source": [
    "### 3.3 常用统计量的分布"
   ]
  },
  {
   "cell_type": "markdown",
   "id": "0a0f8e69",
   "metadata": {},
   "source": [
    "<div class=\"alert alert-info\" role=\"alert\"><span class=\"label label-success\">定义 $6.5$</span> 统计量的分布称为 <strong>抽样分布</strong></div>"
   ]
  },
  {
   "cell_type": "markdown",
   "id": "20b67d8a",
   "metadata": {},
   "source": [
    "&emsp;&emsp;在数理统计中常用的重要分布，除正态分布外，还有 $\\chi^2$ 分布、$t$ 分布和 $F$ 分布，本节首先介绍来自正态总体的这 $3$ 个重要分布，然后介绍正态总体下的几个抽样定理"
   ]
  },
  {
   "cell_type": "markdown",
   "id": "665da9f8",
   "metadata": {},
   "source": [
    "#### 3.3.1 $\\chi^2$ 分布"
   ]
  },
  {
   "cell_type": "markdown",
   "id": "0b1c22ce",
   "metadata": {},
   "source": [
    "<div class=\"alert alert-info\" role=\"alert\"><span class=\"label label-success\">定义 $6.6$</span> 设 $X_1,X_2,\\dots,X_n$ 是来自总体 $N(0,1)$ 的样本，则称统计量 $\\chi^2=X^2_1+X^2_2+\\dots+X^2_n$ 服从自由度为 $n$ 的 $\\chi^2$ 分布，记为 $\\chi^2\\backsim\\chi^2(n)$</div>\n",
    "\n",
    "> $\\chi^2$ 分布的自由度是指独立的随机变量的个数\n",
    "\n",
    "&emsp;&emsp;自由度为 $n$ 的 $\\chi^2$ 分布的概率密度为 <br><br>\n",
    "<center>$f(x)=\\begin{cases}\\dfrac{1}{2^{\\tfrac{n}{2}}\\varGamma(n/2)}y^{\\tfrac{n}{2}-1}e^{\\tfrac{-y}{2}} &y>0\\\\0&else\\end{cases}$</center><br>\n",
    "&emsp;&emsp;其中 $\\varGamma(a)=\\int\\limits^{\\infty}_{0}x^{a-1}e^{-x}dx$ 是 <strong>Gamma 函数</strong>，概率密度 $f(x)$ 如下图所示\n",
    "\n",
    "![chi](https://s2.loli.net/2022/07/04/k4TPd3ERKDJc9Gm.png)"
   ]
  },
  {
   "cell_type": "markdown",
   "id": "f568c23b",
   "metadata": {},
   "source": [
    "&emsp;&emsp;根据 $\\varGamma$ 分布的可加性易得 $\\chi^2$ 分布的可加性如下\n",
    "- **$\\chi^2$ 分布的可加性**：设 $\\chi^2_1 \\backsim \\chi^2(n_1),\\chi^2_2\\backsim \\chi^2(n_2)$，并且 $\\chi^2_1,\\chi^2_2$ 相互独立则有 $\\chi^2_1 + \\chi^2_2 \\backsim \\chi^2(n_1+n_2)$ <br><br>\n",
    "- **$\\chi^2$ 分布的数学期望与方差**：若 $\\chi^2_1 \\backsim \\chi^2(n)$，则有 $E(\\chi^2)=n,\\;D(\\chi^2)=2n$ <br><br>\n",
    "因 $X_i\\backsim N(0,1)$，故 $E(X^2_i)=D(X_i)=1$，$D(X^2_i)=E(X^4_i)-[E(X^2_i)]^2=3-1=2,\\;i=1,2,\\dots,n$ <br><br>\n",
    "$E(\\chi^2)=E(\\sum\\limits^{n}_{i=1}X^2_i)=\\sum\\limits^{n}_{i=1}E(X^2_i)=n$ <br><br>\n",
    "$D(\\chi^2)=D(\\sum\\limits^{n}_{i=1}X^2_i)=\\sum\\limits^{n}_{i=1}D(X^2_i)=2n$ <br><br>\n",
    "- **$\\chi^2$ 分布的分位点**：对于给定的正数 $a,0<a<1$，称满足条件 <br><br>\n",
    "<center>$P(\\chi^2>\\chi^2_a(n))=\\int^{\\infty}_{\\chi^2_a(n)}f(y)dy=a$</center><br>\n",
    "的点 $\\chi^2_a(n)$ 为 $\\chi^2(n)$ 分布的 <strong>上 $a$ 分位点</strong>，对于不同的 $a,n$ 上 $a$ 分位点已制成表格，例如 $a=0.1,n=5$,査 $f$ 分布表，得 $a(5)= 9.236$\n",
    "\n",
    "![chi_a](https://s2.loli.net/2022/07/04/f82QraPBVADWMXF.png)"
   ]
  },
  {
   "cell_type": "markdown",
   "id": "7142f419",
   "metadata": {},
   "source": [
    "<table border=0 cellpadding=0 cellspacing=0 width=990 style='border-collapse:\n",
    " collapse;table-layout:fixed;'>\n",
    " <col span=13>\n",
    " <tr height=18>\n",
    "  <td style='text-align: center;'><strong>$n$</strong></td>\n",
    "  <td style='text-align: center;'>$a=0.995$</td>\n",
    "  <td style='text-align: center;'>$a=0.99$</td>\n",
    "  <td style='text-align: center;'>$a=0.975$</td>\n",
    "  <td style='text-align: center;'>$a=0.95$</td>\n",
    "  <td style='text-align: center;'>$a=0.90$</td>\n",
    "  <td style='text-align: center;'>$a=0.75$</td>\n",
    "  <td style='text-align: center;'>$a=0.25$</td>\n",
    "  <td style='text-align: center;'>$a=0.10$</td>\n",
    "  <td style='text-align: center;'>$a=0.05$</td>\n",
    "  <td style='text-align: center;'>$a=0.025$</td>\n",
    "  <td style='text-align: center;'>$a=0.01$</td>\n",
    "  <td style='text-align: center;'>$a=0.005$</td>\n",
    " </tr>\n",
    " <tr height=18>        \n",
    "  <td style='text-align: center;'>$1$</td>\n",
    "  <td style='text-align: center;'></td>\n",
    "  <td style='text-align: center;'></td>\n",
    "  <td style='text-align: center;'>$0.001$</td>\n",
    "  <td style='text-align: center;'>$0.004$</td>\n",
    "  <td style='text-align: center;'>$0.016$</td>\n",
    "  <td style='text-align: center;'>$0.102$</td>\n",
    "  <td style='text-align: center;'>$1.323$</td>\n",
    "  <td style='text-align: center;'>$2.706$</td>\n",
    "  <td style='text-align: center;'>$3.841$</td>\n",
    "  <td style='text-align: center;'>$5.024$</td>\n",
    "  <td style='text-align: center;'>$6.635$</td>\n",
    "  <td style='text-align: center;'>$7.879$</td>\n",
    " </tr> \n",
    " <tr height=18>        \n",
    "  <td style='text-align: center;'>$2$</td>\n",
    "  <td style='text-align: center;'>$0.010$</td>\n",
    "  <td style='text-align: center;'>$0.020$</td>\n",
    "  <td style='text-align: center;'>$0.051$</td>\n",
    "  <td style='text-align: center;'>$0.103$</td>\n",
    "  <td style='text-align: center;'>$0.211$</td>\n",
    "  <td style='text-align: center;'>$0.575$</td>\n",
    "  <td style='text-align: center;'>$2.773$</td>\n",
    "  <td style='text-align: center;'>$4.605$</td>\n",
    "  <td style='text-align: center;'>$5.991$</td>\n",
    "  <td style='text-align: center;'>$7.378$</td>\n",
    "  <td style='text-align: center;'>$9.210$</td>\n",
    "  <td style='text-align: center;'>$10.597$</td>\n",
    " </tr> \n",
    " <tr height=18>        \n",
    "  <td style='text-align: center;'>$3$</td>\n",
    "  <td style='text-align: center;'>$0.072$</td>\n",
    "  <td style='text-align: center;'>$0.115$</td>\n",
    "  <td style='text-align: center;'>$0.216$</td>\n",
    "  <td style='text-align: center;'>$0.352$</td>\n",
    "  <td style='text-align: center;'>$0.584$</td>\n",
    "  <td style='text-align: center;'>$1.213$</td>\n",
    "  <td style='text-align: center;'>$4.108$</td>\n",
    "  <td style='text-align: center;'>$6.251$</td>\n",
    "  <td style='text-align: center;'>$7.815$</td>\n",
    "  <td style='text-align: center;'>$9.348$</td>\n",
    "  <td style='text-align: center;'>$11.345$</td>\n",
    "  <td style='text-align: center;'>$12.838$</td>\n",
    " </tr> \n",
    " <tr height=18>        \n",
    "  <td style='text-align: center;'>$4$</td>\n",
    "  <td style='text-align: center;'>$0.207$</td>\n",
    "  <td style='text-align: center;'>$0.297$</td>\n",
    "  <td style='text-align: center;'>$0.484$</td>\n",
    "  <td style='text-align: center;'>$0.711$</td>\n",
    "  <td style='text-align: center;'>$1.064$</td>\n",
    "  <td style='text-align: center;'>$1.923$</td>\n",
    "  <td style='text-align: center;'>$5.385$</td>\n",
    "  <td style='text-align: center;'>$7.779$</td>\n",
    "  <td style='text-align: center;'>$9.448$</td>\n",
    "  <td style='text-align: center;'>$11.143$</td>\n",
    "  <td style='text-align: center;'>$13.277$</td>\n",
    "  <td style='text-align: center;'>$14.860$</td>\n",
    " </tr> \n",
    " <tr height=18>        \n",
    "  <td style='text-align: center;'>$5$</td>\n",
    "  <td style='text-align: center;'>$0.412$</td>\n",
    "  <td style='text-align: center;'>$0.554$</td>\n",
    "  <td style='text-align: center;'>$0.831$</td>\n",
    "  <td style='text-align: center;'>$1.145$</td>\n",
    "  <td style='text-align: center;'>$1.610$</td>\n",
    "  <td style='text-align: center;'>$2.675$</td>\n",
    "  <td style='text-align: center;'>$6.626$</td>\n",
    "  <td style='text-align: center;'>$9.236$</td>\n",
    "  <td style='text-align: center;'>$11.071$</td>\n",
    "  <td style='text-align: center;'>$12.833$</td>\n",
    "  <td style='text-align: center;'>$15.086$</td>\n",
    "  <td style='text-align: center;'>$16.750$</td>\n",
    " </tr> \n",
    " <tr height=18>        \n",
    "  <td style='text-align: center;'>$6$</td>\n",
    "  <td style='text-align: center;'>$0.676$</td>\n",
    "  <td style='text-align: center;'>$0.872$</td>\n",
    "  <td style='text-align: center;'>$1.237$</td>\n",
    "  <td style='text-align: center;'>$1.635$</td>\n",
    "  <td style='text-align: center;'>$2.204$</td>\n",
    "  <td style='text-align: center;'>$3.455$</td>\n",
    "  <td style='text-align: center;'>$7.841$</td>\n",
    "  <td style='text-align: center;'>$10.645$</td>\n",
    "  <td style='text-align: center;'>$12.592$</td>\n",
    "  <td style='text-align: center;'>$14.449$</td>\n",
    "  <td style='text-align: center;'>$16.812$</td>\n",
    "  <td style='text-align: center;'>$18.548$</td>\n",
    " </tr> \n",
    " <tr height=18>        \n",
    "  <td style='text-align: center;'>$7$</td>\n",
    "  <td style='text-align: center;'>$0.989$</td>\n",
    "  <td style='text-align: center;'>$1.239$</td>\n",
    "  <td style='text-align: center;'>$1.690$</td>\n",
    "  <td style='text-align: center;'>$2.167$</td>\n",
    "  <td style='text-align: center;'>$2.833$</td>\n",
    "  <td style='text-align: center;'>$4.255$</td>\n",
    "  <td style='text-align: center;'>$9.037$</td>\n",
    "  <td style='text-align: center;'>$12.017$</td>\n",
    "  <td style='text-align: center;'>$14.067$</td>\n",
    "  <td style='text-align: center;'>$16.013$</td>\n",
    "  <td style='text-align: center;'>$18.475$</td>\n",
    "  <td style='text-align: center;'>$20.278$</td>\n",
    " </tr> \n",
    " <tr height=18>        \n",
    "  <td style='text-align: center;'>$8$</td>\n",
    "  <td style='text-align: center;'>$1.344$</td>\n",
    "  <td style='text-align: center;'>$1.646$</td>\n",
    "  <td style='text-align: center;'>$2.180$</td>\n",
    "  <td style='text-align: center;'>$2.733$</td>\n",
    "  <td style='text-align: center;'>$3.490$</td>\n",
    "  <td style='text-align: center;'>$5.071$</td>\n",
    "  <td style='text-align: center;'>$10.219$</td>\n",
    "  <td style='text-align: center;'>$13.362$</td>\n",
    "  <td style='text-align: center;'>$15.507$</td>\n",
    "  <td style='text-align: center;'>$17.535$</td>\n",
    "  <td style='text-align: center;'>$20.090$</td>\n",
    "  <td style='text-align: center;'>$21.955$</td>\n",
    " </tr> \n",
    " <tr height=18>        \n",
    "  <td style='text-align: center;'>$9$</td>\n",
    "  <td style='text-align: center;'>$1.735$</td>\n",
    "  <td style='text-align: center;'>$2.088$</td>\n",
    "  <td style='text-align: center;'>$2.700$</td>\n",
    "  <td style='text-align: center;'>$3.325$</td>\n",
    "  <td style='text-align: center;'>$4.168$</td>\n",
    "  <td style='text-align: center;'>$5.899$</td>\n",
    "  <td style='text-align: center;'>$11.389$</td>\n",
    "  <td style='text-align: center;'>$14.684$</td>\n",
    "  <td style='text-align: center;'>$16.919$</td>\n",
    "  <td style='text-align: center;'>$19.023$</td>\n",
    "  <td style='text-align: center;'>$21.666$</td>\n",
    "  <td style='text-align: center;'>$23.589$</td>\n",
    " </tr> \n",
    " <tr height=18>        \n",
    "  <td style='text-align: center;'>$10$</td>\n",
    "  <td style='text-align: center;'>$2.156$</td>\n",
    "  <td style='text-align: center;'>$2.558$</td>\n",
    "  <td style='text-align: center;'>$3.247$</td>\n",
    "  <td style='text-align: center;'>$3.940$</td>\n",
    "  <td style='text-align: center;'>$4.865$</td>\n",
    "  <td style='text-align: center;'>$6.737$</td>\n",
    "  <td style='text-align: center;'>$12.549$</td>\n",
    "  <td style='text-align: center;'>$15.987$</td>\n",
    "  <td style='text-align: center;'>$18.307$</td>\n",
    "  <td style='text-align: center;'>$20.483$</td>\n",
    "  <td style='text-align: center;'>$23.209$</td>\n",
    "  <td style='text-align: center;'>$25.188$</td>\n",
    " </tr> \n",
    "</table>"
   ]
  },
  {
   "cell_type": "markdown",
   "id": "5f95cc7e",
   "metadata": {},
   "source": [
    "&emsp;&emsp;因篇幅原因，此表只列到 $n=10$，原表详列到 $n=40$ 为止，但费希尔 (R.A. Fisher) 证明，当 $n$ 充分大时近似地有 <br><br>\n",
    "<center>$\\chi^2_a(n)\\approx\\dfrac{1}{2}(z_a+\\sqrt{2n-1})^2$</center><br>\n",
    "其中 $z_a$ 是标准正态分布的上 $a$ 分位点，利用上式可以求得当 $n>40$ 时 $\\chi^2(n)$ 分布的上 $a$ 分位点的近似值，例如可得 $\\chi^2_{0.05}\\approx\\dfrac{1}{2}(1.645+\\sqrt{99})^2=67.221$"
   ]
  },
  {
   "cell_type": "markdown",
   "id": "ea1ade83",
   "metadata": {},
   "source": [
    "<div class=\"alert alert-danger\" role=\"alert\"><span class=\"label label-warning\">例题</span> 设 $X_1,X_2,\\dots,X_{10}$ 是来自总体 $X\\backsim N(0,0.32)$ 的样本，求 $P(\\sum\\limits^{10}_{i=1}X^2_i>1.44)$</div>\n",
    "\n",
    "&emsp;&emsp;由于 $X_1,X_2,\\dots,X_{10}$ 是来自总体 $X\\backsim N(0,0.32)$ 的样本，则 $\\dfrac{X_1}{0.3},\\dfrac{X_2}{0.3},\\dots,\\dfrac{X_10}{0.3}$ 都服从 $N(0,1)$<br>\n",
    "&emsp;&emsp;根据 $\\chi^2$ 分布的定义，有 $\\sum\\limits^{10}_{i=1}(\\dfrac{X_i}{0.3})^2\\backsim\\chi^2(10)$，因此有 <br>\n",
    "<center>$P(\\sum\\limits^{10}_{i=1}X^2_i>1.44)=P(\\sum\\limits^{10}_{i=1}(\\dfrac{X_i}{0.3})^2 > \\dfrac{1.44}{0.3^2})=P(\\sum\\limits^{10}_{i=1}(\\dfrac{X_i}{0.3})^2>16)=0.1$</center>"
   ]
  },
  {
   "cell_type": "markdown",
   "id": "4909c11d",
   "metadata": {},
   "source": [
    "#### 3.3.2 $t$ 分布"
   ]
  },
  {
   "cell_type": "markdown",
   "id": "7cd07cc6",
   "metadata": {},
   "source": [
    "<div class=\"alert alert-info\" role=\"alert\"><span class=\"label label-success\">定义 $6.7$</span> 设 $X\\backsim N(0,1),\\;Y\\backsim\\chi^2(n)$，且 $X,Y$ 相互独立，则称统计量 $T=\\dfrac{X}{\\sqrt{Y/n}}$ 服从自由度为 $n$ 的 <strong>$t$ 分布</strong>，记为 $T\\backsim t(n)$</div>\n",
    "\n",
    "&emsp;&emsp;$t$ 分布又称为 **学生氏 (Student) 分布**，自由度为 $n$ 的 $t$ 分布的概率密度为 <br><br>\n",
    "<center>$f(x)=\\dfrac{\\varGamma(\\dfrac{n+1}{2})}{\\sqrt{n\\pi}\\varGamma(\\dfrac{n}{2})}(1+\\dfrac{x^2}{n})^{-\\tfrac{n+1}{2}}$</center><br>\n",
    "&emsp;&emsp;其中 $\\varGamma(a)=\\int\\limits^{\\infty}_{0}x^{a-1}e^{-x}dx$ 是 <strong>Gamma 函数</strong>，几个不同的自由度 $n$ 对应的概率密度 $f(x)$ 如下图所示\n",
    "\n",
    "![t](https://s2.loli.net/2022/07/05/O2BdHquA3Jbf8I4.png)"
   ]
  },
  {
   "cell_type": "markdown",
   "id": "eda3a998",
   "metadata": {},
   "source": [
    "&emsp;&emsp;可以证明 $t$ 分布具有以下性质\n",
    "- **$t$ 分布的独立性**: 若 $X\\backsim N(0,1),Y\\backsim\\chi^2(n)$，且 $X,Y$ 相互独立，则 $T=\\dfrac{X}{\\sqrt{Y/n}}\\backsim t(n)$，反之若 $T\\backsim t(n)$，则有相互独立的 $X\\backsim N(0,1),Y\\backsim\\chi^2(n)$，使 $T=\\dfrac{X}{\\sqrt{Y/n}}$ <br><br>\n",
    "- **$t$ 分布的极限性**: 利用 $\\varGamma$ 函数的性质可得 $\\lim\\limits^{}_{n\\to\\infty}f_n(x)=\\dfrac{1}{\\sqrt{2\\pi}}e^{-\\tfrac{t^2}{2}}=\\varphi(x)$，$f_n(x)$ 为自由度是 $n$ 的 $t$ 分布的概率密度，$\\varphi(x)$ 为标准正态分布的概率密度，这个性质说明 $t$ 分布的极限分布是 **标准正态分布** <br><br>\n",
    "- **$t$ 分布的分位点**: 若 $t\\backsim t(n)$，对于给定的 $a,0<a<1$，称满足条件 <br><br> \n",
    "<center>$P(t>t_a(n))=\\int\\limits^{\\infty}_{t_a(n)}f(x)dx = a$</center><br>\n",
    "的点 $t_a(n)$ 为 $t(n)$ 分布的 <strong>上侧 $a$ 分位点</strong>，其中 $f(x)$ 为 $t$ 分布的概率密度，其图形如下图所示\n",
    "\n",
    "![t_a](https://s2.loli.net/2022/07/05/Ep8iQSA7NGZDynO.png)\n",
    "\n",
    "> 根据 $t$ 分布的上侧 $a$ 分位点的定义以及 $t$ 分布的概率密度 $f(x)$ 的对称性，可知 $t_{1-a}(n)=-t_a(n)$ <br>\n",
    "> $t$ 分布的上 $a$ 分位点同样可查表得到，且在 $n>45$ 时，对于常用的 $a$ 的值，可以使用正态近似 $t_a(n)\\approx z_a$"
   ]
  },
  {
   "cell_type": "markdown",
   "id": "ca40ee2d",
   "metadata": {},
   "source": [
    "<table border=0 cellpadding=0 cellspacing=0 width=990 style='border-collapse:\n",
    " collapse;table-layout:fixed;'>\n",
    " <col span=7>\n",
    " <tr height=18>\n",
    "  <td style='text-align: center;'><strong>$n$</strong></td>\n",
    "  <td style='text-align: center;'>$a=0.25$</td>\n",
    "  <td style='text-align: center;'>$a=0.10$</td>\n",
    "  <td style='text-align: center;'>$a=0.05$</td>\n",
    "  <td style='text-align: center;'>$a=0.025$</td>\n",
    "  <td style='text-align: center;'>$a=0.01$</td>\n",
    "  <td style='text-align: center;'>$a=0.005$</td>\n",
    " </tr>\n",
    " <tr height=18>  \n",
    "  <td style='text-align: center;'>$1$</td>\n",
    "  <td style='text-align: center;'>$1.0000$</td>\n",
    "  <td style='text-align: center;'>$3.0777$</td>\n",
    "  <td style='text-align: center;'>$6.3138$</td>\n",
    "  <td style='text-align: center;'>$12.7062$</td>\n",
    "  <td style='text-align: center;'>$31.8207$</td>\n",
    "  <td style='text-align: center;'>$63.6574$</td>\n",
    " </tr> \n",
    " <tr height=18>\n",
    "  <td style='text-align: center;'>$2$</td>\n",
    "  <td style='text-align: center;'>$0.8165$</td>\n",
    "  <td style='text-align: center;'>$1.8856$</td>\n",
    "  <td style='text-align: center;'>$2.9200$</td>\n",
    "  <td style='text-align: center;'>$4.3027$</td>\n",
    "  <td style='text-align: center;'>$6.9646$</td>\n",
    "  <td style='text-align: center;'>$9.9248$</td>\n",
    " </tr> \n",
    " <tr height=18>    \n",
    "  <td style='text-align: center;'>$3$</td>\n",
    "  <td style='text-align: center;'>$0.7649$</td>\n",
    "  <td style='text-align: center;'>$1.6377$</td>\n",
    "  <td style='text-align: center;'>$2.3534$</td>\n",
    "  <td style='text-align: center;'>$3.1824$</td>\n",
    "  <td style='text-align: center;'>$4.5407$</td>\n",
    "  <td style='text-align: center;'>$5.8409$</td>\n",
    " </tr> \n",
    " <tr height=18>  \n",
    "  <td style='text-align: center;'>$4$</td>\n",
    "  <td style='text-align: center;'>$0.7407$</td>\n",
    "  <td style='text-align: center;'>$1.5332$</td>\n",
    "  <td style='text-align: center;'>$2.1318$</td>\n",
    "  <td style='text-align: center;'>$2.7764$</td>\n",
    "  <td style='text-align: center;'>$3.7469$</td>\n",
    "  <td style='text-align: center;'>$4.6041$</td>\n",
    " </tr> \n",
    " <tr height=18>    \n",
    "  <td style='text-align: center;'>$5$</td>\n",
    "  <td style='text-align: center;'>$0.7267$</td>\n",
    "  <td style='text-align: center;'>$1.4759$</td>\n",
    "  <td style='text-align: center;'>$2.0150$</td>\n",
    "  <td style='text-align: center;'>$2.5706$</td>\n",
    "  <td style='text-align: center;'>$3.3649$</td>\n",
    "  <td style='text-align: center;'>$4.0322$</td>\n",
    " </tr> \n",
    " <tr height=18>     \n",
    "  <td style='text-align: center;'>$6$</td>\n",
    "  <td style='text-align: center;'>$0.7267$</td>\n",
    "  <td style='text-align: center;'>$1.4759$</td>\n",
    "  <td style='text-align: center;'>$2.0150$</td>\n",
    "  <td style='text-align: center;'>$2.5706$</td>\n",
    "  <td style='text-align: center;'>$3.3649$</td>\n",
    "  <td style='text-align: center;'>$4.0322$</td>\n",
    " </tr> \n",
    " <tr height=18>     \n",
    "  <td style='text-align: center;'>$7$</td>\n",
    "  <td style='text-align: center;'>$0.7267$</td>\n",
    "  <td style='text-align: center;'>$1.4759$</td>\n",
    "  <td style='text-align: center;'>$2.0150$</td>\n",
    "  <td style='text-align: center;'>$2.5706$</td>\n",
    "  <td style='text-align: center;'>$3.3649$</td>\n",
    "  <td style='text-align: center;'>$4.0322$</td>\n",
    " </tr> \n",
    " <tr height=18>       \n",
    "  <td style='text-align: center;'>$8$</td>\n",
    "  <td style='text-align: center;'>$0.7064$</td>\n",
    "  <td style='text-align: center;'>$1.3968$</td>\n",
    "  <td style='text-align: center;'>$1.8595$</td>\n",
    "  <td style='text-align: center;'>$2.3060$</td>\n",
    "  <td style='text-align: center;'>$2.8965$</td>\n",
    "  <td style='text-align: center;'>$3.3554$</td>\n",
    " </tr> \n",
    " <tr height=18>     \n",
    "  <td style='text-align: center;'>$9$</td>\n",
    "  <td style='text-align: center;'>$0.7027$</td>\n",
    "  <td style='text-align: center;'>$1.3830$</td>\n",
    "  <td style='text-align: center;'>$1.8331$</td>\n",
    "  <td style='text-align: center;'>$2.2622$</td>\n",
    "  <td style='text-align: center;'>$2.8214$</td>\n",
    "  <td style='text-align: center;'>$3.2498$</td>\n",
    " </tr> \n",
    " <tr height=18> \n",
    "  <td style='text-align: center;'>$10$</td>\n",
    "  <td style='text-align: center;'>$0.6998$</td>\n",
    "  <td style='text-align: center;'>$1.3722$</td>\n",
    "  <td style='text-align: center;'>$1.8125$</td>\n",
    "  <td style='text-align: center;'>$2.2281$</td>\n",
    "  <td style='text-align: center;'>$2.7638$</td>\n",
    "  <td style='text-align: center;'>$3.1693$</td>\n",
    " </tr> \n",
    "</table>"
   ]
  },
  {
   "cell_type": "markdown",
   "id": "2c13c8a9",
   "metadata": {},
   "source": [
    "<div class=\"alert alert-danger\" role=\"alert\"><span class=\"label label-warning\">例题</span> 设 $X_1,X_2,\\dots,X_5$ 是来自总体 $X\\backsim N(0,1)$ 的样本，求常数 $c$ 使统计量 $\\dfrac{c(X_1+X_2)}{\\sqrt{X^2_3+X^2_4+X^2_5}}$ 服从 $t$ 分布</div>\n",
    "\n",
    "&emsp;&emsp;由于 $X_1,X_2,\\dots,X_5$ 是来自总体 $X\\backsim N(0,0.1)$ 的样本，则 $X_1+X_2 \\backsim N(0,2),X^2_3+X^2_4+X^2_5\\backsim \\chi^2(3)$，且二者独立，根据 $t$ 分布的定义<br><br>\n",
    "<center>$\\dfrac{c(X_1+X_2)}{\\sqrt{X^2_3+X^2_4+X^2_5}}=\\dfrac{\\dfrac{c}{\\sqrt{3}}}{\\sqrt{(X^2_3+X^2_4+X^2_5)/3}}$</center><br>\n",
    "服从 $t$ 分布，则有 $\\dfrac{c}{\\sqrt{3}}(X_1+X_2)\\backsim N(0,1)$ "
   ]
  },
  {
   "cell_type": "markdown",
   "id": "5d36b34f",
   "metadata": {},
   "source": [
    "&emsp;&emsp;由于 $X_1+X_2 \\backsim N(0,2)$，所以 $\\dfrac{X_1+X_2}{\\sqrt{2}}$，$\\dfrac{c}{\\sqrt{3}}(X_1+X_2)\\backsim N(0,1)$，则有 $\\dfrac{c}{\\sqrt{3}}=\\dfrac{1}{\\sqrt{2}}$，由此解得 $c=\\sqrt{\\dfrac{3}{2}}$"
   ]
  },
  {
   "cell_type": "markdown",
   "id": "070b7f5a",
   "metadata": {},
   "source": [
    "#### 3.3.3 $F$ 分布"
   ]
  },
  {
   "cell_type": "markdown",
   "id": "84b4033f",
   "metadata": {},
   "source": [
    "<div class=\"alert alert-info\" role=\"alert\"><span class=\"label label-success\">定义 $6.8$</span> 设 $U\\backsim \\chi^2(n_1),\\;V\\backsim\\chi^2(n_2)$，且 $U,V$ 相互独立，则称统计量 $F=\\dfrac{U/n_1}{V/n_2}$ 服从自由度为 $(n_1,n_2)$ 的 <strong>$F$ 分布</strong>，记为 $F\\backsim F(n_1,n_2)$</div>\n",
    "\n",
    "&emsp;&emsp;$n_1$ 称为第一自由度，$n_2$ 称为第二自由度，$F(n_1,n_2)$ 分布的概率密度为 <br><br>\n",
    "<center>$f(x)=\\begin{cases}\\dfrac{\\varGamma(\\dfrac{n_1+n_2}{2})(\\dfrac{n_1}{n_2})^{\\tfrac{n_1}{2}}x^{\\tfrac{n_1}{2}-1}}{\\varGamma(\\dfrac{n_1}{2})\\varGamma(\\dfrac{n_2}{2})(1+\\dfrac{n_1}{n_2}x)^{\\tfrac{n_1+n_2}{2}}} &x>0 \\\\\\\\0 &x\\le 0\\end{cases}$</center><br>\n",
    "&emsp;&emsp;其中 $\\varGamma(a)=\\int\\limits^{\\infty}_{0}x^{a-1}e^{-x}dx$ 是 <strong>Gamma 函数</strong>，几个不同的自由度 $n$ 对应的概率密度 $f(x)$ 如下图所示\n",
    "\n",
    "![f](https://s2.loli.net/2022/07/05/19ylfGthcDw46ES.png)"
   ]
  },
  {
   "cell_type": "markdown",
   "id": "ba678f8b",
   "metadata": {},
   "source": [
    "&emsp;&emsp;可以证明 $F$ 分布具有以下性质\n",
    "- **$F$ 分布的独立性**: 若 $U\\backsim \\chi^2(n_1),V\\backsim\\chi^2(n_2)$，且 $U,V$ 相互独立，则 $F=\\dfrac{U/n_1}{V/n_2}\\backsim F(n_1,n_2)$，反之若 $F\\backsim F(n_1,n_2)$，则有相互独立的 $U\\backsim \\chi^2(n_1),V\\backsim\\chi^2(n_2)$，使 $F=\\dfrac{U/n_1}{V/n_2}$ <br><br>\n",
    "- **$F$ 分布的可逆性**: 由 $F$ 分布的定义可知，若 $F\\backsim F(n_1,n_2)$，则 $\\dfrac{1}{F}\\backsim F(n_2,n_1)$ <br><br>\n",
    "- **$F$ 分布的分位点**: 若 $F\\backsim F(n_1,n_2)$，对于给定的 $a,0<a<1$，称满足条件 <br><br> \n",
    "<center>$P(F>F_a(n_1,n_2))=\\int\\limits^{\\infty}_{F_a(n_1,n_2)}f(x)dx = a$</center><br>\n",
    "的点 $F_a(n_1,n_2)$ 为 $F(n_1,n_2)$ 分布的 <strong>上侧 $a$ 分位点</strong>，其中 $f(x)$ 为 $F$ 分布的概率密度，其图形如下图所示\n",
    "\n",
    "![f_a](https://s2.loli.net/2022/07/05/imXgWkN3qDSwthZ.png)\n",
    "\n",
    "> $F$ 分布的上侧 $a$ 分位点，具有如下重要的性质 $F_{1-a}(n_1,n_2)=\\dfrac{1}{F_a(n_2,n_1)}$，例如 $F_{0.95}(12,9)=\\dfrac{1}{F_{0.05}(9,12)}=\\dfrac{1}{2.80}=0.357$"
   ]
  },
  {
   "cell_type": "markdown",
   "id": "ef1eee51",
   "metadata": {},
   "source": [
    "<div class=\"alert alert-danger\" role=\"alert\"><span class=\"label label-warning\">例题</span> 设 $X_1,X_2,\\dots,X_{15}$ 是来自总体 $X\\backsim N(0,\\sigma^2)$ 的样本，确定 $Y=\\dfrac{X^2_1+X^2_2+\\dots+X^2_{10}}{2(X^2_{11}+X^2_{12}+\\dots+X^2_{15})}$ 的分布</div>\n",
    "\n",
    "&emsp;&emsp;由于 $X_1,X_2,\\dots,X_{15}$ 是来自总体 $X\\backsim N(0,\\sigma^2)$ 的样本，所有 $X_i\\backsim N(0,\\sigma^2)$，$\\dfrac{X_i}{\\sigma}\\backsim N(0,1)$，$(\\dfrac{X_i}{\\sigma})^2\\backsim \\chi^2(1)$，$i=1,2,\\dots,15$，且相互独立，根据 $\\chi^2$ 分布的定义<br><br>\n",
    "<center>$(\\dfrac{X_1}{\\sigma})^2 + (\\dfrac{X_2}{\\sigma})^2 + \\dots + (\\dfrac{X_{10}}{\\sigma})^2\\backsim\\chi^2(10)$</center><br>\n",
    "<center>$(\\dfrac{X_{11}}{\\sigma})^2 + (\\dfrac{X_{12}}{\\sigma})^2 + \\dots + (\\dfrac{X_{15}}{\\sigma})^2\\backsim\\chi^2(5)$</center><br>\n",
    "而 $X^2_1+X^2_2+\\dots+X^2_{10}$ 和 $X^2_{11}+X^2_{12}+\\dots+X^2_{15}$ 相互独立，根据 $F$ 分布的定义则有 <br><br> \n",
    "<center>$Y=\\dfrac{X^2_1+X^2_2+\\dots+X^2_{10}}{2(X^2_{11}+X^2_{12}+\\dots+X^2_{15})}=\\dfrac{\\dfrac{X^2_1+X^2_2+\\dots+X^2_{10}}{10\\sigma^2}}{\\dfrac{X^2_{11}+X^2_{12}+\\dots+X^2_{15}}{5\\sigma^2}}\\backsim F(10,5)$</center> "
   ]
  },
  {
   "cell_type": "markdown",
   "id": "be6d0c0c",
   "metadata": {},
   "source": [
    "### 3.4 正态总体下的抽样定理"
   ]
  },
  {
   "cell_type": "markdown",
   "id": "2447c6bd",
   "metadata": {},
   "source": [
    "&emsp;&emsp;设总体 $X$ 的均值为 $\\mu$，方差为 $\\sigma^2$，$X_1,X_2,\\dots,X_n$ 是来自总体 $X$ 的一个样本，$\\bar{X}$，$S^2$ 为样本均值与样本方差，则有 $E(\\bar{X})=\\mu$，$D(\\bar{X})=\\sigma^2/n$，而 <br><br>\n",
    "<center>$\\begin{aligned}E(S^2)&=E[\\dfrac{1}{n-1}(\\sum\\limits^{n}_{i=1}X^2_i-n\\bar{X}^2)]=\\dfrac{1}{n-1}[\\sum\\limits^{n}_{i=1}E(X^2_i)-nE(\\bar{X}^2)] \\\\\\\\ &=\\dfrac{1}{n-1}[\\sum\\limits^{n}_{i=1}(\\sigma^2+\\mu^2)-n(\\sigma^2/n+\\mu^2)]=\\sigma^2\\end{aligned}$</center><br>\n",
    "\n",
    "&emsp;&emsp;进而设 $X\\backsim N(\\mu,\\sigma^2)$，由 **正态分布的可加性** 可知有限个相互独立的正态随机变量的线性组合 $\\bar{X}=\\dfrac{1}{n}\\sum\\limits^{n}_{i=1}X_i$ 仍然服从正态分布"
   ]
  },
  {
   "cell_type": "markdown",
   "id": "c73e2a59",
   "metadata": {},
   "source": [
    "<div class=\"alert alert-info\" role=\"alert\"><span class=\"label label-success\">定义 $6.9$</span> 设 $X_1,X_2,\\dots,X_n$ 是来自正态总体 $N(\\mu,\\sigma^2)$ 的样本，$\\bar{X}$ 是样本均值则有 $\\bar{X}\\backsim N(\\mu,\\dfrac{\\sigma^2}{n})$</div>"
   ]
  },
  {
   "cell_type": "markdown",
   "id": "36b4c245",
   "metadata": {},
   "source": [
    "<div class=\"alert alert-danger\" role=\"alert\"><span class=\"label label-warning\">例题</span> 设 $X_1,X_2,\\dots,X_6$ 是来自总体 $X\\backsim N(52,6)$ 的样本，求样本均值 $X$ 落在 $50.3$ 到 $53.8$ 之间的概率</div>\n",
    "\n",
    "&emsp;&emsp;由于 $X_1,X_2,\\dots,X_6$ 是来自总体 $X\\backsim N(52,6)$ 的样本，所有 $\\bar{X}\\backsim N(52,6/6)$，$Y=\\bar{X}-52 \\backsim N(0,1)$，因此<br><br>\n",
    "<center>$\\begin{aligned} P(50.8<\\bar{X}<53.8) &=P(50.8-52<\\bar{X}-52<53.8-52) \\\\ &=P(-1.2<Y<1.8)=\\Phi(1.8)-[1-\\Phi(1.2)] \\\\ &=0.9641-(1-0.8849) \\\\ &=0.8490\\end{aligned}$</center>"
   ]
  },
  {
   "cell_type": "markdown",
   "id": "78be61e1",
   "metadata": {},
   "source": [
    "- 对于 **正态总体** $N(\\mu,\\sigma^2)$ 的样本均值 $\\bar{X}$ 与样本方差 $S^2$，有如下定理"
   ]
  },
  {
   "cell_type": "markdown",
   "id": "4c223676",
   "metadata": {},
   "source": [
    "<div class=\"alert alert-info\" role=\"alert\"><span class=\"label label-success\">定义 $6.10$</span> 设 $X_1,X_2,\\dots,X_n$ 是来自正态总体 $N(\\mu,\\sigma^2)$ 的样本，$\\bar{X},S^2$ 分别是样本均值和样本方差，则有<br><br>$\\quad$$1.\\dfrac{(n-1)S^2}{\\sigma^2}\\backsim\\chi^2(n-1)$<br><br>$\\quad$$2. \\bar{X}$ 与 $S^2$ 相互独立</div>\n",
    "\n",
    "> 定理 $6.9$ 和定理 $6.10$ 合在一起，称之为 **Fisher 引理**，以下将要介绍的两个定理可以作为 Fisher 引理的两个推论"
   ]
  },
  {
   "cell_type": "markdown",
   "id": "46c226b9",
   "metadata": {},
   "source": [
    "<div class=\"alert alert-info\" role=\"alert\"><span class=\"label label-success\">定义 $6.11$</span> 设 $X_1,X_2,\\dots,X_n$ 是来自正态总体 $N(\\mu,\\sigma^2)$ 的样本，$\\bar{X},S^2$ 分别是样本均值和样本方差，则有 $\\dfrac{\\bar{X}-\\mu}{s/\\sqrt{n}}\\backsim t(n-1)$</div>\n",
    "\n",
    "&emsp;&emsp;根据 Fisher 引理，$\\dfrac{\\bar{X}-\\mu}{s/\\sqrt{n}}\\backsim N(0,1)$，$\\dfrac{(n-1)S^2}{\\sigma^2}\\backsim\\chi^2(n-1)$，且两者独立，根据 $t$ 分布的定义，则有 <br>\n",
    "<center>$\\dfrac{\\dfrac{\\bar{X}-\\mu}{s/\\sqrt{n}}}{\\sqrt{\\dfrac{(n-1)S^2}{\\sigma^2(n-1)}}}=\\dfrac{\\bar{X}-\\mu}{s/\\sqrt{n}}\\backsim t(n-1)$</center>"
   ]
  },
  {
   "cell_type": "markdown",
   "id": "a146400c",
   "metadata": {},
   "source": [
    "- 对于 **两个正态总体** 的样本均值与样本方差，有如下定理"
   ]
  },
  {
   "cell_type": "markdown",
   "id": "402b949b",
   "metadata": {},
   "source": [
    "<div class=\"alert alert-info\" role=\"alert\"><span class=\"label label-success\">定义 $6.12$</span> 设 $X_1,X_2,\\dots,X_{n_1}$，$Y_1,Y_2,\\dots,Y_{n_2}$ 是来自正态总体 $N(\\mu_1,\\sigma_1^2)$ 和 $N(\\mu_2,\\sigma_2^2)$的样本，且两个样本相互独立，设 $\\bar{X}=\\dfrac{1}{n_1}\\sum\\limits^{n_1}_{i=1}X_i$ 和 $\\bar{Y}=\\dfrac{1}{n_2}\\sum\\limits^{n_2}_{i=1}Y_i$ 分别是这两个样本的均值，$S^2_1=\\dfrac{1}{n_1-1}\\sum\\limits^{n_1}_{i=1}(X_i-\\bar{X})^2$ 和 $S^2_2=\\dfrac{1}{n_2-1}\\sum\\limits^{n_2}_{i=1}(Y_i-\\bar{Y})^2$ 分别是这两个样本的方差，则有<br><br>$\\quad$$1.\\dfrac{S^2_1/S^2_2}{\\sigma^2_1/\\sigma^2_2}\\backsim F(n_1-1,n_2-1)$<br><br>$\\quad$$2.$ 当 $\\sigma^2_1=\\sigma^2_2=\\sigma^2$ 时 <br><br><center>$\\dfrac{(\\bar{X}-\\bar{Y})-(\\mu_1-\\mu_2)}{S_w\\sqrt{\\dfrac{1}{n_1}+\\dfrac{1}{n_2}}}\\backsim t(n_1+n_2-2)$</center><br>$\\quad$式中，$S^2_w=\\dfrac{(n_1-1)S^2_1+(n_2-1)S^2_2}{n_1+n_2-2}$</div>"
   ]
  },
  {
   "cell_type": "markdown",
   "id": "f45a66aa",
   "metadata": {},
   "source": [
    "&emsp;&emsp;根据 Fisher 引理，$\\dfrac{(n_1-1)S^2_1}{\\sigma^2_1}\\backsim\\chi^2(n_1-1)$，$\\dfrac{(n_2-1)S^2_2}{\\sigma^2_2}\\backsim\\chi^2(n_2-1)$，由于两个样本相互独立，所以 $S^2_1$ 和 $S^2_2$ 独立，根据 $F$ 分布的定义则有 <br><br>\n",
    "<center>$\\dfrac{\\sqrt{\\dfrac{(n_1-1)S^2_1}{\\sigma^2_1(n_1-1)}}}{\\sqrt{\\dfrac{(n_2-1)S^2_2}{\\sigma^2_2(n_2-1)}}}=\\dfrac{S^2_1/S^2_2}{\\sigma^2_1/\\sigma^2_2}\\backsim F(n_1-1,n_2-1)$</center>"
   ]
  },
  {
   "cell_type": "markdown",
   "id": "d82c087d",
   "metadata": {},
   "source": [
    "&emsp;&emsp;根据 Fisher 引理，$\\bar{X}-\\bar{Y}\\backsim N(\\mu_1-\\mu_2,\\dfrac{\\sigma^2}{n_1}+\\dfrac{\\sigma^2}{n_2})$，则 <br><br>\n",
    "<center>$U=\\dfrac{(\\bar{X}-\\bar{Y})-(\\mu_1-\\mu_2)}{\\sigma\\sqrt{\\dfrac{1}{n_1}+\\dfrac{1}{n_2}}}\\backsim N(0,1)$</center><br>\n",
    "&emsp;&emsp;因为 $\\dfrac{(n_1-1)S^2_1}{\\sigma^2_1}\\backsim\\chi^2(n_1-1)$，$\\dfrac{(n_2-1)S^2_2}{\\sigma^2_2}\\backsim\\chi^2(n_2-1)$，且它们相互独立，根据 $\\chi^2$ 分布的可加性有 <br><br>\n",
    "<center>$V=\\dfrac{(n_1-1)S^2_1}{\\sigma^2_1}+\\dfrac{(n_2-1)S^2_2}{\\sigma^2_2}\\backsim\\chi^2(n_1+n_2-2)$</center><br>\n",
    "&emsp;&emsp;根据 $t$ 分布的定义可以证明 $U$ 和 $V$ 相互独立 <br><br>\n",
    "<center>$\\dfrac{U}{\\sqrt{V/(n_1+n_2-2)}}=\\dfrac{(\\bar{X}-\\bar{Y})-(\\mu_1-\\mu_2)}{S_w\\sqrt{\\dfrac{1}{n_1}+\\dfrac{1}{n_2}}}\\backsim N(0,1)$</center>"
   ]
  },
  {
   "cell_type": "markdown",
   "id": "bd5bd2c4",
   "metadata": {},
   "source": [
    "<div class=\"alert alert-danger\" role=\"alert\"><span class=\"label label-warning\">例题</span> 设两个正态总体 $X,Y$ 的方差分别为 $\\sigma^2_1=12,\\sigma^2_2=18$，在总体 $X,Y$ 中分别抽取容量为 $n_1=61,n_2=31$ 的样本，且两个样本相互独立，样本方差分别为 $S^2_1,S^2_2$，求 $P(\\dfrac{S^2_1}{S^2_2}>1.16)$</div>\n",
    "\n",
    "&emsp;&emsp;根据定义 $6.12$ 可知 $\\dfrac{S^2_1/S^2_2}{\\sigma^2_1/\\sigma^2_2}=\\dfrac{S^2_1/S^2_2}{12/18}\\backsim F(60,30)$，因此 <br><br>\n",
    "<center>$P(\\dfrac{S^2_1}{S^2_2}>1.16)=P(\\dfrac{S^2_1/S^2_2}{\\sigma^2_1/\\sigma^2_2}>\\dfrac{1.16}{12/18})=P(\\dfrac{S^2_1/S^2_2}{\\sigma^2_1/\\sigma^2_2}>1.74)$</center><br>\n",
    "&emsp;&emsp;查表知 $F_{0.05}(60,30)=1.74$，根据上侧 $a$ 分位点的意义有 $P(\\dfrac{S^2_1}{S^2_2}>1.16)=0.05$"
   ]
  },
  {
   "cell_type": "markdown",
   "id": "82732834",
   "metadata": {},
   "source": [
    " "
   ]
  }
 ],
 "metadata": {
  "kernelspec": {
   "display_name": "Python 3",
   "language": "python",
   "name": "python3"
  },
  "language_info": {
   "codemirror_mode": {
    "name": "ipython",
    "version": 3
   },
   "file_extension": ".py",
   "mimetype": "text/x-python",
   "name": "python",
   "nbconvert_exporter": "python",
   "pygments_lexer": "ipython3",
   "version": "3.8.8"
  }
 },
 "nbformat": 4,
 "nbformat_minor": 5
}
